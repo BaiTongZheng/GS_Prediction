{
 "cells": [
  {
   "cell_type": "code",
   "execution_count": 18,
   "metadata": {},
   "outputs": [],
   "source": [
    "import pandas as pd\n",
    "import numpy as np\n",
    "import gc\n",
    "import time\n",
    "from pandas.core.common import SettingWithCopyWarning\n",
    "import warnings\n",
    "from pandas.io.json import json_normalize\n",
    "import json\n",
    "import os\n",
    "warnings.simplefilter('error', SettingWithCopyWarning)\n",
    "gc.enable()\n",
    "%matplotlib inline"
   ]
  },
  {
   "cell_type": "code",
   "execution_count": 25,
   "metadata": {},
   "outputs": [],
   "source": [
    "features = ['channelGrouping', 'date', 'fullVisitorId', 'visitId',\\\n",
    "       'visitNumber', 'visitStartTime', 'device_browser',\\\n",
    "       'device_deviceCategory', 'device_isMobile', 'device_operatingSystem',\\\n",
    "       'geoNetwork_city', 'geoNetwork_continent', 'geoNetwork_country',\\\n",
    "       'geoNetwork_metro', 'geoNetwork_networkDomain', 'geoNetwork_region',\\\n",
    "       'geoNetwork_subContinent', 'totals_bounces', 'totals_hits',\\\n",
    "       'totals_newVisits', 'totals_pageviews', 'totals_transactionRevenue',\\\n",
    "       'trafficSource_adContent', 'trafficSource_campaign',\\\n",
    "       'trafficSource_isTrueDirect', 'trafficSource_keyword',\\\n",
    "       'trafficSource_medium', 'trafficSource_referralPath',\\\n",
    "       'trafficSource_source','trafficSource_adwordsClickInfo.page',\\\n",
    "       'trafficSource_adwordsClickInfo.adNetworkType',\n",
    "       'trafficSource_adwordsClickInfo.isVideoAd',\n",
    "       'trafficSource_adwordsClickInfo.slot',\n",
    "           ]"
   ]
  },
  {
   "cell_type": "code",
   "execution_count": 26,
   "metadata": {},
   "outputs": [
    {
     "name": "stdout",
     "output_type": "stream",
     "text": [
      "Loaded train_v2.csv. Shape: (100000, 59)\n",
      "(100000, 33)\n",
      "Loaded train_v2.csv. Shape: (100000, 60)\n",
      "(200000, 33)\n",
      "Loaded train_v2.csv. Shape: (100000, 59)\n",
      "(300000, 33)\n",
      "Loaded train_v2.csv. Shape: (100000, 59)\n",
      "(400000, 33)\n",
      "Loaded train_v2.csv. Shape: (100000, 59)\n",
      "(500000, 33)\n",
      "Loaded train_v2.csv. Shape: (100000, 59)\n",
      "(600000, 33)\n",
      "Loaded train_v2.csv. Shape: (100000, 59)\n",
      "(700000, 33)\n",
      "Loaded train_v2.csv. Shape: (100000, 59)\n",
      "(800000, 33)\n",
      "Loaded train_v2.csv. Shape: (100000, 59)\n",
      "(900000, 33)\n",
      "Loaded train_v2.csv. Shape: (100000, 59)\n",
      "(1000000, 33)\n",
      "Loaded train_v2.csv. Shape: (100000, 59)\n",
      "(1100000, 33)\n",
      "Loaded train_v2.csv. Shape: (100000, 59)\n",
      "(1200000, 33)\n",
      "Loaded train_v2.csv. Shape: (100000, 59)\n",
      "(1300000, 33)\n",
      "Loaded train_v2.csv. Shape: (100000, 59)\n",
      "(1400000, 33)\n",
      "Loaded train_v2.csv. Shape: (100000, 59)\n",
      "(1500000, 33)\n",
      "Loaded train_v2.csv. Shape: (100000, 59)\n",
      "(1600000, 33)\n",
      "Loaded train_v2.csv. Shape: (100000, 59)\n",
      "(1700000, 33)\n",
      "Loaded train_v2.csv. Shape: (8337, 59)\n",
      "(1708337, 33)\n"
     ]
    },
    {
     "data": {
      "text/plain": [
       "(1708337, 33)"
      ]
     },
     "execution_count": 26,
     "metadata": {},
     "output_type": "execute_result"
    }
   ],
   "source": [
    "gc.enable()\n",
    "def load_df(csv_path='/home/baitong/pywork/RevenuePrediction/all (1)/train_v2.csv'):\n",
    "    JSON_COLUMNS = ['device', 'geoNetwork', 'totals', 'trafficSource']\n",
    "    ans = pd.DataFrame()\n",
    "    dfs = pd.read_csv(csv_path, sep=',',\n",
    "                     converters={column: json.loads for column in JSON_COLUMNS}, \n",
    "                     dtype={'fullVisitorId': 'str'}, # Important!!\n",
    "                    chunksize = 100000)\n",
    "    for df in dfs:\n",
    "        df.reset_index(drop = True,inplace = True)\n",
    "        for column in JSON_COLUMNS:\n",
    "            column_as_df = json_normalize(df[column])\n",
    "            column_as_df.columns = [f\"{column}_{subcolumn}\" for subcolumn in column_as_df.columns]\n",
    "            df = df.drop(column, axis=1).merge(column_as_df, right_index=True, left_index=True)\n",
    "\n",
    "        print(f\"Loaded {os.path.basename(csv_path)}. Shape: {df.shape}\")\n",
    "        use_df = df[features]\n",
    "        del df\n",
    "        gc.collect()\n",
    "        ans = pd.concat([ans, use_df], axis = 0).reset_index(drop = True)\n",
    "        print(ans.shape)\n",
    "    return ans\n",
    "\n",
    "train = load_df()\n",
    "train.shape"
   ]
  },
  {
   "cell_type": "code",
   "execution_count": 27,
   "metadata": {},
   "outputs": [],
   "source": [
    "path = '/home/baitong/pywork/RevenuePrediction/all (1)'"
   ]
  },
  {
   "cell_type": "code",
   "execution_count": 28,
   "metadata": {},
   "outputs": [
    {
     "name": "stdout",
     "output_type": "stream",
     "text": [
      "Loaded test_v2.csv. Shape: (100000, 59)\n",
      "(100000, 33)\n",
      "Loaded test_v2.csv. Shape: (100000, 59)\n",
      "(200000, 33)\n",
      "Loaded test_v2.csv. Shape: (100000, 59)\n",
      "(300000, 33)\n",
      "Loaded test_v2.csv. Shape: (100000, 59)\n",
      "(400000, 33)\n",
      "Loaded test_v2.csv. Shape: (1589, 59)\n",
      "(401589, 33)\n"
     ]
    }
   ],
   "source": [
    "test = load_df(\"/home/baitong/pywork/RevenuePrediction/all (1)/test_v2.csv\")"
   ]
  },
  {
   "cell_type": "code",
   "execution_count": null,
   "metadata": {},
   "outputs": [],
   "source": [
    "train.to_csv(path +\"/train.csv\", index=False)\n",
    "test.to_csv(path+\"/test.csv\", index = False)\n",
    "train.head()"
   ]
  },
  {
   "cell_type": "code",
   "execution_count": 11,
   "metadata": {},
   "outputs": [
    {
     "data": {
      "text/plain": [
       "((401589, 29), (1708337, 29))"
      ]
     },
     "execution_count": 11,
     "metadata": {},
     "output_type": "execute_result"
    }
   ],
   "source": [
    "test.shape,train.shape"
   ]
  },
  {
   "cell_type": "code",
   "execution_count": 16,
   "metadata": {},
   "outputs": [],
   "source": []
  },
  {
   "cell_type": "code",
   "execution_count": null,
   "metadata": {},
   "outputs": [],
   "source": []
  },
  {
   "cell_type": "code",
   "execution_count": null,
   "metadata": {},
   "outputs": [],
   "source": []
  }
 ],
 "metadata": {
  "kernelspec": {
   "display_name": "tensorflow",
   "language": "python",
   "name": "tensorflow"
  },
  "language_info": {
   "codemirror_mode": {
    "name": "ipython",
    "version": 3
   },
   "file_extension": ".py",
   "mimetype": "text/x-python",
   "name": "python",
   "nbconvert_exporter": "python",
   "pygments_lexer": "ipython3",
   "version": "3.6.4"
  }
 },
 "nbformat": 4,
 "nbformat_minor": 2
}
