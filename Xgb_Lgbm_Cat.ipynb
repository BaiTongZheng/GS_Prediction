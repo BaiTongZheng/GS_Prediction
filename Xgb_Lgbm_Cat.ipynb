{
 "cells": [
  {
   "cell_type": "code",
   "execution_count": 1,
   "metadata": {},
   "outputs": [],
   "source": [
    "import pandas as pd\n",
    "import numpy as np\n",
    "import matplotlib.pyplot as plt\n",
    "import seaborn as sns\n",
    "from sklearn.metrics import mean_squared_error\n",
    "import gc\n",
    "import time\n",
    "from pandas.core.common import SettingWithCopyWarning\n",
    "import warnings\n",
    "import lightgbm as lgb\n",
    "from sklearn.model_selection import GroupKFold\n",
    "from pandas.io.json import json_normalize\n",
    "import json\n",
    "import os\n",
    "warnings.simplefilter('error', SettingWithCopyWarning)\n",
    "gc.enable()\n",
    "%matplotlib inline"
   ]
  },
  {
   "cell_type": "code",
   "execution_count": 2,
   "metadata": {},
   "outputs": [],
   "source": [
    "def load_df(csv_path='/home/baitong/pywork/RevenuePrediction/all/train.csv', nrows=None):\n",
    "    JSON_COLUMNS = ['device', 'geoNetwork', 'totals', 'trafficSource']\n",
    "    \n",
    "    df = pd.read_csv(csv_path, \n",
    "                     converters={column: json.loads for column in JSON_COLUMNS}, \n",
    "                     dtype={'fullVisitorId': 'str'}, # Important!!\n",
    "                     nrows=nrows)\n",
    "#     print(df.head())\n",
    "    for column in JSON_COLUMNS:\n",
    "        column_as_df = json_normalize(df[column])\n",
    "        column_as_df.columns = [f\"{column}_{subcolumn}\" for subcolumn in column_as_df.columns]\n",
    "        df = df.drop(column, axis=1).merge(column_as_df, right_index=True, left_index=True)\n",
    "    print(f\"Loaded {os.path.basename(csv_path)}. Shape: {df.shape}\")\n",
    "    return df"
   ]
  },
  {
   "cell_type": "code",
   "execution_count": 3,
   "metadata": {},
   "outputs": [],
   "source": [
    "path = '/home/baitong/pywork/RevenuePrediction/'"
   ]
  },
  {
   "cell_type": "code",
   "execution_count": 4,
   "metadata": {},
   "outputs": [
    {
     "name": "stdout",
     "output_type": "stream",
     "text": [
      "Loaded train.csv. Shape: (903653, 55)\n",
      "Loaded test.csv. Shape: (804684, 53)\n",
      "CPU times: user 3min 49s, sys: 4.5 s, total: 3min 54s\n",
      "Wall time: 4min 3s\n"
     ]
    }
   ],
   "source": [
    "%%time\n",
    "train = load_df()\n",
    "test = load_df(\"/home/baitong/pywork/RevenuePrediction/all/test.csv\")\n",
    "train.shape, test.shape"
   ]
  },
  {
   "cell_type": "code",
   "execution_count": 5,
   "metadata": {},
   "outputs": [
    {
     "name": "stdout",
     "output_type": "stream",
     "text": [
      "['socialEngagementType', 'device_browserSize', 'device_browserVersion', 'device_flashVersion', 'device_language', 'device_mobileDeviceBranding', 'device_mobileDeviceInfo', 'device_mobileDeviceMarketingName', 'device_mobileDeviceModel', 'device_mobileInputSelector', 'device_operatingSystemVersion', 'device_screenColors', 'device_screenResolution', 'geoNetwork_cityId', 'geoNetwork_latitude', 'geoNetwork_longitude', 'geoNetwork_networkLocation', 'totals_visits', 'trafficSource_adwordsClickInfo.criteriaParameters']\n"
     ]
    }
   ],
   "source": [
    "#获取不变的常量列，模型无法在常量数据计学到东西，数据与处理时需要drop\n",
    "const_cols = [c for c in train.columns if train[c].nunique(dropna=False)==1 ]\n",
    "print(const_cols)"
   ]
  },
  {
   "cell_type": "code",
   "execution_count": 6,
   "metadata": {},
   "outputs": [],
   "source": [
    "train = train.drop(const_cols , axis=1)\n",
    "test = test.drop(const_cols, axis=1)\n"
   ]
  },
  {
   "cell_type": "code",
   "execution_count": 7,
   "metadata": {},
   "outputs": [
    {
     "data": {
      "text/plain": [
       "((903653, 35), (804684, 34))"
      ]
     },
     "execution_count": 7,
     "metadata": {},
     "output_type": "execute_result"
    }
   ],
   "source": [
    "####删除test中不存在的列\n",
    "train = train.drop([\"trafficSource_campaignCode\"], axis=1)\n",
    "train.shape, test.shape"
   ]
  },
  {
   "cell_type": "code",
   "execution_count": 8,
   "metadata": {},
   "outputs": [],
   "source": [
    "def get_folds(df=None, n_splits=5):\n",
    "    \"\"\"Returns dataframe indices corresponding to Visitors Group KFold\"\"\"\n",
    "    # Get sorted unique visitors\n",
    "    unique_vis = np.array(sorted(df['fullVisitorId'].unique()))\n",
    "\n",
    "    # Get folds\n",
    "    folds = GroupKFold(n_splits=n_splits)\n",
    "    fold_ids = []\n",
    "    ids = np.arange(df.shape[0])\n",
    "    for trn_vis, val_vis in folds.split(X=unique_vis, y=unique_vis, groups=unique_vis):\n",
    "        fold_ids.append(\n",
    "            [\n",
    "                ids[df['fullVisitorId'].isin(unique_vis[trn_vis])],\n",
    "                ids[df['fullVisitorId'].isin(unique_vis[val_vis])]\n",
    "            ]\n",
    "        )\n",
    "\n",
    "    return fold_ids"
   ]
  },
  {
   "cell_type": "code",
   "execution_count": 9,
   "metadata": {},
   "outputs": [],
   "source": [
    "train['totals_transactionRevenue'] = train['totals_transactionRevenue'].fillna(0).astype(\"float\")\n",
    "# del train['totals_transactionRevenue']\n",
    "\n",
    "# if 'totals_transactionRevenue' in test.columns:\n",
    "#     del test['totals_transactionRevenue']"
   ]
  },
  {
   "cell_type": "code",
   "execution_count": 10,
   "metadata": {},
   "outputs": [
    {
     "data": {
      "text/plain": [
       "((903653, 35), (804684, 34))"
      ]
     },
     "execution_count": 10,
     "metadata": {},
     "output_type": "execute_result"
    }
   ],
   "source": [
    "train.shape, test.shape"
   ]
  },
  {
   "cell_type": "code",
   "execution_count": 11,
   "metadata": {},
   "outputs": [],
   "source": [
    "train.drop(['trafficSource_adwordsClickInfo.adNetworkType','trafficSource_adwordsClickInfo.gclId',\n",
    "          'trafficSource_adwordsClickInfo.isVideoAd','trafficSource_adwordsClickInfo.page',\n",
    "           'trafficSource_adwordsClickInfo.slot'],axis =1,inplace = True)\n",
    "test.drop(['trafficSource_adwordsClickInfo.adNetworkType','trafficSource_adwordsClickInfo.gclId',\n",
    "          'trafficSource_adwordsClickInfo.isVideoAd','trafficSource_adwordsClickInfo.page',\n",
    "        'trafficSource_adwordsClickInfo.slot'],axis =1,inplace = True)"
   ]
  },
  {
   "cell_type": "code",
   "execution_count": 12,
   "metadata": {},
   "outputs": [
    {
     "data": {
      "text/plain": [
       "((903653, 30), (804684, 29))"
      ]
     },
     "execution_count": 12,
     "metadata": {},
     "output_type": "execute_result"
    }
   ],
   "source": [
    "train.shape, test.shape"
   ]
  },
  {
   "cell_type": "code",
   "execution_count": 13,
   "metadata": {},
   "outputs": [
    {
     "data": {
      "text/html": [
       "<div>\n",
       "<style scoped>\n",
       "    .dataframe tbody tr th:only-of-type {\n",
       "        vertical-align: middle;\n",
       "    }\n",
       "\n",
       "    .dataframe tbody tr th {\n",
       "        vertical-align: top;\n",
       "    }\n",
       "\n",
       "    .dataframe thead th {\n",
       "        text-align: right;\n",
       "    }\n",
       "</style>\n",
       "<table border=\"1\" class=\"dataframe\">\n",
       "  <thead>\n",
       "    <tr style=\"text-align: right;\">\n",
       "      <th></th>\n",
       "      <th>channelGrouping</th>\n",
       "      <th>date</th>\n",
       "      <th>fullVisitorId</th>\n",
       "      <th>sessionId</th>\n",
       "      <th>visitId</th>\n",
       "      <th>visitNumber</th>\n",
       "      <th>visitStartTime</th>\n",
       "      <th>device_browser</th>\n",
       "      <th>device_deviceCategory</th>\n",
       "      <th>device_isMobile</th>\n",
       "      <th>...</th>\n",
       "      <th>totals_newVisits</th>\n",
       "      <th>totals_pageviews</th>\n",
       "      <th>totals_transactionRevenue</th>\n",
       "      <th>trafficSource_adContent</th>\n",
       "      <th>trafficSource_campaign</th>\n",
       "      <th>trafficSource_isTrueDirect</th>\n",
       "      <th>trafficSource_keyword</th>\n",
       "      <th>trafficSource_medium</th>\n",
       "      <th>trafficSource_referralPath</th>\n",
       "      <th>trafficSource_source</th>\n",
       "    </tr>\n",
       "  </thead>\n",
       "  <tbody>\n",
       "    <tr>\n",
       "      <th>0</th>\n",
       "      <td>Organic Search</td>\n",
       "      <td>20160902</td>\n",
       "      <td>1131660440785968503</td>\n",
       "      <td>1131660440785968503_1472830385</td>\n",
       "      <td>1472830385</td>\n",
       "      <td>1</td>\n",
       "      <td>1472830385</td>\n",
       "      <td>Chrome</td>\n",
       "      <td>desktop</td>\n",
       "      <td>False</td>\n",
       "      <td>...</td>\n",
       "      <td>1</td>\n",
       "      <td>1</td>\n",
       "      <td>0.0</td>\n",
       "      <td>NaN</td>\n",
       "      <td>(not set)</td>\n",
       "      <td>NaN</td>\n",
       "      <td>(not provided)</td>\n",
       "      <td>organic</td>\n",
       "      <td>NaN</td>\n",
       "      <td>google</td>\n",
       "    </tr>\n",
       "    <tr>\n",
       "      <th>1</th>\n",
       "      <td>Organic Search</td>\n",
       "      <td>20160902</td>\n",
       "      <td>377306020877927890</td>\n",
       "      <td>377306020877927890_1472880147</td>\n",
       "      <td>1472880147</td>\n",
       "      <td>1</td>\n",
       "      <td>1472880147</td>\n",
       "      <td>Firefox</td>\n",
       "      <td>desktop</td>\n",
       "      <td>False</td>\n",
       "      <td>...</td>\n",
       "      <td>1</td>\n",
       "      <td>1</td>\n",
       "      <td>0.0</td>\n",
       "      <td>NaN</td>\n",
       "      <td>(not set)</td>\n",
       "      <td>NaN</td>\n",
       "      <td>(not provided)</td>\n",
       "      <td>organic</td>\n",
       "      <td>NaN</td>\n",
       "      <td>google</td>\n",
       "    </tr>\n",
       "    <tr>\n",
       "      <th>2</th>\n",
       "      <td>Organic Search</td>\n",
       "      <td>20160902</td>\n",
       "      <td>3895546263509774583</td>\n",
       "      <td>3895546263509774583_1472865386</td>\n",
       "      <td>1472865386</td>\n",
       "      <td>1</td>\n",
       "      <td>1472865386</td>\n",
       "      <td>Chrome</td>\n",
       "      <td>desktop</td>\n",
       "      <td>False</td>\n",
       "      <td>...</td>\n",
       "      <td>1</td>\n",
       "      <td>1</td>\n",
       "      <td>0.0</td>\n",
       "      <td>NaN</td>\n",
       "      <td>(not set)</td>\n",
       "      <td>NaN</td>\n",
       "      <td>(not provided)</td>\n",
       "      <td>organic</td>\n",
       "      <td>NaN</td>\n",
       "      <td>google</td>\n",
       "    </tr>\n",
       "    <tr>\n",
       "      <th>3</th>\n",
       "      <td>Organic Search</td>\n",
       "      <td>20160902</td>\n",
       "      <td>4763447161404445595</td>\n",
       "      <td>4763447161404445595_1472881213</td>\n",
       "      <td>1472881213</td>\n",
       "      <td>1</td>\n",
       "      <td>1472881213</td>\n",
       "      <td>UC Browser</td>\n",
       "      <td>desktop</td>\n",
       "      <td>False</td>\n",
       "      <td>...</td>\n",
       "      <td>1</td>\n",
       "      <td>1</td>\n",
       "      <td>0.0</td>\n",
       "      <td>NaN</td>\n",
       "      <td>(not set)</td>\n",
       "      <td>NaN</td>\n",
       "      <td>google + online</td>\n",
       "      <td>organic</td>\n",
       "      <td>NaN</td>\n",
       "      <td>google</td>\n",
       "    </tr>\n",
       "    <tr>\n",
       "      <th>4</th>\n",
       "      <td>Organic Search</td>\n",
       "      <td>20160902</td>\n",
       "      <td>27294437909732085</td>\n",
       "      <td>27294437909732085_1472822600</td>\n",
       "      <td>1472822600</td>\n",
       "      <td>2</td>\n",
       "      <td>1472822600</td>\n",
       "      <td>Chrome</td>\n",
       "      <td>mobile</td>\n",
       "      <td>True</td>\n",
       "      <td>...</td>\n",
       "      <td>NaN</td>\n",
       "      <td>1</td>\n",
       "      <td>0.0</td>\n",
       "      <td>NaN</td>\n",
       "      <td>(not set)</td>\n",
       "      <td>True</td>\n",
       "      <td>(not provided)</td>\n",
       "      <td>organic</td>\n",
       "      <td>NaN</td>\n",
       "      <td>google</td>\n",
       "    </tr>\n",
       "  </tbody>\n",
       "</table>\n",
       "<p>5 rows × 30 columns</p>\n",
       "</div>"
      ],
      "text/plain": [
       "  channelGrouping      date        fullVisitorId  \\\n",
       "0  Organic Search  20160902  1131660440785968503   \n",
       "1  Organic Search  20160902   377306020877927890   \n",
       "2  Organic Search  20160902  3895546263509774583   \n",
       "3  Organic Search  20160902  4763447161404445595   \n",
       "4  Organic Search  20160902    27294437909732085   \n",
       "\n",
       "                        sessionId     visitId  visitNumber  visitStartTime  \\\n",
       "0  1131660440785968503_1472830385  1472830385            1      1472830385   \n",
       "1   377306020877927890_1472880147  1472880147            1      1472880147   \n",
       "2  3895546263509774583_1472865386  1472865386            1      1472865386   \n",
       "3  4763447161404445595_1472881213  1472881213            1      1472881213   \n",
       "4    27294437909732085_1472822600  1472822600            2      1472822600   \n",
       "\n",
       "  device_browser device_deviceCategory  device_isMobile         ...           \\\n",
       "0         Chrome               desktop            False         ...            \n",
       "1        Firefox               desktop            False         ...            \n",
       "2         Chrome               desktop            False         ...            \n",
       "3     UC Browser               desktop            False         ...            \n",
       "4         Chrome                mobile             True         ...            \n",
       "\n",
       "  totals_newVisits totals_pageviews totals_transactionRevenue  \\\n",
       "0                1                1                       0.0   \n",
       "1                1                1                       0.0   \n",
       "2                1                1                       0.0   \n",
       "3                1                1                       0.0   \n",
       "4              NaN                1                       0.0   \n",
       "\n",
       "  trafficSource_adContent trafficSource_campaign trafficSource_isTrueDirect  \\\n",
       "0                     NaN              (not set)                        NaN   \n",
       "1                     NaN              (not set)                        NaN   \n",
       "2                     NaN              (not set)                        NaN   \n",
       "3                     NaN              (not set)                        NaN   \n",
       "4                     NaN              (not set)                       True   \n",
       "\n",
       "  trafficSource_keyword trafficSource_medium trafficSource_referralPath  \\\n",
       "0        (not provided)              organic                        NaN   \n",
       "1        (not provided)              organic                        NaN   \n",
       "2        (not provided)              organic                        NaN   \n",
       "3       google + online              organic                        NaN   \n",
       "4        (not provided)              organic                        NaN   \n",
       "\n",
       "  trafficSource_source  \n",
       "0               google  \n",
       "1               google  \n",
       "2               google  \n",
       "3               google  \n",
       "4               google  \n",
       "\n",
       "[5 rows x 30 columns]"
      ]
     },
     "execution_count": 13,
     "metadata": {},
     "output_type": "execute_result"
    }
   ],
   "source": [
    "train.head()"
   ]
  },
  {
   "cell_type": "code",
   "execution_count": 14,
   "metadata": {},
   "outputs": [],
   "source": [
    "train.visitStartTime = pd.to_datetime(train.visitStartTime, unit='s')\n",
    "test.visitStartTime = pd.to_datetime(test.visitStartTime, unit='s')\n",
    "train[\"date\"] = train.visitStartTime\n",
    "test[\"date\"] = test.visitStartTime"
   ]
  },
  {
   "cell_type": "code",
   "execution_count": 15,
   "metadata": {},
   "outputs": [
    {
     "data": {
      "text/plain": [
       "Index(['channelGrouping', 'date', 'fullVisitorId', 'sessionId', 'visitId',\n",
       "       'visitNumber', 'visitStartTime', 'device_browser',\n",
       "       'device_deviceCategory', 'device_isMobile', 'device_operatingSystem',\n",
       "       'geoNetwork_city', 'geoNetwork_continent', 'geoNetwork_country',\n",
       "       'geoNetwork_metro', 'geoNetwork_networkDomain', 'geoNetwork_region',\n",
       "       'geoNetwork_subContinent', 'totals_bounces', 'totals_hits',\n",
       "       'totals_newVisits', 'totals_pageviews', 'totals_transactionRevenue',\n",
       "       'trafficSource_adContent', 'trafficSource_campaign',\n",
       "       'trafficSource_isTrueDirect', 'trafficSource_keyword',\n",
       "       'trafficSource_medium', 'trafficSource_referralPath',\n",
       "       'trafficSource_source'],\n",
       "      dtype='object')"
      ]
     },
     "execution_count": 15,
     "metadata": {},
     "output_type": "execute_result"
    }
   ],
   "source": [
    "train.columns"
   ]
  },
  {
   "cell_type": "code",
   "execution_count": 16,
   "metadata": {},
   "outputs": [],
   "source": [
    "def clearRare(columnname, limit = 1000):\n",
    "    # you may search for rare categories in train, train&test, or just test\n",
    "    #vc = pd.concat([train[columnname], test[columnname]], sort=False).value_counts()\n",
    "    vc = test[columnname].value_counts()\n",
    "    \n",
    "    common = vc > limit\n",
    "    common = set(common.index[common].values)\n",
    "    print(\"Set\", sum(vc <= limit), columnname, \"categories to 'other';\", end=\" \")\n",
    "    \n",
    "    train.loc[train[columnname].map(lambda x: x not in common), columnname] = 'other'\n",
    "    test.loc[test[columnname].map(lambda x: x not in common), columnname] = 'other'\n",
    "    print(\"now there are\", train[columnname].nunique(), \"categories in train\")"
   ]
  },
  {
   "cell_type": "code",
   "execution_count": 17,
   "metadata": {},
   "outputs": [],
   "source": [
    "# train.info()"
   ]
  },
  {
   "cell_type": "code",
   "execution_count": 18,
   "metadata": {
    "scrolled": true
   },
   "outputs": [],
   "source": [
    "def dealMissingData(df):\n",
    "    for c in df.columns:\n",
    "        num_missing = df[c].isnull().sum() \n",
    "        if num_missing != 0:\n",
    "            print(\"missing col is  \",c,'   missing num is',num_missing)\n",
    "    num_feature = [\"totals_bounces\",\"totals_newVisits\"]\n",
    "    cat_feature = ['trafficSource_adContent','trafficSource_adContent',\n",
    "                  'trafficSource_campaign','trafficSource_isTrueDirect',\n",
    "                  'trafficSource_keyword','trafficSource_referralPath']\n",
    "    for col in num_feature:\n",
    "        df[col].fillna(0,inplace=True)\n",
    "    for col in cat_feature:\n",
    "        df[col].fillna(-999,inplace=True)\n",
    "    for c in df.columns:\n",
    "        num_missing = df[c].isnull().sum() \n",
    "        if num_missing != 0:\n",
    "            print(\"missing col is  \",c,'   missing num is',num_missing)\n",
    "    return df"
   ]
  },
  {
   "cell_type": "code",
   "execution_count": 19,
   "metadata": {},
   "outputs": [
    {
     "name": "stdout",
     "output_type": "stream",
     "text": [
      "missing col is   totals_bounces    missing num is 453023\n",
      "missing col is   totals_newVisits    missing num is 200593\n",
      "missing col is   totals_pageviews    missing num is 100\n",
      "missing col is   trafficSource_adContent    missing num is 892707\n",
      "missing col is   trafficSource_isTrueDirect    missing num is 629648\n",
      "missing col is   trafficSource_keyword    missing num is 502929\n",
      "missing col is   trafficSource_referralPath    missing num is 572712\n",
      "missing col is   totals_pageviews    missing num is 100\n",
      "missing col is   totals_bounces    missing num is 383736\n",
      "missing col is   totals_newVisits    missing num is 200314\n",
      "missing col is   totals_pageviews    missing num is 139\n",
      "missing col is   trafficSource_adContent    missing num is 750893\n",
      "missing col is   trafficSource_isTrueDirect    missing num is 544171\n",
      "missing col is   trafficSource_keyword    missing num is 391032\n",
      "missing col is   trafficSource_referralPath    missing num is 569361\n",
      "missing col is   totals_pageviews    missing num is 139\n"
     ]
    }
   ],
   "source": [
    "train = dealMissingData(train)\n",
    "test = dealMissingData(test)"
   ]
  },
  {
   "cell_type": "code",
   "execution_count": 20,
   "metadata": {},
   "outputs": [
    {
     "name": "stdout",
     "output_type": "stream",
     "text": [
      "Set 98 device_browser categories to 'other'; now there are 11 categories in train\n",
      "Set 15 device_operatingSystem categories to 'other'; now there are 8 categories in train\n",
      "Set 160 geoNetwork_country categories to 'other'; now there are 60 categories in train\n",
      "Set 656 geoNetwork_city categories to 'other'; now there are 77 categories in train\n",
      "Set 86 geoNetwork_metro categories to 'other'; now there are 24 categories in train\n",
      "Set 25689 geoNetwork_networkDomain categories to 'other'; now there are 62 categories in train\n",
      "Set 314 geoNetwork_region categories to 'other'; now there are 62 categories in train\n",
      "Set 5 geoNetwork_subContinent categories to 'other'; now there are 19 categories in train\n",
      "Set 46 trafficSource_adContent categories to 'other'; now there are 4 categories in train\n",
      "Set 23 trafficSource_campaign categories to 'other'; now there are 5 categories in train\n",
      "Set 2409 trafficSource_keyword categories to 'other'; now there are 8 categories in train\n",
      "Set 1 trafficSource_medium categories to 'other'; now there are 7 categories in train\n",
      "Set 2173 trafficSource_referralPath categories to 'other'; now there are 17 categories in train\n",
      "Set 303 trafficSource_source categories to 'other'; now there are 22 categories in train\n"
     ]
    }
   ],
   "source": [
    "clearRare(\"device_browser\")\n",
    "clearRare(\"device_operatingSystem\")\n",
    "clearRare(\"geoNetwork_country\")\n",
    "clearRare(\"geoNetwork_city\")\n",
    "clearRare(\"geoNetwork_metro\")\n",
    "clearRare(\"geoNetwork_networkDomain\")\n",
    "clearRare(\"geoNetwork_region\")\n",
    "clearRare(\"geoNetwork_subContinent\")\n",
    "clearRare(\"trafficSource_adContent\")\n",
    "clearRare(\"trafficSource_campaign\")\n",
    "clearRare(\"trafficSource_keyword\")\n",
    "clearRare(\"trafficSource_medium\")\n",
    "clearRare(\"trafficSource_referralPath\")\n",
    "clearRare(\"trafficSource_source\")"
   ]
  },
  {
   "cell_type": "code",
   "execution_count": 21,
   "metadata": {},
   "outputs": [],
   "source": [
    "train.set_index(\"visitStartTime\", inplace=True)\n",
    "test.set_index(\"visitStartTime\", inplace=True)\n",
    "train.sort_index(inplace=True)\n",
    "test.sort_index(inplace=True)"
   ]
  },
  {
   "cell_type": "code",
   "execution_count": 22,
   "metadata": {},
   "outputs": [],
   "source": [
    "###填补totals.pageviews值\n",
    "predmis = train[train['totals_pageviews'].isnull()]['totals_hits'].values\n",
    "train.loc[(train['totals_pageviews'].isnull()),'totals_pageviews' ] = predmis\n",
    "\n",
    "predmis = test[test['totals_pageviews'].isnull()]['totals_hits'].values\n",
    "test.loc[(test['totals_pageviews'].isnull()),'totals_pageviews' ] = predmis\n"
   ]
  },
  {
   "cell_type": "code",
   "execution_count": 23,
   "metadata": {},
   "outputs": [],
   "source": [
    "for df in [train, test]:\n",
    "    df['weekday'] = df['date'].dt.dayofweek.astype(object)\n",
    "    df['time'] = df['date'].dt.second + df['date'].dt.minute*60 + df['date'].dt.hour*3600\n",
    "    #df['month'] = df['date'].dt.month   # it must not be included in features during learning!\n",
    "    df['day'] = df['date'].dt.date       # it must not be included in features during learning!"
   ]
  },
  {
   "cell_type": "code",
   "execution_count": 24,
   "metadata": {},
   "outputs": [],
   "source": [
    "# train['weekday'].value_counts()"
   ]
  },
  {
   "cell_type": "code",
   "execution_count": 25,
   "metadata": {},
   "outputs": [
    {
     "name": "stderr",
     "output_type": "stream",
     "text": [
      "/home/baitong/tensorflow/lib/python3.6/site-packages/ipykernel_launcher.py:1: FutureWarning: Sorting because non-concatenation axis is not aligned. A future version\n",
      "of pandas will change to not sort by default.\n",
      "\n",
      "To accept the future behavior, pass 'sort=False'.\n",
      "\n",
      "To retain the current behavior and silence the warning, pass 'sort=True'.\n",
      "\n",
      "  \"\"\"Entry point for launching an IPython kernel.\n"
     ]
    }
   ],
   "source": [
    "df = pd.concat([train, test])\n",
    "df.sort_values(['fullVisitorId', 'date'], ascending=True, inplace=True)\n",
    "df['prev_session'] = (df['date'] - df[['fullVisitorId', 'date']].groupby('fullVisitorId')['date'].shift(1)).astype(np.int64) // 1e9 // 60 // 60\n",
    "df['next_session'] = (df['date'] - df[['fullVisitorId', 'date']].groupby('fullVisitorId')['date'].shift(-1)).astype(np.int64) // 1e9 // 60 // 60\n",
    "df.sort_index(inplace=True)\n",
    "\n",
    "train = df[:len(train)]\n",
    "test = df[len(train):]"
   ]
  },
  {
   "cell_type": "code",
   "execution_count": 26,
   "metadata": {},
   "outputs": [],
   "source": [
    "for df in [train, test]:\n",
    "    df['source_country'] = df['trafficSource_source'] + '_' + df['geoNetwork_country']\n",
    "    df['campaign_medium'] = df['trafficSource_campaign'] + '_' + df['trafficSource_medium']\n",
    "    df['browser_category'] = df['device_browser'] + '_' + df['device_deviceCategory']\n",
    "    df['browser_os'] = df['device_browser'] + '_' + df['device_operatingSystem']"
   ]
  },
  {
   "cell_type": "code",
   "execution_count": 27,
   "metadata": {},
   "outputs": [],
   "source": [
    "for df in [train, test]:\n",
    "    df['device_deviceCategory_channelGrouping'] = df['device_deviceCategory'] + \"_\" + df['channelGrouping']\n",
    "    df['channelGrouping_browser'] = df['device_browser'] + \"_\" + df['channelGrouping']\n",
    "    df['channelGrouping_OS'] = df['device_operatingSystem'] + \"_\" + df['channelGrouping']\n",
    "    \n",
    "    for i in ['geoNetwork_city', 'geoNetwork_continent', 'geoNetwork_country','geoNetwork_metro', 'geoNetwork_networkDomain', 'geoNetwork_region','geoNetwork_subContinent']:\n",
    "        for j in ['device_browser','device_deviceCategory', 'device_operatingSystem', 'trafficSource_source']:\n",
    "            df[i + \"_\" + j] = df[i] + \"_\" + df[j]\n",
    "    \n",
    "    df['content_source'] = df['trafficSource_adContent'].astype(str) + \"_\" + df['source_country']\n",
    "    df['medium_source'] = df['trafficSource_medium'] + \"_\" + df['source_country']"
   ]
  },
  {
   "cell_type": "code",
   "execution_count": 28,
   "metadata": {},
   "outputs": [],
   "source": [
    "train['totals_hits'] = train['totals_hits'].astype(\"float\")\n",
    "test['totals_hits'] = test['totals_hits'].astype(\"float\")\n",
    "train['totals_pageviews'] = train['totals_pageviews'].astype(\"float\")\n",
    "test['totals_pageviews'] = test['totals_pageviews'].astype(\"float\")\n"
   ]
  },
  {
   "cell_type": "code",
   "execution_count": 29,
   "metadata": {},
   "outputs": [],
   "source": [
    "for feature in [\"totals_hits\", \"totals_pageviews\"]:\n",
    "    info = pd.concat([train, test], sort=False).groupby(\"fullVisitorId\")[feature].mean()\n",
    "    train[\"usermean_\" + feature] = train.fullVisitorId.map(info)\n",
    "    test[\"usermean_\" + feature] = test.fullVisitorId.map(info)\n",
    "    \n",
    "for feature in [\"visitNumber\"]:\n",
    "    info = pd.concat([train, test], sort=False).groupby(\"fullVisitorId\")[feature].max()\n",
    "    train[\"usermax_\" + feature] = train.fullVisitorId.map(info)\n",
    "    test[\"usermax_\" + feature] = test.fullVisitorId.map(info)"
   ]
  },
  {
   "cell_type": "code",
   "execution_count": 30,
   "metadata": {},
   "outputs": [
    {
     "name": "stdout",
     "output_type": "stream",
     "text": [
      "cat_cols:  ['channelGrouping', 'device_browser', 'device_deviceCategory', 'device_operatingSystem', 'geoNetwork_city', 'geoNetwork_continent', 'geoNetwork_country', 'geoNetwork_metro', 'geoNetwork_networkDomain', 'geoNetwork_region', 'geoNetwork_subContinent', 'totals_bounces', 'totals_newVisits', 'trafficSource_adContent', 'trafficSource_campaign', 'trafficSource_isTrueDirect', 'trafficSource_keyword', 'trafficSource_medium', 'trafficSource_referralPath', 'trafficSource_source', 'weekday', 'source_country', 'campaign_medium', 'browser_category', 'browser_os', 'device_deviceCategory_channelGrouping', 'channelGrouping_browser', 'channelGrouping_OS', 'geoNetwork_city_device_browser', 'geoNetwork_city_device_deviceCategory', 'geoNetwork_city_device_operatingSystem', 'geoNetwork_city_trafficSource_source', 'geoNetwork_continent_device_browser', 'geoNetwork_continent_device_deviceCategory', 'geoNetwork_continent_device_operatingSystem', 'geoNetwork_continent_trafficSource_source', 'geoNetwork_country_device_browser', 'geoNetwork_country_device_deviceCategory', 'geoNetwork_country_device_operatingSystem', 'geoNetwork_country_trafficSource_source', 'geoNetwork_metro_device_browser', 'geoNetwork_metro_device_deviceCategory', 'geoNetwork_metro_device_operatingSystem', 'geoNetwork_metro_trafficSource_source', 'geoNetwork_networkDomain_device_browser', 'geoNetwork_networkDomain_device_deviceCategory', 'geoNetwork_networkDomain_device_operatingSystem', 'geoNetwork_networkDomain_trafficSource_source', 'geoNetwork_region_device_browser', 'geoNetwork_region_device_deviceCategory', 'geoNetwork_region_device_operatingSystem', 'geoNetwork_region_trafficSource_source', 'geoNetwork_subContinent_device_browser', 'geoNetwork_subContinent_device_deviceCategory', 'geoNetwork_subContinent_device_operatingSystem', 'geoNetwork_subContinent_trafficSource_source', 'content_source', 'medium_source']\n",
      "real_cols:  ['device_isMobile', 'time', 'totals_hits', 'totals_pageviews', 'visitNumber', 'prev_session', 'next_session', 'usermean_totals_hits', 'usermean_totals_pageviews', 'usermax_visitNumber']\n"
     ]
    }
   ],
   "source": [
    "excluded = ['date', 'fullVisitorId', 'sessionId', 'totals_transactionRevenue', 'visitId', 'visitStartTime', \n",
    "            'month', 'day', 'help']\n",
    "\n",
    "cat_cols = [f for f in train.columns if (train[f].dtype == 'object' and f not in excluded)]\n",
    "real_cols = [f for f in train.columns if (not f in cat_cols and f not in excluded)]\n",
    "print(\"cat_cols: \",cat_cols)\n",
    "print(\"real_cols: \",real_cols)"
   ]
  },
  {
   "cell_type": "code",
   "execution_count": 31,
   "metadata": {},
   "outputs": [
    {
     "data": {
      "text/plain": [
       "channelGrouping                                       8\n",
       "device_browser                                       11\n",
       "device_deviceCategory                                 3\n",
       "device_operatingSystem                                8\n",
       "geoNetwork_city                                      77\n",
       "geoNetwork_continent                                  6\n",
       "geoNetwork_country                                   60\n",
       "geoNetwork_metro                                     24\n",
       "geoNetwork_networkDomain                             62\n",
       "geoNetwork_region                                    62\n",
       "geoNetwork_subContinent                              19\n",
       "totals_bounces                                        2\n",
       "totals_newVisits                                      2\n",
       "trafficSource_adContent                               4\n",
       "trafficSource_campaign                                5\n",
       "trafficSource_isTrueDirect                            2\n",
       "trafficSource_keyword                                 8\n",
       "trafficSource_medium                                  7\n",
       "trafficSource_referralPath                           17\n",
       "trafficSource_source                                 22\n",
       "weekday                                               7\n",
       "source_country                                      952\n",
       "campaign_medium                                      12\n",
       "browser_category                                     32\n",
       "browser_os                                           49\n",
       "device_deviceCategory_channelGrouping                24\n",
       "channelGrouping_browser                              81\n",
       "channelGrouping_OS                                   62\n",
       "geoNetwork_city_device_browser                      723\n",
       "geoNetwork_city_device_deviceCategory               230\n",
       "geoNetwork_city_device_operatingSystem              547\n",
       "geoNetwork_city_trafficSource_source               1216\n",
       "geoNetwork_continent_device_browser                  66\n",
       "geoNetwork_continent_device_deviceCategory           18\n",
       "geoNetwork_continent_device_operatingSystem          48\n",
       "geoNetwork_continent_trafficSource_source           117\n",
       "geoNetwork_country_device_browser                   633\n",
       "geoNetwork_country_device_deviceCategory            180\n",
       "geoNetwork_country_device_operatingSystem           476\n",
       "geoNetwork_country_trafficSource_source             952\n",
       "geoNetwork_metro_device_browser                     227\n",
       "geoNetwork_metro_device_deviceCategory               72\n",
       "geoNetwork_metro_device_operatingSystem             170\n",
       "geoNetwork_metro_trafficSource_source               430\n",
       "geoNetwork_networkDomain_device_browser             598\n",
       "geoNetwork_networkDomain_device_deviceCategory      185\n",
       "geoNetwork_networkDomain_device_operatingSystem     474\n",
       "geoNetwork_networkDomain_trafficSource_source       935\n",
       "geoNetwork_region_device_browser                    607\n",
       "geoNetwork_region_device_deviceCategory             185\n",
       "geoNetwork_region_device_operatingSystem            450\n",
       "geoNetwork_region_trafficSource_source              965\n",
       "geoNetwork_subContinent_device_browser              209\n",
       "geoNetwork_subContinent_device_deviceCategory        57\n",
       "geoNetwork_subContinent_device_operatingSystem      152\n",
       "geoNetwork_subContinent_trafficSource_source        333\n",
       "content_source                                     1106\n",
       "medium_source                                      1086\n",
       "dtype: int64"
      ]
     },
     "execution_count": 31,
     "metadata": {},
     "output_type": "execute_result"
    }
   ],
   "source": [
    "train[cat_cols].nunique()"
   ]
  },
  {
   "cell_type": "code",
   "execution_count": 32,
   "metadata": {},
   "outputs": [],
   "source": [
    "from sklearn.preprocessing import LabelEncoder\n",
    "for col in cat_cols:\n",
    "    lbl = LabelEncoder()\n",
    "    lbl.fit(list(train[col].values.astype('str')) + list(test[col].values.astype('str')))\n",
    "    train[col] = lbl.transform(list(train[col].values.astype('str')))\n",
    "    test[col] = lbl.transform(list(test[col].values.astype('str')))"
   ]
  },
  {
   "cell_type": "code",
   "execution_count": 33,
   "metadata": {},
   "outputs": [],
   "source": [
    "for col in real_cols:\n",
    "    train[col] = train[col].astype(float)\n",
    "    test[col] = test[col].astype(float)"
   ]
  },
  {
   "cell_type": "code",
   "execution_count": 34,
   "metadata": {},
   "outputs": [],
   "source": [
    "y_reg = train['totals_transactionRevenue']"
   ]
  },
  {
   "cell_type": "code",
   "execution_count": 35,
   "metadata": {},
   "outputs": [
    {
     "name": "stdout",
     "output_type": "stream",
     "text": [
      "Training until validation scores don't improve for 50 rounds.\n",
      "[100]\tvalid_0's l2: 2.68753\tvalid_0's rmse: 1.63937\n",
      "[200]\tvalid_0's l2: 2.63152\tvalid_0's rmse: 1.6222\n",
      "[300]\tvalid_0's l2: 2.61737\tvalid_0's rmse: 1.61783\n",
      "[400]\tvalid_0's l2: 2.60698\tvalid_0's rmse: 1.61461\n",
      "[500]\tvalid_0's l2: 2.60261\tvalid_0's rmse: 1.61326\n",
      "[600]\tvalid_0's l2: 2.6003\tvalid_0's rmse: 1.61254\n",
      "[700]\tvalid_0's l2: 2.59707\tvalid_0's rmse: 1.61154\n",
      "Early stopping, best iteration is:\n",
      "[713]\tvalid_0's l2: 2.59644\tvalid_0's rmse: 1.61135\n",
      "Training until validation scores don't improve for 50 rounds.\n",
      "[100]\tvalid_0's l2: 2.61091\tvalid_0's rmse: 1.61583\n",
      "[200]\tvalid_0's l2: 2.5661\tvalid_0's rmse: 1.60191\n",
      "[300]\tvalid_0's l2: 2.55197\tvalid_0's rmse: 1.59749\n",
      "[400]\tvalid_0's l2: 2.5423\tvalid_0's rmse: 1.59446\n",
      "[500]\tvalid_0's l2: 2.5377\tvalid_0's rmse: 1.59302\n",
      "Early stopping, best iteration is:\n",
      "[488]\tvalid_0's l2: 2.53697\tvalid_0's rmse: 1.59279\n",
      "Training until validation scores don't improve for 50 rounds.\n",
      "[100]\tvalid_0's l2: 2.62921\tvalid_0's rmse: 1.62149\n",
      "[200]\tvalid_0's l2: 2.57313\tvalid_0's rmse: 1.6041\n",
      "[300]\tvalid_0's l2: 2.5592\tvalid_0's rmse: 1.59975\n",
      "[400]\tvalid_0's l2: 2.54915\tvalid_0's rmse: 1.59661\n",
      "[500]\tvalid_0's l2: 2.54633\tvalid_0's rmse: 1.59572\n",
      "[600]\tvalid_0's l2: 2.54262\tvalid_0's rmse: 1.59456\n",
      "[700]\tvalid_0's l2: 2.5425\tvalid_0's rmse: 1.59452\n",
      "Early stopping, best iteration is:\n",
      "[650]\tvalid_0's l2: 2.5407\tvalid_0's rmse: 1.59396\n",
      "Training until validation scores don't improve for 50 rounds.\n",
      "[100]\tvalid_0's l2: 2.59784\tvalid_0's rmse: 1.61178\n",
      "[200]\tvalid_0's l2: 2.54485\tvalid_0's rmse: 1.59526\n",
      "[300]\tvalid_0's l2: 2.53258\tvalid_0's rmse: 1.59141\n",
      "[400]\tvalid_0's l2: 2.52427\tvalid_0's rmse: 1.58879\n",
      "[500]\tvalid_0's l2: 2.52145\tvalid_0's rmse: 1.58791\n",
      "[600]\tvalid_0's l2: 2.51888\tvalid_0's rmse: 1.5871\n",
      "[700]\tvalid_0's l2: 2.51464\tvalid_0's rmse: 1.58576\n",
      "[800]\tvalid_0's l2: 2.51319\tvalid_0's rmse: 1.5853\n",
      "Early stopping, best iteration is:\n",
      "[801]\tvalid_0's l2: 2.51306\tvalid_0's rmse: 1.58526\n",
      "Training until validation scores don't improve for 50 rounds.\n",
      "[100]\tvalid_0's l2: 2.70456\tvalid_0's rmse: 1.64455\n",
      "[200]\tvalid_0's l2: 2.65104\tvalid_0's rmse: 1.6282\n",
      "[300]\tvalid_0's l2: 2.63776\tvalid_0's rmse: 1.62412\n",
      "[400]\tvalid_0's l2: 2.62695\tvalid_0's rmse: 1.62079\n",
      "[500]\tvalid_0's l2: 2.62217\tvalid_0's rmse: 1.61931\n",
      "[600]\tvalid_0's l2: 2.6188\tvalid_0's rmse: 1.61827\n",
      "[700]\tvalid_0's l2: 2.6166\tvalid_0's rmse: 1.61759\n",
      "[800]\tvalid_0's l2: 2.61616\tvalid_0's rmse: 1.61745\n",
      "Early stopping, best iteration is:\n",
      "[772]\tvalid_0's l2: 2.6159\tvalid_0's rmse: 1.61737\n"
     ]
    },
    {
     "data": {
      "text/plain": [
       "1.599515600971078"
      ]
     },
     "execution_count": 35,
     "metadata": {},
     "output_type": "execute_result"
    }
   ],
   "source": [
    "folds = get_folds(df=train, n_splits=5)\n",
    "\n",
    "train_features = real_cols + cat_cols\n",
    "importances = pd.DataFrame()\n",
    "oof_reg_preds = np.zeros(train.shape[0])\n",
    "sub_reg_preds = np.zeros(test.shape[0])\n",
    "for fold_, (trn_, val_) in enumerate(folds):\n",
    "    trn_x, trn_y = train[train_features].iloc[trn_], y_reg.iloc[trn_]\n",
    "    val_x, val_y = train[train_features].iloc[val_], y_reg.iloc[val_]\n",
    "    \n",
    "    reg = lgb.LGBMRegressor(\n",
    "        num_leaves=31,\n",
    "        learning_rate=0.03,\n",
    "        n_estimators=1000,\n",
    "        subsample=.9,\n",
    "        colsample_bytree=.9,\n",
    "        random_state=1\n",
    "    )\n",
    "    reg.fit(\n",
    "        trn_x,np.log1p(trn_y),\n",
    "        eval_set=[(val_x, np.log1p(val_y))],\n",
    "        early_stopping_rounds=50,\n",
    "        verbose=100,\n",
    "        eval_metric='rmse'\n",
    "    )\n",
    "    imp_df = pd.DataFrame()\n",
    "    imp_df['feature'] = train_features\n",
    "    imp_df['gain'] = reg.booster_.feature_importance(importance_type='gain')\n",
    "    \n",
    "    imp_df['fold'] = fold_ + 1\n",
    "    importances = pd.concat([importances, imp_df], axis=0, sort=False)\n",
    "    \n",
    "    oof_reg_preds[val_] = reg.predict(val_x, num_iteration=reg.best_iteration_)\n",
    "    oof_reg_preds[oof_reg_preds < 0] = 0\n",
    "    _preds = reg.predict(test[train_features], num_iteration=reg.best_iteration_)\n",
    "    _preds[_preds < 0] = 0\n",
    "    sub_reg_preds += np.expm1(_preds) / len(folds)\n",
    "    \n",
    "mean_squared_error(np.log1p(y_reg), oof_reg_preds) ** .5"
   ]
  },
  {
   "cell_type": "code",
   "execution_count": 36,
   "metadata": {},
   "outputs": [
    {
     "data": {
      "text/plain": [
       "(903653, 903653)"
      ]
     },
     "execution_count": 36,
     "metadata": {},
     "output_type": "execute_result"
    }
   ],
   "source": [
    "len(oof_reg_preds),len(train)"
   ]
  },
  {
   "cell_type": "code",
   "execution_count": 37,
   "metadata": {},
   "outputs": [
    {
     "data": {
      "text/plain": [
       "(804684, 804684)"
      ]
     },
     "execution_count": 37,
     "metadata": {},
     "output_type": "execute_result"
    }
   ],
   "source": [
    "len(sub_reg_preds),len(test)"
   ]
  },
  {
   "cell_type": "code",
   "execution_count": 38,
   "metadata": {},
   "outputs": [],
   "source": [
    "train['predictions'] = np.expm1(oof_reg_preds)\n",
    "test['predictions'] = sub_reg_preds"
   ]
  },
  {
   "cell_type": "code",
   "execution_count": 39,
   "metadata": {},
   "outputs": [],
   "source": [
    "##计算单个用户会话总数\n",
    "train[\"sess_count\"]=1;\n",
    "train_sess_num = train[['fullVisitorId', 'sess_count']].groupby('fullVisitorId').sum()\n",
    "test[\"sess_count\"]=1;\n",
    "test_sess_num = test[['fullVisitorId', 'sess_count']].groupby('fullVisitorId').sum()"
   ]
  },
  {
   "cell_type": "code",
   "execution_count": 40,
   "metadata": {},
   "outputs": [],
   "source": [
    "###将大于20次的会话数量限制为20 （大于20次数据过少）\n",
    "train_sess_num['sess_count']=train_sess_num['sess_count'].apply(lambda x: 20 if x>20 else x)\n",
    "test_sess_num['sess_count']=test_sess_num['sess_count'].apply(lambda x: 20 if x>20 else x)"
   ]
  },
  {
   "cell_type": "code",
   "execution_count": 41,
   "metadata": {},
   "outputs": [],
   "source": [
    "# train_sess_num['sess_count'].value_counts()"
   ]
  },
  {
   "cell_type": "code",
   "execution_count": 42,
   "metadata": {},
   "outputs": [],
   "source": [
    "####这里采用均值合并，对于类型特征来说并不合理\n",
    "train_agg = train[train_features+['fullVisitorId']].groupby('fullVisitorId').mean()"
   ]
  },
  {
   "cell_type": "code",
   "execution_count": 43,
   "metadata": {},
   "outputs": [
    {
     "data": {
      "text/plain": [
       "714167"
      ]
     },
     "execution_count": 43,
     "metadata": {},
     "output_type": "execute_result"
    }
   ],
   "source": [
    "train_pred = train[['fullVisitorId', 'predictions']].groupby('fullVisitorId').sum()\n",
    "len(train_pred)"
   ]
  },
  {
   "cell_type": "code",
   "execution_count": 44,
   "metadata": {},
   "outputs": [],
   "source": [
    "train_fulldata = pd.concat([train_agg, train_pred,train_sess_num], axis=1).astype(float)"
   ]
  },
  {
   "cell_type": "code",
   "execution_count": 45,
   "metadata": {},
   "outputs": [],
   "source": [
    "test_agg = test[train_features+['fullVisitorId']].groupby('fullVisitorId').mean()\n",
    "test_pred = test[['fullVisitorId', 'predictions']].groupby('fullVisitorId').sum()\n",
    "test_fulldata = pd.concat([test_agg, test_pred,test_sess_num], axis=1).astype(float)"
   ]
  },
  {
   "cell_type": "code",
   "execution_count": 46,
   "metadata": {},
   "outputs": [
    {
     "data": {
      "text/plain": [
       "((617242, 70), (714167, 70))"
      ]
     },
     "execution_count": 46,
     "metadata": {},
     "output_type": "execute_result"
    }
   ],
   "source": [
    "test_fulldata.shape,train_fulldata.shape"
   ]
  },
  {
   "cell_type": "code",
   "execution_count": 47,
   "metadata": {},
   "outputs": [],
   "source": [
    "train['target'] = y_reg\n",
    "trn_user_target = train[['fullVisitorId', 'target']].groupby('fullVisitorId').sum()"
   ]
  },
  {
   "cell_type": "code",
   "execution_count": 48,
   "metadata": {},
   "outputs": [
    {
     "data": {
      "text/html": [
       "<div>\n",
       "<style scoped>\n",
       "    .dataframe tbody tr th:only-of-type {\n",
       "        vertical-align: middle;\n",
       "    }\n",
       "\n",
       "    .dataframe tbody tr th {\n",
       "        vertical-align: top;\n",
       "    }\n",
       "\n",
       "    .dataframe thead th {\n",
       "        text-align: right;\n",
       "    }\n",
       "</style>\n",
       "<table border=\"1\" class=\"dataframe\">\n",
       "  <thead>\n",
       "    <tr style=\"text-align: right;\">\n",
       "      <th></th>\n",
       "      <th>device_isMobile</th>\n",
       "      <th>time</th>\n",
       "      <th>totals_hits</th>\n",
       "      <th>totals_pageviews</th>\n",
       "      <th>visitNumber</th>\n",
       "      <th>prev_session</th>\n",
       "      <th>next_session</th>\n",
       "      <th>usermean_totals_hits</th>\n",
       "      <th>usermean_totals_pageviews</th>\n",
       "      <th>usermax_visitNumber</th>\n",
       "      <th>...</th>\n",
       "      <th>geoNetwork_region_device_operatingSystem</th>\n",
       "      <th>geoNetwork_region_trafficSource_source</th>\n",
       "      <th>geoNetwork_subContinent_device_browser</th>\n",
       "      <th>geoNetwork_subContinent_device_deviceCategory</th>\n",
       "      <th>geoNetwork_subContinent_device_operatingSystem</th>\n",
       "      <th>geoNetwork_subContinent_trafficSource_source</th>\n",
       "      <th>content_source</th>\n",
       "      <th>medium_source</th>\n",
       "      <th>predictions</th>\n",
       "      <th>sess_count</th>\n",
       "    </tr>\n",
       "    <tr>\n",
       "      <th>fullVisitorId</th>\n",
       "      <th></th>\n",
       "      <th></th>\n",
       "      <th></th>\n",
       "      <th></th>\n",
       "      <th></th>\n",
       "      <th></th>\n",
       "      <th></th>\n",
       "      <th></th>\n",
       "      <th></th>\n",
       "      <th></th>\n",
       "      <th></th>\n",
       "      <th></th>\n",
       "      <th></th>\n",
       "      <th></th>\n",
       "      <th></th>\n",
       "      <th></th>\n",
       "      <th></th>\n",
       "      <th></th>\n",
       "      <th></th>\n",
       "      <th></th>\n",
       "      <th></th>\n",
       "    </tr>\n",
       "  </thead>\n",
       "  <tbody>\n",
       "  </tbody>\n",
       "</table>\n",
       "<p>0 rows × 70 columns</p>\n",
       "</div>"
      ],
      "text/plain": [
       "Empty DataFrame\n",
       "Columns: [device_isMobile, time, totals_hits, totals_pageviews, visitNumber, prev_session, next_session, usermean_totals_hits, usermean_totals_pageviews, usermax_visitNumber, channelGrouping, device_browser, device_deviceCategory, device_operatingSystem, geoNetwork_city, geoNetwork_continent, geoNetwork_country, geoNetwork_metro, geoNetwork_networkDomain, geoNetwork_region, geoNetwork_subContinent, totals_bounces, totals_newVisits, trafficSource_adContent, trafficSource_campaign, trafficSource_isTrueDirect, trafficSource_keyword, trafficSource_medium, trafficSource_referralPath, trafficSource_source, weekday, source_country, campaign_medium, browser_category, browser_os, device_deviceCategory_channelGrouping, channelGrouping_browser, channelGrouping_OS, geoNetwork_city_device_browser, geoNetwork_city_device_deviceCategory, geoNetwork_city_device_operatingSystem, geoNetwork_city_trafficSource_source, geoNetwork_continent_device_browser, geoNetwork_continent_device_deviceCategory, geoNetwork_continent_device_operatingSystem, geoNetwork_continent_trafficSource_source, geoNetwork_country_device_browser, geoNetwork_country_device_deviceCategory, geoNetwork_country_device_operatingSystem, geoNetwork_country_trafficSource_source, geoNetwork_metro_device_browser, geoNetwork_metro_device_deviceCategory, geoNetwork_metro_device_operatingSystem, geoNetwork_metro_trafficSource_source, geoNetwork_networkDomain_device_browser, geoNetwork_networkDomain_device_deviceCategory, geoNetwork_networkDomain_device_operatingSystem, geoNetwork_networkDomain_trafficSource_source, geoNetwork_region_device_browser, geoNetwork_region_device_deviceCategory, geoNetwork_region_device_operatingSystem, geoNetwork_region_trafficSource_source, geoNetwork_subContinent_device_browser, geoNetwork_subContinent_device_deviceCategory, geoNetwork_subContinent_device_operatingSystem, geoNetwork_subContinent_trafficSource_source, content_source, medium_source, predictions, sess_count]\n",
       "Index: []\n",
       "\n",
       "[0 rows x 70 columns]"
      ]
     },
     "execution_count": 48,
     "metadata": {},
     "output_type": "execute_result"
    }
   ],
   "source": [
    "test_fulldata.head(0)"
   ]
  },
  {
   "cell_type": "code",
   "execution_count": 49,
   "metadata": {},
   "outputs": [
    {
     "name": "stdout",
     "output_type": "stream",
     "text": [
      "Training until validation scores don't improve for 50 rounds.\n",
      "[100]\tTRAIN's l2: 2.37298\tTRAIN's rmse: 1.54045\tVALID's l2: 2.54125\tVALID's rmse: 1.59413\n",
      "Early stopping, best iteration is:\n",
      "[144]\tTRAIN's l2: 2.31052\tTRAIN's rmse: 1.52004\tVALID's l2: 2.53227\tVALID's rmse: 1.59131\n",
      "Training until validation scores don't improve for 50 rounds.\n",
      "[100]\tTRAIN's l2: 2.36652\tTRAIN's rmse: 1.53835\tVALID's l2: 2.54134\tVALID's rmse: 1.59416\n",
      "[200]\tTRAIN's l2: 2.26057\tTRAIN's rmse: 1.50352\tVALID's l2: 2.52658\tVALID's rmse: 1.58952\n",
      "Early stopping, best iteration is:\n",
      "[182]\tTRAIN's l2: 2.27318\tTRAIN's rmse: 1.50771\tVALID's l2: 2.52592\tVALID's rmse: 1.58931\n",
      "Training until validation scores don't improve for 50 rounds.\n",
      "[100]\tTRAIN's l2: 2.37765\tTRAIN's rmse: 1.54196\tVALID's l2: 2.51781\tVALID's rmse: 1.58676\n",
      "Early stopping, best iteration is:\n",
      "[145]\tTRAIN's l2: 2.31451\tTRAIN's rmse: 1.52135\tVALID's l2: 2.50625\tVALID's rmse: 1.58312\n",
      "Training until validation scores don't improve for 50 rounds.\n",
      "[100]\tTRAIN's l2: 2.39199\tTRAIN's rmse: 1.54661\tVALID's l2: 2.44281\tVALID's rmse: 1.56295\n",
      "[200]\tTRAIN's l2: 2.28226\tTRAIN's rmse: 1.51071\tVALID's l2: 2.43847\tVALID's rmse: 1.56156\n",
      "Early stopping, best iteration is:\n",
      "[158]\tTRAIN's l2: 2.31714\tTRAIN's rmse: 1.52222\tVALID's l2: 2.43587\tVALID's rmse: 1.56073\n",
      "Training until validation scores don't improve for 50 rounds.\n",
      "[100]\tTRAIN's l2: 2.36895\tTRAIN's rmse: 1.53914\tVALID's l2: 2.55321\tVALID's rmse: 1.59788\n",
      "Early stopping, best iteration is:\n",
      "[145]\tTRAIN's l2: 2.30603\tTRAIN's rmse: 1.51856\tVALID's l2: 2.54712\tVALID's rmse: 1.59597\n"
     ]
    },
    {
     "data": {
      "text/plain": [
       "1.584135558437783"
      ]
     },
     "execution_count": 49,
     "metadata": {},
     "output_type": "execute_result"
    }
   ],
   "source": [
    "folds = get_folds(df=train_fulldata[['totals_pageviews']].reset_index(), n_splits=5)\n",
    "\n",
    "lgb_oof_preds = np.zeros(train_fulldata.shape[0])\n",
    "lgb_sub_preds = np.zeros(test_fulldata.shape[0])\n",
    "vis_importances = pd.DataFrame()\n",
    "\n",
    "for fold_, (trn_, val_) in enumerate(folds):\n",
    "    trn_x, trn_y = train_fulldata.iloc[trn_], trn_user_target['target'].iloc[trn_]\n",
    "    val_x, val_y = train_fulldata.iloc[val_], trn_user_target['target'].iloc[val_]\n",
    "    \n",
    "    reg = lgb.LGBMRegressor(\n",
    "        num_leaves=31,\n",
    "        learning_rate=0.03,\n",
    "        n_estimators=1000,\n",
    "        subsample=.9,\n",
    "        colsample_bytree=.9,\n",
    "        random_state=1\n",
    "    )\n",
    "    reg.fit(\n",
    "        trn_x, np.log1p(trn_y),\n",
    "        eval_set=[(trn_x, np.log1p(trn_y)), (val_x, np.log1p(val_y))],\n",
    "        eval_names=['TRAIN', 'VALID'],\n",
    "        early_stopping_rounds=50,\n",
    "        eval_metric='rmse',\n",
    "        verbose=100\n",
    "    )\n",
    "    \n",
    "    imp_df = pd.DataFrame()\n",
    "    imp_df['feature'] = trn_x.columns\n",
    "    imp_df['gain'] = reg.booster_.feature_importance(importance_type='gain')\n",
    "    \n",
    "    imp_df['fold'] = fold_ + 1\n",
    "    vis_importances = pd.concat([vis_importances, imp_df], axis=0, sort=False)\n",
    "    \n",
    "    lgb_oof_preds[val_] = reg.predict(val_x, num_iteration=reg.best_iteration_)\n",
    "    lgb_oof_preds[lgb_oof_preds < 0] = 0\n",
    "    \n",
    "    # Make sure features are in the same order\n",
    "    _preds = reg.predict(test_fulldata[train_fulldata.columns], num_iteration=reg.best_iteration_)\n",
    "    _preds[_preds < 0] = 0\n",
    "    lgb_sub_preds += _preds / len(folds)\n",
    "    \n",
    "mean_squared_error(np.log1p(trn_user_target['target']), lgb_oof_preds) ** .5"
   ]
  },
  {
   "cell_type": "code",
   "execution_count": 50,
   "metadata": {},
   "outputs": [
    {
     "name": "stderr",
     "output_type": "stream",
     "text": [
      "/home/baitong/tensorflow/lib/python3.6/site-packages/scipy/stats/stats.py:1713: FutureWarning: Using a non-tuple sequence for multidimensional indexing is deprecated; use `arr[tuple(seq)]` instead of `arr[seq]`. In the future this will be interpreted as an array index, `arr[np.array(seq)]`, which will result either in an error or a different result.\n",
      "  return np.add.reduce(sorted[indexer] * weights, axis=axis) / sumval\n"
     ]
    },
    {
     "data": {
      "text/plain": [
       "<matplotlib.axes._subplots.AxesSubplot at 0x7f4db8f4b4e0>"
      ]
     },
     "execution_count": 50,
     "metadata": {},
     "output_type": "execute_result"
    },
    {
     "data": {
      "image/png": "[encoded data removed]",
      "text/plain": [
       "<Figure size 576x1800 with 1 Axes>"
      ]
     },
     "metadata": {
      "needs_background": "light"
     },
     "output_type": "display_data"
    }
   ],
   "source": [
    "vis_importances['gain_log'] = np.log1p(vis_importances['gain'])\n",
    "mean_gain = vis_importances[['gain', 'feature']].groupby('feature').mean()\n",
    "vis_importances['mean_gain'] = vis_importances['feature'].map(mean_gain['gain'])\n",
    "\n",
    "plt.figure(figsize=(8, 25))\n",
    "sns.barplot(x='gain_log', y='feature', data=vis_importances.sort_values('mean_gain', ascending=False).iloc[:300])"
   ]
  },
  {
   "cell_type": "code",
   "execution_count": 51,
   "metadata": {},
   "outputs": [],
   "source": [
    "# test_fulldata['PredictedLogRevenue'] = lgb_sub_preds\n",
    "# test_fulldata[['PredictedLogRevenue']].to_csv('/home/baitong/pywork/RevenuePrediction/submission.csv', index=True)"
   ]
  },
  {
   "cell_type": "code",
   "execution_count": 52,
   "metadata": {},
   "outputs": [],
   "source": [
    "xgb_params = {\n",
    "        'objective': 'reg:linear',\n",
    "        'booster': 'gbtree',\n",
    "        'learning_rate': 0.02,\n",
    "        'max_depth': 22,\n",
    "        'min_child_weight': 57,\n",
    "        'gamma' : 1.45,\n",
    "        'alpha': 0.0,\n",
    "        'lambda': 0.0,\n",
    "        'subsample': 0.67,\n",
    "        'colsample_bytree': 0.054,\n",
    "        'colsample_bylevel': 0.50,\n",
    "        'n_jobs': -1,\n",
    "        'random_state': 456\n",
    "    }"
   ]
  },
  {
   "cell_type": "code",
   "execution_count": 53,
   "metadata": {},
   "outputs": [
    {
     "name": "stdout",
     "output_type": "stream",
     "text": [
      "[0]\tvalidation_0-rmse:2.10861\n",
      "Will train until validation_0-rmse hasn't improved in 50 rounds.\n",
      "[100]\tvalidation_0-rmse:1.84239\n",
      "[200]\tvalidation_0-rmse:1.75119\n",
      "[300]\tvalidation_0-rmse:1.70989\n",
      "[400]\tvalidation_0-rmse:1.67447\n",
      "[500]\tvalidation_0-rmse:1.65027\n",
      "[600]\tvalidation_0-rmse:1.63739\n",
      "[700]\tvalidation_0-rmse:1.63128\n",
      "[800]\tvalidation_0-rmse:1.62494\n",
      "[900]\tvalidation_0-rmse:1.61894\n",
      "[999]\tvalidation_0-rmse:1.61455\n",
      "[0]\tvalidation_0-rmse:2.10944\n",
      "Will train until validation_0-rmse hasn't improved in 50 rounds.\n",
      "[100]\tvalidation_0-rmse:1.84595\n",
      "[200]\tvalidation_0-rmse:1.76043\n",
      "[300]\tvalidation_0-rmse:1.70521\n",
      "[400]\tvalidation_0-rmse:1.67943\n",
      "[500]\tvalidation_0-rmse:1.66075\n",
      "[600]\tvalidation_0-rmse:1.64648\n",
      "[700]\tvalidation_0-rmse:1.63086\n",
      "[800]\tvalidation_0-rmse:1.62313\n",
      "[900]\tvalidation_0-rmse:1.61786\n",
      "[999]\tvalidation_0-rmse:1.61572\n",
      "[0]\tvalidation_0-rmse:2.1153\n",
      "Will train until validation_0-rmse hasn't improved in 50 rounds.\n",
      "[100]\tvalidation_0-rmse:1.88544\n",
      "[200]\tvalidation_0-rmse:1.7674\n",
      "[300]\tvalidation_0-rmse:1.71809\n",
      "[400]\tvalidation_0-rmse:1.6773\n",
      "[500]\tvalidation_0-rmse:1.663\n",
      "[600]\tvalidation_0-rmse:1.64867\n",
      "[700]\tvalidation_0-rmse:1.64073\n",
      "[800]\tvalidation_0-rmse:1.63234\n",
      "[900]\tvalidation_0-rmse:1.62534\n",
      "[999]\tvalidation_0-rmse:1.62004\n",
      "[0]\tvalidation_0-rmse:2.10137\n",
      "Will train until validation_0-rmse hasn't improved in 50 rounds.\n",
      "[100]\tvalidation_0-rmse:1.80971\n",
      "[200]\tvalidation_0-rmse:1.71694\n",
      "[300]\tvalidation_0-rmse:1.6753\n",
      "[400]\tvalidation_0-rmse:1.64615\n",
      "[500]\tvalidation_0-rmse:1.62881\n",
      "[600]\tvalidation_0-rmse:1.61759\n",
      "[700]\tvalidation_0-rmse:1.61109\n",
      "[800]\tvalidation_0-rmse:1.60234\n",
      "[900]\tvalidation_0-rmse:1.59828\n",
      "[999]\tvalidation_0-rmse:1.59354\n",
      "[0]\tvalidation_0-rmse:2.11938\n",
      "Will train until validation_0-rmse hasn't improved in 50 rounds.\n",
      "[100]\tvalidation_0-rmse:1.85732\n",
      "[200]\tvalidation_0-rmse:1.77917\n",
      "[300]\tvalidation_0-rmse:1.72087\n",
      "[400]\tvalidation_0-rmse:1.69224\n",
      "[500]\tvalidation_0-rmse:1.66752\n",
      "[600]\tvalidation_0-rmse:1.64788\n",
      "[700]\tvalidation_0-rmse:1.64244\n",
      "[800]\tvalidation_0-rmse:1.63245\n",
      "[900]\tvalidation_0-rmse:1.62781\n",
      "[999]\tvalidation_0-rmse:1.62368\n"
     ]
    },
    {
     "data": {
      "text/plain": [
       "1.612010226032669"
      ]
     },
     "execution_count": 53,
     "metadata": {},
     "output_type": "execute_result"
    }
   ],
   "source": [
    "from xgboost import XGBRegressor\n",
    "fit_params={\"early_stopping_rounds\": 50, \"verbose\": 100, \"eval_metric\": \"rmse\"}\n",
    "\n",
    "folds = get_folds(df=train_fulldata[['totals_pageviews']].reset_index(), n_splits=5)\n",
    "\n",
    "xgb_oof_preds = np.zeros(train_fulldata.shape[0])\n",
    "xgb_sub_preds = np.zeros(test_fulldata.shape[0])\n",
    "vis_importances = pd.DataFrame()\n",
    "\n",
    "for fold_, (trn_, val_) in enumerate(folds):\n",
    "    trn_x, trn_y = train_fulldata.iloc[trn_], trn_user_target['target'].iloc[trn_]\n",
    "    val_x, val_y = train_fulldata.iloc[val_], trn_user_target['target'].iloc[val_]\n",
    "    \n",
    "    xgb = XGBRegressor(**xgb_params, n_estimators=1000)\n",
    "    \n",
    "    xgb.fit(trn_x, np.log1p(trn_y),\n",
    "            eval_set=[(val_x, np.log1p(val_y))],\n",
    "            early_stopping_rounds=50,\n",
    "            eval_metric='rmse',\n",
    "            verbose=100)\n",
    "    \n",
    "    xgb_oof_preds[val_] = xgb.predict(val_x)\n",
    "    xgb_oof_preds[xgb_oof_preds < 0] = 0\n",
    "    \n",
    "    # Make sure features are in the same order\n",
    "    _preds = xgb.predict(test_fulldata[train_fulldata.columns])\n",
    "    _preds[_preds < 0] = 0\n",
    "    xgb_sub_preds += _preds / len(folds)\n",
    "    \n",
    "mean_squared_error(np.log1p(trn_user_target['target']), xgb_oof_preds) ** .5"
   ]
  },
  {
   "cell_type": "code",
   "execution_count": 54,
   "metadata": {},
   "outputs": [],
   "source": [
    "cat_param = {\n",
    "    'learning_rate' :0.03,\n",
    "    'depth' :10,\n",
    "    'eval_metric' :'RMSE',\n",
    "    'od_type' :'Iter',\n",
    "    'metric_period ' : 50,\n",
    "    'od_wait' : 20,\n",
    "    'seed' : 42\n",
    "    \n",
    "}"
   ]
  },
  {
   "cell_type": "code",
   "execution_count": 55,
   "metadata": {},
   "outputs": [
    {
     "name": "stderr",
     "output_type": "stream",
     "text": [
      "Warning: Overfitting detector is active, thus evaluation metric iscalculated on every iteration. 'metric_period' is ignored for evaluation metric.\n"
     ]
    },
    {
     "name": "stdout",
     "output_type": "stream",
     "text": [
      "0:\tlearn: 2.0873755\ttest: 2.0880079\tbest: 2.0880079 (0)\ttotal: 247ms\tremaining: 4m 6s\n",
      "100:\tlearn: 1.5434232\ttest: 1.5980193\tbest: 1.5980193 (100)\ttotal: 19.8s\tremaining: 2m 56s\n",
      "200:\tlearn: 1.5012382\ttest: 1.5927742\tbest: 1.5927742 (200)\ttotal: 39.4s\tremaining: 2m 36s\n",
      "300:\tlearn: 1.4662710\ttest: 1.5927256\tbest: 1.5926296 (293)\ttotal: 59s\tremaining: 2m 16s\n",
      "Stopped by overfitting detector  (50 iterations wait)\n",
      "\n",
      "bestTest = 1.592629626\n",
      "bestIteration = 293\n",
      "\n",
      "Shrink model to first 294 iterations.\n"
     ]
    },
    {
     "name": "stderr",
     "output_type": "stream",
     "text": [
      "Warning: Overfitting detector is active, thus evaluation metric iscalculated on every iteration. 'metric_period' is ignored for evaluation metric.\n"
     ]
    },
    {
     "name": "stdout",
     "output_type": "stream",
     "text": [
      "0:\tlearn: 2.0870499\ttest: 2.0896769\tbest: 2.0896769 (0)\ttotal: 196ms\tremaining: 3m 15s\n",
      "100:\tlearn: 1.5413190\ttest: 1.5940429\tbest: 1.5940429 (100)\ttotal: 19.9s\tremaining: 2m 57s\n",
      "200:\tlearn: 1.4997257\ttest: 1.5904363\tbest: 1.5904363 (200)\ttotal: 39.5s\tremaining: 2m 37s\n",
      "Stopped by overfitting detector  (50 iterations wait)\n",
      "\n",
      "bestTest = 1.590436308\n",
      "bestIteration = 200\n",
      "\n",
      "Shrink model to first 201 iterations.\n"
     ]
    },
    {
     "name": "stderr",
     "output_type": "stream",
     "text": [
      "Warning: Overfitting detector is active, thus evaluation metric iscalculated on every iteration. 'metric_period' is ignored for evaluation metric.\n"
     ]
    },
    {
     "name": "stdout",
     "output_type": "stream",
     "text": [
      "0:\tlearn: 2.0867399\ttest: 2.0905817\tbest: 2.0905817 (0)\ttotal: 194ms\tremaining: 3m 13s\n",
      "100:\tlearn: 1.5435921\ttest: 1.5860859\tbest: 1.5860859 (100)\ttotal: 19.8s\tremaining: 2m 55s\n",
      "200:\tlearn: 1.5000870\ttest: 1.5820469\tbest: 1.5818877 (185)\ttotal: 39.3s\tremaining: 2m 36s\n",
      "Stopped by overfitting detector  (50 iterations wait)\n",
      "\n",
      "bestTest = 1.58188766\n",
      "bestIteration = 185\n",
      "\n",
      "Shrink model to first 186 iterations.\n"
     ]
    },
    {
     "name": "stderr",
     "output_type": "stream",
     "text": [
      "Warning: Overfitting detector is active, thus evaluation metric iscalculated on every iteration. 'metric_period' is ignored for evaluation metric.\n"
     ]
    },
    {
     "name": "stdout",
     "output_type": "stream",
     "text": [
      "0:\tlearn: 2.0904027\ttest: 2.0752433\tbest: 2.0752433 (0)\ttotal: 196ms\tremaining: 3m 16s\n",
      "100:\tlearn: 1.5512054\ttest: 1.5708082\tbest: 1.5708082 (100)\ttotal: 19.8s\tremaining: 2m 55s\n",
      "Stopped by overfitting detector  (50 iterations wait)\n",
      "\n",
      "bestTest = 1.569266736\n",
      "bestIteration = 142\n",
      "\n",
      "Shrink model to first 143 iterations.\n"
     ]
    },
    {
     "name": "stderr",
     "output_type": "stream",
     "text": [
      "Warning: Overfitting detector is active, thus evaluation metric iscalculated on every iteration. 'metric_period' is ignored for evaluation metric.\n"
     ]
    },
    {
     "name": "stdout",
     "output_type": "stream",
     "text": [
      "0:\tlearn: 2.0855031\ttest: 2.0948668\tbest: 2.0948668 (0)\ttotal: 198ms\tremaining: 3m 17s\n",
      "100:\tlearn: 1.5401971\ttest: 1.6059076\tbest: 1.6059076 (100)\ttotal: 19.8s\tremaining: 2m 56s\n",
      "Stopped by overfitting detector  (50 iterations wait)\n",
      "\n",
      "bestTest = 1.604014675\n",
      "bestIteration = 144\n",
      "\n",
      "Shrink model to first 145 iterations.\n"
     ]
    },
    {
     "data": {
      "text/plain": [
       "1.5876815419882624"
      ]
     },
     "execution_count": 55,
     "metadata": {},
     "output_type": "execute_result"
    }
   ],
   "source": [
    "from catboost import CatBoostRegressor\n",
    "folds = get_folds(df=train_fulldata[['totals_pageviews']].reset_index(), n_splits=5)\n",
    "\n",
    "cat_oof_preds = np.zeros(train_fulldata.shape[0])\n",
    "cat_sub_preds = np.zeros(test_fulldata.shape[0])\n",
    "vis_importances = pd.DataFrame()\n",
    "\n",
    "for fold_, (trn_, val_) in enumerate(folds):\n",
    "    trn_x, trn_y = train_fulldata.iloc[trn_], trn_user_target['target'].iloc[trn_]\n",
    "    val_x, val_y = train_fulldata.iloc[val_], trn_user_target['target'].iloc[val_]\n",
    "    \n",
    "    cat = CatBoostRegressor(iterations=1000,learning_rate=0.03,\n",
    "                            depth=10,\n",
    "                            eval_metric='RMSE',\n",
    "                            random_seed = 42,\n",
    "                            bagging_temperature = 0.2,\n",
    "                            od_type='Iter',\n",
    "                            metric_period = 50,\n",
    "                            od_wait=20)\n",
    "    cat.fit(trn_x, np.log1p(trn_y), \n",
    "            eval_set=[(val_x, np.log1p(val_y))],\n",
    "            early_stopping_rounds=50,\n",
    "            use_best_model=True,\n",
    "            verbose=100)\n",
    "    cat_oof_preds[val_] = cat.predict(val_x)\n",
    "    cat_oof_preds[cat_oof_preds < 0] = 0\n",
    "    \n",
    "    # Make sure features are in the same order\n",
    "    _preds = cat.predict(test_fulldata[train_fulldata.columns])\n",
    "    _preds[_preds < 0] = 0\n",
    "    cat_sub_preds += _preds / len(folds)\n",
    "    \n",
    "mean_squared_error(np.log1p(trn_user_target['target']), cat_oof_preds) ** .5"
   ]
  },
  {
   "cell_type": "code",
   "execution_count": 56,
   "metadata": {},
   "outputs": [],
   "source": [
    "test_fulldata['lgb_pred'] = lgb_sub_preds\n",
    "test_fulldata['xgb_pred'] = xgb_sub_preds\n",
    "test_fulldata['cst_pred'] = cat_sub_preds\n",
    "test_final_data = test_fulldata[['lgb_pred','xgb_pred','cst_pred']]"
   ]
  },
  {
   "cell_type": "code",
   "execution_count": 57,
   "metadata": {},
   "outputs": [],
   "source": [
    "train_fulldata['lgb_pred'] = lgb_oof_preds\n",
    "train_fulldata['xgb_pred'] = xgb_oof_preds\n",
    "train_fulldata['cst_pred'] = cat_oof_preds\n",
    "train_final_data = train_fulldata[['lgb_pred','xgb_pred','cst_pred']]"
   ]
  },
  {
   "cell_type": "code",
   "execution_count": 58,
   "metadata": {},
   "outputs": [
    {
     "data": {
      "text/plain": [
       "1.5817595840790646"
      ]
     },
     "execution_count": 58,
     "metadata": {},
     "output_type": "execute_result"
    }
   ],
   "source": [
    "from sklearn.linear_model import LinearRegression\n",
    "\n",
    "folds = get_folds(df=train_fulldata[['totals_pageviews']].reset_index(), n_splits=5)\n",
    "\n",
    "final_oof_preds = np.zeros(train_final_data.shape[0])\n",
    "final_sub_preds = np.zeros(test_final_data.shape[0])\n",
    "vis_importances = pd.DataFrame()\n",
    "\n",
    "for fold_, (trn_, val_) in enumerate(folds):\n",
    "    trn_x, trn_y = train_final_data.iloc[trn_], trn_user_target['target'].iloc[trn_]\n",
    "    val_x, val_y = train_final_data.iloc[val_], trn_user_target['target'].iloc[val_]\n",
    "    \n",
    "    lin_reg = LinearRegression()\n",
    "    lin_reg.fit(trn_x,np.log1p(trn_y))\n",
    "    final_oof_preds[val_] = lin_reg.predict(val_x)\n",
    "    final_oof_preds[final_oof_preds < 0] = 0\n",
    "    \n",
    "    # Make sure features are in the same order\n",
    "    _preds = lin_reg.predict(test_final_data[train_final_data.columns])\n",
    "    _preds[_preds < 0] = 0\n",
    "    final_sub_preds += _preds / len(folds)\n",
    "    \n",
    "mean_squared_error(np.log1p(trn_user_target['target']), final_oof_preds) ** .5"
   ]
  },
  {
   "cell_type": "code",
   "execution_count": 59,
   "metadata": {},
   "outputs": [
    {
     "data": {
      "text/plain": [
       "617242"
      ]
     },
     "execution_count": 59,
     "metadata": {},
     "output_type": "execute_result"
    }
   ],
   "source": [
    "len(final_sub_preds)"
   ]
  },
  {
   "cell_type": "code",
   "execution_count": 60,
   "metadata": {},
   "outputs": [],
   "source": [
    "test_fulldata['PredictedLogRevenue'] = final_sub_preds\n",
    "test_fulldata[['PredictedLogRevenue']].to_csv('/home/baitong/pywork/RevenuePrediction/submission.csv', index=True)"
   ]
  },
  {
   "cell_type": "code",
   "execution_count": 61,
   "metadata": {},
   "outputs": [
    {
     "name": "stderr",
     "output_type": "stream",
     "text": [
      "/home/baitong/tensorflow/lib/python3.6/site-packages/sklearn/linear_model/stochastic_gradient.py:130: DeprecationWarning: n_iter parameter is deprecated in 0.19 and will be removed in 0.21. Use max_iter and tol instead.\n",
      "  DeprecationWarning)\n",
      "/home/baitong/tensorflow/lib/python3.6/site-packages/sklearn/linear_model/stochastic_gradient.py:130: DeprecationWarning: n_iter parameter is deprecated in 0.19 and will be removed in 0.21. Use max_iter and tol instead.\n",
      "  DeprecationWarning)\n",
      "/home/baitong/tensorflow/lib/python3.6/site-packages/sklearn/linear_model/stochastic_gradient.py:130: DeprecationWarning: n_iter parameter is deprecated in 0.19 and will be removed in 0.21. Use max_iter and tol instead.\n",
      "  DeprecationWarning)\n",
      "/home/baitong/tensorflow/lib/python3.6/site-packages/sklearn/linear_model/stochastic_gradient.py:130: DeprecationWarning: n_iter parameter is deprecated in 0.19 and will be removed in 0.21. Use max_iter and tol instead.\n",
      "  DeprecationWarning)\n",
      "/home/baitong/tensorflow/lib/python3.6/site-packages/sklearn/linear_model/stochastic_gradient.py:130: DeprecationWarning: n_iter parameter is deprecated in 0.19 and will be removed in 0.21. Use max_iter and tol instead.\n",
      "  DeprecationWarning)\n"
     ]
    },
    {
     "data": {
      "text/plain": [
       "1.5831859344146095"
      ]
     },
     "execution_count": 61,
     "metadata": {},
     "output_type": "execute_result"
    }
   ],
   "source": [
    "from sklearn.linear_model import SGDRegressor\n",
    "\n",
    "folds = get_folds(df=train_fulldata[['totals_pageviews']].reset_index(), n_splits=5)\n",
    "\n",
    "sgd_oof_preds = np.zeros(train_final_data.shape[0])\n",
    "sgd_sub_preds = np.zeros(test_final_data.shape[0])\n",
    "vis_importances = pd.DataFrame()\n",
    "\n",
    "for fold_, (trn_, val_) in enumerate(folds):\n",
    "    trn_x, trn_y = train_final_data.iloc[trn_], trn_user_target['target'].iloc[trn_]\n",
    "    val_x, val_y = train_final_data.iloc[val_], trn_user_target['target'].iloc[val_]\n",
    "    \n",
    "    sgd_reg = SGDRegressor(n_iter=50,penalty=None,eta0=0.002)\n",
    "    sgd_reg.fit(trn_x,np.log1p(trn_y))\n",
    "    sgd_oof_preds[val_] = sgd_reg.predict(val_x)\n",
    "    sgd_oof_preds[sgd_oof_preds < 0] = 0\n",
    "    \n",
    "    # Make sure features are in the same order\n",
    "    _preds = sgd_reg.predict(test_final_data[train_final_data.columns])\n",
    "    _preds[_preds < 0] = 0\n",
    "    sgd_sub_preds += _preds / len(folds)\n",
    "    \n",
    "mean_squared_error(np.log1p(trn_user_target['target']), sgd_oof_preds) ** .5"
   ]
  },
  {
   "cell_type": "code",
   "execution_count": 64,
   "metadata": {},
   "outputs": [
    {
     "data": {
      "text/plain": [
       "1.7886073723879645"
      ]
     },
     "execution_count": 64,
     "metadata": {},
     "output_type": "execute_result"
    }
   ],
   "source": [
    "from sklearn.svm import LinearSVR\n",
    "\n",
    "folds = get_folds(df=train_fulldata[['totals_pageviews']].reset_index(), n_splits=5)\n",
    "\n",
    "svm_oof_preds = np.zeros(train_final_data.shape[0])\n",
    "svm_sub_preds = np.zeros(test_final_data.shape[0])\n",
    "vis_importances = pd.DataFrame()\n",
    "\n",
    "for fold_, (trn_, val_) in enumerate(folds):\n",
    "    trn_x, trn_y = train_final_data.iloc[trn_], trn_user_target['target'].iloc[trn_]\n",
    "    val_x, val_y = train_final_data.iloc[val_], trn_user_target['target'].iloc[val_]\n",
    "\n",
    "    svm_reg = LinearSVR(epsilon=0.5)###0.25 -0.5 \n",
    "    svm_reg.fit(trn_x, np.log1p(trn_y))\n",
    "    svm_oof_preds[val_] = svm_reg.predict(val_x)\n",
    "    svm_oof_preds[svm_oof_preds < 0] = 0\n",
    "    \n",
    "    # Make sure features are in the same order\n",
    "    _preds = svm_reg.predict(test_final_data[train_final_data.columns])\n",
    "    _preds[_preds < 0] = 0\n",
    "    svm_sub_preds += _preds / len(folds)\n",
    "    \n",
    "mean_squared_error(np.log1p(trn_user_target['target']), svm_oof_preds) ** .5"
   ]
  },
  {
   "cell_type": "code",
   "execution_count": 71,
   "metadata": {},
   "outputs": [
    {
     "data": {
      "text/plain": [
       "1.587245409478992"
      ]
     },
     "execution_count": 71,
     "metadata": {},
     "output_type": "execute_result"
    }
   ],
   "source": [
    "from sklearn.tree import DecisionTreeRegressor\n",
    "folds = get_folds(df=train_fulldata[['totals_pageviews']].reset_index(), n_splits=5)\n",
    "\n",
    "tree_oof_preds = np.zeros(train_final_data.shape[0])\n",
    "tree_sub_preds = np.zeros(test_final_data.shape[0])\n",
    "vis_importances = pd.DataFrame()\n",
    "\n",
    "for fold_, (trn_, val_) in enumerate(folds):\n",
    "    trn_x, trn_y = train_final_data.iloc[trn_], trn_user_target['target'].iloc[trn_]\n",
    "    val_x, val_y = train_final_data.iloc[val_], trn_user_target['target'].iloc[val_]\n",
    "\n",
    "    tree_reg = DecisionTreeRegressor(max_depth=4)\n",
    "    tree_reg.fit(trn_x, np.log1p(trn_y))\n",
    "    tree_oof_preds[val_] = tree_reg.predict(val_x)\n",
    "    tree_oof_preds[tree_oof_preds < 0] = 0\n",
    "    \n",
    "    # Make sure features are in the same order\n",
    "    _preds = tree_reg.predict(test_final_data[train_final_data.columns])\n",
    "    _preds[_preds < 0] = 0\n",
    "    tree_sub_preds += _preds / len(folds)\n",
    "    \n",
    "mean_squared_error(np.log1p(trn_user_target['target']), tree_oof_preds) ** .5"
   ]
  },
  {
   "cell_type": "code",
   "execution_count": null,
   "metadata": {},
   "outputs": [],
   "source": []
  }
 ],
 "metadata": {
  "kernelspec": {
   "display_name": "tensorflow",
   "language": "python",
   "name": "tensorflow"
  },
  "language_info": {
   "codemirror_mode": {
    "name": "ipython",
    "version": 3
   },
   "file_extension": ".py",
   "mimetype": "text/x-python",
   "name": "python",
   "nbconvert_exporter": "python",
   "pygments_lexer": "ipython3",
   "version": "3.6.4"
  }
 },
 "nbformat": 4,
 "nbformat_minor": 2
}
