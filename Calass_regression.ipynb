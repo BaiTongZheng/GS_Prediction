{
 "cells": [
  {
   "cell_type": "code",
   "execution_count": 1,
   "metadata": {},
   "outputs": [],
   "source": [
    "import pandas as pd\n",
    "import numpy as np\n",
    "import matplotlib.pyplot as plt\n",
    "import seaborn as sns\n",
    "from sklearn.metrics import mean_squared_error\n",
    "import gc\n",
    "import time\n",
    "from pandas.core.common import SettingWithCopyWarning\n",
    "import warnings\n",
    "import lightgbm as lgb\n",
    "from sklearn.model_selection import GroupKFold\n",
    "from pandas.io.json import json_normalize\n",
    "import json\n",
    "import os\n",
    "warnings.simplefilter('error', SettingWithCopyWarning)\n",
    "gc.enable()\n",
    "%matplotlib inline"
   ]
  },
  {
   "cell_type": "code",
   "execution_count": 2,
   "metadata": {},
   "outputs": [],
   "source": [
    "features = ['channelGrouping', 'date', 'fullVisitorId', 'visitId',\\\n",
    "       'visitNumber', 'visitStartTime', 'device_browser',\\\n",
    "       'device_deviceCategory', 'device_isMobile', 'device_operatingSystem',\\\n",
    "       'geoNetwork_city', 'geoNetwork_continent', 'geoNetwork_country',\\\n",
    "       'geoNetwork_metro', 'geoNetwork_networkDomain', 'geoNetwork_region',\\\n",
    "       'geoNetwork_subContinent', 'totals_bounces', 'totals_hits',\\\n",
    "       'totals_newVisits', 'totals_pageviews', 'totals_transactionRevenue',\\\n",
    "       'trafficSource_adContent', 'trafficSource_campaign',\\\n",
    "       'trafficSource_isTrueDirect', 'trafficSource_keyword',\\\n",
    "       'trafficSource_medium', 'trafficSource_referralPath',\\\n",
    "       'trafficSource_source','trafficSource_adwordsClickInfo.page',\\\n",
    "       'trafficSource_adwordsClickInfo.adNetworkType',\n",
    "       'trafficSource_adwordsClickInfo.isVideoAd',\n",
    "       'trafficSource_adwordsClickInfo.slot',\n",
    "           ]"
   ]
  },
  {
   "cell_type": "code",
   "execution_count": 3,
   "metadata": {},
   "outputs": [
    {
     "name": "stdout",
     "output_type": "stream",
     "text": [
      "Loaded train_v2.csv. Shape: (100000, 59)\n",
      "(100000, 33)\n",
      "Loaded train_v2.csv. Shape: (100000, 60)\n",
      "(200000, 33)\n",
      "Loaded train_v2.csv. Shape: (100000, 59)\n",
      "(300000, 33)\n",
      "Loaded train_v2.csv. Shape: (100000, 59)\n",
      "(400000, 33)\n",
      "Loaded train_v2.csv. Shape: (100000, 59)\n",
      "(500000, 33)\n",
      "Loaded train_v2.csv. Shape: (100000, 59)\n",
      "(600000, 33)\n",
      "Loaded train_v2.csv. Shape: (100000, 59)\n",
      "(700000, 33)\n",
      "Loaded train_v2.csv. Shape: (100000, 59)\n",
      "(800000, 33)\n",
      "Loaded train_v2.csv. Shape: (100000, 59)\n",
      "(900000, 33)\n",
      "Loaded train_v2.csv. Shape: (100000, 59)\n",
      "(1000000, 33)\n",
      "Loaded train_v2.csv. Shape: (100000, 59)\n",
      "(1100000, 33)\n",
      "Loaded train_v2.csv. Shape: (100000, 59)\n",
      "(1200000, 33)\n",
      "Loaded train_v2.csv. Shape: (100000, 59)\n",
      "(1300000, 33)\n",
      "Loaded train_v2.csv. Shape: (100000, 59)\n",
      "(1400000, 33)\n",
      "Loaded train_v2.csv. Shape: (100000, 59)\n",
      "(1500000, 33)\n",
      "Loaded train_v2.csv. Shape: (100000, 59)\n",
      "(1600000, 33)\n",
      "Loaded train_v2.csv. Shape: (100000, 59)\n",
      "(1700000, 33)\n",
      "Loaded train_v2.csv. Shape: (8337, 59)\n",
      "(1708337, 33)\n"
     ]
    },
    {
     "data": {
      "text/plain": [
       "(1708337, 33)"
      ]
     },
     "execution_count": 3,
     "metadata": {},
     "output_type": "execute_result"
    }
   ],
   "source": [
    "gc.enable()\n",
    "def load_df(csv_path='/home/baitong/pywork/RevenuePrediction/all (1)/train_v2.csv'):\n",
    "    JSON_COLUMNS = ['device', 'geoNetwork', 'totals', 'trafficSource']\n",
    "    ans = pd.DataFrame()\n",
    "    dfs = pd.read_csv(csv_path, sep=',',\n",
    "                     converters={column: json.loads for column in JSON_COLUMNS}, \n",
    "                     dtype={'fullVisitorId': 'str'}, # Important!!\n",
    "                    chunksize = 100000)\n",
    "    for df in dfs:\n",
    "        df.reset_index(drop = True,inplace = True)\n",
    "        for column in JSON_COLUMNS:\n",
    "            column_as_df = json_normalize(df[column])\n",
    "            column_as_df.columns = [f\"{column}_{subcolumn}\" for subcolumn in column_as_df.columns]\n",
    "            df = df.drop(column, axis=1).merge(column_as_df, right_index=True, left_index=True)\n",
    "\n",
    "        print(f\"Loaded {os.path.basename(csv_path)}. Shape: {df.shape}\")\n",
    "        use_df = df[features]\n",
    "        del df\n",
    "        gc.collect()\n",
    "        ans = pd.concat([ans, use_df], axis = 0).reset_index(drop = True)\n",
    "        print(ans.shape)\n",
    "    return ans\n",
    "\n",
    "train = load_df()\n",
    "train.shape"
   ]
  },
  {
   "cell_type": "code",
   "execution_count": 4,
   "metadata": {},
   "outputs": [
    {
     "name": "stdout",
     "output_type": "stream",
     "text": [
      "Loaded test_v2.csv. Shape: (100000, 59)\n",
      "(100000, 33)\n",
      "Loaded test_v2.csv. Shape: (100000, 59)\n",
      "(200000, 33)\n",
      "Loaded test_v2.csv. Shape: (100000, 59)\n",
      "(300000, 33)\n",
      "Loaded test_v2.csv. Shape: (100000, 59)\n",
      "(400000, 33)\n",
      "Loaded test_v2.csv. Shape: (1589, 59)\n",
      "(401589, 33)\n"
     ]
    }
   ],
   "source": [
    "path = '/home/baitong/pywork/RevenuePrediction/all (1)'\n",
    "test = load_df(\"/home/baitong/pywork/RevenuePrediction/all (1)/test_v2.csv\")"
   ]
  },
  {
   "cell_type": "code",
   "execution_count": 5,
   "metadata": {},
   "outputs": [],
   "source": [
    "# %%time\n",
    "# train = pd.read_csv(path+'/train.csv')\n",
    "# test = pd.read_csv(path+'/test.csv')\n"
   ]
  },
  {
   "cell_type": "code",
   "execution_count": null,
   "metadata": {},
   "outputs": [],
   "source": []
  },
  {
   "cell_type": "code",
   "execution_count": 6,
   "metadata": {},
   "outputs": [
    {
     "name": "stdout",
     "output_type": "stream",
     "text": [
      "[]\n"
     ]
    }
   ],
   "source": [
    "#获取不变的常量列，模型无法在常量数据计学到东西，数据与处理时需要drop\n",
    "const_cols = [c for c in train.columns if train[c].nunique(dropna=False)==1 ]\n",
    "print(const_cols)\n"
   ]
  },
  {
   "cell_type": "code",
   "execution_count": 7,
   "metadata": {},
   "outputs": [],
   "source": [
    "train = train.drop(const_cols , axis=1)\n",
    "test = test.drop(const_cols, axis=1)"
   ]
  },
  {
   "cell_type": "code",
   "execution_count": 8,
   "metadata": {},
   "outputs": [],
   "source": [
    "train['depth']=train['trafficSource_referralPath'][train['trafficSource_referralPath'].notnull()].apply(lambda x:x.count('/'))\n",
    "test['depth']=test['trafficSource_referralPath'][test['trafficSource_referralPath'].notnull()].apply(lambda x:x.count('/'))\n",
    "# train['length']=train['trafficSource_referralPath'][train['trafficSource_referralPath'].notnull()].apply(lambda x:len(x))#例子里好像没有放在特征里\n",
    "# train['path_complexity']=train['trafficSource_referralPath'][train['trafficSource_referralPath'].notnull()].apply(lambda x:train['depth']/train['length'])"
   ]
  },
  {
   "cell_type": "code",
   "execution_count": 9,
   "metadata": {},
   "outputs": [
    {
     "data": {
      "text/plain": [
       "Index(['channelGrouping', 'date', 'fullVisitorId', 'visitId', 'visitNumber',\n",
       "       'visitStartTime', 'device_browser', 'device_deviceCategory',\n",
       "       'device_isMobile', 'device_operatingSystem', 'geoNetwork_city',\n",
       "       'geoNetwork_continent', 'geoNetwork_country', 'geoNetwork_metro',\n",
       "       'geoNetwork_networkDomain', 'geoNetwork_region',\n",
       "       'geoNetwork_subContinent', 'totals_bounces', 'totals_hits',\n",
       "       'totals_newVisits', 'totals_pageviews', 'totals_transactionRevenue',\n",
       "       'trafficSource_adContent', 'trafficSource_campaign',\n",
       "       'trafficSource_isTrueDirect', 'trafficSource_keyword',\n",
       "       'trafficSource_medium', 'trafficSource_referralPath',\n",
       "       'trafficSource_source', 'trafficSource_adwordsClickInfo.page',\n",
       "       'trafficSource_adwordsClickInfo.adNetworkType',\n",
       "       'trafficSource_adwordsClickInfo.isVideoAd',\n",
       "       'trafficSource_adwordsClickInfo.slot', 'depth'],\n",
       "      dtype='object')"
      ]
     },
     "execution_count": 9,
     "metadata": {},
     "output_type": "execute_result"
    }
   ],
   "source": [
    "train.columns"
   ]
  },
  {
   "cell_type": "code",
   "execution_count": 10,
   "metadata": {},
   "outputs": [],
   "source": [
    "##将缺失值表示统一\n",
    "def replaceCatNa(df):\n",
    "    Nalist = ['(not set)','0','not available in demo dataset','unknown.unknown','(not provided)','(none)']\n",
    "    catlist = ['device_browser','device_operatingSystem','geoNetwork_city','geoNetwork_continent',\n",
    "              'geoNetwork_metro','geoNetwork_networkDomain','geoNetwork_region','geoNetwork_subContinent',\n",
    "              'trafficSource_campaign','trafficSource_keyword','trafficSource_medium']\n",
    "    for col in catlist:\n",
    "        df[col] = df[col].astype('str') \n",
    "        df[col] = df[col].apply(lambda x : np.nan if x in Nalist else x)\n",
    "    return df"
   ]
  },
  {
   "cell_type": "code",
   "execution_count": 11,
   "metadata": {},
   "outputs": [],
   "source": [
    "train = replaceCatNa(train)\n",
    "test = replaceCatNa(test)"
   ]
  },
  {
   "cell_type": "code",
   "execution_count": 12,
   "metadata": {},
   "outputs": [],
   "source": [
    "# 去除test中不存在的列\n",
    "# train.drop('trafficSource_campaignCode',inplace = True,axis = 1)"
   ]
  },
  {
   "cell_type": "code",
   "execution_count": 13,
   "metadata": {},
   "outputs": [
    {
     "data": {
      "text/plain": [
       "((1708337, 34), (401589, 34))"
      ]
     },
     "execution_count": 13,
     "metadata": {},
     "output_type": "execute_result"
    }
   ],
   "source": [
    "train.shape,test.shape"
   ]
  },
  {
   "cell_type": "code",
   "execution_count": 14,
   "metadata": {},
   "outputs": [],
   "source": [
    "###将时间戳转换为标准时间表示\n",
    "train.visitStartTime = pd.to_datetime(train.visitStartTime, unit='s')\n",
    "test.visitStartTime = pd.to_datetime(test.visitStartTime, unit='s')\n",
    "train[\"date\"] = train.visitStartTime\n",
    "test[\"date\"] = test.visitStartTime"
   ]
  },
  {
   "cell_type": "code",
   "execution_count": 15,
   "metadata": {},
   "outputs": [],
   "source": [
    "for df in [train, test]:\n",
    "    df['weekday'] = df['date'].dt.dayofweek.astype(object)\n",
    "    df['time'] = df['date'].dt.second + df['date'].dt.minute*60 + df['date'].dt.hour*3600\n",
    "    df['month'] = df['date'].dt.month   # it must not be included in features during learning!\n",
    "    df['day'] = df['date'].dt.date       # it must not be included in features during learning!\n",
    "    df['hours'] = df['date'].dt.hour"
   ]
  },
  {
   "cell_type": "code",
   "execution_count": 16,
   "metadata": {},
   "outputs": [],
   "source": [
    "####5，6为双休日\n",
    "# train['hours'].value_counts()"
   ]
  },
  {
   "cell_type": "code",
   "execution_count": 17,
   "metadata": {},
   "outputs": [],
   "source": [
    "###增加特征 ：是否为双休日\n",
    "train['isWeekend'] = train['weekday'].apply(lambda x:1 if x>=5 else 0)\n",
    "test['isWeekend'] = test['weekday'].apply(lambda x:1 if x>=5 else 0)"
   ]
  },
  {
   "cell_type": "code",
   "execution_count": 18,
   "metadata": {},
   "outputs": [],
   "source": [
    "###填补totals.pageviews值\n",
    "predmis = train[train['totals_pageviews'].isnull()]['totals_hits'].values\n",
    "train.loc[(train['totals_pageviews'].isnull()),'totals_pageviews' ] = predmis\n",
    "\n",
    "predmis = test[test['totals_pageviews'].isnull()]['totals_hits'].values\n",
    "test.loc[(test['totals_pageviews'].isnull()),'totals_pageviews' ] = predmis"
   ]
  },
  {
   "cell_type": "code",
   "execution_count": 19,
   "metadata": {},
   "outputs": [],
   "source": [
    "####增加特征：浏览器是否为Chrome\n",
    "train['isChrome'] = train['device_browser'].apply(lambda x:1 if x=='Chrome' else 0)\n",
    "test['isChrome'] = test['device_browser'].apply(lambda x:1 if x=='Chrome' else 0)"
   ]
  },
  {
   "cell_type": "code",
   "execution_count": 20,
   "metadata": {},
   "outputs": [],
   "source": [
    "####增加特征：source是否为youtube ,mail.googleplex.com youtube.com\n",
    "train['trafficSource_source'].astype('str',inplace = True)\n",
    "test['trafficSource_source'].astype('str',inplace = True)\n",
    "train['s_ismall'] = train['trafficSource_source'].apply(lambda x:1 if x=='mall.googleplex.com' else 0)\n",
    "test['s_ismall'] = test['trafficSource_source'].apply(lambda x:1 if x=='mall.googleplex.com' else 0)\n",
    "\n",
    "train['s_isyoutube'] = train['trafficSource_source'].apply(lambda x:1 if x=='youtube.com' else 0)\n",
    "test['s_isyoutube'] = test['trafficSource_source'].apply(lambda x:1 if x=='youtube.com' else 0)"
   ]
  },
  {
   "cell_type": "code",
   "execution_count": 21,
   "metadata": {},
   "outputs": [],
   "source": [
    "##增加特征：是否为desktop\n",
    "train['d_isdesktop'] = train['device_deviceCategory'].apply(lambda x:1 if x=='desktop' else 0)\n",
    "test['d_isdesktop'] = test['device_deviceCategory'].apply(lambda x:1 if x=='desktop' else 0)\n",
    "\n",
    "train['d_Macintosh'] = train['device_operatingSystem'].apply(lambda x:1 if x=='Macintosh' else 0)\n",
    "test['d_Macintosh'] = test['device_operatingSystem'].apply(lambda x:1 if x=='Macintosh' else 0)\n",
    "\n",
    "train['d_Macintosh'] = train['device_operatingSystem'].apply(lambda x:1 if x=='Macintosh' else 0)\n",
    "test['d_Macintosh'] = test['device_operatingSystem'].apply(lambda x:1 if x=='Macintosh' else 0)\n",
    "\n",
    "train['d_Linux'] = train['device_operatingSystem'].apply(lambda x:1 if x=='Linux' else 0)\n",
    "test['d_Linux'] = test['device_operatingSystem'].apply(lambda x:1 if x=='Linux' else 0)\n",
    "\n",
    "train['d_iOS'] = train['device_operatingSystem'].apply(lambda x:1 if x=='iOS' else 0)\n",
    "test['d_iOS'] = test['device_operatingSystem'].apply(lambda x:1 if x=='iOS' else 0)\n",
    "\n",
    "train['d_Android'] = train['device_operatingSystem'].apply(lambda x:1 if x=='Android' else 0)\n",
    "test['d_Android'] = test['device_operatingSystem'].apply(lambda x:1 if x=='Android' else 0)\n",
    "\n",
    "train['d_Windows Phone'] = train['device_operatingSystem'].apply(lambda x:1 if x=='Windows Phone' else 0)\n",
    "test['d_Windows Phone'] = test['device_operatingSystem'].apply(lambda x:1 if x=='Windows Phone' else 0)\n"
   ]
  },
  {
   "cell_type": "code",
   "execution_count": 22,
   "metadata": {},
   "outputs": [],
   "source": [
    "train['channel_referral'] = train['channelGrouping'].apply(lambda x:1 if x=='Referral' else 0)\n",
    "train['channel_Social'] = train['channelGrouping'].apply(lambda x:1 if x=='Social' else 0)\n",
    "test['channel_referral'] = test['channelGrouping'].apply(lambda x:1 if x=='Referral' else 0)\n",
    "test['channel_Social'] = test['channelGrouping'].apply(lambda x:1 if x=='Social' else 0)"
   ]
  },
  {
   "cell_type": "code",
   "execution_count": 23,
   "metadata": {},
   "outputs": [],
   "source": [
    "def dealbrowser(s):\n",
    "    if s == \"Safari \"or s == \"Firefox\":\n",
    "        return \"mainstream\"\n",
    "    elif s == \"Chrome\":\n",
    "        return \"Chrome\"\n",
    "    else:\n",
    "        return \"others\"\n",
    "train['browser'] = train['device_browser'].apply(dealbrowser)"
   ]
  },
  {
   "cell_type": "code",
   "execution_count": 24,
   "metadata": {},
   "outputs": [],
   "source": [
    "##增加特征：是否为desktop\n",
    "train['m_referral'] = train['trafficSource_medium'].apply(lambda x:1 if x=='referral' else 0)\n",
    "test['m_referral'] = test['trafficSource_medium'].apply(lambda x:1 if x=='referral' else 0)"
   ]
  },
  {
   "cell_type": "code",
   "execution_count": null,
   "metadata": {},
   "outputs": [],
   "source": []
  },
  {
   "cell_type": "code",
   "execution_count": 25,
   "metadata": {},
   "outputs": [],
   "source": [
    "train['single_visit'] = train['visitNumber'].apply(lambda x:0 if x!=1 else 1)\n",
    "test['single_visit'] = test['visitNumber'].apply(lambda x:0 if x!=1 else 1)\n",
    "\n",
    "train['totals_hits'] = train['totals_hits'].astype('float') \n",
    "test['totals_hits'] = test['totals_hits'].astype('float') \n",
    "train['totals_pageviews'] = train['totals_pageviews'].astype('float') \n",
    "test['totals_pageviews'] = test['totals_pageviews'].astype('float') \n",
    "train['hits_ratio'] = train['totals_hits']/train['totals_pageviews']\n",
    "test['hits_ratio'] = test['totals_hits']/test['totals_pageviews']\n",
    "\n",
    "# tr_te[, single_visit := ifelse(visitNumber == 1,1,0) ]\n",
    "#     tr_te[, hits_ratio := as.numeric(hits)/as.numeric(pageviews)]\n",
    "#     tr_te[, domain_site := gsub(\"^.*\\\\.\",\"\", networkDomain)]\n",
    "#     tr_te[, adwordsClickInfo.isVideoAd := ifelse(is.na(adwordsClickInfo.isVideoAd), 1, 0)]\n"
   ]
  },
  {
   "cell_type": "code",
   "execution_count": 26,
   "metadata": {},
   "outputs": [],
   "source": [
    "##去除离群点'Anguilla'\n",
    "train =train.drop(index = train['geoNetwork_country'][train['geoNetwork_country']=='Anguilla'].index)"
   ]
  },
  {
   "cell_type": "code",
   "execution_count": null,
   "metadata": {},
   "outputs": [],
   "source": []
  },
  {
   "cell_type": "code",
   "execution_count": 27,
   "metadata": {},
   "outputs": [],
   "source": [
    "def dealMissingData(df):\n",
    "    for c in df.columns:\n",
    "        num_missing = df[c].isnull().sum() \n",
    "        if num_missing != 0:\n",
    "            print(\"missing col is  \",c,'   missing num is',num_missing)\n",
    "    print('*'*20)\n",
    "    num_feature = [\"totals_bounces\",\"totals_newVisits\",'depth','trafficSource_adwordsClickInfo.page']\n",
    "    cat_feature = ['trafficSource_adContent','trafficSource_adContent',\n",
    "                  'trafficSource_campaign','trafficSource_isTrueDirect',\n",
    "                  'trafficSource_keyword','trafficSource_referralPath',\n",
    "                  'device_browser','device_operatingSystem','geoNetwork_city',\n",
    "                  'geoNetwork_continent','geoNetwork_metro','geoNetwork_networkDomain',\n",
    "                  'geoNetwork_region','geoNetwork_subContinent','trafficSource_adwordsClickInfo.adNetworkType',\n",
    "                  'trafficSource_adwordsClickInfo.isVideoAd','trafficSource_medium','trafficSource_adwordsClickInfo.slot']\n",
    "    for col in num_feature:\n",
    "        df[col].fillna(0,inplace=True)\n",
    "    for col in cat_feature:\n",
    "        df[col].fillna(0,inplace=True)\n",
    "    for c in df.columns:\n",
    "        num_missing = df[c].isnull().sum() \n",
    "        if num_missing != 0:\n",
    "            print(\"now missing col is  \",c,'   missing num is',num_missing)\n",
    "    print('---------------done---------------')\n",
    "    return df"
   ]
  },
  {
   "cell_type": "code",
   "execution_count": 28,
   "metadata": {},
   "outputs": [
    {
     "name": "stdout",
     "output_type": "stream",
     "text": [
      "missing col is   device_browser    missing num is 19\n",
      "missing col is   device_operatingSystem    missing num is 11815\n",
      "missing col is   geoNetwork_city    missing num is 998825\n",
      "missing col is   geoNetwork_continent    missing num is 2517\n",
      "missing col is   geoNetwork_metro    missing num is 1319854\n",
      "missing col is   geoNetwork_networkDomain    missing num is 768844\n",
      "missing col is   geoNetwork_region    missing num is 982732\n",
      "missing col is   geoNetwork_subContinent    missing num is 2517\n",
      "missing col is   totals_bounces    missing num is 836758\n",
      "missing col is   totals_newVisits    missing num is 400907\n",
      "missing col is   totals_transactionRevenue    missing num is 1689823\n",
      "missing col is   trafficSource_adContent    missing num is 1643599\n",
      "missing col is   trafficSource_campaign    missing num is 1604525\n",
      "missing col is   trafficSource_isTrueDirect    missing num is 1173818\n",
      "missing col is   trafficSource_keyword    missing num is 568933\n",
      "missing col is   trafficSource_medium    missing num is 566090\n",
      "missing col is   trafficSource_referralPath    missing num is 1142072\n",
      "missing col is   trafficSource_adwordsClickInfo.page    missing num is 1633062\n",
      "missing col is   trafficSource_adwordsClickInfo.adNetworkType    missing num is 1633062\n",
      "missing col is   trafficSource_adwordsClickInfo.isVideoAd    missing num is 1633062\n",
      "missing col is   trafficSource_adwordsClickInfo.slot    missing num is 1633062\n",
      "missing col is   depth    missing num is 1142072\n",
      "********************\n",
      "now missing col is   totals_transactionRevenue    missing num is 1689823\n",
      "---------------done---------------\n",
      "missing col is   device_operatingSystem    missing num is 4382\n",
      "missing col is   geoNetwork_city    missing num is 225093\n",
      "missing col is   geoNetwork_continent    missing num is 382\n",
      "missing col is   geoNetwork_metro    missing num is 296260\n",
      "missing col is   geoNetwork_networkDomain    missing num is 194927\n",
      "missing col is   geoNetwork_region    missing num is 218328\n",
      "missing col is   geoNetwork_subContinent    missing num is 382\n",
      "missing col is   totals_bounces    missing num is 218911\n",
      "missing col is   totals_newVisits    missing num is 115524\n",
      "missing col is   totals_transactionRevenue    missing num is 396995\n",
      "missing col is   trafficSource_campaign    missing num is 378933\n",
      "missing col is   trafficSource_isTrueDirect    missing num is 253180\n",
      "missing col is   trafficSource_keyword    missing num is 349304\n",
      "missing col is   trafficSource_medium    missing num is 111313\n",
      "missing col is   trafficSource_adwordsClickInfo.page    missing num is 390984\n",
      "missing col is   trafficSource_adwordsClickInfo.adNetworkType    missing num is 390984\n",
      "missing col is   trafficSource_adwordsClickInfo.isVideoAd    missing num is 390984\n",
      "missing col is   trafficSource_adwordsClickInfo.slot    missing num is 390984\n",
      "********************\n",
      "now missing col is   totals_transactionRevenue    missing num is 396995\n",
      "---------------done---------------\n"
     ]
    }
   ],
   "source": [
    "train = dealMissingData(train)\n",
    "test = dealMissingData(test)"
   ]
  },
  {
   "cell_type": "code",
   "execution_count": 29,
   "metadata": {},
   "outputs": [],
   "source": [
    "def clearRare(columnname, limit = 1000):\n",
    "    # you may search for rare categories in train, train&test, or just test\n",
    "    #vc = pd.concat([train[columnname], test[columnname]], sort=False).value_counts()\n",
    "    vc = test[columnname].value_counts()\n",
    "    \n",
    "    common = vc > limit\n",
    "    common = set(common.index[common].values)\n",
    "    print(\"Set\", sum(vc <= limit), columnname, \"categories to 'other';\", end=\" \")\n",
    "    \n",
    "    train.loc[train[columnname].map(lambda x: x not in common), columnname] = 'other'\n",
    "    test.loc[test[columnname].map(lambda x: x not in common), columnname] = 'other'\n",
    "    print(\"now there are\", train[columnname].nunique(), \"categories in train\")"
   ]
  },
  {
   "cell_type": "code",
   "execution_count": 30,
   "metadata": {},
   "outputs": [
    {
     "name": "stdout",
     "output_type": "stream",
     "text": [
      "Set 52 device_browser categories to 'other'; now there are 11 categories in train\n",
      "Set 15 device_operatingSystem categories to 'other'; now there are 8 categories in train\n",
      "Set 162 geoNetwork_country categories to 'other'; now there are 47 categories in train\n",
      "Set 461 geoNetwork_city categories to 'other'; now there are 42 categories in train\n",
      "Set 67 geoNetwork_metro categories to 'other'; now there are 15 categories in train\n",
      "Set 15910 geoNetwork_networkDomain categories to 'other'; now there are 24 categories in train\n",
      "Set 235 geoNetwork_region categories to 'other'; now there are 34 categories in train\n",
      "Set 8 geoNetwork_subContinent categories to 'other'; now there are 16 categories in train\n",
      "Set 25 trafficSource_adContent categories to 'other'; now there are 2 categories in train\n",
      "Set 19 trafficSource_campaign categories to 'other'; now there are 4 categories in train\n",
      "Set 672 trafficSource_keyword categories to 'other'; now there are 6 categories in train\n",
      "Set 0 trafficSource_medium categories to 'other'; now there are 6 categories in train\n",
      "Set 1745 trafficSource_referralPath categories to 'other'; now there are 9 categories in train\n",
      "Set 180 trafficSource_source categories to 'other'; now there are 12 categories in train\n"
     ]
    }
   ],
   "source": [
    "###数量过少的数据无参考价值，统一归为others\n",
    "clearRare(\"device_browser\")\n",
    "clearRare(\"device_operatingSystem\")\n",
    "clearRare(\"geoNetwork_country\")\n",
    "clearRare(\"geoNetwork_city\")\n",
    "clearRare(\"geoNetwork_metro\")\n",
    "clearRare(\"geoNetwork_networkDomain\")\n",
    "clearRare(\"geoNetwork_region\")\n",
    "clearRare(\"geoNetwork_subContinent\")\n",
    "clearRare(\"trafficSource_adContent\")\n",
    "clearRare(\"trafficSource_campaign\")\n",
    "clearRare(\"trafficSource_keyword\")\n",
    "clearRare(\"trafficSource_medium\")\n",
    "clearRare(\"trafficSource_referralPath\")\n",
    "clearRare(\"trafficSource_source\")"
   ]
  },
  {
   "cell_type": "code",
   "execution_count": 31,
   "metadata": {},
   "outputs": [],
   "source": [
    "train.set_index(\"visitStartTime\", inplace=True)\n",
    "test.set_index(\"visitStartTime\", inplace=True)\n",
    "train.sort_index(inplace=True)\n",
    "test.sort_index(inplace=True)"
   ]
  },
  {
   "cell_type": "code",
   "execution_count": 32,
   "metadata": {},
   "outputs": [
    {
     "name": "stderr",
     "output_type": "stream",
     "text": [
      "/home/baitong/tensorflow/lib/python3.6/site-packages/ipykernel_launcher.py:2: FutureWarning: Sorting because non-concatenation axis is not aligned. A future version\n",
      "of pandas will change to not sort by default.\n",
      "\n",
      "To accept the future behavior, pass 'sort=False'.\n",
      "\n",
      "To retain the current behavior and silence the warning, pass 'sort=True'.\n",
      "\n",
      "  \n"
     ]
    }
   ],
   "source": [
    "###增加上一次会话和下一次会话的时间间隔，时间间隔越短说明用户购买商品欲望更强烈\n",
    "df = pd.concat([train, test])\n",
    "df.sort_values(['fullVisitorId', 'date'], ascending=True, inplace=True)\n",
    "df['prev_session'] = (df['date'] - df[['fullVisitorId', 'date']].groupby('fullVisitorId')['date'].shift(1)).astype(np.int64) // 1e9 // 60 // 60\n",
    "df['next_session'] = (df['date'] - df[['fullVisitorId', 'date']].groupby('fullVisitorId')['date'].shift(-1)).astype(np.int64) // 1e9 // 60 // 60\n",
    "df.sort_index(inplace=True)\n",
    "\n",
    "train = df[:len(train)]\n",
    "test = df[len(train):]"
   ]
  },
  {
   "cell_type": "code",
   "execution_count": 33,
   "metadata": {},
   "outputs": [],
   "source": [
    "##将缺失的0 转换为字符串格式\n",
    "str_feature = ['trafficSource_adContent','trafficSource_campaign','trafficSource_isTrueDirect',\n",
    "              'trafficSource_keyword','trafficSource_referralPath',\n",
    "              'device_browser','device_operatingSystem','geoNetwork_city',\n",
    "              'geoNetwork_continent','geoNetwork_metro','geoNetwork_networkDomain',\n",
    "              'geoNetwork_region','geoNetwork_subContinent','trafficSource_adwordsClickInfo.adNetworkType',\n",
    "              'trafficSource_adwordsClickInfo.isVideoAd','trafficSource_medium','trafficSource_adwordsClickInfo.slot']\n",
    "for df in [train, test]:\n",
    "    for col in str_feature:\n",
    "        df[col] = df[col].astype('str')"
   ]
  },
  {
   "cell_type": "code",
   "execution_count": 34,
   "metadata": {},
   "outputs": [],
   "source": [
    "##组合特征\n",
    "for df in [train, test]:\n",
    "    df['source_country'] = df['trafficSource_source'] + '_' + df['geoNetwork_country']\n",
    "    df['campaign_medium'] = df['trafficSource_campaign'] + '_' + df['trafficSource_medium']\n",
    "    df['browser_category'] = df['device_browser'] + '_' + df['device_deviceCategory']\n",
    "    df['browser_os'] = df['device_browser'] + '_' + df['device_operatingSystem']"
   ]
  },
  {
   "cell_type": "code",
   "execution_count": null,
   "metadata": {},
   "outputs": [],
   "source": []
  },
  {
   "cell_type": "code",
   "execution_count": 35,
   "metadata": {},
   "outputs": [],
   "source": [
    "##组合特征\n",
    "for df in [train, test]:\n",
    "    df['device_deviceCategory_channelGrouping'] = df['device_deviceCategory'] + \"_\" + df['channelGrouping']\n",
    "    df['channelGrouping_browser'] = df['device_browser'] + \"_\" + df['channelGrouping']\n",
    "    df['channelGrouping_OS'] = df['device_operatingSystem'] + \"_\" + df['channelGrouping']\n",
    "    \n",
    "    for i in ['geoNetwork_city', 'geoNetwork_continent', 'geoNetwork_country','geoNetwork_metro', 'geoNetwork_networkDomain', 'geoNetwork_region','geoNetwork_subContinent']:\n",
    "        for j in ['device_browser','device_deviceCategory', 'device_operatingSystem', 'trafficSource_source']:\n",
    "            df[i + \"_\" + j] = df[i] + \"_\" + df[j]\n",
    "    \n",
    "    df['content_source'] = df['trafficSource_adContent'].astype(str) + \"_\" + df['source_country']\n",
    "    df['medium_source'] = df['trafficSource_medium'] + \"_\" + df['source_country']"
   ]
  },
  {
   "cell_type": "code",
   "execution_count": 36,
   "metadata": {},
   "outputs": [],
   "source": [
    "##针对用户增加点击浏览量均值特征，以及访问人数最大值特征\n",
    "for feature in [\"totals_hits\", \"totals_pageviews\"]:\n",
    "    info = pd.concat([train, test], sort=False).groupby(\"fullVisitorId\")[feature].mean()\n",
    "    train[\"usermean_\" + feature] = train.fullVisitorId.map(info)\n",
    "    test[\"usermean_\" + feature] = test.fullVisitorId.map(info)\n",
    "    \n",
    "for feature in [\"visitNumber\"]:\n",
    "    info = pd.concat([train, test], sort=False).groupby(\"fullVisitorId\")[feature].max()\n",
    "    train[\"usermax_\" + feature] = train.fullVisitorId.map(info)\n",
    "    test[\"usermax_\" + feature] = test.fullVisitorId.map(info)"
   ]
  },
  {
   "cell_type": "code",
   "execution_count": 37,
   "metadata": {},
   "outputs": [
    {
     "name": "stdout",
     "output_type": "stream",
     "text": [
      "cat_cols num:  63\n",
      "cat_cols:  ['browser', 'channelGrouping', 'device_browser', 'device_deviceCategory', 'device_operatingSystem', 'geoNetwork_city', 'geoNetwork_continent', 'geoNetwork_country', 'geoNetwork_metro', 'geoNetwork_networkDomain', 'geoNetwork_region', 'geoNetwork_subContinent', 'totals_bounces', 'totals_newVisits', 'trafficSource_adContent', 'trafficSource_adwordsClickInfo.adNetworkType', 'trafficSource_adwordsClickInfo.isVideoAd', 'trafficSource_adwordsClickInfo.page', 'trafficSource_adwordsClickInfo.slot', 'trafficSource_campaign', 'trafficSource_isTrueDirect', 'trafficSource_keyword', 'trafficSource_medium', 'trafficSource_referralPath', 'trafficSource_source', 'weekday', 'source_country', 'campaign_medium', 'browser_category', 'browser_os', 'device_deviceCategory_channelGrouping', 'channelGrouping_browser', 'channelGrouping_OS', 'geoNetwork_city_device_browser', 'geoNetwork_city_device_deviceCategory', 'geoNetwork_city_device_operatingSystem', 'geoNetwork_city_trafficSource_source', 'geoNetwork_continent_device_browser', 'geoNetwork_continent_device_deviceCategory', 'geoNetwork_continent_device_operatingSystem', 'geoNetwork_continent_trafficSource_source', 'geoNetwork_country_device_browser', 'geoNetwork_country_device_deviceCategory', 'geoNetwork_country_device_operatingSystem', 'geoNetwork_country_trafficSource_source', 'geoNetwork_metro_device_browser', 'geoNetwork_metro_device_deviceCategory', 'geoNetwork_metro_device_operatingSystem', 'geoNetwork_metro_trafficSource_source', 'geoNetwork_networkDomain_device_browser', 'geoNetwork_networkDomain_device_deviceCategory', 'geoNetwork_networkDomain_device_operatingSystem', 'geoNetwork_networkDomain_trafficSource_source', 'geoNetwork_region_device_browser', 'geoNetwork_region_device_deviceCategory', 'geoNetwork_region_device_operatingSystem', 'geoNetwork_region_trafficSource_source', 'geoNetwork_subContinent_device_browser', 'geoNetwork_subContinent_device_deviceCategory', 'geoNetwork_subContinent_device_operatingSystem', 'geoNetwork_subContinent_trafficSource_source', 'content_source', 'medium_source']\n",
      "real_cols num:  27\n",
      "real_cols:  ['channel_Social', 'channel_referral', 'd_Android', 'd_Linux', 'd_Macintosh', 'd_Windows Phone', 'd_iOS', 'd_isdesktop', 'depth', 'device_isMobile', 'hits_ratio', 'hours', 'isChrome', 'isWeekend', 'm_referral', 's_ismall', 's_isyoutube', 'single_visit', 'time', 'totals_hits', 'totals_pageviews', 'visitNumber', 'prev_session', 'next_session', 'usermean_totals_hits', 'usermean_totals_pageviews', 'usermax_visitNumber']\n"
     ]
    }
   ],
   "source": [
    "excluded = ['date', 'fullVisitorId', 'sessionId', 'totals_transactionRevenue', 'visitId', 'visitStartTime', \n",
    "            'month', 'day','trafficSource_adwordsClickInfo.gclId']\n",
    "\n",
    "cat_cols = [f for f in train.columns if (train[f].dtype == 'object' and f not in excluded)]\n",
    "real_cols = [f for f in train.columns if (not f in cat_cols and f not in excluded)]\n",
    "print(\"cat_cols num: \",len(cat_cols))\n",
    "print(\"cat_cols: \",cat_cols)\n",
    "print(\"real_cols num: \",len(real_cols))\n",
    "print(\"real_cols: \",real_cols)"
   ]
  },
  {
   "cell_type": "code",
   "execution_count": 38,
   "metadata": {},
   "outputs": [],
   "source": [
    "y_reg = train['totals_transactionRevenue']"
   ]
  },
  {
   "cell_type": "code",
   "execution_count": 39,
   "metadata": {},
   "outputs": [],
   "source": [
    "from sklearn.preprocessing import LabelEncoder\n",
    "for col in cat_cols:\n",
    "    lbl = LabelEncoder()\n",
    "    lbl.fit(list(train[col].values.astype('str')) + list(test[col].values.astype('str')))\n",
    "    train[col] = lbl.transform(list(train[col].values.astype('str')))\n",
    "    test[col] = lbl.transform(list(test[col].values.astype('str')))"
   ]
  },
  {
   "cell_type": "code",
   "execution_count": 40,
   "metadata": {},
   "outputs": [],
   "source": [
    "for col in real_cols:\n",
    "    train[col] = train[col].astype(float)\n",
    "    test[col] = test[col].astype(float)"
   ]
  },
  {
   "cell_type": "code",
   "execution_count": 41,
   "metadata": {},
   "outputs": [],
   "source": [
    "train['r_status'] = train['totals_transactionRevenue'].fillna(0).astype(\"float\").apply(lambda x : 1 if x>0 else 0)"
   ]
  },
  {
   "cell_type": "code",
   "execution_count": 42,
   "metadata": {},
   "outputs": [],
   "source": [
    "def get_folds(df=None, n_splits=5):\n",
    "    \"\"\"Returns dataframe indices corresponding to Visitors Group KFold\"\"\"\n",
    "    # Get sorted unique visitors\n",
    "    unique_vis = np.array(sorted(df['fullVisitorId'].unique()))\n",
    "\n",
    "    # Get folds\n",
    "    folds = GroupKFold(n_splits=n_splits)\n",
    "    fold_ids = []\n",
    "    ids = np.arange(df.shape[0])\n",
    "    for trn_vis, val_vis in folds.split(X=unique_vis, y=unique_vis, groups=unique_vis):\n",
    "        fold_ids.append(\n",
    "            [\n",
    "                ids[df['fullVisitorId'].isin(unique_vis[trn_vis])],\n",
    "                ids[df['fullVisitorId'].isin(unique_vis[val_vis])]\n",
    "            ]\n",
    "        )\n",
    "\n",
    "    return fold_ids"
   ]
  },
  {
   "cell_type": "code",
   "execution_count": 43,
   "metadata": {},
   "outputs": [],
   "source": [
    "train_features = real_cols + cat_cols\n",
    "y_clf=train[\"r_status\"].astype(\"float\")"
   ]
  },
  {
   "cell_type": "code",
   "execution_count": 44,
   "metadata": {},
   "outputs": [
    {
     "data": {
      "text/plain": [
       "0.0    1689823\n",
       "1.0      18513\n",
       "Name: r_status, dtype: int64"
      ]
     },
     "execution_count": 44,
     "metadata": {},
     "output_type": "execute_result"
    }
   ],
   "source": [
    "y_clf.value_counts()"
   ]
  },
  {
   "cell_type": "code",
   "execution_count": null,
   "metadata": {},
   "outputs": [],
   "source": []
  },
  {
   "cell_type": "code",
   "execution_count": 45,
   "metadata": {},
   "outputs": [
    {
     "name": "stdout",
     "output_type": "stream",
     "text": [
      "[17:12:03] /workspace/src/tree/updater_prune.cc:74: tree pruning end, 1 roots, 352 extra nodes, 0 pruned nodes, max_depth=8\n",
      "[0]\teval-auc:0.967957\ttrain-auc:0.973356\n",
      "Multiple eval metrics have been passed: 'train-auc' will be used for early stopping.\n",
      "\n",
      "Will train until train-auc hasn't improved in 10 rounds.\n",
      "[17:12:04] /workspace/src/tree/updater_prune.cc:74: tree pruning end, 1 roots, 380 extra nodes, 0 pruned nodes, max_depth=8\n",
      "[1]\teval-auc:0.983489\ttrain-auc:0.985396\n",
      "[17:12:05] /workspace/src/tree/updater_prune.cc:74: tree pruning end, 1 roots, 352 extra nodes, 0 pruned nodes, max_depth=8\n",
      "[2]\teval-auc:0.984544\ttrain-auc:0.986889\n",
      "[17:12:06] /workspace/src/tree/updater_prune.cc:74: tree pruning end, 1 roots, 352 extra nodes, 0 pruned nodes, max_depth=8\n",
      "[3]\teval-auc:0.985725\ttrain-auc:0.987607\n",
      "[17:12:07] /workspace/src/tree/updater_prune.cc:74: tree pruning end, 1 roots, 334 extra nodes, 0 pruned nodes, max_depth=8\n",
      "[4]\teval-auc:0.986486\ttrain-auc:0.987966\n",
      "[17:12:08] /workspace/src/tree/updater_prune.cc:74: tree pruning end, 1 roots, 350 extra nodes, 0 pruned nodes, max_depth=8\n",
      "[5]\teval-auc:0.986662\ttrain-auc:0.988306\n",
      "[17:12:09] /workspace/src/tree/updater_prune.cc:74: tree pruning end, 1 roots, 344 extra nodes, 0 pruned nodes, max_depth=8\n",
      "[6]\teval-auc:0.987016\ttrain-auc:0.988492\n",
      "[17:12:10] /workspace/src/tree/updater_prune.cc:74: tree pruning end, 1 roots, 320 extra nodes, 0 pruned nodes, max_depth=8\n",
      "[7]\teval-auc:0.987433\ttrain-auc:0.9886\n",
      "[17:12:11] /workspace/src/tree/updater_prune.cc:74: tree pruning end, 1 roots, 292 extra nodes, 0 pruned nodes, max_depth=8\n",
      "[8]\teval-auc:0.987744\ttrain-auc:0.988762\n",
      "[17:12:12] /workspace/src/tree/updater_prune.cc:74: tree pruning end, 1 roots, 324 extra nodes, 0 pruned nodes, max_depth=8\n",
      "[9]\teval-auc:0.987996\ttrain-auc:0.988889\n",
      "[17:12:13] /workspace/src/tree/updater_prune.cc:74: tree pruning end, 1 roots, 288 extra nodes, 0 pruned nodes, max_depth=8\n",
      "[10]\teval-auc:0.988073\ttrain-auc:0.989011\n",
      "[17:12:14] /workspace/src/tree/updater_prune.cc:74: tree pruning end, 1 roots, 264 extra nodes, 0 pruned nodes, max_depth=8\n",
      "[11]\teval-auc:0.98823\ttrain-auc:0.98914\n",
      "[17:12:15] /workspace/src/tree/updater_prune.cc:74: tree pruning end, 1 roots, 258 extra nodes, 0 pruned nodes, max_depth=8\n",
      "[12]\teval-auc:0.988221\ttrain-auc:0.989162\n",
      "[17:12:16] /workspace/src/tree/updater_prune.cc:74: tree pruning end, 1 roots, 254 extra nodes, 0 pruned nodes, max_depth=8\n",
      "[13]\teval-auc:0.988297\ttrain-auc:0.989213\n",
      "[17:12:17] /workspace/src/tree/updater_prune.cc:74: tree pruning end, 1 roots, 206 extra nodes, 0 pruned nodes, max_depth=8\n",
      "[14]\teval-auc:0.988308\ttrain-auc:0.989247\n",
      "[17:12:18] /workspace/src/tree/updater_prune.cc:74: tree pruning end, 1 roots, 198 extra nodes, 0 pruned nodes, max_depth=8\n",
      "[15]\teval-auc:0.988343\ttrain-auc:0.98928\n",
      "[17:12:18] /workspace/src/tree/updater_prune.cc:74: tree pruning end, 1 roots, 190 extra nodes, 0 pruned nodes, max_depth=8\n",
      "[16]\teval-auc:0.988408\ttrain-auc:0.98937\n",
      "[17:12:19] /workspace/src/tree/updater_prune.cc:74: tree pruning end, 1 roots, 160 extra nodes, 0 pruned nodes, max_depth=8\n",
      "[17]\teval-auc:0.988444\ttrain-auc:0.989417\n",
      "[17:12:20] /workspace/src/tree/updater_prune.cc:74: tree pruning end, 1 roots, 134 extra nodes, 0 pruned nodes, max_depth=8\n",
      "[18]\teval-auc:0.988464\ttrain-auc:0.989437\n",
      "[17:12:21] /workspace/src/tree/updater_prune.cc:74: tree pruning end, 1 roots, 176 extra nodes, 0 pruned nodes, max_depth=8\n",
      "[19]\teval-auc:0.988481\ttrain-auc:0.989431\n",
      "[17:12:22] /workspace/src/tree/updater_prune.cc:74: tree pruning end, 1 roots, 140 extra nodes, 0 pruned nodes, max_depth=8\n",
      "[20]\teval-auc:0.988547\ttrain-auc:0.989494\n",
      "[17:12:23] /workspace/src/tree/updater_prune.cc:74: tree pruning end, 1 roots, 144 extra nodes, 0 pruned nodes, max_depth=8\n",
      "[21]\teval-auc:0.988584\ttrain-auc:0.989552\n",
      "[17:12:24] /workspace/src/tree/updater_prune.cc:74: tree pruning end, 1 roots, 120 extra nodes, 0 pruned nodes, max_depth=8\n",
      "[22]\teval-auc:0.98872\ttrain-auc:0.989657\n",
      "[17:12:24] /workspace/src/tree/updater_prune.cc:74: tree pruning end, 1 roots, 108 extra nodes, 0 pruned nodes, max_depth=8\n",
      "[23]\teval-auc:0.988723\ttrain-auc:0.989674\n",
      "[17:12:25] /workspace/src/tree/updater_prune.cc:74: tree pruning end, 1 roots, 112 extra nodes, 0 pruned nodes, max_depth=8\n",
      "[24]\teval-auc:0.988737\ttrain-auc:0.989702\n",
      "[17:12:26] /workspace/src/tree/updater_prune.cc:74: tree pruning end, 1 roots, 112 extra nodes, 0 pruned nodes, max_depth=8\n",
      "[25]\teval-auc:0.988754\ttrain-auc:0.989752\n",
      "[17:12:27] /workspace/src/tree/updater_prune.cc:74: tree pruning end, 1 roots, 104 extra nodes, 0 pruned nodes, max_depth=8\n",
      "[26]\teval-auc:0.988784\ttrain-auc:0.989788\n",
      "[17:12:28] /workspace/src/tree/updater_prune.cc:74: tree pruning end, 1 roots, 138 extra nodes, 0 pruned nodes, max_depth=8\n",
      "[27]\teval-auc:0.988806\ttrain-auc:0.989848\n",
      "[17:12:29] /workspace/src/tree/updater_prune.cc:74: tree pruning end, 1 roots, 114 extra nodes, 0 pruned nodes, max_depth=8\n",
      "[28]\teval-auc:0.988848\ttrain-auc:0.989902\n",
      "[17:12:30] /workspace/src/tree/updater_prune.cc:74: tree pruning end, 1 roots, 116 extra nodes, 0 pruned nodes, max_depth=8\n",
      "[29]\teval-auc:0.98889\ttrain-auc:0.989934\n",
      "[17:12:30] /workspace/src/tree/updater_prune.cc:74: tree pruning end, 1 roots, 90 extra nodes, 0 pruned nodes, max_depth=8\n",
      "[30]\teval-auc:0.988899\ttrain-auc:0.989979\n",
      "[17:12:31] /workspace/src/tree/updater_prune.cc:74: tree pruning end, 1 roots, 104 extra nodes, 0 pruned nodes, max_depth=8\n",
      "[31]\teval-auc:0.988929\ttrain-auc:0.990019\n",
      "[17:12:32] /workspace/src/tree/updater_prune.cc:74: tree pruning end, 1 roots, 114 extra nodes, 0 pruned nodes, max_depth=8\n",
      "[32]\teval-auc:0.988946\ttrain-auc:0.990058\n",
      "[17:12:33] /workspace/src/tree/updater_prune.cc:74: tree pruning end, 1 roots, 50 extra nodes, 0 pruned nodes, max_depth=8\n",
      "[33]\teval-auc:0.988959\ttrain-auc:0.990077\n",
      "[17:12:34] /workspace/src/tree/updater_prune.cc:74: tree pruning end, 1 roots, 66 extra nodes, 0 pruned nodes, max_depth=8\n",
      "[34]\teval-auc:0.98898\ttrain-auc:0.990098\n",
      "[17:12:34] /workspace/src/tree/updater_prune.cc:74: tree pruning end, 1 roots, 62 extra nodes, 0 pruned nodes, max_depth=8\n",
      "[35]\teval-auc:0.989001\ttrain-auc:0.990123\n",
      "[17:12:35] /workspace/src/tree/updater_prune.cc:74: tree pruning end, 1 roots, 52 extra nodes, 0 pruned nodes, max_depth=8\n",
      "[36]\teval-auc:0.989002\ttrain-auc:0.990138\n",
      "[17:12:36] /workspace/src/tree/updater_prune.cc:74: tree pruning end, 1 roots, 48 extra nodes, 0 pruned nodes, max_depth=8\n",
      "[37]\teval-auc:0.98904\ttrain-auc:0.990162\n",
      "[17:12:37] /workspace/src/tree/updater_prune.cc:74: tree pruning end, 1 roots, 112 extra nodes, 0 pruned nodes, max_depth=8\n",
      "[38]\teval-auc:0.989043\ttrain-auc:0.990198\n",
      "[17:12:37] /workspace/src/tree/updater_prune.cc:74: tree pruning end, 1 roots, 54 extra nodes, 0 pruned nodes, max_depth=8\n",
      "[39]\teval-auc:0.989041\ttrain-auc:0.990212\n",
      "[17:12:38] /workspace/src/tree/updater_prune.cc:74: tree pruning end, 1 roots, 58 extra nodes, 0 pruned nodes, max_depth=8\n",
      "[40]\teval-auc:0.989062\ttrain-auc:0.990237\n",
      "[17:12:39] /workspace/src/tree/updater_prune.cc:74: tree pruning end, 1 roots, 46 extra nodes, 0 pruned nodes, max_depth=8\n",
      "[41]\teval-auc:0.989063\ttrain-auc:0.990248\n",
      "[17:12:39] /workspace/src/tree/updater_prune.cc:74: tree pruning end, 1 roots, 40 extra nodes, 0 pruned nodes, max_depth=8\n",
      "[42]\teval-auc:0.989061\ttrain-auc:0.990263\n",
      "[17:12:40] /workspace/src/tree/updater_prune.cc:74: tree pruning end, 1 roots, 64 extra nodes, 0 pruned nodes, max_depth=8\n",
      "[43]\teval-auc:0.989101\ttrain-auc:0.990297\n",
      "[17:12:41] /workspace/src/tree/updater_prune.cc:74: tree pruning end, 1 roots, 88 extra nodes, 0 pruned nodes, max_depth=8\n",
      "[44]\teval-auc:0.989094\ttrain-auc:0.990323\n",
      "[17:12:42] /workspace/src/tree/updater_prune.cc:74: tree pruning end, 1 roots, 84 extra nodes, 0 pruned nodes, max_depth=8\n",
      "[45]\teval-auc:0.989104\ttrain-auc:0.990355\n",
      "[17:12:42] /workspace/src/tree/updater_prune.cc:74: tree pruning end, 1 roots, 66 extra nodes, 0 pruned nodes, max_depth=8\n",
      "[46]\teval-auc:0.989092\ttrain-auc:0.99038\n",
      "[17:12:43] /workspace/src/tree/updater_prune.cc:74: tree pruning end, 1 roots, 56 extra nodes, 0 pruned nodes, max_depth=8\n",
      "[47]\teval-auc:0.989098\ttrain-auc:0.990402\n",
      "[17:12:44] /workspace/src/tree/updater_prune.cc:74: tree pruning end, 1 roots, 36 extra nodes, 0 pruned nodes, max_depth=8\n",
      "[48]\teval-auc:0.989102\ttrain-auc:0.990421\n"
     ]
    },
    {
     "name": "stdout",
     "output_type": "stream",
     "text": [
      "[17:12:45] /workspace/src/tree/updater_prune.cc:74: tree pruning end, 1 roots, 44 extra nodes, 0 pruned nodes, max_depth=8\n",
      "[49]\teval-auc:0.9891\ttrain-auc:0.990429\n",
      "[17:12:45] /workspace/src/tree/updater_prune.cc:74: tree pruning end, 1 roots, 62 extra nodes, 0 pruned nodes, max_depth=8\n",
      "[50]\teval-auc:0.989107\ttrain-auc:0.990445\n",
      "[17:12:46] /workspace/src/tree/updater_prune.cc:74: tree pruning end, 1 roots, 66 extra nodes, 0 pruned nodes, max_depth=8\n",
      "[51]\teval-auc:0.989109\ttrain-auc:0.990462\n",
      "[17:12:47] /workspace/src/tree/updater_prune.cc:74: tree pruning end, 1 roots, 90 extra nodes, 0 pruned nodes, max_depth=8\n",
      "[52]\teval-auc:0.989105\ttrain-auc:0.990492\n",
      "[17:12:48] /workspace/src/tree/updater_prune.cc:74: tree pruning end, 1 roots, 64 extra nodes, 0 pruned nodes, max_depth=8\n",
      "[53]\teval-auc:0.989112\ttrain-auc:0.990507\n",
      "[17:12:48] /workspace/src/tree/updater_prune.cc:74: tree pruning end, 1 roots, 88 extra nodes, 0 pruned nodes, max_depth=8\n",
      "[54]\teval-auc:0.989139\ttrain-auc:0.990552\n",
      "[17:12:49] /workspace/src/tree/updater_prune.cc:74: tree pruning end, 1 roots, 50 extra nodes, 0 pruned nodes, max_depth=8\n",
      "[55]\teval-auc:0.989151\ttrain-auc:0.990568\n",
      "[17:12:50] /workspace/src/tree/updater_prune.cc:74: tree pruning end, 1 roots, 72 extra nodes, 0 pruned nodes, max_depth=8\n",
      "[56]\teval-auc:0.989144\ttrain-auc:0.990585\n",
      "[17:12:51] /workspace/src/tree/updater_prune.cc:74: tree pruning end, 1 roots, 74 extra nodes, 0 pruned nodes, max_depth=8\n",
      "[57]\teval-auc:0.989144\ttrain-auc:0.990604\n",
      "[17:12:51] /workspace/src/tree/updater_prune.cc:74: tree pruning end, 1 roots, 58 extra nodes, 0 pruned nodes, max_depth=8\n",
      "[58]\teval-auc:0.989153\ttrain-auc:0.990623\n",
      "[17:12:52] /workspace/src/tree/updater_prune.cc:74: tree pruning end, 1 roots, 102 extra nodes, 0 pruned nodes, max_depth=8\n",
      "[59]\teval-auc:0.989151\ttrain-auc:0.990664\n",
      "[17:12:53] /workspace/src/tree/updater_prune.cc:74: tree pruning end, 1 roots, 86 extra nodes, 0 pruned nodes, max_depth=8\n",
      "[60]\teval-auc:0.98915\ttrain-auc:0.990687\n",
      "[17:12:54] /workspace/src/tree/updater_prune.cc:74: tree pruning end, 1 roots, 78 extra nodes, 0 pruned nodes, max_depth=8\n",
      "[61]\teval-auc:0.989198\ttrain-auc:0.990756\n",
      "[17:12:55] /workspace/src/tree/updater_prune.cc:74: tree pruning end, 1 roots, 116 extra nodes, 0 pruned nodes, max_depth=8\n",
      "[62]\teval-auc:0.989211\ttrain-auc:0.990793\n",
      "[17:12:56] /workspace/src/tree/updater_prune.cc:74: tree pruning end, 1 roots, 106 extra nodes, 0 pruned nodes, max_depth=8\n",
      "[63]\teval-auc:0.989209\ttrain-auc:0.990837\n",
      "[17:12:57] /workspace/src/tree/updater_prune.cc:74: tree pruning end, 1 roots, 140 extra nodes, 0 pruned nodes, max_depth=8\n",
      "[64]\teval-auc:0.989202\ttrain-auc:0.99088\n",
      "[17:12:58] /workspace/src/tree/updater_prune.cc:74: tree pruning end, 1 roots, 102 extra nodes, 0 pruned nodes, max_depth=8\n",
      "[65]\teval-auc:0.989211\ttrain-auc:0.99091\n",
      "[17:12:58] /workspace/src/tree/updater_prune.cc:74: tree pruning end, 1 roots, 44 extra nodes, 0 pruned nodes, max_depth=8\n",
      "[66]\teval-auc:0.989219\ttrain-auc:0.990919\n",
      "[17:12:59] /workspace/src/tree/updater_prune.cc:74: tree pruning end, 1 roots, 74 extra nodes, 0 pruned nodes, max_depth=8\n",
      "[67]\teval-auc:0.989222\ttrain-auc:0.990938\n",
      "[17:13:00] /workspace/src/tree/updater_prune.cc:74: tree pruning end, 1 roots, 88 extra nodes, 0 pruned nodes, max_depth=8\n",
      "[68]\teval-auc:0.989234\ttrain-auc:0.990965\n",
      "[17:13:01] /workspace/src/tree/updater_prune.cc:74: tree pruning end, 1 roots, 78 extra nodes, 0 pruned nodes, max_depth=8\n",
      "[69]\teval-auc:0.989255\ttrain-auc:0.990999\n",
      "[17:13:02] /workspace/src/tree/updater_prune.cc:74: tree pruning end, 1 roots, 114 extra nodes, 0 pruned nodes, max_depth=8\n",
      "[70]\teval-auc:0.989258\ttrain-auc:0.991034\n",
      "[17:13:02] /workspace/src/tree/updater_prune.cc:74: tree pruning end, 1 roots, 72 extra nodes, 0 pruned nodes, max_depth=8\n",
      "[71]\teval-auc:0.989277\ttrain-auc:0.991067\n",
      "[17:13:03] /workspace/src/tree/updater_prune.cc:74: tree pruning end, 1 roots, 32 extra nodes, 0 pruned nodes, max_depth=8\n",
      "[72]\teval-auc:0.98928\ttrain-auc:0.991074\n",
      "[17:13:04] /workspace/src/tree/updater_prune.cc:74: tree pruning end, 1 roots, 92 extra nodes, 0 pruned nodes, max_depth=8\n",
      "[73]\teval-auc:0.989283\ttrain-auc:0.991088\n",
      "[17:13:05] /workspace/src/tree/updater_prune.cc:74: tree pruning end, 1 roots, 76 extra nodes, 0 pruned nodes, max_depth=8\n",
      "[74]\teval-auc:0.98929\ttrain-auc:0.991107\n",
      "[17:13:06] /workspace/src/tree/updater_prune.cc:74: tree pruning end, 1 roots, 70 extra nodes, 0 pruned nodes, max_depth=8\n",
      "[75]\teval-auc:0.989302\ttrain-auc:0.991127\n",
      "[17:13:06] /workspace/src/tree/updater_prune.cc:74: tree pruning end, 1 roots, 60 extra nodes, 0 pruned nodes, max_depth=8\n",
      "[76]\teval-auc:0.989292\ttrain-auc:0.991144\n",
      "[17:13:07] /workspace/src/tree/updater_prune.cc:74: tree pruning end, 1 roots, 120 extra nodes, 0 pruned nodes, max_depth=8\n",
      "[77]\teval-auc:0.989313\ttrain-auc:0.991184\n",
      "[17:13:08] /workspace/src/tree/updater_prune.cc:74: tree pruning end, 1 roots, 48 extra nodes, 0 pruned nodes, max_depth=8\n",
      "[78]\teval-auc:0.989317\ttrain-auc:0.991203\n",
      "[17:13:09] /workspace/src/tree/updater_prune.cc:74: tree pruning end, 1 roots, 56 extra nodes, 0 pruned nodes, max_depth=8\n",
      "[79]\teval-auc:0.989321\ttrain-auc:0.991215\n",
      "[17:13:10] /workspace/src/tree/updater_prune.cc:74: tree pruning end, 1 roots, 50 extra nodes, 0 pruned nodes, max_depth=8\n",
      "[80]\teval-auc:0.989312\ttrain-auc:0.991227\n",
      "[17:13:11] /workspace/src/tree/updater_prune.cc:74: tree pruning end, 1 roots, 46 extra nodes, 0 pruned nodes, max_depth=8\n",
      "[81]\teval-auc:0.989314\ttrain-auc:0.991238\n",
      "[17:13:11] /workspace/src/tree/updater_prune.cc:74: tree pruning end, 1 roots, 34 extra nodes, 0 pruned nodes, max_depth=8\n",
      "[82]\teval-auc:0.989307\ttrain-auc:0.991249\n",
      "[17:13:12] /workspace/src/tree/updater_prune.cc:74: tree pruning end, 1 roots, 84 extra nodes, 0 pruned nodes, max_depth=8\n",
      "[83]\teval-auc:0.989295\ttrain-auc:0.991271\n",
      "[17:13:13] /workspace/src/tree/updater_prune.cc:74: tree pruning end, 1 roots, 80 extra nodes, 0 pruned nodes, max_depth=8\n",
      "[84]\teval-auc:0.989287\ttrain-auc:0.99129\n",
      "[17:13:14] /workspace/src/tree/updater_prune.cc:74: tree pruning end, 1 roots, 64 extra nodes, 0 pruned nodes, max_depth=8\n",
      "[85]\teval-auc:0.989277\ttrain-auc:0.991304\n",
      "[17:13:15] /workspace/src/tree/updater_prune.cc:74: tree pruning end, 1 roots, 98 extra nodes, 0 pruned nodes, max_depth=8\n",
      "[86]\teval-auc:0.98928\ttrain-auc:0.991328\n",
      "[17:13:15] /workspace/src/tree/updater_prune.cc:74: tree pruning end, 1 roots, 76 extra nodes, 0 pruned nodes, max_depth=8\n",
      "[87]\teval-auc:0.989275\ttrain-auc:0.991344\n",
      "[17:13:16] /workspace/src/tree/updater_prune.cc:74: tree pruning end, 1 roots, 90 extra nodes, 0 pruned nodes, max_depth=8\n",
      "[88]\teval-auc:0.989277\ttrain-auc:0.991363\n",
      "[17:13:17] /workspace/src/tree/updater_prune.cc:74: tree pruning end, 1 roots, 34 extra nodes, 0 pruned nodes, max_depth=8\n",
      "[89]\teval-auc:0.989288\ttrain-auc:0.991374\n",
      "[17:13:18] /workspace/src/tree/updater_prune.cc:74: tree pruning end, 1 roots, 106 extra nodes, 0 pruned nodes, max_depth=8\n",
      "[90]\teval-auc:0.989285\ttrain-auc:0.991394\n",
      "[17:13:18] /workspace/src/tree/updater_prune.cc:74: tree pruning end, 1 roots, 66 extra nodes, 0 pruned nodes, max_depth=8\n",
      "[91]\teval-auc:0.989276\ttrain-auc:0.991404\n",
      "[17:13:19] /workspace/src/tree/updater_prune.cc:74: tree pruning end, 1 roots, 114 extra nodes, 0 pruned nodes, max_depth=8\n",
      "[92]\teval-auc:0.989271\ttrain-auc:0.991432\n",
      "[17:13:20] /workspace/src/tree/updater_prune.cc:74: tree pruning end, 1 roots, 70 extra nodes, 0 pruned nodes, max_depth=8\n",
      "[93]\teval-auc:0.989279\ttrain-auc:0.991453\n",
      "[17:13:21] /workspace/src/tree/updater_prune.cc:74: tree pruning end, 1 roots, 64 extra nodes, 0 pruned nodes, max_depth=8\n",
      "[94]\teval-auc:0.989291\ttrain-auc:0.991468\n",
      "[17:13:22] /workspace/src/tree/updater_prune.cc:74: tree pruning end, 1 roots, 90 extra nodes, 0 pruned nodes, max_depth=8\n",
      "[95]\teval-auc:0.989286\ttrain-auc:0.991489\n",
      "[17:13:23] /workspace/src/tree/updater_prune.cc:74: tree pruning end, 1 roots, 88 extra nodes, 0 pruned nodes, max_depth=8\n",
      "[96]\teval-auc:0.989295\ttrain-auc:0.991504\n",
      "[17:13:24] /workspace/src/tree/updater_prune.cc:74: tree pruning end, 1 roots, 82 extra nodes, 0 pruned nodes, max_depth=8\n",
      "[97]\teval-auc:0.989294\ttrain-auc:0.991518\n",
      "[17:13:24] /workspace/src/tree/updater_prune.cc:74: tree pruning end, 1 roots, 94 extra nodes, 0 pruned nodes, max_depth=8\n",
      "[98]\teval-auc:0.989295\ttrain-auc:0.991541\n"
     ]
    },
    {
     "name": "stdout",
     "output_type": "stream",
     "text": [
      "[17:13:25] /workspace/src/tree/updater_prune.cc:74: tree pruning end, 1 roots, 72 extra nodes, 0 pruned nodes, max_depth=8\n",
      "[99]\teval-auc:0.989304\ttrain-auc:0.991553\n",
      "[17:13:33] /workspace/src/tree/updater_prune.cc:74: tree pruning end, 1 roots, 378 extra nodes, 0 pruned nodes, max_depth=8\n",
      "[0]\teval-auc:0.980004\ttrain-auc:0.982923\n",
      "Multiple eval metrics have been passed: 'train-auc' will be used for early stopping.\n",
      "\n",
      "Will train until train-auc hasn't improved in 10 rounds.\n",
      "[17:13:34] /workspace/src/tree/updater_prune.cc:74: tree pruning end, 1 roots, 378 extra nodes, 0 pruned nodes, max_depth=8\n",
      "[1]\teval-auc:0.984037\ttrain-auc:0.986364\n",
      "[17:13:35] /workspace/src/tree/updater_prune.cc:74: tree pruning end, 1 roots, 320 extra nodes, 0 pruned nodes, max_depth=8\n",
      "[2]\teval-auc:0.986422\ttrain-auc:0.987381\n",
      "[17:13:36] /workspace/src/tree/updater_prune.cc:74: tree pruning end, 1 roots, 364 extra nodes, 0 pruned nodes, max_depth=8\n",
      "[3]\teval-auc:0.986252\ttrain-auc:0.987838\n",
      "[17:13:37] /workspace/src/tree/updater_prune.cc:74: tree pruning end, 1 roots, 344 extra nodes, 0 pruned nodes, max_depth=8\n",
      "[4]\teval-auc:0.986142\ttrain-auc:0.987791\n",
      "[17:13:37] /workspace/src/tree/updater_prune.cc:74: tree pruning end, 1 roots, 234 extra nodes, 0 pruned nodes, max_depth=8\n",
      "[5]\teval-auc:0.986829\ttrain-auc:0.987648\n",
      "[17:13:38] /workspace/src/tree/updater_prune.cc:74: tree pruning end, 1 roots, 334 extra nodes, 0 pruned nodes, max_depth=8\n",
      "[6]\teval-auc:0.986755\ttrain-auc:0.987689\n",
      "[17:13:39] /workspace/src/tree/updater_prune.cc:74: tree pruning end, 1 roots, 304 extra nodes, 0 pruned nodes, max_depth=8\n",
      "[7]\teval-auc:0.986893\ttrain-auc:0.98786\n",
      "[17:13:40] /workspace/src/tree/updater_prune.cc:74: tree pruning end, 1 roots, 302 extra nodes, 0 pruned nodes, max_depth=8\n",
      "[8]\teval-auc:0.987523\ttrain-auc:0.988264\n",
      "[17:13:41] /workspace/src/tree/updater_prune.cc:74: tree pruning end, 1 roots, 290 extra nodes, 0 pruned nodes, max_depth=8\n",
      "[9]\teval-auc:0.987585\ttrain-auc:0.988329\n",
      "[17:13:42] /workspace/src/tree/updater_prune.cc:74: tree pruning end, 1 roots, 270 extra nodes, 0 pruned nodes, max_depth=8\n",
      "[10]\teval-auc:0.987873\ttrain-auc:0.98866\n",
      "[17:13:43] /workspace/src/tree/updater_prune.cc:74: tree pruning end, 1 roots, 244 extra nodes, 0 pruned nodes, max_depth=8\n",
      "[11]\teval-auc:0.988054\ttrain-auc:0.988799\n",
      "[17:13:44] /workspace/src/tree/updater_prune.cc:74: tree pruning end, 1 roots, 250 extra nodes, 0 pruned nodes, max_depth=8\n",
      "[12]\teval-auc:0.98821\ttrain-auc:0.988979\n",
      "[17:13:45] /workspace/src/tree/updater_prune.cc:74: tree pruning end, 1 roots, 240 extra nodes, 0 pruned nodes, max_depth=8\n",
      "[13]\teval-auc:0.988192\ttrain-auc:0.988976\n",
      "[17:13:46] /workspace/src/tree/updater_prune.cc:74: tree pruning end, 1 roots, 224 extra nodes, 0 pruned nodes, max_depth=8\n",
      "[14]\teval-auc:0.988139\ttrain-auc:0.988887\n",
      "[17:13:47] /workspace/src/tree/updater_prune.cc:74: tree pruning end, 1 roots, 206 extra nodes, 0 pruned nodes, max_depth=8\n",
      "[15]\teval-auc:0.988119\ttrain-auc:0.988887\n",
      "[17:13:48] /workspace/src/tree/updater_prune.cc:74: tree pruning end, 1 roots, 198 extra nodes, 0 pruned nodes, max_depth=8\n",
      "[16]\teval-auc:0.988251\ttrain-auc:0.989012\n",
      "[17:13:49] /workspace/src/tree/updater_prune.cc:74: tree pruning end, 1 roots, 178 extra nodes, 0 pruned nodes, max_depth=8\n",
      "[17]\teval-auc:0.988328\ttrain-auc:0.989097\n",
      "[17:13:50] /workspace/src/tree/updater_prune.cc:74: tree pruning end, 1 roots, 182 extra nodes, 0 pruned nodes, max_depth=8\n",
      "[18]\teval-auc:0.988441\ttrain-auc:0.989181\n",
      "[17:13:51] /workspace/src/tree/updater_prune.cc:74: tree pruning end, 1 roots, 174 extra nodes, 0 pruned nodes, max_depth=8\n",
      "[19]\teval-auc:0.988548\ttrain-auc:0.989294\n",
      "[17:13:51] /workspace/src/tree/updater_prune.cc:74: tree pruning end, 1 roots, 124 extra nodes, 0 pruned nodes, max_depth=8\n",
      "[20]\teval-auc:0.988592\ttrain-auc:0.989333\n",
      "[17:13:52] /workspace/src/tree/updater_prune.cc:74: tree pruning end, 1 roots, 154 extra nodes, 0 pruned nodes, max_depth=8\n",
      "[21]\teval-auc:0.988598\ttrain-auc:0.989397\n",
      "[17:13:53] /workspace/src/tree/updater_prune.cc:74: tree pruning end, 1 roots, 144 extra nodes, 0 pruned nodes, max_depth=8\n",
      "[22]\teval-auc:0.988683\ttrain-auc:0.989518\n",
      "[17:13:54] /workspace/src/tree/updater_prune.cc:74: tree pruning end, 1 roots, 102 extra nodes, 0 pruned nodes, max_depth=8\n",
      "[23]\teval-auc:0.988703\ttrain-auc:0.989535\n",
      "[17:13:55] /workspace/src/tree/updater_prune.cc:74: tree pruning end, 1 roots, 114 extra nodes, 0 pruned nodes, max_depth=8\n",
      "[24]\teval-auc:0.98875\ttrain-auc:0.9896\n",
      "[17:13:56] /workspace/src/tree/updater_prune.cc:74: tree pruning end, 1 roots, 106 extra nodes, 0 pruned nodes, max_depth=8\n",
      "[25]\teval-auc:0.988798\ttrain-auc:0.989638\n",
      "[17:13:56] /workspace/src/tree/updater_prune.cc:74: tree pruning end, 1 roots, 120 extra nodes, 0 pruned nodes, max_depth=8\n",
      "[26]\teval-auc:0.988852\ttrain-auc:0.989695\n",
      "[17:13:57] /workspace/src/tree/updater_prune.cc:74: tree pruning end, 1 roots, 106 extra nodes, 0 pruned nodes, max_depth=8\n",
      "[27]\teval-auc:0.988865\ttrain-auc:0.989725\n",
      "[17:13:58] /workspace/src/tree/updater_prune.cc:74: tree pruning end, 1 roots, 140 extra nodes, 0 pruned nodes, max_depth=8\n",
      "[28]\teval-auc:0.988901\ttrain-auc:0.989788\n",
      "[17:13:59] /workspace/src/tree/updater_prune.cc:74: tree pruning end, 1 roots, 74 extra nodes, 0 pruned nodes, max_depth=8\n",
      "[29]\teval-auc:0.988895\ttrain-auc:0.989799\n",
      "[17:14:00] /workspace/src/tree/updater_prune.cc:74: tree pruning end, 1 roots, 90 extra nodes, 0 pruned nodes, max_depth=8\n",
      "[30]\teval-auc:0.988912\ttrain-auc:0.989825\n",
      "[17:14:01] /workspace/src/tree/updater_prune.cc:74: tree pruning end, 1 roots, 76 extra nodes, 0 pruned nodes, max_depth=8\n",
      "[31]\teval-auc:0.988956\ttrain-auc:0.989856\n",
      "[17:14:01] /workspace/src/tree/updater_prune.cc:74: tree pruning end, 1 roots, 42 extra nodes, 0 pruned nodes, max_depth=8\n",
      "[32]\teval-auc:0.988965\ttrain-auc:0.989862\n",
      "[17:14:02] /workspace/src/tree/updater_prune.cc:74: tree pruning end, 1 roots, 114 extra nodes, 0 pruned nodes, max_depth=8\n",
      "[33]\teval-auc:0.989013\ttrain-auc:0.989924\n",
      "[17:14:03] /workspace/src/tree/updater_prune.cc:74: tree pruning end, 1 roots, 94 extra nodes, 0 pruned nodes, max_depth=8\n",
      "[34]\teval-auc:0.989055\ttrain-auc:0.989971\n",
      "[17:14:04] /workspace/src/tree/updater_prune.cc:74: tree pruning end, 1 roots, 104 extra nodes, 0 pruned nodes, max_depth=8\n",
      "[35]\teval-auc:0.989066\ttrain-auc:0.990014\n",
      "[17:14:04] /workspace/src/tree/updater_prune.cc:74: tree pruning end, 1 roots, 26 extra nodes, 0 pruned nodes, max_depth=8\n",
      "[36]\teval-auc:0.989074\ttrain-auc:0.990016\n",
      "[17:14:05] /workspace/src/tree/updater_prune.cc:74: tree pruning end, 1 roots, 100 extra nodes, 0 pruned nodes, max_depth=8\n",
      "[37]\teval-auc:0.989088\ttrain-auc:0.990059\n",
      "[17:14:06] /workspace/src/tree/updater_prune.cc:74: tree pruning end, 1 roots, 42 extra nodes, 0 pruned nodes, max_depth=8\n",
      "[38]\teval-auc:0.989103\ttrain-auc:0.990074\n",
      "[17:14:07] /workspace/src/tree/updater_prune.cc:74: tree pruning end, 1 roots, 84 extra nodes, 0 pruned nodes, max_depth=8\n",
      "[39]\teval-auc:0.989144\ttrain-auc:0.990138\n",
      "[17:14:07] /workspace/src/tree/updater_prune.cc:74: tree pruning end, 1 roots, 50 extra nodes, 0 pruned nodes, max_depth=8\n",
      "[40]\teval-auc:0.989164\ttrain-auc:0.990171\n",
      "[17:14:08] /workspace/src/tree/updater_prune.cc:74: tree pruning end, 1 roots, 104 extra nodes, 0 pruned nodes, max_depth=8\n",
      "[41]\teval-auc:0.989185\ttrain-auc:0.990223\n",
      "[17:14:09] /workspace/src/tree/updater_prune.cc:74: tree pruning end, 1 roots, 46 extra nodes, 0 pruned nodes, max_depth=8\n",
      "[42]\teval-auc:0.989196\ttrain-auc:0.990235\n",
      "[17:14:10] /workspace/src/tree/updater_prune.cc:74: tree pruning end, 1 roots, 76 extra nodes, 0 pruned nodes, max_depth=8\n",
      "[43]\teval-auc:0.989206\ttrain-auc:0.990257\n",
      "[17:14:10] /workspace/src/tree/updater_prune.cc:74: tree pruning end, 1 roots, 44 extra nodes, 0 pruned nodes, max_depth=8\n",
      "[44]\teval-auc:0.989211\ttrain-auc:0.99027\n",
      "[17:14:11] /workspace/src/tree/updater_prune.cc:74: tree pruning end, 1 roots, 48 extra nodes, 0 pruned nodes, max_depth=8\n",
      "[45]\teval-auc:0.989213\ttrain-auc:0.99029\n",
      "[17:14:12] /workspace/src/tree/updater_prune.cc:74: tree pruning end, 1 roots, 54 extra nodes, 0 pruned nodes, max_depth=8\n",
      "[46]\teval-auc:0.989233\ttrain-auc:0.990322\n",
      "[17:14:12] /workspace/src/tree/updater_prune.cc:74: tree pruning end, 1 roots, 102 extra nodes, 0 pruned nodes, max_depth=8\n",
      "[47]\teval-auc:0.989259\ttrain-auc:0.990364\n"
     ]
    },
    {
     "name": "stdout",
     "output_type": "stream",
     "text": [
      "[17:14:13] /workspace/src/tree/updater_prune.cc:74: tree pruning end, 1 roots, 98 extra nodes, 0 pruned nodes, max_depth=8\n",
      "[48]\teval-auc:0.98925\ttrain-auc:0.990393\n",
      "[17:14:14] /workspace/src/tree/updater_prune.cc:74: tree pruning end, 1 roots, 52 extra nodes, 0 pruned nodes, max_depth=8\n",
      "[49]\teval-auc:0.989262\ttrain-auc:0.990408\n",
      "[17:14:15] /workspace/src/tree/updater_prune.cc:74: tree pruning end, 1 roots, 80 extra nodes, 0 pruned nodes, max_depth=8\n",
      "[50]\teval-auc:0.989269\ttrain-auc:0.990439\n",
      "[17:14:15] /workspace/src/tree/updater_prune.cc:74: tree pruning end, 1 roots, 62 extra nodes, 0 pruned nodes, max_depth=8\n",
      "[51]\teval-auc:0.989282\ttrain-auc:0.990464\n",
      "[17:14:16] /workspace/src/tree/updater_prune.cc:74: tree pruning end, 1 roots, 124 extra nodes, 0 pruned nodes, max_depth=8\n",
      "[52]\teval-auc:0.989309\ttrain-auc:0.990537\n",
      "[17:14:17] /workspace/src/tree/updater_prune.cc:74: tree pruning end, 1 roots, 56 extra nodes, 0 pruned nodes, max_depth=8\n",
      "[53]\teval-auc:0.989324\ttrain-auc:0.990558\n",
      "[17:14:18] /workspace/src/tree/updater_prune.cc:74: tree pruning end, 1 roots, 114 extra nodes, 0 pruned nodes, max_depth=8\n",
      "[54]\teval-auc:0.989329\ttrain-auc:0.990595\n",
      "[17:14:19] /workspace/src/tree/updater_prune.cc:74: tree pruning end, 1 roots, 108 extra nodes, 0 pruned nodes, max_depth=8\n",
      "[55]\teval-auc:0.989343\ttrain-auc:0.990631\n",
      "[17:14:20] /workspace/src/tree/updater_prune.cc:74: tree pruning end, 1 roots, 94 extra nodes, 0 pruned nodes, max_depth=8\n",
      "[56]\teval-auc:0.989354\ttrain-auc:0.990667\n",
      "[17:14:21] /workspace/src/tree/updater_prune.cc:74: tree pruning end, 1 roots, 90 extra nodes, 0 pruned nodes, max_depth=8\n",
      "[57]\teval-auc:0.989364\ttrain-auc:0.990696\n",
      "[17:14:21] /workspace/src/tree/updater_prune.cc:74: tree pruning end, 1 roots, 152 extra nodes, 0 pruned nodes, max_depth=8\n",
      "[58]\teval-auc:0.989353\ttrain-auc:0.990745\n",
      "[17:14:22] /workspace/src/tree/updater_prune.cc:74: tree pruning end, 1 roots, 38 extra nodes, 0 pruned nodes, max_depth=8\n",
      "[59]\teval-auc:0.989357\ttrain-auc:0.990757\n",
      "[17:14:23] /workspace/src/tree/updater_prune.cc:74: tree pruning end, 1 roots, 64 extra nodes, 0 pruned nodes, max_depth=8\n",
      "[60]\teval-auc:0.989364\ttrain-auc:0.99078\n",
      "[17:14:24] /workspace/src/tree/updater_prune.cc:74: tree pruning end, 1 roots, 64 extra nodes, 0 pruned nodes, max_depth=8\n",
      "[61]\teval-auc:0.989373\ttrain-auc:0.990792\n",
      "[17:14:25] /workspace/src/tree/updater_prune.cc:74: tree pruning end, 1 roots, 66 extra nodes, 0 pruned nodes, max_depth=8\n",
      "[62]\teval-auc:0.989382\ttrain-auc:0.990809\n",
      "[17:14:25] /workspace/src/tree/updater_prune.cc:74: tree pruning end, 1 roots, 42 extra nodes, 0 pruned nodes, max_depth=8\n",
      "[63]\teval-auc:0.989395\ttrain-auc:0.990824\n",
      "[17:14:26] /workspace/src/tree/updater_prune.cc:74: tree pruning end, 1 roots, 108 extra nodes, 0 pruned nodes, max_depth=8\n",
      "[64]\teval-auc:0.989402\ttrain-auc:0.990858\n",
      "[17:14:27] /workspace/src/tree/updater_prune.cc:74: tree pruning end, 1 roots, 106 extra nodes, 0 pruned nodes, max_depth=8\n",
      "[65]\teval-auc:0.989415\ttrain-auc:0.990888\n",
      "[17:14:28] /workspace/src/tree/updater_prune.cc:74: tree pruning end, 1 roots, 70 extra nodes, 0 pruned nodes, max_depth=8\n",
      "[66]\teval-auc:0.989409\ttrain-auc:0.990901\n",
      "[17:14:29] /workspace/src/tree/updater_prune.cc:74: tree pruning end, 1 roots, 92 extra nodes, 0 pruned nodes, max_depth=8\n",
      "[67]\teval-auc:0.989417\ttrain-auc:0.990933\n",
      "[17:14:29] /workspace/src/tree/updater_prune.cc:74: tree pruning end, 1 roots, 48 extra nodes, 0 pruned nodes, max_depth=8\n",
      "[68]\teval-auc:0.989407\ttrain-auc:0.990944\n",
      "[17:14:30] /workspace/src/tree/updater_prune.cc:74: tree pruning end, 1 roots, 54 extra nodes, 0 pruned nodes, max_depth=8\n",
      "[69]\teval-auc:0.989406\ttrain-auc:0.990957\n",
      "[17:14:31] /workspace/src/tree/updater_prune.cc:74: tree pruning end, 1 roots, 58 extra nodes, 0 pruned nodes, max_depth=8\n",
      "[70]\teval-auc:0.989407\ttrain-auc:0.990977\n",
      "[17:14:32] /workspace/src/tree/updater_prune.cc:74: tree pruning end, 1 roots, 116 extra nodes, 0 pruned nodes, max_depth=8\n",
      "[71]\teval-auc:0.989399\ttrain-auc:0.991007\n",
      "[17:14:33] /workspace/src/tree/updater_prune.cc:74: tree pruning end, 1 roots, 110 extra nodes, 0 pruned nodes, max_depth=8\n",
      "[72]\teval-auc:0.989384\ttrain-auc:0.991029\n",
      "[17:14:34] /workspace/src/tree/updater_prune.cc:74: tree pruning end, 1 roots, 84 extra nodes, 0 pruned nodes, max_depth=8\n",
      "[73]\teval-auc:0.989378\ttrain-auc:0.991048\n",
      "[17:14:34] /workspace/src/tree/updater_prune.cc:74: tree pruning end, 1 roots, 76 extra nodes, 0 pruned nodes, max_depth=8\n",
      "[74]\teval-auc:0.989389\ttrain-auc:0.991069\n",
      "[17:14:35] /workspace/src/tree/updater_prune.cc:74: tree pruning end, 1 roots, 118 extra nodes, 0 pruned nodes, max_depth=8\n",
      "[75]\teval-auc:0.989387\ttrain-auc:0.99109\n",
      "[17:14:36] /workspace/src/tree/updater_prune.cc:74: tree pruning end, 1 roots, 46 extra nodes, 0 pruned nodes, max_depth=8\n",
      "[76]\teval-auc:0.989391\ttrain-auc:0.991116\n",
      "[17:14:37] /workspace/src/tree/updater_prune.cc:74: tree pruning end, 1 roots, 64 extra nodes, 0 pruned nodes, max_depth=8\n",
      "[77]\teval-auc:0.989394\ttrain-auc:0.991131\n",
      "[17:14:38] /workspace/src/tree/updater_prune.cc:74: tree pruning end, 1 roots, 98 extra nodes, 0 pruned nodes, max_depth=8\n",
      "[78]\teval-auc:0.989382\ttrain-auc:0.991156\n",
      "[17:14:39] /workspace/src/tree/updater_prune.cc:74: tree pruning end, 1 roots, 84 extra nodes, 0 pruned nodes, max_depth=8\n",
      "[79]\teval-auc:0.989391\ttrain-auc:0.991183\n",
      "[17:14:39] /workspace/src/tree/updater_prune.cc:74: tree pruning end, 1 roots, 94 extra nodes, 0 pruned nodes, max_depth=8\n",
      "[80]\teval-auc:0.989401\ttrain-auc:0.991208\n",
      "[17:14:40] /workspace/src/tree/updater_prune.cc:74: tree pruning end, 1 roots, 100 extra nodes, 0 pruned nodes, max_depth=8\n",
      "[81]\teval-auc:0.989417\ttrain-auc:0.991234\n",
      "[17:14:41] /workspace/src/tree/updater_prune.cc:74: tree pruning end, 1 roots, 120 extra nodes, 0 pruned nodes, max_depth=8\n",
      "[82]\teval-auc:0.989414\ttrain-auc:0.991262\n",
      "[17:14:42] /workspace/src/tree/updater_prune.cc:74: tree pruning end, 1 roots, 34 extra nodes, 0 pruned nodes, max_depth=8\n",
      "[83]\teval-auc:0.989412\ttrain-auc:0.991269\n",
      "[17:14:43] /workspace/src/tree/updater_prune.cc:74: tree pruning end, 1 roots, 26 extra nodes, 0 pruned nodes, max_depth=8\n",
      "[84]\teval-auc:0.989423\ttrain-auc:0.991283\n",
      "[17:14:43] /workspace/src/tree/updater_prune.cc:74: tree pruning end, 1 roots, 34 extra nodes, 0 pruned nodes, max_depth=8\n",
      "[85]\teval-auc:0.989422\ttrain-auc:0.991291\n",
      "[17:14:44] /workspace/src/tree/updater_prune.cc:74: tree pruning end, 1 roots, 62 extra nodes, 0 pruned nodes, max_depth=8\n",
      "[86]\teval-auc:0.989416\ttrain-auc:0.991304\n",
      "[17:14:45] /workspace/src/tree/updater_prune.cc:74: tree pruning end, 1 roots, 58 extra nodes, 0 pruned nodes, max_depth=8\n",
      "[87]\teval-auc:0.989424\ttrain-auc:0.991315\n",
      "[17:14:46] /workspace/src/tree/updater_prune.cc:74: tree pruning end, 1 roots, 46 extra nodes, 0 pruned nodes, max_depth=8\n",
      "[88]\teval-auc:0.989425\ttrain-auc:0.991324\n",
      "[17:14:46] /workspace/src/tree/updater_prune.cc:74: tree pruning end, 1 roots, 66 extra nodes, 0 pruned nodes, max_depth=8\n",
      "[89]\teval-auc:0.989425\ttrain-auc:0.991339\n",
      "[17:14:47] /workspace/src/tree/updater_prune.cc:74: tree pruning end, 1 roots, 74 extra nodes, 0 pruned nodes, max_depth=8\n",
      "[90]\teval-auc:0.989426\ttrain-auc:0.991355\n",
      "[17:14:48] /workspace/src/tree/updater_prune.cc:74: tree pruning end, 1 roots, 74 extra nodes, 0 pruned nodes, max_depth=8\n",
      "[91]\teval-auc:0.989426\ttrain-auc:0.991375\n",
      "[17:14:49] /workspace/src/tree/updater_prune.cc:74: tree pruning end, 1 roots, 102 extra nodes, 0 pruned nodes, max_depth=8\n",
      "[92]\teval-auc:0.989411\ttrain-auc:0.991393\n",
      "[17:14:50] /workspace/src/tree/updater_prune.cc:74: tree pruning end, 1 roots, 44 extra nodes, 0 pruned nodes, max_depth=8\n",
      "[93]\teval-auc:0.989414\ttrain-auc:0.991406\n",
      "[17:14:51] /workspace/src/tree/updater_prune.cc:74: tree pruning end, 1 roots, 118 extra nodes, 0 pruned nodes, max_depth=8\n",
      "[94]\teval-auc:0.989431\ttrain-auc:0.991436\n",
      "[17:14:51] /workspace/src/tree/updater_prune.cc:74: tree pruning end, 1 roots, 74 extra nodes, 0 pruned nodes, max_depth=8\n",
      "[95]\teval-auc:0.989427\ttrain-auc:0.99145\n",
      "[17:14:52] /workspace/src/tree/updater_prune.cc:74: tree pruning end, 1 roots, 56 extra nodes, 0 pruned nodes, max_depth=8\n",
      "[96]\teval-auc:0.989438\ttrain-auc:0.99147\n",
      "[17:14:53] /workspace/src/tree/updater_prune.cc:74: tree pruning end, 1 roots, 102 extra nodes, 0 pruned nodes, max_depth=8\n",
      "[97]\teval-auc:0.989451\ttrain-auc:0.991498\n"
     ]
    },
    {
     "name": "stdout",
     "output_type": "stream",
     "text": [
      "[17:14:54] /workspace/src/tree/updater_prune.cc:74: tree pruning end, 1 roots, 98 extra nodes, 0 pruned nodes, max_depth=8\n",
      "[98]\teval-auc:0.989441\ttrain-auc:0.991517\n",
      "[17:14:55] /workspace/src/tree/updater_prune.cc:74: tree pruning end, 1 roots, 52 extra nodes, 0 pruned nodes, max_depth=8\n",
      "[99]\teval-auc:0.989441\ttrain-auc:0.991535\n",
      "[17:15:02] /workspace/src/tree/updater_prune.cc:74: tree pruning end, 1 roots, 356 extra nodes, 0 pruned nodes, max_depth=8\n",
      "[0]\teval-auc:0.979662\ttrain-auc:0.983542\n",
      "Multiple eval metrics have been passed: 'train-auc' will be used for early stopping.\n",
      "\n",
      "Will train until train-auc hasn't improved in 10 rounds.\n",
      "[17:15:03] /workspace/src/tree/updater_prune.cc:74: tree pruning end, 1 roots, 342 extra nodes, 0 pruned nodes, max_depth=8\n",
      "[1]\teval-auc:0.984183\ttrain-auc:0.985758\n",
      "[17:15:04] /workspace/src/tree/updater_prune.cc:74: tree pruning end, 1 roots, 406 extra nodes, 0 pruned nodes, max_depth=8\n",
      "[2]\teval-auc:0.985228\ttrain-auc:0.986608\n",
      "[17:15:05] /workspace/src/tree/updater_prune.cc:74: tree pruning end, 1 roots, 348 extra nodes, 0 pruned nodes, max_depth=8\n",
      "[3]\teval-auc:0.98596\ttrain-auc:0.987647\n",
      "[17:15:06] /workspace/src/tree/updater_prune.cc:74: tree pruning end, 1 roots, 330 extra nodes, 0 pruned nodes, max_depth=8\n",
      "[4]\teval-auc:0.986523\ttrain-auc:0.98752\n",
      "[17:15:07] /workspace/src/tree/updater_prune.cc:74: tree pruning end, 1 roots, 352 extra nodes, 0 pruned nodes, max_depth=8\n",
      "[5]\teval-auc:0.986697\ttrain-auc:0.98797\n",
      "[17:15:08] /workspace/src/tree/updater_prune.cc:74: tree pruning end, 1 roots, 300 extra nodes, 0 pruned nodes, max_depth=8\n",
      "[6]\teval-auc:0.987194\ttrain-auc:0.988204\n",
      "[17:15:09] /workspace/src/tree/updater_prune.cc:74: tree pruning end, 1 roots, 306 extra nodes, 0 pruned nodes, max_depth=8\n",
      "[7]\teval-auc:0.987472\ttrain-auc:0.988524\n",
      "[17:15:10] /workspace/src/tree/updater_prune.cc:74: tree pruning end, 1 roots, 304 extra nodes, 0 pruned nodes, max_depth=8\n",
      "[8]\teval-auc:0.987661\ttrain-auc:0.988664\n",
      "[17:15:11] /workspace/src/tree/updater_prune.cc:74: tree pruning end, 1 roots, 336 extra nodes, 0 pruned nodes, max_depth=8\n",
      "[9]\teval-auc:0.987571\ttrain-auc:0.988582\n",
      "[17:15:11] /workspace/src/tree/updater_prune.cc:74: tree pruning end, 1 roots, 278 extra nodes, 0 pruned nodes, max_depth=8\n",
      "[10]\teval-auc:0.987608\ttrain-auc:0.988725\n",
      "[17:15:12] /workspace/src/tree/updater_prune.cc:74: tree pruning end, 1 roots, 282 extra nodes, 0 pruned nodes, max_depth=8\n",
      "[11]\teval-auc:0.987711\ttrain-auc:0.988969\n",
      "[17:15:13] /workspace/src/tree/updater_prune.cc:74: tree pruning end, 1 roots, 244 extra nodes, 0 pruned nodes, max_depth=8\n",
      "[12]\teval-auc:0.987961\ttrain-auc:0.989007\n",
      "[17:15:14] /workspace/src/tree/updater_prune.cc:74: tree pruning end, 1 roots, 310 extra nodes, 0 pruned nodes, max_depth=8\n",
      "[13]\teval-auc:0.987712\ttrain-auc:0.988942\n",
      "[17:15:15] /workspace/src/tree/updater_prune.cc:74: tree pruning end, 1 roots, 288 extra nodes, 0 pruned nodes, max_depth=8\n",
      "[14]\teval-auc:0.987877\ttrain-auc:0.989119\n",
      "[17:15:16] /workspace/src/tree/updater_prune.cc:74: tree pruning end, 1 roots, 208 extra nodes, 0 pruned nodes, max_depth=8\n",
      "[15]\teval-auc:0.988034\ttrain-auc:0.9892\n",
      "[17:15:17] /workspace/src/tree/updater_prune.cc:74: tree pruning end, 1 roots, 264 extra nodes, 0 pruned nodes, max_depth=8\n",
      "[16]\teval-auc:0.988005\ttrain-auc:0.989279\n",
      "[17:15:18] /workspace/src/tree/updater_prune.cc:74: tree pruning end, 1 roots, 162 extra nodes, 0 pruned nodes, max_depth=8\n",
      "[17]\teval-auc:0.988088\ttrain-auc:0.989368\n",
      "[17:15:19] /workspace/src/tree/updater_prune.cc:74: tree pruning end, 1 roots, 164 extra nodes, 0 pruned nodes, max_depth=8\n",
      "[18]\teval-auc:0.988182\ttrain-auc:0.989427\n",
      "[17:15:20] /workspace/src/tree/updater_prune.cc:74: tree pruning end, 1 roots, 170 extra nodes, 0 pruned nodes, max_depth=8\n",
      "[19]\teval-auc:0.988247\ttrain-auc:0.989474\n",
      "[17:15:21] /workspace/src/tree/updater_prune.cc:74: tree pruning end, 1 roots, 166 extra nodes, 0 pruned nodes, max_depth=8\n",
      "[20]\teval-auc:0.988321\ttrain-auc:0.989519\n",
      "[17:15:22] /workspace/src/tree/updater_prune.cc:74: tree pruning end, 1 roots, 126 extra nodes, 0 pruned nodes, max_depth=8\n",
      "[21]\teval-auc:0.988344\ttrain-auc:0.989541\n",
      "[17:15:23] /workspace/src/tree/updater_prune.cc:74: tree pruning end, 1 roots, 158 extra nodes, 0 pruned nodes, max_depth=8\n",
      "[22]\teval-auc:0.988385\ttrain-auc:0.989542\n",
      "[17:15:24] /workspace/src/tree/updater_prune.cc:74: tree pruning end, 1 roots, 154 extra nodes, 0 pruned nodes, max_depth=8\n",
      "[23]\teval-auc:0.988435\ttrain-auc:0.989644\n",
      "[17:15:24] /workspace/src/tree/updater_prune.cc:74: tree pruning end, 1 roots, 104 extra nodes, 0 pruned nodes, max_depth=8\n",
      "[24]\teval-auc:0.988464\ttrain-auc:0.989692\n",
      "[17:15:25] /workspace/src/tree/updater_prune.cc:74: tree pruning end, 1 roots, 116 extra nodes, 0 pruned nodes, max_depth=8\n",
      "[25]\teval-auc:0.98851\ttrain-auc:0.989743\n",
      "[17:15:26] /workspace/src/tree/updater_prune.cc:74: tree pruning end, 1 roots, 126 extra nodes, 0 pruned nodes, max_depth=8\n",
      "[26]\teval-auc:0.988541\ttrain-auc:0.98979\n",
      "[17:15:27] /workspace/src/tree/updater_prune.cc:74: tree pruning end, 1 roots, 84 extra nodes, 0 pruned nodes, max_depth=8\n",
      "[27]\teval-auc:0.988579\ttrain-auc:0.989833\n",
      "[17:15:28] /workspace/src/tree/updater_prune.cc:74: tree pruning end, 1 roots, 54 extra nodes, 0 pruned nodes, max_depth=8\n",
      "[28]\teval-auc:0.988597\ttrain-auc:0.989843\n",
      "[17:15:28] /workspace/src/tree/updater_prune.cc:74: tree pruning end, 1 roots, 42 extra nodes, 0 pruned nodes, max_depth=8\n",
      "[29]\teval-auc:0.988599\ttrain-auc:0.989865\n",
      "[17:15:29] /workspace/src/tree/updater_prune.cc:74: tree pruning end, 1 roots, 120 extra nodes, 0 pruned nodes, max_depth=8\n",
      "[30]\teval-auc:0.988636\ttrain-auc:0.989917\n",
      "[17:15:30] /workspace/src/tree/updater_prune.cc:74: tree pruning end, 1 roots, 122 extra nodes, 0 pruned nodes, max_depth=8\n",
      "[31]\teval-auc:0.988696\ttrain-auc:0.989989\n",
      "[17:15:31] /workspace/src/tree/updater_prune.cc:74: tree pruning end, 1 roots, 60 extra nodes, 0 pruned nodes, max_depth=8\n",
      "[32]\teval-auc:0.98873\ttrain-auc:0.990021\n",
      "[17:15:32] /workspace/src/tree/updater_prune.cc:74: tree pruning end, 1 roots, 54 extra nodes, 0 pruned nodes, max_depth=8\n",
      "[33]\teval-auc:0.988736\ttrain-auc:0.990031\n",
      "[17:15:32] /workspace/src/tree/updater_prune.cc:74: tree pruning end, 1 roots, 122 extra nodes, 0 pruned nodes, max_depth=8\n",
      "[34]\teval-auc:0.988743\ttrain-auc:0.990076\n",
      "[17:15:33] /workspace/src/tree/updater_prune.cc:74: tree pruning end, 1 roots, 56 extra nodes, 0 pruned nodes, max_depth=8\n",
      "[35]\teval-auc:0.988745\ttrain-auc:0.99009\n",
      "[17:15:34] /workspace/src/tree/updater_prune.cc:74: tree pruning end, 1 roots, 74 extra nodes, 0 pruned nodes, max_depth=8\n",
      "[36]\teval-auc:0.988747\ttrain-auc:0.990112\n",
      "[17:15:35] /workspace/src/tree/updater_prune.cc:74: tree pruning end, 1 roots, 90 extra nodes, 0 pruned nodes, max_depth=8\n",
      "[37]\teval-auc:0.988771\ttrain-auc:0.990143\n",
      "[17:15:36] /workspace/src/tree/updater_prune.cc:74: tree pruning end, 1 roots, 74 extra nodes, 0 pruned nodes, max_depth=8\n",
      "[38]\teval-auc:0.988791\ttrain-auc:0.990171\n",
      "[17:15:36] /workspace/src/tree/updater_prune.cc:74: tree pruning end, 1 roots, 88 extra nodes, 0 pruned nodes, max_depth=8\n",
      "[39]\teval-auc:0.98883\ttrain-auc:0.990212\n",
      "[17:15:37] /workspace/src/tree/updater_prune.cc:74: tree pruning end, 1 roots, 54 extra nodes, 0 pruned nodes, max_depth=8\n",
      "[40]\teval-auc:0.988846\ttrain-auc:0.99024\n",
      "[17:15:38] /workspace/src/tree/updater_prune.cc:74: tree pruning end, 1 roots, 80 extra nodes, 0 pruned nodes, max_depth=8\n",
      "[41]\teval-auc:0.988857\ttrain-auc:0.990263\n",
      "[17:15:39] /workspace/src/tree/updater_prune.cc:74: tree pruning end, 1 roots, 84 extra nodes, 0 pruned nodes, max_depth=8\n",
      "[42]\teval-auc:0.98886\ttrain-auc:0.990298\n",
      "[17:15:39] /workspace/src/tree/updater_prune.cc:74: tree pruning end, 1 roots, 92 extra nodes, 0 pruned nodes, max_depth=8\n",
      "[43]\teval-auc:0.988861\ttrain-auc:0.990325\n",
      "[17:15:40] /workspace/src/tree/updater_prune.cc:74: tree pruning end, 1 roots, 92 extra nodes, 0 pruned nodes, max_depth=8\n",
      "[44]\teval-auc:0.988874\ttrain-auc:0.99036\n",
      "[17:15:41] /workspace/src/tree/updater_prune.cc:74: tree pruning end, 1 roots, 98 extra nodes, 0 pruned nodes, max_depth=8\n",
      "[45]\teval-auc:0.988898\ttrain-auc:0.990394\n",
      "[17:15:42] /workspace/src/tree/updater_prune.cc:74: tree pruning end, 1 roots, 60 extra nodes, 0 pruned nodes, max_depth=8\n",
      "[46]\teval-auc:0.988906\ttrain-auc:0.990423\n"
     ]
    },
    {
     "name": "stdout",
     "output_type": "stream",
     "text": [
      "[17:15:42] /workspace/src/tree/updater_prune.cc:74: tree pruning end, 1 roots, 34 extra nodes, 0 pruned nodes, max_depth=8\n",
      "[47]\teval-auc:0.988892\ttrain-auc:0.990432\n",
      "[17:15:43] /workspace/src/tree/updater_prune.cc:74: tree pruning end, 1 roots, 52 extra nodes, 0 pruned nodes, max_depth=8\n",
      "[48]\teval-auc:0.988897\ttrain-auc:0.990448\n",
      "[17:15:44] /workspace/src/tree/updater_prune.cc:74: tree pruning end, 1 roots, 68 extra nodes, 0 pruned nodes, max_depth=8\n",
      "[49]\teval-auc:0.98891\ttrain-auc:0.990469\n",
      "[17:15:45] /workspace/src/tree/updater_prune.cc:74: tree pruning end, 1 roots, 60 extra nodes, 0 pruned nodes, max_depth=8\n",
      "[50]\teval-auc:0.988904\ttrain-auc:0.990489\n",
      "[17:15:45] /workspace/src/tree/updater_prune.cc:74: tree pruning end, 1 roots, 62 extra nodes, 0 pruned nodes, max_depth=8\n",
      "[51]\teval-auc:0.9889\ttrain-auc:0.990508\n",
      "[17:15:46] /workspace/src/tree/updater_prune.cc:74: tree pruning end, 1 roots, 82 extra nodes, 0 pruned nodes, max_depth=8\n",
      "[52]\teval-auc:0.988919\ttrain-auc:0.990532\n",
      "[17:15:47] /workspace/src/tree/updater_prune.cc:74: tree pruning end, 1 roots, 116 extra nodes, 0 pruned nodes, max_depth=8\n",
      "[53]\teval-auc:0.988929\ttrain-auc:0.990573\n",
      "[17:15:48] /workspace/src/tree/updater_prune.cc:74: tree pruning end, 1 roots, 96 extra nodes, 0 pruned nodes, max_depth=8\n",
      "[54]\teval-auc:0.98894\ttrain-auc:0.9906\n",
      "[17:15:49] /workspace/src/tree/updater_prune.cc:74: tree pruning end, 1 roots, 34 extra nodes, 0 pruned nodes, max_depth=8\n",
      "[55]\teval-auc:0.988946\ttrain-auc:0.990611\n",
      "[17:15:49] /workspace/src/tree/updater_prune.cc:74: tree pruning end, 1 roots, 62 extra nodes, 0 pruned nodes, max_depth=8\n",
      "[56]\teval-auc:0.988947\ttrain-auc:0.990632\n",
      "[17:15:50] /workspace/src/tree/updater_prune.cc:74: tree pruning end, 1 roots, 114 extra nodes, 0 pruned nodes, max_depth=8\n",
      "[57]\teval-auc:0.988954\ttrain-auc:0.990676\n",
      "[17:15:51] /workspace/src/tree/updater_prune.cc:74: tree pruning end, 1 roots, 60 extra nodes, 0 pruned nodes, max_depth=8\n",
      "[58]\teval-auc:0.988959\ttrain-auc:0.990685\n",
      "[17:15:52] /workspace/src/tree/updater_prune.cc:74: tree pruning end, 1 roots, 64 extra nodes, 0 pruned nodes, max_depth=8\n",
      "[59]\teval-auc:0.988963\ttrain-auc:0.9907\n",
      "[17:15:53] /workspace/src/tree/updater_prune.cc:74: tree pruning end, 1 roots, 98 extra nodes, 0 pruned nodes, max_depth=8\n",
      "[60]\teval-auc:0.988994\ttrain-auc:0.990733\n",
      "[17:15:54] /workspace/src/tree/updater_prune.cc:74: tree pruning end, 1 roots, 88 extra nodes, 0 pruned nodes, max_depth=8\n",
      "[61]\teval-auc:0.98898\ttrain-auc:0.990756\n",
      "[17:15:54] /workspace/src/tree/updater_prune.cc:74: tree pruning end, 1 roots, 98 extra nodes, 0 pruned nodes, max_depth=8\n",
      "[62]\teval-auc:0.988991\ttrain-auc:0.99079\n",
      "[17:15:55] /workspace/src/tree/updater_prune.cc:74: tree pruning end, 1 roots, 98 extra nodes, 0 pruned nodes, max_depth=8\n",
      "[63]\teval-auc:0.989014\ttrain-auc:0.990818\n",
      "[17:15:56] /workspace/src/tree/updater_prune.cc:74: tree pruning end, 1 roots, 80 extra nodes, 0 pruned nodes, max_depth=8\n",
      "[64]\teval-auc:0.989023\ttrain-auc:0.990851\n",
      "[17:15:57] /workspace/src/tree/updater_prune.cc:74: tree pruning end, 1 roots, 62 extra nodes, 0 pruned nodes, max_depth=8\n",
      "[65]\teval-auc:0.989033\ttrain-auc:0.990865\n",
      "[17:15:58] /workspace/src/tree/updater_prune.cc:74: tree pruning end, 1 roots, 48 extra nodes, 0 pruned nodes, max_depth=8\n",
      "[66]\teval-auc:0.989029\ttrain-auc:0.990877\n",
      "[17:15:58] /workspace/src/tree/updater_prune.cc:74: tree pruning end, 1 roots, 112 extra nodes, 0 pruned nodes, max_depth=8\n",
      "[67]\teval-auc:0.989044\ttrain-auc:0.990903\n",
      "[17:15:59] /workspace/src/tree/updater_prune.cc:74: tree pruning end, 1 roots, 52 extra nodes, 0 pruned nodes, max_depth=8\n",
      "[68]\teval-auc:0.989048\ttrain-auc:0.990921\n",
      "[17:16:00] /workspace/src/tree/updater_prune.cc:74: tree pruning end, 1 roots, 76 extra nodes, 0 pruned nodes, max_depth=8\n",
      "[69]\teval-auc:0.989056\ttrain-auc:0.990939\n",
      "[17:16:01] /workspace/src/tree/updater_prune.cc:74: tree pruning end, 1 roots, 66 extra nodes, 0 pruned nodes, max_depth=8\n",
      "[70]\teval-auc:0.989055\ttrain-auc:0.990953\n",
      "[17:16:02] /workspace/src/tree/updater_prune.cc:74: tree pruning end, 1 roots, 104 extra nodes, 0 pruned nodes, max_depth=8\n",
      "[71]\teval-auc:0.989044\ttrain-auc:0.990981\n",
      "[17:16:03] /workspace/src/tree/updater_prune.cc:74: tree pruning end, 1 roots, 74 extra nodes, 0 pruned nodes, max_depth=8\n",
      "[72]\teval-auc:0.98905\ttrain-auc:0.991\n",
      "[17:16:03] /workspace/src/tree/updater_prune.cc:74: tree pruning end, 1 roots, 66 extra nodes, 0 pruned nodes, max_depth=8\n",
      "[73]\teval-auc:0.989068\ttrain-auc:0.991014\n",
      "[17:16:04] /workspace/src/tree/updater_prune.cc:74: tree pruning end, 1 roots, 70 extra nodes, 0 pruned nodes, max_depth=8\n",
      "[74]\teval-auc:0.989071\ttrain-auc:0.991033\n",
      "[17:16:05] /workspace/src/tree/updater_prune.cc:74: tree pruning end, 1 roots, 84 extra nodes, 0 pruned nodes, max_depth=8\n",
      "[75]\teval-auc:0.98907\ttrain-auc:0.991058\n",
      "[17:16:06] /workspace/src/tree/updater_prune.cc:74: tree pruning end, 1 roots, 82 extra nodes, 0 pruned nodes, max_depth=8\n",
      "[76]\teval-auc:0.989078\ttrain-auc:0.991075\n",
      "[17:16:06] /workspace/src/tree/updater_prune.cc:74: tree pruning end, 1 roots, 64 extra nodes, 0 pruned nodes, max_depth=8\n",
      "[77]\teval-auc:0.989081\ttrain-auc:0.991092\n",
      "[17:16:07] /workspace/src/tree/updater_prune.cc:74: tree pruning end, 1 roots, 86 extra nodes, 0 pruned nodes, max_depth=8\n",
      "[78]\teval-auc:0.989074\ttrain-auc:0.991115\n",
      "[17:16:08] /workspace/src/tree/updater_prune.cc:74: tree pruning end, 1 roots, 70 extra nodes, 0 pruned nodes, max_depth=8\n",
      "[79]\teval-auc:0.989077\ttrain-auc:0.991133\n",
      "[17:16:09] /workspace/src/tree/updater_prune.cc:74: tree pruning end, 1 roots, 62 extra nodes, 0 pruned nodes, max_depth=8\n",
      "[80]\teval-auc:0.989077\ttrain-auc:0.991144\n",
      "[17:16:10] /workspace/src/tree/updater_prune.cc:74: tree pruning end, 1 roots, 30 extra nodes, 0 pruned nodes, max_depth=8\n",
      "[81]\teval-auc:0.989081\ttrain-auc:0.99115\n",
      "[17:16:10] /workspace/src/tree/updater_prune.cc:74: tree pruning end, 1 roots, 66 extra nodes, 0 pruned nodes, max_depth=8\n",
      "[82]\teval-auc:0.989076\ttrain-auc:0.991169\n",
      "[17:16:11] /workspace/src/tree/updater_prune.cc:74: tree pruning end, 1 roots, 78 extra nodes, 0 pruned nodes, max_depth=8\n",
      "[83]\teval-auc:0.989072\ttrain-auc:0.991188\n",
      "[17:16:12] /workspace/src/tree/updater_prune.cc:74: tree pruning end, 1 roots, 58 extra nodes, 0 pruned nodes, max_depth=8\n",
      "[84]\teval-auc:0.989074\ttrain-auc:0.991202\n",
      "[17:16:13] /workspace/src/tree/updater_prune.cc:74: tree pruning end, 1 roots, 86 extra nodes, 0 pruned nodes, max_depth=8\n",
      "[85]\teval-auc:0.989074\ttrain-auc:0.991221\n",
      "[17:16:14] /workspace/src/tree/updater_prune.cc:74: tree pruning end, 1 roots, 54 extra nodes, 0 pruned nodes, max_depth=8\n",
      "[86]\teval-auc:0.989082\ttrain-auc:0.991231\n",
      "[17:16:14] /workspace/src/tree/updater_prune.cc:74: tree pruning end, 1 roots, 52 extra nodes, 0 pruned nodes, max_depth=8\n",
      "[87]\teval-auc:0.989081\ttrain-auc:0.991239\n",
      "[17:16:15] /workspace/src/tree/updater_prune.cc:74: tree pruning end, 1 roots, 114 extra nodes, 0 pruned nodes, max_depth=8\n",
      "[88]\teval-auc:0.989093\ttrain-auc:0.991261\n",
      "[17:16:16] /workspace/src/tree/updater_prune.cc:74: tree pruning end, 1 roots, 46 extra nodes, 0 pruned nodes, max_depth=8\n",
      "[89]\teval-auc:0.989082\ttrain-auc:0.991269\n",
      "[17:16:17] /workspace/src/tree/updater_prune.cc:74: tree pruning end, 1 roots, 82 extra nodes, 0 pruned nodes, max_depth=8\n",
      "[90]\teval-auc:0.989077\ttrain-auc:0.991284\n",
      "[17:16:18] /workspace/src/tree/updater_prune.cc:74: tree pruning end, 1 roots, 64 extra nodes, 0 pruned nodes, max_depth=8\n",
      "[91]\teval-auc:0.989071\ttrain-auc:0.991301\n",
      "[17:16:19] /workspace/src/tree/updater_prune.cc:74: tree pruning end, 1 roots, 84 extra nodes, 0 pruned nodes, max_depth=8\n",
      "[92]\teval-auc:0.989093\ttrain-auc:0.991325\n",
      "[17:16:19] /workspace/src/tree/updater_prune.cc:74: tree pruning end, 1 roots, 46 extra nodes, 0 pruned nodes, max_depth=8\n",
      "[93]\teval-auc:0.989094\ttrain-auc:0.991345\n",
      "[17:16:20] /workspace/src/tree/updater_prune.cc:74: tree pruning end, 1 roots, 70 extra nodes, 0 pruned nodes, max_depth=8\n",
      "[94]\teval-auc:0.989101\ttrain-auc:0.991355\n",
      "[17:16:21] /workspace/src/tree/updater_prune.cc:74: tree pruning end, 1 roots, 70 extra nodes, 0 pruned nodes, max_depth=8\n",
      "[95]\teval-auc:0.989107\ttrain-auc:0.991367\n",
      "[17:16:22] /workspace/src/tree/updater_prune.cc:74: tree pruning end, 1 roots, 64 extra nodes, 0 pruned nodes, max_depth=8\n",
      "[96]\teval-auc:0.9891\ttrain-auc:0.991389\n"
     ]
    },
    {
     "name": "stdout",
     "output_type": "stream",
     "text": [
      "[17:16:23] /workspace/src/tree/updater_prune.cc:74: tree pruning end, 1 roots, 108 extra nodes, 0 pruned nodes, max_depth=8\n",
      "[97]\teval-auc:0.989117\ttrain-auc:0.991416\n",
      "[17:16:23] /workspace/src/tree/updater_prune.cc:74: tree pruning end, 1 roots, 104 extra nodes, 0 pruned nodes, max_depth=8\n",
      "[98]\teval-auc:0.989132\ttrain-auc:0.991441\n",
      "[17:16:24] /workspace/src/tree/updater_prune.cc:74: tree pruning end, 1 roots, 36 extra nodes, 0 pruned nodes, max_depth=8\n",
      "[99]\teval-auc:0.989128\ttrain-auc:0.991446\n",
      "[17:16:32] /workspace/src/tree/updater_prune.cc:74: tree pruning end, 1 roots, 396 extra nodes, 0 pruned nodes, max_depth=8\n",
      "[0]\teval-auc:0.976781\ttrain-auc:0.981908\n",
      "Multiple eval metrics have been passed: 'train-auc' will be used for early stopping.\n",
      "\n",
      "Will train until train-auc hasn't improved in 10 rounds.\n",
      "[17:16:33] /workspace/src/tree/updater_prune.cc:74: tree pruning end, 1 roots, 358 extra nodes, 0 pruned nodes, max_depth=8\n",
      "[1]\teval-auc:0.985157\ttrain-auc:0.986821\n",
      "[17:16:34] /workspace/src/tree/updater_prune.cc:74: tree pruning end, 1 roots, 402 extra nodes, 0 pruned nodes, max_depth=8\n",
      "[2]\teval-auc:0.985495\ttrain-auc:0.987304\n",
      "[17:16:35] /workspace/src/tree/updater_prune.cc:74: tree pruning end, 1 roots, 354 extra nodes, 0 pruned nodes, max_depth=8\n",
      "[3]\teval-auc:0.9863\ttrain-auc:0.987935\n",
      "[17:16:35] /workspace/src/tree/updater_prune.cc:74: tree pruning end, 1 roots, 390 extra nodes, 0 pruned nodes, max_depth=8\n",
      "[4]\teval-auc:0.986676\ttrain-auc:0.988319\n",
      "[17:16:36] /workspace/src/tree/updater_prune.cc:74: tree pruning end, 1 roots, 378 extra nodes, 0 pruned nodes, max_depth=8\n",
      "[5]\teval-auc:0.987114\ttrain-auc:0.988559\n",
      "[17:16:37] /workspace/src/tree/updater_prune.cc:74: tree pruning end, 1 roots, 350 extra nodes, 0 pruned nodes, max_depth=8\n",
      "[6]\teval-auc:0.987265\ttrain-auc:0.988657\n",
      "[17:16:38] /workspace/src/tree/updater_prune.cc:74: tree pruning end, 1 roots, 306 extra nodes, 0 pruned nodes, max_depth=8\n",
      "[7]\teval-auc:0.987388\ttrain-auc:0.988782\n",
      "[17:16:39] /workspace/src/tree/updater_prune.cc:74: tree pruning end, 1 roots, 294 extra nodes, 0 pruned nodes, max_depth=8\n",
      "[8]\teval-auc:0.987502\ttrain-auc:0.988983\n",
      "[17:16:40] /workspace/src/tree/updater_prune.cc:74: tree pruning end, 1 roots, 284 extra nodes, 0 pruned nodes, max_depth=8\n",
      "[9]\teval-auc:0.987581\ttrain-auc:0.989118\n",
      "[17:16:41] /workspace/src/tree/updater_prune.cc:74: tree pruning end, 1 roots, 298 extra nodes, 0 pruned nodes, max_depth=8\n",
      "[10]\teval-auc:0.987569\ttrain-auc:0.988947\n",
      "[17:16:42] /workspace/src/tree/updater_prune.cc:74: tree pruning end, 1 roots, 240 extra nodes, 0 pruned nodes, max_depth=8\n",
      "[11]\teval-auc:0.987707\ttrain-auc:0.989096\n",
      "[17:16:43] /workspace/src/tree/updater_prune.cc:74: tree pruning end, 1 roots, 260 extra nodes, 0 pruned nodes, max_depth=8\n",
      "[12]\teval-auc:0.987918\ttrain-auc:0.989134\n",
      "[17:16:44] /workspace/src/tree/updater_prune.cc:74: tree pruning end, 1 roots, 228 extra nodes, 0 pruned nodes, max_depth=8\n",
      "[13]\teval-auc:0.987901\ttrain-auc:0.989108\n",
      "[17:16:45] /workspace/src/tree/updater_prune.cc:74: tree pruning end, 1 roots, 232 extra nodes, 0 pruned nodes, max_depth=8\n",
      "[14]\teval-auc:0.988018\ttrain-auc:0.989235\n",
      "[17:16:46] /workspace/src/tree/updater_prune.cc:74: tree pruning end, 1 roots, 206 extra nodes, 0 pruned nodes, max_depth=8\n",
      "[15]\teval-auc:0.988109\ttrain-auc:0.989304\n",
      "[17:16:47] /workspace/src/tree/updater_prune.cc:74: tree pruning end, 1 roots, 200 extra nodes, 0 pruned nodes, max_depth=8\n",
      "[16]\teval-auc:0.988214\ttrain-auc:0.98938\n",
      "[17:16:48] /workspace/src/tree/updater_prune.cc:74: tree pruning end, 1 roots, 162 extra nodes, 0 pruned nodes, max_depth=8\n",
      "[17]\teval-auc:0.988244\ttrain-auc:0.989417\n",
      "[17:16:49] /workspace/src/tree/updater_prune.cc:74: tree pruning end, 1 roots, 120 extra nodes, 0 pruned nodes, max_depth=8\n",
      "[18]\teval-auc:0.988256\ttrain-auc:0.989429\n",
      "[17:16:50] /workspace/src/tree/updater_prune.cc:74: tree pruning end, 1 roots, 134 extra nodes, 0 pruned nodes, max_depth=8\n",
      "[19]\teval-auc:0.988226\ttrain-auc:0.989426\n",
      "[17:16:50] /workspace/src/tree/updater_prune.cc:74: tree pruning end, 1 roots, 144 extra nodes, 0 pruned nodes, max_depth=8\n",
      "[20]\teval-auc:0.98824\ttrain-auc:0.989471\n",
      "[17:16:51] /workspace/src/tree/updater_prune.cc:74: tree pruning end, 1 roots, 114 extra nodes, 0 pruned nodes, max_depth=8\n",
      "[21]\teval-auc:0.988227\ttrain-auc:0.989479\n",
      "[17:16:52] /workspace/src/tree/updater_prune.cc:74: tree pruning end, 1 roots, 138 extra nodes, 0 pruned nodes, max_depth=8\n",
      "[22]\teval-auc:0.988248\ttrain-auc:0.989526\n",
      "[17:16:53] /workspace/src/tree/updater_prune.cc:74: tree pruning end, 1 roots, 112 extra nodes, 0 pruned nodes, max_depth=8\n",
      "[23]\teval-auc:0.988292\ttrain-auc:0.989576\n",
      "[17:16:54] /workspace/src/tree/updater_prune.cc:74: tree pruning end, 1 roots, 130 extra nodes, 0 pruned nodes, max_depth=8\n",
      "[24]\teval-auc:0.988332\ttrain-auc:0.989617\n",
      "[17:16:55] /workspace/src/tree/updater_prune.cc:74: tree pruning end, 1 roots, 80 extra nodes, 0 pruned nodes, max_depth=8\n",
      "[25]\teval-auc:0.988336\ttrain-auc:0.98964\n",
      "[17:16:56] /workspace/src/tree/updater_prune.cc:74: tree pruning end, 1 roots, 114 extra nodes, 0 pruned nodes, max_depth=8\n",
      "[26]\teval-auc:0.988358\ttrain-auc:0.989676\n",
      "[17:16:56] /workspace/src/tree/updater_prune.cc:74: tree pruning end, 1 roots, 94 extra nodes, 0 pruned nodes, max_depth=8\n",
      "[27]\teval-auc:0.988393\ttrain-auc:0.989728\n",
      "[17:16:57] /workspace/src/tree/updater_prune.cc:74: tree pruning end, 1 roots, 58 extra nodes, 0 pruned nodes, max_depth=8\n",
      "[28]\teval-auc:0.988412\ttrain-auc:0.989744\n",
      "[17:16:58] /workspace/src/tree/updater_prune.cc:74: tree pruning end, 1 roots, 78 extra nodes, 0 pruned nodes, max_depth=8\n",
      "[29]\teval-auc:0.988449\ttrain-auc:0.989795\n",
      "[17:16:59] /workspace/src/tree/updater_prune.cc:74: tree pruning end, 1 roots, 92 extra nodes, 0 pruned nodes, max_depth=8\n",
      "[30]\teval-auc:0.988464\ttrain-auc:0.989833\n",
      "[17:16:59] /workspace/src/tree/updater_prune.cc:74: tree pruning end, 1 roots, 116 extra nodes, 0 pruned nodes, max_depth=8\n",
      "[31]\teval-auc:0.988485\ttrain-auc:0.989872\n",
      "[17:17:00] /workspace/src/tree/updater_prune.cc:74: tree pruning end, 1 roots, 110 extra nodes, 0 pruned nodes, max_depth=8\n",
      "[32]\teval-auc:0.988512\ttrain-auc:0.989925\n",
      "[17:17:01] /workspace/src/tree/updater_prune.cc:74: tree pruning end, 1 roots, 64 extra nodes, 0 pruned nodes, max_depth=8\n",
      "[33]\teval-auc:0.988559\ttrain-auc:0.989942\n",
      "[17:17:02] /workspace/src/tree/updater_prune.cc:74: tree pruning end, 1 roots, 56 extra nodes, 0 pruned nodes, max_depth=8\n",
      "[34]\teval-auc:0.988568\ttrain-auc:0.989972\n",
      "[17:17:03] /workspace/src/tree/updater_prune.cc:74: tree pruning end, 1 roots, 74 extra nodes, 0 pruned nodes, max_depth=8\n",
      "[35]\teval-auc:0.988623\ttrain-auc:0.990029\n",
      "[17:17:03] /workspace/src/tree/updater_prune.cc:74: tree pruning end, 1 roots, 68 extra nodes, 0 pruned nodes, max_depth=8\n",
      "[36]\teval-auc:0.988631\ttrain-auc:0.990059\n",
      "[17:17:04] /workspace/src/tree/updater_prune.cc:74: tree pruning end, 1 roots, 74 extra nodes, 0 pruned nodes, max_depth=8\n",
      "[37]\teval-auc:0.988672\ttrain-auc:0.990103\n",
      "[17:17:05] /workspace/src/tree/updater_prune.cc:74: tree pruning end, 1 roots, 68 extra nodes, 0 pruned nodes, max_depth=8\n",
      "[38]\teval-auc:0.988678\ttrain-auc:0.990135\n",
      "[17:17:06] /workspace/src/tree/updater_prune.cc:74: tree pruning end, 1 roots, 120 extra nodes, 0 pruned nodes, max_depth=8\n",
      "[39]\teval-auc:0.988693\ttrain-auc:0.990187\n",
      "[17:17:07] /workspace/src/tree/updater_prune.cc:74: tree pruning end, 1 roots, 52 extra nodes, 0 pruned nodes, max_depth=8\n",
      "[40]\teval-auc:0.988714\ttrain-auc:0.990208\n",
      "[17:17:07] /workspace/src/tree/updater_prune.cc:74: tree pruning end, 1 roots, 84 extra nodes, 0 pruned nodes, max_depth=8\n",
      "[41]\teval-auc:0.988746\ttrain-auc:0.990248\n",
      "[17:17:08] /workspace/src/tree/updater_prune.cc:74: tree pruning end, 1 roots, 52 extra nodes, 0 pruned nodes, max_depth=8\n",
      "[42]\teval-auc:0.988754\ttrain-auc:0.990274\n",
      "[17:17:09] /workspace/src/tree/updater_prune.cc:74: tree pruning end, 1 roots, 54 extra nodes, 0 pruned nodes, max_depth=8\n",
      "[43]\teval-auc:0.988778\ttrain-auc:0.990297\n",
      "[17:17:10] /workspace/src/tree/updater_prune.cc:74: tree pruning end, 1 roots, 66 extra nodes, 0 pruned nodes, max_depth=8\n",
      "[44]\teval-auc:0.988803\ttrain-auc:0.990324\n",
      "[17:17:10] /workspace/src/tree/updater_prune.cc:74: tree pruning end, 1 roots, 52 extra nodes, 0 pruned nodes, max_depth=8\n",
      "[45]\teval-auc:0.988816\ttrain-auc:0.990336\n"
     ]
    },
    {
     "name": "stdout",
     "output_type": "stream",
     "text": [
      "[17:17:11] /workspace/src/tree/updater_prune.cc:74: tree pruning end, 1 roots, 92 extra nodes, 0 pruned nodes, max_depth=8\n",
      "[46]\teval-auc:0.988835\ttrain-auc:0.99038\n",
      "[17:17:12] /workspace/src/tree/updater_prune.cc:74: tree pruning end, 1 roots, 44 extra nodes, 0 pruned nodes, max_depth=8\n",
      "[47]\teval-auc:0.988827\ttrain-auc:0.990391\n",
      "[17:17:12] /workspace/src/tree/updater_prune.cc:74: tree pruning end, 1 roots, 66 extra nodes, 0 pruned nodes, max_depth=8\n",
      "[48]\teval-auc:0.988823\ttrain-auc:0.990406\n",
      "[17:17:13] /workspace/src/tree/updater_prune.cc:74: tree pruning end, 1 roots, 94 extra nodes, 0 pruned nodes, max_depth=8\n",
      "[49]\teval-auc:0.988847\ttrain-auc:0.990431\n",
      "[17:17:14] /workspace/src/tree/updater_prune.cc:74: tree pruning end, 1 roots, 114 extra nodes, 0 pruned nodes, max_depth=8\n",
      "[50]\teval-auc:0.988847\ttrain-auc:0.990457\n",
      "[17:17:15] /workspace/src/tree/updater_prune.cc:74: tree pruning end, 1 roots, 34 extra nodes, 0 pruned nodes, max_depth=8\n",
      "[51]\teval-auc:0.988854\ttrain-auc:0.990461\n",
      "[17:17:15] /workspace/src/tree/updater_prune.cc:74: tree pruning end, 1 roots, 46 extra nodes, 0 pruned nodes, max_depth=8\n",
      "[52]\teval-auc:0.98887\ttrain-auc:0.99048\n",
      "[17:17:16] /workspace/src/tree/updater_prune.cc:74: tree pruning end, 1 roots, 70 extra nodes, 0 pruned nodes, max_depth=8\n",
      "[53]\teval-auc:0.988903\ttrain-auc:0.990516\n",
      "[17:17:17] /workspace/src/tree/updater_prune.cc:74: tree pruning end, 1 roots, 96 extra nodes, 0 pruned nodes, max_depth=8\n",
      "[54]\teval-auc:0.988919\ttrain-auc:0.99054\n",
      "[17:17:18] /workspace/src/tree/updater_prune.cc:74: tree pruning end, 1 roots, 64 extra nodes, 0 pruned nodes, max_depth=8\n",
      "[55]\teval-auc:0.988929\ttrain-auc:0.990568\n",
      "[17:17:19] /workspace/src/tree/updater_prune.cc:74: tree pruning end, 1 roots, 94 extra nodes, 0 pruned nodes, max_depth=8\n",
      "[56]\teval-auc:0.988954\ttrain-auc:0.990605\n",
      "[17:17:19] /workspace/src/tree/updater_prune.cc:74: tree pruning end, 1 roots, 50 extra nodes, 0 pruned nodes, max_depth=8\n",
      "[57]\teval-auc:0.98898\ttrain-auc:0.990636\n",
      "[17:17:20] /workspace/src/tree/updater_prune.cc:74: tree pruning end, 1 roots, 94 extra nodes, 0 pruned nodes, max_depth=8\n",
      "[58]\teval-auc:0.988989\ttrain-auc:0.990659\n",
      "[17:17:21] /workspace/src/tree/updater_prune.cc:74: tree pruning end, 1 roots, 96 extra nodes, 0 pruned nodes, max_depth=8\n",
      "[59]\teval-auc:0.989003\ttrain-auc:0.990686\n",
      "[17:17:22] /workspace/src/tree/updater_prune.cc:74: tree pruning end, 1 roots, 142 extra nodes, 0 pruned nodes, max_depth=8\n",
      "[60]\teval-auc:0.989031\ttrain-auc:0.990727\n",
      "[17:17:23] /workspace/src/tree/updater_prune.cc:74: tree pruning end, 1 roots, 88 extra nodes, 0 pruned nodes, max_depth=8\n",
      "[61]\teval-auc:0.989053\ttrain-auc:0.990763\n",
      "[17:17:24] /workspace/src/tree/updater_prune.cc:74: tree pruning end, 1 roots, 56 extra nodes, 0 pruned nodes, max_depth=8\n",
      "[62]\teval-auc:0.989064\ttrain-auc:0.990788\n",
      "[17:17:24] /workspace/src/tree/updater_prune.cc:74: tree pruning end, 1 roots, 30 extra nodes, 0 pruned nodes, max_depth=8\n",
      "[63]\teval-auc:0.989056\ttrain-auc:0.990791\n",
      "[17:17:25] /workspace/src/tree/updater_prune.cc:74: tree pruning end, 1 roots, 128 extra nodes, 0 pruned nodes, max_depth=8\n",
      "[64]\teval-auc:0.989057\ttrain-auc:0.990822\n",
      "[17:17:26] /workspace/src/tree/updater_prune.cc:74: tree pruning end, 1 roots, 42 extra nodes, 0 pruned nodes, max_depth=8\n",
      "[65]\teval-auc:0.989065\ttrain-auc:0.990838\n",
      "[17:17:27] /workspace/src/tree/updater_prune.cc:74: tree pruning end, 1 roots, 86 extra nodes, 0 pruned nodes, max_depth=8\n",
      "[66]\teval-auc:0.989064\ttrain-auc:0.990867\n",
      "[17:17:28] /workspace/src/tree/updater_prune.cc:74: tree pruning end, 1 roots, 126 extra nodes, 0 pruned nodes, max_depth=8\n",
      "[67]\teval-auc:0.989073\ttrain-auc:0.990905\n",
      "[17:17:28] /workspace/src/tree/updater_prune.cc:74: tree pruning end, 1 roots, 90 extra nodes, 0 pruned nodes, max_depth=8\n",
      "[68]\teval-auc:0.989091\ttrain-auc:0.990942\n",
      "[17:17:29] /workspace/src/tree/updater_prune.cc:74: tree pruning end, 1 roots, 100 extra nodes, 0 pruned nodes, max_depth=8\n",
      "[69]\teval-auc:0.989095\ttrain-auc:0.990967\n",
      "[17:17:30] /workspace/src/tree/updater_prune.cc:74: tree pruning end, 1 roots, 78 extra nodes, 0 pruned nodes, max_depth=8\n",
      "[70]\teval-auc:0.989087\ttrain-auc:0.990988\n",
      "[17:17:31] /workspace/src/tree/updater_prune.cc:74: tree pruning end, 1 roots, 58 extra nodes, 0 pruned nodes, max_depth=8\n",
      "[71]\teval-auc:0.989087\ttrain-auc:0.991004\n",
      "[17:17:32] /workspace/src/tree/updater_prune.cc:74: tree pruning end, 1 roots, 78 extra nodes, 0 pruned nodes, max_depth=8\n",
      "[72]\teval-auc:0.989094\ttrain-auc:0.991024\n",
      "[17:17:33] /workspace/src/tree/updater_prune.cc:74: tree pruning end, 1 roots, 82 extra nodes, 0 pruned nodes, max_depth=8\n",
      "[73]\teval-auc:0.989094\ttrain-auc:0.991047\n",
      "[17:17:33] /workspace/src/tree/updater_prune.cc:74: tree pruning end, 1 roots, 92 extra nodes, 0 pruned nodes, max_depth=8\n",
      "[74]\teval-auc:0.989094\ttrain-auc:0.991068\n",
      "[17:17:34] /workspace/src/tree/updater_prune.cc:74: tree pruning end, 1 roots, 116 extra nodes, 0 pruned nodes, max_depth=8\n",
      "[75]\teval-auc:0.989119\ttrain-auc:0.991105\n",
      "[17:17:35] /workspace/src/tree/updater_prune.cc:74: tree pruning end, 1 roots, 60 extra nodes, 0 pruned nodes, max_depth=8\n",
      "[76]\teval-auc:0.989103\ttrain-auc:0.991116\n",
      "[17:17:36] /workspace/src/tree/updater_prune.cc:74: tree pruning end, 1 roots, 70 extra nodes, 0 pruned nodes, max_depth=8\n",
      "[77]\teval-auc:0.989095\ttrain-auc:0.991135\n",
      "[17:17:37] /workspace/src/tree/updater_prune.cc:74: tree pruning end, 1 roots, 90 extra nodes, 0 pruned nodes, max_depth=8\n",
      "[78]\teval-auc:0.989087\ttrain-auc:0.99116\n",
      "[17:17:38] /workspace/src/tree/updater_prune.cc:74: tree pruning end, 1 roots, 76 extra nodes, 0 pruned nodes, max_depth=8\n",
      "[79]\teval-auc:0.989084\ttrain-auc:0.991175\n",
      "[17:17:38] /workspace/src/tree/updater_prune.cc:74: tree pruning end, 1 roots, 104 extra nodes, 0 pruned nodes, max_depth=8\n",
      "[80]\teval-auc:0.989088\ttrain-auc:0.991198\n",
      "[17:17:39] /workspace/src/tree/updater_prune.cc:74: tree pruning end, 1 roots, 92 extra nodes, 0 pruned nodes, max_depth=8\n",
      "[81]\teval-auc:0.989093\ttrain-auc:0.99122\n",
      "[17:17:40] /workspace/src/tree/updater_prune.cc:74: tree pruning end, 1 roots, 64 extra nodes, 0 pruned nodes, max_depth=8\n",
      "[82]\teval-auc:0.989096\ttrain-auc:0.991234\n",
      "[17:17:41] /workspace/src/tree/updater_prune.cc:74: tree pruning end, 1 roots, 54 extra nodes, 0 pruned nodes, max_depth=8\n",
      "[83]\teval-auc:0.989088\ttrain-auc:0.991248\n",
      "[17:17:42] /workspace/src/tree/updater_prune.cc:74: tree pruning end, 1 roots, 38 extra nodes, 0 pruned nodes, max_depth=8\n",
      "[84]\teval-auc:0.989099\ttrain-auc:0.991254\n",
      "[17:17:43] /workspace/src/tree/updater_prune.cc:74: tree pruning end, 1 roots, 92 extra nodes, 0 pruned nodes, max_depth=8\n",
      "[85]\teval-auc:0.989117\ttrain-auc:0.991281\n",
      "[17:17:43] /workspace/src/tree/updater_prune.cc:74: tree pruning end, 1 roots, 80 extra nodes, 0 pruned nodes, max_depth=8\n",
      "[86]\teval-auc:0.989122\ttrain-auc:0.991296\n",
      "[17:17:44] /workspace/src/tree/updater_prune.cc:74: tree pruning end, 1 roots, 58 extra nodes, 0 pruned nodes, max_depth=8\n",
      "[87]\teval-auc:0.989127\ttrain-auc:0.991308\n",
      "[17:17:45] /workspace/src/tree/updater_prune.cc:74: tree pruning end, 1 roots, 72 extra nodes, 0 pruned nodes, max_depth=8\n",
      "[88]\teval-auc:0.989125\ttrain-auc:0.991326\n",
      "[17:17:46] /workspace/src/tree/updater_prune.cc:74: tree pruning end, 1 roots, 104 extra nodes, 0 pruned nodes, max_depth=8\n",
      "[89]\teval-auc:0.989128\ttrain-auc:0.991346\n",
      "[17:17:47] /workspace/src/tree/updater_prune.cc:74: tree pruning end, 1 roots, 74 extra nodes, 0 pruned nodes, max_depth=8\n",
      "[90]\teval-auc:0.989125\ttrain-auc:0.991356\n",
      "[17:17:47] /workspace/src/tree/updater_prune.cc:74: tree pruning end, 1 roots, 62 extra nodes, 0 pruned nodes, max_depth=8\n",
      "[91]\teval-auc:0.989127\ttrain-auc:0.991369\n",
      "[17:17:48] /workspace/src/tree/updater_prune.cc:74: tree pruning end, 1 roots, 98 extra nodes, 0 pruned nodes, max_depth=8\n",
      "[92]\teval-auc:0.989107\ttrain-auc:0.991387\n",
      "[17:17:49] /workspace/src/tree/updater_prune.cc:74: tree pruning end, 1 roots, 88 extra nodes, 0 pruned nodes, max_depth=8\n",
      "[93]\teval-auc:0.989105\ttrain-auc:0.991408\n",
      "[17:17:50] /workspace/src/tree/updater_prune.cc:74: tree pruning end, 1 roots, 42 extra nodes, 0 pruned nodes, max_depth=8\n",
      "[94]\teval-auc:0.989109\ttrain-auc:0.991413\n",
      "[17:17:51] /workspace/src/tree/updater_prune.cc:74: tree pruning end, 1 roots, 112 extra nodes, 0 pruned nodes, max_depth=8\n",
      "[95]\teval-auc:0.989117\ttrain-auc:0.991439\n"
     ]
    },
    {
     "name": "stdout",
     "output_type": "stream",
     "text": [
      "[17:17:52] /workspace/src/tree/updater_prune.cc:74: tree pruning end, 1 roots, 78 extra nodes, 0 pruned nodes, max_depth=8\n",
      "[96]\teval-auc:0.989139\ttrain-auc:0.991456\n",
      "[17:17:52] /workspace/src/tree/updater_prune.cc:74: tree pruning end, 1 roots, 120 extra nodes, 0 pruned nodes, max_depth=8\n",
      "[97]\teval-auc:0.989124\ttrain-auc:0.991482\n",
      "[17:17:53] /workspace/src/tree/updater_prune.cc:74: tree pruning end, 1 roots, 92 extra nodes, 0 pruned nodes, max_depth=8\n",
      "[98]\teval-auc:0.98911\ttrain-auc:0.991503\n",
      "[17:17:54] /workspace/src/tree/updater_prune.cc:74: tree pruning end, 1 roots, 78 extra nodes, 0 pruned nodes, max_depth=8\n",
      "[99]\teval-auc:0.989115\ttrain-auc:0.991517\n",
      "[17:18:01] /workspace/src/tree/updater_prune.cc:74: tree pruning end, 1 roots, 268 extra nodes, 0 pruned nodes, max_depth=8\n",
      "[0]\teval-auc:0.980377\ttrain-auc:0.982866\n",
      "Multiple eval metrics have been passed: 'train-auc' will be used for early stopping.\n",
      "\n",
      "Will train until train-auc hasn't improved in 10 rounds.\n",
      "[17:18:02] /workspace/src/tree/updater_prune.cc:74: tree pruning end, 1 roots, 384 extra nodes, 0 pruned nodes, max_depth=8\n",
      "[1]\teval-auc:0.983407\ttrain-auc:0.984875\n",
      "[17:18:03] /workspace/src/tree/updater_prune.cc:74: tree pruning end, 1 roots, 358 extra nodes, 0 pruned nodes, max_depth=8\n",
      "[2]\teval-auc:0.984332\ttrain-auc:0.985909\n",
      "[17:18:04] /workspace/src/tree/updater_prune.cc:74: tree pruning end, 1 roots, 318 extra nodes, 0 pruned nodes, max_depth=8\n",
      "[3]\teval-auc:0.985756\ttrain-auc:0.986855\n",
      "[17:18:05] /workspace/src/tree/updater_prune.cc:74: tree pruning end, 1 roots, 342 extra nodes, 0 pruned nodes, max_depth=8\n",
      "[4]\teval-auc:0.986819\ttrain-auc:0.987686\n",
      "[17:18:06] /workspace/src/tree/updater_prune.cc:74: tree pruning end, 1 roots, 346 extra nodes, 0 pruned nodes, max_depth=8\n",
      "[5]\teval-auc:0.987272\ttrain-auc:0.98815\n",
      "[17:18:07] /workspace/src/tree/updater_prune.cc:74: tree pruning end, 1 roots, 330 extra nodes, 0 pruned nodes, max_depth=8\n",
      "[6]\teval-auc:0.987523\ttrain-auc:0.988352\n",
      "[17:18:08] /workspace/src/tree/updater_prune.cc:74: tree pruning end, 1 roots, 308 extra nodes, 0 pruned nodes, max_depth=8\n",
      "[7]\teval-auc:0.987463\ttrain-auc:0.988504\n",
      "[17:18:09] /workspace/src/tree/updater_prune.cc:74: tree pruning end, 1 roots, 214 extra nodes, 0 pruned nodes, max_depth=8\n",
      "[8]\teval-auc:0.98732\ttrain-auc:0.9884\n",
      "[17:18:10] /workspace/src/tree/updater_prune.cc:74: tree pruning end, 1 roots, 306 extra nodes, 0 pruned nodes, max_depth=8\n",
      "[9]\teval-auc:0.987511\ttrain-auc:0.988518\n",
      "[17:18:11] /workspace/src/tree/updater_prune.cc:74: tree pruning end, 1 roots, 274 extra nodes, 0 pruned nodes, max_depth=8\n",
      "[10]\teval-auc:0.987831\ttrain-auc:0.98868\n",
      "[17:18:12] /workspace/src/tree/updater_prune.cc:74: tree pruning end, 1 roots, 238 extra nodes, 0 pruned nodes, max_depth=8\n",
      "[11]\teval-auc:0.987986\ttrain-auc:0.988826\n",
      "[17:18:13] /workspace/src/tree/updater_prune.cc:74: tree pruning end, 1 roots, 252 extra nodes, 0 pruned nodes, max_depth=8\n",
      "[12]\teval-auc:0.988119\ttrain-auc:0.988921\n",
      "[17:18:14] /workspace/src/tree/updater_prune.cc:74: tree pruning end, 1 roots, 250 extra nodes, 0 pruned nodes, max_depth=8\n",
      "[13]\teval-auc:0.988126\ttrain-auc:0.988959\n",
      "[17:18:14] /workspace/src/tree/updater_prune.cc:74: tree pruning end, 1 roots, 216 extra nodes, 0 pruned nodes, max_depth=8\n",
      "[14]\teval-auc:0.988201\ttrain-auc:0.989016\n",
      "[17:18:15] /workspace/src/tree/updater_prune.cc:74: tree pruning end, 1 roots, 178 extra nodes, 0 pruned nodes, max_depth=8\n",
      "[15]\teval-auc:0.988179\ttrain-auc:0.989027\n",
      "[17:18:16] /workspace/src/tree/updater_prune.cc:74: tree pruning end, 1 roots, 164 extra nodes, 0 pruned nodes, max_depth=8\n",
      "[16]\teval-auc:0.988293\ttrain-auc:0.989118\n",
      "[17:18:17] /workspace/src/tree/updater_prune.cc:74: tree pruning end, 1 roots, 190 extra nodes, 0 pruned nodes, max_depth=8\n",
      "[17]\teval-auc:0.98836\ttrain-auc:0.989165\n",
      "[17:18:18] /workspace/src/tree/updater_prune.cc:74: tree pruning end, 1 roots, 162 extra nodes, 0 pruned nodes, max_depth=8\n",
      "[18]\teval-auc:0.98842\ttrain-auc:0.989182\n",
      "[17:18:19] /workspace/src/tree/updater_prune.cc:74: tree pruning end, 1 roots, 142 extra nodes, 0 pruned nodes, max_depth=8\n",
      "[19]\teval-auc:0.988424\ttrain-auc:0.989207\n",
      "[17:18:20] /workspace/src/tree/updater_prune.cc:74: tree pruning end, 1 roots, 138 extra nodes, 0 pruned nodes, max_depth=8\n",
      "[20]\teval-auc:0.988428\ttrain-auc:0.989249\n",
      "[17:18:21] /workspace/src/tree/updater_prune.cc:74: tree pruning end, 1 roots, 158 extra nodes, 0 pruned nodes, max_depth=8\n",
      "[21]\teval-auc:0.988494\ttrain-auc:0.989353\n",
      "[17:18:22] /workspace/src/tree/updater_prune.cc:74: tree pruning end, 1 roots, 106 extra nodes, 0 pruned nodes, max_depth=8\n",
      "[22]\teval-auc:0.988557\ttrain-auc:0.989388\n",
      "[17:18:22] /workspace/src/tree/updater_prune.cc:74: tree pruning end, 1 roots, 126 extra nodes, 0 pruned nodes, max_depth=8\n",
      "[23]\teval-auc:0.988657\ttrain-auc:0.989462\n",
      "[17:18:23] /workspace/src/tree/updater_prune.cc:74: tree pruning end, 1 roots, 122 extra nodes, 0 pruned nodes, max_depth=8\n",
      "[24]\teval-auc:0.988711\ttrain-auc:0.989547\n",
      "[17:18:24] /workspace/src/tree/updater_prune.cc:74: tree pruning end, 1 roots, 78 extra nodes, 0 pruned nodes, max_depth=8\n",
      "[25]\teval-auc:0.988755\ttrain-auc:0.989595\n",
      "[17:18:25] /workspace/src/tree/updater_prune.cc:74: tree pruning end, 1 roots, 118 extra nodes, 0 pruned nodes, max_depth=8\n",
      "[26]\teval-auc:0.988819\ttrain-auc:0.989675\n",
      "[17:18:26] /workspace/src/tree/updater_prune.cc:74: tree pruning end, 1 roots, 142 extra nodes, 0 pruned nodes, max_depth=8\n",
      "[27]\teval-auc:0.988854\ttrain-auc:0.989714\n",
      "[17:18:27] /workspace/src/tree/updater_prune.cc:74: tree pruning end, 1 roots, 126 extra nodes, 0 pruned nodes, max_depth=8\n",
      "[28]\teval-auc:0.988877\ttrain-auc:0.989761\n",
      "[17:18:27] /workspace/src/tree/updater_prune.cc:74: tree pruning end, 1 roots, 94 extra nodes, 0 pruned nodes, max_depth=8\n",
      "[29]\teval-auc:0.988889\ttrain-auc:0.989787\n",
      "[17:18:28] /workspace/src/tree/updater_prune.cc:74: tree pruning end, 1 roots, 76 extra nodes, 0 pruned nodes, max_depth=8\n",
      "[30]\teval-auc:0.988905\ttrain-auc:0.989815\n",
      "[17:18:29] /workspace/src/tree/updater_prune.cc:74: tree pruning end, 1 roots, 46 extra nodes, 0 pruned nodes, max_depth=8\n",
      "[31]\teval-auc:0.988919\ttrain-auc:0.989831\n",
      "[17:18:30] /workspace/src/tree/updater_prune.cc:74: tree pruning end, 1 roots, 96 extra nodes, 0 pruned nodes, max_depth=8\n",
      "[32]\teval-auc:0.989024\ttrain-auc:0.989909\n",
      "[17:18:30] /workspace/src/tree/updater_prune.cc:74: tree pruning end, 1 roots, 108 extra nodes, 0 pruned nodes, max_depth=8\n",
      "[33]\teval-auc:0.989052\ttrain-auc:0.989967\n",
      "[17:18:31] /workspace/src/tree/updater_prune.cc:74: tree pruning end, 1 roots, 44 extra nodes, 0 pruned nodes, max_depth=8\n",
      "[34]\teval-auc:0.989062\ttrain-auc:0.989984\n",
      "[17:18:32] /workspace/src/tree/updater_prune.cc:74: tree pruning end, 1 roots, 90 extra nodes, 0 pruned nodes, max_depth=8\n",
      "[35]\teval-auc:0.989091\ttrain-auc:0.990029\n",
      "[17:18:33] /workspace/src/tree/updater_prune.cc:74: tree pruning end, 1 roots, 60 extra nodes, 0 pruned nodes, max_depth=8\n",
      "[36]\teval-auc:0.989082\ttrain-auc:0.990059\n",
      "[17:18:34] /workspace/src/tree/updater_prune.cc:74: tree pruning end, 1 roots, 90 extra nodes, 0 pruned nodes, max_depth=8\n",
      "[37]\teval-auc:0.989104\ttrain-auc:0.990117\n",
      "[17:18:34] /workspace/src/tree/updater_prune.cc:74: tree pruning end, 1 roots, 60 extra nodes, 0 pruned nodes, max_depth=8\n",
      "[38]\teval-auc:0.989123\ttrain-auc:0.990135\n",
      "[17:18:35] /workspace/src/tree/updater_prune.cc:74: tree pruning end, 1 roots, 74 extra nodes, 0 pruned nodes, max_depth=8\n",
      "[39]\teval-auc:0.989154\ttrain-auc:0.990171\n",
      "[17:18:36] /workspace/src/tree/updater_prune.cc:74: tree pruning end, 1 roots, 48 extra nodes, 0 pruned nodes, max_depth=8\n",
      "[40]\teval-auc:0.989157\ttrain-auc:0.990194\n",
      "[17:18:37] /workspace/src/tree/updater_prune.cc:74: tree pruning end, 1 roots, 88 extra nodes, 0 pruned nodes, max_depth=8\n",
      "[41]\teval-auc:0.989159\ttrain-auc:0.990233\n",
      "[17:18:37] /workspace/src/tree/updater_prune.cc:74: tree pruning end, 1 roots, 28 extra nodes, 0 pruned nodes, max_depth=8\n",
      "[42]\teval-auc:0.989169\ttrain-auc:0.990246\n",
      "[17:18:38] /workspace/src/tree/updater_prune.cc:74: tree pruning end, 1 roots, 124 extra nodes, 0 pruned nodes, max_depth=8\n",
      "[43]\teval-auc:0.989204\ttrain-auc:0.990298\n",
      "[17:18:39] /workspace/src/tree/updater_prune.cc:74: tree pruning end, 1 roots, 96 extra nodes, 0 pruned nodes, max_depth=8\n",
      "[44]\teval-auc:0.989199\ttrain-auc:0.990336\n"
     ]
    },
    {
     "name": "stdout",
     "output_type": "stream",
     "text": [
      "[17:18:40] /workspace/src/tree/updater_prune.cc:74: tree pruning end, 1 roots, 90 extra nodes, 0 pruned nodes, max_depth=8\n",
      "[45]\teval-auc:0.989216\ttrain-auc:0.990364\n",
      "[17:18:41] /workspace/src/tree/updater_prune.cc:74: tree pruning end, 1 roots, 62 extra nodes, 0 pruned nodes, max_depth=8\n",
      "[46]\teval-auc:0.989247\ttrain-auc:0.990408\n",
      "[17:18:41] /workspace/src/tree/updater_prune.cc:74: tree pruning end, 1 roots, 72 extra nodes, 0 pruned nodes, max_depth=8\n",
      "[47]\teval-auc:0.989258\ttrain-auc:0.99044\n",
      "[17:18:42] /workspace/src/tree/updater_prune.cc:74: tree pruning end, 1 roots, 118 extra nodes, 0 pruned nodes, max_depth=8\n",
      "[48]\teval-auc:0.989277\ttrain-auc:0.990479\n",
      "[17:18:43] /workspace/src/tree/updater_prune.cc:74: tree pruning end, 1 roots, 76 extra nodes, 0 pruned nodes, max_depth=8\n",
      "[49]\teval-auc:0.989269\ttrain-auc:0.990496\n",
      "[17:18:44] /workspace/src/tree/updater_prune.cc:74: tree pruning end, 1 roots, 82 extra nodes, 0 pruned nodes, max_depth=8\n",
      "[50]\teval-auc:0.989285\ttrain-auc:0.990519\n",
      "[17:18:44] /workspace/src/tree/updater_prune.cc:74: tree pruning end, 1 roots, 34 extra nodes, 0 pruned nodes, max_depth=8\n",
      "[51]\teval-auc:0.989281\ttrain-auc:0.990526\n",
      "[17:18:45] /workspace/src/tree/updater_prune.cc:74: tree pruning end, 1 roots, 78 extra nodes, 0 pruned nodes, max_depth=8\n",
      "[52]\teval-auc:0.989303\ttrain-auc:0.990558\n",
      "[17:18:46] /workspace/src/tree/updater_prune.cc:74: tree pruning end, 1 roots, 86 extra nodes, 0 pruned nodes, max_depth=8\n",
      "[53]\teval-auc:0.989305\ttrain-auc:0.990589\n",
      "[17:18:47] /workspace/src/tree/updater_prune.cc:74: tree pruning end, 1 roots, 74 extra nodes, 0 pruned nodes, max_depth=8\n",
      "[54]\teval-auc:0.989316\ttrain-auc:0.990602\n",
      "[17:18:48] /workspace/src/tree/updater_prune.cc:74: tree pruning end, 1 roots, 72 extra nodes, 0 pruned nodes, max_depth=8\n",
      "[55]\teval-auc:0.9893\ttrain-auc:0.99062\n",
      "[17:18:48] /workspace/src/tree/updater_prune.cc:74: tree pruning end, 1 roots, 98 extra nodes, 0 pruned nodes, max_depth=8\n",
      "[56]\teval-auc:0.98931\ttrain-auc:0.990647\n",
      "[17:18:49] /workspace/src/tree/updater_prune.cc:74: tree pruning end, 1 roots, 94 extra nodes, 0 pruned nodes, max_depth=8\n",
      "[57]\teval-auc:0.989326\ttrain-auc:0.990677\n",
      "[17:18:50] /workspace/src/tree/updater_prune.cc:74: tree pruning end, 1 roots, 88 extra nodes, 0 pruned nodes, max_depth=8\n",
      "[58]\teval-auc:0.989324\ttrain-auc:0.990703\n",
      "[17:18:51] /workspace/src/tree/updater_prune.cc:74: tree pruning end, 1 roots, 66 extra nodes, 0 pruned nodes, max_depth=8\n",
      "[59]\teval-auc:0.989324\ttrain-auc:0.990718\n",
      "[17:18:52] /workspace/src/tree/updater_prune.cc:74: tree pruning end, 1 roots, 64 extra nodes, 0 pruned nodes, max_depth=8\n",
      "[60]\teval-auc:0.989319\ttrain-auc:0.990741\n",
      "[17:18:53] /workspace/src/tree/updater_prune.cc:74: tree pruning end, 1 roots, 80 extra nodes, 0 pruned nodes, max_depth=8\n",
      "[61]\teval-auc:0.989317\ttrain-auc:0.990759\n",
      "[17:18:53] /workspace/src/tree/updater_prune.cc:74: tree pruning end, 1 roots, 64 extra nodes, 0 pruned nodes, max_depth=8\n",
      "[62]\teval-auc:0.989313\ttrain-auc:0.990784\n",
      "[17:18:54] /workspace/src/tree/updater_prune.cc:74: tree pruning end, 1 roots, 102 extra nodes, 0 pruned nodes, max_depth=8\n",
      "[63]\teval-auc:0.989324\ttrain-auc:0.990816\n",
      "[17:18:55] /workspace/src/tree/updater_prune.cc:74: tree pruning end, 1 roots, 110 extra nodes, 0 pruned nodes, max_depth=8\n",
      "[64]\teval-auc:0.989335\ttrain-auc:0.99085\n",
      "[17:18:56] /workspace/src/tree/updater_prune.cc:74: tree pruning end, 1 roots, 102 extra nodes, 0 pruned nodes, max_depth=8\n",
      "[65]\teval-auc:0.989333\ttrain-auc:0.990879\n",
      "[17:18:57] /workspace/src/tree/updater_prune.cc:74: tree pruning end, 1 roots, 64 extra nodes, 0 pruned nodes, max_depth=8\n",
      "[66]\teval-auc:0.989333\ttrain-auc:0.990899\n",
      "[17:18:57] /workspace/src/tree/updater_prune.cc:74: tree pruning end, 1 roots, 70 extra nodes, 0 pruned nodes, max_depth=8\n",
      "[67]\teval-auc:0.989351\ttrain-auc:0.99093\n",
      "[17:18:58] /workspace/src/tree/updater_prune.cc:74: tree pruning end, 1 roots, 40 extra nodes, 0 pruned nodes, max_depth=8\n",
      "[68]\teval-auc:0.989349\ttrain-auc:0.99094\n",
      "[17:18:59] /workspace/src/tree/updater_prune.cc:74: tree pruning end, 1 roots, 96 extra nodes, 0 pruned nodes, max_depth=8\n",
      "[69]\teval-auc:0.989342\ttrain-auc:0.990966\n",
      "[17:19:00] /workspace/src/tree/updater_prune.cc:74: tree pruning end, 1 roots, 78 extra nodes, 0 pruned nodes, max_depth=8\n",
      "[70]\teval-auc:0.989344\ttrain-auc:0.990987\n",
      "[17:19:01] /workspace/src/tree/updater_prune.cc:74: tree pruning end, 1 roots, 94 extra nodes, 0 pruned nodes, max_depth=8\n",
      "[71]\teval-auc:0.989349\ttrain-auc:0.991018\n",
      "[17:19:02] /workspace/src/tree/updater_prune.cc:74: tree pruning end, 1 roots, 70 extra nodes, 0 pruned nodes, max_depth=8\n",
      "[72]\teval-auc:0.989365\ttrain-auc:0.991042\n",
      "[17:19:02] /workspace/src/tree/updater_prune.cc:74: tree pruning end, 1 roots, 106 extra nodes, 0 pruned nodes, max_depth=8\n",
      "[73]\teval-auc:0.989372\ttrain-auc:0.991069\n",
      "[17:19:03] /workspace/src/tree/updater_prune.cc:74: tree pruning end, 1 roots, 68 extra nodes, 0 pruned nodes, max_depth=8\n",
      "[74]\teval-auc:0.989369\ttrain-auc:0.991085\n",
      "[17:19:04] /workspace/src/tree/updater_prune.cc:74: tree pruning end, 1 roots, 144 extra nodes, 0 pruned nodes, max_depth=8\n",
      "[75]\teval-auc:0.989407\ttrain-auc:0.991138\n",
      "[17:19:05] /workspace/src/tree/updater_prune.cc:74: tree pruning end, 1 roots, 124 extra nodes, 0 pruned nodes, max_depth=8\n",
      "[76]\teval-auc:0.989424\ttrain-auc:0.991161\n",
      "[17:19:06] /workspace/src/tree/updater_prune.cc:74: tree pruning end, 1 roots, 86 extra nodes, 0 pruned nodes, max_depth=8\n",
      "[77]\teval-auc:0.989428\ttrain-auc:0.991184\n",
      "[17:19:07] /workspace/src/tree/updater_prune.cc:74: tree pruning end, 1 roots, 120 extra nodes, 0 pruned nodes, max_depth=8\n",
      "[78]\teval-auc:0.989426\ttrain-auc:0.991213\n",
      "[17:19:08] /workspace/src/tree/updater_prune.cc:74: tree pruning end, 1 roots, 94 extra nodes, 0 pruned nodes, max_depth=8\n",
      "[79]\teval-auc:0.989435\ttrain-auc:0.991243\n",
      "[17:19:08] /workspace/src/tree/updater_prune.cc:74: tree pruning end, 1 roots, 66 extra nodes, 0 pruned nodes, max_depth=8\n",
      "[80]\teval-auc:0.98944\ttrain-auc:0.991257\n",
      "[17:19:09] /workspace/src/tree/updater_prune.cc:74: tree pruning end, 1 roots, 92 extra nodes, 0 pruned nodes, max_depth=8\n",
      "[81]\teval-auc:0.989441\ttrain-auc:0.991284\n",
      "[17:19:10] /workspace/src/tree/updater_prune.cc:74: tree pruning end, 1 roots, 94 extra nodes, 0 pruned nodes, max_depth=8\n",
      "[82]\teval-auc:0.989456\ttrain-auc:0.991308\n",
      "[17:19:11] /workspace/src/tree/updater_prune.cc:74: tree pruning end, 1 roots, 40 extra nodes, 0 pruned nodes, max_depth=8\n",
      "[83]\teval-auc:0.989453\ttrain-auc:0.991314\n",
      "[17:19:12] /workspace/src/tree/updater_prune.cc:74: tree pruning end, 1 roots, 78 extra nodes, 0 pruned nodes, max_depth=8\n",
      "[84]\teval-auc:0.989448\ttrain-auc:0.991333\n",
      "[17:19:12] /workspace/src/tree/updater_prune.cc:74: tree pruning end, 1 roots, 46 extra nodes, 0 pruned nodes, max_depth=8\n",
      "[85]\teval-auc:0.989451\ttrain-auc:0.991343\n",
      "[17:19:13] /workspace/src/tree/updater_prune.cc:74: tree pruning end, 1 roots, 120 extra nodes, 0 pruned nodes, max_depth=8\n",
      "[86]\teval-auc:0.989441\ttrain-auc:0.991363\n",
      "[17:19:14] /workspace/src/tree/updater_prune.cc:74: tree pruning end, 1 roots, 44 extra nodes, 0 pruned nodes, max_depth=8\n",
      "[87]\teval-auc:0.989439\ttrain-auc:0.991373\n",
      "[17:19:15] /workspace/src/tree/updater_prune.cc:74: tree pruning end, 1 roots, 52 extra nodes, 0 pruned nodes, max_depth=8\n",
      "[88]\teval-auc:0.989433\ttrain-auc:0.991383\n",
      "[17:19:16] /workspace/src/tree/updater_prune.cc:74: tree pruning end, 1 roots, 120 extra nodes, 0 pruned nodes, max_depth=8\n",
      "[89]\teval-auc:0.989425\ttrain-auc:0.99141\n",
      "[17:19:17] /workspace/src/tree/updater_prune.cc:74: tree pruning end, 1 roots, 98 extra nodes, 0 pruned nodes, max_depth=8\n",
      "[90]\teval-auc:0.989436\ttrain-auc:0.99143\n",
      "[17:19:18] /workspace/src/tree/updater_prune.cc:74: tree pruning end, 1 roots, 54 extra nodes, 0 pruned nodes, max_depth=8\n",
      "[91]\teval-auc:0.98943\ttrain-auc:0.99144\n",
      "[17:19:18] /workspace/src/tree/updater_prune.cc:74: tree pruning end, 1 roots, 90 extra nodes, 0 pruned nodes, max_depth=8\n",
      "[92]\teval-auc:0.989431\ttrain-auc:0.991458\n",
      "[17:19:19] /workspace/src/tree/updater_prune.cc:74: tree pruning end, 1 roots, 92 extra nodes, 0 pruned nodes, max_depth=8\n",
      "[93]\teval-auc:0.989438\ttrain-auc:0.991479\n",
      "[17:19:20] /workspace/src/tree/updater_prune.cc:74: tree pruning end, 1 roots, 126 extra nodes, 0 pruned nodes, max_depth=8\n",
      "[94]\teval-auc:0.989447\ttrain-auc:0.9915\n"
     ]
    },
    {
     "name": "stdout",
     "output_type": "stream",
     "text": [
      "[17:19:21] /workspace/src/tree/updater_prune.cc:74: tree pruning end, 1 roots, 32 extra nodes, 0 pruned nodes, max_depth=8\n",
      "[95]\teval-auc:0.989447\ttrain-auc:0.991508\n",
      "[17:19:22] /workspace/src/tree/updater_prune.cc:74: tree pruning end, 1 roots, 84 extra nodes, 0 pruned nodes, max_depth=8\n",
      "[96]\teval-auc:0.989457\ttrain-auc:0.991525\n",
      "[17:19:22] /workspace/src/tree/updater_prune.cc:74: tree pruning end, 1 roots, 42 extra nodes, 0 pruned nodes, max_depth=8\n",
      "[97]\teval-auc:0.989459\ttrain-auc:0.991534\n",
      "[17:19:23] /workspace/src/tree/updater_prune.cc:74: tree pruning end, 1 roots, 60 extra nodes, 0 pruned nodes, max_depth=8\n",
      "[98]\teval-auc:0.989463\ttrain-auc:0.991543\n",
      "[17:19:24] /workspace/src/tree/updater_prune.cc:74: tree pruning end, 1 roots, 96 extra nodes, 0 pruned nodes, max_depth=8\n",
      "[99]\teval-auc:0.989449\ttrain-auc:0.99156\n"
     ]
    },
    {
     "data": {
      "text/plain": [
       "0.0839022018072701"
      ]
     },
     "execution_count": 45,
     "metadata": {},
     "output_type": "execute_result"
    }
   ],
   "source": [
    "# from xgboost import XGBClassifier\n",
    "import xgboost as xgb\n",
    "xgb_params = {\n",
    "#         'objective': \"binary:logistic\",\n",
    "        'objective':'binary:logistic',\n",
    "        'eval_metric': 'auc',\n",
    "        'booster': 'gbtree',\n",
    "        'learning_rate': 0.2,\n",
    "        'max_depth': 8,\n",
    "        'min_child_weight': 30,\n",
    "        'eta':0.2/100,\n",
    "        'gamma' : 0,\n",
    "        'alpha': 0.0,\n",
    "        'lambda': 0.0,\n",
    "        'subsample': 0.5,\n",
    "        'colsample_bytree': 0.5,\n",
    "        'colsample_bylevel': 0.632,\n",
    "        'n_jobs': -1,\n",
    "        'random_state': 456,\n",
    "#         'nroubds' : 100\n",
    "    }\n",
    "folds = get_folds(df=train, n_splits=5)\n",
    "xgb_oof_preds = np.zeros(train.shape[0],dtype = \"float\")\n",
    "xgb_sub_preds = np.zeros(test.shape[0],dtype = \"float\")\n",
    "vis_importances = pd.DataFrame()\n",
    "\n",
    "for fold_, (trn_, val_) in enumerate(folds):\n",
    "    trn_x, trn_y = train[train_features].iloc[trn_], y_clf.iloc[trn_]\n",
    "    val_x, val_y = train[train_features].iloc[val_], y_clf.iloc[val_]\n",
    "    \n",
    "    \n",
    "    dtrain=xgb.DMatrix(trn_x,label=trn_y)\n",
    "    dval=xgb.DMatrix(val_x,label=val_y)\n",
    "    \n",
    "    evallist = [(dval, 'eval'), (dtrain, 'train')]\n",
    "    bst=xgb.train(xgb_params,dtrain,num_boost_round=100,evals = evallist,early_stopping_rounds=10)\n",
    "#     bst = XGBClassifier(**xgb_params, n_estimators=100,objective='binary:logistic')\n",
    "    \n",
    "#     bst.fit(trn_x, trn_y,\n",
    "#             eval_set=[(val_x, val_y)],\n",
    "#             early_stopping_rounds=10,\n",
    "#             eval_metric='auc',\n",
    "#             verbose=10\n",
    "#             )\n",
    "    \n",
    "    xgb_oof_preds[val_] = bst.predict(dval)\n",
    "    xgb_oof_preds[val_][:100]\n",
    "    xgb_oof_preds[xgb_oof_preds < 0] = 0\n",
    "    \n",
    "    # Make sure features are in the same order\n",
    "    dtest = xgb.DMatrix(test[train_features])\n",
    "    _preds = bst.predict(dtest)\n",
    "    _preds[_preds < 0] = 0\n",
    "    xgb_sub_preds += _preds / len(folds)\n",
    "    \n",
    "mean_squared_error(y_clf, xgb_oof_preds) ** .5"
   ]
  },
  {
   "cell_type": "code",
   "execution_count": 46,
   "metadata": {},
   "outputs": [],
   "source": [
    "# xgb_oof_preds"
   ]
  },
  {
   "cell_type": "code",
   "execution_count": 47,
   "metadata": {
    "scrolled": true
   },
   "outputs": [],
   "source": [
    "train_pred_r_status = pd.DataFrame()\n",
    "test_pred_r_status = pd.DataFrame()\n",
    "train['pred_r_status']=xgb_oof_preds\n",
    "test['pred_r_status']=xgb_sub_preds\n",
    "# train_features=train_features+['pred_r_status']"
   ]
  },
  {
   "cell_type": "code",
   "execution_count": null,
   "metadata": {},
   "outputs": [],
   "source": []
  },
  {
   "cell_type": "code",
   "execution_count": 48,
   "metadata": {},
   "outputs": [
    {
     "name": "stdout",
     "output_type": "stream",
     "text": [
      "Classfier threshold is : 0.5\n",
      "无收入被分类有收入    错误数量 ====>>> 假反例 FN:  3680\n",
      "有收入被分类无收入    错误数量 ====>>> 假正例 FP:  12894\n",
      "无收入被分类无收入    正确数量 ====>>> 真正例 TP:  1686143\n",
      "有收入被分类有收入    正确数量 ====>>> 真反例 TN:  5619\n",
      "有收入准确率 TP/(TP+FP):  0.6042585224217658\n",
      "有收入召回率 TP/(TP+FN):  0.30351644790147464\n",
      "无收入准确率 TN/(TN+FN):  0.9924109951696166\n",
      "无收入召回率 TN/(TN+FP):  0.997822257123971\n"
     ]
    }
   ],
   "source": [
    "def score_analyze(pred,target,threshold =0.5):\n",
    "    print(\"Classfier threshold is :\",threshold)\n",
    "    tmp_pred = pred.apply(lambda x:0 if x<threshold else 1)\n",
    "    err = target[target!=tmp_pred]###分类错误的\n",
    "    true = target[target==tmp_pred] ####分类正确的  \n",
    "    \n",
    "    FN =len(err[err==1]) \n",
    "    FP = len(err[err==0])\n",
    "    \n",
    "    TP = len(true[true==1])\n",
    "    TN =len(true[true==0])\n",
    "    print(\"无收入被分类有收入    错误数量 ====>>> 假反例 FN: \",FP )   \n",
    "    print(\"有收入被分类无收入    错误数量 ====>>> 假正例 FP: \",FN )   \n",
    "    print(\"无收入被分类无收入    正确数量 ====>>> 真正例 TP: \",TN)   \n",
    "    print(\"有收入被分类有收入    正确数量 ====>>> 真反例 TN: \",TP) \n",
    "    \n",
    "    print(\"有收入准确率 TP/(TP+FP): \",TP/(TP+FP))  \n",
    "    print(\"有收入召回率 TP/(TP+FN): \",TP/(TP+FN)) \n",
    "    \n",
    "    print(\"无收入准确率 TN/(TN+FN): \",TN/(TN+FN))  \n",
    "    print(\"无收入召回率 TN/(TN+FP): \",TN/(TN+FP)) \n",
    "    \n",
    "    return threshold\n",
    "threshold = score_analyze(train['pred_r_status'],train[\"r_status\"])"
   ]
  },
  {
   "cell_type": "code",
   "execution_count": 49,
   "metadata": {},
   "outputs": [],
   "source": [
    "train['pred_r_status'] = train['pred_r_status'].apply(lambda x:0 if x<threshold else 1)\n",
    "test['pred_r_status'] = test['pred_r_status'].apply(lambda x:0 if x<threshold else 1)"
   ]
  },
  {
   "cell_type": "code",
   "execution_count": 50,
   "metadata": {},
   "outputs": [],
   "source": [
    "# train['pred_r_status'].value_counts()"
   ]
  },
  {
   "cell_type": "code",
   "execution_count": 51,
   "metadata": {},
   "outputs": [],
   "source": [
    "y_reg = train['totals_transactionRevenue'].astype(\"float\")\n",
    "y_reg.fillna(0,inplace = True)"
   ]
  },
  {
   "cell_type": "code",
   "execution_count": null,
   "metadata": {},
   "outputs": [],
   "source": []
  },
  {
   "cell_type": "code",
   "execution_count": null,
   "metadata": {},
   "outputs": [],
   "source": []
  },
  {
   "cell_type": "code",
   "execution_count": 52,
   "metadata": {},
   "outputs": [
    {
     "name": "stdout",
     "output_type": "stream",
     "text": [
      "Training until validation scores don't improve for 50 rounds.\n",
      "[100]\tvalid_0's l2: 2.25414\tvalid_0's rmse: 1.50138\n",
      "[200]\tvalid_0's l2: 2.2348\tvalid_0's rmse: 1.49492\n",
      "[300]\tvalid_0's l2: 2.22947\tvalid_0's rmse: 1.49314\n",
      "[400]\tvalid_0's l2: 2.22772\tvalid_0's rmse: 1.49256\n",
      "[500]\tvalid_0's l2: 2.2266\tvalid_0's rmse: 1.49218\n",
      "Early stopping, best iteration is:\n",
      "[477]\tvalid_0's l2: 2.22617\tvalid_0's rmse: 1.49203\n",
      "Training until validation scores don't improve for 50 rounds.\n",
      "[100]\tvalid_0's l2: 2.31166\tvalid_0's rmse: 1.52041\n",
      "[200]\tvalid_0's l2: 2.28752\tvalid_0's rmse: 1.51246\n",
      "[300]\tvalid_0's l2: 2.28071\tvalid_0's rmse: 1.5102\n",
      "[400]\tvalid_0's l2: 2.27515\tvalid_0's rmse: 1.50836\n",
      "[500]\tvalid_0's l2: 2.27327\tvalid_0's rmse: 1.50774\n",
      "[600]\tvalid_0's l2: 2.27227\tvalid_0's rmse: 1.5074\n",
      "Early stopping, best iteration is:\n",
      "[634]\tvalid_0's l2: 2.27094\tvalid_0's rmse: 1.50697\n",
      "Training until validation scores don't improve for 50 rounds.\n",
      "[100]\tvalid_0's l2: 2.20021\tvalid_0's rmse: 1.48331\n",
      "[200]\tvalid_0's l2: 2.18745\tvalid_0's rmse: 1.479\n",
      "[300]\tvalid_0's l2: 2.18165\tvalid_0's rmse: 1.47704\n",
      "[400]\tvalid_0's l2: 2.17942\tvalid_0's rmse: 1.47629\n",
      "[500]\tvalid_0's l2: 2.17768\tvalid_0's rmse: 1.4757\n",
      "[600]\tvalid_0's l2: 2.17642\tvalid_0's rmse: 1.47527\n",
      "Early stopping, best iteration is:\n",
      "[603]\tvalid_0's l2: 2.17632\tvalid_0's rmse: 1.47524\n",
      "Training until validation scores don't improve for 50 rounds.\n",
      "[100]\tvalid_0's l2: 2.32708\tvalid_0's rmse: 1.52548\n",
      "[200]\tvalid_0's l2: 2.3056\tvalid_0's rmse: 1.51842\n",
      "[300]\tvalid_0's l2: 2.2975\tvalid_0's rmse: 1.51575\n",
      "[400]\tvalid_0's l2: 2.29209\tvalid_0's rmse: 1.51396\n",
      "[500]\tvalid_0's l2: 2.28652\tvalid_0's rmse: 1.51213\n",
      "[600]\tvalid_0's l2: 2.28375\tvalid_0's rmse: 1.51121\n",
      "[700]\tvalid_0's l2: 2.28239\tvalid_0's rmse: 1.51076\n",
      "[800]\tvalid_0's l2: 2.28049\tvalid_0's rmse: 1.51013\n",
      "[900]\tvalid_0's l2: 2.27826\tvalid_0's rmse: 1.50939\n",
      "[1000]\tvalid_0's l2: 2.27728\tvalid_0's rmse: 1.50907\n",
      "Did not meet early stopping. Best iteration is:\n",
      "[963]\tvalid_0's l2: 2.27699\tvalid_0's rmse: 1.50897\n",
      "Training until validation scores don't improve for 50 rounds.\n",
      "[100]\tvalid_0's l2: 2.27214\tvalid_0's rmse: 1.50736\n",
      "[200]\tvalid_0's l2: 2.24759\tvalid_0's rmse: 1.4992\n",
      "[300]\tvalid_0's l2: 2.24269\tvalid_0's rmse: 1.49756\n",
      "[400]\tvalid_0's l2: 2.23962\tvalid_0's rmse: 1.49654\n",
      "[500]\tvalid_0's l2: 2.23828\tvalid_0's rmse: 1.49609\n",
      "Early stopping, best iteration is:\n",
      "[488]\tvalid_0's l2: 2.23797\tvalid_0's rmse: 1.49599\n"
     ]
    },
    {
     "data": {
      "text/plain": [
       "1.4958514277938768"
      ]
     },
     "execution_count": 52,
     "metadata": {},
     "output_type": "execute_result"
    }
   ],
   "source": [
    "folds = get_folds(df=train, n_splits=5)\n",
    "\n",
    "train_features = real_cols + cat_cols\n",
    "importances = pd.DataFrame()\n",
    "oof_reg_preds = np.zeros(train.shape[0])\n",
    "sub_reg_preds = np.zeros(test.shape[0])\n",
    "for fold_, (trn_, val_) in enumerate(folds):\n",
    "    trn_x, trn_y = train[train_features+['pred_r_status']].iloc[trn_], y_reg.iloc[trn_]\n",
    "    val_x, val_y = train[train_features+['pred_r_status']].iloc[val_], y_reg.iloc[val_]\n",
    "    \n",
    "    reg = lgb.LGBMRegressor(\n",
    "        num_leaves=31,\n",
    "        learning_rate=0.03,\n",
    "        n_estimators=1000,\n",
    "        subsample=.9,\n",
    "        colsample_bytree=.9,\n",
    "        random_state=1\n",
    "    )\n",
    "    reg.fit(\n",
    "        trn_x,np.log1p(trn_y),\n",
    "        eval_set=[(val_x, np.log1p(val_y))],\n",
    "        early_stopping_rounds=50,\n",
    "        verbose=100,\n",
    "        eval_metric='rmse'\n",
    "    )\n",
    "    imp_df = pd.DataFrame()\n",
    "    imp_df['feature'] = train_features +['pred_r_status']\n",
    "    imp_df['gain'] = reg.booster_.feature_importance(importance_type='gain')\n",
    "    \n",
    "    imp_df['fold'] = fold_ + 1\n",
    "    importances = pd.concat([importances, imp_df], axis=0, sort=False)\n",
    "    \n",
    "    oof_reg_preds[val_] = reg.predict(val_x, num_iteration=reg.best_iteration_)\n",
    "    oof_reg_preds[oof_reg_preds < 0] = 0\n",
    "    _preds = reg.predict(test[train_features+['pred_r_status']], num_iteration=reg.best_iteration_)\n",
    "    _preds[_preds < 0] = 0\n",
    "    sub_reg_preds += np.expm1(_preds) / len(folds)\n",
    "    \n",
    "mean_squared_error(np.log1p(y_reg), oof_reg_preds) ** .5"
   ]
  },
  {
   "cell_type": "code",
   "execution_count": 53,
   "metadata": {},
   "outputs": [
    {
     "name": "stderr",
     "output_type": "stream",
     "text": [
      "/home/baitong/tensorflow/lib/python3.6/site-packages/scipy/stats/stats.py:1713: FutureWarning: Using a non-tuple sequence for multidimensional indexing is deprecated; use `arr[tuple(seq)]` instead of `arr[seq]`. In the future this will be interpreted as an array index, `arr[np.array(seq)]`, which will result either in an error or a different result.\n",
      "  return np.add.reduce(sorted[indexer] * weights, axis=axis) / sumval\n"
     ]
    },
    {
     "data": {
      "text/plain": [
       "<matplotlib.axes._subplots.AxesSubplot at 0x7fe6dc19a048>"
      ]
     },
     "execution_count": 53,
     "metadata": {},
     "output_type": "execute_result"
    },
    {
     "data": {
      "image/png": "[encoded data removed]",
      "text/plain": [
       "<Figure size 576x1800 with 1 Axes>"
      ]
     },
     "metadata": {
      "needs_background": "light"
     },
     "output_type": "display_data"
    }
   ],
   "source": [
    "importances['gain_log'] = np.log1p(importances['gain'])\n",
    "mean_gain = importances[['gain', 'feature']].groupby('feature').mean()\n",
    "importances['mean_gain'] = importances['feature'].map(mean_gain['gain'])\n",
    "\n",
    "plt.figure(figsize=(8, 25))\n",
    "sns.barplot(x='gain_log', y='feature', data=importances.sort_values('mean_gain', ascending=False).iloc[:300])"
   ]
  },
  {
   "cell_type": "code",
   "execution_count": 54,
   "metadata": {},
   "outputs": [
    {
     "data": {
      "text/plain": [
       "(1708336, 1708336)"
      ]
     },
     "execution_count": 54,
     "metadata": {},
     "output_type": "execute_result"
    }
   ],
   "source": [
    "len(oof_reg_preds),len(train)"
   ]
  },
  {
   "cell_type": "code",
   "execution_count": 55,
   "metadata": {
    "scrolled": true
   },
   "outputs": [
    {
     "data": {
      "text/plain": [
       "(401589, 401589)"
      ]
     },
     "execution_count": 55,
     "metadata": {},
     "output_type": "execute_result"
    }
   ],
   "source": [
    "len(sub_reg_preds),len(test)"
   ]
  },
  {
   "cell_type": "code",
   "execution_count": 56,
   "metadata": {},
   "outputs": [],
   "source": [
    "train['predictions'] = np.expm1(oof_reg_preds)\n",
    "test['predictions'] = sub_reg_preds"
   ]
  },
  {
   "cell_type": "code",
   "execution_count": 57,
   "metadata": {},
   "outputs": [],
   "source": [
    "##计算单个用户会话总数\n",
    "train[\"sess_count\"]=1;\n",
    "train_sess_num = train[['fullVisitorId', 'sess_count']].groupby('fullVisitorId').sum()\n",
    "test[\"sess_count\"]=1;\n",
    "test_sess_num = test[['fullVisitorId', 'sess_count']].groupby('fullVisitorId').sum()"
   ]
  },
  {
   "cell_type": "code",
   "execution_count": 58,
   "metadata": {},
   "outputs": [],
   "source": [
    "###将大于20次的会话数量限制为20 （大于20次数据过少）\n",
    "train_sess_num['sess_count']=train_sess_num['sess_count'].apply(lambda x: 20 if x>20 else x)\n",
    "test_sess_num['sess_count']=test_sess_num['sess_count'].apply(lambda x: 20 if x>20 else x)"
   ]
  },
  {
   "cell_type": "code",
   "execution_count": 59,
   "metadata": {},
   "outputs": [],
   "source": [
    "####这里采用均值合并，对于类型特征来说并不合理\n",
    "train_agg = train[train_features+['pred_r_status']+['fullVisitorId']].groupby('fullVisitorId').mean()"
   ]
  },
  {
   "cell_type": "code",
   "execution_count": 60,
   "metadata": {},
   "outputs": [
    {
     "data": {
      "text/plain": [
       "1323729"
      ]
     },
     "execution_count": 60,
     "metadata": {},
     "output_type": "execute_result"
    }
   ],
   "source": [
    "train_pred = train[['fullVisitorId', 'predictions']].groupby('fullVisitorId').sum()\n",
    "len(train_pred)"
   ]
  },
  {
   "cell_type": "code",
   "execution_count": 61,
   "metadata": {},
   "outputs": [],
   "source": [
    "train_fulldata = pd.concat([train_agg, train_pred,train_sess_num], axis=1).astype(float)"
   ]
  },
  {
   "cell_type": "code",
   "execution_count": 62,
   "metadata": {},
   "outputs": [],
   "source": [
    "test_agg = test[train_features+['pred_r_status']+['fullVisitorId']].groupby('fullVisitorId').mean()\n",
    "test_pred = test[['fullVisitorId', 'predictions']].groupby('fullVisitorId').sum()\n",
    "test_fulldata = pd.concat([test_agg, test_pred,test_sess_num], axis=1).astype(float)\n"
   ]
  },
  {
   "cell_type": "code",
   "execution_count": 63,
   "metadata": {},
   "outputs": [
    {
     "data": {
      "text/plain": [
       "((296530, 93), (1323729, 93))"
      ]
     },
     "execution_count": 63,
     "metadata": {},
     "output_type": "execute_result"
    }
   ],
   "source": [
    "test_fulldata.shape,train_fulldata.shape"
   ]
  },
  {
   "cell_type": "code",
   "execution_count": 64,
   "metadata": {},
   "outputs": [],
   "source": [
    "train['target'] = y_reg\n",
    "trn_user_target = train[['fullVisitorId', 'target']].groupby('fullVisitorId').sum()"
   ]
  },
  {
   "cell_type": "code",
   "execution_count": 65,
   "metadata": {},
   "outputs": [
    {
     "name": "stdout",
     "output_type": "stream",
     "text": [
      "Training until validation scores don't improve for 50 rounds.\n",
      "[100]\tTRAIN's l2: 2.1768\tTRAIN's rmse: 1.4754\tVALID's l2: 2.25659\tVALID's rmse: 1.50219\n",
      "[200]\tTRAIN's l2: 2.10114\tTRAIN's rmse: 1.44953\tVALID's l2: 2.2482\tVALID's rmse: 1.4994\n",
      "Early stopping, best iteration is:\n",
      "[186]\tTRAIN's l2: 2.10784\tTRAIN's rmse: 1.45184\tVALID's l2: 2.24785\tVALID's rmse: 1.49928\n",
      "Training until validation scores don't improve for 50 rounds.\n",
      "[100]\tTRAIN's l2: 2.16668\tTRAIN's rmse: 1.47197\tVALID's l2: 2.30228\tVALID's rmse: 1.51733\n",
      "[200]\tTRAIN's l2: 2.09318\tTRAIN's rmse: 1.44678\tVALID's l2: 2.28623\tVALID's rmse: 1.51203\n",
      "Early stopping, best iteration is:\n",
      "[174]\tTRAIN's l2: 2.10777\tTRAIN's rmse: 1.45182\tVALID's l2: 2.28528\tVALID's rmse: 1.51172\n",
      "Training until validation scores don't improve for 50 rounds.\n",
      "[100]\tTRAIN's l2: 2.18713\tTRAIN's rmse: 1.47889\tVALID's l2: 2.22141\tVALID's rmse: 1.49044\n",
      "[200]\tTRAIN's l2: 2.11479\tTRAIN's rmse: 1.45423\tVALID's l2: 2.21378\tVALID's rmse: 1.48788\n",
      "Early stopping, best iteration is:\n",
      "[220]\tTRAIN's l2: 2.10449\tTRAIN's rmse: 1.45069\tVALID's l2: 2.21266\tVALID's rmse: 1.4875\n",
      "Training until validation scores don't improve for 50 rounds.\n",
      "[100]\tTRAIN's l2: 2.17274\tTRAIN's rmse: 1.47402\tVALID's l2: 2.26279\tVALID's rmse: 1.50426\n",
      "[200]\tTRAIN's l2: 2.09674\tTRAIN's rmse: 1.44801\tVALID's l2: 2.25447\tVALID's rmse: 1.50149\n",
      "Early stopping, best iteration is:\n",
      "[178]\tTRAIN's l2: 2.10867\tTRAIN's rmse: 1.45213\tVALID's l2: 2.25396\tVALID's rmse: 1.50132\n",
      "Training until validation scores don't improve for 50 rounds.\n",
      "[100]\tTRAIN's l2: 2.17519\tTRAIN's rmse: 1.47485\tVALID's l2: 2.2648\tVALID's rmse: 1.50492\n",
      "[200]\tTRAIN's l2: 2.09889\tTRAIN's rmse: 1.44876\tVALID's l2: 2.25277\tVALID's rmse: 1.50092\n",
      "Early stopping, best iteration is:\n",
      "[162]\tTRAIN's l2: 2.12076\tTRAIN's rmse: 1.45628\tVALID's l2: 2.25163\tVALID's rmse: 1.50054\n"
     ]
    },
    {
     "data": {
      "text/plain": [
       "1.500089310232697"
      ]
     },
     "execution_count": 65,
     "metadata": {},
     "output_type": "execute_result"
    }
   ],
   "source": [
    "folds = get_folds(df=train_fulldata[['totals_pageviews']].reset_index(), n_splits=5)\n",
    "\n",
    "lgb_oof_preds = np.zeros(train_fulldata.shape[0])\n",
    "lgb_sub_preds = np.zeros(test_fulldata.shape[0])\n",
    "vis_importances = pd.DataFrame()\n",
    "\n",
    "for fold_, (trn_, val_) in enumerate(folds):\n",
    "    trn_x, trn_y = train_fulldata.iloc[trn_], trn_user_target['target'].iloc[trn_]\n",
    "    val_x, val_y = train_fulldata.iloc[val_], trn_user_target['target'].iloc[val_]\n",
    "    \n",
    "    reg = lgb.LGBMRegressor(\n",
    "        num_leaves=31,\n",
    "        learning_rate=0.03,\n",
    "        n_estimators=1000,\n",
    "        subsample=.9,\n",
    "        colsample_bytree=.9,\n",
    "        random_state=1\n",
    "    )\n",
    "    reg.fit(\n",
    "        trn_x, np.log1p(trn_y),\n",
    "        eval_set=[(trn_x, np.log1p(trn_y)), (val_x, np.log1p(val_y))],\n",
    "        eval_names=['TRAIN', 'VALID'],\n",
    "        early_stopping_rounds=50,\n",
    "        eval_metric='rmse',\n",
    "        verbose=100\n",
    "    )\n",
    "    \n",
    "    imp_df = pd.DataFrame()\n",
    "    imp_df['feature'] = trn_x.columns\n",
    "    imp_df['gain'] = reg.booster_.feature_importance(importance_type='gain')\n",
    "    \n",
    "    imp_df['fold'] = fold_ + 1\n",
    "    vis_importances = pd.concat([vis_importances, imp_df], axis=0, sort=False)\n",
    "    \n",
    "    lgb_oof_preds[val_] = reg.predict(val_x, num_iteration=reg.best_iteration_)\n",
    "    lgb_oof_preds[lgb_oof_preds < 0] = 0\n",
    "    \n",
    "    # Make sure features are in the same order\n",
    "    _preds = reg.predict(test_fulldata[train_fulldata.columns], num_iteration=reg.best_iteration_)\n",
    "    _preds[_preds < 0] = 0\n",
    "    lgb_sub_preds += _preds / len(folds)\n",
    "    \n",
    "mean_squared_error(np.log1p(trn_user_target['target']), lgb_oof_preds) ** .5"
   ]
  },
  {
   "cell_type": "code",
   "execution_count": 66,
   "metadata": {},
   "outputs": [
    {
     "name": "stderr",
     "output_type": "stream",
     "text": [
      "/home/baitong/tensorflow/lib/python3.6/site-packages/scipy/stats/stats.py:1713: FutureWarning: Using a non-tuple sequence for multidimensional indexing is deprecated; use `arr[tuple(seq)]` instead of `arr[seq]`. In the future this will be interpreted as an array index, `arr[np.array(seq)]`, which will result either in an error or a different result.\n",
      "  return np.add.reduce(sorted[indexer] * weights, axis=axis) / sumval\n"
     ]
    },
    {
     "data": {
      "text/plain": [
       "<matplotlib.axes._subplots.AxesSubplot at 0x7fe8515512b0>"
      ]
     },
     "execution_count": 66,
     "metadata": {},
     "output_type": "execute_result"
    },
    {
     "data": {
      "image/png": "[encoded data removed]",
      "text/plain": [
       "<Figure size 576x1800 with 1 Axes>"
      ]
     },
     "metadata": {
      "needs_background": "light"
     },
     "output_type": "display_data"
    }
   ],
   "source": [
    "vis_importances['gain_log'] = np.log1p(vis_importances['gain'])\n",
    "mean_gain = vis_importances[['gain', 'feature']].groupby('feature').mean()\n",
    "vis_importances['mean_gain'] = vis_importances['feature'].map(mean_gain['gain'])\n",
    "\n",
    "plt.figure(figsize=(8, 25))\n",
    "sns.barplot(x='gain_log', y='feature', data=vis_importances.sort_values('mean_gain', ascending=False).iloc[:300])"
   ]
  },
  {
   "cell_type": "code",
   "execution_count": 67,
   "metadata": {},
   "outputs": [],
   "source": [
    "xgb_params = {\n",
    "        'objective': 'reg:linear',\n",
    "        'booster': 'gbtree',\n",
    "        'learning_rate': 0.03,\n",
    "        'max_depth': 22,\n",
    "        'min_child_weight': 57,\n",
    "        'gamma' : 1.45,\n",
    "        'alpha': 0.0,\n",
    "        'lambda': 0.0,\n",
    "        'subsample': 0.67,\n",
    "        'colsample_bytree': 0.054,\n",
    "        'colsample_bylevel': 0.50,\n",
    "        'n_jobs': -1,\n",
    "        'random_state': 456\n",
    "    }"
   ]
  },
  {
   "cell_type": "code",
   "execution_count": 68,
   "metadata": {},
   "outputs": [
    {
     "name": "stdout",
     "output_type": "stream",
     "text": [
      "[0]\tvalidation_0-rmse:1.97418\n",
      "Will train until validation_0-rmse hasn't improved in 50 rounds.\n",
      "[100]\tvalidation_0-rmse:1.6111\n",
      "[200]\tvalidation_0-rmse:1.54893\n",
      "[300]\tvalidation_0-rmse:1.52324\n",
      "[400]\tvalidation_0-rmse:1.51651\n",
      "[500]\tvalidation_0-rmse:1.51155\n",
      "[600]\tvalidation_0-rmse:1.50981\n",
      "[700]\tvalidation_0-rmse:1.50981\n",
      "Stopping. Best iteration:\n",
      "[654]\tvalidation_0-rmse:1.50956\n",
      "\n",
      "[0]\tvalidation_0-rmse:1.99326\n",
      "Will train until validation_0-rmse hasn't improved in 50 rounds.\n",
      "[100]\tvalidation_0-rmse:1.62426\n",
      "[200]\tvalidation_0-rmse:1.55575\n",
      "[300]\tvalidation_0-rmse:1.53707\n",
      "[400]\tvalidation_0-rmse:1.53001\n",
      "[500]\tvalidation_0-rmse:1.52545\n",
      "[600]\tvalidation_0-rmse:1.52377\n",
      "[700]\tvalidation_0-rmse:1.52262\n",
      "Stopping. Best iteration:\n",
      "[721]\tvalidation_0-rmse:1.52258\n",
      "\n",
      "[0]\tvalidation_0-rmse:1.94912\n",
      "Will train until validation_0-rmse hasn't improved in 50 rounds.\n",
      "[100]\tvalidation_0-rmse:1.58906\n",
      "[200]\tvalidation_0-rmse:1.52607\n",
      "[300]\tvalidation_0-rmse:1.50753\n",
      "[400]\tvalidation_0-rmse:1.49764\n",
      "[500]\tvalidation_0-rmse:1.49431\n",
      "[600]\tvalidation_0-rmse:1.49341\n",
      "Stopping. Best iteration:\n",
      "[581]\tvalidation_0-rmse:1.49318\n",
      "\n",
      "[0]\tvalidation_0-rmse:1.96767\n",
      "Will train until validation_0-rmse hasn't improved in 50 rounds.\n",
      "[100]\tvalidation_0-rmse:1.60844\n",
      "[200]\tvalidation_0-rmse:1.54472\n",
      "[300]\tvalidation_0-rmse:1.52096\n",
      "[400]\tvalidation_0-rmse:1.51402\n",
      "[500]\tvalidation_0-rmse:1.50999\n",
      "[600]\tvalidation_0-rmse:1.5094\n",
      "[700]\tvalidation_0-rmse:1.50867\n",
      "Stopping. Best iteration:\n",
      "[692]\tvalidation_0-rmse:1.50857\n",
      "\n",
      "[0]\tvalidation_0-rmse:1.97624\n",
      "Will train until validation_0-rmse hasn't improved in 50 rounds.\n",
      "[100]\tvalidation_0-rmse:1.60284\n",
      "[200]\tvalidation_0-rmse:1.54679\n",
      "[300]\tvalidation_0-rmse:1.5306\n",
      "[400]\tvalidation_0-rmse:1.52138\n",
      "[500]\tvalidation_0-rmse:1.51539\n",
      "[600]\tvalidation_0-rmse:1.51207\n",
      "[700]\tvalidation_0-rmse:1.51123\n",
      "[800]\tvalidation_0-rmse:1.51078\n",
      "Stopping. Best iteration:\n",
      "[764]\tvalidation_0-rmse:1.51062\n",
      "\n"
     ]
    },
    {
     "data": {
      "text/plain": [
       "1.5074110120382291"
      ]
     },
     "execution_count": 68,
     "metadata": {},
     "output_type": "execute_result"
    }
   ],
   "source": [
    "from xgboost import XGBRegressor\n",
    "folds = get_folds(df=train_fulldata[['totals_pageviews']].reset_index(), n_splits=5)\n",
    "\n",
    "xgb_oof_preds = np.zeros(train_fulldata.shape[0])\n",
    "xgb_sub_preds = np.zeros(test_fulldata.shape[0])\n",
    "vis_importances = pd.DataFrame()\n",
    "\n",
    "for fold_, (trn_, val_) in enumerate(folds):\n",
    "    trn_x, trn_y = train_fulldata.iloc[trn_], trn_user_target['target'].iloc[trn_]\n",
    "    val_x, val_y = train_fulldata.iloc[val_], trn_user_target['target'].iloc[val_]\n",
    "    \n",
    "    xgb = XGBRegressor(**xgb_params, n_estimators=1300)\n",
    "    \n",
    "    xgb.fit(trn_x, np.log1p(trn_y),\n",
    "            eval_set=[(val_x, np.log1p(val_y))],\n",
    "            early_stopping_rounds=50,\n",
    "            eval_metric='rmse',\n",
    "            verbose = 100)\n",
    "    xgb_oof_preds[val_] = xgb.predict(val_x)\n",
    "    xgb_oof_preds[xgb_oof_preds < 0] = 0\n",
    "    \n",
    "    # Make sure features are in the same order\n",
    "    _preds = xgb.predict(test_fulldata[train_fulldata.columns])\n",
    "    _preds[_preds < 0] = 0\n",
    "    xgb_sub_preds += _preds / len(folds)\n",
    "    \n",
    "mean_squared_error(np.log1p(trn_user_target['target']), xgb_oof_preds) ** .5"
   ]
  },
  {
   "cell_type": "code",
   "execution_count": 69,
   "metadata": {},
   "outputs": [],
   "source": [
    "cat_param = {\n",
    "    'learning_rate' :0.03,\n",
    "    'depth' :10,\n",
    "    'eval_metric' :'RMSE',\n",
    "    'od_type' :'Iter',\n",
    "    'metric_period ' : 50,\n",
    "    'od_wait' : 20,\n",
    "    'seed' : 42\n",
    "    \n",
    "}"
   ]
  },
  {
   "cell_type": "code",
   "execution_count": 70,
   "metadata": {},
   "outputs": [
    {
     "name": "stderr",
     "output_type": "stream",
     "text": [
      "Warning: Overfitting detector is active, thus evaluation metric iscalculated on every iteration. 'metric_period' is ignored for evaluation metric.\n"
     ]
    },
    {
     "name": "stdout",
     "output_type": "stream",
     "text": [
      "0:\tlearn: 1.9440355\ttest: 1.9467332\tbest: 1.9467332 (0)\ttotal: 566ms\tremaining: 9m 25s\n",
      "100:\tlearn: 1.4760651\ttest: 1.5010938\tbest: 1.5010938 (100)\ttotal: 51.8s\tremaining: 7m 41s\n",
      "200:\tlearn: 1.4440044\ttest: 1.4983130\tbest: 1.4979196 (163)\ttotal: 1m 42s\tremaining: 6m 48s\n",
      "Stopped by overfitting detector  (50 iterations wait)\n",
      "\n",
      "bestTest = 1.497919576\n",
      "bestIteration = 163\n",
      "\n",
      "Shrink model to first 164 iterations.\n"
     ]
    },
    {
     "name": "stderr",
     "output_type": "stream",
     "text": [
      "Warning: Overfitting detector is active, thus evaluation metric iscalculated on every iteration. 'metric_period' is ignored for evaluation metric.\n"
     ]
    },
    {
     "name": "stdout",
     "output_type": "stream",
     "text": [
      "0:\tlearn: 1.9389483\ttest: 1.9673312\tbest: 1.9673312 (0)\ttotal: 498ms\tremaining: 8m 17s\n",
      "100:\tlearn: 1.4715764\ttest: 1.5171876\tbest: 1.5171876 (100)\ttotal: 51.6s\tremaining: 7m 38s\n",
      "200:\tlearn: 1.4391157\ttest: 1.5128676\tbest: 1.5128676 (200)\ttotal: 1m 44s\tremaining: 6m 55s\n",
      "Stopped by overfitting detector  (50 iterations wait)\n",
      "\n",
      "bestTest = 1.512554029\n",
      "bestIteration = 228\n",
      "\n",
      "Shrink model to first 229 iterations.\n"
     ]
    },
    {
     "name": "stderr",
     "output_type": "stream",
     "text": [
      "Warning: Overfitting detector is active, thus evaluation metric iscalculated on every iteration. 'metric_period' is ignored for evaluation metric.\n"
     ]
    },
    {
     "name": "stdout",
     "output_type": "stream",
     "text": [
      "0:\tlearn: 1.9503767\ttest: 1.9203495\tbest: 1.9203495 (0)\ttotal: 500ms\tremaining: 8m 19s\n",
      "100:\tlearn: 1.4772673\ttest: 1.4910115\tbest: 1.4910115 (100)\ttotal: 50.7s\tremaining: 7m 31s\n",
      "200:\tlearn: 1.4475620\ttest: 1.4887490\tbest: 1.4887207 (198)\ttotal: 1m 40s\tremaining: 6m 40s\n",
      "Stopped by overfitting detector  (50 iterations wait)\n",
      "\n",
      "bestTest = 1.488551639\n",
      "bestIteration = 220\n",
      "\n",
      "Shrink model to first 221 iterations.\n"
     ]
    },
    {
     "name": "stderr",
     "output_type": "stream",
     "text": [
      "Warning: Overfitting detector is active, thus evaluation metric iscalculated on every iteration. 'metric_period' is ignored for evaluation metric.\n"
     ]
    },
    {
     "name": "stdout",
     "output_type": "stream",
     "text": [
      "0:\tlearn: 1.9457025\ttest: 1.9403253\tbest: 1.9403253 (0)\ttotal: 491ms\tremaining: 8m 10s\n",
      "100:\tlearn: 1.4725527\ttest: 1.5047807\tbest: 1.5047807 (100)\ttotal: 50.9s\tremaining: 7m 32s\n",
      "200:\tlearn: 1.4415515\ttest: 1.5022958\tbest: 1.5022730 (195)\ttotal: 1m 41s\tremaining: 6m 42s\n",
      "Stopped by overfitting detector  (50 iterations wait)\n",
      "\n",
      "bestTest = 1.501990645\n",
      "bestIteration = 238\n",
      "\n",
      "Shrink model to first 239 iterations.\n"
     ]
    },
    {
     "name": "stderr",
     "output_type": "stream",
     "text": [
      "Warning: Overfitting detector is active, thus evaluation metric iscalculated on every iteration. 'metric_period' is ignored for evaluation metric.\n"
     ]
    },
    {
     "name": "stdout",
     "output_type": "stream",
     "text": [
      "0:\tlearn: 1.9436770\ttest: 1.9484309\tbest: 1.9484309 (0)\ttotal: 513ms\tremaining: 8m 32s\n",
      "100:\tlearn: 1.4738374\ttest: 1.5045118\tbest: 1.5045118 (100)\ttotal: 49.1s\tremaining: 7m 17s\n",
      "200:\tlearn: 1.4413799\ttest: 1.5006216\tbest: 1.5004632 (173)\ttotal: 1m 35s\tremaining: 6m 18s\n",
      "300:\tlearn: 1.4175560\ttest: 1.4999730\tbest: 1.4999586 (299)\ttotal: 2m 20s\tremaining: 5m 26s\n",
      "Stopped by overfitting detector  (50 iterations wait)\n",
      "\n",
      "bestTest = 1.499730107\n",
      "bestIteration = 330\n",
      "\n",
      "Shrink model to first 331 iterations.\n"
     ]
    },
    {
     "data": {
      "text/plain": [
       "1.5001589288970592"
      ]
     },
     "execution_count": 70,
     "metadata": {},
     "output_type": "execute_result"
    }
   ],
   "source": [
    "from catboost import CatBoostRegressor\n",
    "folds = get_folds(df=train_fulldata[['totals_pageviews']].reset_index(), n_splits=5)\n",
    "\n",
    "cat_oof_preds = np.zeros(train_fulldata.shape[0])\n",
    "cat_sub_preds = np.zeros(test_fulldata.shape[0])\n",
    "vis_importances = pd.DataFrame()\n",
    "\n",
    "for fold_, (trn_, val_) in enumerate(folds):\n",
    "    trn_x, trn_y = train_fulldata.iloc[trn_], trn_user_target['target'].iloc[trn_]\n",
    "    val_x, val_y = train_fulldata.iloc[val_], trn_user_target['target'].iloc[val_]\n",
    "    \n",
    "    cat = CatBoostRegressor(iterations=1000,learning_rate=0.03,\n",
    "                            depth=10,\n",
    "                            eval_metric='RMSE',\n",
    "                            random_seed = 42,\n",
    "                            bagging_temperature = 0.2,\n",
    "                            od_type='Iter',\n",
    "                            metric_period = 50,\n",
    "                            od_wait=20)\n",
    "    cat.fit(trn_x, np.log1p(trn_y), \n",
    "            eval_set=[(val_x, np.log1p(val_y))],\n",
    "            early_stopping_rounds=50,\n",
    "            use_best_model=True,\n",
    "            verbose=100)\n",
    "    cat_oof_preds[val_] = cat.predict(val_x)\n",
    "    cat_oof_preds[cat_oof_preds < 0] = 0\n",
    "    \n",
    "    # Make sure features are in the same order\n",
    "    _preds = cat.predict(test_fulldata[train_fulldata.columns])\n",
    "    _preds[_preds < 0] = 0\n",
    "    cat_sub_preds += _preds / len(folds)\n",
    "    \n",
    "mean_squared_error(np.log1p(trn_user_target['target']), cat_oof_preds) ** .5"
   ]
  },
  {
   "cell_type": "code",
   "execution_count": 71,
   "metadata": {},
   "outputs": [],
   "source": [
    "test_fulldata['lgb_pred'] = lgb_sub_preds\n",
    "test_fulldata['xgb_pred'] = xgb_sub_preds\n",
    "test_fulldata['cst_pred'] = cat_sub_preds\n",
    "test_final_data = test_fulldata[['lgb_pred','xgb_pred','cst_pred']]"
   ]
  },
  {
   "cell_type": "code",
   "execution_count": 72,
   "metadata": {},
   "outputs": [],
   "source": [
    "train_fulldata['lgb_pred'] = lgb_oof_preds\n",
    "train_fulldata['xgb_pred'] = xgb_oof_preds\n",
    "train_fulldata['cst_pred'] = cat_oof_preds\n",
    "train_final_data = train_fulldata[['lgb_pred','xgb_pred','cst_pred']]"
   ]
  },
  {
   "cell_type": "code",
   "execution_count": 73,
   "metadata": {},
   "outputs": [
    {
     "data": {
      "text/plain": [
       "1.4968637435765455"
      ]
     },
     "execution_count": 73,
     "metadata": {},
     "output_type": "execute_result"
    }
   ],
   "source": [
    "from sklearn.linear_model import LinearRegression\n",
    "\n",
    "folds = get_folds(df=train_fulldata[['totals_pageviews']].reset_index(), n_splits=5)\n",
    "\n",
    "final_oof_preds = np.zeros(train_final_data.shape[0])\n",
    "final_sub_preds = np.zeros(test_final_data.shape[0])\n",
    "vis_importances = pd.DataFrame()\n",
    "\n",
    "for fold_, (trn_, val_) in enumerate(folds):\n",
    "    trn_x, trn_y = train_final_data.iloc[trn_], trn_user_target['target'].iloc[trn_]\n",
    "    val_x, val_y = train_final_data.iloc[val_], trn_user_target['target'].iloc[val_]\n",
    "    \n",
    "    lin_reg = LinearRegression()\n",
    "    lin_reg.fit(trn_x,np.log1p(trn_y))\n",
    "    final_oof_preds[val_] = lin_reg.predict(val_x)\n",
    "    final_oof_preds[final_oof_preds < 0] = 0\n",
    "    \n",
    "    # Make sure features are in the same order\n",
    "    _preds = lin_reg.predict(test_final_data[train_final_data.columns])\n",
    "    _preds[_preds < 0] = 0\n",
    "    final_sub_preds += _preds / len(folds)\n",
    "    \n",
    "mean_squared_error(np.log1p(trn_user_target['target']), final_oof_preds) ** .5"
   ]
  },
  {
   "cell_type": "code",
   "execution_count": 74,
   "metadata": {},
   "outputs": [],
   "source": [
    "test_fulldata['PredictedLogRevenue'] = final_sub_preds\n",
    "test_fulldata[['PredictedLogRevenue']].to_csv('/home/baitong/pywork/RevenuePrediction/submission.csv', index=True)"
   ]
  },
  {
   "cell_type": "code",
   "execution_count": 75,
   "metadata": {},
   "outputs": [
    {
     "data": {
      "text/plain": [
       "296530"
      ]
     },
     "execution_count": 75,
     "metadata": {},
     "output_type": "execute_result"
    }
   ],
   "source": [
    "len(test_fulldata)"
   ]
  }
 ],
 "metadata": {
  "kernelspec": {
   "display_name": "tensorflow",
   "language": "python",
   "name": "tensorflow"
  },
  "language_info": {
   "codemirror_mode": {
    "name": "ipython",
    "version": 3
   },
   "file_extension": ".py",
   "mimetype": "text/x-python",
   "name": "python",
   "nbconvert_exporter": "python",
   "pygments_lexer": "ipython3",
   "version": "3.6.4"
  }
 },
 "nbformat": 4,
 "nbformat_minor": 2
}
