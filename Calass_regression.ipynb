{
 "cells": [
  {
   "cell_type": "code",
   "execution_count": 1,
   "metadata": {},
   "outputs": [],
   "source": [
    "import pandas as pd\n",
    "import numpy as np\n",
    "import matplotlib.pyplot as plt\n",
    "import seaborn as sns\n",
    "from sklearn.metrics import mean_squared_error\n",
    "import gc\n",
    "import time\n",
    "from pandas.core.common import SettingWithCopyWarning\n",
    "import warnings\n",
    "import lightgbm as lgb\n",
    "from sklearn.model_selection import GroupKFold\n",
    "from pandas.io.json import json_normalize\n",
    "import json\n",
    "import os\n",
    "warnings.simplefilter('error', SettingWithCopyWarning)\n",
    "gc.enable()\n",
    "%matplotlib inline"
   ]
  },
  {
   "cell_type": "code",
   "execution_count": 2,
   "metadata": {},
   "outputs": [],
   "source": [
    "features = ['channelGrouping', 'date', 'fullVisitorId', 'visitId',\\\n",
    "       'visitNumber', 'visitStartTime', 'device_browser',\\\n",
    "       'device_deviceCategory', 'device_isMobile', 'device_operatingSystem',\\\n",
    "       'geoNetwork_city', 'geoNetwork_continent', 'geoNetwork_country',\\\n",
    "       'geoNetwork_metro', 'geoNetwork_networkDomain', 'geoNetwork_region',\\\n",
    "       'geoNetwork_subContinent', 'totals_bounces', 'totals_hits',\\\n",
    "       'totals_newVisits', 'totals_pageviews', 'totals_transactionRevenue',\\\n",
    "       'trafficSource_adContent', 'trafficSource_campaign',\\\n",
    "       'trafficSource_isTrueDirect', 'trafficSource_keyword',\\\n",
    "       'trafficSource_medium', 'trafficSource_referralPath',\\\n",
    "       'trafficSource_source','trafficSource_adwordsClickInfo.page',\\\n",
    "       'trafficSource_adwordsClickInfo.adNetworkType',\n",
    "       'trafficSource_adwordsClickInfo.isVideoAd',\n",
    "       'trafficSource_adwordsClickInfo.slot',\n",
    "           ]"
   ]
  },
  {
   "cell_type": "code",
   "execution_count": null,
   "metadata": {},
   "outputs": [],
   "source": [
    "gc.enable()\n",
    "def load_df(csv_path='/home/baitong/pywork/RevenuePrediction/all (1)/train_v2.csv'):\n",
    "    JSON_COLUMNS = ['device', 'geoNetwork', 'totals', 'trafficSource']\n",
    "    ans = pd.DataFrame()\n",
    "    dfs = pd.read_csv(csv_path, sep=',',\n",
    "                     converters={column: json.loads for column in JSON_COLUMNS}, \n",
    "                     dtype={'fullVisitorId': 'str'}, # Important!!\n",
    "                    chunksize = 100000)\n",
    "    for df in dfs:\n",
    "        df.reset_index(drop = True,inplace = True)\n",
    "        for column in JSON_COLUMNS:\n",
    "            column_as_df = json_normalize(df[column])\n",
    "            column_as_df.columns = [f\"{column}_{subcolumn}\" for subcolumn in column_as_df.columns]\n",
    "            df = df.drop(column, axis=1).merge(column_as_df, right_index=True, left_index=True)\n",
    "\n",
    "        print(f\"Loaded {os.path.basename(csv_path)}. Shape: {df.shape}\")\n",
    "        use_df = df[features]\n",
    "        del df\n",
    "        gc.collect()\n",
    "        ans = pd.concat([ans, use_df], axis = 0).reset_index(drop = True)\n",
    "        print(ans.shape)\n",
    "    return ans\n",
    "\n",
    "train = load_df()\n",
    "train.shape"
   ]
  },
  {
   "cell_type": "code",
   "execution_count": 3,
   "metadata": {},
   "outputs": [],
   "source": [
    "path = '/home/baitong/pywork/RevenuePrediction/all (1)'\n",
    "test = load_df(\"/home/baitong/pywork/RevenuePrediction/all (1)/test_v2.csv\")"
   ]
  },
  {
   "cell_type": "code",
   "execution_count": 18,
   "metadata": {},
   "outputs": [
    {
     "name": "stdout",
     "output_type": "stream",
     "text": [
      "CPU times: user 7.29 s, sys: 397 ms, total: 7.69 s\n",
      "Wall time: 7.69 s\n"
     ]
    }
   ],
   "source": [
    "%%time\n",
    "train = pd.read_csv(path+'/train.csv')\n",
    "test = pd.read_csv(path+'/test.csv')\n"
   ]
  },
  {
   "cell_type": "code",
   "execution_count": 20,
   "metadata": {},
   "outputs": [],
   "source": []
  },
  {
   "cell_type": "code",
   "execution_count": 21,
   "metadata": {},
   "outputs": [
    {
     "name": "stdout",
     "output_type": "stream",
     "text": [
      "[]\n"
     ]
    }
   ],
   "source": [
    "#获取不变的常量列，模型无法在常量数据计学到东西，数据与处理时需要drop\n",
    "const_cols = [c for c in train.columns if train[c].nunique(dropna=False)==1 ]\n",
    "print(const_cols)\n"
   ]
  },
  {
   "cell_type": "code",
   "execution_count": 22,
   "metadata": {},
   "outputs": [],
   "source": [
    "train = train.drop(const_cols , axis=1)\n",
    "test = test.drop(const_cols, axis=1)"
   ]
  },
  {
   "cell_type": "code",
   "execution_count": 23,
   "metadata": {},
   "outputs": [],
   "source": [
    "train['depth']=train['trafficSource_referralPath'][train['trafficSource_referralPath'].notnull()].apply(lambda x:x.count('/'))\n",
    "test['depth']=test['trafficSource_referralPath'][test['trafficSource_referralPath'].notnull()].apply(lambda x:x.count('/'))\n",
    "# train['length']=train['trafficSource_referralPath'][train['trafficSource_referralPath'].notnull()].apply(lambda x:len(x))#例子里好像没有放在特征里\n",
    "# train['path_complexity']=train['trafficSource_referralPath'][train['trafficSource_referralPath'].notnull()].apply(lambda x:train['depth']/train['length'])"
   ]
  },
  {
   "cell_type": "code",
   "execution_count": 24,
   "metadata": {},
   "outputs": [
    {
     "data": {
      "text/plain": [
       "Index(['channelGrouping', 'date', 'fullVisitorId', 'visitId', 'visitNumber',\n",
       "       'visitStartTime', 'device_browser', 'device_deviceCategory',\n",
       "       'device_isMobile', 'device_operatingSystem', 'geoNetwork_city',\n",
       "       'geoNetwork_continent', 'geoNetwork_country', 'geoNetwork_metro',\n",
       "       'geoNetwork_networkDomain', 'geoNetwork_region',\n",
       "       'geoNetwork_subContinent', 'totals_bounces', 'totals_hits',\n",
       "       'totals_newVisits', 'totals_pageviews', 'totals_transactionRevenue',\n",
       "       'trafficSource_adContent', 'trafficSource_campaign',\n",
       "       'trafficSource_isTrueDirect', 'trafficSource_keyword',\n",
       "       'trafficSource_medium', 'trafficSource_referralPath',\n",
       "       'trafficSource_source', 'trafficSource_adwordsClickInfo.page',\n",
       "       'trafficSource_adwordsClickInfo.adNetworkType',\n",
       "       'trafficSource_adwordsClickInfo.isVideoAd',\n",
       "       'trafficSource_adwordsClickInfo.slot', 'depth'],\n",
       "      dtype='object')"
      ]
     },
     "execution_count": 24,
     "metadata": {},
     "output_type": "execute_result"
    }
   ],
   "source": [
    "train.columns"
   ]
  },
  {
   "cell_type": "code",
   "execution_count": 25,
   "metadata": {},
   "outputs": [],
   "source": [
    "##将缺失值表示统一\n",
    "def replaceCatNa(df):\n",
    "    Nalist = ['(not set)','0','not available in demo dataset','unknown.unknown','(not provided)','(none)']\n",
    "    catlist = ['device_browser','device_operatingSystem','geoNetwork_city','geoNetwork_continent',\n",
    "              'geoNetwork_metro','geoNetwork_networkDomain','geoNetwork_region','geoNetwork_subContinent',\n",
    "              'trafficSource_campaign','trafficSource_keyword','trafficSource_medium']\n",
    "    for col in catlist:\n",
    "        df[col] = df[col].astype('str') \n",
    "        df[col] = df[col].apply(lambda x : np.nan if x in Nalist else x)\n",
    "    return df"
   ]
  },
  {
   "cell_type": "code",
   "execution_count": 26,
   "metadata": {},
   "outputs": [],
   "source": [
    "train = replaceCatNa(train)\n",
    "test = replaceCatNa(test)"
   ]
  },
  {
   "cell_type": "code",
   "execution_count": 28,
   "metadata": {},
   "outputs": [],
   "source": [
    "# 去除test中不存在的列\n",
    "# train.drop('trafficSource_campaignCode',inplace = True,axis = 1)"
   ]
  },
  {
   "cell_type": "code",
   "execution_count": 29,
   "metadata": {},
   "outputs": [
    {
     "data": {
      "text/plain": [
       "((1708337, 34), (401589, 34))"
      ]
     },
     "execution_count": 29,
     "metadata": {},
     "output_type": "execute_result"
    }
   ],
   "source": [
    "train.shape,test.shape"
   ]
  },
  {
   "cell_type": "code",
   "execution_count": 30,
   "metadata": {},
   "outputs": [],
   "source": [
    "###将时间戳转换为标准时间表示\n",
    "train.visitStartTime = pd.to_datetime(train.visitStartTime, unit='s')\n",
    "test.visitStartTime = pd.to_datetime(test.visitStartTime, unit='s')\n",
    "train[\"date\"] = train.visitStartTime\n",
    "test[\"date\"] = test.visitStartTime"
   ]
  },
  {
   "cell_type": "code",
   "execution_count": 31,
   "metadata": {},
   "outputs": [],
   "source": [
    "for df in [train, test]:\n",
    "    df['weekday'] = df['date'].dt.dayofweek.astype(object)\n",
    "    df['time'] = df['date'].dt.second + df['date'].dt.minute*60 + df['date'].dt.hour*3600\n",
    "    df['month'] = df['date'].dt.month   # it must not be included in features during learning!\n",
    "    df['day'] = df['date'].dt.date       # it must not be included in features during learning!\n",
    "    df['hours'] = df['date'].dt.hour"
   ]
  },
  {
   "cell_type": "code",
   "execution_count": 32,
   "metadata": {},
   "outputs": [],
   "source": [
    "####5，6为双休日\n",
    "# train['hours'].value_counts()"
   ]
  },
  {
   "cell_type": "code",
   "execution_count": 33,
   "metadata": {},
   "outputs": [],
   "source": [
    "###增加特征 ：是否为双休日\n",
    "train['isWeekend'] = train['weekday'].apply(lambda x:1 if x>=5 else 0)\n",
    "test['isWeekend'] = test['weekday'].apply(lambda x:1 if x>=5 else 0)"
   ]
  },
  {
   "cell_type": "code",
   "execution_count": 34,
   "metadata": {},
   "outputs": [],
   "source": [
    "###填补totals.pageviews值\n",
    "predmis = train[train['totals_pageviews'].isnull()]['totals_hits'].values\n",
    "train.loc[(train['totals_pageviews'].isnull()),'totals_pageviews' ] = predmis\n",
    "\n",
    "predmis = test[test['totals_pageviews'].isnull()]['totals_hits'].values\n",
    "test.loc[(test['totals_pageviews'].isnull()),'totals_pageviews' ] = predmis"
   ]
  },
  {
   "cell_type": "code",
   "execution_count": 35,
   "metadata": {},
   "outputs": [],
   "source": [
    "####增加特征：浏览器是否为Chrome\n",
    "train['isChrome'] = train['device_browser'].apply(lambda x:1 if x=='Chrome' else 0)\n",
    "test['isChrome'] = test['device_browser'].apply(lambda x:1 if x=='Chrome' else 0)"
   ]
  },
  {
   "cell_type": "code",
   "execution_count": 36,
   "metadata": {},
   "outputs": [],
   "source": [
    "####增加特征：source是否为youtube ,mail.googleplex.com youtube.com\n",
    "train['trafficSource_source'].astype('str',inplace = True)\n",
    "test['trafficSource_source'].astype('str',inplace = True)\n",
    "train['s_ismall'] = train['trafficSource_source'].apply(lambda x:1 if x=='mall.googleplex.com' else 0)\n",
    "test['s_ismall'] = test['trafficSource_source'].apply(lambda x:1 if x=='mall.googleplex.com' else 0)\n",
    "\n",
    "train['s_isyoutube'] = train['trafficSource_source'].apply(lambda x:1 if x=='youtube.com' else 0)\n",
    "test['s_isyoutube'] = test['trafficSource_source'].apply(lambda x:1 if x=='youtube.com' else 0)"
   ]
  },
  {
   "cell_type": "code",
   "execution_count": 37,
   "metadata": {},
   "outputs": [],
   "source": [
    "##增加特征：是否为desktop\n",
    "train['d_isdesktop'] = train['device_deviceCategory'].apply(lambda x:1 if x=='desktop' else 0)\n",
    "test['d_isdesktop'] = test['device_deviceCategory'].apply(lambda x:1 if x=='desktop' else 0)\n",
    "\n",
    "train['d_Macintosh'] = train['device_operatingSystem'].apply(lambda x:1 if x=='Macintosh' else 0)\n",
    "test['d_Macintosh'] = test['device_operatingSystem'].apply(lambda x:1 if x=='Macintosh' else 0)\n",
    "\n",
    "train['d_Macintosh'] = train['device_operatingSystem'].apply(lambda x:1 if x=='Macintosh' else 0)\n",
    "test['d_Macintosh'] = test['device_operatingSystem'].apply(lambda x:1 if x=='Macintosh' else 0)\n",
    "\n",
    "train['d_Linux'] = train['device_operatingSystem'].apply(lambda x:1 if x=='Linux' else 0)\n",
    "test['d_Linux'] = test['device_operatingSystem'].apply(lambda x:1 if x=='Linux' else 0)\n",
    "\n",
    "train['d_iOS'] = train['device_operatingSystem'].apply(lambda x:1 if x=='iOS' else 0)\n",
    "test['d_iOS'] = test['device_operatingSystem'].apply(lambda x:1 if x=='iOS' else 0)\n",
    "\n",
    "train['d_Android'] = train['device_operatingSystem'].apply(lambda x:1 if x=='Android' else 0)\n",
    "test['d_Android'] = test['device_operatingSystem'].apply(lambda x:1 if x=='Android' else 0)\n",
    "\n",
    "train['d_Windows Phone'] = train['device_operatingSystem'].apply(lambda x:1 if x=='Windows Phone' else 0)\n",
    "test['d_Windows Phone'] = test['device_operatingSystem'].apply(lambda x:1 if x=='Windows Phone' else 0)\n"
   ]
  },
  {
   "cell_type": "code",
   "execution_count": 38,
   "metadata": {},
   "outputs": [],
   "source": [
    "train['channel_referral'] = train['channelGrouping'].apply(lambda x:1 if x=='Referral' else 0)\n",
    "train['channel_Social'] = train['channelGrouping'].apply(lambda x:1 if x=='Social' else 0)\n",
    "test['channel_referral'] = test['channelGrouping'].apply(lambda x:1 if x=='Referral' else 0)\n",
    "test['channel_Social'] = test['channelGrouping'].apply(lambda x:1 if x=='Social' else 0)"
   ]
  },
  {
   "cell_type": "code",
   "execution_count": 39,
   "metadata": {},
   "outputs": [],
   "source": [
    "def dealbrowser(s):\n",
    "    if s == \"Safari \"or s == \"Firefox\":\n",
    "        return \"mainstream\"\n",
    "    elif s == \"Chrome\":\n",
    "        return \"Chrome\"\n",
    "    else:\n",
    "        return \"others\"\n",
    "train['browser'] = train['device_browser'].apply(dealbrowser)"
   ]
  },
  {
   "cell_type": "code",
   "execution_count": 40,
   "metadata": {},
   "outputs": [],
   "source": [
    "##增加特征：是否为desktop\n",
    "train['m_referral'] = train['trafficSource_medium'].apply(lambda x:1 if x=='referral' else 0)\n",
    "test['m_referral'] = test['trafficSource_medium'].apply(lambda x:1 if x=='referral' else 0)"
   ]
  },
  {
   "cell_type": "code",
   "execution_count": null,
   "metadata": {},
   "outputs": [],
   "source": []
  },
  {
   "cell_type": "code",
   "execution_count": 41,
   "metadata": {},
   "outputs": [],
   "source": [
    "train['single_visit'] = train['visitNumber'].apply(lambda x:0 if x!=1 else 1)\n",
    "test['single_visit'] = test['visitNumber'].apply(lambda x:0 if x!=1 else 1)\n",
    "\n",
    "train['totals_hits'] = train['totals_hits'].astype('float') \n",
    "test['totals_hits'] = test['totals_hits'].astype('float') \n",
    "train['totals_pageviews'] = train['totals_pageviews'].astype('float') \n",
    "test['totals_pageviews'] = test['totals_pageviews'].astype('float') \n",
    "train['hits_ratio'] = train['totals_hits']/train['totals_pageviews']\n",
    "test['hits_ratio'] = test['totals_hits']/test['totals_pageviews']\n",
    "\n",
    "# tr_te[, single_visit := ifelse(visitNumber == 1,1,0) ]\n",
    "#     tr_te[, hits_ratio := as.numeric(hits)/as.numeric(pageviews)]\n",
    "#     tr_te[, domain_site := gsub(\"^.*\\\\.\",\"\", networkDomain)]\n",
    "#     tr_te[, adwordsClickInfo.isVideoAd := ifelse(is.na(adwordsClickInfo.isVideoAd), 1, 0)]\n"
   ]
  },
  {
   "cell_type": "code",
   "execution_count": 42,
   "metadata": {},
   "outputs": [],
   "source": [
    "##去除离群点'Anguilla'\n",
    "train =train.drop(index = train['geoNetwork_country'][train['geoNetwork_country']=='Anguilla'].index)"
   ]
  },
  {
   "cell_type": "code",
   "execution_count": null,
   "metadata": {},
   "outputs": [],
   "source": []
  },
  {
   "cell_type": "code",
   "execution_count": 43,
   "metadata": {},
   "outputs": [],
   "source": [
    "def dealMissingData(df):\n",
    "    for c in df.columns:\n",
    "        num_missing = df[c].isnull().sum() \n",
    "        if num_missing != 0:\n",
    "            print(\"missing col is  \",c,'   missing num is',num_missing)\n",
    "    print('*'*20)\n",
    "    num_feature = [\"totals_bounces\",\"totals_newVisits\",'depth','trafficSource_adwordsClickInfo.page']\n",
    "    cat_feature = ['trafficSource_adContent','trafficSource_adContent',\n",
    "                  'trafficSource_campaign','trafficSource_isTrueDirect',\n",
    "                  'trafficSource_keyword','trafficSource_referralPath',\n",
    "                  'device_browser','device_operatingSystem','geoNetwork_city',\n",
    "                  'geoNetwork_continent','geoNetwork_metro','geoNetwork_networkDomain',\n",
    "                  'geoNetwork_region','geoNetwork_subContinent','trafficSource_adwordsClickInfo.adNetworkType',\n",
    "                  'trafficSource_adwordsClickInfo.isVideoAd','trafficSource_medium','trafficSource_adwordsClickInfo.slot']\n",
    "    for col in num_feature:\n",
    "        df[col].fillna(0,inplace=True)\n",
    "    for col in cat_feature:\n",
    "        df[col].fillna(0,inplace=True)\n",
    "    for c in df.columns:\n",
    "        num_missing = df[c].isnull().sum() \n",
    "        if num_missing != 0:\n",
    "            print(\"now missing col is  \",c,'   missing num is',num_missing)\n",
    "    print('---------------done---------------')\n",
    "    return df"
   ]
  },
  {
   "cell_type": "code",
   "execution_count": 44,
   "metadata": {},
   "outputs": [
    {
     "name": "stdout",
     "output_type": "stream",
     "text": [
      "missing col is   device_browser    missing num is 19\n",
      "missing col is   device_operatingSystem    missing num is 11815\n",
      "missing col is   geoNetwork_city    missing num is 998825\n",
      "missing col is   geoNetwork_continent    missing num is 2517\n",
      "missing col is   geoNetwork_metro    missing num is 1319854\n",
      "missing col is   geoNetwork_networkDomain    missing num is 768844\n",
      "missing col is   geoNetwork_region    missing num is 982732\n",
      "missing col is   geoNetwork_subContinent    missing num is 2517\n",
      "missing col is   totals_bounces    missing num is 836758\n",
      "missing col is   totals_newVisits    missing num is 400907\n",
      "missing col is   totals_transactionRevenue    missing num is 1689823\n",
      "missing col is   trafficSource_adContent    missing num is 1643599\n",
      "missing col is   trafficSource_campaign    missing num is 1604525\n",
      "missing col is   trafficSource_isTrueDirect    missing num is 1173818\n",
      "missing col is   trafficSource_keyword    missing num is 568933\n",
      "missing col is   trafficSource_medium    missing num is 566090\n",
      "missing col is   trafficSource_referralPath    missing num is 1142072\n",
      "missing col is   trafficSource_adwordsClickInfo.page    missing num is 1633062\n",
      "missing col is   trafficSource_adwordsClickInfo.adNetworkType    missing num is 1633062\n",
      "missing col is   trafficSource_adwordsClickInfo.isVideoAd    missing num is 1633062\n",
      "missing col is   trafficSource_adwordsClickInfo.slot    missing num is 1633062\n",
      "missing col is   depth    missing num is 1142072\n",
      "********************\n",
      "now missing col is   totals_transactionRevenue    missing num is 1689823\n",
      "---------------done---------------\n",
      "missing col is   device_operatingSystem    missing num is 4382\n",
      "missing col is   geoNetwork_city    missing num is 225093\n",
      "missing col is   geoNetwork_continent    missing num is 382\n",
      "missing col is   geoNetwork_metro    missing num is 296260\n",
      "missing col is   geoNetwork_networkDomain    missing num is 194927\n",
      "missing col is   geoNetwork_region    missing num is 218328\n",
      "missing col is   geoNetwork_subContinent    missing num is 382\n",
      "missing col is   totals_bounces    missing num is 218911\n",
      "missing col is   totals_newVisits    missing num is 115524\n",
      "missing col is   totals_transactionRevenue    missing num is 396995\n",
      "missing col is   trafficSource_campaign    missing num is 378933\n",
      "missing col is   trafficSource_isTrueDirect    missing num is 253180\n",
      "missing col is   trafficSource_keyword    missing num is 349304\n",
      "missing col is   trafficSource_medium    missing num is 111313\n",
      "missing col is   trafficSource_adwordsClickInfo.page    missing num is 390984\n",
      "missing col is   trafficSource_adwordsClickInfo.adNetworkType    missing num is 390984\n",
      "missing col is   trafficSource_adwordsClickInfo.isVideoAd    missing num is 390984\n",
      "missing col is   trafficSource_adwordsClickInfo.slot    missing num is 390984\n",
      "********************\n",
      "now missing col is   totals_transactionRevenue    missing num is 396995\n",
      "---------------done---------------\n"
     ]
    }
   ],
   "source": [
    "train = dealMissingData(train)\n",
    "test = dealMissingData(test)"
   ]
  },
  {
   "cell_type": "code",
   "execution_count": 45,
   "metadata": {},
   "outputs": [],
   "source": [
    "def clearRare(columnname, limit = 1000):\n",
    "    # you may search for rare categories in train, train&test, or just test\n",
    "    #vc = pd.concat([train[columnname], test[columnname]], sort=False).value_counts()\n",
    "    vc = test[columnname].value_counts()\n",
    "    \n",
    "    common = vc > limit\n",
    "    common = set(common.index[common].values)\n",
    "    print(\"Set\", sum(vc <= limit), columnname, \"categories to 'other';\", end=\" \")\n",
    "    \n",
    "    train.loc[train[columnname].map(lambda x: x not in common), columnname] = 'other'\n",
    "    test.loc[test[columnname].map(lambda x: x not in common), columnname] = 'other'\n",
    "    print(\"now there are\", train[columnname].nunique(), \"categories in train\")"
   ]
  },
  {
   "cell_type": "code",
   "execution_count": 46,
   "metadata": {},
   "outputs": [
    {
     "name": "stdout",
     "output_type": "stream",
     "text": [
      "Set 52 device_browser categories to 'other'; now there are 11 categories in train\n",
      "Set 15 device_operatingSystem categories to 'other'; now there are 8 categories in train\n",
      "Set 162 geoNetwork_country categories to 'other'; now there are 47 categories in train\n",
      "Set 461 geoNetwork_city categories to 'other'; now there are 42 categories in train\n",
      "Set 67 geoNetwork_metro categories to 'other'; now there are 15 categories in train\n",
      "Set 15910 geoNetwork_networkDomain categories to 'other'; now there are 24 categories in train\n",
      "Set 235 geoNetwork_region categories to 'other'; now there are 34 categories in train\n",
      "Set 8 geoNetwork_subContinent categories to 'other'; now there are 16 categories in train\n",
      "Set 25 trafficSource_adContent categories to 'other'; now there are 2 categories in train\n",
      "Set 19 trafficSource_campaign categories to 'other'; now there are 4 categories in train\n",
      "Set 672 trafficSource_keyword categories to 'other'; now there are 6 categories in train\n",
      "Set 0 trafficSource_medium categories to 'other'; now there are 6 categories in train\n",
      "Set 1745 trafficSource_referralPath categories to 'other'; now there are 9 categories in train\n",
      "Set 180 trafficSource_source categories to 'other'; now there are 12 categories in train\n"
     ]
    }
   ],
   "source": [
    "###数量过少的数据无参考价值，统一归为others\n",
    "clearRare(\"device_browser\")\n",
    "clearRare(\"device_operatingSystem\")\n",
    "clearRare(\"geoNetwork_country\")\n",
    "clearRare(\"geoNetwork_city\")\n",
    "clearRare(\"geoNetwork_metro\")\n",
    "clearRare(\"geoNetwork_networkDomain\")\n",
    "clearRare(\"geoNetwork_region\")\n",
    "clearRare(\"geoNetwork_subContinent\")\n",
    "clearRare(\"trafficSource_adContent\")\n",
    "clearRare(\"trafficSource_campaign\")\n",
    "clearRare(\"trafficSource_keyword\")\n",
    "clearRare(\"trafficSource_medium\")\n",
    "clearRare(\"trafficSource_referralPath\")\n",
    "clearRare(\"trafficSource_source\")"
   ]
  },
  {
   "cell_type": "code",
   "execution_count": 47,
   "metadata": {},
   "outputs": [],
   "source": [
    "train.set_index(\"visitStartTime\", inplace=True)\n",
    "test.set_index(\"visitStartTime\", inplace=True)\n",
    "train.sort_index(inplace=True)\n",
    "test.sort_index(inplace=True)"
   ]
  },
  {
   "cell_type": "code",
   "execution_count": 48,
   "metadata": {},
   "outputs": [
    {
     "name": "stderr",
     "output_type": "stream",
     "text": [
      "/home/baitong/tensorflow/lib/python3.6/site-packages/ipykernel_launcher.py:2: FutureWarning: Sorting because non-concatenation axis is not aligned. A future version\n",
      "of pandas will change to not sort by default.\n",
      "\n",
      "To accept the future behavior, pass 'sort=False'.\n",
      "\n",
      "To retain the current behavior and silence the warning, pass 'sort=True'.\n",
      "\n",
      "  \n"
     ]
    }
   ],
   "source": [
    "###增加上一次会话和下一次会话的时间间隔，时间间隔越短说明用户购买商品欲望更强烈\n",
    "df = pd.concat([train, test])\n",
    "df.sort_values(['fullVisitorId', 'date'], ascending=True, inplace=True)\n",
    "df['prev_session'] = (df['date'] - df[['fullVisitorId', 'date']].groupby('fullVisitorId')['date'].shift(1)).astype(np.int64) // 1e9 // 60 // 60\n",
    "df['next_session'] = (df['date'] - df[['fullVisitorId', 'date']].groupby('fullVisitorId')['date'].shift(-1)).astype(np.int64) // 1e9 // 60 // 60\n",
    "df.sort_index(inplace=True)\n",
    "\n",
    "train = df[:len(train)]\n",
    "test = df[len(train):]"
   ]
  },
  {
   "cell_type": "code",
   "execution_count": 49,
   "metadata": {},
   "outputs": [],
   "source": [
    "##将缺失的0 转换为字符串格式\n",
    "str_feature = ['trafficSource_adContent','trafficSource_campaign','trafficSource_isTrueDirect',\n",
    "              'trafficSource_keyword','trafficSource_referralPath',\n",
    "              'device_browser','device_operatingSystem','geoNetwork_city',\n",
    "              'geoNetwork_continent','geoNetwork_metro','geoNetwork_networkDomain',\n",
    "              'geoNetwork_region','geoNetwork_subContinent','trafficSource_adwordsClickInfo.adNetworkType',\n",
    "              'trafficSource_adwordsClickInfo.isVideoAd','trafficSource_medium','trafficSource_adwordsClickInfo.slot']\n",
    "for df in [train, test]:\n",
    "    for col in str_feature:\n",
    "        df[col] = df[col].astype('str')"
   ]
  },
  {
   "cell_type": "code",
   "execution_count": 50,
   "metadata": {},
   "outputs": [],
   "source": [
    "##组合特征\n",
    "for df in [train, test]:\n",
    "    df['source_country'] = df['trafficSource_source'] + '_' + df['geoNetwork_country']\n",
    "    df['campaign_medium'] = df['trafficSource_campaign'] + '_' + df['trafficSource_medium']\n",
    "    df['browser_category'] = df['device_browser'] + '_' + df['device_deviceCategory']\n",
    "    df['browser_os'] = df['device_browser'] + '_' + df['device_operatingSystem']"
   ]
  },
  {
   "cell_type": "code",
   "execution_count": null,
   "metadata": {},
   "outputs": [],
   "source": []
  },
  {
   "cell_type": "code",
   "execution_count": 51,
   "metadata": {},
   "outputs": [],
   "source": [
    "##组合特征\n",
    "for df in [train, test]:\n",
    "    df['device_deviceCategory_channelGrouping'] = df['device_deviceCategory'] + \"_\" + df['channelGrouping']\n",
    "    df['channelGrouping_browser'] = df['device_browser'] + \"_\" + df['channelGrouping']\n",
    "    df['channelGrouping_OS'] = df['device_operatingSystem'] + \"_\" + df['channelGrouping']\n",
    "    \n",
    "    for i in ['geoNetwork_city', 'geoNetwork_continent', 'geoNetwork_country','geoNetwork_metro', 'geoNetwork_networkDomain', 'geoNetwork_region','geoNetwork_subContinent']:\n",
    "        for j in ['device_browser','device_deviceCategory', 'device_operatingSystem', 'trafficSource_source']:\n",
    "            df[i + \"_\" + j] = df[i] + \"_\" + df[j]\n",
    "    \n",
    "    df['content_source'] = df['trafficSource_adContent'].astype(str) + \"_\" + df['source_country']\n",
    "    df['medium_source'] = df['trafficSource_medium'] + \"_\" + df['source_country']"
   ]
  },
  {
   "cell_type": "code",
   "execution_count": 52,
   "metadata": {},
   "outputs": [],
   "source": [
    "##针对用户增加点击浏览量均值特征，以及访问人数最大值特征\n",
    "for feature in [\"totals_hits\", \"totals_pageviews\"]:\n",
    "    info = pd.concat([train, test], sort=False).groupby(\"fullVisitorId\")[feature].mean()\n",
    "    train[\"usermean_\" + feature] = train.fullVisitorId.map(info)\n",
    "    test[\"usermean_\" + feature] = test.fullVisitorId.map(info)\n",
    "    \n",
    "for feature in [\"visitNumber\"]:\n",
    "    info = pd.concat([train, test], sort=False).groupby(\"fullVisitorId\")[feature].max()\n",
    "    train[\"usermax_\" + feature] = train.fullVisitorId.map(info)\n",
    "    test[\"usermax_\" + feature] = test.fullVisitorId.map(info)"
   ]
  },
  {
   "cell_type": "code",
   "execution_count": 53,
   "metadata": {},
   "outputs": [
    {
     "name": "stdout",
     "output_type": "stream",
     "text": [
      "cat_cols num:  60\n",
      "cat_cols:  ['browser', 'channelGrouping', 'device_browser', 'device_deviceCategory', 'device_operatingSystem', 'geoNetwork_city', 'geoNetwork_continent', 'geoNetwork_country', 'geoNetwork_metro', 'geoNetwork_networkDomain', 'geoNetwork_region', 'geoNetwork_subContinent', 'trafficSource_adContent', 'trafficSource_adwordsClickInfo.adNetworkType', 'trafficSource_adwordsClickInfo.isVideoAd', 'trafficSource_adwordsClickInfo.slot', 'trafficSource_campaign', 'trafficSource_isTrueDirect', 'trafficSource_keyword', 'trafficSource_medium', 'trafficSource_referralPath', 'trafficSource_source', 'weekday', 'source_country', 'campaign_medium', 'browser_category', 'browser_os', 'device_deviceCategory_channelGrouping', 'channelGrouping_browser', 'channelGrouping_OS', 'geoNetwork_city_device_browser', 'geoNetwork_city_device_deviceCategory', 'geoNetwork_city_device_operatingSystem', 'geoNetwork_city_trafficSource_source', 'geoNetwork_continent_device_browser', 'geoNetwork_continent_device_deviceCategory', 'geoNetwork_continent_device_operatingSystem', 'geoNetwork_continent_trafficSource_source', 'geoNetwork_country_device_browser', 'geoNetwork_country_device_deviceCategory', 'geoNetwork_country_device_operatingSystem', 'geoNetwork_country_trafficSource_source', 'geoNetwork_metro_device_browser', 'geoNetwork_metro_device_deviceCategory', 'geoNetwork_metro_device_operatingSystem', 'geoNetwork_metro_trafficSource_source', 'geoNetwork_networkDomain_device_browser', 'geoNetwork_networkDomain_device_deviceCategory', 'geoNetwork_networkDomain_device_operatingSystem', 'geoNetwork_networkDomain_trafficSource_source', 'geoNetwork_region_device_browser', 'geoNetwork_region_device_deviceCategory', 'geoNetwork_region_device_operatingSystem', 'geoNetwork_region_trafficSource_source', 'geoNetwork_subContinent_device_browser', 'geoNetwork_subContinent_device_deviceCategory', 'geoNetwork_subContinent_device_operatingSystem', 'geoNetwork_subContinent_trafficSource_source', 'content_source', 'medium_source']\n",
      "real_cols num:  30\n",
      "real_cols:  ['channel_Social', 'channel_referral', 'd_Android', 'd_Linux', 'd_Macintosh', 'd_Windows Phone', 'd_iOS', 'd_isdesktop', 'depth', 'device_isMobile', 'hits_ratio', 'hours', 'isChrome', 'isWeekend', 'm_referral', 's_ismall', 's_isyoutube', 'single_visit', 'time', 'totals_bounces', 'totals_hits', 'totals_newVisits', 'totals_pageviews', 'trafficSource_adwordsClickInfo.page', 'visitNumber', 'prev_session', 'next_session', 'usermean_totals_hits', 'usermean_totals_pageviews', 'usermax_visitNumber']\n"
     ]
    }
   ],
   "source": [
    "excluded = ['date', 'fullVisitorId', 'sessionId', 'totals_transactionRevenue', 'visitId', 'visitStartTime', \n",
    "            'month', 'day','trafficSource_adwordsClickInfo.gclId']\n",
    "\n",
    "cat_cols = [f for f in train.columns if (train[f].dtype == 'object' and f not in excluded)]\n",
    "real_cols = [f for f in train.columns if (not f in cat_cols and f not in excluded)]\n",
    "print(\"cat_cols num: \",len(cat_cols))\n",
    "print(\"cat_cols: \",cat_cols)\n",
    "print(\"real_cols num: \",len(real_cols))\n",
    "print(\"real_cols: \",real_cols)"
   ]
  },
  {
   "cell_type": "code",
   "execution_count": 54,
   "metadata": {},
   "outputs": [],
   "source": [
    "y_reg = train['totals_transactionRevenue']"
   ]
  },
  {
   "cell_type": "code",
   "execution_count": 55,
   "metadata": {},
   "outputs": [],
   "source": [
    "from sklearn.preprocessing import LabelEncoder\n",
    "for col in cat_cols:\n",
    "    lbl = LabelEncoder()\n",
    "    lbl.fit(list(train[col].values.astype('str')) + list(test[col].values.astype('str')))\n",
    "    train[col] = lbl.transform(list(train[col].values.astype('str')))\n",
    "    test[col] = lbl.transform(list(test[col].values.astype('str')))"
   ]
  },
  {
   "cell_type": "code",
   "execution_count": 56,
   "metadata": {},
   "outputs": [],
   "source": [
    "for col in real_cols:\n",
    "    train[col] = train[col].astype(float)\n",
    "    test[col] = test[col].astype(float)"
   ]
  },
  {
   "cell_type": "code",
   "execution_count": 57,
   "metadata": {},
   "outputs": [],
   "source": [
    "train['r_status'] = train['totals_transactionRevenue'].fillna(0).astype(\"float\").apply(lambda x : 1 if x>0 else 0)"
   ]
  },
  {
   "cell_type": "code",
   "execution_count": 58,
   "metadata": {},
   "outputs": [],
   "source": [
    "def get_folds(df=None, n_splits=5):\n",
    "    \"\"\"Returns dataframe indices corresponding to Visitors Group KFold\"\"\"\n",
    "    # Get sorted unique visitors\n",
    "    unique_vis = np.array(sorted(df['fullVisitorId'].unique()))\n",
    "\n",
    "    # Get folds\n",
    "    folds = GroupKFold(n_splits=n_splits)\n",
    "    fold_ids = []\n",
    "    ids = np.arange(df.shape[0])\n",
    "    for trn_vis, val_vis in folds.split(X=unique_vis, y=unique_vis, groups=unique_vis):\n",
    "        fold_ids.append(\n",
    "            [\n",
    "                ids[df['fullVisitorId'].isin(unique_vis[trn_vis])],\n",
    "                ids[df['fullVisitorId'].isin(unique_vis[val_vis])]\n",
    "            ]\n",
    "        )\n",
    "\n",
    "    return fold_ids"
   ]
  },
  {
   "cell_type": "code",
   "execution_count": 59,
   "metadata": {},
   "outputs": [],
   "source": [
    "train_features = real_cols + cat_cols\n",
    "y_clf=train[\"r_status\"].astype(\"float\")"
   ]
  },
  {
   "cell_type": "code",
   "execution_count": 60,
   "metadata": {},
   "outputs": [
    {
     "data": {
      "text/plain": [
       "0.0    1689823\n",
       "1.0      18513\n",
       "Name: r_status, dtype: int64"
      ]
     },
     "execution_count": 60,
     "metadata": {},
     "output_type": "execute_result"
    }
   ],
   "source": [
    "y_clf.value_counts()"
   ]
  },
  {
   "cell_type": "code",
   "execution_count": null,
   "metadata": {},
   "outputs": [],
   "source": []
  },
  {
   "cell_type": "code",
   "execution_count": 61,
   "metadata": {},
   "outputs": [
    {
     "name": "stdout",
     "output_type": "stream",
     "text": [
      "[14:50:50] /workspace/src/tree/updater_prune.cc:74: tree pruning end, 1 roots, 358 extra nodes, 0 pruned nodes, max_depth=8\n",
      "[0]\teval-auc:0.977881\ttrain-auc:0.982834\n",
      "Multiple eval metrics have been passed: 'train-auc' will be used for early stopping.\n",
      "\n",
      "Will train until train-auc hasn't improved in 10 rounds.\n",
      "[14:50:52] /workspace/src/tree/updater_prune.cc:74: tree pruning end, 1 roots, 410 extra nodes, 0 pruned nodes, max_depth=8\n",
      "[1]\teval-auc:0.983322\ttrain-auc:0.985484\n",
      "[14:50:53] /workspace/src/tree/updater_prune.cc:74: tree pruning end, 1 roots, 280 extra nodes, 0 pruned nodes, max_depth=8\n",
      "[2]\teval-auc:0.98266\ttrain-auc:0.984447\n",
      "[14:50:54] /workspace/src/tree/updater_prune.cc:74: tree pruning end, 1 roots, 342 extra nodes, 0 pruned nodes, max_depth=8\n",
      "[3]\teval-auc:0.982468\ttrain-auc:0.984206\n",
      "[14:50:55] /workspace/src/tree/updater_prune.cc:74: tree pruning end, 1 roots, 344 extra nodes, 0 pruned nodes, max_depth=8\n",
      "[4]\teval-auc:0.984538\ttrain-auc:0.986221\n",
      "[14:50:56] /workspace/src/tree/updater_prune.cc:74: tree pruning end, 1 roots, 382 extra nodes, 0 pruned nodes, max_depth=8\n",
      "[5]\teval-auc:0.984741\ttrain-auc:0.986285\n",
      "[14:50:57] /workspace/src/tree/updater_prune.cc:74: tree pruning end, 1 roots, 242 extra nodes, 0 pruned nodes, max_depth=8\n",
      "[6]\teval-auc:0.985583\ttrain-auc:0.987011\n",
      "[14:50:58] /workspace/src/tree/updater_prune.cc:74: tree pruning end, 1 roots, 298 extra nodes, 0 pruned nodes, max_depth=8\n",
      "[7]\teval-auc:0.986254\ttrain-auc:0.987684\n",
      "[14:50:59] /workspace/src/tree/updater_prune.cc:74: tree pruning end, 1 roots, 292 extra nodes, 0 pruned nodes, max_depth=8\n",
      "[8]\teval-auc:0.986691\ttrain-auc:0.988001\n",
      "[14:50:59] /workspace/src/tree/updater_prune.cc:74: tree pruning end, 1 roots, 310 extra nodes, 0 pruned nodes, max_depth=8\n",
      "[9]\teval-auc:0.986844\ttrain-auc:0.988142\n",
      "[14:51:00] /workspace/src/tree/updater_prune.cc:74: tree pruning end, 1 roots, 344 extra nodes, 0 pruned nodes, max_depth=8\n",
      "[10]\teval-auc:0.986829\ttrain-auc:0.988203\n",
      "[14:51:01] /workspace/src/tree/updater_prune.cc:74: tree pruning end, 1 roots, 280 extra nodes, 0 pruned nodes, max_depth=8\n",
      "[11]\teval-auc:0.986977\ttrain-auc:0.988267\n",
      "[14:51:02] /workspace/src/tree/updater_prune.cc:74: tree pruning end, 1 roots, 280 extra nodes, 0 pruned nodes, max_depth=8\n",
      "[12]\teval-auc:0.987562\ttrain-auc:0.988556\n",
      "[14:51:03] /workspace/src/tree/updater_prune.cc:74: tree pruning end, 1 roots, 232 extra nodes, 0 pruned nodes, max_depth=8\n",
      "[13]\teval-auc:0.987635\ttrain-auc:0.988696\n",
      "[14:51:04] /workspace/src/tree/updater_prune.cc:74: tree pruning end, 1 roots, 210 extra nodes, 0 pruned nodes, max_depth=8\n",
      "[14]\teval-auc:0.987539\ttrain-auc:0.98862\n",
      "[14:51:05] /workspace/src/tree/updater_prune.cc:74: tree pruning end, 1 roots, 210 extra nodes, 0 pruned nodes, max_depth=8\n",
      "[15]\teval-auc:0.987732\ttrain-auc:0.988815\n",
      "[14:51:06] /workspace/src/tree/updater_prune.cc:74: tree pruning end, 1 roots, 206 extra nodes, 0 pruned nodes, max_depth=8\n",
      "[16]\teval-auc:0.987599\ttrain-auc:0.988712\n",
      "[14:51:07] /workspace/src/tree/updater_prune.cc:74: tree pruning end, 1 roots, 218 extra nodes, 0 pruned nodes, max_depth=8\n",
      "[17]\teval-auc:0.987609\ttrain-auc:0.988752\n",
      "[14:51:08] /workspace/src/tree/updater_prune.cc:74: tree pruning end, 1 roots, 186 extra nodes, 0 pruned nodes, max_depth=8\n",
      "[18]\teval-auc:0.987791\ttrain-auc:0.988913\n",
      "[14:51:09] /workspace/src/tree/updater_prune.cc:74: tree pruning end, 1 roots, 156 extra nodes, 0 pruned nodes, max_depth=8\n",
      "[19]\teval-auc:0.987872\ttrain-auc:0.989016\n",
      "[14:51:10] /workspace/src/tree/updater_prune.cc:74: tree pruning end, 1 roots, 130 extra nodes, 0 pruned nodes, max_depth=8\n",
      "[20]\teval-auc:0.98788\ttrain-auc:0.989041\n",
      "[14:51:11] /workspace/src/tree/updater_prune.cc:74: tree pruning end, 1 roots, 144 extra nodes, 0 pruned nodes, max_depth=8\n",
      "[21]\teval-auc:0.98799\ttrain-auc:0.989124\n",
      "[14:51:12] /workspace/src/tree/updater_prune.cc:74: tree pruning end, 1 roots, 196 extra nodes, 0 pruned nodes, max_depth=8\n",
      "[22]\teval-auc:0.987966\ttrain-auc:0.989199\n",
      "[14:51:13] /workspace/src/tree/updater_prune.cc:74: tree pruning end, 1 roots, 130 extra nodes, 0 pruned nodes, max_depth=8\n",
      "[23]\teval-auc:0.988083\ttrain-auc:0.989319\n",
      "[14:51:14] /workspace/src/tree/updater_prune.cc:74: tree pruning end, 1 roots, 106 extra nodes, 0 pruned nodes, max_depth=8\n",
      "[24]\teval-auc:0.988098\ttrain-auc:0.989317\n",
      "[14:51:15] /workspace/src/tree/updater_prune.cc:74: tree pruning end, 1 roots, 126 extra nodes, 0 pruned nodes, max_depth=8\n",
      "[25]\teval-auc:0.988211\ttrain-auc:0.989419\n",
      "[14:51:16] /workspace/src/tree/updater_prune.cc:74: tree pruning end, 1 roots, 114 extra nodes, 0 pruned nodes, max_depth=8\n",
      "[26]\teval-auc:0.988264\ttrain-auc:0.989487\n",
      "[14:51:16] /workspace/src/tree/updater_prune.cc:74: tree pruning end, 1 roots, 62 extra nodes, 0 pruned nodes, max_depth=8\n",
      "[27]\teval-auc:0.988259\ttrain-auc:0.989495\n",
      "[14:51:17] /workspace/src/tree/updater_prune.cc:74: tree pruning end, 1 roots, 106 extra nodes, 0 pruned nodes, max_depth=8\n",
      "[28]\teval-auc:0.988336\ttrain-auc:0.989594\n",
      "[14:51:18] /workspace/src/tree/updater_prune.cc:74: tree pruning end, 1 roots, 100 extra nodes, 0 pruned nodes, max_depth=8\n",
      "[29]\teval-auc:0.988409\ttrain-auc:0.989678\n",
      "[14:51:19] /workspace/src/tree/updater_prune.cc:74: tree pruning end, 1 roots, 58 extra nodes, 0 pruned nodes, max_depth=8\n",
      "[30]\teval-auc:0.988431\ttrain-auc:0.989709\n",
      "[14:51:20] /workspace/src/tree/updater_prune.cc:74: tree pruning end, 1 roots, 120 extra nodes, 0 pruned nodes, max_depth=8\n",
      "[31]\teval-auc:0.98852\ttrain-auc:0.989807\n",
      "[14:51:21] /workspace/src/tree/updater_prune.cc:74: tree pruning end, 1 roots, 86 extra nodes, 0 pruned nodes, max_depth=8\n",
      "[32]\teval-auc:0.988545\ttrain-auc:0.989847\n",
      "[14:51:21] /workspace/src/tree/updater_prune.cc:74: tree pruning end, 1 roots, 100 extra nodes, 0 pruned nodes, max_depth=8\n",
      "[33]\teval-auc:0.988569\ttrain-auc:0.989889\n",
      "[14:51:22] /workspace/src/tree/updater_prune.cc:74: tree pruning end, 1 roots, 76 extra nodes, 0 pruned nodes, max_depth=8\n",
      "[34]\teval-auc:0.988609\ttrain-auc:0.989938\n",
      "[14:51:23] /workspace/src/tree/updater_prune.cc:74: tree pruning end, 1 roots, 56 extra nodes, 0 pruned nodes, max_depth=8\n",
      "[35]\teval-auc:0.988621\ttrain-auc:0.989967\n",
      "[14:51:24] /workspace/src/tree/updater_prune.cc:74: tree pruning end, 1 roots, 84 extra nodes, 0 pruned nodes, max_depth=8\n",
      "[36]\teval-auc:0.988647\ttrain-auc:0.990012\n",
      "[14:51:25] /workspace/src/tree/updater_prune.cc:74: tree pruning end, 1 roots, 66 extra nodes, 0 pruned nodes, max_depth=8\n",
      "[37]\teval-auc:0.988653\ttrain-auc:0.99005\n",
      "[14:51:26] /workspace/src/tree/updater_prune.cc:74: tree pruning end, 1 roots, 44 extra nodes, 0 pruned nodes, max_depth=8\n",
      "[38]\teval-auc:0.988675\ttrain-auc:0.990077\n",
      "[14:51:26] /workspace/src/tree/updater_prune.cc:74: tree pruning end, 1 roots, 92 extra nodes, 0 pruned nodes, max_depth=8\n",
      "[39]\teval-auc:0.98868\ttrain-auc:0.990109\n",
      "[14:51:27] /workspace/src/tree/updater_prune.cc:74: tree pruning end, 1 roots, 140 extra nodes, 0 pruned nodes, max_depth=8\n",
      "[40]\teval-auc:0.988705\ttrain-auc:0.99017\n",
      "[14:51:28] /workspace/src/tree/updater_prune.cc:74: tree pruning end, 1 roots, 32 extra nodes, 0 pruned nodes, max_depth=8\n",
      "[41]\teval-auc:0.988715\ttrain-auc:0.990194\n",
      "[14:51:29] /workspace/src/tree/updater_prune.cc:74: tree pruning end, 1 roots, 76 extra nodes, 0 pruned nodes, max_depth=8\n",
      "[42]\teval-auc:0.988723\ttrain-auc:0.990233\n",
      "[14:51:30] /workspace/src/tree/updater_prune.cc:74: tree pruning end, 1 roots, 64 extra nodes, 0 pruned nodes, max_depth=8\n",
      "[43]\teval-auc:0.988765\ttrain-auc:0.990263\n",
      "[14:51:30] /workspace/src/tree/updater_prune.cc:74: tree pruning end, 1 roots, 72 extra nodes, 0 pruned nodes, max_depth=8\n",
      "[44]\teval-auc:0.988817\ttrain-auc:0.990298\n",
      "[14:51:31] /workspace/src/tree/updater_prune.cc:74: tree pruning end, 1 roots, 126 extra nodes, 0 pruned nodes, max_depth=8\n",
      "[45]\teval-auc:0.988838\ttrain-auc:0.99034\n",
      "[14:51:32] /workspace/src/tree/updater_prune.cc:74: tree pruning end, 1 roots, 88 extra nodes, 0 pruned nodes, max_depth=8\n",
      "[46]\teval-auc:0.98883\ttrain-auc:0.990374\n",
      "[14:51:33] /workspace/src/tree/updater_prune.cc:74: tree pruning end, 1 roots, 98 extra nodes, 0 pruned nodes, max_depth=8\n",
      "[47]\teval-auc:0.988884\ttrain-auc:0.990426\n",
      "[14:51:34] /workspace/src/tree/updater_prune.cc:74: tree pruning end, 1 roots, 76 extra nodes, 0 pruned nodes, max_depth=8\n",
      "[48]\teval-auc:0.988887\ttrain-auc:0.990445\n"
     ]
    },
    {
     "name": "stdout",
     "output_type": "stream",
     "text": [
      "[14:51:34] /workspace/src/tree/updater_prune.cc:74: tree pruning end, 1 roots, 82 extra nodes, 0 pruned nodes, max_depth=8\n",
      "[49]\teval-auc:0.988918\ttrain-auc:0.990479\n",
      "[14:51:35] /workspace/src/tree/updater_prune.cc:74: tree pruning end, 1 roots, 22 extra nodes, 0 pruned nodes, max_depth=8\n",
      "[50]\teval-auc:0.988914\ttrain-auc:0.990493\n",
      "[14:51:36] /workspace/src/tree/updater_prune.cc:74: tree pruning end, 1 roots, 114 extra nodes, 0 pruned nodes, max_depth=8\n",
      "[51]\teval-auc:0.988925\ttrain-auc:0.990531\n",
      "[14:51:37] /workspace/src/tree/updater_prune.cc:74: tree pruning end, 1 roots, 48 extra nodes, 0 pruned nodes, max_depth=8\n",
      "[52]\teval-auc:0.988915\ttrain-auc:0.990555\n",
      "[14:51:38] /workspace/src/tree/updater_prune.cc:74: tree pruning end, 1 roots, 106 extra nodes, 0 pruned nodes, max_depth=8\n",
      "[53]\teval-auc:0.988945\ttrain-auc:0.990591\n",
      "[14:51:38] /workspace/src/tree/updater_prune.cc:74: tree pruning end, 1 roots, 74 extra nodes, 0 pruned nodes, max_depth=8\n",
      "[54]\teval-auc:0.988976\ttrain-auc:0.990624\n",
      "[14:51:39] /workspace/src/tree/updater_prune.cc:74: tree pruning end, 1 roots, 54 extra nodes, 0 pruned nodes, max_depth=8\n",
      "[55]\teval-auc:0.988965\ttrain-auc:0.990636\n",
      "[14:51:40] /workspace/src/tree/updater_prune.cc:74: tree pruning end, 1 roots, 102 extra nodes, 0 pruned nodes, max_depth=8\n",
      "[56]\teval-auc:0.988979\ttrain-auc:0.990663\n",
      "[14:51:41] /workspace/src/tree/updater_prune.cc:74: tree pruning end, 1 roots, 68 extra nodes, 0 pruned nodes, max_depth=8\n",
      "[57]\teval-auc:0.988979\ttrain-auc:0.99068\n",
      "[14:51:42] /workspace/src/tree/updater_prune.cc:74: tree pruning end, 1 roots, 62 extra nodes, 0 pruned nodes, max_depth=8\n",
      "[58]\teval-auc:0.988985\ttrain-auc:0.990697\n",
      "[14:51:42] /workspace/src/tree/updater_prune.cc:74: tree pruning end, 1 roots, 90 extra nodes, 0 pruned nodes, max_depth=8\n",
      "[59]\teval-auc:0.988985\ttrain-auc:0.990729\n",
      "[14:51:43] /workspace/src/tree/updater_prune.cc:74: tree pruning end, 1 roots, 104 extra nodes, 0 pruned nodes, max_depth=8\n",
      "[60]\teval-auc:0.988997\ttrain-auc:0.990752\n",
      "[14:51:44] /workspace/src/tree/updater_prune.cc:74: tree pruning end, 1 roots, 136 extra nodes, 0 pruned nodes, max_depth=8\n",
      "[61]\teval-auc:0.989014\ttrain-auc:0.990792\n",
      "[14:51:45] /workspace/src/tree/updater_prune.cc:74: tree pruning end, 1 roots, 66 extra nodes, 0 pruned nodes, max_depth=8\n",
      "[62]\teval-auc:0.989016\ttrain-auc:0.99081\n",
      "[14:51:46] /workspace/src/tree/updater_prune.cc:74: tree pruning end, 1 roots, 54 extra nodes, 0 pruned nodes, max_depth=8\n",
      "[63]\teval-auc:0.989028\ttrain-auc:0.990824\n",
      "[14:51:47] /workspace/src/tree/updater_prune.cc:74: tree pruning end, 1 roots, 98 extra nodes, 0 pruned nodes, max_depth=8\n",
      "[64]\teval-auc:0.989021\ttrain-auc:0.990855\n",
      "[14:51:47] /workspace/src/tree/updater_prune.cc:74: tree pruning end, 1 roots, 60 extra nodes, 0 pruned nodes, max_depth=8\n",
      "[65]\teval-auc:0.989004\ttrain-auc:0.990874\n",
      "[14:51:48] /workspace/src/tree/updater_prune.cc:74: tree pruning end, 1 roots, 62 extra nodes, 0 pruned nodes, max_depth=8\n",
      "[66]\teval-auc:0.989\ttrain-auc:0.99089\n",
      "[14:51:49] /workspace/src/tree/updater_prune.cc:74: tree pruning end, 1 roots, 76 extra nodes, 0 pruned nodes, max_depth=8\n",
      "[67]\teval-auc:0.989011\ttrain-auc:0.990921\n",
      "[14:51:50] /workspace/src/tree/updater_prune.cc:74: tree pruning end, 1 roots, 146 extra nodes, 0 pruned nodes, max_depth=8\n",
      "[68]\teval-auc:0.989021\ttrain-auc:0.990953\n",
      "[14:51:51] /workspace/src/tree/updater_prune.cc:74: tree pruning end, 1 roots, 70 extra nodes, 0 pruned nodes, max_depth=8\n",
      "[69]\teval-auc:0.989011\ttrain-auc:0.99097\n",
      "[14:51:52] /workspace/src/tree/updater_prune.cc:74: tree pruning end, 1 roots, 42 extra nodes, 0 pruned nodes, max_depth=8\n",
      "[70]\teval-auc:0.989027\ttrain-auc:0.99098\n",
      "[14:51:52] /workspace/src/tree/updater_prune.cc:74: tree pruning end, 1 roots, 38 extra nodes, 0 pruned nodes, max_depth=8\n",
      "[71]\teval-auc:0.989033\ttrain-auc:0.99099\n",
      "[14:51:53] /workspace/src/tree/updater_prune.cc:74: tree pruning end, 1 roots, 118 extra nodes, 0 pruned nodes, max_depth=8\n",
      "[72]\teval-auc:0.989052\ttrain-auc:0.991028\n",
      "[14:51:54] /workspace/src/tree/updater_prune.cc:74: tree pruning end, 1 roots, 88 extra nodes, 0 pruned nodes, max_depth=8\n",
      "[73]\teval-auc:0.989065\ttrain-auc:0.991051\n",
      "[14:51:55] /workspace/src/tree/updater_prune.cc:74: tree pruning end, 1 roots, 52 extra nodes, 0 pruned nodes, max_depth=8\n",
      "[74]\teval-auc:0.989057\ttrain-auc:0.991062\n",
      "[14:51:56] /workspace/src/tree/updater_prune.cc:74: tree pruning end, 1 roots, 76 extra nodes, 0 pruned nodes, max_depth=8\n",
      "[75]\teval-auc:0.989088\ttrain-auc:0.991078\n",
      "[14:51:57] /workspace/src/tree/updater_prune.cc:74: tree pruning end, 1 roots, 114 extra nodes, 0 pruned nodes, max_depth=8\n",
      "[76]\teval-auc:0.989097\ttrain-auc:0.991113\n",
      "[14:51:58] /workspace/src/tree/updater_prune.cc:74: tree pruning end, 1 roots, 122 extra nodes, 0 pruned nodes, max_depth=8\n",
      "[77]\teval-auc:0.98912\ttrain-auc:0.991142\n",
      "[14:51:58] /workspace/src/tree/updater_prune.cc:74: tree pruning end, 1 roots, 76 extra nodes, 0 pruned nodes, max_depth=8\n",
      "[78]\teval-auc:0.989136\ttrain-auc:0.991163\n",
      "[14:51:59] /workspace/src/tree/updater_prune.cc:74: tree pruning end, 1 roots, 92 extra nodes, 0 pruned nodes, max_depth=8\n",
      "[79]\teval-auc:0.989119\ttrain-auc:0.99118\n",
      "[14:52:00] /workspace/src/tree/updater_prune.cc:74: tree pruning end, 1 roots, 86 extra nodes, 0 pruned nodes, max_depth=8\n",
      "[80]\teval-auc:0.989124\ttrain-auc:0.991201\n",
      "[14:52:01] /workspace/src/tree/updater_prune.cc:74: tree pruning end, 1 roots, 42 extra nodes, 0 pruned nodes, max_depth=8\n",
      "[81]\teval-auc:0.989136\ttrain-auc:0.991215\n",
      "[14:52:02] /workspace/src/tree/updater_prune.cc:74: tree pruning end, 1 roots, 108 extra nodes, 0 pruned nodes, max_depth=8\n",
      "[82]\teval-auc:0.989127\ttrain-auc:0.991239\n",
      "[14:52:03] /workspace/src/tree/updater_prune.cc:74: tree pruning end, 1 roots, 50 extra nodes, 0 pruned nodes, max_depth=8\n",
      "[83]\teval-auc:0.98912\ttrain-auc:0.991252\n",
      "[14:52:04] /workspace/src/tree/updater_prune.cc:74: tree pruning end, 1 roots, 90 extra nodes, 0 pruned nodes, max_depth=8\n",
      "[84]\teval-auc:0.989138\ttrain-auc:0.991274\n",
      "[14:52:04] /workspace/src/tree/updater_prune.cc:74: tree pruning end, 1 roots, 76 extra nodes, 0 pruned nodes, max_depth=8\n",
      "[85]\teval-auc:0.989138\ttrain-auc:0.991292\n",
      "[14:52:05] /workspace/src/tree/updater_prune.cc:74: tree pruning end, 1 roots, 30 extra nodes, 0 pruned nodes, max_depth=8\n",
      "[86]\teval-auc:0.989138\ttrain-auc:0.991296\n",
      "[14:52:06] /workspace/src/tree/updater_prune.cc:74: tree pruning end, 1 roots, 70 extra nodes, 0 pruned nodes, max_depth=8\n",
      "[87]\teval-auc:0.989146\ttrain-auc:0.991318\n",
      "[14:52:07] /workspace/src/tree/updater_prune.cc:74: tree pruning end, 1 roots, 60 extra nodes, 0 pruned nodes, max_depth=8\n",
      "[88]\teval-auc:0.989157\ttrain-auc:0.991329\n",
      "[14:52:08] /workspace/src/tree/updater_prune.cc:74: tree pruning end, 1 roots, 120 extra nodes, 0 pruned nodes, max_depth=8\n",
      "[89]\teval-auc:0.989164\ttrain-auc:0.991354\n",
      "[14:52:09] /workspace/src/tree/updater_prune.cc:74: tree pruning end, 1 roots, 130 extra nodes, 0 pruned nodes, max_depth=8\n",
      "[90]\teval-auc:0.98917\ttrain-auc:0.991381\n",
      "[14:52:10] /workspace/src/tree/updater_prune.cc:74: tree pruning end, 1 roots, 68 extra nodes, 0 pruned nodes, max_depth=8\n",
      "[91]\teval-auc:0.989188\ttrain-auc:0.991388\n",
      "[14:52:10] /workspace/src/tree/updater_prune.cc:74: tree pruning end, 1 roots, 76 extra nodes, 0 pruned nodes, max_depth=8\n",
      "[92]\teval-auc:0.989182\ttrain-auc:0.991408\n",
      "[14:52:11] /workspace/src/tree/updater_prune.cc:74: tree pruning end, 1 roots, 76 extra nodes, 0 pruned nodes, max_depth=8\n",
      "[93]\teval-auc:0.989176\ttrain-auc:0.991425\n",
      "[14:52:12] /workspace/src/tree/updater_prune.cc:74: tree pruning end, 1 roots, 92 extra nodes, 0 pruned nodes, max_depth=8\n",
      "[94]\teval-auc:0.989186\ttrain-auc:0.991441\n",
      "[14:52:13] /workspace/src/tree/updater_prune.cc:74: tree pruning end, 1 roots, 108 extra nodes, 0 pruned nodes, max_depth=8\n",
      "[95]\teval-auc:0.989176\ttrain-auc:0.991468\n",
      "[14:52:14] /workspace/src/tree/updater_prune.cc:74: tree pruning end, 1 roots, 88 extra nodes, 0 pruned nodes, max_depth=8\n",
      "[96]\teval-auc:0.989177\ttrain-auc:0.991483\n",
      "[14:52:15] /workspace/src/tree/updater_prune.cc:74: tree pruning end, 1 roots, 94 extra nodes, 0 pruned nodes, max_depth=8\n",
      "[97]\teval-auc:0.989165\ttrain-auc:0.991507\n",
      "[14:52:16] /workspace/src/tree/updater_prune.cc:74: tree pruning end, 1 roots, 60 extra nodes, 0 pruned nodes, max_depth=8\n",
      "[98]\teval-auc:0.989165\ttrain-auc:0.991524\n"
     ]
    },
    {
     "name": "stdout",
     "output_type": "stream",
     "text": [
      "[14:52:16] /workspace/src/tree/updater_prune.cc:74: tree pruning end, 1 roots, 80 extra nodes, 0 pruned nodes, max_depth=8\n",
      "[99]\teval-auc:0.989168\ttrain-auc:0.991541\n",
      "[14:52:24] /workspace/src/tree/updater_prune.cc:74: tree pruning end, 1 roots, 352 extra nodes, 0 pruned nodes, max_depth=8\n",
      "[0]\teval-auc:0.976319\ttrain-auc:0.981819\n",
      "Multiple eval metrics have been passed: 'train-auc' will be used for early stopping.\n",
      "\n",
      "Will train until train-auc hasn't improved in 10 rounds.\n",
      "[14:52:25] /workspace/src/tree/updater_prune.cc:74: tree pruning end, 1 roots, 378 extra nodes, 0 pruned nodes, max_depth=8\n",
      "[1]\teval-auc:0.982511\ttrain-auc:0.98663\n",
      "[14:52:26] /workspace/src/tree/updater_prune.cc:74: tree pruning end, 1 roots, 354 extra nodes, 0 pruned nodes, max_depth=8\n",
      "[2]\teval-auc:0.984257\ttrain-auc:0.986581\n",
      "[14:52:27] /workspace/src/tree/updater_prune.cc:74: tree pruning end, 1 roots, 372 extra nodes, 0 pruned nodes, max_depth=8\n",
      "[3]\teval-auc:0.985287\ttrain-auc:0.987282\n",
      "[14:52:28] /workspace/src/tree/updater_prune.cc:74: tree pruning end, 1 roots, 348 extra nodes, 0 pruned nodes, max_depth=8\n",
      "[4]\teval-auc:0.98574\ttrain-auc:0.987767\n",
      "[14:52:29] /workspace/src/tree/updater_prune.cc:74: tree pruning end, 1 roots, 316 extra nodes, 0 pruned nodes, max_depth=8\n",
      "[5]\teval-auc:0.986451\ttrain-auc:0.98809\n",
      "[14:52:30] /workspace/src/tree/updater_prune.cc:74: tree pruning end, 1 roots, 326 extra nodes, 0 pruned nodes, max_depth=8\n",
      "[6]\teval-auc:0.986495\ttrain-auc:0.988213\n",
      "[14:52:31] /workspace/src/tree/updater_prune.cc:74: tree pruning end, 1 roots, 274 extra nodes, 0 pruned nodes, max_depth=8\n",
      "[7]\teval-auc:0.987165\ttrain-auc:0.988473\n",
      "[14:52:32] /workspace/src/tree/updater_prune.cc:74: tree pruning end, 1 roots, 314 extra nodes, 0 pruned nodes, max_depth=8\n",
      "[8]\teval-auc:0.98744\ttrain-auc:0.988691\n",
      "[14:52:33] /workspace/src/tree/updater_prune.cc:74: tree pruning end, 1 roots, 302 extra nodes, 0 pruned nodes, max_depth=8\n",
      "[9]\teval-auc:0.987657\ttrain-auc:0.988964\n",
      "[14:52:34] /workspace/src/tree/updater_prune.cc:74: tree pruning end, 1 roots, 288 extra nodes, 0 pruned nodes, max_depth=8\n",
      "[10]\teval-auc:0.987408\ttrain-auc:0.988881\n",
      "[14:52:35] /workspace/src/tree/updater_prune.cc:74: tree pruning end, 1 roots, 274 extra nodes, 0 pruned nodes, max_depth=8\n",
      "[11]\teval-auc:0.987404\ttrain-auc:0.988907\n",
      "[14:52:35] /workspace/src/tree/updater_prune.cc:74: tree pruning end, 1 roots, 240 extra nodes, 0 pruned nodes, max_depth=8\n",
      "[12]\teval-auc:0.987538\ttrain-auc:0.988987\n",
      "[14:52:36] /workspace/src/tree/updater_prune.cc:74: tree pruning end, 1 roots, 230 extra nodes, 0 pruned nodes, max_depth=8\n",
      "[13]\teval-auc:0.987672\ttrain-auc:0.989057\n",
      "[14:52:37] /workspace/src/tree/updater_prune.cc:74: tree pruning end, 1 roots, 210 extra nodes, 0 pruned nodes, max_depth=8\n",
      "[14]\teval-auc:0.987701\ttrain-auc:0.989113\n",
      "[14:52:38] /workspace/src/tree/updater_prune.cc:74: tree pruning end, 1 roots, 246 extra nodes, 0 pruned nodes, max_depth=8\n",
      "[15]\teval-auc:0.987754\ttrain-auc:0.989181\n",
      "[14:52:39] /workspace/src/tree/updater_prune.cc:74: tree pruning end, 1 roots, 232 extra nodes, 0 pruned nodes, max_depth=8\n",
      "[16]\teval-auc:0.987766\ttrain-auc:0.989229\n",
      "[14:52:40] /workspace/src/tree/updater_prune.cc:74: tree pruning end, 1 roots, 176 extra nodes, 0 pruned nodes, max_depth=8\n",
      "[17]\teval-auc:0.987888\ttrain-auc:0.989337\n",
      "[14:52:41] /workspace/src/tree/updater_prune.cc:74: tree pruning end, 1 roots, 140 extra nodes, 0 pruned nodes, max_depth=8\n",
      "[18]\teval-auc:0.987968\ttrain-auc:0.989395\n",
      "[14:52:42] /workspace/src/tree/updater_prune.cc:74: tree pruning end, 1 roots, 168 extra nodes, 0 pruned nodes, max_depth=8\n",
      "[19]\teval-auc:0.988043\ttrain-auc:0.989452\n",
      "[14:52:43] /workspace/src/tree/updater_prune.cc:74: tree pruning end, 1 roots, 152 extra nodes, 0 pruned nodes, max_depth=8\n",
      "[20]\teval-auc:0.988114\ttrain-auc:0.98951\n",
      "[14:52:44] /workspace/src/tree/updater_prune.cc:74: tree pruning end, 1 roots, 144 extra nodes, 0 pruned nodes, max_depth=8\n",
      "[21]\teval-auc:0.988182\ttrain-auc:0.989558\n",
      "[14:52:45] /workspace/src/tree/updater_prune.cc:74: tree pruning end, 1 roots, 136 extra nodes, 0 pruned nodes, max_depth=8\n",
      "[22]\teval-auc:0.988232\ttrain-auc:0.989651\n",
      "[14:52:45] /workspace/src/tree/updater_prune.cc:74: tree pruning end, 1 roots, 126 extra nodes, 0 pruned nodes, max_depth=8\n",
      "[23]\teval-auc:0.98833\ttrain-auc:0.9897\n",
      "[14:52:46] /workspace/src/tree/updater_prune.cc:74: tree pruning end, 1 roots, 166 extra nodes, 0 pruned nodes, max_depth=8\n",
      "[24]\teval-auc:0.988306\ttrain-auc:0.989723\n",
      "[14:52:47] /workspace/src/tree/updater_prune.cc:74: tree pruning end, 1 roots, 92 extra nodes, 0 pruned nodes, max_depth=8\n",
      "[25]\teval-auc:0.988378\ttrain-auc:0.989756\n",
      "[14:52:48] /workspace/src/tree/updater_prune.cc:74: tree pruning end, 1 roots, 100 extra nodes, 0 pruned nodes, max_depth=8\n",
      "[26]\teval-auc:0.988437\ttrain-auc:0.989791\n",
      "[14:52:49] /workspace/src/tree/updater_prune.cc:74: tree pruning end, 1 roots, 96 extra nodes, 0 pruned nodes, max_depth=8\n",
      "[27]\teval-auc:0.988446\ttrain-auc:0.989819\n",
      "[14:52:50] /workspace/src/tree/updater_prune.cc:74: tree pruning end, 1 roots, 122 extra nodes, 0 pruned nodes, max_depth=8\n",
      "[28]\teval-auc:0.98853\ttrain-auc:0.989868\n",
      "[14:52:51] /workspace/src/tree/updater_prune.cc:74: tree pruning end, 1 roots, 84 extra nodes, 0 pruned nodes, max_depth=8\n",
      "[29]\teval-auc:0.988573\ttrain-auc:0.989911\n",
      "[14:52:51] /workspace/src/tree/updater_prune.cc:74: tree pruning end, 1 roots, 82 extra nodes, 0 pruned nodes, max_depth=8\n",
      "[30]\teval-auc:0.988584\ttrain-auc:0.98993\n",
      "[14:52:52] /workspace/src/tree/updater_prune.cc:74: tree pruning end, 1 roots, 124 extra nodes, 0 pruned nodes, max_depth=8\n",
      "[31]\teval-auc:0.988619\ttrain-auc:0.989977\n",
      "[14:52:53] /workspace/src/tree/updater_prune.cc:74: tree pruning end, 1 roots, 52 extra nodes, 0 pruned nodes, max_depth=8\n",
      "[32]\teval-auc:0.988628\ttrain-auc:0.989999\n",
      "[14:52:54] /workspace/src/tree/updater_prune.cc:74: tree pruning end, 1 roots, 80 extra nodes, 0 pruned nodes, max_depth=8\n",
      "[33]\teval-auc:0.988658\ttrain-auc:0.990042\n",
      "[14:52:55] /workspace/src/tree/updater_prune.cc:74: tree pruning end, 1 roots, 66 extra nodes, 0 pruned nodes, max_depth=8\n",
      "[34]\teval-auc:0.988678\ttrain-auc:0.990083\n",
      "[14:52:55] /workspace/src/tree/updater_prune.cc:74: tree pruning end, 1 roots, 70 extra nodes, 0 pruned nodes, max_depth=8\n",
      "[35]\teval-auc:0.988699\ttrain-auc:0.990105\n",
      "[14:52:56] /workspace/src/tree/updater_prune.cc:74: tree pruning end, 1 roots, 54 extra nodes, 0 pruned nodes, max_depth=8\n",
      "[36]\teval-auc:0.988727\ttrain-auc:0.990132\n",
      "[14:52:57] /workspace/src/tree/updater_prune.cc:74: tree pruning end, 1 roots, 72 extra nodes, 0 pruned nodes, max_depth=8\n",
      "[37]\teval-auc:0.988735\ttrain-auc:0.990158\n",
      "[14:52:58] /workspace/src/tree/updater_prune.cc:74: tree pruning end, 1 roots, 54 extra nodes, 0 pruned nodes, max_depth=8\n",
      "[38]\teval-auc:0.988751\ttrain-auc:0.990179\n",
      "[14:52:58] /workspace/src/tree/updater_prune.cc:74: tree pruning end, 1 roots, 72 extra nodes, 0 pruned nodes, max_depth=8\n",
      "[39]\teval-auc:0.988779\ttrain-auc:0.990219\n",
      "[14:52:59] /workspace/src/tree/updater_prune.cc:74: tree pruning end, 1 roots, 46 extra nodes, 0 pruned nodes, max_depth=8\n",
      "[40]\teval-auc:0.988809\ttrain-auc:0.990254\n",
      "[14:53:00] /workspace/src/tree/updater_prune.cc:74: tree pruning end, 1 roots, 70 extra nodes, 0 pruned nodes, max_depth=8\n",
      "[41]\teval-auc:0.988823\ttrain-auc:0.990278\n",
      "[14:53:01] /workspace/src/tree/updater_prune.cc:74: tree pruning end, 1 roots, 68 extra nodes, 0 pruned nodes, max_depth=8\n",
      "[42]\teval-auc:0.988818\ttrain-auc:0.990291\n",
      "[14:53:01] /workspace/src/tree/updater_prune.cc:74: tree pruning end, 1 roots, 80 extra nodes, 0 pruned nodes, max_depth=8\n",
      "[43]\teval-auc:0.988819\ttrain-auc:0.990315\n",
      "[14:53:02] /workspace/src/tree/updater_prune.cc:74: tree pruning end, 1 roots, 118 extra nodes, 0 pruned nodes, max_depth=8\n",
      "[44]\teval-auc:0.988848\ttrain-auc:0.990358\n",
      "[14:53:03] /workspace/src/tree/updater_prune.cc:74: tree pruning end, 1 roots, 54 extra nodes, 0 pruned nodes, max_depth=8\n",
      "[45]\teval-auc:0.988862\ttrain-auc:0.990377\n",
      "[14:53:04] /workspace/src/tree/updater_prune.cc:74: tree pruning end, 1 roots, 86 extra nodes, 0 pruned nodes, max_depth=8\n",
      "[46]\teval-auc:0.988898\ttrain-auc:0.99042\n",
      "[14:53:05] /workspace/src/tree/updater_prune.cc:74: tree pruning end, 1 roots, 50 extra nodes, 0 pruned nodes, max_depth=8\n",
      "[47]\teval-auc:0.988913\ttrain-auc:0.990444\n"
     ]
    },
    {
     "name": "stdout",
     "output_type": "stream",
     "text": [
      "[14:53:05] /workspace/src/tree/updater_prune.cc:74: tree pruning end, 1 roots, 82 extra nodes, 0 pruned nodes, max_depth=8\n",
      "[48]\teval-auc:0.988912\ttrain-auc:0.990459\n",
      "[14:53:06] /workspace/src/tree/updater_prune.cc:74: tree pruning end, 1 roots, 56 extra nodes, 0 pruned nodes, max_depth=8\n",
      "[49]\teval-auc:0.98892\ttrain-auc:0.990481\n",
      "[14:53:07] /workspace/src/tree/updater_prune.cc:74: tree pruning end, 1 roots, 102 extra nodes, 0 pruned nodes, max_depth=8\n",
      "[50]\teval-auc:0.988938\ttrain-auc:0.990523\n",
      "[14:53:08] /workspace/src/tree/updater_prune.cc:74: tree pruning end, 1 roots, 78 extra nodes, 0 pruned nodes, max_depth=8\n",
      "[51]\teval-auc:0.988962\ttrain-auc:0.990557\n",
      "[14:53:09] /workspace/src/tree/updater_prune.cc:74: tree pruning end, 1 roots, 58 extra nodes, 0 pruned nodes, max_depth=8\n",
      "[52]\teval-auc:0.988964\ttrain-auc:0.990583\n",
      "[14:53:10] /workspace/src/tree/updater_prune.cc:74: tree pruning end, 1 roots, 100 extra nodes, 0 pruned nodes, max_depth=8\n",
      "[53]\teval-auc:0.988954\ttrain-auc:0.990612\n",
      "[14:53:10] /workspace/src/tree/updater_prune.cc:74: tree pruning end, 1 roots, 48 extra nodes, 0 pruned nodes, max_depth=8\n",
      "[54]\teval-auc:0.988964\ttrain-auc:0.99063\n",
      "[14:53:11] /workspace/src/tree/updater_prune.cc:74: tree pruning end, 1 roots, 70 extra nodes, 0 pruned nodes, max_depth=8\n",
      "[55]\teval-auc:0.988961\ttrain-auc:0.990652\n",
      "[14:53:12] /workspace/src/tree/updater_prune.cc:74: tree pruning end, 1 roots, 48 extra nodes, 0 pruned nodes, max_depth=8\n",
      "[56]\teval-auc:0.988962\ttrain-auc:0.990664\n",
      "[14:53:13] /workspace/src/tree/updater_prune.cc:74: tree pruning end, 1 roots, 70 extra nodes, 0 pruned nodes, max_depth=8\n",
      "[57]\teval-auc:0.988949\ttrain-auc:0.990681\n",
      "[14:53:13] /workspace/src/tree/updater_prune.cc:74: tree pruning end, 1 roots, 90 extra nodes, 0 pruned nodes, max_depth=8\n",
      "[58]\teval-auc:0.988964\ttrain-auc:0.990711\n",
      "[14:53:14] /workspace/src/tree/updater_prune.cc:74: tree pruning end, 1 roots, 88 extra nodes, 0 pruned nodes, max_depth=8\n",
      "[59]\teval-auc:0.988963\ttrain-auc:0.99074\n",
      "[14:53:15] /workspace/src/tree/updater_prune.cc:74: tree pruning end, 1 roots, 62 extra nodes, 0 pruned nodes, max_depth=8\n",
      "[60]\teval-auc:0.988965\ttrain-auc:0.99076\n",
      "[14:53:16] /workspace/src/tree/updater_prune.cc:74: tree pruning end, 1 roots, 50 extra nodes, 0 pruned nodes, max_depth=8\n",
      "[61]\teval-auc:0.988959\ttrain-auc:0.990773\n",
      "[14:53:17] /workspace/src/tree/updater_prune.cc:74: tree pruning end, 1 roots, 72 extra nodes, 0 pruned nodes, max_depth=8\n",
      "[62]\teval-auc:0.988969\ttrain-auc:0.990793\n",
      "[14:53:18] /workspace/src/tree/updater_prune.cc:74: tree pruning end, 1 roots, 82 extra nodes, 0 pruned nodes, max_depth=8\n",
      "[63]\teval-auc:0.988983\ttrain-auc:0.990828\n",
      "[14:53:18] /workspace/src/tree/updater_prune.cc:74: tree pruning end, 1 roots, 90 extra nodes, 0 pruned nodes, max_depth=8\n",
      "[64]\teval-auc:0.988984\ttrain-auc:0.990849\n",
      "[14:53:19] /workspace/src/tree/updater_prune.cc:74: tree pruning end, 1 roots, 68 extra nodes, 0 pruned nodes, max_depth=8\n",
      "[65]\teval-auc:0.989003\ttrain-auc:0.990882\n",
      "[14:53:20] /workspace/src/tree/updater_prune.cc:74: tree pruning end, 1 roots, 60 extra nodes, 0 pruned nodes, max_depth=8\n",
      "[66]\teval-auc:0.989018\ttrain-auc:0.990902\n",
      "[14:53:21] /workspace/src/tree/updater_prune.cc:74: tree pruning end, 1 roots, 58 extra nodes, 0 pruned nodes, max_depth=8\n",
      "[67]\teval-auc:0.989015\ttrain-auc:0.990921\n",
      "[14:53:22] /workspace/src/tree/updater_prune.cc:74: tree pruning end, 1 roots, 124 extra nodes, 0 pruned nodes, max_depth=8\n",
      "[68]\teval-auc:0.989065\ttrain-auc:0.990975\n",
      "[14:53:23] /workspace/src/tree/updater_prune.cc:74: tree pruning end, 1 roots, 62 extra nodes, 0 pruned nodes, max_depth=8\n",
      "[69]\teval-auc:0.989076\ttrain-auc:0.990997\n",
      "[14:53:23] /workspace/src/tree/updater_prune.cc:74: tree pruning end, 1 roots, 90 extra nodes, 0 pruned nodes, max_depth=8\n",
      "[70]\teval-auc:0.989073\ttrain-auc:0.991016\n",
      "[14:53:24] /workspace/src/tree/updater_prune.cc:74: tree pruning end, 1 roots, 58 extra nodes, 0 pruned nodes, max_depth=8\n",
      "[71]\teval-auc:0.989074\ttrain-auc:0.99103\n",
      "[14:53:25] /workspace/src/tree/updater_prune.cc:74: tree pruning end, 1 roots, 70 extra nodes, 0 pruned nodes, max_depth=8\n",
      "[72]\teval-auc:0.989075\ttrain-auc:0.991044\n",
      "[14:53:26] /workspace/src/tree/updater_prune.cc:74: tree pruning end, 1 roots, 72 extra nodes, 0 pruned nodes, max_depth=8\n",
      "[73]\teval-auc:0.989073\ttrain-auc:0.99106\n",
      "[14:53:27] /workspace/src/tree/updater_prune.cc:74: tree pruning end, 1 roots, 72 extra nodes, 0 pruned nodes, max_depth=8\n",
      "[74]\teval-auc:0.989069\ttrain-auc:0.991079\n",
      "[14:53:27] /workspace/src/tree/updater_prune.cc:74: tree pruning end, 1 roots, 74 extra nodes, 0 pruned nodes, max_depth=8\n",
      "[75]\teval-auc:0.989072\ttrain-auc:0.991091\n",
      "[14:53:28] /workspace/src/tree/updater_prune.cc:74: tree pruning end, 1 roots, 48 extra nodes, 0 pruned nodes, max_depth=8\n",
      "[76]\teval-auc:0.989075\ttrain-auc:0.991107\n",
      "[14:53:29] /workspace/src/tree/updater_prune.cc:74: tree pruning end, 1 roots, 56 extra nodes, 0 pruned nodes, max_depth=8\n",
      "[77]\teval-auc:0.989084\ttrain-auc:0.991122\n",
      "[14:53:30] /workspace/src/tree/updater_prune.cc:74: tree pruning end, 1 roots, 44 extra nodes, 0 pruned nodes, max_depth=8\n",
      "[78]\teval-auc:0.989082\ttrain-auc:0.991132\n",
      "[14:53:31] /workspace/src/tree/updater_prune.cc:74: tree pruning end, 1 roots, 62 extra nodes, 0 pruned nodes, max_depth=8\n",
      "[79]\teval-auc:0.989087\ttrain-auc:0.991152\n",
      "[14:53:32] /workspace/src/tree/updater_prune.cc:74: tree pruning end, 1 roots, 60 extra nodes, 0 pruned nodes, max_depth=8\n",
      "[80]\teval-auc:0.989085\ttrain-auc:0.991169\n",
      "[14:53:32] /workspace/src/tree/updater_prune.cc:74: tree pruning end, 1 roots, 62 extra nodes, 0 pruned nodes, max_depth=8\n",
      "[81]\teval-auc:0.989088\ttrain-auc:0.991177\n",
      "[14:53:33] /workspace/src/tree/updater_prune.cc:74: tree pruning end, 1 roots, 110 extra nodes, 0 pruned nodes, max_depth=8\n",
      "[82]\teval-auc:0.989087\ttrain-auc:0.991215\n",
      "[14:53:34] /workspace/src/tree/updater_prune.cc:74: tree pruning end, 1 roots, 104 extra nodes, 0 pruned nodes, max_depth=8\n",
      "[83]\teval-auc:0.989081\ttrain-auc:0.991237\n",
      "[14:53:35] /workspace/src/tree/updater_prune.cc:74: tree pruning end, 1 roots, 110 extra nodes, 0 pruned nodes, max_depth=8\n",
      "[84]\teval-auc:0.989094\ttrain-auc:0.991265\n",
      "[14:53:36] /workspace/src/tree/updater_prune.cc:74: tree pruning end, 1 roots, 76 extra nodes, 0 pruned nodes, max_depth=8\n",
      "[85]\teval-auc:0.989095\ttrain-auc:0.991279\n",
      "[14:53:37] /workspace/src/tree/updater_prune.cc:74: tree pruning end, 1 roots, 104 extra nodes, 0 pruned nodes, max_depth=8\n",
      "[86]\teval-auc:0.98909\ttrain-auc:0.991303\n",
      "[14:53:37] /workspace/src/tree/updater_prune.cc:74: tree pruning end, 1 roots, 42 extra nodes, 0 pruned nodes, max_depth=8\n",
      "[87]\teval-auc:0.989086\ttrain-auc:0.991308\n",
      "[14:53:38] /workspace/src/tree/updater_prune.cc:74: tree pruning end, 1 roots, 66 extra nodes, 0 pruned nodes, max_depth=8\n",
      "[88]\teval-auc:0.989073\ttrain-auc:0.991323\n",
      "[14:53:39] /workspace/src/tree/updater_prune.cc:74: tree pruning end, 1 roots, 48 extra nodes, 0 pruned nodes, max_depth=8\n",
      "[89]\teval-auc:0.989069\ttrain-auc:0.99133\n",
      "[14:53:40] /workspace/src/tree/updater_prune.cc:74: tree pruning end, 1 roots, 66 extra nodes, 0 pruned nodes, max_depth=8\n",
      "[90]\teval-auc:0.989066\ttrain-auc:0.991346\n",
      "[14:53:41] /workspace/src/tree/updater_prune.cc:74: tree pruning end, 1 roots, 90 extra nodes, 0 pruned nodes, max_depth=8\n",
      "[91]\teval-auc:0.989061\ttrain-auc:0.991366\n",
      "[14:53:42] /workspace/src/tree/updater_prune.cc:74: tree pruning end, 1 roots, 102 extra nodes, 0 pruned nodes, max_depth=8\n",
      "[92]\teval-auc:0.989048\ttrain-auc:0.991386\n",
      "[14:53:43] /workspace/src/tree/updater_prune.cc:74: tree pruning end, 1 roots, 82 extra nodes, 0 pruned nodes, max_depth=8\n",
      "[93]\teval-auc:0.989055\ttrain-auc:0.991403\n",
      "[14:53:43] /workspace/src/tree/updater_prune.cc:74: tree pruning end, 1 roots, 60 extra nodes, 0 pruned nodes, max_depth=8\n",
      "[94]\teval-auc:0.989062\ttrain-auc:0.991421\n",
      "[14:53:44] /workspace/src/tree/updater_prune.cc:74: tree pruning end, 1 roots, 82 extra nodes, 0 pruned nodes, max_depth=8\n",
      "[95]\teval-auc:0.989059\ttrain-auc:0.991437\n",
      "[14:53:45] /workspace/src/tree/updater_prune.cc:74: tree pruning end, 1 roots, 86 extra nodes, 0 pruned nodes, max_depth=8\n",
      "[96]\teval-auc:0.989041\ttrain-auc:0.991455\n",
      "[14:53:46] /workspace/src/tree/updater_prune.cc:74: tree pruning end, 1 roots, 46 extra nodes, 0 pruned nodes, max_depth=8\n",
      "[97]\teval-auc:0.989041\ttrain-auc:0.991464\n"
     ]
    },
    {
     "name": "stdout",
     "output_type": "stream",
     "text": [
      "[14:53:47] /workspace/src/tree/updater_prune.cc:74: tree pruning end, 1 roots, 42 extra nodes, 0 pruned nodes, max_depth=8\n",
      "[98]\teval-auc:0.98905\ttrain-auc:0.99148\n",
      "[14:53:47] /workspace/src/tree/updater_prune.cc:74: tree pruning end, 1 roots, 96 extra nodes, 0 pruned nodes, max_depth=8\n",
      "[99]\teval-auc:0.989059\ttrain-auc:0.991501\n",
      "[14:53:55] /workspace/src/tree/updater_prune.cc:74: tree pruning end, 1 roots, 370 extra nodes, 0 pruned nodes, max_depth=8\n",
      "[0]\teval-auc:0.977657\ttrain-auc:0.981938\n",
      "Multiple eval metrics have been passed: 'train-auc' will be used for early stopping.\n",
      "\n",
      "Will train until train-auc hasn't improved in 10 rounds.\n",
      "[14:53:56] /workspace/src/tree/updater_prune.cc:74: tree pruning end, 1 roots, 348 extra nodes, 0 pruned nodes, max_depth=8\n",
      "[1]\teval-auc:0.983454\ttrain-auc:0.98656\n",
      "[14:53:57] /workspace/src/tree/updater_prune.cc:74: tree pruning end, 1 roots, 336 extra nodes, 0 pruned nodes, max_depth=8\n",
      "[2]\teval-auc:0.984583\ttrain-auc:0.987266\n",
      "[14:53:58] /workspace/src/tree/updater_prune.cc:74: tree pruning end, 1 roots, 346 extra nodes, 0 pruned nodes, max_depth=8\n",
      "[3]\teval-auc:0.984656\ttrain-auc:0.987566\n",
      "[14:53:59] /workspace/src/tree/updater_prune.cc:74: tree pruning end, 1 roots, 330 extra nodes, 0 pruned nodes, max_depth=8\n",
      "[4]\teval-auc:0.985255\ttrain-auc:0.987878\n",
      "[14:54:00] /workspace/src/tree/updater_prune.cc:74: tree pruning end, 1 roots, 300 extra nodes, 0 pruned nodes, max_depth=8\n",
      "[5]\teval-auc:0.985231\ttrain-auc:0.987829\n",
      "[14:54:01] /workspace/src/tree/updater_prune.cc:74: tree pruning end, 1 roots, 378 extra nodes, 0 pruned nodes, max_depth=8\n",
      "[6]\teval-auc:0.985503\ttrain-auc:0.988197\n",
      "[14:54:02] /workspace/src/tree/updater_prune.cc:74: tree pruning end, 1 roots, 362 extra nodes, 0 pruned nodes, max_depth=8\n",
      "[7]\teval-auc:0.985164\ttrain-auc:0.987858\n",
      "[14:54:03] /workspace/src/tree/updater_prune.cc:74: tree pruning end, 1 roots, 270 extra nodes, 0 pruned nodes, max_depth=8\n",
      "[8]\teval-auc:0.98547\ttrain-auc:0.987749\n",
      "[14:54:04] /workspace/src/tree/updater_prune.cc:74: tree pruning end, 1 roots, 300 extra nodes, 0 pruned nodes, max_depth=8\n",
      "[9]\teval-auc:0.986294\ttrain-auc:0.988338\n",
      "[14:54:05] /workspace/src/tree/updater_prune.cc:74: tree pruning end, 1 roots, 270 extra nodes, 0 pruned nodes, max_depth=8\n",
      "[10]\teval-auc:0.986519\ttrain-auc:0.988603\n",
      "[14:54:06] /workspace/src/tree/updater_prune.cc:74: tree pruning end, 1 roots, 302 extra nodes, 0 pruned nodes, max_depth=8\n",
      "[11]\teval-auc:0.986636\ttrain-auc:0.988691\n",
      "[14:54:07] /workspace/src/tree/updater_prune.cc:74: tree pruning end, 1 roots, 252 extra nodes, 0 pruned nodes, max_depth=8\n",
      "[12]\teval-auc:0.986874\ttrain-auc:0.988902\n",
      "[14:54:08] /workspace/src/tree/updater_prune.cc:74: tree pruning end, 1 roots, 252 extra nodes, 0 pruned nodes, max_depth=8\n",
      "[13]\teval-auc:0.987019\ttrain-auc:0.989034\n",
      "[14:54:09] /workspace/src/tree/updater_prune.cc:74: tree pruning end, 1 roots, 242 extra nodes, 0 pruned nodes, max_depth=8\n",
      "[14]\teval-auc:0.98719\ttrain-auc:0.989155\n",
      "[14:54:10] /workspace/src/tree/updater_prune.cc:74: tree pruning end, 1 roots, 284 extra nodes, 0 pruned nodes, max_depth=8\n",
      "[15]\teval-auc:0.987057\ttrain-auc:0.989037\n",
      "[14:54:11] /workspace/src/tree/updater_prune.cc:74: tree pruning end, 1 roots, 214 extra nodes, 0 pruned nodes, max_depth=8\n",
      "[16]\teval-auc:0.987178\ttrain-auc:0.989131\n",
      "[14:54:12] /workspace/src/tree/updater_prune.cc:74: tree pruning end, 1 roots, 202 extra nodes, 0 pruned nodes, max_depth=8\n",
      "[17]\teval-auc:0.987272\ttrain-auc:0.989211\n",
      "[14:54:13] /workspace/src/tree/updater_prune.cc:74: tree pruning end, 1 roots, 176 extra nodes, 0 pruned nodes, max_depth=8\n",
      "[18]\teval-auc:0.987367\ttrain-auc:0.989236\n",
      "[14:54:13] /workspace/src/tree/updater_prune.cc:74: tree pruning end, 1 roots, 158 extra nodes, 0 pruned nodes, max_depth=8\n",
      "[19]\teval-auc:0.987391\ttrain-auc:0.989244\n",
      "[14:54:14] /workspace/src/tree/updater_prune.cc:74: tree pruning end, 1 roots, 176 extra nodes, 0 pruned nodes, max_depth=8\n",
      "[20]\teval-auc:0.987496\ttrain-auc:0.989362\n",
      "[14:54:15] /workspace/src/tree/updater_prune.cc:74: tree pruning end, 1 roots, 182 extra nodes, 0 pruned nodes, max_depth=8\n",
      "[21]\teval-auc:0.987607\ttrain-auc:0.989481\n",
      "[14:54:16] /workspace/src/tree/updater_prune.cc:74: tree pruning end, 1 roots, 136 extra nodes, 0 pruned nodes, max_depth=8\n",
      "[22]\teval-auc:0.987656\ttrain-auc:0.989508\n",
      "[14:54:17] /workspace/src/tree/updater_prune.cc:74: tree pruning end, 1 roots, 142 extra nodes, 0 pruned nodes, max_depth=8\n",
      "[23]\teval-auc:0.987759\ttrain-auc:0.989615\n",
      "[14:54:18] /workspace/src/tree/updater_prune.cc:74: tree pruning end, 1 roots, 112 extra nodes, 0 pruned nodes, max_depth=8\n",
      "[24]\teval-auc:0.987819\ttrain-auc:0.989689\n",
      "[14:54:19] /workspace/src/tree/updater_prune.cc:74: tree pruning end, 1 roots, 146 extra nodes, 0 pruned nodes, max_depth=8\n",
      "[25]\teval-auc:0.987851\ttrain-auc:0.989747\n",
      "[14:54:20] /workspace/src/tree/updater_prune.cc:74: tree pruning end, 1 roots, 140 extra nodes, 0 pruned nodes, max_depth=8\n",
      "[26]\teval-auc:0.987913\ttrain-auc:0.989818\n",
      "[14:54:21] /workspace/src/tree/updater_prune.cc:74: tree pruning end, 1 roots, 120 extra nodes, 0 pruned nodes, max_depth=8\n",
      "[27]\teval-auc:0.987931\ttrain-auc:0.989881\n",
      "[14:54:21] /workspace/src/tree/updater_prune.cc:74: tree pruning end, 1 roots, 86 extra nodes, 0 pruned nodes, max_depth=8\n",
      "[28]\teval-auc:0.987985\ttrain-auc:0.989913\n",
      "[14:54:22] /workspace/src/tree/updater_prune.cc:74: tree pruning end, 1 roots, 64 extra nodes, 0 pruned nodes, max_depth=8\n",
      "[29]\teval-auc:0.988031\ttrain-auc:0.98995\n",
      "[14:54:23] /workspace/src/tree/updater_prune.cc:74: tree pruning end, 1 roots, 106 extra nodes, 0 pruned nodes, max_depth=8\n",
      "[30]\teval-auc:0.988055\ttrain-auc:0.989998\n",
      "[14:54:24] /workspace/src/tree/updater_prune.cc:74: tree pruning end, 1 roots, 62 extra nodes, 0 pruned nodes, max_depth=8\n",
      "[31]\teval-auc:0.988067\ttrain-auc:0.990011\n",
      "[14:54:25] /workspace/src/tree/updater_prune.cc:74: tree pruning end, 1 roots, 60 extra nodes, 0 pruned nodes, max_depth=8\n",
      "[32]\teval-auc:0.988079\ttrain-auc:0.990042\n",
      "[14:54:25] /workspace/src/tree/updater_prune.cc:74: tree pruning end, 1 roots, 82 extra nodes, 0 pruned nodes, max_depth=8\n",
      "[33]\teval-auc:0.988101\ttrain-auc:0.990081\n",
      "[14:54:26] /workspace/src/tree/updater_prune.cc:74: tree pruning end, 1 roots, 80 extra nodes, 0 pruned nodes, max_depth=8\n",
      "[34]\teval-auc:0.988097\ttrain-auc:0.990106\n",
      "[14:54:27] /workspace/src/tree/updater_prune.cc:74: tree pruning end, 1 roots, 68 extra nodes, 0 pruned nodes, max_depth=8\n",
      "[35]\teval-auc:0.988125\ttrain-auc:0.990133\n",
      "[14:54:28] /workspace/src/tree/updater_prune.cc:74: tree pruning end, 1 roots, 104 extra nodes, 0 pruned nodes, max_depth=8\n",
      "[36]\teval-auc:0.988142\ttrain-auc:0.990169\n",
      "[14:54:29] /workspace/src/tree/updater_prune.cc:74: tree pruning end, 1 roots, 76 extra nodes, 0 pruned nodes, max_depth=8\n",
      "[37]\teval-auc:0.988148\ttrain-auc:0.990198\n",
      "[14:54:29] /workspace/src/tree/updater_prune.cc:74: tree pruning end, 1 roots, 118 extra nodes, 0 pruned nodes, max_depth=8\n",
      "[38]\teval-auc:0.988177\ttrain-auc:0.990248\n",
      "[14:54:30] /workspace/src/tree/updater_prune.cc:74: tree pruning end, 1 roots, 62 extra nodes, 0 pruned nodes, max_depth=8\n",
      "[39]\teval-auc:0.988184\ttrain-auc:0.990268\n",
      "[14:54:31] /workspace/src/tree/updater_prune.cc:74: tree pruning end, 1 roots, 66 extra nodes, 0 pruned nodes, max_depth=8\n",
      "[40]\teval-auc:0.988216\ttrain-auc:0.990314\n",
      "[14:54:32] /workspace/src/tree/updater_prune.cc:74: tree pruning end, 1 roots, 38 extra nodes, 0 pruned nodes, max_depth=8\n",
      "[41]\teval-auc:0.988216\ttrain-auc:0.990319\n",
      "[14:54:32] /workspace/src/tree/updater_prune.cc:74: tree pruning end, 1 roots, 74 extra nodes, 0 pruned nodes, max_depth=8\n",
      "[42]\teval-auc:0.988248\ttrain-auc:0.990362\n",
      "[14:54:33] /workspace/src/tree/updater_prune.cc:74: tree pruning end, 1 roots, 64 extra nodes, 0 pruned nodes, max_depth=8\n",
      "[43]\teval-auc:0.988245\ttrain-auc:0.990376\n",
      "[14:54:34] /workspace/src/tree/updater_prune.cc:74: tree pruning end, 1 roots, 40 extra nodes, 0 pruned nodes, max_depth=8\n",
      "[44]\teval-auc:0.988266\ttrain-auc:0.990393\n",
      "[14:54:35] /workspace/src/tree/updater_prune.cc:74: tree pruning end, 1 roots, 112 extra nodes, 0 pruned nodes, max_depth=8\n",
      "[45]\teval-auc:0.988278\ttrain-auc:0.990428\n",
      "[14:54:35] /workspace/src/tree/updater_prune.cc:74: tree pruning end, 1 roots, 56 extra nodes, 0 pruned nodes, max_depth=8\n",
      "[46]\teval-auc:0.988319\ttrain-auc:0.990449\n"
     ]
    },
    {
     "name": "stdout",
     "output_type": "stream",
     "text": [
      "[14:54:36] /workspace/src/tree/updater_prune.cc:74: tree pruning end, 1 roots, 38 extra nodes, 0 pruned nodes, max_depth=8\n",
      "[47]\teval-auc:0.988342\ttrain-auc:0.990469\n",
      "[14:54:37] /workspace/src/tree/updater_prune.cc:74: tree pruning end, 1 roots, 60 extra nodes, 0 pruned nodes, max_depth=8\n",
      "[48]\teval-auc:0.988335\ttrain-auc:0.990493\n",
      "[14:54:38] /workspace/src/tree/updater_prune.cc:74: tree pruning end, 1 roots, 64 extra nodes, 0 pruned nodes, max_depth=8\n",
      "[49]\teval-auc:0.988356\ttrain-auc:0.990515\n",
      "[14:54:38] /workspace/src/tree/updater_prune.cc:74: tree pruning end, 1 roots, 74 extra nodes, 0 pruned nodes, max_depth=8\n",
      "[50]\teval-auc:0.988365\ttrain-auc:0.990527\n",
      "[14:54:39] /workspace/src/tree/updater_prune.cc:74: tree pruning end, 1 roots, 92 extra nodes, 0 pruned nodes, max_depth=8\n",
      "[51]\teval-auc:0.988371\ttrain-auc:0.990553\n",
      "[14:54:40] /workspace/src/tree/updater_prune.cc:74: tree pruning end, 1 roots, 112 extra nodes, 0 pruned nodes, max_depth=8\n",
      "[52]\teval-auc:0.988409\ttrain-auc:0.990601\n",
      "[14:54:41] /workspace/src/tree/updater_prune.cc:74: tree pruning end, 1 roots, 98 extra nodes, 0 pruned nodes, max_depth=8\n",
      "[53]\teval-auc:0.988421\ttrain-auc:0.990636\n",
      "[14:54:42] /workspace/src/tree/updater_prune.cc:74: tree pruning end, 1 roots, 90 extra nodes, 0 pruned nodes, max_depth=8\n",
      "[54]\teval-auc:0.988425\ttrain-auc:0.990668\n",
      "[14:54:42] /workspace/src/tree/updater_prune.cc:74: tree pruning end, 1 roots, 50 extra nodes, 0 pruned nodes, max_depth=8\n",
      "[55]\teval-auc:0.98843\ttrain-auc:0.990683\n",
      "[14:54:43] /workspace/src/tree/updater_prune.cc:74: tree pruning end, 1 roots, 68 extra nodes, 0 pruned nodes, max_depth=8\n",
      "[56]\teval-auc:0.988443\ttrain-auc:0.990709\n",
      "[14:54:44] /workspace/src/tree/updater_prune.cc:74: tree pruning end, 1 roots, 40 extra nodes, 0 pruned nodes, max_depth=8\n",
      "[57]\teval-auc:0.988449\ttrain-auc:0.99072\n",
      "[14:54:45] /workspace/src/tree/updater_prune.cc:74: tree pruning end, 1 roots, 102 extra nodes, 0 pruned nodes, max_depth=8\n",
      "[58]\teval-auc:0.988457\ttrain-auc:0.990757\n",
      "[14:54:46] /workspace/src/tree/updater_prune.cc:74: tree pruning end, 1 roots, 96 extra nodes, 0 pruned nodes, max_depth=8\n",
      "[59]\teval-auc:0.988463\ttrain-auc:0.990782\n",
      "[14:54:47] /workspace/src/tree/updater_prune.cc:74: tree pruning end, 1 roots, 88 extra nodes, 0 pruned nodes, max_depth=8\n",
      "[60]\teval-auc:0.988464\ttrain-auc:0.990819\n",
      "[14:54:47] /workspace/src/tree/updater_prune.cc:74: tree pruning end, 1 roots, 36 extra nodes, 0 pruned nodes, max_depth=8\n",
      "[61]\teval-auc:0.988468\ttrain-auc:0.990834\n",
      "[14:54:48] /workspace/src/tree/updater_prune.cc:74: tree pruning end, 1 roots, 88 extra nodes, 0 pruned nodes, max_depth=8\n",
      "[62]\teval-auc:0.988483\ttrain-auc:0.990859\n",
      "[14:54:49] /workspace/src/tree/updater_prune.cc:74: tree pruning end, 1 roots, 136 extra nodes, 0 pruned nodes, max_depth=8\n",
      "[63]\teval-auc:0.988488\ttrain-auc:0.990908\n",
      "[14:54:50] /workspace/src/tree/updater_prune.cc:74: tree pruning end, 1 roots, 54 extra nodes, 0 pruned nodes, max_depth=8\n",
      "[64]\teval-auc:0.988499\ttrain-auc:0.990922\n",
      "[14:54:51] /workspace/src/tree/updater_prune.cc:74: tree pruning end, 1 roots, 34 extra nodes, 0 pruned nodes, max_depth=8\n",
      "[65]\teval-auc:0.98849\ttrain-auc:0.990923\n",
      "[14:54:52] /workspace/src/tree/updater_prune.cc:74: tree pruning end, 1 roots, 128 extra nodes, 0 pruned nodes, max_depth=8\n",
      "[66]\teval-auc:0.988503\ttrain-auc:0.990964\n",
      "[14:54:52] /workspace/src/tree/updater_prune.cc:74: tree pruning end, 1 roots, 74 extra nodes, 0 pruned nodes, max_depth=8\n",
      "[67]\teval-auc:0.988507\ttrain-auc:0.990984\n",
      "[14:54:53] /workspace/src/tree/updater_prune.cc:74: tree pruning end, 1 roots, 50 extra nodes, 0 pruned nodes, max_depth=8\n",
      "[68]\teval-auc:0.988505\ttrain-auc:0.990999\n",
      "[14:54:54] /workspace/src/tree/updater_prune.cc:74: tree pruning end, 1 roots, 118 extra nodes, 0 pruned nodes, max_depth=8\n",
      "[69]\teval-auc:0.988507\ttrain-auc:0.991021\n",
      "[14:54:55] /workspace/src/tree/updater_prune.cc:74: tree pruning end, 1 roots, 74 extra nodes, 0 pruned nodes, max_depth=8\n",
      "[70]\teval-auc:0.988501\ttrain-auc:0.991042\n",
      "[14:54:56] /workspace/src/tree/updater_prune.cc:74: tree pruning end, 1 roots, 96 extra nodes, 0 pruned nodes, max_depth=8\n",
      "[71]\teval-auc:0.988494\ttrain-auc:0.991064\n",
      "[14:54:56] /workspace/src/tree/updater_prune.cc:74: tree pruning end, 1 roots, 90 extra nodes, 0 pruned nodes, max_depth=8\n",
      "[72]\teval-auc:0.9885\ttrain-auc:0.991095\n",
      "[14:54:57] /workspace/src/tree/updater_prune.cc:74: tree pruning end, 1 roots, 54 extra nodes, 0 pruned nodes, max_depth=8\n",
      "[73]\teval-auc:0.988494\ttrain-auc:0.991102\n",
      "[14:54:58] /workspace/src/tree/updater_prune.cc:74: tree pruning end, 1 roots, 106 extra nodes, 0 pruned nodes, max_depth=8\n",
      "[74]\teval-auc:0.988507\ttrain-auc:0.991125\n",
      "[14:54:59] /workspace/src/tree/updater_prune.cc:74: tree pruning end, 1 roots, 76 extra nodes, 0 pruned nodes, max_depth=8\n",
      "[75]\teval-auc:0.988508\ttrain-auc:0.991162\n",
      "[14:55:00] /workspace/src/tree/updater_prune.cc:74: tree pruning end, 1 roots, 56 extra nodes, 0 pruned nodes, max_depth=8\n",
      "[76]\teval-auc:0.988514\ttrain-auc:0.991182\n",
      "[14:55:01] /workspace/src/tree/updater_prune.cc:74: tree pruning end, 1 roots, 44 extra nodes, 0 pruned nodes, max_depth=8\n",
      "[77]\teval-auc:0.988521\ttrain-auc:0.991191\n",
      "[14:55:01] /workspace/src/tree/updater_prune.cc:74: tree pruning end, 1 roots, 158 extra nodes, 0 pruned nodes, max_depth=8\n",
      "[78]\teval-auc:0.988528\ttrain-auc:0.991227\n",
      "[14:55:02] /workspace/src/tree/updater_prune.cc:74: tree pruning end, 1 roots, 66 extra nodes, 0 pruned nodes, max_depth=8\n",
      "[79]\teval-auc:0.988516\ttrain-auc:0.991239\n",
      "[14:55:03] /workspace/src/tree/updater_prune.cc:74: tree pruning end, 1 roots, 112 extra nodes, 0 pruned nodes, max_depth=8\n",
      "[80]\teval-auc:0.98852\ttrain-auc:0.991263\n",
      "[14:55:04] /workspace/src/tree/updater_prune.cc:74: tree pruning end, 1 roots, 76 extra nodes, 0 pruned nodes, max_depth=8\n",
      "[81]\teval-auc:0.98851\ttrain-auc:0.991288\n",
      "[14:55:05] /workspace/src/tree/updater_prune.cc:74: tree pruning end, 1 roots, 110 extra nodes, 0 pruned nodes, max_depth=8\n",
      "[82]\teval-auc:0.988507\ttrain-auc:0.991315\n",
      "[14:55:05] /workspace/src/tree/updater_prune.cc:74: tree pruning end, 1 roots, 86 extra nodes, 0 pruned nodes, max_depth=8\n",
      "[83]\teval-auc:0.988506\ttrain-auc:0.991333\n",
      "[14:55:06] /workspace/src/tree/updater_prune.cc:74: tree pruning end, 1 roots, 64 extra nodes, 0 pruned nodes, max_depth=8\n",
      "[84]\teval-auc:0.988519\ttrain-auc:0.991353\n",
      "[14:55:07] /workspace/src/tree/updater_prune.cc:74: tree pruning end, 1 roots, 92 extra nodes, 0 pruned nodes, max_depth=8\n",
      "[85]\teval-auc:0.988526\ttrain-auc:0.991382\n",
      "[14:55:08] /workspace/src/tree/updater_prune.cc:74: tree pruning end, 1 roots, 64 extra nodes, 0 pruned nodes, max_depth=8\n",
      "[86]\teval-auc:0.988533\ttrain-auc:0.991397\n",
      "[14:55:09] /workspace/src/tree/updater_prune.cc:74: tree pruning end, 1 roots, 74 extra nodes, 0 pruned nodes, max_depth=8\n",
      "[87]\teval-auc:0.988522\ttrain-auc:0.991412\n",
      "[14:55:10] /workspace/src/tree/updater_prune.cc:74: tree pruning end, 1 roots, 92 extra nodes, 0 pruned nodes, max_depth=8\n",
      "[88]\teval-auc:0.988531\ttrain-auc:0.991431\n",
      "[14:55:11] /workspace/src/tree/updater_prune.cc:74: tree pruning end, 1 roots, 94 extra nodes, 0 pruned nodes, max_depth=8\n",
      "[89]\teval-auc:0.988556\ttrain-auc:0.991455\n",
      "[14:55:11] /workspace/src/tree/updater_prune.cc:74: tree pruning end, 1 roots, 112 extra nodes, 0 pruned nodes, max_depth=8\n",
      "[90]\teval-auc:0.988553\ttrain-auc:0.991476\n",
      "[14:55:12] /workspace/src/tree/updater_prune.cc:74: tree pruning end, 1 roots, 58 extra nodes, 0 pruned nodes, max_depth=8\n",
      "[91]\teval-auc:0.988554\ttrain-auc:0.991485\n",
      "[14:55:13] /workspace/src/tree/updater_prune.cc:74: tree pruning end, 1 roots, 62 extra nodes, 0 pruned nodes, max_depth=8\n",
      "[92]\teval-auc:0.988554\ttrain-auc:0.991505\n",
      "[14:55:14] /workspace/src/tree/updater_prune.cc:74: tree pruning end, 1 roots, 62 extra nodes, 0 pruned nodes, max_depth=8\n",
      "[93]\teval-auc:0.988549\ttrain-auc:0.991515\n",
      "[14:55:15] /workspace/src/tree/updater_prune.cc:74: tree pruning end, 1 roots, 100 extra nodes, 0 pruned nodes, max_depth=8\n",
      "[94]\teval-auc:0.988555\ttrain-auc:0.991538\n",
      "[14:55:16] /workspace/src/tree/updater_prune.cc:74: tree pruning end, 1 roots, 90 extra nodes, 0 pruned nodes, max_depth=8\n",
      "[95]\teval-auc:0.988548\ttrain-auc:0.991561\n",
      "[14:55:16] /workspace/src/tree/updater_prune.cc:74: tree pruning end, 1 roots, 56 extra nodes, 0 pruned nodes, max_depth=8\n",
      "[96]\teval-auc:0.988557\ttrain-auc:0.991572\n"
     ]
    },
    {
     "name": "stdout",
     "output_type": "stream",
     "text": [
      "[14:55:17] /workspace/src/tree/updater_prune.cc:74: tree pruning end, 1 roots, 96 extra nodes, 0 pruned nodes, max_depth=8\n",
      "[97]\teval-auc:0.98855\ttrain-auc:0.991596\n",
      "[14:55:18] /workspace/src/tree/updater_prune.cc:74: tree pruning end, 1 roots, 82 extra nodes, 0 pruned nodes, max_depth=8\n",
      "[98]\teval-auc:0.988546\ttrain-auc:0.991609\n",
      "[14:55:19] /workspace/src/tree/updater_prune.cc:74: tree pruning end, 1 roots, 60 extra nodes, 0 pruned nodes, max_depth=8\n",
      "[99]\teval-auc:0.988545\ttrain-auc:0.991622\n",
      "[14:55:27] /workspace/src/tree/updater_prune.cc:74: tree pruning end, 1 roots, 332 extra nodes, 0 pruned nodes, max_depth=8\n",
      "[0]\teval-auc:0.981713\ttrain-auc:0.984252\n",
      "Multiple eval metrics have been passed: 'train-auc' will be used for early stopping.\n",
      "\n",
      "Will train until train-auc hasn't improved in 10 rounds.\n",
      "[14:55:28] /workspace/src/tree/updater_prune.cc:74: tree pruning end, 1 roots, 356 extra nodes, 0 pruned nodes, max_depth=8\n",
      "[1]\teval-auc:0.984315\ttrain-auc:0.986918\n",
      "[14:55:29] /workspace/src/tree/updater_prune.cc:74: tree pruning end, 1 roots, 374 extra nodes, 0 pruned nodes, max_depth=8\n",
      "[2]\teval-auc:0.985746\ttrain-auc:0.987536\n",
      "[14:55:30] /workspace/src/tree/updater_prune.cc:74: tree pruning end, 1 roots, 366 extra nodes, 0 pruned nodes, max_depth=8\n",
      "[3]\teval-auc:0.986502\ttrain-auc:0.988016\n",
      "[14:55:31] /workspace/src/tree/updater_prune.cc:74: tree pruning end, 1 roots, 360 extra nodes, 0 pruned nodes, max_depth=8\n",
      "[4]\teval-auc:0.987674\ttrain-auc:0.988193\n",
      "[14:55:32] /workspace/src/tree/updater_prune.cc:74: tree pruning end, 1 roots, 300 extra nodes, 0 pruned nodes, max_depth=8\n",
      "[5]\teval-auc:0.987705\ttrain-auc:0.988349\n",
      "[14:55:33] /workspace/src/tree/updater_prune.cc:74: tree pruning end, 1 roots, 294 extra nodes, 0 pruned nodes, max_depth=8\n",
      "[6]\teval-auc:0.988008\ttrain-auc:0.988566\n",
      "[14:55:34] /workspace/src/tree/updater_prune.cc:74: tree pruning end, 1 roots, 310 extra nodes, 0 pruned nodes, max_depth=8\n",
      "[7]\teval-auc:0.988382\ttrain-auc:0.988669\n",
      "[14:55:35] /workspace/src/tree/updater_prune.cc:74: tree pruning end, 1 roots, 340 extra nodes, 0 pruned nodes, max_depth=8\n",
      "[8]\teval-auc:0.988449\ttrain-auc:0.988747\n",
      "[14:55:35] /workspace/src/tree/updater_prune.cc:74: tree pruning end, 1 roots, 292 extra nodes, 0 pruned nodes, max_depth=8\n",
      "[9]\teval-auc:0.988539\ttrain-auc:0.988823\n",
      "[14:55:36] /workspace/src/tree/updater_prune.cc:74: tree pruning end, 1 roots, 262 extra nodes, 0 pruned nodes, max_depth=8\n",
      "[10]\teval-auc:0.988552\ttrain-auc:0.988901\n",
      "[14:55:37] /workspace/src/tree/updater_prune.cc:74: tree pruning end, 1 roots, 282 extra nodes, 0 pruned nodes, max_depth=8\n",
      "[11]\teval-auc:0.988605\ttrain-auc:0.988921\n",
      "[14:55:38] /workspace/src/tree/updater_prune.cc:74: tree pruning end, 1 roots, 216 extra nodes, 0 pruned nodes, max_depth=8\n",
      "[12]\teval-auc:0.988721\ttrain-auc:0.989009\n",
      "[14:55:39] /workspace/src/tree/updater_prune.cc:74: tree pruning end, 1 roots, 232 extra nodes, 0 pruned nodes, max_depth=8\n",
      "[13]\teval-auc:0.988735\ttrain-auc:0.989079\n",
      "[14:55:40] /workspace/src/tree/updater_prune.cc:74: tree pruning end, 1 roots, 194 extra nodes, 0 pruned nodes, max_depth=8\n",
      "[14]\teval-auc:0.988749\ttrain-auc:0.989107\n",
      "[14:55:41] /workspace/src/tree/updater_prune.cc:74: tree pruning end, 1 roots, 214 extra nodes, 0 pruned nodes, max_depth=8\n",
      "[15]\teval-auc:0.988772\ttrain-auc:0.98916\n",
      "[14:55:42] /workspace/src/tree/updater_prune.cc:74: tree pruning end, 1 roots, 178 extra nodes, 0 pruned nodes, max_depth=8\n",
      "[16]\teval-auc:0.988818\ttrain-auc:0.989196\n",
      "[14:55:43] /workspace/src/tree/updater_prune.cc:74: tree pruning end, 1 roots, 208 extra nodes, 0 pruned nodes, max_depth=8\n",
      "[17]\teval-auc:0.988588\ttrain-auc:0.989154\n",
      "[14:55:44] /workspace/src/tree/updater_prune.cc:74: tree pruning end, 1 roots, 168 extra nodes, 0 pruned nodes, max_depth=8\n",
      "[18]\teval-auc:0.988627\ttrain-auc:0.989202\n",
      "[14:55:45] /workspace/src/tree/updater_prune.cc:74: tree pruning end, 1 roots, 154 extra nodes, 0 pruned nodes, max_depth=8\n",
      "[19]\teval-auc:0.988688\ttrain-auc:0.989274\n",
      "[14:55:46] /workspace/src/tree/updater_prune.cc:74: tree pruning end, 1 roots, 174 extra nodes, 0 pruned nodes, max_depth=8\n",
      "[20]\teval-auc:0.988885\ttrain-auc:0.989343\n",
      "[14:55:47] /workspace/src/tree/updater_prune.cc:74: tree pruning end, 1 roots, 146 extra nodes, 0 pruned nodes, max_depth=8\n",
      "[21]\teval-auc:0.988878\ttrain-auc:0.98938\n",
      "[14:55:47] /workspace/src/tree/updater_prune.cc:74: tree pruning end, 1 roots, 140 extra nodes, 0 pruned nodes, max_depth=8\n",
      "[22]\teval-auc:0.988861\ttrain-auc:0.989382\n",
      "[14:55:48] /workspace/src/tree/updater_prune.cc:74: tree pruning end, 1 roots, 138 extra nodes, 0 pruned nodes, max_depth=8\n",
      "[23]\teval-auc:0.988971\ttrain-auc:0.989482\n",
      "[14:55:49] /workspace/src/tree/updater_prune.cc:74: tree pruning end, 1 roots, 104 extra nodes, 0 pruned nodes, max_depth=8\n",
      "[24]\teval-auc:0.988949\ttrain-auc:0.989469\n",
      "[14:55:50] /workspace/src/tree/updater_prune.cc:74: tree pruning end, 1 roots, 120 extra nodes, 0 pruned nodes, max_depth=8\n",
      "[25]\teval-auc:0.988972\ttrain-auc:0.989516\n",
      "[14:55:51] /workspace/src/tree/updater_prune.cc:74: tree pruning end, 1 roots, 118 extra nodes, 0 pruned nodes, max_depth=8\n",
      "[26]\teval-auc:0.989033\ttrain-auc:0.989582\n",
      "[14:55:52] /workspace/src/tree/updater_prune.cc:74: tree pruning end, 1 roots, 86 extra nodes, 0 pruned nodes, max_depth=8\n",
      "[27]\teval-auc:0.989063\ttrain-auc:0.989614\n",
      "[14:55:52] /workspace/src/tree/updater_prune.cc:74: tree pruning end, 1 roots, 60 extra nodes, 0 pruned nodes, max_depth=8\n",
      "[28]\teval-auc:0.989081\ttrain-auc:0.989634\n",
      "[14:55:53] /workspace/src/tree/updater_prune.cc:74: tree pruning end, 1 roots, 36 extra nodes, 0 pruned nodes, max_depth=8\n",
      "[29]\teval-auc:0.989107\ttrain-auc:0.989638\n",
      "[14:55:54] /workspace/src/tree/updater_prune.cc:74: tree pruning end, 1 roots, 128 extra nodes, 0 pruned nodes, max_depth=8\n",
      "[30]\teval-auc:0.989146\ttrain-auc:0.989691\n",
      "[14:55:55] /workspace/src/tree/updater_prune.cc:74: tree pruning end, 1 roots, 70 extra nodes, 0 pruned nodes, max_depth=8\n",
      "[31]\teval-auc:0.989191\ttrain-auc:0.989735\n",
      "[14:55:56] /workspace/src/tree/updater_prune.cc:74: tree pruning end, 1 roots, 108 extra nodes, 0 pruned nodes, max_depth=8\n",
      "[32]\teval-auc:0.989216\ttrain-auc:0.989782\n",
      "[14:55:56] /workspace/src/tree/updater_prune.cc:74: tree pruning end, 1 roots, 80 extra nodes, 0 pruned nodes, max_depth=8\n",
      "[33]\teval-auc:0.989211\ttrain-auc:0.989818\n",
      "[14:55:57] /workspace/src/tree/updater_prune.cc:74: tree pruning end, 1 roots, 62 extra nodes, 0 pruned nodes, max_depth=8\n",
      "[34]\teval-auc:0.98923\ttrain-auc:0.989834\n",
      "[14:55:58] /workspace/src/tree/updater_prune.cc:74: tree pruning end, 1 roots, 78 extra nodes, 0 pruned nodes, max_depth=8\n",
      "[35]\teval-auc:0.989231\ttrain-auc:0.98987\n",
      "[14:55:59] /workspace/src/tree/updater_prune.cc:74: tree pruning end, 1 roots, 54 extra nodes, 0 pruned nodes, max_depth=8\n",
      "[36]\teval-auc:0.989236\ttrain-auc:0.989896\n",
      "[14:55:59] /workspace/src/tree/updater_prune.cc:74: tree pruning end, 1 roots, 64 extra nodes, 0 pruned nodes, max_depth=8\n",
      "[37]\teval-auc:0.989249\ttrain-auc:0.989926\n",
      "[14:56:00] /workspace/src/tree/updater_prune.cc:74: tree pruning end, 1 roots, 86 extra nodes, 0 pruned nodes, max_depth=8\n",
      "[38]\teval-auc:0.989281\ttrain-auc:0.989961\n",
      "[14:56:01] /workspace/src/tree/updater_prune.cc:74: tree pruning end, 1 roots, 42 extra nodes, 0 pruned nodes, max_depth=8\n",
      "[39]\teval-auc:0.9893\ttrain-auc:0.989986\n",
      "[14:56:02] /workspace/src/tree/updater_prune.cc:74: tree pruning end, 1 roots, 50 extra nodes, 0 pruned nodes, max_depth=8\n",
      "[40]\teval-auc:0.989328\ttrain-auc:0.990013\n",
      "[14:56:03] /workspace/src/tree/updater_prune.cc:74: tree pruning end, 1 roots, 78 extra nodes, 0 pruned nodes, max_depth=8\n",
      "[41]\teval-auc:0.989352\ttrain-auc:0.99004\n",
      "[14:56:03] /workspace/src/tree/updater_prune.cc:74: tree pruning end, 1 roots, 72 extra nodes, 0 pruned nodes, max_depth=8\n",
      "[42]\teval-auc:0.989335\ttrain-auc:0.990063\n",
      "[14:56:04] /workspace/src/tree/updater_prune.cc:74: tree pruning end, 1 roots, 36 extra nodes, 0 pruned nodes, max_depth=8\n",
      "[43]\teval-auc:0.989343\ttrain-auc:0.990072\n",
      "[14:56:05] /workspace/src/tree/updater_prune.cc:74: tree pruning end, 1 roots, 60 extra nodes, 0 pruned nodes, max_depth=8\n",
      "[44]\teval-auc:0.989356\ttrain-auc:0.9901\n",
      "[14:56:06] /workspace/src/tree/updater_prune.cc:74: tree pruning end, 1 roots, 66 extra nodes, 0 pruned nodes, max_depth=8\n",
      "[45]\teval-auc:0.98936\ttrain-auc:0.990125\n"
     ]
    },
    {
     "name": "stdout",
     "output_type": "stream",
     "text": [
      "[14:56:06] /workspace/src/tree/updater_prune.cc:74: tree pruning end, 1 roots, 36 extra nodes, 0 pruned nodes, max_depth=8\n",
      "[46]\teval-auc:0.989365\ttrain-auc:0.990142\n",
      "[14:56:07] /workspace/src/tree/updater_prune.cc:74: tree pruning end, 1 roots, 80 extra nodes, 0 pruned nodes, max_depth=8\n",
      "[47]\teval-auc:0.989375\ttrain-auc:0.990173\n",
      "[14:56:08] /workspace/src/tree/updater_prune.cc:74: tree pruning end, 1 roots, 26 extra nodes, 0 pruned nodes, max_depth=8\n",
      "[48]\teval-auc:0.989381\ttrain-auc:0.990178\n",
      "[14:56:08] /workspace/src/tree/updater_prune.cc:74: tree pruning end, 1 roots, 72 extra nodes, 0 pruned nodes, max_depth=8\n",
      "[49]\teval-auc:0.989395\ttrain-auc:0.990204\n",
      "[14:56:09] /workspace/src/tree/updater_prune.cc:74: tree pruning end, 1 roots, 106 extra nodes, 0 pruned nodes, max_depth=8\n",
      "[50]\teval-auc:0.989397\ttrain-auc:0.990236\n",
      "[14:56:10] /workspace/src/tree/updater_prune.cc:74: tree pruning end, 1 roots, 82 extra nodes, 0 pruned nodes, max_depth=8\n",
      "[51]\teval-auc:0.98942\ttrain-auc:0.990273\n",
      "[14:56:11] /workspace/src/tree/updater_prune.cc:74: tree pruning end, 1 roots, 106 extra nodes, 0 pruned nodes, max_depth=8\n",
      "[52]\teval-auc:0.989445\ttrain-auc:0.99031\n",
      "[14:56:12] /workspace/src/tree/updater_prune.cc:74: tree pruning end, 1 roots, 96 extra nodes, 0 pruned nodes, max_depth=8\n",
      "[53]\teval-auc:0.989443\ttrain-auc:0.990333\n",
      "[14:56:13] /workspace/src/tree/updater_prune.cc:74: tree pruning end, 1 roots, 84 extra nodes, 0 pruned nodes, max_depth=8\n",
      "[54]\teval-auc:0.989446\ttrain-auc:0.990361\n",
      "[14:56:13] /workspace/src/tree/updater_prune.cc:74: tree pruning end, 1 roots, 82 extra nodes, 0 pruned nodes, max_depth=8\n",
      "[55]\teval-auc:0.989446\ttrain-auc:0.990384\n",
      "[14:56:14] /workspace/src/tree/updater_prune.cc:74: tree pruning end, 1 roots, 74 extra nodes, 0 pruned nodes, max_depth=8\n",
      "[56]\teval-auc:0.989447\ttrain-auc:0.990408\n",
      "[14:56:15] /workspace/src/tree/updater_prune.cc:74: tree pruning end, 1 roots, 54 extra nodes, 0 pruned nodes, max_depth=8\n",
      "[57]\teval-auc:0.989456\ttrain-auc:0.990434\n",
      "[14:56:16] /workspace/src/tree/updater_prune.cc:74: tree pruning end, 1 roots, 78 extra nodes, 0 pruned nodes, max_depth=8\n",
      "[58]\teval-auc:0.989452\ttrain-auc:0.99046\n",
      "[14:56:17] /workspace/src/tree/updater_prune.cc:74: tree pruning end, 1 roots, 112 extra nodes, 0 pruned nodes, max_depth=8\n",
      "[59]\teval-auc:0.98948\ttrain-auc:0.99049\n",
      "[14:56:17] /workspace/src/tree/updater_prune.cc:74: tree pruning end, 1 roots, 98 extra nodes, 0 pruned nodes, max_depth=8\n",
      "[60]\teval-auc:0.989487\ttrain-auc:0.990529\n",
      "[14:56:18] /workspace/src/tree/updater_prune.cc:74: tree pruning end, 1 roots, 72 extra nodes, 0 pruned nodes, max_depth=8\n",
      "[61]\teval-auc:0.989476\ttrain-auc:0.990558\n",
      "[14:56:19] /workspace/src/tree/updater_prune.cc:74: tree pruning end, 1 roots, 112 extra nodes, 0 pruned nodes, max_depth=8\n",
      "[62]\teval-auc:0.989488\ttrain-auc:0.990599\n",
      "[14:56:20] /workspace/src/tree/updater_prune.cc:74: tree pruning end, 1 roots, 80 extra nodes, 0 pruned nodes, max_depth=8\n",
      "[63]\teval-auc:0.9895\ttrain-auc:0.990624\n",
      "[14:56:21] /workspace/src/tree/updater_prune.cc:74: tree pruning end, 1 roots, 174 extra nodes, 0 pruned nodes, max_depth=8\n",
      "[64]\teval-auc:0.989537\ttrain-auc:0.990688\n",
      "[14:56:22] /workspace/src/tree/updater_prune.cc:74: tree pruning end, 1 roots, 78 extra nodes, 0 pruned nodes, max_depth=8\n",
      "[65]\teval-auc:0.989568\ttrain-auc:0.990725\n",
      "[14:56:22] /workspace/src/tree/updater_prune.cc:74: tree pruning end, 1 roots, 98 extra nodes, 0 pruned nodes, max_depth=8\n",
      "[66]\teval-auc:0.989585\ttrain-auc:0.99076\n",
      "[14:56:23] /workspace/src/tree/updater_prune.cc:74: tree pruning end, 1 roots, 44 extra nodes, 0 pruned nodes, max_depth=8\n",
      "[67]\teval-auc:0.989584\ttrain-auc:0.990778\n",
      "[14:56:24] /workspace/src/tree/updater_prune.cc:74: tree pruning end, 1 roots, 82 extra nodes, 0 pruned nodes, max_depth=8\n",
      "[68]\teval-auc:0.989583\ttrain-auc:0.990802\n",
      "[14:56:25] /workspace/src/tree/updater_prune.cc:74: tree pruning end, 1 roots, 74 extra nodes, 0 pruned nodes, max_depth=8\n",
      "[69]\teval-auc:0.989586\ttrain-auc:0.990826\n",
      "[14:56:26] /workspace/src/tree/updater_prune.cc:74: tree pruning end, 1 roots, 110 extra nodes, 0 pruned nodes, max_depth=8\n",
      "[70]\teval-auc:0.989583\ttrain-auc:0.990858\n",
      "[14:56:27] /workspace/src/tree/updater_prune.cc:74: tree pruning end, 1 roots, 76 extra nodes, 0 pruned nodes, max_depth=8\n",
      "[71]\teval-auc:0.989588\ttrain-auc:0.990882\n",
      "[14:56:28] /workspace/src/tree/updater_prune.cc:74: tree pruning end, 1 roots, 50 extra nodes, 0 pruned nodes, max_depth=8\n",
      "[72]\teval-auc:0.989601\ttrain-auc:0.990902\n",
      "[14:56:28] /workspace/src/tree/updater_prune.cc:74: tree pruning end, 1 roots, 114 extra nodes, 0 pruned nodes, max_depth=8\n",
      "[73]\teval-auc:0.989607\ttrain-auc:0.990919\n",
      "[14:56:29] /workspace/src/tree/updater_prune.cc:74: tree pruning end, 1 roots, 122 extra nodes, 0 pruned nodes, max_depth=8\n",
      "[74]\teval-auc:0.989615\ttrain-auc:0.990961\n",
      "[14:56:30] /workspace/src/tree/updater_prune.cc:74: tree pruning end, 1 roots, 36 extra nodes, 0 pruned nodes, max_depth=8\n",
      "[75]\teval-auc:0.989617\ttrain-auc:0.990968\n",
      "[14:56:31] /workspace/src/tree/updater_prune.cc:74: tree pruning end, 1 roots, 72 extra nodes, 0 pruned nodes, max_depth=8\n",
      "[76]\teval-auc:0.989622\ttrain-auc:0.990986\n",
      "[14:56:32] /workspace/src/tree/updater_prune.cc:74: tree pruning end, 1 roots, 66 extra nodes, 0 pruned nodes, max_depth=8\n",
      "[77]\teval-auc:0.989631\ttrain-auc:0.991001\n",
      "[14:56:32] /workspace/src/tree/updater_prune.cc:74: tree pruning end, 1 roots, 72 extra nodes, 0 pruned nodes, max_depth=8\n",
      "[78]\teval-auc:0.98963\ttrain-auc:0.991015\n",
      "[14:56:33] /workspace/src/tree/updater_prune.cc:74: tree pruning end, 1 roots, 82 extra nodes, 0 pruned nodes, max_depth=8\n",
      "[79]\teval-auc:0.989647\ttrain-auc:0.991033\n",
      "[14:56:34] /workspace/src/tree/updater_prune.cc:74: tree pruning end, 1 roots, 82 extra nodes, 0 pruned nodes, max_depth=8\n",
      "[80]\teval-auc:0.989636\ttrain-auc:0.991052\n",
      "[14:56:35] /workspace/src/tree/updater_prune.cc:74: tree pruning end, 1 roots, 72 extra nodes, 0 pruned nodes, max_depth=8\n",
      "[81]\teval-auc:0.989625\ttrain-auc:0.991073\n",
      "[14:56:36] /workspace/src/tree/updater_prune.cc:74: tree pruning end, 1 roots, 56 extra nodes, 0 pruned nodes, max_depth=8\n",
      "[82]\teval-auc:0.989622\ttrain-auc:0.991087\n",
      "[14:56:36] /workspace/src/tree/updater_prune.cc:74: tree pruning end, 1 roots, 56 extra nodes, 0 pruned nodes, max_depth=8\n",
      "[83]\teval-auc:0.989624\ttrain-auc:0.991102\n",
      "[14:56:37] /workspace/src/tree/updater_prune.cc:74: tree pruning end, 1 roots, 94 extra nodes, 0 pruned nodes, max_depth=8\n",
      "[84]\teval-auc:0.989629\ttrain-auc:0.991127\n",
      "[14:56:38] /workspace/src/tree/updater_prune.cc:74: tree pruning end, 1 roots, 58 extra nodes, 0 pruned nodes, max_depth=8\n",
      "[85]\teval-auc:0.989637\ttrain-auc:0.991142\n",
      "[14:56:39] /workspace/src/tree/updater_prune.cc:74: tree pruning end, 1 roots, 50 extra nodes, 0 pruned nodes, max_depth=8\n",
      "[86]\teval-auc:0.989637\ttrain-auc:0.991154\n",
      "[14:56:40] /workspace/src/tree/updater_prune.cc:74: tree pruning end, 1 roots, 66 extra nodes, 0 pruned nodes, max_depth=8\n",
      "[87]\teval-auc:0.989634\ttrain-auc:0.991171\n",
      "[14:56:41] /workspace/src/tree/updater_prune.cc:74: tree pruning end, 1 roots, 118 extra nodes, 0 pruned nodes, max_depth=8\n",
      "[88]\teval-auc:0.989636\ttrain-auc:0.9912\n",
      "[14:56:42] /workspace/src/tree/updater_prune.cc:74: tree pruning end, 1 roots, 66 extra nodes, 0 pruned nodes, max_depth=8\n",
      "[89]\teval-auc:0.989634\ttrain-auc:0.991218\n",
      "[14:56:42] /workspace/src/tree/updater_prune.cc:74: tree pruning end, 1 roots, 68 extra nodes, 0 pruned nodes, max_depth=8\n",
      "[90]\teval-auc:0.989628\ttrain-auc:0.99123\n",
      "[14:56:43] /workspace/src/tree/updater_prune.cc:74: tree pruning end, 1 roots, 104 extra nodes, 0 pruned nodes, max_depth=8\n",
      "[91]\teval-auc:0.989628\ttrain-auc:0.991248\n",
      "[14:56:44] /workspace/src/tree/updater_prune.cc:74: tree pruning end, 1 roots, 72 extra nodes, 0 pruned nodes, max_depth=8\n",
      "[92]\teval-auc:0.989645\ttrain-auc:0.991264\n",
      "[14:56:45] /workspace/src/tree/updater_prune.cc:74: tree pruning end, 1 roots, 132 extra nodes, 0 pruned nodes, max_depth=8\n",
      "[93]\teval-auc:0.989639\ttrain-auc:0.9913\n",
      "[14:56:46] /workspace/src/tree/updater_prune.cc:74: tree pruning end, 1 roots, 84 extra nodes, 0 pruned nodes, max_depth=8\n",
      "[94]\teval-auc:0.989653\ttrain-auc:0.991329\n",
      "[14:56:47] /workspace/src/tree/updater_prune.cc:74: tree pruning end, 1 roots, 88 extra nodes, 0 pruned nodes, max_depth=8\n",
      "[95]\teval-auc:0.989657\ttrain-auc:0.991348\n"
     ]
    },
    {
     "name": "stdout",
     "output_type": "stream",
     "text": [
      "[14:56:48] /workspace/src/tree/updater_prune.cc:74: tree pruning end, 1 roots, 62 extra nodes, 0 pruned nodes, max_depth=8\n",
      "[96]\teval-auc:0.98966\ttrain-auc:0.991356\n",
      "[14:56:48] /workspace/src/tree/updater_prune.cc:74: tree pruning end, 1 roots, 86 extra nodes, 0 pruned nodes, max_depth=8\n",
      "[97]\teval-auc:0.989659\ttrain-auc:0.991372\n",
      "[14:56:49] /workspace/src/tree/updater_prune.cc:74: tree pruning end, 1 roots, 56 extra nodes, 0 pruned nodes, max_depth=8\n",
      "[98]\teval-auc:0.989643\ttrain-auc:0.99138\n",
      "[14:56:50] /workspace/src/tree/updater_prune.cc:74: tree pruning end, 1 roots, 48 extra nodes, 0 pruned nodes, max_depth=8\n",
      "[99]\teval-auc:0.989645\ttrain-auc:0.991397\n",
      "[14:56:57] /workspace/src/tree/updater_prune.cc:74: tree pruning end, 1 roots, 378 extra nodes, 0 pruned nodes, max_depth=8\n",
      "[0]\teval-auc:0.979325\ttrain-auc:0.982339\n",
      "Multiple eval metrics have been passed: 'train-auc' will be used for early stopping.\n",
      "\n",
      "Will train until train-auc hasn't improved in 10 rounds.\n",
      "[14:56:58] /workspace/src/tree/updater_prune.cc:74: tree pruning end, 1 roots, 390 extra nodes, 0 pruned nodes, max_depth=8\n",
      "[1]\teval-auc:0.985141\ttrain-auc:0.986532\n",
      "[14:56:59] /workspace/src/tree/updater_prune.cc:74: tree pruning end, 1 roots, 370 extra nodes, 0 pruned nodes, max_depth=8\n",
      "[2]\teval-auc:0.986307\ttrain-auc:0.986862\n",
      "[14:57:00] /workspace/src/tree/updater_prune.cc:74: tree pruning end, 1 roots, 338 extra nodes, 0 pruned nodes, max_depth=8\n",
      "[3]\teval-auc:0.986108\ttrain-auc:0.986747\n",
      "[14:57:01] /workspace/src/tree/updater_prune.cc:74: tree pruning end, 1 roots, 350 extra nodes, 0 pruned nodes, max_depth=8\n",
      "[4]\teval-auc:0.986191\ttrain-auc:0.987113\n",
      "[14:57:02] /workspace/src/tree/updater_prune.cc:74: tree pruning end, 1 roots, 332 extra nodes, 0 pruned nodes, max_depth=8\n",
      "[5]\teval-auc:0.986596\ttrain-auc:0.987568\n",
      "[14:57:03] /workspace/src/tree/updater_prune.cc:74: tree pruning end, 1 roots, 354 extra nodes, 0 pruned nodes, max_depth=8\n",
      "[6]\teval-auc:0.987568\ttrain-auc:0.987869\n",
      "[14:57:04] /workspace/src/tree/updater_prune.cc:74: tree pruning end, 1 roots, 338 extra nodes, 0 pruned nodes, max_depth=8\n",
      "[7]\teval-auc:0.988003\ttrain-auc:0.988265\n",
      "[14:57:05] /workspace/src/tree/updater_prune.cc:74: tree pruning end, 1 roots, 298 extra nodes, 0 pruned nodes, max_depth=8\n",
      "[8]\teval-auc:0.987646\ttrain-auc:0.988141\n",
      "[14:57:06] /workspace/src/tree/updater_prune.cc:74: tree pruning end, 1 roots, 322 extra nodes, 0 pruned nodes, max_depth=8\n",
      "[9]\teval-auc:0.987885\ttrain-auc:0.988383\n",
      "[14:57:07] /workspace/src/tree/updater_prune.cc:74: tree pruning end, 1 roots, 276 extra nodes, 0 pruned nodes, max_depth=8\n",
      "[10]\teval-auc:0.987891\ttrain-auc:0.98841\n",
      "[14:57:08] /workspace/src/tree/updater_prune.cc:74: tree pruning end, 1 roots, 180 extra nodes, 0 pruned nodes, max_depth=8\n",
      "[11]\teval-auc:0.988014\ttrain-auc:0.988511\n",
      "[14:57:09] /workspace/src/tree/updater_prune.cc:74: tree pruning end, 1 roots, 244 extra nodes, 0 pruned nodes, max_depth=8\n",
      "[12]\teval-auc:0.988165\ttrain-auc:0.98865\n",
      "[14:57:09] /workspace/src/tree/updater_prune.cc:74: tree pruning end, 1 roots, 218 extra nodes, 0 pruned nodes, max_depth=8\n",
      "[13]\teval-auc:0.988287\ttrain-auc:0.988709\n",
      "[14:57:10] /workspace/src/tree/updater_prune.cc:74: tree pruning end, 1 roots, 218 extra nodes, 0 pruned nodes, max_depth=8\n",
      "[14]\teval-auc:0.988445\ttrain-auc:0.98885\n",
      "[14:57:11] /workspace/src/tree/updater_prune.cc:74: tree pruning end, 1 roots, 260 extra nodes, 0 pruned nodes, max_depth=8\n",
      "[15]\teval-auc:0.988259\ttrain-auc:0.988786\n",
      "[14:57:12] /workspace/src/tree/updater_prune.cc:74: tree pruning end, 1 roots, 198 extra nodes, 0 pruned nodes, max_depth=8\n",
      "[16]\teval-auc:0.988424\ttrain-auc:0.98895\n",
      "[14:57:13] /workspace/src/tree/updater_prune.cc:74: tree pruning end, 1 roots, 176 extra nodes, 0 pruned nodes, max_depth=8\n",
      "[17]\teval-auc:0.988531\ttrain-auc:0.989041\n",
      "[14:57:14] /workspace/src/tree/updater_prune.cc:74: tree pruning end, 1 roots, 214 extra nodes, 0 pruned nodes, max_depth=8\n",
      "[18]\teval-auc:0.988706\ttrain-auc:0.989157\n",
      "[14:57:15] /workspace/src/tree/updater_prune.cc:74: tree pruning end, 1 roots, 154 extra nodes, 0 pruned nodes, max_depth=8\n",
      "[19]\teval-auc:0.988694\ttrain-auc:0.989162\n",
      "[14:57:16] /workspace/src/tree/updater_prune.cc:74: tree pruning end, 1 roots, 198 extra nodes, 0 pruned nodes, max_depth=8\n",
      "[20]\teval-auc:0.988732\ttrain-auc:0.98921\n",
      "[14:57:17] /workspace/src/tree/updater_prune.cc:74: tree pruning end, 1 roots, 130 extra nodes, 0 pruned nodes, max_depth=8\n",
      "[21]\teval-auc:0.988774\ttrain-auc:0.989234\n",
      "[14:57:18] /workspace/src/tree/updater_prune.cc:74: tree pruning end, 1 roots, 138 extra nodes, 0 pruned nodes, max_depth=8\n",
      "[22]\teval-auc:0.988873\ttrain-auc:0.989323\n",
      "[14:57:19] /workspace/src/tree/updater_prune.cc:74: tree pruning end, 1 roots, 140 extra nodes, 0 pruned nodes, max_depth=8\n",
      "[23]\teval-auc:0.988926\ttrain-auc:0.989391\n",
      "[14:57:20] /workspace/src/tree/updater_prune.cc:74: tree pruning end, 1 roots, 158 extra nodes, 0 pruned nodes, max_depth=8\n",
      "[24]\teval-auc:0.989002\ttrain-auc:0.989476\n",
      "[14:57:21] /workspace/src/tree/updater_prune.cc:74: tree pruning end, 1 roots, 134 extra nodes, 0 pruned nodes, max_depth=8\n",
      "[25]\teval-auc:0.989056\ttrain-auc:0.989561\n",
      "[14:57:21] /workspace/src/tree/updater_prune.cc:74: tree pruning end, 1 roots, 94 extra nodes, 0 pruned nodes, max_depth=8\n",
      "[26]\teval-auc:0.989095\ttrain-auc:0.989591\n",
      "[14:57:22] /workspace/src/tree/updater_prune.cc:74: tree pruning end, 1 roots, 76 extra nodes, 0 pruned nodes, max_depth=8\n",
      "[27]\teval-auc:0.989127\ttrain-auc:0.989614\n",
      "[14:57:23] /workspace/src/tree/updater_prune.cc:74: tree pruning end, 1 roots, 102 extra nodes, 0 pruned nodes, max_depth=8\n",
      "[28]\teval-auc:0.989182\ttrain-auc:0.989659\n",
      "[14:57:24] /workspace/src/tree/updater_prune.cc:74: tree pruning end, 1 roots, 70 extra nodes, 0 pruned nodes, max_depth=8\n",
      "[29]\teval-auc:0.989191\ttrain-auc:0.98968\n",
      "[14:57:25] /workspace/src/tree/updater_prune.cc:74: tree pruning end, 1 roots, 90 extra nodes, 0 pruned nodes, max_depth=8\n",
      "[30]\teval-auc:0.989211\ttrain-auc:0.98973\n",
      "[14:57:25] /workspace/src/tree/updater_prune.cc:74: tree pruning end, 1 roots, 68 extra nodes, 0 pruned nodes, max_depth=8\n",
      "[31]\teval-auc:0.989234\ttrain-auc:0.989751\n",
      "[14:57:26] /workspace/src/tree/updater_prune.cc:74: tree pruning end, 1 roots, 64 extra nodes, 0 pruned nodes, max_depth=8\n",
      "[32]\teval-auc:0.989244\ttrain-auc:0.989765\n",
      "[14:57:27] /workspace/src/tree/updater_prune.cc:74: tree pruning end, 1 roots, 56 extra nodes, 0 pruned nodes, max_depth=8\n",
      "[33]\teval-auc:0.989273\ttrain-auc:0.989789\n",
      "[14:57:28] /workspace/src/tree/updater_prune.cc:74: tree pruning end, 1 roots, 62 extra nodes, 0 pruned nodes, max_depth=8\n",
      "[34]\teval-auc:0.989279\ttrain-auc:0.989812\n",
      "[14:57:29] /workspace/src/tree/updater_prune.cc:74: tree pruning end, 1 roots, 62 extra nodes, 0 pruned nodes, max_depth=8\n",
      "[35]\teval-auc:0.989298\ttrain-auc:0.989839\n",
      "[14:57:29] /workspace/src/tree/updater_prune.cc:74: tree pruning end, 1 roots, 108 extra nodes, 0 pruned nodes, max_depth=8\n",
      "[36]\teval-auc:0.989318\ttrain-auc:0.989876\n",
      "[14:57:30] /workspace/src/tree/updater_prune.cc:74: tree pruning end, 1 roots, 80 extra nodes, 0 pruned nodes, max_depth=8\n",
      "[37]\teval-auc:0.989339\ttrain-auc:0.989915\n",
      "[14:57:31] /workspace/src/tree/updater_prune.cc:74: tree pruning end, 1 roots, 78 extra nodes, 0 pruned nodes, max_depth=8\n",
      "[38]\teval-auc:0.989367\ttrain-auc:0.989952\n",
      "[14:57:32] /workspace/src/tree/updater_prune.cc:74: tree pruning end, 1 roots, 54 extra nodes, 0 pruned nodes, max_depth=8\n",
      "[39]\teval-auc:0.989393\ttrain-auc:0.989972\n",
      "[14:57:33] /workspace/src/tree/updater_prune.cc:74: tree pruning end, 1 roots, 80 extra nodes, 0 pruned nodes, max_depth=8\n",
      "[40]\teval-auc:0.989414\ttrain-auc:0.990013\n",
      "[14:57:33] /workspace/src/tree/updater_prune.cc:74: tree pruning end, 1 roots, 52 extra nodes, 0 pruned nodes, max_depth=8\n",
      "[41]\teval-auc:0.98943\ttrain-auc:0.990035\n",
      "[14:57:34] /workspace/src/tree/updater_prune.cc:74: tree pruning end, 1 roots, 90 extra nodes, 0 pruned nodes, max_depth=8\n",
      "[42]\teval-auc:0.989459\ttrain-auc:0.990072\n",
      "[14:57:35] /workspace/src/tree/updater_prune.cc:74: tree pruning end, 1 roots, 78 extra nodes, 0 pruned nodes, max_depth=8\n",
      "[43]\teval-auc:0.989481\ttrain-auc:0.990136\n",
      "[14:57:36] /workspace/src/tree/updater_prune.cc:74: tree pruning end, 1 roots, 58 extra nodes, 0 pruned nodes, max_depth=8\n",
      "[44]\teval-auc:0.989488\ttrain-auc:0.990158\n"
     ]
    },
    {
     "name": "stdout",
     "output_type": "stream",
     "text": [
      "[14:57:36] /workspace/src/tree/updater_prune.cc:74: tree pruning end, 1 roots, 66 extra nodes, 0 pruned nodes, max_depth=8\n",
      "[45]\teval-auc:0.989489\ttrain-auc:0.990182\n",
      "[14:57:37] /workspace/src/tree/updater_prune.cc:74: tree pruning end, 1 roots, 38 extra nodes, 0 pruned nodes, max_depth=8\n",
      "[46]\teval-auc:0.989508\ttrain-auc:0.990205\n",
      "[14:57:38] /workspace/src/tree/updater_prune.cc:74: tree pruning end, 1 roots, 68 extra nodes, 0 pruned nodes, max_depth=8\n",
      "[47]\teval-auc:0.989521\ttrain-auc:0.990225\n",
      "[14:57:39] /workspace/src/tree/updater_prune.cc:74: tree pruning end, 1 roots, 42 extra nodes, 0 pruned nodes, max_depth=8\n",
      "[48]\teval-auc:0.989537\ttrain-auc:0.99025\n",
      "[14:57:39] /workspace/src/tree/updater_prune.cc:74: tree pruning end, 1 roots, 56 extra nodes, 0 pruned nodes, max_depth=8\n",
      "[49]\teval-auc:0.989538\ttrain-auc:0.990267\n",
      "[14:57:40] /workspace/src/tree/updater_prune.cc:74: tree pruning end, 1 roots, 46 extra nodes, 0 pruned nodes, max_depth=8\n",
      "[50]\teval-auc:0.989546\ttrain-auc:0.990284\n",
      "[14:57:41] /workspace/src/tree/updater_prune.cc:74: tree pruning end, 1 roots, 112 extra nodes, 0 pruned nodes, max_depth=8\n",
      "[51]\teval-auc:0.98957\ttrain-auc:0.99033\n",
      "[14:57:42] /workspace/src/tree/updater_prune.cc:74: tree pruning end, 1 roots, 58 extra nodes, 0 pruned nodes, max_depth=8\n",
      "[52]\teval-auc:0.989573\ttrain-auc:0.990352\n",
      "[14:57:43] /workspace/src/tree/updater_prune.cc:74: tree pruning end, 1 roots, 100 extra nodes, 0 pruned nodes, max_depth=8\n",
      "[53]\teval-auc:0.989572\ttrain-auc:0.990391\n",
      "[14:57:43] /workspace/src/tree/updater_prune.cc:74: tree pruning end, 1 roots, 66 extra nodes, 0 pruned nodes, max_depth=8\n",
      "[54]\teval-auc:0.989577\ttrain-auc:0.990413\n",
      "[14:57:44] /workspace/src/tree/updater_prune.cc:74: tree pruning end, 1 roots, 124 extra nodes, 0 pruned nodes, max_depth=8\n",
      "[55]\teval-auc:0.989595\ttrain-auc:0.990459\n",
      "[14:57:45] /workspace/src/tree/updater_prune.cc:74: tree pruning end, 1 roots, 62 extra nodes, 0 pruned nodes, max_depth=8\n",
      "[56]\teval-auc:0.989597\ttrain-auc:0.990468\n",
      "[14:57:46] /workspace/src/tree/updater_prune.cc:74: tree pruning end, 1 roots, 66 extra nodes, 0 pruned nodes, max_depth=8\n",
      "[57]\teval-auc:0.989614\ttrain-auc:0.990491\n",
      "[14:57:47] /workspace/src/tree/updater_prune.cc:74: tree pruning end, 1 roots, 142 extra nodes, 0 pruned nodes, max_depth=8\n",
      "[58]\teval-auc:0.989611\ttrain-auc:0.990542\n",
      "[14:57:48] /workspace/src/tree/updater_prune.cc:74: tree pruning end, 1 roots, 70 extra nodes, 0 pruned nodes, max_depth=8\n",
      "[59]\teval-auc:0.989606\ttrain-auc:0.990569\n",
      "[14:57:49] /workspace/src/tree/updater_prune.cc:74: tree pruning end, 1 roots, 92 extra nodes, 0 pruned nodes, max_depth=8\n",
      "[60]\teval-auc:0.989608\ttrain-auc:0.990592\n",
      "[14:57:50] /workspace/src/tree/updater_prune.cc:74: tree pruning end, 1 roots, 120 extra nodes, 0 pruned nodes, max_depth=8\n",
      "[61]\teval-auc:0.989626\ttrain-auc:0.990642\n",
      "[14:57:50] /workspace/src/tree/updater_prune.cc:74: tree pruning end, 1 roots, 76 extra nodes, 0 pruned nodes, max_depth=8\n",
      "[62]\teval-auc:0.989628\ttrain-auc:0.990675\n",
      "[14:57:51] /workspace/src/tree/updater_prune.cc:74: tree pruning end, 1 roots, 70 extra nodes, 0 pruned nodes, max_depth=8\n",
      "[63]\teval-auc:0.989638\ttrain-auc:0.990696\n",
      "[14:57:52] /workspace/src/tree/updater_prune.cc:74: tree pruning end, 1 roots, 96 extra nodes, 0 pruned nodes, max_depth=8\n",
      "[64]\teval-auc:0.989639\ttrain-auc:0.990728\n",
      "[14:57:53] /workspace/src/tree/updater_prune.cc:74: tree pruning end, 1 roots, 68 extra nodes, 0 pruned nodes, max_depth=8\n",
      "[65]\teval-auc:0.98965\ttrain-auc:0.990757\n",
      "[14:57:54] /workspace/src/tree/updater_prune.cc:74: tree pruning end, 1 roots, 106 extra nodes, 0 pruned nodes, max_depth=8\n",
      "[66]\teval-auc:0.989668\ttrain-auc:0.990787\n",
      "[14:57:54] /workspace/src/tree/updater_prune.cc:74: tree pruning end, 1 roots, 106 extra nodes, 0 pruned nodes, max_depth=8\n",
      "[67]\teval-auc:0.989673\ttrain-auc:0.990819\n",
      "[14:57:55] /workspace/src/tree/updater_prune.cc:74: tree pruning end, 1 roots, 92 extra nodes, 0 pruned nodes, max_depth=8\n",
      "[68]\teval-auc:0.989669\ttrain-auc:0.990843\n",
      "[14:57:56] /workspace/src/tree/updater_prune.cc:74: tree pruning end, 1 roots, 52 extra nodes, 0 pruned nodes, max_depth=8\n",
      "[69]\teval-auc:0.989667\ttrain-auc:0.990854\n",
      "[14:57:57] /workspace/src/tree/updater_prune.cc:74: tree pruning end, 1 roots, 104 extra nodes, 0 pruned nodes, max_depth=8\n",
      "[70]\teval-auc:0.989673\ttrain-auc:0.990883\n",
      "[14:57:58] /workspace/src/tree/updater_prune.cc:74: tree pruning end, 1 roots, 140 extra nodes, 0 pruned nodes, max_depth=8\n",
      "[71]\teval-auc:0.989679\ttrain-auc:0.990914\n",
      "[14:57:59] /workspace/src/tree/updater_prune.cc:74: tree pruning end, 1 roots, 80 extra nodes, 0 pruned nodes, max_depth=8\n",
      "[72]\teval-auc:0.989675\ttrain-auc:0.990932\n",
      "[14:58:00] /workspace/src/tree/updater_prune.cc:74: tree pruning end, 1 roots, 92 extra nodes, 0 pruned nodes, max_depth=8\n",
      "[73]\teval-auc:0.989691\ttrain-auc:0.990954\n",
      "[14:58:00] /workspace/src/tree/updater_prune.cc:74: tree pruning end, 1 roots, 84 extra nodes, 0 pruned nodes, max_depth=8\n",
      "[74]\teval-auc:0.989693\ttrain-auc:0.990982\n",
      "[14:58:01] /workspace/src/tree/updater_prune.cc:74: tree pruning end, 1 roots, 136 extra nodes, 0 pruned nodes, max_depth=8\n",
      "[75]\teval-auc:0.989687\ttrain-auc:0.991012\n",
      "[14:58:02] /workspace/src/tree/updater_prune.cc:74: tree pruning end, 1 roots, 88 extra nodes, 0 pruned nodes, max_depth=8\n",
      "[76]\teval-auc:0.989681\ttrain-auc:0.991032\n",
      "[14:58:03] /workspace/src/tree/updater_prune.cc:74: tree pruning end, 1 roots, 84 extra nodes, 0 pruned nodes, max_depth=8\n",
      "[77]\teval-auc:0.989685\ttrain-auc:0.991045\n",
      "[14:58:04] /workspace/src/tree/updater_prune.cc:74: tree pruning end, 1 roots, 112 extra nodes, 0 pruned nodes, max_depth=8\n",
      "[78]\teval-auc:0.9897\ttrain-auc:0.991079\n",
      "[14:58:05] /workspace/src/tree/updater_prune.cc:74: tree pruning end, 1 roots, 56 extra nodes, 0 pruned nodes, max_depth=8\n",
      "[79]\teval-auc:0.989706\ttrain-auc:0.991096\n",
      "[14:58:06] /workspace/src/tree/updater_prune.cc:74: tree pruning end, 1 roots, 92 extra nodes, 0 pruned nodes, max_depth=8\n",
      "[80]\teval-auc:0.98971\ttrain-auc:0.991118\n",
      "[14:58:06] /workspace/src/tree/updater_prune.cc:74: tree pruning end, 1 roots, 84 extra nodes, 0 pruned nodes, max_depth=8\n",
      "[81]\teval-auc:0.989704\ttrain-auc:0.991139\n",
      "[14:58:07] /workspace/src/tree/updater_prune.cc:74: tree pruning end, 1 roots, 88 extra nodes, 0 pruned nodes, max_depth=8\n",
      "[82]\teval-auc:0.989722\ttrain-auc:0.991164\n",
      "[14:58:08] /workspace/src/tree/updater_prune.cc:74: tree pruning end, 1 roots, 102 extra nodes, 0 pruned nodes, max_depth=8\n",
      "[83]\teval-auc:0.989726\ttrain-auc:0.9912\n",
      "[14:58:09] /workspace/src/tree/updater_prune.cc:74: tree pruning end, 1 roots, 64 extra nodes, 0 pruned nodes, max_depth=8\n",
      "[84]\teval-auc:0.989719\ttrain-auc:0.991225\n",
      "[14:58:10] /workspace/src/tree/updater_prune.cc:74: tree pruning end, 1 roots, 86 extra nodes, 0 pruned nodes, max_depth=8\n",
      "[85]\teval-auc:0.989715\ttrain-auc:0.991244\n",
      "[14:58:11] /workspace/src/tree/updater_prune.cc:74: tree pruning end, 1 roots, 84 extra nodes, 0 pruned nodes, max_depth=8\n",
      "[86]\teval-auc:0.989718\ttrain-auc:0.991268\n",
      "[14:58:12] /workspace/src/tree/updater_prune.cc:74: tree pruning end, 1 roots, 122 extra nodes, 0 pruned nodes, max_depth=8\n",
      "[87]\teval-auc:0.989715\ttrain-auc:0.99129\n",
      "[14:58:12] /workspace/src/tree/updater_prune.cc:74: tree pruning end, 1 roots, 38 extra nodes, 0 pruned nodes, max_depth=8\n",
      "[88]\teval-auc:0.989724\ttrain-auc:0.9913\n",
      "[14:58:13] /workspace/src/tree/updater_prune.cc:74: tree pruning end, 1 roots, 70 extra nodes, 0 pruned nodes, max_depth=8\n",
      "[89]\teval-auc:0.989724\ttrain-auc:0.99131\n",
      "[14:58:14] /workspace/src/tree/updater_prune.cc:74: tree pruning end, 1 roots, 86 extra nodes, 0 pruned nodes, max_depth=8\n",
      "[90]\teval-auc:0.989727\ttrain-auc:0.991327\n",
      "[14:58:15] /workspace/src/tree/updater_prune.cc:74: tree pruning end, 1 roots, 80 extra nodes, 0 pruned nodes, max_depth=8\n",
      "[91]\teval-auc:0.989719\ttrain-auc:0.991345\n",
      "[14:58:16] /workspace/src/tree/updater_prune.cc:74: tree pruning end, 1 roots, 94 extra nodes, 0 pruned nodes, max_depth=8\n",
      "[92]\teval-auc:0.989724\ttrain-auc:0.991371\n",
      "[14:58:17] /workspace/src/tree/updater_prune.cc:74: tree pruning end, 1 roots, 116 extra nodes, 0 pruned nodes, max_depth=8\n",
      "[93]\teval-auc:0.989727\ttrain-auc:0.991403\n",
      "[14:58:18] /workspace/src/tree/updater_prune.cc:74: tree pruning end, 1 roots, 98 extra nodes, 0 pruned nodes, max_depth=8\n",
      "[94]\teval-auc:0.989728\ttrain-auc:0.991431\n"
     ]
    },
    {
     "name": "stdout",
     "output_type": "stream",
     "text": [
      "[14:58:18] /workspace/src/tree/updater_prune.cc:74: tree pruning end, 1 roots, 96 extra nodes, 0 pruned nodes, max_depth=8\n",
      "[95]\teval-auc:0.989736\ttrain-auc:0.991442\n",
      "[14:58:19] /workspace/src/tree/updater_prune.cc:74: tree pruning end, 1 roots, 114 extra nodes, 0 pruned nodes, max_depth=8\n",
      "[96]\teval-auc:0.989733\ttrain-auc:0.991465\n",
      "[14:58:20] /workspace/src/tree/updater_prune.cc:74: tree pruning end, 1 roots, 86 extra nodes, 0 pruned nodes, max_depth=8\n",
      "[97]\teval-auc:0.989728\ttrain-auc:0.99148\n",
      "[14:58:21] /workspace/src/tree/updater_prune.cc:74: tree pruning end, 1 roots, 44 extra nodes, 0 pruned nodes, max_depth=8\n",
      "[98]\teval-auc:0.989734\ttrain-auc:0.991486\n",
      "[14:58:22] /workspace/src/tree/updater_prune.cc:74: tree pruning end, 1 roots, 90 extra nodes, 0 pruned nodes, max_depth=8\n",
      "[99]\teval-auc:0.989733\ttrain-auc:0.991506\n"
     ]
    },
    {
     "data": {
      "text/plain": [
       "0.08395713739573896"
      ]
     },
     "execution_count": 61,
     "metadata": {},
     "output_type": "execute_result"
    }
   ],
   "source": [
    "# from xgboost import XGBClassifier\n",
    "import xgboost as xgb\n",
    "xgb_params = {\n",
    "#         'objective': \"binary:logistic\",\n",
    "        'objective':'binary:logistic',\n",
    "        'eval_metric': 'auc',\n",
    "        'booster': 'gbtree',\n",
    "        'learning_rate': 0.2,\n",
    "        'max_depth': 8,\n",
    "        'min_child_weight': 30,\n",
    "        'eta':0.2/100,\n",
    "        'gamma' : 0,\n",
    "        'alpha': 0.0,\n",
    "        'lambda': 0.0,\n",
    "        'subsample': 0.5,\n",
    "        'colsample_bytree': 0.5,\n",
    "        'colsample_bylevel': 0.632,\n",
    "        'n_jobs': -1,\n",
    "        'random_state': 456,\n",
    "#         'nroubds' : 100\n",
    "    }\n",
    "folds = get_folds(df=train, n_splits=5)\n",
    "xgb_oof_preds = np.zeros(train.shape[0],dtype = \"float\")\n",
    "xgb_sub_preds = np.zeros(test.shape[0],dtype = \"float\")\n",
    "vis_importances = pd.DataFrame()\n",
    "\n",
    "for fold_, (trn_, val_) in enumerate(folds):\n",
    "    trn_x, trn_y = train[train_features].iloc[trn_], y_clf.iloc[trn_]\n",
    "    val_x, val_y = train[train_features].iloc[val_], y_clf.iloc[val_]\n",
    "    \n",
    "    \n",
    "    dtrain=xgb.DMatrix(trn_x,label=trn_y)\n",
    "    dval=xgb.DMatrix(val_x,label=val_y)\n",
    "    \n",
    "    evallist = [(dval, 'eval'), (dtrain, 'train')]\n",
    "    bst=xgb.train(xgb_params,dtrain,num_boost_round=100,evals = evallist,early_stopping_rounds=10)\n",
    "#     bst = XGBClassifier(**xgb_params, n_estimators=100,objective='binary:logistic')\n",
    "    \n",
    "#     bst.fit(trn_x, trn_y,\n",
    "#             eval_set=[(val_x, val_y)],\n",
    "#             early_stopping_rounds=10,\n",
    "#             eval_metric='auc',\n",
    "#             verbose=10\n",
    "#             )\n",
    "    \n",
    "    xgb_oof_preds[val_] = bst.predict(dval)\n",
    "    xgb_oof_preds[val_][:100]\n",
    "    xgb_oof_preds[xgb_oof_preds < 0] = 0\n",
    "    \n",
    "    # Make sure features are in the same order\n",
    "    dtest = xgb.DMatrix(test[train_features])\n",
    "    _preds = bst.predict(dtest)\n",
    "    _preds[_preds < 0] = 0\n",
    "    xgb_sub_preds += _preds / len(folds)\n",
    "    \n",
    "mean_squared_error(y_clf, xgb_oof_preds) ** .5"
   ]
  },
  {
   "cell_type": "code",
   "execution_count": 62,
   "metadata": {},
   "outputs": [],
   "source": [
    "# xgb_oof_preds"
   ]
  },
  {
   "cell_type": "code",
   "execution_count": 63,
   "metadata": {
    "scrolled": true
   },
   "outputs": [],
   "source": [
    "train_pred_r_status = pd.DataFrame()\n",
    "test_pred_r_status = pd.DataFrame()\n",
    "train['pred_r_status']=xgb_oof_preds\n",
    "test['pred_r_status']=xgb_sub_preds\n",
    "# train_features=train_features+['pred_r_status']"
   ]
  },
  {
   "cell_type": "code",
   "execution_count": null,
   "metadata": {},
   "outputs": [],
   "source": []
  },
  {
   "cell_type": "code",
   "execution_count": 86,
   "metadata": {},
   "outputs": [
    {
     "name": "stdout",
     "output_type": "stream",
     "text": [
      "Classfier threshold is : 0.92885\n",
      "无收入被分类有收入    错误数量 ====>>> 假反例 FN:  1\n",
      "有收入被分类无收入    错误数量 ====>>> 假正例 FP:  18510\n",
      "无收入被分类无收入    正确数量 ====>>> 真正例 TP:  1689822\n",
      "有收入被分类有收入    正确数量 ====>>> 真反例 TN:  3\n",
      "有收入准确率 TP/(TP+FP):  0.75\n",
      "有收入召回率 TP/(TP+FN):  0.00016204829039053638\n",
      "无收入准确率 TN/(TN+FN):  0.9891648695920934\n",
      "无收入召回率 TN/(TN+FP):  0.9999994082220446\n"
     ]
    }
   ],
   "source": [
    "def score_analyze(pred,target,threshold =0.5):\n",
    "    print(\"Classfier threshold is :\",threshold)\n",
    "    tmp_pred = pred.apply(lambda x:0 if x<threshold else 1)\n",
    "    err = target[target!=tmp_pred]###分类错误的\n",
    "    true = target[target==tmp_pred] ####分类正确的  \n",
    "    \n",
    "    FN =len(err[err==1]) \n",
    "    FP = len(err[err==0])\n",
    "    \n",
    "    TP = len(true[true==1])\n",
    "    TN =len(true[true==0])\n",
    "    print(\"无收入被分类有收入    错误数量 ====>>> 假反例 FN: \",FP )   \n",
    "    print(\"有收入被分类无收入    错误数量 ====>>> 假正例 FP: \",FN )   \n",
    "    print(\"无收入被分类无收入    正确数量 ====>>> 真正例 TP: \",TN)   \n",
    "    print(\"有收入被分类有收入    正确数量 ====>>> 真反例 TN: \",TP) \n",
    "    \n",
    "    print(\"有收入准确率 TP/(TP+FP): \",TP/(TP+FP))  \n",
    "    print(\"有收入召回率 TP/(TP+FN): \",TP/(TP+FN)) \n",
    "    \n",
    "    print(\"无收入准确率 TN/(TN+FN): \",TN/(TN+FN))  \n",
    "    print(\"无收入召回率 TN/(TN+FP): \",TN/(TN+FP)) \n",
    "    \n",
    "    return threshold\n",
    "threshold = score_analyze(train['pred_r_status'],train[\"r_status\"])"
   ]
  },
  {
   "cell_type": "code",
   "execution_count": 80,
   "metadata": {},
   "outputs": [],
   "source": [
    "train['pred_r_status'] = train['pred_r_status'].apply(lambda x:0 if x<threshold else 1)\n",
    "test['pred_r_status'] = test['pred_r_status'].apply(lambda x:0 if x<threshold else 1)"
   ]
  },
  {
   "cell_type": "code",
   "execution_count": 81,
   "metadata": {},
   "outputs": [],
   "source": [
    "# train['pred_r_status'].value_counts()"
   ]
  },
  {
   "cell_type": "code",
   "execution_count": 82,
   "metadata": {},
   "outputs": [],
   "source": [
    "y_reg = train['totals_transactionRevenue'].astype(\"float\")\n",
    "y_reg.fillna(0,inplace = True)"
   ]
  },
  {
   "cell_type": "code",
   "execution_count": null,
   "metadata": {},
   "outputs": [],
   "source": []
  },
  {
   "cell_type": "code",
   "execution_count": null,
   "metadata": {},
   "outputs": [],
   "source": []
  },
  {
   "cell_type": "code",
   "execution_count": 85,
   "metadata": {},
   "outputs": [
    {
     "name": "stdout",
     "output_type": "stream",
     "text": [
      "Training until validation scores don't improve for 50 rounds.\n",
      "[100]\tvalid_0's rmse: 1.50442\tvalid_0's l2: 2.26329\n",
      "[200]\tvalid_0's rmse: 1.50386\tvalid_0's l2: 2.26158\n",
      "Early stopping, best iteration is:\n",
      "[150]\tvalid_0's rmse: 1.50344\tvalid_0's l2: 2.26033\n",
      "Training until validation scores don't improve for 50 rounds.\n",
      "[100]\tvalid_0's rmse: 1.49332\tvalid_0's l2: 2.22999\n",
      "[200]\tvalid_0's rmse: 1.49301\tvalid_0's l2: 2.22907\n",
      "Early stopping, best iteration is:\n",
      "[167]\tvalid_0's rmse: 1.49265\tvalid_0's l2: 2.228\n",
      "Training until validation scores don't improve for 50 rounds.\n",
      "[100]\tvalid_0's rmse: 1.50344\tvalid_0's l2: 2.26032\n",
      "Early stopping, best iteration is:\n",
      "[108]\tvalid_0's rmse: 1.50336\tvalid_0's l2: 2.26009\n",
      "Training until validation scores don't improve for 50 rounds.\n",
      "[100]\tvalid_0's rmse: 1.46691\tvalid_0's l2: 2.15183\n",
      "[200]\tvalid_0's rmse: 1.4655\tvalid_0's l2: 2.14769\n",
      "Early stopping, best iteration is:\n",
      "[163]\tvalid_0's rmse: 1.4653\tvalid_0's l2: 2.14712\n",
      "Training until validation scores don't improve for 50 rounds.\n",
      "[100]\tvalid_0's rmse: 1.49383\tvalid_0's l2: 2.23152\n",
      "[200]\tvalid_0's rmse: 1.49206\tvalid_0's l2: 2.22626\n",
      "Early stopping, best iteration is:\n",
      "[249]\tvalid_0's rmse: 1.49192\tvalid_0's l2: 2.22582\n"
     ]
    },
    {
     "data": {
      "text/plain": [
       "1.4913718552984436"
      ]
     },
     "execution_count": 85,
     "metadata": {},
     "output_type": "execute_result"
    }
   ],
   "source": [
    "folds = get_folds(df=train, n_splits=5)\n",
    "\n",
    "train_features = real_cols + cat_cols\n",
    "importances = pd.DataFrame()\n",
    "oof_reg_preds = np.zeros(train.shape[0])\n",
    "sub_reg_preds = np.zeros(test.shape[0])\n",
    "for fold_, (trn_, val_) in enumerate(folds):\n",
    "    trn_x, trn_y = train[train_features+['pred_r_status']].iloc[trn_], y_reg.iloc[trn_]\n",
    "    val_x, val_y = train[train_features+['pred_r_status']].iloc[val_], y_reg.iloc[val_]\n",
    "    \n",
    "    reg = lgb.LGBMRegressor(\n",
    "        num_leaves=31,\n",
    "        learning_rate=0.03,\n",
    "        n_estimators=1000,\n",
    "        subsample=.9,\n",
    "        colsample_bytree=.9,\n",
    "        random_state=1\n",
    "    )\n",
    "    reg.fit(\n",
    "        trn_x,np.log1p(trn_y),\n",
    "        eval_set=[(val_x, np.log1p(val_y))],\n",
    "        early_stopping_rounds=50,\n",
    "        verbose=100,\n",
    "        eval_metric='rmse'\n",
    "    )\n",
    "    imp_df = pd.DataFrame()\n",
    "    imp_df['feature'] = train_features +['pred_r_status']\n",
    "    imp_df['gain'] = reg.booster_.feature_importance(importance_type='gain')\n",
    "    \n",
    "    imp_df['fold'] = fold_ + 1\n",
    "    importances = pd.concat([importances, imp_df], axis=0, sort=False)\n",
    "    \n",
    "    oof_reg_preds[val_] = reg.predict(val_x, num_iteration=reg.best_iteration_)\n",
    "    oof_reg_preds[oof_reg_preds < 0] = 0\n",
    "    _preds = reg.predict(test[train_features+['pred_r_status']], num_iteration=reg.best_iteration_)\n",
    "    _preds[_preds < 0] = 0\n",
    "    sub_reg_preds += np.expm1(_preds) / len(folds)\n",
    "    \n",
    "mean_squared_error(np.log1p(y_reg), oof_reg_preds) ** .5"
   ]
  },
  {
   "cell_type": "code",
   "execution_count": 87,
   "metadata": {},
   "outputs": [
    {
     "name": "stderr",
     "output_type": "stream",
     "text": [
      "/home/baitong/tensorflow/lib/python3.6/site-packages/scipy/stats/stats.py:1713: FutureWarning: Using a non-tuple sequence for multidimensional indexing is deprecated; use `arr[tuple(seq)]` instead of `arr[seq]`. In the future this will be interpreted as an array index, `arr[np.array(seq)]`, which will result either in an error or a different result.\n",
      "  return np.add.reduce(sorted[indexer] * weights, axis=axis) / sumval\n"
     ]
    },
    {
     "data": {
      "text/plain": [
       "<matplotlib.axes._subplots.AxesSubplot at 0x7f8a6bb10518>"
      ]
     },
     "execution_count": 87,
     "metadata": {},
     "output_type": "execute_result"
    },
    {
     "data": {
      "image/png": "[encoded data removed]",
      "text/plain": [
       "<Figure size 576x1800 with 1 Axes>"
      ]
     },
     "metadata": {
      "needs_background": "light"
     },
     "output_type": "display_data"
    }
   ],
   "source": [
    "importances['gain_log'] = np.log1p(importances['gain'])\n",
    "mean_gain = importances[['gain', 'feature']].groupby('feature').mean()\n",
    "importances['mean_gain'] = importances['feature'].map(mean_gain['gain'])\n",
    "\n",
    "plt.figure(figsize=(8, 25))\n",
    "sns.barplot(x='gain_log', y='feature', data=importances.sort_values('mean_gain', ascending=False).iloc[:300])"
   ]
  },
  {
   "cell_type": "code",
   "execution_count": 88,
   "metadata": {},
   "outputs": [
    {
     "data": {
      "text/plain": [
       "(1708336, 1708336)"
      ]
     },
     "execution_count": 88,
     "metadata": {},
     "output_type": "execute_result"
    }
   ],
   "source": [
    "len(oof_reg_preds),len(train)"
   ]
  },
  {
   "cell_type": "code",
   "execution_count": 89,
   "metadata": {
    "scrolled": true
   },
   "outputs": [
    {
     "data": {
      "text/plain": [
       "(401589, 401589)"
      ]
     },
     "execution_count": 89,
     "metadata": {},
     "output_type": "execute_result"
    }
   ],
   "source": [
    "len(sub_reg_preds),len(test)"
   ]
  },
  {
   "cell_type": "code",
   "execution_count": 90,
   "metadata": {},
   "outputs": [],
   "source": [
    "train['predictions'] = np.expm1(oof_reg_preds)\n",
    "test['predictions'] = sub_reg_preds"
   ]
  },
  {
   "cell_type": "code",
   "execution_count": 91,
   "metadata": {},
   "outputs": [],
   "source": [
    "##计算单个用户会话总数\n",
    "train[\"sess_count\"]=1;\n",
    "train_sess_num = train[['fullVisitorId', 'sess_count']].groupby('fullVisitorId').sum()\n",
    "test[\"sess_count\"]=1;\n",
    "test_sess_num = test[['fullVisitorId', 'sess_count']].groupby('fullVisitorId').sum()"
   ]
  },
  {
   "cell_type": "code",
   "execution_count": 92,
   "metadata": {},
   "outputs": [],
   "source": [
    "###将大于20次的会话数量限制为20 （大于20次数据过少）\n",
    "train_sess_num['sess_count']=train_sess_num['sess_count'].apply(lambda x: 20 if x>20 else x)\n",
    "test_sess_num['sess_count']=test_sess_num['sess_count'].apply(lambda x: 20 if x>20 else x)"
   ]
  },
  {
   "cell_type": "code",
   "execution_count": 93,
   "metadata": {},
   "outputs": [],
   "source": [
    "####这里采用均值合并，对于类型特征来说并不合理\n",
    "train_agg = train[train_features+['pred_r_status']+['fullVisitorId']].groupby('fullVisitorId').mean()"
   ]
  },
  {
   "cell_type": "code",
   "execution_count": 94,
   "metadata": {},
   "outputs": [
    {
     "data": {
      "text/plain": [
       "1328518"
      ]
     },
     "execution_count": 94,
     "metadata": {},
     "output_type": "execute_result"
    }
   ],
   "source": [
    "train_pred = train[['fullVisitorId', 'predictions']].groupby('fullVisitorId').sum()\n",
    "len(train_pred)"
   ]
  },
  {
   "cell_type": "code",
   "execution_count": 95,
   "metadata": {},
   "outputs": [],
   "source": [
    "train_fulldata = pd.concat([train_agg, train_pred,train_sess_num], axis=1).astype(float)"
   ]
  },
  {
   "cell_type": "code",
   "execution_count": 96,
   "metadata": {},
   "outputs": [],
   "source": [
    "test_agg = test[train_features+['pred_r_status']+['fullVisitorId']].groupby('fullVisitorId').mean()\n",
    "test_pred = test[['fullVisitorId', 'predictions']].groupby('fullVisitorId').sum()\n",
    "test_fulldata = pd.concat([test_agg, test_pred,test_sess_num], axis=1).astype(float)\n"
   ]
  },
  {
   "cell_type": "code",
   "execution_count": 98,
   "metadata": {},
   "outputs": [
    {
     "data": {
      "text/plain": [
       "((296918, 93), (1328518, 93))"
      ]
     },
     "execution_count": 98,
     "metadata": {},
     "output_type": "execute_result"
    }
   ],
   "source": [
    "test_fulldata.shape,train_fulldata.shape"
   ]
  },
  {
   "cell_type": "code",
   "execution_count": 99,
   "metadata": {},
   "outputs": [],
   "source": [
    "train['target'] = y_reg\n",
    "trn_user_target = train[['fullVisitorId', 'target']].groupby('fullVisitorId').sum()"
   ]
  },
  {
   "cell_type": "code",
   "execution_count": 100,
   "metadata": {},
   "outputs": [
    {
     "name": "stdout",
     "output_type": "stream",
     "text": [
      "Training until validation scores don't improve for 50 rounds.\n",
      "[100]\tTRAIN's rmse: 1.47016\tTRAIN's l2: 2.16136\tVALID's rmse: 1.50796\tVALID's l2: 2.27394\n",
      "[200]\tTRAIN's rmse: 1.44505\tTRAIN's l2: 2.08816\tVALID's rmse: 1.50595\tVALID's l2: 2.26789\n",
      "Early stopping, best iteration is:\n",
      "[206]\tTRAIN's rmse: 1.44407\tTRAIN's l2: 2.08535\tVALID's rmse: 1.50582\tVALID's l2: 2.2675\n",
      "Training until validation scores don't improve for 50 rounds.\n",
      "[100]\tTRAIN's rmse: 1.47228\tTRAIN's l2: 2.16762\tVALID's rmse: 1.4997\tVALID's l2: 2.24909\n",
      "[200]\tTRAIN's rmse: 1.44713\tTRAIN's l2: 2.09419\tVALID's rmse: 1.49784\tVALID's l2: 2.24352\n",
      "Early stopping, best iteration is:\n",
      "[150]\tTRAIN's rmse: 1.45767\tTRAIN's l2: 2.12481\tVALID's rmse: 1.49761\tVALID's l2: 2.24285\n",
      "Training until validation scores don't improve for 50 rounds.\n",
      "[100]\tTRAIN's rmse: 1.46904\tTRAIN's l2: 2.15807\tVALID's rmse: 1.51179\tVALID's l2: 2.2855\n",
      "Early stopping, best iteration is:\n",
      "[147]\tTRAIN's rmse: 1.45511\tTRAIN's l2: 2.11734\tVALID's rmse: 1.5097\tVALID's l2: 2.2792\n",
      "Training until validation scores don't improve for 50 rounds.\n",
      "[100]\tTRAIN's rmse: 1.47748\tTRAIN's l2: 2.18295\tVALID's rmse: 1.47722\tVALID's l2: 2.18219\n",
      "Early stopping, best iteration is:\n",
      "[149]\tTRAIN's rmse: 1.46286\tTRAIN's l2: 2.13995\tVALID's rmse: 1.47552\tVALID's l2: 2.17716\n",
      "Training until validation scores don't improve for 50 rounds.\n",
      "[100]\tTRAIN's rmse: 1.47051\tTRAIN's l2: 2.16241\tVALID's rmse: 1.50699\tVALID's l2: 2.27102\n",
      "Early stopping, best iteration is:\n",
      "[139]\tTRAIN's rmse: 1.45841\tTRAIN's l2: 2.12696\tVALID's rmse: 1.50511\tVALID's l2: 2.26536\n"
     ]
    },
    {
     "data": {
      "text/plain": [
       "1.4988034347722374"
      ]
     },
     "execution_count": 100,
     "metadata": {},
     "output_type": "execute_result"
    }
   ],
   "source": [
    "folds = get_folds(df=train_fulldata[['totals_pageviews']].reset_index(), n_splits=5)\n",
    "\n",
    "lgb_oof_preds = np.zeros(train_fulldata.shape[0])\n",
    "lgb_sub_preds = np.zeros(test_fulldata.shape[0])\n",
    "vis_importances = pd.DataFrame()\n",
    "\n",
    "for fold_, (trn_, val_) in enumerate(folds):\n",
    "    trn_x, trn_y = train_fulldata.iloc[trn_], trn_user_target['target'].iloc[trn_]\n",
    "    val_x, val_y = train_fulldata.iloc[val_], trn_user_target['target'].iloc[val_]\n",
    "    \n",
    "    reg = lgb.LGBMRegressor(\n",
    "        num_leaves=31,\n",
    "        learning_rate=0.03,\n",
    "        n_estimators=1000,\n",
    "        subsample=.9,\n",
    "        colsample_bytree=.9,\n",
    "        random_state=1\n",
    "    )\n",
    "    reg.fit(\n",
    "        trn_x, np.log1p(trn_y),\n",
    "        eval_set=[(trn_x, np.log1p(trn_y)), (val_x, np.log1p(val_y))],\n",
    "        eval_names=['TRAIN', 'VALID'],\n",
    "        early_stopping_rounds=50,\n",
    "        eval_metric='rmse',\n",
    "        verbose=100\n",
    "    )\n",
    "    \n",
    "    imp_df = pd.DataFrame()\n",
    "    imp_df['feature'] = trn_x.columns\n",
    "    imp_df['gain'] = reg.booster_.feature_importance(importance_type='gain')\n",
    "    \n",
    "    imp_df['fold'] = fold_ + 1\n",
    "    vis_importances = pd.concat([vis_importances, imp_df], axis=0, sort=False)\n",
    "    \n",
    "    lgb_oof_preds[val_] = reg.predict(val_x, num_iteration=reg.best_iteration_)\n",
    "    lgb_oof_preds[lgb_oof_preds < 0] = 0\n",
    "    \n",
    "    # Make sure features are in the same order\n",
    "    _preds = reg.predict(test_fulldata[train_fulldata.columns], num_iteration=reg.best_iteration_)\n",
    "    _preds[_preds < 0] = 0\n",
    "    lgb_sub_preds += _preds / len(folds)\n",
    "    \n",
    "mean_squared_error(np.log1p(trn_user_target['target']), lgb_oof_preds) ** .5"
   ]
  },
  {
   "cell_type": "code",
   "execution_count": 101,
   "metadata": {},
   "outputs": [
    {
     "name": "stderr",
     "output_type": "stream",
     "text": [
      "/home/baitong/tensorflow/lib/python3.6/site-packages/scipy/stats/stats.py:1713: FutureWarning: Using a non-tuple sequence for multidimensional indexing is deprecated; use `arr[tuple(seq)]` instead of `arr[seq]`. In the future this will be interpreted as an array index, `arr[np.array(seq)]`, which will result either in an error or a different result.\n",
      "  return np.add.reduce(sorted[indexer] * weights, axis=axis) / sumval\n"
     ]
    },
    {
     "data": {
      "text/plain": [
       "<matplotlib.axes._subplots.AxesSubplot at 0x7f8a6bb1d860>"
      ]
     },
     "execution_count": 101,
     "metadata": {},
     "output_type": "execute_result"
    },
    {
     "data": {
      "image/png": "[encoded data removed]",
      "text/plain": [
       "<Figure size 576x1800 with 1 Axes>"
      ]
     },
     "metadata": {
      "needs_background": "light"
     },
     "output_type": "display_data"
    }
   ],
   "source": [
    "vis_importances['gain_log'] = np.log1p(vis_importances['gain'])\n",
    "mean_gain = vis_importances[['gain', 'feature']].groupby('feature').mean()\n",
    "vis_importances['mean_gain'] = vis_importances['feature'].map(mean_gain['gain'])\n",
    "\n",
    "plt.figure(figsize=(8, 25))\n",
    "sns.barplot(x='gain_log', y='feature', data=vis_importances.sort_values('mean_gain', ascending=False).iloc[:300])"
   ]
  },
  {
   "cell_type": "code",
   "execution_count": 102,
   "metadata": {},
   "outputs": [],
   "source": [
    "xgb_params = {\n",
    "        'objective': 'reg:linear',\n",
    "        'booster': 'gbtree',\n",
    "        'learning_rate': 0.03,\n",
    "        'max_depth': 22,\n",
    "        'min_child_weight': 57,\n",
    "        'gamma' : 1.45,\n",
    "        'alpha': 0.0,\n",
    "        'lambda': 0.0,\n",
    "        'subsample': 0.67,\n",
    "        'colsample_bytree': 0.054,\n",
    "        'colsample_bylevel': 0.50,\n",
    "        'n_jobs': -1,\n",
    "        'random_state': 456\n",
    "    }"
   ]
  },
  {
   "cell_type": "code",
   "execution_count": 104,
   "metadata": {},
   "outputs": [
    {
     "name": "stdout",
     "output_type": "stream",
     "text": [
      "[0]\tvalidation_0-rmse:1.95067\n",
      "Will train until validation_0-rmse hasn't improved in 50 rounds.\n",
      "[100]\tvalidation_0-rmse:1.60319\n",
      "[200]\tvalidation_0-rmse:1.5394\n",
      "[300]\tvalidation_0-rmse:1.52124\n",
      "[400]\tvalidation_0-rmse:1.51541\n",
      "[500]\tvalidation_0-rmse:1.51377\n",
      "[600]\tvalidation_0-rmse:1.51221\n",
      "Stopping. Best iteration:\n",
      "[619]\tvalidation_0-rmse:1.51189\n",
      "\n",
      "[0]\tvalidation_0-rmse:1.95091\n",
      "Will train until validation_0-rmse hasn't improved in 50 rounds.\n",
      "[100]\tvalidation_0-rmse:1.5915\n",
      "[200]\tvalidation_0-rmse:1.52945\n",
      "[300]\tvalidation_0-rmse:1.51774\n",
      "[400]\tvalidation_0-rmse:1.51337\n",
      "[500]\tvalidation_0-rmse:1.50982\n",
      "[600]\tvalidation_0-rmse:1.50838\n",
      "[700]\tvalidation_0-rmse:1.5077\n",
      "Stopping. Best iteration:\n",
      "[684]\tvalidation_0-rmse:1.5076\n",
      "\n",
      "[0]\tvalidation_0-rmse:1.94582\n",
      "Will train until validation_0-rmse hasn't improved in 50 rounds.\n",
      "[100]\tvalidation_0-rmse:1.60704\n",
      "[200]\tvalidation_0-rmse:1.5395\n",
      "[300]\tvalidation_0-rmse:1.52314\n",
      "[400]\tvalidation_0-rmse:1.51645\n",
      "[500]\tvalidation_0-rmse:1.51582\n",
      "Stopping. Best iteration:\n",
      "[483]\tvalidation_0-rmse:1.51571\n",
      "\n",
      "[0]\tvalidation_0-rmse:1.9626\n",
      "Will train until validation_0-rmse hasn't improved in 50 rounds.\n",
      "[100]\tvalidation_0-rmse:1.58951\n",
      "[200]\tvalidation_0-rmse:1.51417\n",
      "[300]\tvalidation_0-rmse:1.49488\n",
      "[400]\tvalidation_0-rmse:1.48994\n",
      "[500]\tvalidation_0-rmse:1.48797\n",
      "Stopping. Best iteration:\n",
      "[466]\tvalidation_0-rmse:1.48788\n",
      "\n",
      "[0]\tvalidation_0-rmse:1.98864\n",
      "Will train until validation_0-rmse hasn't improved in 50 rounds.\n",
      "[100]\tvalidation_0-rmse:1.60941\n",
      "[200]\tvalidation_0-rmse:1.55238\n",
      "[300]\tvalidation_0-rmse:1.53433\n",
      "[400]\tvalidation_0-rmse:1.52333\n",
      "[500]\tvalidation_0-rmse:1.51917\n",
      "[600]\tvalidation_0-rmse:1.5179\n",
      "[700]\tvalidation_0-rmse:1.5169\n",
      "Stopping. Best iteration:\n",
      "[680]\tvalidation_0-rmse:1.51652\n",
      "\n"
     ]
    },
    {
     "data": {
      "text/plain": [
       "1.5061943811307155"
      ]
     },
     "execution_count": 104,
     "metadata": {},
     "output_type": "execute_result"
    }
   ],
   "source": [
    "from xgboost import XGBRegressor\n",
    "folds = get_folds(df=train_fulldata[['totals_pageviews']].reset_index(), n_splits=5)\n",
    "\n",
    "xgb_oof_preds = np.zeros(train_fulldata.shape[0])\n",
    "xgb_sub_preds = np.zeros(test_fulldata.shape[0])\n",
    "vis_importances = pd.DataFrame()\n",
    "\n",
    "for fold_, (trn_, val_) in enumerate(folds):\n",
    "    trn_x, trn_y = train_fulldata.iloc[trn_], trn_user_target['target'].iloc[trn_]\n",
    "    val_x, val_y = train_fulldata.iloc[val_], trn_user_target['target'].iloc[val_]\n",
    "    \n",
    "    xgb = XGBRegressor(**xgb_params, n_estimators=1300)\n",
    "    \n",
    "    xgb.fit(trn_x, np.log1p(trn_y),\n",
    "            eval_set=[(val_x, np.log1p(val_y))],\n",
    "            early_stopping_rounds=50,\n",
    "            eval_metric='rmse',\n",
    "            verbose = 100)\n",
    "    xgb_oof_preds[val_] = xgb.predict(val_x)\n",
    "    xgb_oof_preds[xgb_oof_preds < 0] = 0\n",
    "    \n",
    "    # Make sure features are in the same order\n",
    "    _preds = xgb.predict(test_fulldata[train_fulldata.columns])\n",
    "    _preds[_preds < 0] = 0\n",
    "    xgb_sub_preds += _preds / len(folds)\n",
    "    \n",
    "mean_squared_error(np.log1p(trn_user_target['target']), xgb_oof_preds) ** .5"
   ]
  },
  {
   "cell_type": "code",
   "execution_count": 105,
   "metadata": {},
   "outputs": [],
   "source": [
    "cat_param = {\n",
    "    'learning_rate' :0.03,\n",
    "    'depth' :10,\n",
    "    'eval_metric' :'RMSE',\n",
    "    'od_type' :'Iter',\n",
    "    'metric_period ' : 50,\n",
    "    'od_wait' : 20,\n",
    "    'seed' : 42\n",
    "    \n",
    "}"
   ]
  },
  {
   "cell_type": "code",
   "execution_count": 106,
   "metadata": {},
   "outputs": [
    {
     "name": "stderr",
     "output_type": "stream",
     "text": [
      "Warning: Overfitting detector is active, thus evaluation metric iscalculated on every iteration. 'metric_period' is ignored for evaluation metric.\n"
     ]
    },
    {
     "name": "stdout",
     "output_type": "stream",
     "text": [
      "0:\tlearn: 1.9433509\ttest: 1.9422463\tbest: 1.9422463 (0)\ttotal: 531ms\tremaining: 8m 50s\n",
      "100:\tlearn: 1.4718155\ttest: 1.5071362\tbest: 1.5071362 (100)\ttotal: 46.6s\tremaining: 6m 54s\n",
      "200:\tlearn: 1.4398747\ttest: 1.5049555\tbest: 1.5046944 (187)\ttotal: 1m 32s\tremaining: 6m 7s\n",
      "Stopped by overfitting detector  (50 iterations wait)\n",
      "\n",
      "bestTest = 1.504694444\n",
      "bestIteration = 187\n",
      "\n",
      "Shrink model to first 188 iterations.\n"
     ]
    },
    {
     "name": "stderr",
     "output_type": "stream",
     "text": [
      "Warning: Overfitting detector is active, thus evaluation metric iscalculated on every iteration. 'metric_period' is ignored for evaluation metric.\n"
     ]
    },
    {
     "name": "stdout",
     "output_type": "stream",
     "text": [
      "0:\tlearn: 1.9433188\ttest: 1.9422988\tbest: 1.9422988 (0)\ttotal: 456ms\tremaining: 7m 35s\n",
      "100:\tlearn: 1.4734695\ttest: 1.4995892\tbest: 1.4995892 (100)\ttotal: 49s\tremaining: 7m 15s\n",
      "200:\tlearn: 1.4377118\ttest: 1.4973409\tbest: 1.4972520 (197)\ttotal: 1m 38s\tremaining: 6m 30s\n",
      "Stopped by overfitting detector  (50 iterations wait)\n",
      "\n",
      "bestTest = 1.497252035\n",
      "bestIteration = 197\n",
      "\n",
      "Shrink model to first 198 iterations.\n"
     ]
    },
    {
     "name": "stderr",
     "output_type": "stream",
     "text": [
      "Warning: Overfitting detector is active, thus evaluation metric iscalculated on every iteration. 'metric_period' is ignored for evaluation metric.\n"
     ]
    },
    {
     "name": "stdout",
     "output_type": "stream",
     "text": [
      "0:\tlearn: 1.9445230\ttest: 1.9374864\tbest: 1.9374864 (0)\ttotal: 500ms\tremaining: 8m 19s\n",
      "100:\tlearn: 1.4690854\ttest: 1.5121567\tbest: 1.5121567 (100)\ttotal: 48.6s\tremaining: 7m 12s\n",
      "200:\tlearn: 1.4336776\ttest: 1.5103142\tbest: 1.5095559 (175)\ttotal: 1m 37s\tremaining: 6m 28s\n",
      "Stopped by overfitting detector  (50 iterations wait)\n",
      "\n",
      "bestTest = 1.509555873\n",
      "bestIteration = 175\n",
      "\n",
      "Shrink model to first 176 iterations.\n"
     ]
    },
    {
     "name": "stderr",
     "output_type": "stream",
     "text": [
      "Warning: Overfitting detector is active, thus evaluation metric iscalculated on every iteration. 'metric_period' is ignored for evaluation metric.\n"
     ]
    },
    {
     "name": "stdout",
     "output_type": "stream",
     "text": [
      "0:\tlearn: 1.9456363\ttest: 1.9331342\tbest: 1.9331342 (0)\ttotal: 493ms\tremaining: 8m 12s\n",
      "100:\tlearn: 1.4782281\ttest: 1.4773171\tbest: 1.4773171 (100)\ttotal: 49s\tremaining: 7m 16s\n",
      "200:\tlearn: 1.4439464\ttest: 1.4758684\tbest: 1.4753587 (155)\ttotal: 1m 36s\tremaining: 6m 23s\n",
      "Stopped by overfitting detector  (50 iterations wait)\n",
      "\n",
      "bestTest = 1.475358719\n",
      "bestIteration = 155\n",
      "\n",
      "Shrink model to first 156 iterations.\n"
     ]
    },
    {
     "name": "stderr",
     "output_type": "stream",
     "text": [
      "Warning: Overfitting detector is active, thus evaluation metric iscalculated on every iteration. 'metric_period' is ignored for evaluation metric.\n"
     ]
    },
    {
     "name": "stdout",
     "output_type": "stream",
     "text": [
      "0:\tlearn: 1.9387282\ttest: 1.9608679\tbest: 1.9608679 (0)\ttotal: 506ms\tremaining: 8m 25s\n",
      "100:\tlearn: 1.4709057\ttest: 1.5091709\tbest: 1.5091709 (100)\ttotal: 48.8s\tremaining: 7m 14s\n",
      "200:\tlearn: 1.4361827\ttest: 1.5062803\tbest: 1.5061602 (190)\ttotal: 1m 36s\tremaining: 6m 23s\n",
      "Stopped by overfitting detector  (50 iterations wait)\n",
      "\n",
      "bestTest = 1.506160152\n",
      "bestIteration = 190\n",
      "\n",
      "Shrink model to first 191 iterations.\n"
     ]
    },
    {
     "data": {
      "text/plain": [
       "1.4986506112312687"
      ]
     },
     "execution_count": 106,
     "metadata": {},
     "output_type": "execute_result"
    }
   ],
   "source": [
    "from catboost import CatBoostRegressor\n",
    "folds = get_folds(df=train_fulldata[['totals_pageviews']].reset_index(), n_splits=5)\n",
    "\n",
    "cat_oof_preds = np.zeros(train_fulldata.shape[0])\n",
    "cat_sub_preds = np.zeros(test_fulldata.shape[0])\n",
    "vis_importances = pd.DataFrame()\n",
    "\n",
    "for fold_, (trn_, val_) in enumerate(folds):\n",
    "    trn_x, trn_y = train_fulldata.iloc[trn_], trn_user_target['target'].iloc[trn_]\n",
    "    val_x, val_y = train_fulldata.iloc[val_], trn_user_target['target'].iloc[val_]\n",
    "    \n",
    "    cat = CatBoostRegressor(iterations=1000,learning_rate=0.03,\n",
    "                            depth=10,\n",
    "                            eval_metric='RMSE',\n",
    "                            random_seed = 42,\n",
    "                            bagging_temperature = 0.2,\n",
    "                            od_type='Iter',\n",
    "                            metric_period = 50,\n",
    "                            od_wait=20)\n",
    "    cat.fit(trn_x, np.log1p(trn_y), \n",
    "            eval_set=[(val_x, np.log1p(val_y))],\n",
    "            early_stopping_rounds=50,\n",
    "            use_best_model=True,\n",
    "            verbose=100)\n",
    "    cat_oof_preds[val_] = cat.predict(val_x)\n",
    "    cat_oof_preds[cat_oof_preds < 0] = 0\n",
    "    \n",
    "    # Make sure features are in the same order\n",
    "    _preds = cat.predict(test_fulldata[train_fulldata.columns])\n",
    "    _preds[_preds < 0] = 0\n",
    "    cat_sub_preds += _preds / len(folds)\n",
    "    \n",
    "mean_squared_error(np.log1p(trn_user_target['target']), cat_oof_preds) ** .5"
   ]
  },
  {
   "cell_type": "code",
   "execution_count": 110,
   "metadata": {},
   "outputs": [],
   "source": [
    "test_fulldata['lgb_pred'] = lgb_sub_preds\n",
    "test_fulldata['xgb_pred'] = xgb_sub_preds\n",
    "test_fulldata['cst_pred'] = cat_sub_preds\n",
    "test_final_data = test_fulldata[['lgb_pred','xgb_pred','cst_pred']]"
   ]
  },
  {
   "cell_type": "code",
   "execution_count": 111,
   "metadata": {},
   "outputs": [],
   "source": [
    "train_fulldata['lgb_pred'] = lgb_oof_preds\n",
    "train_fulldata['xgb_pred'] = xgb_oof_preds\n",
    "train_fulldata['cst_pred'] = cat_oof_preds\n",
    "train_final_data = train_fulldata[['lgb_pred','xgb_pred','cst_pred']]"
   ]
  },
  {
   "cell_type": "code",
   "execution_count": 112,
   "metadata": {},
   "outputs": [
    {
     "data": {
      "text/plain": [
       "1.4958786450099195"
      ]
     },
     "execution_count": 112,
     "metadata": {},
     "output_type": "execute_result"
    }
   ],
   "source": [
    "from sklearn.linear_model import LinearRegression\n",
    "\n",
    "folds = get_folds(df=train_fulldata[['totals_pageviews']].reset_index(), n_splits=5)\n",
    "\n",
    "final_oof_preds = np.zeros(train_final_data.shape[0])\n",
    "final_sub_preds = np.zeros(test_final_data.shape[0])\n",
    "vis_importances = pd.DataFrame()\n",
    "\n",
    "for fold_, (trn_, val_) in enumerate(folds):\n",
    "    trn_x, trn_y = train_final_data.iloc[trn_], trn_user_target['target'].iloc[trn_]\n",
    "    val_x, val_y = train_final_data.iloc[val_], trn_user_target['target'].iloc[val_]\n",
    "    \n",
    "    lin_reg = LinearRegression()\n",
    "    lin_reg.fit(trn_x,np.log1p(trn_y))\n",
    "    final_oof_preds[val_] = lin_reg.predict(val_x)\n",
    "    final_oof_preds[final_oof_preds < 0] = 0\n",
    "    \n",
    "    # Make sure features are in the same order\n",
    "    _preds = lin_reg.predict(test_final_data[train_final_data.columns])\n",
    "    _preds[_preds < 0] = 0\n",
    "    final_sub_preds += _preds / len(folds)\n",
    "    \n",
    "mean_squared_error(np.log1p(trn_user_target['target']), final_oof_preds) ** .5"
   ]
  },
  {
   "cell_type": "code",
   "execution_count": 114,
   "metadata": {},
   "outputs": [],
   "source": [
    "test_fulldata['PredictedLogRevenue'] = final_sub_preds\n",
    "test_fulldata[['PredictedLogRevenue']].to_csv('/home/baitong/pywork/RevenuePrediction/submission.csv', index=True)"
   ]
  },
  {
   "cell_type": "code",
   "execution_count": 115,
   "metadata": {},
   "outputs": [
    {
     "data": {
      "text/plain": [
       "296918"
      ]
     },
     "execution_count": 115,
     "metadata": {},
     "output_type": "execute_result"
    }
   ],
   "source": [
    "len(test_fulldata)"
   ]
  }
 ],
 "metadata": {
  "kernelspec": {
   "display_name": "tensorflow",
   "language": "python",
   "name": "tensorflow"
  },
  "language_info": {
   "codemirror_mode": {
    "name": "ipython",
    "version": 3
   },
   "file_extension": ".py",
   "mimetype": "text/x-python",
   "name": "python",
   "nbconvert_exporter": "python",
   "pygments_lexer": "ipython3",
   "version": "3.6.4"
  }
 },
 "nbformat": 4,
 "nbformat_minor": 2
}
