{
 "cells": [
  {
   "cell_type": "code",
   "execution_count": 1,
   "metadata": {},
   "outputs": [],
   "source": [
    "import numpy as np \n",
    "import pandas as pd \n",
    "import gc\n",
    "import matplotlib.pyplot as plt\n",
    "import time\n",
    "import seaborn as sns\n",
    "from sklearn.metrics import mean_squared_error\n",
    "import lightgbm as lgb\n",
    "from sklearn.model_selection import GroupKFold\n",
    "gc.enable()"
   ]
  },
  {
   "cell_type": "code",
   "execution_count": 2,
   "metadata": {},
   "outputs": [],
   "source": [
    "path='/home/baitong/pywork/RevenuePrediction/'"
   ]
  },
  {
   "cell_type": "code",
   "execution_count": 15,
   "metadata": {},
   "outputs": [],
   "source": [
    "def readAllData(csvpath=path,n=18,name = 'train0'):\n",
    "    fulldata = pd.DataFrame()\n",
    "    for i in range(n):       \n",
    "        print('loading data : ' + name + '%d'%i)\n",
    "        df = pd.read_csv(csvpath+name +str(i) +'.csv',dtype={'fullVisitorId': 'str'})\n",
    "        fulldata = pd.concat([fulldata,df],axis=0)\n",
    "        del df\n",
    "        gc.collect()\n",
    "    return fulldata"
   ]
  },
  {
   "cell_type": "code",
   "execution_count": 16,
   "metadata": {},
   "outputs": [
    {
     "name": "stdout",
     "output_type": "stream",
     "text": [
      "loading data : train00\n",
      "loading data : train01\n"
     ]
    },
    {
     "name": "stderr",
     "output_type": "stream",
     "text": [
      "/home/baitong/tensorflow/lib/python3.6/site-packages/ipykernel_launcher.py:6: FutureWarning: Sorting because non-concatenation axis is not aligned. A future version\n",
      "of pandas will change to not sort by default.\n",
      "\n",
      "To accept the future behavior, pass 'sort=False'.\n",
      "\n",
      "To retain the current behavior and silence the warning, pass 'sort=True'.\n",
      "\n",
      "  \n"
     ]
    },
    {
     "name": "stdout",
     "output_type": "stream",
     "text": [
      "loading data : train02\n",
      "loading data : train03\n",
      "loading data : train04\n",
      "loading data : train05\n",
      "loading data : train06\n",
      "loading data : train07\n",
      "loading data : train08\n",
      "loading data : train09\n",
      "loading data : train010\n",
      "loading data : train011\n",
      "loading data : train012\n",
      "loading data : train013\n",
      "loading data : train014\n",
      "loading data : train015\n",
      "loading data : train016\n",
      "loading data : train017\n",
      "CPU times: user 49.3 s, sys: 11.7 s, total: 1min 1s\n",
      "Wall time: 1min 1s\n"
     ]
    }
   ],
   "source": [
    "%%time\n",
    "train = readAllData()"
   ]
  },
  {
   "cell_type": "code",
   "execution_count": 69,
   "metadata": {},
   "outputs": [],
   "source": [
    "# train.columns"
   ]
  },
  {
   "cell_type": "code",
   "execution_count": 20,
   "metadata": {},
   "outputs": [],
   "source": [
    "f = ['visitId','totals_totalTransactionRevenue','trafficSource_campaignCode','hits_transaction.transactionId','hits_item.transactionId', 'hits_latencyTracking.domainLookupTime','hits_latencyTracking.redirectionTime','hits_latencyTracking.serverConnectionTime']"
   ]
  },
  {
   "cell_type": "code",
   "execution_count": 24,
   "metadata": {},
   "outputs": [],
   "source": [
    "train = train.drop(f,axis =1)"
   ]
  },
  {
   "cell_type": "code",
   "execution_count": 27,
   "metadata": {},
   "outputs": [],
   "source": [
    "train.to_csv(path+'train_combine.csv',index = False)"
   ]
  },
  {
   "cell_type": "code",
   "execution_count": 36,
   "metadata": {},
   "outputs": [],
   "source": [
    "# train.visitStartTime.value_counts()"
   ]
  },
  {
   "cell_type": "code",
   "execution_count": 46,
   "metadata": {},
   "outputs": [],
   "source": [
    "# import datetime\n",
    "# ###将时间戳转换为标准时间表示\n",
    "# train.visitStartTime = pd.to_datetime(train.visitStartTime, unit='s')\n",
    "# train[\"date\"] = train.visitStartTime\n",
    "##将日期转换为字符串格式\n",
    "# train['date'] = train['date'].apply(lambda x: datetime.date(int(str(x)[:4]), int(str(x)[4:6]), int(str(x)[6:])))"
   ]
  },
  {
   "cell_type": "code",
   "execution_count": 66,
   "metadata": {},
   "outputs": [],
   "source": [
    "# train['date'] = train['date'].apply(lambda x: datetime.date(int(str(x)[:4]), int(str(x)[4:6]), int(str(x)[6:])))\n",
    "# train['date'].value_counts()\n"
   ]
  },
  {
   "cell_type": "code",
   "execution_count": 68,
   "metadata": {},
   "outputs": [],
   "source": [
    "# '0   2017-10-17 00:00:50\\n0   2017-05-29 16:07:23\\n0   2016-10-22 10:33:33\\n0   2016-10-21 17:54:58\\n0   2017-11-25 15:15:54\\n0   2017-11-19 11:50:44\\n0   2017-10-23 15:54:42\\n0   2017-12-13 11:46:52\\n0   2017-09-26 21:18:09\\n0   2018-04-25 12:29:00\\n0   2018-02-24 02:37:24\\n0   2017-09-10 16:34:03\\n0   2016-10-11 07:24:47\\n0   2017-07-20 05:26:11\\n0   2016-09-26 18:27:28\\n0   2017-11-15 04:14:52\\n0   2017-04-07 16:40:24\\n0   2018-02-10 06:27:10\\nName: date, dtype: datetime64[ns]'\n",
    "# train[\"date\"]"
   ]
  },
  {
   "cell_type": "code",
   "execution_count": 43,
   "metadata": {},
   "outputs": [],
   "source": [
    "# train = train[train['date'] != 'No']"
   ]
  },
  {
   "cell_type": "code",
   "execution_count": 67,
   "metadata": {},
   "outputs": [],
   "source": [
    "# train['date'] = train['date'].astype(\"float\")\n",
    "\n",
    "# dev_df = train[(train['date']<=20171015) & (train['date']>=(20170501))]\n",
    "# val_df = train[(train['date']>=20171201) & (train['date']<=(20180131))]\n",
    "# len(dev_df),len(val_df)"
   ]
  },
  {
   "cell_type": "code",
   "execution_count": null,
   "metadata": {},
   "outputs": [],
   "source": []
  },
  {
   "cell_type": "code",
   "execution_count": null,
   "metadata": {},
   "outputs": [],
   "source": []
  }
 ],
 "metadata": {
  "kernelspec": {
   "display_name": "tensorflow",
   "language": "python",
   "name": "tensorflow"
  },
  "language_info": {
   "codemirror_mode": {
    "name": "ipython",
    "version": 3
   },
   "file_extension": ".py",
   "mimetype": "text/x-python",
   "name": "python",
   "nbconvert_exporter": "python",
   "pygments_lexer": "ipython3",
   "version": "3.6.4"
  }
 },
 "nbformat": 4,
 "nbformat_minor": 2
}
