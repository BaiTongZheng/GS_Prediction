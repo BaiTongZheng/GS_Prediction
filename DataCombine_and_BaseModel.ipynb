{
 "cells": [
  {
   "cell_type": "code",
   "execution_count": 114,
   "metadata": {},
   "outputs": [],
   "source": [
    "import numpy as np \n",
    "import pandas as pd \n",
    "import gc\n",
    "import matplotlib.pyplot as plt\n",
    "import time\n",
    "import seaborn as sns\n",
    "from sklearn.metrics import mean_squared_error\n",
    "import lightgbm as lgb\n",
    "from sklearn.model_selection import GroupKFold\n",
    "from pandas.core.common import SettingWithCopyWarning\n",
    "import warnings\n",
    "warnings.simplefilter('error', SettingWithCopyWarning)\n",
    "\n",
    "gc.enable()"
   ]
  },
  {
   "cell_type": "code",
   "execution_count": 2,
   "metadata": {},
   "outputs": [],
   "source": [
    "path='/home/baitong/pywork/RevenuePrediction/'"
   ]
  },
  {
   "cell_type": "code",
   "execution_count": 289,
   "metadata": {},
   "outputs": [],
   "source": [
    "def readAllData(csvpath=path,n=18,name = 'train0'):\n",
    "    fulldata = pd.DataFrame()\n",
    "    for i in range(n):       \n",
    "        print('loading data : ' + name + '%d'%i)\n",
    "        df = pd.read_csv(csvpath+name +str(i) +'.csv',dtype={'fullVisitorId': 'str'})\n",
    "        fulldata = pd.concat([fulldata,df],axis=0)\n",
    "        del df\n",
    "        gc.collect()\n",
    "    return fulldata"
   ]
  },
  {
   "cell_type": "code",
   "execution_count": 374,
   "metadata": {},
   "outputs": [
    {
     "name": "stdout",
     "output_type": "stream",
     "text": [
      "loading data : train00\n"
     ]
    },
    {
     "name": "stderr",
     "output_type": "stream",
     "text": [
      "/home/baitong/tensorflow/lib/python3.6/site-packages/IPython/core/magic.py:187: DtypeWarning: Columns (1,3,5,8,41,43,45,51,61,62,63) have mixed types. Specify dtype option on import or set low_memory=False.\n",
      "  call = lambda f, *a, **k: f(*a, **k)\n"
     ]
    },
    {
     "name": "stdout",
     "output_type": "stream",
     "text": [
      "loading data : train01\n"
     ]
    },
    {
     "name": "stderr",
     "output_type": "stream",
     "text": [
      "/home/baitong/tensorflow/lib/python3.6/site-packages/IPython/core/magic.py:187: DtypeWarning: Columns (32,44,46,52,62,63,64) have mixed types. Specify dtype option on import or set low_memory=False.\n",
      "  call = lambda f, *a, **k: f(*a, **k)\n",
      "/home/baitong/tensorflow/lib/python3.6/site-packages/ipykernel_launcher.py:6: FutureWarning: Sorting because non-concatenation axis is not aligned. A future version\n",
      "of pandas will change to not sort by default.\n",
      "\n",
      "To accept the future behavior, pass 'sort=False'.\n",
      "\n",
      "To retain the current behavior and silence the warning, pass 'sort=True'.\n",
      "\n",
      "  \n"
     ]
    },
    {
     "name": "stdout",
     "output_type": "stream",
     "text": [
      "loading data : train02\n"
     ]
    },
    {
     "name": "stderr",
     "output_type": "stream",
     "text": [
      "/home/baitong/tensorflow/lib/python3.6/site-packages/IPython/core/magic.py:187: DtypeWarning: Columns (41,43,45,51,61,62,63) have mixed types. Specify dtype option on import or set low_memory=False.\n",
      "  call = lambda f, *a, **k: f(*a, **k)\n"
     ]
    },
    {
     "name": "stdout",
     "output_type": "stream",
     "text": [
      "loading data : train03\n",
      "loading data : train04\n",
      "loading data : train05\n"
     ]
    },
    {
     "name": "stderr",
     "output_type": "stream",
     "text": [
      "/home/baitong/tensorflow/lib/python3.6/site-packages/IPython/core/magic.py:187: DtypeWarning: Columns (27,28,30,43,45,51,53,64,71,76) have mixed types. Specify dtype option on import or set low_memory=False.\n",
      "  call = lambda f, *a, **k: f(*a, **k)\n"
     ]
    },
    {
     "name": "stdout",
     "output_type": "stream",
     "text": [
      "loading data : train06\n"
     ]
    },
    {
     "name": "stderr",
     "output_type": "stream",
     "text": [
      "/home/baitong/tensorflow/lib/python3.6/site-packages/IPython/core/magic.py:187: DtypeWarning: Columns (26,27,28,30,43,45,51,64,65,66) have mixed types. Specify dtype option on import or set low_memory=False.\n",
      "  call = lambda f, *a, **k: f(*a, **k)\n"
     ]
    },
    {
     "name": "stdout",
     "output_type": "stream",
     "text": [
      "loading data : train07\n"
     ]
    },
    {
     "name": "stderr",
     "output_type": "stream",
     "text": [
      "/home/baitong/tensorflow/lib/python3.6/site-packages/IPython/core/magic.py:187: DtypeWarning: Columns (41,43,45,51,53,63,64,65,72,77) have mixed types. Specify dtype option on import or set low_memory=False.\n",
      "  call = lambda f, *a, **k: f(*a, **k)\n"
     ]
    },
    {
     "name": "stdout",
     "output_type": "stream",
     "text": [
      "loading data : train08\n"
     ]
    },
    {
     "name": "stderr",
     "output_type": "stream",
     "text": [
      "/home/baitong/tensorflow/lib/python3.6/site-packages/IPython/core/magic.py:187: DtypeWarning: Columns (43,45,51,64,65,66) have mixed types. Specify dtype option on import or set low_memory=False.\n",
      "  call = lambda f, *a, **k: f(*a, **k)\n"
     ]
    },
    {
     "name": "stdout",
     "output_type": "stream",
     "text": [
      "loading data : train09\n"
     ]
    },
    {
     "name": "stderr",
     "output_type": "stream",
     "text": [
      "/home/baitong/tensorflow/lib/python3.6/site-packages/IPython/core/magic.py:187: DtypeWarning: Columns (1,3,5,8,43,45,51,64,65,66) have mixed types. Specify dtype option on import or set low_memory=False.\n",
      "  call = lambda f, *a, **k: f(*a, **k)\n"
     ]
    },
    {
     "name": "stdout",
     "output_type": "stream",
     "text": [
      "loading data : train010\n"
     ]
    },
    {
     "name": "stderr",
     "output_type": "stream",
     "text": [
      "/home/baitong/tensorflow/lib/python3.6/site-packages/IPython/core/magic.py:187: DtypeWarning: Columns (41,43,45,51,64,65,66) have mixed types. Specify dtype option on import or set low_memory=False.\n",
      "  call = lambda f, *a, **k: f(*a, **k)\n"
     ]
    },
    {
     "name": "stdout",
     "output_type": "stream",
     "text": [
      "loading data : train011\n"
     ]
    },
    {
     "name": "stderr",
     "output_type": "stream",
     "text": [
      "/home/baitong/tensorflow/lib/python3.6/site-packages/IPython/core/magic.py:187: DtypeWarning: Columns (1,3,8,17,41,43,45,51,53,67,74,79) have mixed types. Specify dtype option on import or set low_memory=False.\n",
      "  call = lambda f, *a, **k: f(*a, **k)\n"
     ]
    },
    {
     "name": "stdout",
     "output_type": "stream",
     "text": [
      "loading data : train012\n"
     ]
    },
    {
     "name": "stderr",
     "output_type": "stream",
     "text": [
      "/home/baitong/tensorflow/lib/python3.6/site-packages/IPython/core/magic.py:187: DtypeWarning: Columns (1,3,8,17,43,45,51,53,65,66,67,74,79) have mixed types. Specify dtype option on import or set low_memory=False.\n",
      "  call = lambda f, *a, **k: f(*a, **k)\n"
     ]
    },
    {
     "name": "stdout",
     "output_type": "stream",
     "text": [
      "loading data : train013\n"
     ]
    },
    {
     "name": "stderr",
     "output_type": "stream",
     "text": [
      "/home/baitong/tensorflow/lib/python3.6/site-packages/IPython/core/magic.py:187: DtypeWarning: Columns (1,3,8,41,43,45,51,53,65,72,77) have mixed types. Specify dtype option on import or set low_memory=False.\n",
      "  call = lambda f, *a, **k: f(*a, **k)\n"
     ]
    },
    {
     "name": "stdout",
     "output_type": "stream",
     "text": [
      "loading data : train014\n"
     ]
    },
    {
     "name": "stderr",
     "output_type": "stream",
     "text": [
      "/home/baitong/tensorflow/lib/python3.6/site-packages/IPython/core/magic.py:187: DtypeWarning: Columns (43,45,51,53,66,73,78) have mixed types. Specify dtype option on import or set low_memory=False.\n",
      "  call = lambda f, *a, **k: f(*a, **k)\n"
     ]
    },
    {
     "name": "stdout",
     "output_type": "stream",
     "text": [
      "loading data : train015\n"
     ]
    },
    {
     "name": "stderr",
     "output_type": "stream",
     "text": [
      "/home/baitong/tensorflow/lib/python3.6/site-packages/IPython/core/magic.py:187: DtypeWarning: Columns (41,43,45,51,66) have mixed types. Specify dtype option on import or set low_memory=False.\n",
      "  call = lambda f, *a, **k: f(*a, **k)\n"
     ]
    },
    {
     "name": "stdout",
     "output_type": "stream",
     "text": [
      "loading data : train016\n"
     ]
    },
    {
     "name": "stderr",
     "output_type": "stream",
     "text": [
      "/home/baitong/tensorflow/lib/python3.6/site-packages/IPython/core/magic.py:187: DtypeWarning: Columns (1,3,5,8,41,43,45,51,66) have mixed types. Specify dtype option on import or set low_memory=False.\n",
      "  call = lambda f, *a, **k: f(*a, **k)\n"
     ]
    },
    {
     "name": "stdout",
     "output_type": "stream",
     "text": [
      "loading data : train017\n"
     ]
    },
    {
     "name": "stderr",
     "output_type": "stream",
     "text": [
      "/home/baitong/tensorflow/lib/python3.6/site-packages/IPython/core/magic.py:187: DtypeWarning: Columns (26,27,28,30,33,41,44,48,50) have mixed types. Specify dtype option on import or set low_memory=False.\n",
      "  call = lambda f, *a, **k: f(*a, **k)\n"
     ]
    },
    {
     "name": "stdout",
     "output_type": "stream",
     "text": [
      "loading data : test00\n",
      "loading data : test01\n",
      "loading data : test02\n",
      "loading data : test03\n",
      "loading data : test04\n",
      "CPU times: user 58.7 s, sys: 7.84 s, total: 1min 6s\n",
      "Wall time: 1min 26s\n"
     ]
    }
   ],
   "source": [
    "%%time\n",
    "train = readAllData()\n",
    "test = readAllData(n=5,name = 'test0')"
   ]
  },
  {
   "cell_type": "code",
   "execution_count": 375,
   "metadata": {},
   "outputs": [],
   "source": [
    "useless = ['customDimensions_index','hits_appInfo.screenDepth','hits_dataSource','hits_eCommerceAction.option',\n",
    "'hits_eCommerceAction.step','hits_exceptionInfo.isFatal','hits_index','hits_isEntrance','hits_isExit','hits_isInteraction',\n",
    "'hits_item.currencyCode','hits_minute','hits_page.searchCategory','hits_page.searchKeyword',\n",
    "'hits_promotionActionInfo.promoIsClick','hits_social.socialInteractionNetworkAction','hits_time',\n",
    "           'hits_transaction.affiliation','hits_transaction.localTransactionRevenue','hits_transaction.localTransactionShipping',\n",
    "'hits_transaction.transactionTax','hits_transaction.transactionRevenue','hits_type','hits_value',\n",
    "'hits_transaction.transactionShipping','hits_transaction.transactionTax','trafficSource_adwordsClickInfo.adNetworkType',\n",
    "'trafficSource_adwordsClickInfo.isVideoAd','trafficSource_adwordsClickInfo.page',\n",
    "'trafficSource_adwordsClickInfo.slot', 'trafficSource_campaign','trafficSource_keyword']"
   ]
  },
  {
   "cell_type": "code",
   "execution_count": 376,
   "metadata": {
    "scrolled": true
   },
   "outputs": [],
   "source": [
    "train.drop(useless,inplace = True ,axis =1)\n",
    "test.drop(useless,inplace = True ,axis =1)"
   ]
  },
  {
   "cell_type": "code",
   "execution_count": 377,
   "metadata": {},
   "outputs": [
    {
     "data": {
      "text/plain": [
       "Index(['channelGrouping', 'customDimensions_value', 'date', 'device_browser',\n",
       "       'device_deviceCategory', 'device_isMobile', 'device_operatingSystem',\n",
       "       'fullVisitorId', 'geoNetwork_city', 'geoNetwork_continent',\n",
       "       'geoNetwork_country', 'geoNetwork_metro', 'geoNetwork_networkDomain',\n",
       "       'geoNetwork_region', 'geoNetwork_subContinent',\n",
       "       'hits_appInfo.exitScreenName', 'hits_appInfo.landingScreenName',\n",
       "       'hits_appInfo.screenName', 'hits_eCommerceAction.action_type',\n",
       "       'hits_hitNumber', 'hits_hour', 'hits_item.transactionId',\n",
       "       'hits_latencyTracking.domainLookupTime',\n",
       "       'hits_latencyTracking.redirectionTime',\n",
       "       'hits_latencyTracking.serverConnectionTime', 'hits_page.hostname',\n",
       "       'hits_page.pagePath', 'hits_page.pagePathLevel1',\n",
       "       'hits_page.pagePathLevel2', 'hits_page.pagePathLevel3',\n",
       "       'hits_page.pagePathLevel4', 'hits_page.pageTitle',\n",
       "       'hits_promotionActionInfo.promoIsView', 'hits_referer',\n",
       "       'hits_social.hasSocialSourceReferral', 'hits_social.socialNetwork',\n",
       "       'hits_transaction.currencyCode', 'hits_transaction.localTransactionTax',\n",
       "       'hits_transaction.transactionId', 'totals_bounces', 'totals_hits',\n",
       "       'totals_newVisits', 'totals_pageviews', 'totals_sessionQualityDim',\n",
       "       'totals_timeOnSite', 'totals_totalTransactionRevenue',\n",
       "       'totals_transactionRevenue', 'totals_transactions',\n",
       "       'trafficSource_adContent', 'trafficSource_campaignCode',\n",
       "       'trafficSource_isTrueDirect', 'trafficSource_medium',\n",
       "       'trafficSource_referralPath', 'trafficSource_source', 'visitId',\n",
       "       'visitNumber', 'visitStartTime'],\n",
       "      dtype='object')"
      ]
     },
     "execution_count": 377,
     "metadata": {},
     "output_type": "execute_result"
    }
   ],
   "source": [
    "train.columns"
   ]
  },
  {
   "cell_type": "code",
   "execution_count": 378,
   "metadata": {},
   "outputs": [],
   "source": [
    "num_feature = ['hits_hitNumber','hits_hour','totals_bounces','totals_hits', 'totals_newVisits', 'totals_pageviews',\n",
    "       'totals_sessionQualityDim','totals_timeOnSite',\n",
    "       'totals_transactionRevenue', 'totals_transactions','visitNumber']\n",
    "exclude_feature = ['visitStartTime','date','fullVisitorId']"
   ]
  },
  {
   "cell_type": "code",
   "execution_count": 381,
   "metadata": {},
   "outputs": [],
   "source": [
    "train = pd.read_csv(path+'train_useful.csv',dtype={'fullVisitorId': 'str'})\n",
    "test = pd.read_csv(path+'test_useful.csv',dtype={'fullVisitorId': 'str'})"
   ]
  },
  {
   "cell_type": "code",
   "execution_count": 382,
   "metadata": {},
   "outputs": [],
   "source": [
    "train['referralPath_depth']=train['trafficSource_referralPath'][train['trafficSource_referralPath'].notnull()].apply(lambda x:x.count('/'))\n",
    "train['exitScreenName_depth']=train['hits_appInfo.exitScreenName'][train['hits_appInfo.exitScreenName'].notnull()].apply(lambda x:x.count('/'))\n",
    "train['landingScreenName_depth']=train['hits_appInfo.landingScreenName'][train['hits_appInfo.landingScreenName'].notnull()].apply(lambda x:x.count('/'))\n",
    "train['pagePath_depth']=train['hits_page.pagePath'][train['hits_page.pagePath'].notnull()].apply(lambda x:x.count('/'))\n",
    "train['pagePathLevel1_depth']=train['hits_page.pagePathLevel1'][train['hits_page.pagePathLevel1'].notnull()].apply(lambda x:x.count('/'))\n",
    "train['pagePathLevel2_depth']=train['hits_page.pagePathLevel2'][train['hits_page.pagePathLevel2'].notnull()].apply(lambda x:x.count('/'))\n",
    "train['pagePathLevel3_depth']=train['hits_page.pagePathLevel3'][train['hits_page.pagePathLevel3'].notnull()].apply(lambda x:x.count('/'))\n",
    "train['pagePathLevel4_depth']=train['hits_page.pagePathLevel4'][train['hits_page.pagePathLevel4'].notnull()].apply(lambda x:x.count('/'))\n",
    "train['hits_referer_depth']=train['hits_referer'][train['hits_referer'].notnull()].apply(lambda x:x.count('/'))\n",
    "\n"
   ]
  },
  {
   "cell_type": "code",
   "execution_count": null,
   "metadata": {},
   "outputs": [],
   "source": []
  },
  {
   "cell_type": "code",
   "execution_count": 383,
   "metadata": {},
   "outputs": [
    {
     "data": {
      "text/plain": [
       "62"
      ]
     },
     "execution_count": 383,
     "metadata": {},
     "output_type": "execute_result"
    }
   ],
   "source": [
    "test['referralPath_depth']=test['trafficSource_referralPath'][test['trafficSource_referralPath'].notnull()].apply(lambda x:x.count('/'))\n",
    "test['exitScreenName_depth']=test['hits_appInfo.exitScreenName'][test['hits_appInfo.exitScreenName'].notnull()].apply(lambda x:x.count('/'))\n",
    "test['landingScreenName_depth']=test['hits_appInfo.landingScreenName'][test['hits_appInfo.landingScreenName'].notnull()].apply(lambda x:x.count('/'))\n",
    "test['pagePath_depth']=test['hits_page.pagePath'][test['hits_page.pagePath'].notnull()].apply(lambda x:x.count('/'))\n",
    "test['pagePathLevel1_depth']=test['hits_page.pagePathLevel1'][test['hits_page.pagePathLevel1'].notnull()].apply(lambda x:x.count('/'))\n",
    "test['pagePathLevel2_depth']=test['hits_page.pagePathLevel2'][test['hits_page.pagePathLevel2'].notnull()].apply(lambda x:x.count('/'))\n",
    "test['pagePathLevel3_depth']=test['hits_page.pagePathLevel3'][test['hits_page.pagePathLevel3'].notnull()].apply(lambda x:x.count('/'))\n",
    "test['pagePathLevel4_depth']=test['hits_page.pagePathLevel4'][test['hits_page.pagePathLevel4'].notnull()].apply(lambda x:x.count('/'))\n",
    "test['hits_referer_depth']=test['hits_referer'][test['hits_referer'].notnull()].apply(lambda x:x.count('/'))\n",
    "len(test.columns)"
   ]
  },
  {
   "cell_type": "code",
   "execution_count": 384,
   "metadata": {},
   "outputs": [
    {
     "name": "stdout",
     "output_type": "stream",
     "text": [
      "['channelGrouping', 'customDimensions_value', 'device_browser', 'device_deviceCategory', 'device_isMobile', 'device_operatingSystem', 'geoNetwork_city', 'geoNetwork_continent', 'geoNetwork_country', 'geoNetwork_metro', 'geoNetwork_networkDomain', 'geoNetwork_region', 'geoNetwork_subContinent', 'hits_appInfo.exitScreenName', 'hits_appInfo.landingScreenName', 'hits_appInfo.screenName', 'hits_eCommerceAction.action_type', 'hits_page.hostname', 'hits_page.pagePath', 'hits_page.pagePathLevel1', 'hits_page.pagePathLevel2', 'hits_page.pagePathLevel3', 'hits_page.pagePathLevel4', 'hits_page.pageTitle', 'hits_promotionActionInfo.promoIsView', 'hits_referer', 'hits_social.hasSocialSourceReferral', 'hits_social.socialNetwork', 'hits_transaction.currencyCode', 'hits_transaction.localTransactionTax', 'trafficSource_adContent', 'trafficSource_isTrueDirect', 'trafficSource_medium', 'trafficSource_referralPath', 'trafficSource_source']\n"
     ]
    }
   ],
   "source": [
    "depth_feature = ['referralPath_depth','exitScreenName_depth','landingScreenName_depth',\n",
    "                'pagePath_depth','pagePathLevel1_depth','pagePathLevel2_depth',\n",
    "                'pagePathLevel3_depth','pagePathLevel4_depth','hits_referer_depth']\n",
    "cat_feature = [f for f in train.columns if (f not in exclude_feature+num_feature+depth_feature)]\n",
    "print(cat_feature)"
   ]
  },
  {
   "cell_type": "code",
   "execution_count": 385,
   "metadata": {},
   "outputs": [],
   "source": [
    "##将缺失值表示统一\n",
    "def replaceCatNa(df):\n",
    "    Nalist = ['(not set)','0','not available in demo dataset','unknown.unknown','(not provided)','(none)']\n",
    "    for col in cat_feature:\n",
    "        df[col] = df[col].astype('str') \n",
    "        df[col] = df[col].apply(lambda x : np.nan if x in Nalist else x)\n",
    "    return df"
   ]
  },
  {
   "cell_type": "code",
   "execution_count": 386,
   "metadata": {},
   "outputs": [],
   "source": [
    "train = replaceCatNa(train)\n",
    "test = replaceCatNa(test)"
   ]
  },
  {
   "cell_type": "code",
   "execution_count": 387,
   "metadata": {},
   "outputs": [
    {
     "data": {
      "text/html": [
       "<div>\n",
       "<style scoped>\n",
       "    .dataframe tbody tr th:only-of-type {\n",
       "        vertical-align: middle;\n",
       "    }\n",
       "\n",
       "    .dataframe tbody tr th {\n",
       "        vertical-align: top;\n",
       "    }\n",
       "\n",
       "    .dataframe thead th {\n",
       "        text-align: right;\n",
       "    }\n",
       "</style>\n",
       "<table border=\"1\" class=\"dataframe\">\n",
       "  <thead>\n",
       "    <tr style=\"text-align: right;\">\n",
       "      <th></th>\n",
       "      <th>channelGrouping</th>\n",
       "      <th>customDimensions_value</th>\n",
       "      <th>date</th>\n",
       "      <th>device_browser</th>\n",
       "      <th>device_deviceCategory</th>\n",
       "      <th>device_isMobile</th>\n",
       "      <th>device_operatingSystem</th>\n",
       "      <th>fullVisitorId</th>\n",
       "      <th>geoNetwork_city</th>\n",
       "      <th>geoNetwork_continent</th>\n",
       "      <th>...</th>\n",
       "      <th>visitStartTime</th>\n",
       "      <th>referralPath_depth</th>\n",
       "      <th>exitScreenName_depth</th>\n",
       "      <th>landingScreenName_depth</th>\n",
       "      <th>pagePath_depth</th>\n",
       "      <th>pagePathLevel1_depth</th>\n",
       "      <th>pagePathLevel2_depth</th>\n",
       "      <th>pagePathLevel3_depth</th>\n",
       "      <th>pagePathLevel4_depth</th>\n",
       "      <th>hits_referer_depth</th>\n",
       "    </tr>\n",
       "  </thead>\n",
       "  <tbody>\n",
       "    <tr>\n",
       "      <th>0</th>\n",
       "      <td>Organic Search</td>\n",
       "      <td>EMEA</td>\n",
       "      <td>20171016.0</td>\n",
       "      <td>Firefox</td>\n",
       "      <td>desktop</td>\n",
       "      <td>False</td>\n",
       "      <td>Windows</td>\n",
       "      <td>3162355547410993243</td>\n",
       "      <td>NaN</td>\n",
       "      <td>Europe</td>\n",
       "      <td>...</td>\n",
       "      <td>2017-10-17 00:00:50</td>\n",
       "      <td>NaN</td>\n",
       "      <td>3.0</td>\n",
       "      <td>3.0</td>\n",
       "      <td>3.0</td>\n",
       "      <td>2.0</td>\n",
       "      <td>2.0</td>\n",
       "      <td>1.0</td>\n",
       "      <td>NaN</td>\n",
       "      <td>3.0</td>\n",
       "    </tr>\n",
       "    <tr>\n",
       "      <th>1</th>\n",
       "      <td>Referral</td>\n",
       "      <td>North America</td>\n",
       "      <td>20171016.0</td>\n",
       "      <td>Chrome</td>\n",
       "      <td>desktop</td>\n",
       "      <td>False</td>\n",
       "      <td>Chrome OS</td>\n",
       "      <td>8934116514970143966</td>\n",
       "      <td>Cupertino</td>\n",
       "      <td>Americas</td>\n",
       "      <td>...</td>\n",
       "      <td>2017-10-16 17:51:47</td>\n",
       "      <td>6.0</td>\n",
       "      <td>1.0</td>\n",
       "      <td>1.0</td>\n",
       "      <td>1.0</td>\n",
       "      <td>1.0</td>\n",
       "      <td>NaN</td>\n",
       "      <td>NaN</td>\n",
       "      <td>NaN</td>\n",
       "      <td>8.0</td>\n",
       "    </tr>\n",
       "    <tr>\n",
       "      <th>2</th>\n",
       "      <td>Direct</td>\n",
       "      <td>North America</td>\n",
       "      <td>20171016.0</td>\n",
       "      <td>Chrome</td>\n",
       "      <td>mobile</td>\n",
       "      <td>True</td>\n",
       "      <td>Android</td>\n",
       "      <td>7992466427990357681</td>\n",
       "      <td>NaN</td>\n",
       "      <td>Americas</td>\n",
       "      <td>...</td>\n",
       "      <td>2017-10-17 00:53:33</td>\n",
       "      <td>NaN</td>\n",
       "      <td>3.0</td>\n",
       "      <td>1.0</td>\n",
       "      <td>1.0</td>\n",
       "      <td>1.0</td>\n",
       "      <td>NaN</td>\n",
       "      <td>NaN</td>\n",
       "      <td>NaN</td>\n",
       "      <td>3.0</td>\n",
       "    </tr>\n",
       "    <tr>\n",
       "      <th>3</th>\n",
       "      <td>Organic Search</td>\n",
       "      <td>EMEA</td>\n",
       "      <td>20171016.0</td>\n",
       "      <td>Chrome</td>\n",
       "      <td>desktop</td>\n",
       "      <td>False</td>\n",
       "      <td>Windows</td>\n",
       "      <td>9075655783635761930</td>\n",
       "      <td>NaN</td>\n",
       "      <td>Asia</td>\n",
       "      <td>...</td>\n",
       "      <td>2017-10-16 16:04:11</td>\n",
       "      <td>NaN</td>\n",
       "      <td>3.0</td>\n",
       "      <td>1.0</td>\n",
       "      <td>1.0</td>\n",
       "      <td>1.0</td>\n",
       "      <td>NaN</td>\n",
       "      <td>NaN</td>\n",
       "      <td>NaN</td>\n",
       "      <td>3.0</td>\n",
       "    </tr>\n",
       "    <tr>\n",
       "      <th>4</th>\n",
       "      <td>Organic Search</td>\n",
       "      <td>Central America</td>\n",
       "      <td>20171016.0</td>\n",
       "      <td>Chrome</td>\n",
       "      <td>desktop</td>\n",
       "      <td>False</td>\n",
       "      <td>Windows</td>\n",
       "      <td>6960673291025684308</td>\n",
       "      <td>NaN</td>\n",
       "      <td>Americas</td>\n",
       "      <td>...</td>\n",
       "      <td>2017-10-16 21:49:12</td>\n",
       "      <td>NaN</td>\n",
       "      <td>4.0</td>\n",
       "      <td>1.0</td>\n",
       "      <td>1.0</td>\n",
       "      <td>1.0</td>\n",
       "      <td>NaN</td>\n",
       "      <td>NaN</td>\n",
       "      <td>NaN</td>\n",
       "      <td>3.0</td>\n",
       "    </tr>\n",
       "  </tbody>\n",
       "</table>\n",
       "<p>5 rows × 58 columns</p>\n",
       "</div>"
      ],
      "text/plain": [
       "  channelGrouping customDimensions_value        date device_browser  \\\n",
       "0  Organic Search                   EMEA  20171016.0        Firefox   \n",
       "1        Referral          North America  20171016.0         Chrome   \n",
       "2          Direct          North America  20171016.0         Chrome   \n",
       "3  Organic Search                   EMEA  20171016.0         Chrome   \n",
       "4  Organic Search        Central America  20171016.0         Chrome   \n",
       "\n",
       "  device_deviceCategory device_isMobile device_operatingSystem  \\\n",
       "0               desktop           False                Windows   \n",
       "1               desktop           False              Chrome OS   \n",
       "2                mobile            True                Android   \n",
       "3               desktop           False                Windows   \n",
       "4               desktop           False                Windows   \n",
       "\n",
       "         fullVisitorId geoNetwork_city geoNetwork_continent  \\\n",
       "0  3162355547410993243             NaN               Europe   \n",
       "1  8934116514970143966       Cupertino             Americas   \n",
       "2  7992466427990357681             NaN             Americas   \n",
       "3  9075655783635761930             NaN                 Asia   \n",
       "4  6960673291025684308             NaN             Americas   \n",
       "\n",
       "          ...              visitStartTime referralPath_depth  \\\n",
       "0         ...         2017-10-17 00:00:50                NaN   \n",
       "1         ...         2017-10-16 17:51:47                6.0   \n",
       "2         ...         2017-10-17 00:53:33                NaN   \n",
       "3         ...         2017-10-16 16:04:11                NaN   \n",
       "4         ...         2017-10-16 21:49:12                NaN   \n",
       "\n",
       "  exitScreenName_depth landingScreenName_depth pagePath_depth  \\\n",
       "0                  3.0                     3.0            3.0   \n",
       "1                  1.0                     1.0            1.0   \n",
       "2                  3.0                     1.0            1.0   \n",
       "3                  3.0                     1.0            1.0   \n",
       "4                  4.0                     1.0            1.0   \n",
       "\n",
       "  pagePathLevel1_depth pagePathLevel2_depth pagePathLevel3_depth  \\\n",
       "0                  2.0                  2.0                  1.0   \n",
       "1                  1.0                  NaN                  NaN   \n",
       "2                  1.0                  NaN                  NaN   \n",
       "3                  1.0                  NaN                  NaN   \n",
       "4                  1.0                  NaN                  NaN   \n",
       "\n",
       "  pagePathLevel4_depth  hits_referer_depth  \n",
       "0                  NaN                 3.0  \n",
       "1                  NaN                 8.0  \n",
       "2                  NaN                 3.0  \n",
       "3                  NaN                 3.0  \n",
       "4                  NaN                 3.0  \n",
       "\n",
       "[5 rows x 58 columns]"
      ]
     },
     "execution_count": 387,
     "metadata": {},
     "output_type": "execute_result"
    }
   ],
   "source": [
    "###将时间戳转换为标准时间表示\n",
    "train.visitStartTime = pd.to_datetime(train.visitStartTime, unit='s')\n",
    "test.visitStartTime = pd.to_datetime(test.visitStartTime, unit='s')\n",
    "train.head()"
   ]
  },
  {
   "cell_type": "code",
   "execution_count": 388,
   "metadata": {},
   "outputs": [],
   "source": [
    "for df in [train, test]:\n",
    "    df['weekday'] = df['visitStartTime'].dt.dayofweek.astype(object)\n",
    "    df['month'] = df['visitStartTime'].dt.month   # it must not be included in features during learning!\n",
    "#     df['day'] = df['visitStartTime'].dt.date       # it must not be included in features during learning!\n",
    "    df['hours'] = df['visitStartTime'].dt.hour"
   ]
  },
  {
   "cell_type": "code",
   "execution_count": 389,
   "metadata": {},
   "outputs": [],
   "source": [
    "###增加特征 ：是否为双休日\n",
    "train['isWeekend'] = train['weekday'].apply(lambda x:1 if x>=5 else 0)\n",
    "test['isWeekend'] = test['weekday'].apply(lambda x:1 if x>=5 else 0)\n",
    "\n",
    "# train.to_csv(path+'train_useful.csv',index = False)\n",
    "# test.to_csv(path+'test_useful.csv',index = False)"
   ]
  },
  {
   "cell_type": "code",
   "execution_count": 390,
   "metadata": {},
   "outputs": [],
   "source": [
    "def addFeature(df):\n",
    "    df['isWeekend'] = df['weekday'].apply(lambda x:1 if x>=5 else 0)\n",
    "    predmis = df[df['totals_pageviews'].isnull()]['totals_hits'].values\n",
    "    df.loc[(df['totals_pageviews'].isnull()),'totals_pageviews' ] = predmis\n",
    "     ####增加特征：浏览器是否为Chrome\n",
    "    df['isChrome'] = df['device_browser'].apply(lambda x:1 if x=='Chrome' else 0)   \n",
    "    df['s_ismall'] = df['trafficSource_source'].apply(lambda x:1 if x=='mall.googleplex.com' else 0)\n",
    "    df['s_isyoutube'] = df['trafficSource_source'].apply(lambda x:1 if x=='youtube.com' else 0)\n",
    "    df['d_isdesktop'] = df['device_deviceCategory'].apply(lambda x:1 if x=='desktop' else 0)\n",
    "    df['d_Macintosh'] = df['device_operatingSystem'].apply(lambda x:1 if x=='Macintosh' else 0)\n",
    "    df['d_Macintosh'] = df['device_operatingSystem'].apply(lambda x:1 if x=='Macintosh' else 0)\n",
    "    df['d_Linux'] = df['device_operatingSystem'].apply(lambda x:1 if x=='Linux' else 0)\n",
    "    df['d_iOS'] = df['device_operatingSystem'].apply(lambda x:1 if x=='iOS' else 0)\n",
    "    df['d_Android'] = df['device_operatingSystem'].apply(lambda x:1 if x=='Android' else 0)\n",
    "    df['d_Windows Phone'] = df['device_operatingSystem'].apply(lambda x:1 if x=='Windows Phone' else 0)\n",
    "    df['channel_referral'] = df['channelGrouping'].apply(lambda x:1 if x=='Referral' else 0)\n",
    "    df['channel_Social'] = df['channelGrouping'].apply(lambda x:1 if x=='Social' else 0)\n",
    "    def dealbrowser(s):\n",
    "        if s == \"Safari \"or s == \"Firefox\":\n",
    "            return \"mainstream\"\n",
    "        elif s == \"Chrome\":\n",
    "            return \"Chrome\"\n",
    "        else:\n",
    "            return \"others\"\n",
    "    df['browser'] = df['device_browser'].apply(dealbrowser)\n",
    "    df['m_referral'] = df['trafficSource_medium'].apply(lambda x:1 if x=='referral' else 0)  \n",
    "    df['single_visit'] = df['visitNumber'].apply(lambda x:0 if x!=1 else 1)\n",
    "    df['totals_hits'] = df['totals_hits'].astype('float') \n",
    "    df['totals_pageviews'] = df['totals_pageviews'].astype('float') \n",
    "    df['hits_ratio'] = df['totals_hits']/df['totals_pageviews']\n",
    "    \n",
    "    return df"
   ]
  },
  {
   "cell_type": "code",
   "execution_count": 391,
   "metadata": {},
   "outputs": [],
   "source": [
    "train = addFeature(train)\n",
    "test = addFeature(test)"
   ]
  },
  {
   "cell_type": "code",
   "execution_count": 392,
   "metadata": {},
   "outputs": [
    {
     "data": {
      "text/plain": [
       "Index(['channelGrouping', 'customDimensions_value', 'date', 'device_browser',\n",
       "       'device_deviceCategory', 'device_isMobile', 'device_operatingSystem',\n",
       "       'fullVisitorId', 'geoNetwork_city', 'geoNetwork_continent',\n",
       "       'geoNetwork_country', 'geoNetwork_metro', 'geoNetwork_networkDomain',\n",
       "       'geoNetwork_region', 'geoNetwork_subContinent',\n",
       "       'hits_appInfo.exitScreenName', 'hits_appInfo.landingScreenName',\n",
       "       'hits_appInfo.screenName', 'hits_eCommerceAction.action_type',\n",
       "       'hits_hitNumber', 'hits_hour', 'hits_page.hostname',\n",
       "       'hits_page.pagePath', 'hits_page.pagePathLevel1',\n",
       "       'hits_page.pagePathLevel2', 'hits_page.pagePathLevel3',\n",
       "       'hits_page.pagePathLevel4', 'hits_page.pageTitle',\n",
       "       'hits_promotionActionInfo.promoIsView', 'hits_referer',\n",
       "       'hits_social.hasSocialSourceReferral', 'hits_social.socialNetwork',\n",
       "       'hits_transaction.currencyCode', 'hits_transaction.localTransactionTax',\n",
       "       'totals_bounces', 'totals_hits', 'totals_newVisits', 'totals_pageviews',\n",
       "       'totals_sessionQualityDim', 'totals_timeOnSite',\n",
       "       'totals_transactionRevenue', 'totals_transactions',\n",
       "       'trafficSource_adContent', 'trafficSource_isTrueDirect',\n",
       "       'trafficSource_medium', 'trafficSource_referralPath',\n",
       "       'trafficSource_source', 'visitNumber', 'visitStartTime',\n",
       "       'referralPath_depth', 'exitScreenName_depth', 'landingScreenName_depth',\n",
       "       'pagePath_depth', 'pagePathLevel1_depth', 'pagePathLevel2_depth',\n",
       "       'pagePathLevel3_depth', 'pagePathLevel4_depth', 'hits_referer_depth',\n",
       "       'weekday', 'month', 'hours', 'isWeekend', 'isChrome', 's_ismall',\n",
       "       's_isyoutube', 'd_isdesktop', 'd_Macintosh', 'd_Linux', 'd_iOS',\n",
       "       'd_Android', 'd_Windows Phone', 'channel_referral', 'channel_Social',\n",
       "       'browser', 'm_referral', 'single_visit', 'hits_ratio'],\n",
       "      dtype='object')"
      ]
     },
     "execution_count": 392,
     "metadata": {},
     "output_type": "execute_result"
    }
   ],
   "source": [
    "train.columns"
   ]
  },
  {
   "cell_type": "code",
   "execution_count": 393,
   "metadata": {},
   "outputs": [],
   "source": [
    "num_feature = ['hits_hitNumber','hits_hour','totals_bounces','totals_hits', 'totals_newVisits', 'totals_pageviews',\n",
    "       'totals_sessionQualityDim','totals_timeOnSite','hits_ratio','referralPath_depth', 'exitScreenName_depth', 'landingScreenName_depth',\n",
    "       'pagePath_depth', 'pagePathLevel1_depth', 'pagePathLevel2_depth',\n",
    "       'pagePathLevel3_depth', 'pagePathLevel4_depth', 'hits_referer_depth',\n",
    "       'totals_transactionRevenue', 'totals_transactions','visitNumber']\n",
    "exclude_feature = ['visitStartTime','date','fullVisitorId']\n",
    "cat_feature = [f for f in train.columns if (f not in exclude_feature+num_feature)]\n",
    "def dealMissingData(df):\n",
    "    for c in df.columns:\n",
    "        num_missing = df[c].isnull().sum() \n",
    "        if num_missing != 0:\n",
    "            print(\"missing col is  \",c,'   missing num is',num_missing)\n",
    "    print('*'*20)\n",
    "    for col in num_feature:\n",
    "        df[col].fillna(0,inplace=True)\n",
    "    for col in cat_feature:\n",
    "        df[col].fillna(0,inplace=True)\n",
    "    for c in df.columns:\n",
    "        num_missing = df[c].isnull().sum() \n",
    "        if num_missing != 0:\n",
    "            print(\"now missing col is  \",c,'   missing num is',num_missing)\n",
    "    print('---------------done---------------')\n",
    "    return df"
   ]
  },
  {
   "cell_type": "code",
   "execution_count": null,
   "metadata": {},
   "outputs": [],
   "source": []
  },
  {
   "cell_type": "code",
   "execution_count": 394,
   "metadata": {},
   "outputs": [
    {
     "name": "stdout",
     "output_type": "stream",
     "text": [
      "missing col is   device_browser    missing num is 19\n",
      "missing col is   device_operatingSystem    missing num is 11815\n",
      "missing col is   geoNetwork_city    missing num is 998826\n",
      "missing col is   geoNetwork_continent    missing num is 2517\n",
      "missing col is   geoNetwork_country    missing num is 2517\n",
      "missing col is   geoNetwork_metro    missing num is 1319855\n",
      "missing col is   geoNetwork_networkDomain    missing num is 768845\n",
      "missing col is   geoNetwork_region    missing num is 982733\n",
      "missing col is   geoNetwork_subContinent    missing num is 2517\n",
      "missing col is   hits_hitNumber    missing num is 1215\n",
      "missing col is   hits_hour    missing num is 1215\n",
      "missing col is   hits_social.socialNetwork    missing num is 1352079\n",
      "missing col is   totals_bounces    missing num is 836759\n",
      "missing col is   totals_newVisits    missing num is 400907\n",
      "missing col is   totals_sessionQualityDim    missing num is 835274\n",
      "missing col is   totals_timeOnSite    missing num is 874294\n",
      "missing col is   totals_transactionRevenue    missing num is 1689823\n",
      "missing col is   totals_transactions    missing num is 1689778\n",
      "missing col is   trafficSource_medium    missing num is 566091\n",
      "missing col is   trafficSource_source    missing num is 70\n",
      "missing col is   referralPath_depth    missing num is 1142073\n",
      "missing col is   exitScreenName_depth    missing num is 1215\n",
      "missing col is   landingScreenName_depth    missing num is 1215\n",
      "missing col is   pagePath_depth    missing num is 1215\n",
      "missing col is   pagePathLevel1_depth    missing num is 1215\n",
      "missing col is   pagePathLevel2_depth    missing num is 1094962\n",
      "missing col is   pagePathLevel3_depth    missing num is 1180552\n",
      "missing col is   pagePathLevel4_depth    missing num is 1545237\n",
      "missing col is   hits_referer_depth    missing num is 451770\n",
      "********************\n",
      "---------------done---------------\n",
      "missing col is   date    missing num is 1589\n",
      "missing col is   device_operatingSystem    missing num is 4382\n",
      "missing col is   geoNetwork_city    missing num is 225093\n",
      "missing col is   geoNetwork_continent    missing num is 382\n",
      "missing col is   geoNetwork_country    missing num is 382\n",
      "missing col is   geoNetwork_metro    missing num is 296260\n",
      "missing col is   geoNetwork_networkDomain    missing num is 194927\n",
      "missing col is   geoNetwork_region    missing num is 218328\n",
      "missing col is   geoNetwork_subContinent    missing num is 382\n",
      "missing col is   hits_hitNumber    missing num is 59\n",
      "missing col is   hits_hour    missing num is 59\n",
      "missing col is   hits_item.transactionId    missing num is 401584\n",
      "missing col is   hits_social.socialNetwork    missing num is 364649\n",
      "missing col is   hits_transaction.transactionId    missing num is 401584\n",
      "missing col is   totals_bounces    missing num is 218911\n",
      "missing col is   totals_hits    missing num is 1\n",
      "missing col is   totals_newVisits    missing num is 115525\n",
      "missing col is   totals_pageviews    missing num is 1\n",
      "missing col is   totals_sessionQualityDim    missing num is 1\n",
      "missing col is   totals_timeOnSite    missing num is 183687\n",
      "missing col is   totals_totalTransactionRevenue    missing num is 396996\n",
      "missing col is   totals_transactionRevenue    missing num is 396996\n",
      "missing col is   totals_transactions    missing num is 395285\n",
      "missing col is   trafficSource_adContent    missing num is 390841\n",
      "missing col is   trafficSource_medium    missing num is 111313\n",
      "missing col is   trafficSource_referralPath    missing num is 305203\n",
      "missing col is   visitStartTime    missing num is 1\n",
      "missing col is   referralPath_depth    missing num is 1\n",
      "missing col is   exitScreenName_depth    missing num is 59\n",
      "missing col is   landingScreenName_depth    missing num is 59\n",
      "missing col is   pagePath_depth    missing num is 59\n",
      "missing col is   pagePathLevel1_depth    missing num is 59\n",
      "missing col is   pagePathLevel2_depth    missing num is 240863\n",
      "missing col is   pagePathLevel3_depth    missing num is 273723\n",
      "missing col is   pagePathLevel4_depth    missing num is 371851\n",
      "missing col is   hits_referer_depth    missing num is 115855\n",
      "missing col is   weekday    missing num is 1\n",
      "missing col is   month    missing num is 1\n",
      "missing col is   hours    missing num is 1\n",
      "missing col is   hits_ratio    missing num is 1\n",
      "********************\n",
      "now missing col is   date    missing num is 1589\n",
      "now missing col is   hits_item.transactionId    missing num is 401584\n",
      "now missing col is   hits_transaction.transactionId    missing num is 401584\n",
      "now missing col is   totals_totalTransactionRevenue    missing num is 396996\n",
      "now missing col is   visitStartTime    missing num is 1\n",
      "---------------done---------------\n"
     ]
    }
   ],
   "source": [
    "train = dealMissingData(train)\n",
    "test = dealMissingData(test)"
   ]
  },
  {
   "cell_type": "code",
   "execution_count": null,
   "metadata": {},
   "outputs": [],
   "source": []
  },
  {
   "cell_type": "code",
   "execution_count": 395,
   "metadata": {},
   "outputs": [],
   "source": [
    "def clearRare(columnname, limit = 1000):\n",
    "    # you may search for rare categories in train, train&test, or just test\n",
    "    #vc = pd.concat([train[columnname], test[columnname]], sort=False).value_counts()\n",
    "    vc = test[columnname].value_counts()\n",
    "    \n",
    "    common = vc > limit\n",
    "    common = set(common.index[common].values)\n",
    "    print(\"Set\", sum(vc <= limit), columnname, \"categories to 'other';\", end=\" \")\n",
    "    \n",
    "    train.loc[train[columnname].map(lambda x: x not in common), columnname] = 'other'\n",
    "    test.loc[test[columnname].map(lambda x: x not in common), columnname] = 'other'\n",
    "    print(\"now there are\", train[columnname].nunique(), \"categories in train\")"
   ]
  },
  {
   "cell_type": "code",
   "execution_count": 396,
   "metadata": {},
   "outputs": [
    {
     "name": "stdout",
     "output_type": "stream",
     "text": [
      "Set 2 channelGrouping categories to 'other'; now there are 8 categories in train\n",
      "Set 0 customDimensions_value categories to 'other'; now there are 6 categories in train\n",
      "Set 53 device_browser categories to 'other'; now there are 11 categories in train\n",
      "Set 1 device_deviceCategory categories to 'other'; now there are 3 categories in train\n",
      "Set 1 device_isMobile categories to 'other'; now there are 2 categories in train\n",
      "Set 16 device_operatingSystem categories to 'other'; now there are 8 categories in train\n",
      "Set 462 geoNetwork_city categories to 'other'; now there are 42 categories in train\n",
      "Set 2 geoNetwork_continent categories to 'other'; now there are 6 categories in train\n",
      "Set 163 geoNetwork_country categories to 'other'; now there are 47 categories in train\n",
      "Set 68 geoNetwork_metro categories to 'other'; now there are 15 categories in train\n",
      "Set 15911 geoNetwork_networkDomain categories to 'other'; now there are 24 categories in train\n",
      "Set 236 geoNetwork_region categories to 'other'; now there are 34 categories in train\n",
      "Set 9 geoNetwork_subContinent categories to 'other'; now there are 16 categories in train\n",
      "Set 551 hits_appInfo.exitScreenName categories to 'other'; now there are 39 categories in train\n",
      "Set 539 hits_appInfo.landingScreenName categories to 'other'; now there are 25 categories in train\n",
      "Set 539 hits_appInfo.screenName categories to 'other'; now there are 25 categories in train\n",
      "Set 7 hits_eCommerceAction.action_type categories to 'other'; now there are 2 categories in train\n",
      "Set 1 hits_page.hostname categories to 'other'; now there are 3 categories in train\n",
      "Set 538 hits_page.pagePath categories to 'other'; now there are 24 categories in train\n",
      "Set 41 hits_page.pagePathLevel1 categories to 'other'; now there are 8 categories in train\n",
      "Set 62 hits_page.pagePathLevel2 categories to 'other'; now there are 16 categories in train\n",
      "Set 293 hits_page.pagePathLevel3 categories to 'other'; now there are 15 categories in train\n",
      "Set 162 hits_page.pagePathLevel4 categories to 'other'; now there are 6 categories in train\n",
      "Set 466 hits_page.pageTitle categories to 'other'; now there are 25 categories in train\n",
      "Set 0 hits_promotionActionInfo.promoIsView categories to 'other'; now there are 2 categories in train\n",
      "Set 11544 hits_referer categories to 'other'; now there are 36 categories in train\n",
      "Set 1 hits_social.hasSocialSourceReferral categories to 'other'; now there are 3 categories in train\n",
      "Set 12 hits_social.socialNetwork categories to 'other'; now there are 5 categories in train\n",
      "Set 0 hits_transaction.currencyCode categories to 'other'; now there are 2 categories in train\n",
      "Set 4 hits_transaction.localTransactionTax categories to 'other'; now there are 2 categories in train\n",
      "Set 26 trafficSource_adContent categories to 'other'; now there are 2 categories in train\n",
      "Set 0 trafficSource_isTrueDirect categories to 'other'; now there are 2 categories in train\n",
      "Set 1 trafficSource_medium categories to 'other'; now there are 6 categories in train\n",
      "Set 1746 trafficSource_referralPath categories to 'other'; now there are 9 categories in train\n",
      "Set 181 trafficSource_source categories to 'other'; now there are 12 categories in train\n",
      "Set 0 weekday categories to 'other'; now there are 7 categories in train\n",
      "Set 1 month categories to 'other'; now there are 7 categories in train\n",
      "Set 0 hours categories to 'other'; now there are 24 categories in train\n",
      "Set 0 isWeekend categories to 'other'; now there are 2 categories in train\n",
      "Set 0 isChrome categories to 'other'; now there are 2 categories in train\n",
      "Set 0 s_ismall categories to 'other'; now there are 1 categories in train\n",
      "Set 0 s_isyoutube categories to 'other'; now there are 2 categories in train\n",
      "Set 0 d_isdesktop categories to 'other'; now there are 2 categories in train\n",
      "Set 0 d_Macintosh categories to 'other'; now there are 2 categories in train\n",
      "Set 0 d_Linux categories to 'other'; now there are 2 categories in train\n",
      "Set 0 d_iOS categories to 'other'; now there are 2 categories in train\n",
      "Set 0 d_Android categories to 'other'; now there are 2 categories in train\n",
      "Set 1 d_Windows Phone categories to 'other'; now there are 2 categories in train\n",
      "Set 0 channel_referral categories to 'other'; now there are 2 categories in train\n",
      "Set 0 channel_Social categories to 'other'; now there are 2 categories in train\n",
      "Set 0 browser categories to 'other'; now there are 3 categories in train\n",
      "Set 0 m_referral categories to 'other'; now there are 2 categories in train\n",
      "Set 0 single_visit categories to 'other'; now there are 2 categories in train\n"
     ]
    }
   ],
   "source": [
    "for col in cat_feature:\n",
    "    clearRare(col)"
   ]
  },
  {
   "cell_type": "code",
   "execution_count": 397,
   "metadata": {},
   "outputs": [],
   "source": [
    "train.set_index(\"visitStartTime\", inplace=True)\n",
    "test.set_index(\"visitStartTime\", inplace=True)\n",
    "train.sort_index(inplace=True)\n",
    "test.sort_index(inplace=True)"
   ]
  },
  {
   "cell_type": "code",
   "execution_count": 398,
   "metadata": {},
   "outputs": [],
   "source": [
    "train['time'] = train.index\n",
    "test['time'] = test.index\n"
   ]
  },
  {
   "cell_type": "code",
   "execution_count": 399,
   "metadata": {},
   "outputs": [
    {
     "name": "stderr",
     "output_type": "stream",
     "text": [
      "/home/baitong/tensorflow/lib/python3.6/site-packages/ipykernel_launcher.py:2: FutureWarning: Sorting because non-concatenation axis is not aligned. A future version\n",
      "of pandas will change to not sort by default.\n",
      "\n",
      "To accept the future behavior, pass 'sort=False'.\n",
      "\n",
      "To retain the current behavior and silence the warning, pass 'sort=True'.\n",
      "\n",
      "  \n"
     ]
    }
   ],
   "source": [
    "###增加上一次会话和下一次会话的时间间隔，时间间隔越短说明用户购买商品欲望更强烈\n",
    "df = pd.concat([train, test])\n",
    "df.sort_values(['fullVisitorId', 'time'], ascending=True, inplace=True)\n",
    "df['prev_session'] = (df['time'] - df[['fullVisitorId', 'time']].groupby('fullVisitorId')['time'].shift(1)).astype(np.int64) // 1e9 // 60 // 60\n",
    "df['next_session'] = (df['time'] - df[['fullVisitorId', 'time']].groupby('fullVisitorId')['time'].shift(-1)).astype(np.int64) // 1e9 // 60 // 60\n",
    "df.sort_index(inplace=True)\n",
    "\n",
    "train = df[:len(train)]\n",
    "test = df[len(train):]"
   ]
  },
  {
   "cell_type": "code",
   "execution_count": 400,
   "metadata": {},
   "outputs": [],
   "source": [
    "for df in [train, test]:\n",
    "    for col in cat_feature:\n",
    "        df[col] = df[col].astype('str')"
   ]
  },
  {
   "cell_type": "code",
   "execution_count": 401,
   "metadata": {},
   "outputs": [],
   "source": [
    "##组合特征\n",
    "for df in [train, test]:\n",
    "    df['source_country'] = df['trafficSource_source'] + '_' + df['geoNetwork_country']\n",
    "    df['browser_category'] = df['device_browser'] + '_' + df['device_deviceCategory']\n",
    "    df['browser_os'] = df['device_browser'] + '_' + df['device_operatingSystem']\n",
    "##组合特征\n",
    "for df in [train, test]:\n",
    "    df['device_deviceCategory_channelGrouping'] = df['device_deviceCategory'] + \"_\" + df['channelGrouping']\n",
    "    df['channelGrouping_browser'] = df['device_browser'] + \"_\" + df['channelGrouping']\n",
    "    df['channelGrouping_OS'] = df['device_operatingSystem'] + \"_\" + df['channelGrouping']\n",
    "    \n",
    "    for i in ['geoNetwork_city', 'geoNetwork_continent', 'geoNetwork_country','geoNetwork_metro', 'geoNetwork_networkDomain', 'geoNetwork_region','geoNetwork_subContinent']:\n",
    "        for j in ['device_browser','device_deviceCategory', 'device_operatingSystem', 'trafficSource_source']:\n",
    "            df[i + \"_\" + j] = df[i] + \"_\" + df[j]\n",
    "    \n",
    "    df['content_source'] = df['trafficSource_adContent'].astype(str) + \"_\" + df['source_country']\n",
    "    df['medium_source'] = df['trafficSource_medium'] + \"_\" + df['source_country']\n"
   ]
  },
  {
   "cell_type": "code",
   "execution_count": 402,
   "metadata": {},
   "outputs": [
    {
     "data": {
      "text/plain": [
       "119"
      ]
     },
     "execution_count": 402,
     "metadata": {},
     "output_type": "execute_result"
    }
   ],
   "source": [
    "len(train.columns)"
   ]
  },
  {
   "cell_type": "code",
   "execution_count": 403,
   "metadata": {},
   "outputs": [],
   "source": [
    "##针对用户增加点击浏览量均值特征，以及访问人数最大值特征\n",
    "for feature in [\"totals_hits\",\"totals_pageviews\",'totals_sessionQualityDim','totals_timeOnSite','hits_ratio',\n",
    "               'referralPath_depth','exitScreenName_depth', 'landingScreenName_depth',\n",
    "                'pagePath_depth', 'pagePathLevel1_depth', 'pagePathLevel2_depth', \n",
    "                'pagePathLevel3_depth', 'pagePathLevel4_depth','hits_referer_depth', \n",
    "                'totals_transactionRevenue', 'totals_transactions']:\n",
    "    info = pd.concat([train, test], sort=False).groupby(\"fullVisitorId\")[feature].mean()\n",
    "    train[\"usermean_\" + feature] = train.fullVisitorId.map(info)\n",
    "    test[\"usermean_\" + feature] = test.fullVisitorId.map(info)\n",
    "    \n",
    "for feature in [\"visitNumber\",'hits_hitNumber']:\n",
    "    info = pd.concat([train, test], sort=False).groupby(\"fullVisitorId\")[feature].max()\n",
    "    train[\"usermax_\" + feature] = train.fullVisitorId.map(info)\n",
    "    test[\"usermax_\" + feature] = test.fullVisitorId.map(info)"
   ]
  },
  {
   "cell_type": "code",
   "execution_count": 408,
   "metadata": {},
   "outputs": [
    {
     "name": "stdout",
     "output_type": "stream",
     "text": [
      "cat_cols num:  89\n",
      "cat_cols:  ['browser', 'channelGrouping', 'channel_Social', 'channel_referral', 'customDimensions_value', 'd_Android', 'd_Linux', 'd_Macintosh', 'd_Windows Phone', 'd_iOS', 'd_isdesktop', 'device_browser', 'device_deviceCategory', 'device_isMobile', 'device_operatingSystem', 'geoNetwork_city', 'geoNetwork_continent', 'geoNetwork_country', 'geoNetwork_metro', 'geoNetwork_networkDomain', 'geoNetwork_region', 'geoNetwork_subContinent', 'hits_appInfo.exitScreenName', 'hits_appInfo.landingScreenName', 'hits_appInfo.screenName', 'hits_eCommerceAction.action_type', 'hits_page.hostname', 'hits_page.pagePath', 'hits_page.pagePathLevel1', 'hits_page.pagePathLevel2', 'hits_page.pagePathLevel3', 'hits_page.pagePathLevel4', 'hits_page.pageTitle', 'hits_promotionActionInfo.promoIsView', 'hits_referer', 'hits_social.hasSocialSourceReferral', 'hits_social.socialNetwork', 'hits_transaction.currencyCode', 'hits_transaction.localTransactionTax', 'hours', 'isChrome', 'isWeekend', 'm_referral', 's_ismall', 's_isyoutube', 'single_visit', 'totals_bounces', 'trafficSource_adContent', 'trafficSource_isTrueDirect', 'trafficSource_medium', 'trafficSource_referralPath', 'trafficSource_source', 'weekday', 'source_country', 'browser_category', 'browser_os', 'device_deviceCategory_channelGrouping', 'channelGrouping_browser', 'channelGrouping_OS', 'geoNetwork_city_device_browser', 'geoNetwork_city_device_deviceCategory', 'geoNetwork_city_device_operatingSystem', 'geoNetwork_city_trafficSource_source', 'geoNetwork_continent_device_browser', 'geoNetwork_continent_device_deviceCategory', 'geoNetwork_continent_device_operatingSystem', 'geoNetwork_continent_trafficSource_source', 'geoNetwork_country_device_browser', 'geoNetwork_country_device_deviceCategory', 'geoNetwork_country_device_operatingSystem', 'geoNetwork_country_trafficSource_source', 'geoNetwork_metro_device_browser', 'geoNetwork_metro_device_deviceCategory', 'geoNetwork_metro_device_operatingSystem', 'geoNetwork_metro_trafficSource_source', 'geoNetwork_networkDomain_device_browser', 'geoNetwork_networkDomain_device_deviceCategory', 'geoNetwork_networkDomain_device_operatingSystem', 'geoNetwork_networkDomain_trafficSource_source', 'geoNetwork_region_device_browser', 'geoNetwork_region_device_deviceCategory', 'geoNetwork_region_device_operatingSystem', 'geoNetwork_region_trafficSource_source', 'geoNetwork_subContinent_device_browser', 'geoNetwork_subContinent_device_deviceCategory', 'geoNetwork_subContinent_device_operatingSystem', 'geoNetwork_subContinent_trafficSource_source', 'content_source', 'medium_source']\n",
      "real_cols num:  41\n",
      "real_cols:  ['exitScreenName_depth', 'hits_hitNumber', 'hits_hour', 'hits_ratio', 'hits_referer_depth', 'landingScreenName_depth', 'pagePathLevel1_depth', 'pagePathLevel2_depth', 'pagePathLevel3_depth', 'pagePathLevel4_depth', 'pagePath_depth', 'referralPath_depth', 'totals_hits', 'totals_newVisits', 'totals_pageviews', 'totals_sessionQualityDim', 'totals_timeOnSite', 'totals_totalTransactionRevenue', 'totals_transactionRevenue', 'totals_transactions', 'visitNumber', 'prev_session', 'next_session', 'usermean_totals_hits', 'usermean_totals_pageviews', 'usermean_totals_sessionQualityDim', 'usermean_totals_timeOnSite', 'usermean_hits_ratio', 'usermean_referralPath_depth', 'usermean_exitScreenName_depth', 'usermean_landingScreenName_depth', 'usermean_pagePath_depth', 'usermean_pagePathLevel1_depth', 'usermean_pagePathLevel2_depth', 'usermean_pagePathLevel3_depth', 'usermean_pagePathLevel4_depth', 'usermean_hits_referer_depth', 'usermean_totals_transactionRevenue', 'usermean_totals_transactions', 'usermax_visitNumber', 'usermax_hits_hitNumber']\n"
     ]
    }
   ],
   "source": [
    "excluded = ['date','month','day','time','visitId','hits_item.transactionId','hits_transaction.transactionId'\n",
    "           ,\"fullVisitorId\"]\n",
    "# unique_f = ['hours', 'isChrome', 'isWeekend', 'm_referral', 's_ismall', 's_isyoutube', 'single_visit', 'totals_bounces']\n",
    "cat_cols = [f for f in train.columns if (train[f].dtype == 'object' and f not in excluded)]\n",
    "real_cols = [f for f in train.columns if (not f in cat_cols and f not in excluded)]\n",
    "print(\"cat_cols num: \",len(cat_cols))\n",
    "print(\"cat_cols: \",cat_cols)\n",
    "print(\"real_cols num: \",len(real_cols))\n",
    "print(\"real_cols: \",real_cols)"
   ]
  },
  {
   "cell_type": "code",
   "execution_count": 409,
   "metadata": {},
   "outputs": [],
   "source": [
    "from sklearn.preprocessing import LabelEncoder\n",
    "for col in cat_cols:\n",
    "    lbl = LabelEncoder()\n",
    "    lbl.fit(list(train[col].values.astype('str')) + list(test[col].values.astype('str')))\n",
    "    train[col] = lbl.transform(list(train[col].values.astype('str')))\n",
    "    test[col] = lbl.transform(list(test[col].values.astype('str')))"
   ]
  },
  {
   "cell_type": "code",
   "execution_count": 410,
   "metadata": {},
   "outputs": [],
   "source": [
    "train.to_csv(path+'train_encoded.csv',index = False)\n",
    "test.to_csv(path+'test_encoded.csv',index = False)"
   ]
  },
  {
   "cell_type": "code",
   "execution_count": null,
   "metadata": {},
   "outputs": [],
   "source": [
    "train.to_csv(path+'train_encoded2.csv',index = True)\n",
    "test.to_csv(path+'test_encode2.csv',index = True)"
   ]
  },
  {
   "cell_type": "code",
   "execution_count": 412,
   "metadata": {},
   "outputs": [
    {
     "data": {
      "text/plain": [
       "visitStartTime\n",
       "2016-08-01 07:00:12    0423043652415339154\n",
       "2016-08-01 07:04:26    8294721032567046680\n",
       "2016-08-01 07:04:41    7718623669497357235\n",
       "2016-08-01 07:06:01    4798058133221713505\n",
       "2016-08-01 07:06:10    5076747981380011349\n",
       "Name: fullVisitorId, dtype: object"
      ]
     },
     "execution_count": 412,
     "metadata": {},
     "output_type": "execute_result"
    }
   ],
   "source": [
    "train['fullVisitorId'].head()"
   ]
  },
  {
   "cell_type": "code",
   "execution_count": null,
   "metadata": {},
   "outputs": [],
   "source": []
  },
  {
   "cell_type": "code",
   "execution_count": null,
   "metadata": {},
   "outputs": [],
   "source": []
  },
  {
   "cell_type": "code",
   "execution_count": 413,
   "metadata": {},
   "outputs": [],
   "source": [
    "users_period = [\n",
    "    (20160801, 20170115),\n",
    "    (20170115, 20170630),\n",
    "    (20170701, 20171215),\n",
    "    (20171216, 20180601),\n",
    "    # Using the same months!\n",
    "    (20170501, 20171015),\n",
    "]\n",
    "\n",
    "predict_period = [\n",
    "    (20170301, 20170430),\n",
    "    (20170715, 20170915),\n",
    "    (20180201, 20180331),\n",
    "    (20180715, 20180915),\n",
    "    # Using the same months!\n",
    "    (20171201, 20180131),\n",
    "]"
   ]
  },
  {
   "cell_type": "code",
   "execution_count": 414,
   "metadata": {},
   "outputs": [],
   "source": [
    "train = train[train['date']!='No']\n",
    "train['date'] = train['date'].astype(\"float\")"
   ]
  },
  {
   "cell_type": "code",
   "execution_count": 415,
   "metadata": {},
   "outputs": [
    {
     "name": "stdout",
     "output_type": "stream",
     "text": [
      "\n",
      "Period 1\n",
      "There are 377186 visitors in 5.5 months\n",
      "There are 111299 visitors in 2 months\n",
      "1871 visitors returned or 0.50%\n",
      "And only 210 returning visitors have revenue or 0.06% from total\n",
      "The total revenue for this users is U$$ 102504.27\n",
      "\n",
      "Period 2\n",
      "There are 286797 visitors in 5.5 months\n",
      "There are 129144 visitors in 2 months\n",
      "3285 visitors returned or 1.15%\n",
      "And only 357 returning visitors have revenue or 0.12% from total\n",
      "The total revenue for this users is U$$ 88637.14\n",
      "\n",
      "Period 3\n",
      "There are 384946 visitors in 5.5 months\n",
      "There are 140808 visitors in 2 months\n",
      "2943 visitors returned or 0.76%\n",
      "And only 148 returning visitors have revenue or 0.04% from total\n",
      "The total revenue for this users is U$$ 15886.58\n",
      "\n",
      "Period 4\n",
      "There are 297074 visitors in 5.5 months\n",
      "There are 0 visitors in 2 months\n",
      "0 visitors returned or 0.00%\n",
      "And only 0 returning visitors have revenue or 0.00% from total\n",
      "The total revenue for this users is U$$ 0.00\n",
      "\n",
      "Period 5\n",
      "There are 329636 visitors in 5.5 months\n",
      "There are 144049 visitors in 2 months\n",
      "2488 visitors returned or 0.75%\n",
      "And only 112 returning visitors have revenue or 0.03% from total\n",
      "The total revenue for this users is U$$ 16821.74\n"
     ]
    }
   ],
   "source": [
    "revenues_list = []\n",
    "\n",
    "for i in range(5):\n",
    "    print(\"\\nPeriod\", i+1)\n",
    "    a, b = users_period[i]\n",
    "    batch = train[(train.date >= a) & (train.date <= b)]\n",
    "    batch_visitors = batch.fullVisitorId.unique()\n",
    "    print(\"There are\", len(batch_visitors), \"visitors in 5.5 months\")\n",
    "    \n",
    "    c, d = predict_period[i]\n",
    "    pred = train[(train.date >= c) & (train.date <= d)]\n",
    "    pred_visitors = pred.fullVisitorId.unique()\n",
    "    print(\"There are\", len(pred_visitors), \"visitors in 2 months\")\n",
    "    # Returning visitors\n",
    "    same_visitors = np.intersect1d(batch_visitors, pred_visitors)\n",
    "    print(\"{} visitors returned or {:.2f}%\".format(len(same_visitors), 100*len(same_visitors)/len(batch_visitors)))\n",
    "    # Returning visitors revenue\n",
    "    with_rev = pred[(pred.fullVisitorId.isin(same_visitors)) & (pred.totals_transactionRevenue > 0)]\n",
    "    print(\"And only {} returning visitors have revenue or {:.2f}% from total\".format(len(with_rev), 100*len(with_rev)/len(batch_visitors)))\n",
    "    print(\"The total revenue for this users is U$$ {:.2f}\".format(with_rev.totals_transactionRevenue.sum()/1000000))\n",
    "    revenues_list.append(with_rev.copy(deep=True))"
   ]
  },
  {
   "cell_type": "code",
   "execution_count": 416,
   "metadata": {},
   "outputs": [],
   "source": [
    "def splitByDate(df,users_period,predict_period):\n",
    "    print('split by date...')\n",
    "    print('users_period is ',users_period[0],'======>',users_period[1])\n",
    "    batch = train[(df.date >= users_period[0]) & (df.date <= users_period[1])]\n",
    "    print('predict_period is ',predict_period[0],'======>',predict_period[1])\n",
    "    pred = train[(df.date >= predict_period[0]) & (df.date <= predict_period[1])]\n",
    "    print(\"-----------------done--------------------\")\n",
    "    return batch,pred"
   ]
  },
  {
   "cell_type": "code",
   "execution_count": 417,
   "metadata": {},
   "outputs": [
    {
     "name": "stdout",
     "output_type": "stream",
     "text": [
      "split by date...\n",
      "users_period is  20160801 ======> 20170115\n",
      "predict_period is  20170301 ======> 20170430\n",
      "-----------------done--------------------\n",
      "split by date...\n",
      "users_period is  20170115 ======> 20170630\n",
      "predict_period is  20170715 ======> 20170915\n",
      "-----------------done--------------------\n",
      "split by date...\n",
      "users_period is  20170701 ======> 20171215\n",
      "predict_period is  20180201 ======> 20180331\n",
      "-----------------done--------------------\n",
      "split by date...\n",
      "users_period is  20170501 ======> 20171015\n",
      "predict_period is  20171201 ======> 20180131\n",
      "-----------------done--------------------\n"
     ]
    }
   ],
   "source": [
    "train['fullVisitorId'].astype(\"str\")\n",
    "batch1,pred1 = splitByDate(train,users_period[0],predict_period[0])\n",
    "batch2,pred2 = splitByDate(train,users_period[1],predict_period[1])\n",
    "batch3,pred3 = splitByDate(train,users_period[2],predict_period[2])\n",
    "batch4,pred4 = splitByDate(train,users_period[4],predict_period[4])"
   ]
  },
  {
   "cell_type": "code",
   "execution_count": 418,
   "metadata": {},
   "outputs": [],
   "source": [
    "def extractTarget(df,user_period,pred_period,name):\n",
    "#     print(user_period)\n",
    "    batch,pred = splitByDate(df,user_period,pred_period)\n",
    "    batch,pred = batch.copy(),pred.copy()\n",
    "    print(\"提取交集...\")\n",
    "    ####提取交集 ： 即查看预测日期区间与训练集日期区间的用户交集，这个交集是二次光顾商店的人群\n",
    "    pred[\"isIdhavetest\"] = pred['fullVisitorId'].isin(batch['fullVisitorId'])\n",
    "#     print(pred[\"isIdhavetest\"].value_counts())\n",
    "    pred = pred[pred[\"isIdhavetest\"]==True]\n",
    "    batch[\"isIdhavetest\"]= batch['fullVisitorId'].isin(pred['fullVisitorId'])\n",
    "#     print(batch[\"isIdhavetest\"].value_counts())\n",
    "     ####处理标签\n",
    "    print(\"处理标签...\")\n",
    "    pred[\"isIdhavetest\"] = pred[\"isIdhavetest\"].apply(lambda x: 1 if x==True else 0)\n",
    "    batch[\"isIdhavetest\"] = batch[\"isIdhavetest\"].apply(lambda x: 1 if x==True else 0)\n",
    "    pred['target'] =pred['totals_transactionRevenue']\n",
    "    pred = pred[['target','fullVisitorId',\"isIdhavetest\",'totals_transactionRevenue']]\n",
    "    batch['target'] = 0\n",
    "    batch = batch[['target','fullVisitorId',\"isIdhavetest\"]]\n",
    "    ####按用户ID排序\n",
    "    print(\"按用户ID排序并赋值...\")\n",
    "    pred = pred.groupby('fullVisitorId').sum()\n",
    "    batch = batch.groupby('fullVisitorId').sum()\n",
    "    tmp1 =pd.DataFrame()\n",
    "    tmp2 = pd.DataFrame()\n",
    "    tmp1['target'] = batch['target'][batch[\"isIdhavetest\"]>=1] \n",
    "    tmp2['target'] = batch['target'][batch[\"isIdhavetest\"]==0] \n",
    "    tmp1['target'] = pred['totals_transactionRevenue']#获取回头客的消费记录\n",
    "    tmp2['target'] = 0#非回头客默认置零\n",
    "    tmp = pd.concat([tmp1, tmp2])\n",
    "    tmp.sort_index(inplace=True)\n",
    "    print(\"保存...文件名: \"+name+'.csv')\n",
    "    batch['target'] = tmp['target']\n",
    "    batch[['target']].to_csv('/home/baitong/pywork/RevenuePrediction/'+name+'.csv', index=True)\n",
    "#     print(batch['target'].value_counts())\n",
    "    print('------------------结束--------------------')"
   ]
  },
  {
   "cell_type": "code",
   "execution_count": 419,
   "metadata": {},
   "outputs": [
    {
     "name": "stdout",
     "output_type": "stream",
     "text": [
      "split by date...\n",
      "users_period is  20160801 ======> 20170115\n",
      "predict_period is  20170301 ======> 20170430\n",
      "-----------------done--------------------\n",
      "提取交集...\n",
      "处理标签...\n",
      "按用户ID排序并赋值...\n",
      "保存...文件名: target1.csv\n",
      "------------------结束--------------------\n",
      "split by date...\n",
      "users_period is  20170115 ======> 20170630\n",
      "predict_period is  20170715 ======> 20170915\n",
      "-----------------done--------------------\n",
      "提取交集...\n",
      "处理标签...\n",
      "按用户ID排序并赋值...\n",
      "保存...文件名: target2.csv\n",
      "------------------结束--------------------\n",
      "split by date...\n",
      "users_period is  20170701 ======> 20171215\n",
      "predict_period is  20180201 ======> 20180331\n",
      "-----------------done--------------------\n",
      "提取交集...\n",
      "处理标签...\n",
      "按用户ID排序并赋值...\n",
      "保存...文件名: target3.csv\n",
      "------------------结束--------------------\n",
      "split by date...\n",
      "users_period is  20170501 ======> 20171015\n",
      "predict_period is  20171201 ======> 20180131\n",
      "-----------------done--------------------\n",
      "提取交集...\n",
      "处理标签...\n",
      "按用户ID排序并赋值...\n",
      "保存...文件名: target4.csv\n",
      "------------------结束--------------------\n"
     ]
    }
   ],
   "source": [
    "extractTarget(train,users_period[0],predict_period[0],'target1')\n",
    "extractTarget(train,users_period[1],predict_period[1],'target2')\n",
    "extractTarget(train,users_period[2],predict_period[2],'target3')\n",
    "extractTarget(train,users_period[4],predict_period[4],'target4')"
   ]
  },
  {
   "cell_type": "code",
   "execution_count": 421,
   "metadata": {},
   "outputs": [],
   "source": [
    "# batch1.head()"
   ]
  },
  {
   "cell_type": "code",
   "execution_count": 213,
   "metadata": {},
   "outputs": [],
   "source": [
    "batch1,pred1 = batch1.copy(),pred1.copy()\n",
    "batch2,pred2 = batch2.copy(),pred2.copy()\n",
    "batch3,pred3 = batch3.copy(),pred3.copy()\n",
    "batch4,pred4 = batch4.copy(),pred4.copy()"
   ]
  },
  {
   "cell_type": "code",
   "execution_count": null,
   "metadata": {},
   "outputs": [],
   "source": [
    "train_df = pd.concat([batch1,batch2,batch3,batch4],axis = 0)\n",
    "label_df = pd.concat([pred1,pred2,pred3,pred4],axis = 0)"
   ]
  },
  {
   "cell_type": "code",
   "execution_count": null,
   "metadata": {},
   "outputs": [],
   "source": []
  },
  {
   "cell_type": "code",
   "execution_count": null,
   "metadata": {},
   "outputs": [],
   "source": []
  },
  {
   "cell_type": "code",
   "execution_count": null,
   "metadata": {},
   "outputs": [],
   "source": []
  },
  {
   "cell_type": "code",
   "execution_count": null,
   "metadata": {},
   "outputs": [],
   "source": []
  },
  {
   "cell_type": "code",
   "execution_count": null,
   "metadata": {},
   "outputs": [],
   "source": []
  },
  {
   "cell_type": "code",
   "execution_count": null,
   "metadata": {},
   "outputs": [],
   "source": []
  },
  {
   "cell_type": "code",
   "execution_count": null,
   "metadata": {},
   "outputs": [],
   "source": []
  },
  {
   "cell_type": "code",
   "execution_count": null,
   "metadata": {},
   "outputs": [],
   "source": []
  },
  {
   "cell_type": "code",
   "execution_count": null,
   "metadata": {},
   "outputs": [],
   "source": []
  },
  {
   "cell_type": "code",
   "execution_count": null,
   "metadata": {},
   "outputs": [],
   "source": []
  },
  {
   "cell_type": "code",
   "execution_count": null,
   "metadata": {},
   "outputs": [],
   "source": []
  },
  {
   "cell_type": "code",
   "execution_count": null,
   "metadata": {},
   "outputs": [],
   "source": []
  },
  {
   "cell_type": "code",
   "execution_count": null,
   "metadata": {},
   "outputs": [],
   "source": []
  },
  {
   "cell_type": "code",
   "execution_count": null,
   "metadata": {},
   "outputs": [],
   "source": []
  },
  {
   "cell_type": "code",
   "execution_count": null,
   "metadata": {},
   "outputs": [],
   "source": []
  }
 ],
 "metadata": {
  "kernelspec": {
   "display_name": "tensorflow",
   "language": "python",
   "name": "tensorflow"
  },
  "language_info": {
   "codemirror_mode": {
    "name": "ipython",
    "version": 3
   },
   "file_extension": ".py",
   "mimetype": "text/x-python",
   "name": "python",
   "nbconvert_exporter": "python",
   "pygments_lexer": "ipython3",
   "version": "3.6.4"
  }
 },
 "nbformat": 4,
 "nbformat_minor": 2
}
