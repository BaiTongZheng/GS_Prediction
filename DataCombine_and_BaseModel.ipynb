{
 "cells": [
  {
   "cell_type": "code",
   "execution_count": 114,
   "metadata": {},
   "outputs": [],
   "source": [
    "import numpy as np \n",
    "import pandas as pd \n",
    "import gc\n",
    "import matplotlib.pyplot as plt\n",
    "import time\n",
    "import seaborn as sns\n",
    "from sklearn.metrics import mean_squared_error\n",
    "import lightgbm as lgb\n",
    "from sklearn.model_selection import GroupKFold\n",
    "from pandas.core.common import SettingWithCopyWarning\n",
    "import warnings\n",
    "warnings.simplefilter('error', SettingWithCopyWarning)\n",
    "\n",
    "gc.enable()"
   ]
  },
  {
   "cell_type": "code",
   "execution_count": 2,
   "metadata": {},
   "outputs": [],
   "source": [
    "path='/home/baitong/pywork/RevenuePrediction/'"
   ]
  },
  {
   "cell_type": "code",
   "execution_count": 15,
   "metadata": {},
   "outputs": [],
   "source": [
    "# def readAllData(csvpath=path,n=18,name = 'train0'):\n",
    "#     fulldata = pd.DataFrame()\n",
    "#     for i in range(n):       \n",
    "#         print('loading data : ' + name + '%d'%i)\n",
    "#         df = pd.read_csv(csvpath+name +str(i) +'.csv',dtype={'fullVisitorId': 'str'})\n",
    "#         fulldata = pd.concat([fulldata,df],axis=0)\n",
    "#         del df\n",
    "#         gc.collect()\n",
    "#     return fulldata"
   ]
  },
  {
   "cell_type": "code",
   "execution_count": 70,
   "metadata": {},
   "outputs": [
    {
     "name": "stdout",
     "output_type": "stream",
     "text": [
      "loading data : test00\n"
     ]
    },
    {
     "name": "stderr",
     "output_type": "stream",
     "text": [
      "/home/baitong/tensorflow/lib/python3.6/site-packages/IPython/core/magic.py:187: DtypeWarning: Columns (43,45,51,53,62,63,71,76) have mixed types. Specify dtype option on import or set low_memory=False.\n",
      "  call = lambda f, *a, **k: f(*a, **k)\n"
     ]
    },
    {
     "name": "stdout",
     "output_type": "stream",
     "text": [
      "loading data : test01\n"
     ]
    },
    {
     "name": "stderr",
     "output_type": "stream",
     "text": [
      "/home/baitong/tensorflow/lib/python3.6/site-packages/IPython/core/magic.py:187: DtypeWarning: Columns (1,3,8,17,43,45,49,51,53,62,63,64,71,76) have mixed types. Specify dtype option on import or set low_memory=False.\n",
      "  call = lambda f, *a, **k: f(*a, **k)\n"
     ]
    },
    {
     "name": "stdout",
     "output_type": "stream",
     "text": [
      "loading data : test02\n"
     ]
    },
    {
     "name": "stderr",
     "output_type": "stream",
     "text": [
      "/home/baitong/tensorflow/lib/python3.6/site-packages/ipykernel_launcher.py:6: FutureWarning: Sorting because non-concatenation axis is not aligned. A future version\n",
      "of pandas will change to not sort by default.\n",
      "\n",
      "To accept the future behavior, pass 'sort=False'.\n",
      "\n",
      "To retain the current behavior and silence the warning, pass 'sort=True'.\n",
      "\n",
      "  \n"
     ]
    },
    {
     "name": "stdout",
     "output_type": "stream",
     "text": [
      "loading data : test03\n",
      "loading data : test04\n",
      "CPU times: user 7.03 s, sys: 576 ms, total: 7.61 s\n",
      "Wall time: 7.76 s\n"
     ]
    }
   ],
   "source": [
    "# %%time\n",
    "# test = readAllData(n=5,name = 'test0')"
   ]
  },
  {
   "cell_type": "code",
   "execution_count": 71,
   "metadata": {},
   "outputs": [],
   "source": [
    "# train.columns"
   ]
  },
  {
   "cell_type": "code",
   "execution_count": 75,
   "metadata": {},
   "outputs": [],
   "source": [
    "# f = ['visitId','totals_totalTransactionRevenue','hits_transaction.transactionId','hits_item.transactionId']"
   ]
  },
  {
   "cell_type": "code",
   "execution_count": 76,
   "metadata": {},
   "outputs": [],
   "source": [
    "# test = test.drop(f,axis =1)"
   ]
  },
  {
   "cell_type": "code",
   "execution_count": 77,
   "metadata": {},
   "outputs": [],
   "source": [
    "# test.to_csv(path+'test_combine.csv',index = False)"
   ]
  },
  {
   "cell_type": "code",
   "execution_count": 85,
   "metadata": {},
   "outputs": [
    {
     "name": "stderr",
     "output_type": "stream",
     "text": [
      "<string>:2: DtypeWarning: Columns (3,6,20,22,24,30,40,41,42,49,59,79) have mixed types. Specify dtype option on import or set low_memory=False.\n"
     ]
    },
    {
     "name": "stdout",
     "output_type": "stream",
     "text": [
      "CPU times: user 15.1 s, sys: 904 ms, total: 16 s\n",
      "Wall time: 16 s\n"
     ]
    }
   ],
   "source": [
    "%%time\n",
    "train = pd.read_csv(path+'train_combine.csv',dtype={'fullVisitorId': 'str'})"
   ]
  },
  {
   "cell_type": "code",
   "execution_count": 89,
   "metadata": {},
   "outputs": [],
   "source": [
    "users_period = [\n",
    "    (20160801, 20170115),\n",
    "    (20170115, 20170630),\n",
    "    (20170701, 20171215),\n",
    "    (20171216, 20180601),\n",
    "    # Using the same months!\n",
    "    (20170501, 20171015),\n",
    "]\n",
    "\n",
    "predict_period = [\n",
    "    (20170301, 20170430),\n",
    "    (20170715, 20170915),\n",
    "    (20180201, 20180331),\n",
    "    (20180715, 20180915),\n",
    "    # Using the same months!\n",
    "    (20171201, 20180131),\n",
    "]"
   ]
  },
  {
   "cell_type": "code",
   "execution_count": 93,
   "metadata": {},
   "outputs": [],
   "source": [
    "train = train[train['date']!='No']\n",
    "train['date'] = train['date'].astype(\"float\")"
   ]
  },
  {
   "cell_type": "code",
   "execution_count": 95,
   "metadata": {},
   "outputs": [
    {
     "name": "stdout",
     "output_type": "stream",
     "text": [
      "\n",
      "Period 1\n",
      "There are 377186 visitors in 5.5 months\n",
      "There are 111299 visitors in 2 months\n",
      "1871 visitors returned or 0.50%\n",
      "And only 210 returning visitors have revenue or 0.06% from total\n",
      "The total revenue for this users is U$$ 102504.27\n",
      "\n",
      "Period 2\n",
      "There are 286797 visitors in 5.5 months\n",
      "There are 129144 visitors in 2 months\n",
      "3285 visitors returned or 1.15%\n",
      "And only 357 returning visitors have revenue or 0.12% from total\n",
      "The total revenue for this users is U$$ 88637.14\n",
      "\n",
      "Period 3\n",
      "There are 384946 visitors in 5.5 months\n",
      "There are 140808 visitors in 2 months\n",
      "2943 visitors returned or 0.76%\n",
      "And only 148 returning visitors have revenue or 0.04% from total\n",
      "The total revenue for this users is U$$ 15886.58\n",
      "\n",
      "Period 4\n",
      "There are 297074 visitors in 5.5 months\n",
      "There are 0 visitors in 2 months\n",
      "0 visitors returned or 0.00%\n",
      "And only 0 returning visitors have revenue or 0.00% from total\n",
      "The total revenue for this users is U$$ 0.00\n",
      "\n",
      "Period 5\n",
      "There are 329636 visitors in 5.5 months\n",
      "There are 144049 visitors in 2 months\n",
      "2488 visitors returned or 0.75%\n",
      "And only 112 returning visitors have revenue or 0.03% from total\n",
      "The total revenue for this users is U$$ 16821.74\n"
     ]
    }
   ],
   "source": [
    "revenues_list = []\n",
    "\n",
    "for i in range(5):\n",
    "    print(\"\\nPeriod\", i+1)\n",
    "    a, b = users_period[i]\n",
    "    batch = train[(train.date >= a) & (train.date <= b)]\n",
    "    batch_visitors = batch.fullVisitorId.unique()\n",
    "    print(\"There are\", len(batch_visitors), \"visitors in 5.5 months\")\n",
    "    \n",
    "    c, d = predict_period[i]\n",
    "    pred = train[(train.date >= c) & (train.date <= d)]\n",
    "    pred_visitors = pred.fullVisitorId.unique()\n",
    "    print(\"There are\", len(pred_visitors), \"visitors in 2 months\")\n",
    "    # Returning visitors\n",
    "    same_visitors = np.intersect1d(batch_visitors, pred_visitors)\n",
    "    print(\"{} visitors returned or {:.2f}%\".format(len(same_visitors), 100*len(same_visitors)/len(batch_visitors)))\n",
    "    # Returning visitors revenue\n",
    "    with_rev = pred[(pred.fullVisitorId.isin(same_visitors)) & (pred.totals_transactionRevenue > 0)]\n",
    "    print(\"And only {} returning visitors have revenue or {:.2f}% from total\".format(len(with_rev), 100*len(with_rev)/len(batch_visitors)))\n",
    "    print(\"The total revenue for this users is U$$ {:.2f}\".format(with_rev.totals_transactionRevenue.sum()/1000000))\n",
    "    revenues_list.append(with_rev.copy(deep=True))"
   ]
  },
  {
   "cell_type": "code",
   "execution_count": 110,
   "metadata": {},
   "outputs": [],
   "source": [
    "def splitByDate(df,users_period,predict_period):\n",
    "    print('split by date...')\n",
    "    print('users_period is ',users_period[0],'======>',users_period[1])\n",
    "    batch = train[(df.date >= users_period[0]) & (df.date <= users_period[1])]\n",
    "    print('predict_period is ',predict_period[0],'======>',predict_period[1])\n",
    "    pred = train[(df.date >= predict_period[0]) & (df.date <= predict_period[1])]\n",
    "    print(\"-----------------done--------------------\")\n",
    "    return batch,pred"
   ]
  },
  {
   "cell_type": "code",
   "execution_count": 170,
   "metadata": {},
   "outputs": [
    {
     "name": "stdout",
     "output_type": "stream",
     "text": [
      "split by date...\n",
      "users_period is  20160801 ======> 20170115\n",
      "predict_period is  20170301 ======> 20170430\n",
      "-----------------done--------------------\n",
      "split by date...\n",
      "users_period is  20170115 ======> 20170630\n",
      "predict_period is  20170715 ======> 20170915\n",
      "-----------------done--------------------\n",
      "split by date...\n",
      "users_period is  20170701 ======> 20171215\n",
      "predict_period is  20180201 ======> 20180331\n",
      "-----------------done--------------------\n",
      "split by date...\n",
      "users_period is  20170501 ======> 20171015\n",
      "predict_period is  20171201 ======> 20180131\n",
      "-----------------done--------------------\n"
     ]
    }
   ],
   "source": [
    "train['fullVisitorId'].astype(\"str\")\n",
    "batch1,pred1 = splitByDate(train,users_period[0],predict_period[0])\n",
    "batch2,pred2 = splitByDate(train,users_period[1],predict_period[1])\n",
    "batch3,pred3 = splitByDate(train,users_period[2],predict_period[2])\n",
    "batch4,pred4 = splitByDate(train,users_period[4],predict_period[4])"
   ]
  },
  {
   "cell_type": "code",
   "execution_count": 171,
   "metadata": {},
   "outputs": [],
   "source": []
  },
  {
   "cell_type": "code",
   "execution_count": 173,
   "metadata": {},
   "outputs": [
    {
     "name": "stdout",
     "output_type": "stream",
     "text": [
      "True    5924\n",
      "Name: isIdhavetest, dtype: int64\n",
      "False    417184\n",
      "True       7962\n",
      "Name: isIdhavetest, dtype: int64\n"
     ]
    },
    {
     "data": {
      "text/plain": [
       "(5924, 425146)"
      ]
     },
     "execution_count": 173,
     "metadata": {},
     "output_type": "execute_result"
    }
   ],
   "source": []
  },
  {
   "cell_type": "code",
   "execution_count": 174,
   "metadata": {},
   "outputs": [],
   "source": [
    "# pred4.info()"
   ]
  },
  {
   "cell_type": "code",
   "execution_count": 175,
   "metadata": {},
   "outputs": [],
   "source": [
    "\n"
   ]
  },
  {
   "cell_type": "code",
   "execution_count": null,
   "metadata": {},
   "outputs": [],
   "source": []
  },
  {
   "cell_type": "code",
   "execution_count": 176,
   "metadata": {},
   "outputs": [],
   "source": []
  },
  {
   "cell_type": "code",
   "execution_count": 179,
   "metadata": {},
   "outputs": [
    {
     "data": {
      "text/plain": [
       "Index(['0000049363351866189', '0000062267706107999', '0000085059828173212',\n",
       "       '0000085840370633780', '0000091131414287111', '0000118334805178127',\n",
       "       '0000166374699289385', '000018122977590134', '0000197671390269035',\n",
       "       '000020731284570628',\n",
       "       ...\n",
       "       '9999773079368714197', '9999775084144044428', '9999799804624735268',\n",
       "       '9999803509476553670', '9999824060591971928', '9999825631375939274',\n",
       "       '9999860794386137754', '9999905960465191827', '9999944980984230465',\n",
       "       '9999997304197521748'],\n",
       "      dtype='object', name='fullVisitorId', length=329636)"
      ]
     },
     "execution_count": 179,
     "metadata": {},
     "output_type": "execute_result"
    }
   ],
   "source": []
  },
  {
   "cell_type": "code",
   "execution_count": 180,
   "metadata": {},
   "outputs": [],
   "source": []
  },
  {
   "cell_type": "code",
   "execution_count": null,
   "metadata": {},
   "outputs": [],
   "source": []
  },
  {
   "cell_type": "code",
   "execution_count": 182,
   "metadata": {},
   "outputs": [],
   "source": []
  },
  {
   "cell_type": "code",
   "execution_count": 183,
   "metadata": {},
   "outputs": [
    {
     "data": {
      "text/plain": [
       "329636"
      ]
     },
     "execution_count": 183,
     "metadata": {},
     "output_type": "execute_result"
    }
   ],
   "source": []
  },
  {
   "cell_type": "code",
   "execution_count": 184,
   "metadata": {},
   "outputs": [],
   "source": []
  },
  {
   "cell_type": "code",
   "execution_count": 186,
   "metadata": {},
   "outputs": [],
   "source": []
  },
  {
   "cell_type": "code",
   "execution_count": 209,
   "metadata": {},
   "outputs": [],
   "source": [
    "def extractTarget(df,user_period,pred_period,name):\n",
    "#     print(user_period)\n",
    "    batch,pred = splitByDate(df,user_period,pred_period)\n",
    "    batch,pred = batch.copy(),pred.copy()\n",
    "    print(\"提取交集...\")\n",
    "    ####提取交集 ： 即查看预测日期区间与训练集日期区间的用户交集，这个交集是二次光顾商店的人群\n",
    "    pred[\"isIdhavetest\"] = pred['fullVisitorId'].isin(batch['fullVisitorId'])\n",
    "#     print(pred[\"isIdhavetest\"].value_counts())\n",
    "    pred = pred[pred[\"isIdhavetest\"]==True]\n",
    "    batch[\"isIdhavetest\"]= batch['fullVisitorId'].isin(pred['fullVisitorId'])\n",
    "#     print(batch[\"isIdhavetest\"].value_counts())\n",
    "     ####处理标签\n",
    "    print(\"处理标签...\")\n",
    "    pred[\"isIdhavetest\"] = pred[\"isIdhavetest\"].apply(lambda x: 1 if x==True else 0)\n",
    "    batch[\"isIdhavetest\"] = batch[\"isIdhavetest\"].apply(lambda x: 1 if x==True else 0)\n",
    "    pred['target'] =pred['totals_transactionRevenue']\n",
    "    pred = pred[['target','fullVisitorId',\"isIdhavetest\",'totals_transactionRevenue']]\n",
    "    batch['target'] = 0\n",
    "    batch = batch[['target','fullVisitorId',\"isIdhavetest\"]]\n",
    "    ####按用户ID排序\n",
    "    print(\"按用户ID排序并赋值...\")\n",
    "    pred = pred.groupby('fullVisitorId').sum()\n",
    "    batch = batch.groupby('fullVisitorId').sum()\n",
    "    tmp1 =pd.DataFrame()\n",
    "    tmp2 = pd.DataFrame()\n",
    "    tmp1['target'] = batch['target'][batch[\"isIdhavetest\"]>=1] \n",
    "    tmp2['target'] = batch['target'][batch[\"isIdhavetest\"]==0] \n",
    "    tmp1['target'] = pred['totals_transactionRevenue']#获取回头客的消费记录\n",
    "    tmp2['target'] = 0#非回头客默认置零\n",
    "    tmp = pd.concat([tmp1, tmp2])\n",
    "    tmp.sort_index(inplace=True)\n",
    "    print(\"保存...文件名: \"+name+'.csv')\n",
    "    batch['target'] = tmp['target']\n",
    "    batch[['target']].to_csv('/home/baitong/pywork/RevenuePrediction/'+name+'.csv', index=True)\n",
    "#     print(batch['target'].value_counts())\n",
    "    print('------------------结束--------------------')"
   ]
  },
  {
   "cell_type": "code",
   "execution_count": null,
   "metadata": {},
   "outputs": [],
   "source": []
  },
  {
   "cell_type": "code",
   "execution_count": 210,
   "metadata": {},
   "outputs": [
    {
     "name": "stdout",
     "output_type": "stream",
     "text": [
      "split by date...\n",
      "users_period is  20160801 ======> 20170115\n",
      "predict_period is  20170301 ======> 20170430\n",
      "-----------------done--------------------\n",
      "提取交集...\n",
      "处理标签...\n",
      "按用户ID排序并赋值...\n",
      "保存...文件名: target1.csv\n",
      "------------------结束--------------------\n",
      "split by date...\n",
      "users_period is  20170115 ======> 20170630\n",
      "predict_period is  20170715 ======> 20170915\n",
      "-----------------done--------------------\n",
      "提取交集...\n",
      "处理标签...\n",
      "按用户ID排序并赋值...\n",
      "保存...文件名: target2.csv\n",
      "------------------结束--------------------\n",
      "split by date...\n",
      "users_period is  20170701 ======> 20171215\n",
      "predict_period is  20180201 ======> 20180331\n",
      "-----------------done--------------------\n",
      "提取交集...\n",
      "处理标签...\n",
      "按用户ID排序并赋值...\n",
      "保存...文件名: target3.csv\n",
      "------------------结束--------------------\n",
      "split by date...\n",
      "users_period is  20170501 ======> 20171015\n",
      "predict_period is  20171201 ======> 20180131\n",
      "-----------------done--------------------\n",
      "提取交集...\n",
      "处理标签...\n",
      "按用户ID排序并赋值...\n",
      "保存...文件名: target4.csv\n",
      "------------------结束--------------------\n"
     ]
    }
   ],
   "source": [
    "extractTarget(train,users_period[0],predict_period[0],'target1')\n",
    "extractTarget(train,users_period[1],predict_period[1],'target2')\n",
    "extractTarget(train,users_period[2],predict_period[2],'target3')\n",
    "extractTarget(train,users_period[4],predict_period[4],'target4')"
   ]
  },
  {
   "cell_type": "code",
   "execution_count": 67,
   "metadata": {},
   "outputs": [],
   "source": [
    "# train['date'] = train['date'].astype(\"float\")\n",
    "\n",
    "# dev_df = train[(train['date']<=20171015) & (train['date']>=(20170501))]\n",
    "# val_df = train[(train['date']>=20171201) & (train['date']<=(20180131))]\n",
    "# len(dev_df),len(val_df)"
   ]
  },
  {
   "cell_type": "code",
   "execution_count": null,
   "metadata": {},
   "outputs": [],
   "source": []
  },
  {
   "cell_type": "code",
   "execution_count": null,
   "metadata": {},
   "outputs": [],
   "source": []
  }
 ],
 "metadata": {
  "kernelspec": {
   "display_name": "tensorflow",
   "language": "python",
   "name": "tensorflow"
  },
  "language_info": {
   "codemirror_mode": {
    "name": "ipython",
    "version": 3
   },
   "file_extension": ".py",
   "mimetype": "text/x-python",
   "name": "python",
   "nbconvert_exporter": "python",
   "pygments_lexer": "ipython3",
   "version": "3.6.4"
  }
 },
 "nbformat": 4,
 "nbformat_minor": 2
}
