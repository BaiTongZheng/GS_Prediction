{
 "cells": [
  {
   "cell_type": "code",
   "execution_count": 1,
   "metadata": {},
   "outputs": [],
   "source": [
    "import pandas as pd\n",
    "import numpy as np\n",
    "import matplotlib.pyplot as plt\n",
    "import seaborn as sns\n",
    "from sklearn.metrics import mean_squared_error\n",
    "import gc\n",
    "import time\n",
    "from pandas.core.common import SettingWithCopyWarning\n",
    "import warnings\n",
    "import lightgbm as lgb\n",
    "from sklearn.model_selection import GroupKFold\n",
    "from pandas.io.json import json_normalize\n",
    "import json\n",
    "import os\n",
    "import plotly.graph_objs as go\n",
    "from plotly import tools\n",
    "import plotly.plotly as py\n",
    "warnings.simplefilter('error', SettingWithCopyWarning)\n",
    "gc.enable()\n",
    "%matplotlib inline"
   ]
  },
  {
   "cell_type": "code",
   "execution_count": 2,
   "metadata": {},
   "outputs": [],
   "source": [
    "def load_df(csv_path='/home/baitong/pywork/RevenuePrediction/all/train.csv', nrows=None):\n",
    "    JSON_COLUMNS = ['device', 'geoNetwork', 'totals', 'trafficSource']\n",
    "    \n",
    "    df = pd.read_csv(csv_path, \n",
    "                     converters={column: json.loads for column in JSON_COLUMNS}, \n",
    "                     dtype={'fullVisitorId': 'str'}, # Important!!\n",
    "                     nrows=nrows)\n",
    "#     print(df.head())\n",
    "    for column in JSON_COLUMNS:\n",
    "        column_as_df = json_normalize(df[column])\n",
    "        column_as_df.columns = [f\"{column}.{subcolumn}\" for subcolumn in column_as_df.columns]\n",
    "        df = df.drop(column, axis=1).merge(column_as_df, right_index=True, left_index=True)\n",
    "    print(f\"Loaded {os.path.basename(csv_path)}. Shape: {df.shape}\")\n",
    "    return df\n"
   ]
  },
  {
   "cell_type": "code",
   "execution_count": 3,
   "metadata": {},
   "outputs": [
    {
     "name": "stdout",
     "output_type": "stream",
     "text": [
      "Loaded train.csv. Shape: (903653, 55)\n",
      "Loaded test.csv. Shape: (804684, 53)\n",
      "CPU times: user 3min 49s, sys: 3.92 s, total: 3min 52s\n",
      "Wall time: 3min 52s\n"
     ]
    }
   ],
   "source": [
    "%%time\n",
    "train = load_df()\n",
    "test = load_df(\"/home/baitong/pywork/RevenuePrediction/all/test.csv\")\n",
    "train.shape, test.shape"
   ]
  },
  {
   "cell_type": "code",
   "execution_count": 4,
   "metadata": {},
   "outputs": [
    {
     "data": {
      "text/plain": [
       "((903653, 35), (804684, 34))"
      ]
     },
     "execution_count": 4,
     "metadata": {},
     "output_type": "execute_result"
    }
   ],
   "source": [
    "#获取不变的常量列，模型无法在常量数据计学到东西，数据与处理时需要drop\n",
    "const_cols = [c for c in train.columns if train[c].nunique(dropna=False)==1 ]\n",
    "train = train.drop(const_cols , axis=1)\n",
    "test = test.drop(const_cols, axis=1)\n",
    "####删除test中不存在的列\n",
    "train = train.drop([\"trafficSource.campaignCode\"], axis=1)\n",
    "# train[\"trafficSource.campaignCode\"].astype(\"float\")\n",
    "train.shape, test.shape"
   ]
  },
  {
   "cell_type": "code",
   "execution_count": 5,
   "metadata": {},
   "outputs": [
    {
     "data": {
      "text/plain": [
       "Index(['date', 'visitId', 'visitNumber', 'visitStartTime'], dtype='object')"
      ]
     },
     "execution_count": 5,
     "metadata": {},
     "output_type": "execute_result"
    }
   ],
   "source": [
    "#纯数字型特征\n",
    "numeric_features_train = train.select_dtypes(include=[np.number])\n",
    "numeric_features_train.columns"
   ]
  },
  {
   "cell_type": "code",
   "execution_count": 6,
   "metadata": {},
   "outputs": [
    {
     "data": {
      "text/plain": [
       "Index(['channelGrouping', 'fullVisitorId', 'sessionId', 'device.browser',\n",
       "       'device.deviceCategory', 'device.operatingSystem', 'geoNetwork.city',\n",
       "       'geoNetwork.continent', 'geoNetwork.country', 'geoNetwork.metro',\n",
       "       'geoNetwork.networkDomain', 'geoNetwork.region',\n",
       "       'geoNetwork.subContinent', 'totals.bounces', 'totals.hits',\n",
       "       'totals.newVisits', 'totals.pageviews', 'totals.transactionRevenue',\n",
       "       'trafficSource.adContent',\n",
       "       'trafficSource.adwordsClickInfo.adNetworkType',\n",
       "       'trafficSource.adwordsClickInfo.gclId',\n",
       "       'trafficSource.adwordsClickInfo.isVideoAd',\n",
       "       'trafficSource.adwordsClickInfo.page',\n",
       "       'trafficSource.adwordsClickInfo.slot', 'trafficSource.campaign',\n",
       "       'trafficSource.isTrueDirect', 'trafficSource.keyword',\n",
       "       'trafficSource.medium', 'trafficSource.referralPath',\n",
       "       'trafficSource.source'],\n",
       "      dtype='object')"
      ]
     },
     "execution_count": 6,
     "metadata": {},
     "output_type": "execute_result"
    }
   ],
   "source": [
    "#类型特征，需要转化为数字特征或者独热编码\n",
    "categorical_features_train = train.select_dtypes(include=[np.object])\n",
    "categorical_features_train.columns"
   ]
  },
  {
   "cell_type": "code",
   "execution_count": 7,
   "metadata": {},
   "outputs": [],
   "source": [
    "##查看缺失值信息\n",
    "# train.info(),test.info()"
   ]
  },
  {
   "cell_type": "code",
   "execution_count": 11,
   "metadata": {},
   "outputs": [],
   "source": [
    "train['totals.transactionRevenue'] = train['totals.transactionRevenue'].astype(\"float\")"
   ]
  },
  {
   "cell_type": "code",
   "execution_count": null,
   "metadata": {},
   "outputs": [],
   "source": []
  },
  {
   "cell_type": "code",
   "execution_count": null,
   "metadata": {},
   "outputs": [],
   "source": []
  },
  {
   "cell_type": "code",
   "execution_count": null,
   "metadata": {},
   "outputs": [],
   "source": []
  },
  {
   "cell_type": "code",
   "execution_count": 12,
   "metadata": {},
   "outputs": [],
   "source": [
    "# train_fill.info()"
   ]
  },
  {
   "cell_type": "code",
   "execution_count": null,
   "metadata": {},
   "outputs": [],
   "source": []
  },
  {
   "cell_type": "code",
   "execution_count": 13,
   "metadata": {},
   "outputs": [],
   "source": [
    "###绘图分析函数\n",
    "def horizontal_bar_chart(cnt_srs, color):\n",
    "    trace = go.Bar(\n",
    "        y=cnt_srs.index[::-1],\n",
    "        x=cnt_srs.values[::-1],\n",
    "        showlegend=False,\n",
    "        orientation = 'h',\n",
    "        marker=dict(\n",
    "            color=color,\n",
    "        ),\n",
    "    )\n",
    "    return trace"
   ]
  },
  {
   "cell_type": "code",
   "execution_count": 17,
   "metadata": {},
   "outputs": [
    {
     "name": "stdout",
     "output_type": "stream",
     "text": [
      "This is the format of your plot grid:\n",
      "[ (1,1) x1,y1 ]  [ (1,2) x2,y2 ]  [ (1,3) x3,y3 ]\n",
      "[ (2,1) x4,y4 ]  [ (2,2) x5,y5 ]  [ (2,3) x6,y6 ]\n",
      "[ (3,1) x7,y7 ]  [ (3,2) x8,y8 ]  [ (3,3) x9,y9 ]\n",
      "\n",
      "High five! You successfully sent some data to your account on plotly. View your plot in your browser at https://plot.ly/~BaiTong/0 or inside your plot.ly account where it is named 'device-plots'\n"
     ]
    },
    {
     "data": {
      "text/html": [
       "<iframe id=\"igraph\" scrolling=\"no\" style=\"border:none;\" seamless=\"seamless\" src=\"https://plot.ly/~BaiTong/0.embed\" height=\"1200px\" width=\"1200px\"></iframe>"
      ],
      "text/plain": [
       "<plotly.tools.PlotlyDisplay object>"
      ]
     },
     "execution_count": 17,
     "metadata": {},
     "output_type": "execute_result"
    }
   ],
   "source": [
    "# Device Browser\n",
    "cnt_srs = train.groupby('device.browser')['totals.transactionRevenue'].agg(['size', 'count', 'mean'])\n",
    "cnt_srs.columns = [\"count\", \"count of non-zero revenue\", \"mean\"]\n",
    "cnt_srs = cnt_srs.sort_values(by=\"count\", ascending=False)\n",
    "trace1 = horizontal_bar_chart(cnt_srs[\"count\"].head(10), 'rgba(50, 171, 96, 0.6)')\n",
    "trace2 = horizontal_bar_chart(cnt_srs[\"count of non-zero revenue\"].head(10), 'rgba(50, 171, 96, 0.6)')\n",
    "trace3 = horizontal_bar_chart(cnt_srs[\"mean\"].head(10), 'rgba(50, 171, 96, 0.6)')\n",
    "\n",
    "# Device Category\n",
    "cnt_srs = train.groupby('device.deviceCategory')['totals.transactionRevenue'].agg(['size', 'count', 'mean'])\n",
    "cnt_srs.columns = [\"count\", \"count of non-zero revenue\", \"mean\"]\n",
    "cnt_srs = cnt_srs.sort_values(by=\"count\", ascending=False)\n",
    "trace4 = horizontal_bar_chart(cnt_srs[\"count\"].head(10), 'rgba(71, 58, 131, 0.8)')\n",
    "trace5 = horizontal_bar_chart(cnt_srs[\"count of non-zero revenue\"].head(10), 'rgba(71, 58, 131, 0.8)')\n",
    "trace6 = horizontal_bar_chart(cnt_srs[\"mean\"].head(10), 'rgba(71, 58, 131, 0.8)')\n",
    "# Operating system\n",
    "cnt_srs = train.groupby('device.operatingSystem')['totals.transactionRevenue'].agg(['size', 'count', 'mean'])\n",
    "cnt_srs.columns = [\"count\", \"count of non-zero revenue\", \"mean\"]\n",
    "cnt_srs = cnt_srs.sort_values(by=\"count\", ascending=False)\n",
    "trace7 = horizontal_bar_chart(cnt_srs[\"count\"].head(10), 'rgba(246, 78, 139, 0.6)')\n",
    "trace8 = horizontal_bar_chart(cnt_srs[\"count of non-zero revenue\"].head(10),'rgba(246, 78, 139, 0.6)')\n",
    "trace9 = horizontal_bar_chart(cnt_srs[\"mean\"].head(10),'rgba(246, 78, 139, 0.6)')\n",
    "\n",
    "# Creating two subplots\n",
    "fig = tools.make_subplots(rows=3, cols=3, vertical_spacing=0.04, \n",
    "                          subplot_titles=[\"Device Browser - Count\", \"Device Browser - Non-zero Revenue Count\", \"Device Browser - Mean Revenue\",\n",
    "                                          \"Device Category - Count\",  \"Device Category - Non-zero Revenue Count\", \"Device Category - Mean Revenue\", \n",
    "                                          \"Device OS - Count\", \"Device OS - Non-zero Revenue Count\", \"Device OS - Mean Revenue\"])\n",
    "\n",
    "fig.append_trace(trace1, 1, 1)\n",
    "fig.append_trace(trace2, 1, 2)\n",
    "fig.append_trace(trace3, 1, 3)\n",
    "fig.append_trace(trace4, 2, 1)\n",
    "fig.append_trace(trace5, 2, 2)\n",
    "fig.append_trace(trace6, 2, 3)\n",
    "fig.append_trace(trace7, 3, 1)\n",
    "fig.append_trace(trace8, 3, 2)\n",
    "fig.append_trace(trace9, 3, 3)\n",
    "\n",
    "fig['layout'].update(height=1200, width=1200, paper_bgcolor='rgb(233,233,233)', title=\"Device Plots\")\n",
    "py.iplot(fig, filename='device-plots')\n"
   ]
  },
  {
   "cell_type": "code",
   "execution_count": 32,
   "metadata": {},
   "outputs": [
    {
     "name": "stdout",
     "output_type": "stream",
     "text": [
      "This is the format of your plot grid:\n",
      "[ (1,1) x1,y1 ]  [ (1,2) x2,y2 ]  [ (1,3) x3,y3 ]\n",
      "[ (2,1) x4,y4 ]  [ (2,2) x5,y5 ]  [ (2,3) x6,y6 ]\n",
      "[ (3,1) x7,y7 ]  [ (3,2) x8,y8 ]  [ (3,3) x9,y9 ]\n",
      "\n"
     ]
    },
    {
     "data": {
      "text/html": [
       "<iframe id=\"igraph\" scrolling=\"no\" style=\"border:none;\" seamless=\"seamless\" src=\"https://plot.ly/~BaiTong/6.embed\" height=\"1500px\" width=\"1200px\"></iframe>"
      ],
      "text/plain": [
       "<plotly.tools.PlotlyDisplay object>"
      ]
     },
     "execution_count": 32,
     "metadata": {},
     "output_type": "execute_result"
    }
   ],
   "source": [
    "cnt_srs = train.groupby('geoNetwork.continent')['totals.transactionRevenue'].agg(['size', 'count', 'mean'])\n",
    "cnt_srs.columns = [\"count\", \"count of non-zero revenue\", \"mean\"]\n",
    "cnt_srs = cnt_srs.sort_values(by=\"count\", ascending=False)\n",
    "trace1 = horizontal_bar_chart(cnt_srs[\"count\"].head(10), 'rgba(58, 71, 80, 0.6)')\n",
    "trace2 = horizontal_bar_chart(cnt_srs[\"count of non-zero revenue\"].head(10), 'rgba(58, 71, 80, 0.6)')\n",
    "trace3 = horizontal_bar_chart(cnt_srs[\"mean\"].head(10), 'rgba(58, 71, 80, 0.6)')\n",
    "\n",
    "# Sub-continent\n",
    "cnt_srs = train.groupby('geoNetwork.city')['totals.transactionRevenue'].agg(['size', 'count', 'mean'])\n",
    "cnt_srs.columns = [\"count\", \"count of non-zero revenue\", \"mean\"]\n",
    "cnt_srs = cnt_srs.sort_values(by=\"count\", ascending=False)\n",
    "trace4 = horizontal_bar_chart(cnt_srs[\"count\"].head(20), 'orange')\n",
    "trace5 = horizontal_bar_chart(cnt_srs[\"count of non-zero revenue\"].head(20), 'orange')\n",
    "trace6 = horizontal_bar_chart(cnt_srs[\"mean\"].head(20), 'orange')\n",
    "\n",
    "# Network domain\n",
    "cnt_srs = train.groupby('geoNetwork.networkDomain')['totals.transactionRevenue'].agg(['size', 'count', 'mean'])\n",
    "cnt_srs.columns = [\"count\", \"count of non-zero revenue\", \"mean\"]\n",
    "cnt_srs = cnt_srs.sort_values(by=\"count\", ascending=False)\n",
    "trace7 = horizontal_bar_chart(cnt_srs[\"count\"].head(20), 'blue')\n",
    "trace8 = horizontal_bar_chart(cnt_srs[\"count of non-zero revenue\"].head(20), 'blue')\n",
    "trace9 = horizontal_bar_chart(cnt_srs[\"mean\"].head(20), 'blue')\n",
    "\n",
    "# Creating two subplots\n",
    "fig = tools.make_subplots(rows=3, cols=3, vertical_spacing=0.08, horizontal_spacing=0.15, \n",
    "                          subplot_titles=[\"Continent - Count\", \"Continent - Non-zero Revenue Count\", \"Continent - Mean Revenue\",\n",
    "                                          \"geoNetwork.city- Count\",  \"country - Non-zero Revenue Count\", \"country - Mean Revenue\",\n",
    "                                          \"Network Domain - Count\", \"Network Domain - Non-zero Revenue Count\", \"Network Domain - Mean Revenue\"])\n",
    "\n",
    "fig.append_trace(trace1, 1, 1)\n",
    "fig.append_trace(trace2, 1, 2)\n",
    "fig.append_trace(trace3, 1, 3)\n",
    "fig.append_trace(trace4, 2, 1)\n",
    "fig.append_trace(trace5, 2, 2)\n",
    "fig.append_trace(trace6, 2, 3)\n",
    "fig.append_trace(trace7, 3, 1)\n",
    "fig.append_trace(trace8, 3, 2)\n",
    "fig.append_trace(trace9, 3, 3)\n",
    "\n",
    "fig['layout'].update(height=1500, width=1200, paper_bgcolor='rgb(233,233,233)', title=\"Geography Plots\")\n",
    "py.iplot(fig, filename='geo-plots')"
   ]
  },
  {
   "cell_type": "code",
   "execution_count": null,
   "metadata": {},
   "outputs": [],
   "source": [
    "# train['totals.transactionRevenue'].fillna(0,inplace = True)\n",
    "# "
   ]
  },
  {
   "cell_type": "code",
   "execution_count": null,
   "metadata": {},
   "outputs": [],
   "source": [
    "# #对缺失数据的数字特征进行填充处理,测试集没有totals.transactionRevenue所以这里没有对totals.transactionRevenue进行处理\n",
    "# #这里采取的策略是填充0,可以采取平均值填充\n",
    "# def DealNum_missingdata(df):\n",
    "#     name_col = ['totals.bounces','totals.hits','totals.newVisits','totals.pageviews','trafficSource.adwordsClickInfo.page']\n",
    "#     for name in name_col:\n",
    "#         df[name].fillna(0,inplace= True)\n",
    "#     return df\n",
    "# train =DealNum_missingdata(train)\n",
    "# test =DealNum_missingdata(test)\n",
    "\n",
    "# # train.info(),test.info()\n",
    "# #这里仍然没有对种类特征进行填充处理\n",
    "# print('*')"
   ]
  },
  {
   "cell_type": "code",
   "execution_count": null,
   "metadata": {},
   "outputs": [],
   "source": [
    "# def DealCategorical_missingdata(df):\n",
    "#     name_col = ['trafficSource.adwordsClickInfo.adNetworkType',\n",
    "#                 'trafficSource.adContent',\n",
    "#                 'trafficSource.adwordsClickInfo.isVideoAd',\n",
    "#                 'trafficSource.adwordsClickInfo.slot',\n",
    "#                 'trafficSource.isTrueDirect',\n",
    "#                 'trafficSource.keyword',\n",
    "#                 'trafficSource.referralPath']\n",
    "#     for name in name_col:\n",
    "#         df[name].fillna('-',inplace= True)\n",
    "#     return df\n",
    "# train = DealCategorical_missingdata(train)\n",
    "# test = DealCategorical_missingdata(test)\n",
    "# test_fill =test.drop(['trafficSource.adwordsClickInfo.gclId'],axis=1)\n",
    "# train_fill = train.drop(['trafficSource.adwordsClickInfo.gclId'],axis=1)\n",
    "# train_fill['totals.transactionRevenue'] = train_fill['totals.transactionRevenue'].astype(\"float\")"
   ]
  },
  {
   "cell_type": "code",
   "execution_count": 33,
   "metadata": {},
   "outputs": [
    {
     "name": "stdout",
     "output_type": "stream",
     "text": [
      "*\n"
     ]
    },
    {
     "data": {
      "text/plain": [
       "not available in demo dataset    508229\n",
       "Mountain View                     40884\n",
       "(not set)                         34262\n",
       "New York                          26371\n",
       "San Francisco                     20329\n",
       "Sunnyvale                         13086\n",
       "London                            12607\n",
       "San Jose                          10295\n",
       "Los Angeles                        8670\n",
       "Bangkok                            7709\n",
       "Chicago                            7444\n",
       "Ho Chi Minh City                   7342\n",
       "Istanbul                           6330\n",
       "Bengaluru                          5468\n",
       "Toronto                            5223\n",
       "Hanoi                              5032\n",
       "Seattle                            5025\n",
       "Sydney                             4926\n",
       "Dublin                             4877\n",
       "Sao Paulo                          4106\n",
       "Mumbai                             4099\n",
       "Chennai                            4090\n",
       "Paris                              4013\n",
       "Hyderabad                          3934\n",
       "Austin                             3790\n",
       "Tel Aviv-Yafo                      3542\n",
       "Hong Kong                          3508\n",
       "Jakarta                            3338\n",
       "Singapore                          3299\n",
       "Warsaw                             3288\n",
       "New Delhi                          3209\n",
       "Santa Clara                        3183\n",
       "Palo Alto                          2886\n",
       "Melbourne                          2741\n",
       "Madrid                             2593\n",
       "Mexico City                        2556\n",
       "Washington                         2532\n",
       "Houston                            2475\n",
       "Minato                             2432\n",
       "Seoul                              2380\n",
       "Atlanta                            2352\n",
       "Montreal                           2245\n",
       "Ann Arbor                          2241\n",
       "Kuala Lumpur                       2234\n",
       "Salem                              2227\n",
       "Moscow                             2151\n",
       "Pune                               2014\n",
       "Kirkland                           1974\n",
       "Dallas                             1834\n",
       "La Victoria                        1794\n",
       "Name: geoNetwork.city, dtype: int64"
      ]
     },
     "execution_count": 33,
     "metadata": {},
     "output_type": "execute_result"
    }
   ],
   "source": [
    "#对种类特征进行分析，种类过于少的可以舍弃，只留取重要种类作为分支\n",
    "train['channelGrouping'].value_counts()\n",
    "##Organic Search，Social，Direct，Referral，Paid Search，Affiliates，Display，(Other)\n",
    "train['device.browser'].value_counts()\n",
    "##Chrome，Safari，Firefox，Internet Explorer，Edge |截|断| Android Webview，Opera Mini，Opera，UC Browser，YaBrowser\n",
    "##Coc Coc，Amazon Silk，Android Browser，Mozilla Compatible Agent，MRCHROME，Maxthon，BlackBerry，Nintendo Browser...\n",
    "train['device.deviceCategory'].value_counts()##desktop,mobile,tablet\n",
    "train['device.isMobile'].value_counts()##False,True\n",
    "train['device.operatingSystem'].value_counts()\n",
    "##Windows,Macintosh,Android,iOS,Linux,Chrome OS,|截|断|(not set),Windows Phone,Samsung,BlackBerry....\n",
    "\n",
    "##########对于地理位置信息，只需要选择较重要特征就可以。大陆，国家，和城市之间含有的信息重叠部分较多，可以少取一些特征。\n",
    "train['geoNetwork.continent'].value_counts()######Americas,Africa|截|断|\n",
    "###Americas，Asia，Europe，Oceania，Africa，(not set)\n",
    "\n",
    "train['geoNetwork.metro'].value_counts()\n",
    "##not available in demo dataset,(not set),San Francisco-Oakland-San Jose CA, \n",
    "##New York NY ,London,Los Angeles CA,Seattle-Tacoma WA,Chicago IL,Austin TX ,Washington DC (Hagerstown MD)....\n",
    "train['geoNetwork.networkDomain'].value_counts()\n",
    "##(not set),unknown.unknown,comcast.net,rr.com,verizon.net,ttnet.com.tr,comcastbusiness.net,\n",
    "##hinet.net,virginm.net,3bb.co.th....\n",
    "train['geoNetwork.subContinent'].value_counts()\n",
    "##Northern America,Southeast Asia,Southern Asia,Western Europe,Northern Europe,Eastern Asia\n",
    "##Eastern Europe,South America ,Western Asia,Southern Europe,Central America,Australasia\n",
    "##Northern Africa,Western Africa,Caribbean,Southern Africa,Eastern Africa,Eastern Africa...\n",
    "print('*')\n",
    "# train['geoNetwork.region'].value_counts()  ###该属性类型分布过多，需要进一步对类型进行拆分\n",
    "###California,New York,Texas,Washington,Illinois,Ontario|截|断|\n",
    "\n",
    "# train['geoNetwork.country'].value_counts() ###该属性类型分布过多，需要进一步对类型进行拆分\n",
    "#United States,India,United Kingdom,Canada,Vietnam,Japan|截|断|\n",
    "\n",
    "# train['geoNetwork.city'].value_counts()[0:50]  ###该属性类型分布过多，需要进一步对类型进行拆分\n",
    "###Mountain View,New York,San Francisco,San Jose,Los Angeles,Chicago,Toronto,Seattle|截|断|"
   ]
  },
  {
   "cell_type": "code",
   "execution_count": null,
   "metadata": {},
   "outputs": [],
   "source": [
    "# test_fill['trafficSource.adwordsClickInfo.adNetworkType'].value_counts()\n",
    "###-,Google Search，Search partners\n",
    "test_fill['trafficSource.adwordsClickInfo.isVideoAd'].value_counts()###-,False 这里全为假？？？？\n",
    "# test_fill[].value_counts()\n",
    "test_fill['trafficSource.adwordsClickInfo.slot'].value_counts()### -，RHS，Top，Google Display Network\n",
    "test_fill['trafficSource.campaign'].value_counts()\n",
    "###(not set)，1000557 | GA | US | en | Hybrid | GDN Text+Banner | AS，\n",
    "###Data Share Promo，1000557 | GA | US | en | Hybrid | GDN Remarketing\n",
    "###AW - Dynamic Search Ads Whole Site，Smart Display Campaign，\n",
    "###AW - Accessories \"google + redesign/Accessories March 17\" All Users Similar Audiences \n",
    "test_fill['trafficSource.isTrueDirect'].value_counts() ### - ，True 这里全为真？？？？\n",
    "test_fill['trafficSource.keyword'].value_counts()#####感觉没啥用\n",
    "######-，(not provided)，(User vertical targeting)，(automatic matching)\n",
    "#####6qEhsCssdK0z36ri，(Remarketing/Content targeting)，1hZbAqLCbjwfgOH7....\n",
    "test_fill['trafficSource.medium'].value_counts()\n",
    "###organic,referral,(none),cpc,affiliate,cpm,(not set)\n",
    "test_fill['trafficSource.referralPath'].value_counts()#####感觉没啥用\n",
    "#### -, /,/analytics/web/,/yt/about/,/yt/advertise/ .....\n",
    "test_fill['trafficSource.source'].value_counts()####数据很全，可以进一步画出比较重要的来源\n",
    "####google,(direct),youtube.com,mall.googleplex.com ,\n",
    "####analytics.google.com,Partners,gdeals.googleplex.com\n",
    "###sites.google.com,google.com，googleads.g.doubleclick.net，\n",
    "###m.facebook.com，reddit.com，bing，baidu.....\n",
    "print('*')"
   ]
  }
 ],
 "metadata": {
  "kernelspec": {
   "display_name": "tensorflow",
   "language": "python",
   "name": "tensorflow"
  },
  "language_info": {
   "codemirror_mode": {
    "name": "ipython",
    "version": 3
   },
   "file_extension": ".py",
   "mimetype": "text/x-python",
   "name": "python",
   "nbconvert_exporter": "python",
   "pygments_lexer": "ipython3",
   "version": "3.6.4"
  }
 },
 "nbformat": 4,
 "nbformat_minor": 2
}
