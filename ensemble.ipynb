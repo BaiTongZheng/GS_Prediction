{
 "cells": [
  {
   "cell_type": "code",
   "execution_count": 1,
   "metadata": {},
   "outputs": [],
   "source": [
    "import pandas as pd\n",
    "import numpy as np\n",
    "import matplotlib.pyplot as plt\n",
    "import seaborn as sns\n",
    "from sklearn.metrics import mean_squared_error\n",
    "import gc\n",
    "import time\n",
    "from pandas.core.common import SettingWithCopyWarning\n",
    "import warnings\n",
    "import lightgbm as lgb\n",
    "from sklearn.model_selection import GroupKFold\n",
    "from pandas.io.json import json_normalize\n",
    "import json\n",
    "import os\n",
    "import plotly.graph_objs as go\n",
    "from plotly import tools\n",
    "import plotly.plotly as py\n",
    "warnings.simplefilter('error', SettingWithCopyWarning)\n",
    "gc.enable()\n",
    "%matplotlib inline"
   ]
  },
  {
   "cell_type": "code",
   "execution_count": 2,
   "metadata": {},
   "outputs": [],
   "source": [
    "def load_df(csv_path='/home/baitong/pywork/RevenuePrediction/all/train.csv', nrows=None):\n",
    "    JSON_COLUMNS = ['device', 'geoNetwork', 'totals', 'trafficSource']\n",
    "    \n",
    "    df = pd.read_csv(csv_path, \n",
    "                     converters={column: json.loads for column in JSON_COLUMNS}, \n",
    "                     dtype={'fullVisitorId': 'str'}, # Important!!\n",
    "                     nrows=nrows)\n",
    "#     print(df.head())\n",
    "    for column in JSON_COLUMNS:\n",
    "        column_as_df = json_normalize(df[column])\n",
    "        column_as_df.columns = [f\"{column}.{subcolumn}\" for subcolumn in column_as_df.columns]\n",
    "        df = df.drop(column, axis=1).merge(column_as_df, right_index=True, left_index=True)\n",
    "    print(f\"Loaded {os.path.basename(csv_path)}. Shape: {df.shape}\")\n",
    "    return df\n"
   ]
  },
  {
   "cell_type": "code",
   "execution_count": 3,
   "metadata": {},
   "outputs": [
    {
     "name": "stdout",
     "output_type": "stream",
     "text": [
      "Loaded train.csv. Shape: (903653, 55)\n",
      "Loaded test.csv. Shape: (804684, 53)\n",
      "CPU times: user 3min 49s, sys: 3.92 s, total: 3min 52s\n",
      "Wall time: 3min 52s\n"
     ]
    }
   ],
   "source": [
    "%%time\n",
    "train = load_df()\n",
    "test = load_df(\"/home/baitong/pywork/RevenuePrediction/all/test.csv\")\n",
    "train.shape, test.shape"
   ]
  },
  {
   "cell_type": "code",
   "execution_count": 4,
   "metadata": {},
   "outputs": [
    {
     "data": {
      "text/plain": [
       "((903653, 35), (804684, 34))"
      ]
     },
     "execution_count": 4,
     "metadata": {},
     "output_type": "execute_result"
    }
   ],
   "source": [
    "#获取不变的常量列，模型无法在常量数据计学到东西，数据与处理时需要drop\n",
    "const_cols = [c for c in train.columns if train[c].nunique(dropna=False)==1 ]\n",
    "train = train.drop(const_cols , axis=1)\n",
    "test = test.drop(const_cols, axis=1)\n",
    "####删除test中不存在的列\n",
    "train = train.drop([\"trafficSource.campaignCode\"], axis=1)\n",
    "# train[\"trafficSource.campaignCode\"].astype(\"float\")\n",
    "train.shape, test.shape"
   ]
  },
  {
   "cell_type": "code",
   "execution_count": 5,
   "metadata": {},
   "outputs": [
    {
     "data": {
      "text/plain": [
       "Index(['date', 'visitId', 'visitNumber', 'visitStartTime'], dtype='object')"
      ]
     },
     "execution_count": 5,
     "metadata": {},
     "output_type": "execute_result"
    }
   ],
   "source": [
    "#纯数字型特征\n",
    "numeric_features_train = train.select_dtypes(include=[np.number])\n",
    "numeric_features_train.columns"
   ]
  },
  {
   "cell_type": "code",
   "execution_count": 6,
   "metadata": {},
   "outputs": [
    {
     "data": {
      "text/plain": [
       "Index(['channelGrouping', 'fullVisitorId', 'sessionId', 'device.browser',\n",
       "       'device.deviceCategory', 'device.operatingSystem', 'geoNetwork.city',\n",
       "       'geoNetwork.continent', 'geoNetwork.country', 'geoNetwork.metro',\n",
       "       'geoNetwork.networkDomain', 'geoNetwork.region',\n",
       "       'geoNetwork.subContinent', 'totals.bounces', 'totals.hits',\n",
       "       'totals.newVisits', 'totals.pageviews', 'totals.transactionRevenue',\n",
       "       'trafficSource.adContent',\n",
       "       'trafficSource.adwordsClickInfo.adNetworkType',\n",
       "       'trafficSource.adwordsClickInfo.gclId',\n",
       "       'trafficSource.adwordsClickInfo.isVideoAd',\n",
       "       'trafficSource.adwordsClickInfo.page',\n",
       "       'trafficSource.adwordsClickInfo.slot', 'trafficSource.campaign',\n",
       "       'trafficSource.isTrueDirect', 'trafficSource.keyword',\n",
       "       'trafficSource.medium', 'trafficSource.referralPath',\n",
       "       'trafficSource.source'],\n",
       "      dtype='object')"
      ]
     },
     "execution_count": 6,
     "metadata": {},
     "output_type": "execute_result"
    }
   ],
   "source": [
    "#类型特征，需要转化为数字特征或者独热编码\n",
    "categorical_features_train = train.select_dtypes(include=[np.object])\n",
    "categorical_features_train.columns"
   ]
  },
  {
   "cell_type": "code",
   "execution_count": 7,
   "metadata": {},
   "outputs": [],
   "source": [
    "##查看缺失值信息\n",
    "# train.info(),test.info()"
   ]
  },
  {
   "cell_type": "code",
   "execution_count": 11,
   "metadata": {},
   "outputs": [],
   "source": [
    "train['totals.transactionRevenue'] = train['totals.transactionRevenue'].astype(\"float\")"
   ]
  },
  {
   "cell_type": "code",
   "execution_count": null,
   "metadata": {},
   "outputs": [],
   "source": []
  },
  {
   "cell_type": "code",
   "execution_count": null,
   "metadata": {},
   "outputs": [],
   "source": []
  },
  {
   "cell_type": "code",
   "execution_count": null,
   "metadata": {},
   "outputs": [],
   "source": []
  },
  {
   "cell_type": "code",
   "execution_count": 12,
   "metadata": {},
   "outputs": [],
   "source": [
    "# train_fill.info()"
   ]
  },
  {
   "cell_type": "code",
   "execution_count": null,
   "metadata": {},
   "outputs": [],
   "source": []
  },
  {
   "cell_type": "code",
   "execution_count": 13,
   "metadata": {},
   "outputs": [],
   "source": [
    "###绘图分析函数\n",
    "def horizontal_bar_chart(cnt_srs, color):\n",
    "    trace = go.Bar(\n",
    "        y=cnt_srs.index[::-1],\n",
    "        x=cnt_srs.values[::-1],\n",
    "        showlegend=False,\n",
    "        orientation = 'h',\n",
    "        marker=dict(\n",
    "            color=color,\n",
    "        ),\n",
    "    )\n",
    "    return trace"
   ]
  },
  {
   "cell_type": "code",
   "execution_count": 92,
   "metadata": {},
   "outputs": [
    {
     "name": "stdout",
     "output_type": "stream",
     "text": [
      "This is the format of your plot grid:\n",
      "[ (1,1) x1,y1 ]  [ (1,2) x2,y2 ]  [ (1,3) x3,y3 ]\n",
      "[ (2,1) x4,y4 ]  [ (2,2) x5,y5 ]  [ (2,3) x6,y6 ]\n",
      "[ (3,1) x7,y7 ]  [ (3,2) x8,y8 ]  [ (3,3) x9,y9 ]\n",
      "\n",
      "High five! You successfully sent some data to your account on plotly. View your plot in your browser at https://plot.ly/~BaiTong/0 or inside your plot.ly account where it is named 'device-plots'\n",
      "*\n"
     ]
    }
   ],
   "source": [
    "# Device Browser\n",
    "cnt_srs = train.groupby('device.browser')['totals.transactionRevenue'].agg(['size', 'count', 'mean'])\n",
    "cnt_srs.columns = [\"count\", \"count of non-zero revenue\", \"mean\"]\n",
    "cnt_srs = cnt_srs.sort_values(by=\"count\", ascending=False)\n",
    "trace1 = horizontal_bar_chart(cnt_srs[\"count\"].head(10), 'rgba(50, 171, 96, 0.6)')\n",
    "trace2 = horizontal_bar_chart(cnt_srs[\"count of non-zero revenue\"].head(10), 'rgba(50, 171, 96, 0.6)')\n",
    "trace3 = horizontal_bar_chart(cnt_srs[\"mean\"].head(10), 'rgba(50, 171, 96, 0.6)')\n",
    "\n",
    "# Device Category\n",
    "cnt_srs = train.groupby('geoNetwork.city')['totals.transactionRevenue'].agg(['size', 'count', 'mean'])\n",
    "cnt_srs.columns = [\"count\", \"count of non-zero revenue\", \"mean\"]\n",
    "cnt_srs = cnt_srs.sort_values(by=\"count\", ascending=False)\n",
    "trace4 = horizontal_bar_chart(cnt_srs[\"count\"].head(10), 'rgba(71, 58, 131, 0.8)')\n",
    "trace5 = horizontal_bar_chart(cnt_srs[\"count of non-zero revenue\"].head(10), 'rgba(71, 58, 131, 0.8)')\n",
    "trace6 = horizontal_bar_chart(cnt_srs[\"mean\"].head(10), 'rgba(71, 58, 131, 0.8)')\n",
    "# Operating system\n",
    "cnt_srs = train.groupby('device.operatingSystem')['totals.transactionRevenue'].agg(['size', 'count', 'mean'])\n",
    "cnt_srs.columns = [\"count\", \"count of non-zero revenue\", \"mean\"]\n",
    "cnt_srs = cnt_srs.sort_values(by=\"count\", ascending=False)\n",
    "trace7 = horizontal_bar_chart(cnt_srs[\"count\"].head(10), 'rgba(246, 78, 139, 0.6)')\n",
    "trace8 = horizontal_bar_chart(cnt_srs[\"count of non-zero revenue\"].head(10),'rgba(246, 78, 139, 0.6)')\n",
    "trace9 = horizontal_bar_chart(cnt_srs[\"mean\"].head(10),'rgba(246, 78, 139, 0.6)')\n",
    "\n",
    "# Creating two subplots\n",
    "fig = tools.make_subplots(rows=3, cols=3, vertical_spacing=0.04, \n",
    "                          subplot_titles=[\"Device Browser - Count\", \"Device Browser - Non-zero Revenue Count\", \"Device Browser - Mean Revenue\",\n",
    "                                          \"city - Count\",  \"Device Category - Non-zero Revenue Count\", \"Device Category - Mean Revenue\", \n",
    "                                          \"Device OS - Count\", \"Device OS - Non-zero Revenue Count\", \"Device OS - Mean Revenue\"])\n",
    "\n",
    "fig.append_trace(trace1, 1, 1)\n",
    "fig.append_trace(trace2, 1, 2)\n",
    "fig.append_trace(trace3, 1, 3)\n",
    "fig.append_trace(trace4, 2, 1)\n",
    "fig.append_trace(trace5, 2, 2)\n",
    "fig.append_trace(trace6, 2, 3)\n",
    "fig.append_trace(trace7, 3, 1)\n",
    "fig.append_trace(trace8, 3, 2)\n",
    "fig.append_trace(trace9, 3, 3)\n",
    "\n",
    "fig['layout'].update(height=1200, width=1200, paper_bgcolor='rgb(233,233,233)', title=\"Device Plots\")\n",
    "py.iplot(fig, filename='device-plots')\n",
    "print('*')"
   ]
  },
  {
   "cell_type": "code",
   "execution_count": 93,
   "metadata": {},
   "outputs": [
    {
     "name": "stdout",
     "output_type": "stream",
     "text": [
      "This is the format of your plot grid:\n",
      "[ (1,1) x1,y1 ]  [ (1,2) x2,y2 ]  [ (1,3) x3,y3 ]\n",
      "[ (2,1) x4,y4 ]  [ (2,2) x5,y5 ]  [ (2,3) x6,y6 ]\n",
      "[ (3,1) x7,y7 ]  [ (3,2) x8,y8 ]  [ (3,3) x9,y9 ]\n",
      "\n",
      "*\n"
     ]
    }
   ],
   "source": [
    "cnt_srs = train.groupby('geoNetwork.subContinent')['totals.transactionRevenue'].agg(['size', 'count', 'mean'])\n",
    "cnt_srs.columns = [\"count\", \"count of non-zero revenue\", \"mean\"]\n",
    "cnt_srs = cnt_srs.sort_values(by=\"count\", ascending=False)\n",
    "trace1 = horizontal_bar_chart(cnt_srs[\"count\"].head(20), 'rgba(58, 71, 80, 0.6)')\n",
    "trace2 = horizontal_bar_chart(cnt_srs[\"count of non-zero revenue\"].head(20), 'rgba(58, 71, 80, 0.6)')\n",
    "trace3 = horizontal_bar_chart(cnt_srs[\"mean\"].head(20), 'rgba(58, 71, 80, 0.6)')\n",
    "\n",
    "# Sub-continent\n",
    "cnt_srs = train.groupby('geoNetwork.metro')['totals.transactionRevenue'].agg(['size', 'count', 'mean'])\n",
    "cnt_srs.columns = [\"count\", \"count of non-zero revenue\", \"mean\"]\n",
    "cnt_srs = cnt_srs.sort_values(by=\"count\", ascending=False)\n",
    "trace4 = horizontal_bar_chart(cnt_srs[\"count\"].head(20), 'orange')\n",
    "trace5 = horizontal_bar_chart(cnt_srs[\"count of non-zero revenue\"].head(20), 'orange')\n",
    "trace6 = horizontal_bar_chart(cnt_srs[\"mean\"].head(20), 'orange')\n",
    "\n",
    "# Network domain\n",
    "cnt_srs = train.groupby('geoNetwork.networkDomain')['totals.transactionRevenue'].agg(['size', 'count', 'mean'])\n",
    "cnt_srs.columns = [\"count\", \"count of non-zero revenue\", \"mean\"]\n",
    "cnt_srs = cnt_srs.sort_values(by=\"count\", ascending=False)\n",
    "trace7 = horizontal_bar_chart(cnt_srs[\"count\"].head(20), 'blue')\n",
    "trace8 = horizontal_bar_chart(cnt_srs[\"count of non-zero revenue\"].head(20), 'blue')\n",
    "trace9 = horizontal_bar_chart(cnt_srs[\"mean\"].head(20), 'blue')\n",
    "\n",
    "# Creating two subplots\n",
    "fig = tools.make_subplots(rows=3, cols=3, vertical_spacing=0.08, horizontal_spacing=0.15, \n",
    "                          subplot_titles=[\"subContinent - Count\", \"Continent - Non-zero Revenue Count\", \"Continent - Mean Revenue\",\n",
    "                                          \"geoNetwork.metro- Count\",  \"country - Non-zero Revenue Count\", \"country - Mean Revenue\",\n",
    "                                          \"Network Domain - Count\", \"Network Domain - Non-zero Revenue Count\", \"Network Domain - Mean Revenue\"])\n",
    "\n",
    "fig.append_trace(trace1, 1, 1)\n",
    "fig.append_trace(trace2, 1, 2)\n",
    "fig.append_trace(trace3, 1, 3)\n",
    "fig.append_trace(trace4, 2, 1)\n",
    "fig.append_trace(trace5, 2, 2)\n",
    "fig.append_trace(trace6, 2, 3)\n",
    "fig.append_trace(trace7, 3, 1)\n",
    "fig.append_trace(trace8, 3, 2)\n",
    "fig.append_trace(trace9, 3, 3)\n",
    "\n",
    "fig['layout'].update(height=1500, width=1200, paper_bgcolor='rgb(233,233,233)', title=\"Geography Plots\")\n",
    "py.iplot(fig, filename='geo-plots')\n",
    "print('*')"
   ]
  },
  {
   "cell_type": "code",
   "execution_count": null,
   "metadata": {},
   "outputs": [],
   "source": [
    "\n",
    "# "
   ]
  },
  {
   "cell_type": "code",
   "execution_count": null,
   "metadata": {},
   "outputs": [],
   "source": []
  },
  {
   "cell_type": "code",
   "execution_count": null,
   "metadata": {},
   "outputs": [],
   "source": []
  },
  {
   "cell_type": "code",
   "execution_count": 39,
   "metadata": {},
   "outputs": [
    {
     "name": "stdout",
     "output_type": "stream",
     "text": [
      "*\n"
     ]
    }
   ],
   "source": [
    "#对种类特征进行分析，种类过于少的可以舍弃，只留取重要种类作为分支\n",
    "train['channelGrouping'].value_counts()\n",
    "##Organic Search，Social，Direct，Referral，Paid Search，Affiliates，Display，(Other)\n",
    "train['device.browser'].value_counts()\n",
    "##Chrome，Safari，Firefox，Internet Explorer，Edge |截|断| Android Webview，Opera Mini，Opera，UC Browser，YaBrowser\n",
    "##Coc Coc，Amazon Silk，Android Browser，Mozilla Compatible Agent，MRCHROME，Maxthon，BlackBerry，Nintendo Browser...\n",
    "train['device.deviceCategory'].value_counts()##desktop,mobile,tablet\n",
    "train['device.isMobile'].value_counts()##False,True\n",
    "train['device.operatingSystem'].value_counts()\n",
    "##Windows,Macintosh,Android,iOS,Linux,Chrome OS,|截|断|(not set),Windows Phone,Samsung,BlackBerry....\n",
    "\n",
    "##########对于地理位置信息，只需要选择较重要特征就可以。大陆，国家，和城市之间含有的信息重叠部分较多，可以少取一些特征。\n",
    "train['geoNetwork.continent'].value_counts()######Americas,Africa|截|断|\n",
    "###Americas，Asia，Europe，Oceania，Africa，(not set)\n",
    "\n",
    "train['geoNetwork.metro'].value_counts()\n",
    "##San Francisco-Oakland-San Jose CA,New York NY,Roanoke-Lynchburg VA,|截|断|not available in demo dataset,(not set),\n",
    "##London,Los Angeles CA,Seattle-Tacoma WA,Chicago IL,Austin TX ,Washington DC (Hagerstown MD)....\n",
    "train['geoNetwork.networkDomain'].value_counts()\n",
    "##comcastbusiness.net,|截|断|(not set),unknown.unknown,comcast.net,rr.com,verizon.net,ttnet.com.tr,,\n",
    "##hinet.net,virginm.net,3bb.co.th....\n",
    "train['geoNetwork.subContinent'].value_counts()\n",
    "##Northern America,|截|断|Southeast Asia,Southern Asia,Western Europe,Northern Europe,Eastern Asia\n",
    "##Eastern Europe,South America ,Western Asia,Southern Europe,Central America,Australasia\n",
    "##Northern Africa,Western Africa,Caribbean,Southern Africa,Eastern Africa,Eastern Africa...\n",
    "\n",
    "train['geoNetwork.region'].value_counts()  ###该属性类型分布过多，需要进一步对类型进行拆分\n",
    "###California,New York,Texas,Washington,Illinois,Ontario|截|断|\n",
    "\n",
    "train['geoNetwork.country'].value_counts() ###该属性类型分布过多，需要进一步对类型进行拆分\n",
    "#United States,India,United Kingdom,Canada,Vietnam,Japan|截|断|\n",
    "\n",
    "train['geoNetwork.city'].value_counts()[0:50]  ###该属性类型分布过多，需要进一步对类型进行拆分\n",
    "###Mountain View,New York,San Francisco,San Jose,Los Angeles,Chicago,Toronto,Seattle|截|断|\n",
    "print('*')"
   ]
  },
  {
   "cell_type": "code",
   "execution_count": 54,
   "metadata": {},
   "outputs": [
    {
     "name": "stdout",
     "output_type": "stream",
     "text": [
      "*\n"
     ]
    }
   ],
   "source": [
    "# test_fill['trafficSource.adwordsClickInfo.adNetworkType'].value_counts()\n",
    "###-,Google Search，Search partners\n",
    "train['trafficSource.adwordsClickInfo.isVideoAd'].value_counts()###-,False 这里全为假？？？？\n",
    "# test_fill[].value_counts()\n",
    "train['trafficSource.adwordsClickInfo.slot'].value_counts()### -，RHS，Top，Google Display Network\n",
    "train['trafficSource.campaign'].value_counts()\n",
    "###(not set)，1000557 | GA | US | en | Hybrid | GDN Text+Banner | AS，\n",
    "###Data Share Promo，1000557 | GA | US | en | Hybrid | GDN Remarketing\n",
    "###AW - Dynamic Search Ads Whole Site，Smart Display Campaign，\n",
    "###AW - Accessories \"google + redesign/Accessories March 17\" All Users Similar Audiences \n",
    "train['trafficSource.isTrueDirect'].value_counts() ### - ，True 这里全为真？？？？\n",
    "train['trafficSource.keyword'].value_counts()\n",
    "######Google Merchandise,+Google +Merchandise,|截|断|可以用正则表达式处理\n",
    "train['trafficSource.medium'].value_counts()\n",
    "###organic,referral,cpc,cpm,|截|断|\n",
    "train['trafficSource.referralPath'].value_counts()#####感觉没啥用\n",
    "####/,/yt/about/,/mail/u/0/,|截|断|\n",
    "train['trafficSource.source'].value_counts()####数据很全，可以进一步画出比较重要的来源\n",
    "####google,(direct),youtube.com,mall.googleplex.com,dfa |截|断|\n",
    "print('*')"
   ]
  },
  {
   "cell_type": "code",
   "execution_count": 98,
   "metadata": {
    "scrolled": true
   },
   "outputs": [
    {
     "name": "stdout",
     "output_type": "stream",
     "text": [
      "This is the format of your plot grid:\n",
      "[ (1,1) x1,y1 ]  [ (1,2) x2,y2 ]  [ (1,3) x3,y3 ]\n",
      "[ (2,1) x4,y4 ]  [ (2,2) x5,y5 ]  [ (2,3) x6,y6 ]\n",
      "\n"
     ]
    },
    {
     "data": {
      "text/html": [
       "<iframe id=\"igraph\" scrolling=\"no\" style=\"border:none;\" seamless=\"seamless\" src=\"https://plot.ly/~BaiTong/8.embed\" height=\"1000px\" width=\"1200px\"></iframe>"
      ],
      "text/plain": [
       "<plotly.tools.PlotlyDisplay object>"
      ]
     },
     "execution_count": 98,
     "metadata": {},
     "output_type": "execute_result"
    }
   ],
   "source": [
    "# Continent\n",
    "cnt_srs = train.groupby('trafficSource.keyword')['totals.transactionRevenue'].agg(['size', 'count', 'mean'])\n",
    "cnt_srs.columns = [\"count\", \"count of non-zero revenue\", \"mean\"]\n",
    "cnt_srs = cnt_srs.sort_values(by=\"count\", ascending=False)\n",
    "trace1 = horizontal_bar_chart(cnt_srs[\"count\"].head(30), 'green')\n",
    "trace2 = horizontal_bar_chart(cnt_srs[\"count of non-zero revenue\"].head(30), 'green')\n",
    "trace3 = horizontal_bar_chart(cnt_srs[\"mean\"].head(30), 'green')\n",
    "\n",
    "# Sub-continent\n",
    "cnt_srs = train.groupby('trafficSource.campaign')['totals.transactionRevenue'].agg(['size', 'count', 'mean'])\n",
    "cnt_srs.columns = [\"count\", \"count of non-zero revenue\", \"mean\"]\n",
    "cnt_srs = cnt_srs.sort_values(by=\"count\", ascending=False)\n",
    "trace4 = horizontal_bar_chart(cnt_srs[\"count\"], 'purple')\n",
    "trace5 = horizontal_bar_chart(cnt_srs[\"count of non-zero revenue\"], 'purple')\n",
    "trace6 = horizontal_bar_chart(cnt_srs[\"mean\"], 'purple')\n",
    "\n",
    "# Creating two subplots\n",
    "fig = tools.make_subplots(rows=2, cols=3, vertical_spacing=0.08, horizontal_spacing=0.15, \n",
    "                          subplot_titles=[\"keyword - Count\", \"Traffic Source - Non-zero Revenue Count\", \"Traffic Source - Mean Revenue\",\n",
    "                                          \"'trafficSource.campaign' - Count\",  \"Traffic Source Medium - Non-zero Revenue Count\", \"Traffic Source Medium - Mean Revenue\"\n",
    "                                          ])\n",
    "\n",
    "fig.append_trace(trace1, 1, 1)\n",
    "fig.append_trace(trace2, 1, 2)\n",
    "fig.append_trace(trace3, 1, 3)\n",
    "fig.append_trace(trace4, 2, 1)\n",
    "fig.append_trace(trace5, 2, 2)\n",
    "fig.append_trace(trace6, 2, 3)\n",
    "\n",
    "fig['layout'].update(height=1000, width=1200, paper_bgcolor='rgb(233,233,233)', title=\"Traffic Source Plots\")\n",
    "py.iplot(fig, filename='traffic-source-plots')\n",
    "# print('*')"
   ]
  },
  {
   "cell_type": "code",
   "execution_count": 100,
   "metadata": {},
   "outputs": [],
   "source": [
    "# train['trafficSource.campaign'].value_counts()"
   ]
  },
  {
   "cell_type": "code",
   "execution_count": 57,
   "metadata": {},
   "outputs": [],
   "source": [
    "#对缺失数据的数字特征进行填充处理,测试集没有totals.transactionRevenue所以这里没有对totals.transactionRevenue进行处理\n",
    "#这里采取的策略是填充0,可以采取平均值填充\n",
    "def DealNum_missingdata(df):\n",
    "    name_col = ['totals.bounces','totals.hits','totals.newVisits','totals.pageviews','trafficSource.adwordsClickInfo.page']\n",
    "    for name in name_col:\n",
    "        df[name].fillna(0,inplace= True)\n",
    "    return df\n",
    "train['totals.transactionRevenue'].fillna(0,inplace = True)\n",
    "train =DealNum_missingdata(train)\n",
    "test =DealNum_missingdata(test)\n",
    "\n",
    "\n",
    "#这里仍然没有对种类特征进行填充处理\n",
    "# print('*')"
   ]
  },
  {
   "cell_type": "code",
   "execution_count": 118,
   "metadata": {},
   "outputs": [],
   "source": [
    "def DealCategorical_missingdata(df):\n",
    "    name_col = ['trafficSource.adwordsClickInfo.adNetworkType',\n",
    "                'trafficSource.adContent',\n",
    "                'trafficSource.adwordsClickInfo.isVideoAd',\n",
    "                'trafficSource.adwordsClickInfo.slot',\n",
    "                'trafficSource.isTrueDirect',\n",
    "                'trafficSource.keyword',\n",
    "                'trafficSource.referralPath']\n",
    "    for name in name_col:\n",
    "        df[name].fillna('-',inplace= True)\n",
    "    return df\n",
    "train = DealCategorical_missingdata(train)\n",
    "test = DealCategorical_missingdata(test)\n",
    "test_fill =test.drop(['trafficSource.adwordsClickInfo.gclId'],axis=1)\n",
    "train_fill = train.drop(['trafficSource.adwordsClickInfo.gclId'],axis=1)\n",
    "train_fill['totals.transactionRevenue'] = train_fill['totals.transactionRevenue'].astype(\"float\")"
   ]
  },
  {
   "cell_type": "code",
   "execution_count": 61,
   "metadata": {},
   "outputs": [],
   "source": [
    "# train_fill.info(),test_fill.info()"
   ]
  },
  {
   "cell_type": "code",
   "execution_count": 119,
   "metadata": {},
   "outputs": [
    {
     "data": {
      "text/plain": [
       "Organic Search    381561\n",
       "Social            226117\n",
       "Direct            143026\n",
       "Referral          104838\n",
       "Paid Search        25326\n",
       "Affiliates         16403\n",
       "Display             6262\n",
       "others               120\n",
       "Name: channelGrouping, dtype: int64"
      ]
     },
     "execution_count": 119,
     "metadata": {},
     "output_type": "execute_result"
    }
   ],
   "source": [
    "def chanGroup_data(df):\n",
    "    chanGroup_list=['Organic Search','Social','Direct','Referral','Paid Search','Affiliates','Display']\n",
    "    #处理特殊的称呼，全处理成mr, mrs, miss, master\n",
    "    def replace_feature(x):\n",
    "        label=x['channelGrouping']\n",
    "        if label == 'Organic Search':\n",
    "            return 'Organic Search'\n",
    "        elif label == 'Social':\n",
    "            return 'Social'\n",
    "        elif label == 'Direct':\n",
    "            return 'Direct'\n",
    "        elif label == 'Referral':\n",
    "            return 'Referral'\n",
    "        elif label =='Paid Search':\n",
    "            return 'Paid Search'\n",
    "        elif label =='Affiliates':\n",
    "            return 'Affiliates'        \n",
    "        elif label =='Display':\n",
    "            return 'Display'      \n",
    "        else:\n",
    "            return 'others'\n",
    "    df['channelGrouping']=df.apply(replace_feature, axis=1)\n",
    "    return df\n",
    "train_fill = chanGroup_data(train_fill)\n",
    "train_fill['channelGrouping'].value_counts()"
   ]
  },
  {
   "cell_type": "code",
   "execution_count": 120,
   "metadata": {},
   "outputs": [
    {
     "data": {
      "text/plain": [
       "Chrome               620364\n",
       "Safari               182245\n",
       "Firefox               37069\n",
       "others                34395\n",
       "Internet Explorer     19375\n",
       "Edge                  10205\n",
       "Name: device.browser, dtype: int64"
      ]
     },
     "execution_count": 120,
     "metadata": {},
     "output_type": "execute_result"
    }
   ],
   "source": [
    "def browser_data(df):\n",
    "    browser_list=['Chrome','Safari','Firefox','Internet Explorer','Edge']\n",
    "    #处理特殊的称呼，全处理成mr, mrs, miss, master\n",
    "    def replace_feature(x):\n",
    "        label=x['device.browser']\n",
    "        if label == 'Chrome':\n",
    "            return 'Chrome'\n",
    "        elif label == 'Safari':\n",
    "            return 'Safari'\n",
    "        elif label == 'Firefox':\n",
    "            return 'Firefox'\n",
    "        elif label == 'Internet Explorer':\n",
    "            return 'Internet Explorer'\n",
    "        elif label =='Edge':\n",
    "            return 'Edge'\n",
    "        else:\n",
    "            return 'others'\n",
    "    df['device.browser']=df.apply(replace_feature, axis=1)\n",
    "    return df\n",
    "train_fill = browser_data(train_fill)\n",
    "train_fill['device.browser'].value_counts()"
   ]
  },
  {
   "cell_type": "code",
   "execution_count": 121,
   "metadata": {},
   "outputs": [
    {
     "data": {
      "text/plain": [
       "desktop    664479\n",
       "mobile     208725\n",
       "tablet      30449\n",
       "Name: device.deviceCategory, dtype: int64"
      ]
     },
     "execution_count": 121,
     "metadata": {},
     "output_type": "execute_result"
    }
   ],
   "source": [
    "def deviceCategory_data(df):\n",
    "    deviceCategory_list=['desktop','mobile','tablet']\n",
    "    #处理特殊的称呼，全处理成mr, mrs, miss, master\n",
    "    def replace_feature(x):\n",
    "        label=x['device.deviceCategory']\n",
    "        if label == 'desktop':\n",
    "            return 'desktop'\n",
    "        elif label == 'mobile':\n",
    "            return 'mobile'\n",
    "        elif label == 'tablet':\n",
    "            return 'tablet'\n",
    "        else:\n",
    "            return 'others'\n",
    "    df['device.deviceCategory']=df.apply(replace_feature, axis=1)\n",
    "    return df\n",
    "train_fill = deviceCategory_data(train_fill)\n",
    "train_fill['device.deviceCategory'].value_counts()"
   ]
  },
  {
   "cell_type": "code",
   "execution_count": null,
   "metadata": {},
   "outputs": [],
   "source": []
  },
  {
   "cell_type": "code",
   "execution_count": 122,
   "metadata": {},
   "outputs": [
    {
     "data": {
      "text/plain": [
       "False    664530\n",
       "True     239123\n",
       "Name: device.isMobile, dtype: int64"
      ]
     },
     "execution_count": 122,
     "metadata": {},
     "output_type": "execute_result"
    }
   ],
   "source": [
    "def isMobile_data(df):\n",
    "    isMobile_list=['False','True']\n",
    "    #处理特殊的称呼，全处理成mr, mrs, miss, master\n",
    "    def replace_feature(x):\n",
    "        label=x['device.isMobile']\n",
    "        if label == 'False':\n",
    "            return 'False'\n",
    "        elif label == 'True':\n",
    "            return 'True'\n",
    "        else:\n",
    "            return 'others'\n",
    "    df['device.isMobile']=df.apply(replace_feature, axis=1)\n",
    "    return df\n",
    "train_fill['device.isMobile'] = train_fill['device.isMobile'].astype(\"str\")\n",
    "train_fill = isMobile_data(train_fill)\n",
    "train_fill['device.isMobile'].value_counts()"
   ]
  },
  {
   "cell_type": "code",
   "execution_count": 123,
   "metadata": {},
   "outputs": [
    {
     "data": {
      "text/plain": [
       "Windows      350072\n",
       "Macintosh    253938\n",
       "Android      123892\n",
       "iOS          107665\n",
       "Linux         35034\n",
       "Chrome OS     26337\n",
       "others         6715\n",
       "Name: device.operatingSystem, dtype: int64"
      ]
     },
     "execution_count": 123,
     "metadata": {},
     "output_type": "execute_result"
    }
   ],
   "source": [
    "def operatingSystem_data(df):\n",
    "    operatingSystem_list=['Windows','Macintosh','Android','iOS','Linux','Chrome OS']\n",
    "    #处理特殊的称呼，全处理成mr, mrs, miss, master\n",
    "    def replace_feature(x):\n",
    "        label=x['device.operatingSystem']\n",
    "        if label == 'Windows':\n",
    "            return 'Windows'\n",
    "        elif label == 'Macintosh':\n",
    "            return 'Macintosh'\n",
    "        elif label == 'Android':\n",
    "            return 'Android'\n",
    "        elif label == 'iOS':\n",
    "            return 'iOS'\n",
    "        elif label =='Linux':\n",
    "            return 'Linux'\n",
    "        elif label =='Chrome OS':\n",
    "            return 'Chrome OS'\n",
    "        else:\n",
    "            return 'others'\n",
    "    df['device.operatingSystem']=df.apply(replace_feature, axis=1)\n",
    "    return df\n",
    "train_fill = operatingSystem_data(train_fill)\n",
    "train_fill['device.operatingSystem'].value_counts()"
   ]
  },
  {
   "cell_type": "code",
   "execution_count": 124,
   "metadata": {},
   "outputs": [
    {
     "data": {
      "text/plain": [
       "Americas    450377\n",
       "Asia        223698\n",
       "Europe      198311\n",
       "Oceania      15054\n",
       "Africa       14745\n",
       "others        1468\n",
       "Name: geoNetwork.continent, dtype: int64"
      ]
     },
     "execution_count": 124,
     "metadata": {},
     "output_type": "execute_result"
    }
   ],
   "source": [
    "def continent_data(df):\n",
    "    continent_list=['Americas','Asia','Europe','Oceania','Africa']\n",
    "    #处理特殊的称呼，全处理成mr, mrs, miss, master\n",
    "    def replace_feature(x):\n",
    "        label=x['geoNetwork.continent']\n",
    "        if label == 'Americas':\n",
    "            return 'Americas'\n",
    "        elif label == 'Asia':\n",
    "            return 'Asia'\n",
    "        elif label == 'Europe':\n",
    "            return 'Europe'\n",
    "        elif label == 'Oceania':\n",
    "            return 'Oceania'\n",
    "        elif label =='Africa':\n",
    "            return 'Africa'\n",
    "        else:\n",
    "            return 'others'\n",
    "    df['geoNetwork.continent']=df.apply(replace_feature, axis=1)\n",
    "    return df\n",
    "train_fill = continent_data(train_fill)\n",
    "train_fill['geoNetwork.continent'].value_counts()"
   ]
  },
  {
   "cell_type": "code",
   "execution_count": 125,
   "metadata": {},
   "outputs": [
    {
     "data": {
      "text/plain": [
       "others    778596\n",
       "CA         95913\n",
       "NY         26917\n",
       "VA          2227\n",
       "Name: geoNetwork.metro, dtype: int64"
      ]
     },
     "execution_count": 125,
     "metadata": {},
     "output_type": "execute_result"
    }
   ],
   "source": [
    "def metro_data(df):\n",
    "    _list=['San Francisco-Oakland-San Jose CA','New York NY','Roanoke-Lynchburg VA']\n",
    "    def replace_feature(x):\n",
    "        label=x['geoNetwork.metro']\n",
    "        if label == 'San Francisco-Oakland-San Jose CA':\n",
    "            return 'CA'\n",
    "        elif label == 'New York NY':\n",
    "            return 'NY'\n",
    "        elif label == 'Roanoke-Lynchburg VA':\n",
    "            return 'VA'\n",
    "        else:\n",
    "            return 'others'\n",
    "    df['geoNetwork.metro']=df.apply(replace_feature, axis=1)\n",
    "    return df\n",
    "train_fill = metro_data(train_fill)\n",
    "train_fill['geoNetwork.metro'].value_counts()"
   ]
  },
  {
   "cell_type": "code",
   "execution_count": 126,
   "metadata": {},
   "outputs": [
    {
     "data": {
      "text/plain": [
       "others      893668\n",
       "business      9985\n",
       "Name: geoNetwork.networkDomain, dtype: int64"
      ]
     },
     "execution_count": 126,
     "metadata": {},
     "output_type": "execute_result"
    }
   ],
   "source": [
    "def networkDomain_data(df):\n",
    "    _list=['comcastbusiness.net']\n",
    "    def replace_feature(x):\n",
    "        label=x['geoNetwork.networkDomain']\n",
    "        if label == 'comcastbusiness.net':\n",
    "            return 'business'\n",
    "        else:\n",
    "            return 'others'\n",
    "    df['geoNetwork.networkDomain']=df.apply(replace_feature, axis=1)\n",
    "    return df\n",
    "train_fill = networkDomain_data(train_fill)\n",
    "train_fill['geoNetwork.networkDomain'].value_counts()"
   ]
  },
  {
   "cell_type": "code",
   "execution_count": 127,
   "metadata": {},
   "outputs": [
    {
     "data": {
      "text/plain": [
       "others    512996\n",
       "NorAme    390657\n",
       "Name: geoNetwork.subContinent, dtype: int64"
      ]
     },
     "execution_count": 127,
     "metadata": {},
     "output_type": "execute_result"
    }
   ],
   "source": [
    "def subContinent_data(df):\n",
    "    _list=['Northern America']\n",
    "    def replace_feature(x):\n",
    "        label=x['geoNetwork.subContinent']\n",
    "        if label == 'Northern America':\n",
    "            return 'NorAme'\n",
    "        else:\n",
    "            return 'others'\n",
    "    df['geoNetwork.subContinent']=df.apply(replace_feature, axis=1)\n",
    "    return df\n",
    "train_fill = subContinent_data(train_fill)\n",
    "train_fill['geoNetwork.subContinent'].value_counts()"
   ]
  },
  {
   "cell_type": "code",
   "execution_count": null,
   "metadata": {},
   "outputs": [
    {
     "data": {
      "text/plain": [
       "others        739752\n",
       "California    107495\n",
       "New York       26433\n",
       "Texas           8749\n",
       "Washington      7642\n",
       "Illinois        7585\n",
       "Ontario         5997\n",
       "Name: geoNetwork.region, dtype: int64"
      ]
     },
     "execution_count": 128,
     "metadata": {},
     "output_type": "execute_result"
    }
   ],
   "source": [
    "def region_data(df):\n",
    "    _list=['California','New York','Texas','Washington','Illinois','Ontario']\n",
    "    #处理特殊的称呼，全处理成mr, mrs, miss, master\n",
    "    def replace_feature(x):\n",
    "        label=x['geoNetwork.region']\n",
    "        if label == 'California':\n",
    "            return 'California'\n",
    "        elif label == 'New York':\n",
    "            return 'New York'\n",
    "        elif label == 'Texas':\n",
    "            return 'Texas'\n",
    "        elif label == 'Washington':\n",
    "            return 'Washington'\n",
    "        elif label =='Illinois':\n",
    "            return 'Illinois'\n",
    "        elif label =='Ontario':\n",
    "            return 'Ontario'\n",
    "        else:\n",
    "            return 'others'\n",
    "    df['geoNetwork.region']=df.apply(replace_feature, axis=1)\n",
    "    return df\n",
    "train_fill = region_data(train_fill)\n",
    "train_fill['geoNetwork.region'].value_counts()"
   ]
  },
  {
   "cell_type": "code",
   "execution_count": null,
   "metadata": {},
   "outputs": [
    {
     "data": {
      "text/plain": [
       "others            380178\n",
       "United States     364744\n",
       "India              51140\n",
       "United Kingdom     37393\n",
       "Canada             25869\n",
       "Vietnam            24598\n",
       "Japan              19731\n",
       "Name: geoNetwork.country, dtype: int64"
      ]
     },
     "execution_count": 129,
     "metadata": {},
     "output_type": "execute_result"
    }
   ],
   "source": [
    "def country_data(df):\n",
    "    _list=['United States','India','United Kingdom','Canada','Vietnam','Japan']\n",
    "    #处理特殊的称呼，全处理成mr, mrs, miss, master\n",
    "    def replace_feature(x):\n",
    "        label=x['geoNetwork.country']\n",
    "        if label == 'United States':\n",
    "            return 'United States'\n",
    "        elif label == 'India':\n",
    "            return 'India'\n",
    "        elif label == 'United Kingdom':\n",
    "            return 'United Kingdom'\n",
    "        elif label == 'Canada':\n",
    "            return 'Canada'\n",
    "        elif label =='Vietnam':\n",
    "            return 'Vietnam'\n",
    "        elif label =='Japan':\n",
    "            return 'Japan'\n",
    "        else:\n",
    "            return 'others'\n",
    "    df['geoNetwork.country']=df.apply(replace_feature, axis=1)\n",
    "    return df\n",
    "train_fill = country_data(train_fill)\n",
    "train_fill['geoNetwork.country'].value_counts()"
   ]
  },
  {
   "cell_type": "code",
   "execution_count": null,
   "metadata": {},
   "outputs": [
    {
     "data": {
      "text/plain": [
       "others           779412\n",
       "Mountain View     40884\n",
       "New York          26371\n",
       "San Francisco     20329\n",
       "San Jose          10295\n",
       "Los Angeles        8670\n",
       "Chicago            7444\n",
       "Toronto            5223\n",
       "Seattle            5025\n",
       "Name: geoNetwork.city, dtype: int64"
      ]
     },
     "execution_count": 130,
     "metadata": {},
     "output_type": "execute_result"
    }
   ],
   "source": [
    "def city_data(df):\n",
    "    _list=['Mountain View','New York','San Francisco','San Jose','Los Angeles','Chicago','Toronto','Seattle']\n",
    "    #处理特殊的称呼，全处理成mr, mrs, miss, master\n",
    "    def replace_feature(x):\n",
    "        label=x['geoNetwork.city']\n",
    "        if label == 'Mountain View':\n",
    "            return 'Mountain View'\n",
    "        elif label == 'New York':\n",
    "            return 'New York'\n",
    "        elif label == 'San Francisco':\n",
    "            return 'San Francisco'\n",
    "        elif label == 'San Jose':\n",
    "            return 'San Jose'\n",
    "        elif label =='Los Angeles':\n",
    "            return 'Los Angeles'\n",
    "        elif label =='Chicago':\n",
    "            return 'Chicago'\n",
    "        elif label =='Toronto':\n",
    "            return 'Toronto'\n",
    "        elif label =='Seattle':\n",
    "            return 'Seattle'\n",
    "        else:\n",
    "            return 'others'\n",
    "    df['geoNetwork.city']=df.apply(replace_feature, axis=1)\n",
    "    return df\n",
    "train_fill = city_data(train_fill)\n",
    "train_fill['geoNetwork.city'].value_counts()"
   ]
  },
  {
   "cell_type": "code",
   "execution_count": null,
   "metadata": {},
   "outputs": [
    {
     "data": {
      "text/plain": [
       "others             882193\n",
       "Google Search       21453\n",
       "Search partners         7\n",
       "Name: trafficSource.adwordsClickInfo.adNetworkType, dtype: int64"
      ]
     },
     "execution_count": 131,
     "metadata": {},
     "output_type": "execute_result"
    }
   ],
   "source": [
    "def adNetworkType_data(df):\n",
    "    _list=['Google Search','Search partners']\n",
    "    #处理特殊的称呼，全处理成mr, mrs, miss, master\n",
    "    def replace_feature(x):\n",
    "        label=x['trafficSource.adwordsClickInfo.adNetworkType']\n",
    "        if label == 'Google Search':\n",
    "            return 'Google Search'\n",
    "        elif label == 'Search partners':\n",
    "            return 'Search partners'\n",
    "        else:\n",
    "            return 'others'\n",
    "    df['trafficSource.adwordsClickInfo.adNetworkType']=df.apply(replace_feature, axis=1)\n",
    "    return df\n",
    "train_fill = adNetworkType_data(train_fill)\n",
    "train_fill['trafficSource.adwordsClickInfo.adNetworkType'].value_counts()"
   ]
  },
  {
   "cell_type": "code",
   "execution_count": null,
   "metadata": {},
   "outputs": [
    {
     "data": {
      "text/plain": [
       "others    882193\n",
       "False      21460\n",
       "Name: trafficSource.adwordsClickInfo.isVideoAd, dtype: int64"
      ]
     },
     "execution_count": 132,
     "metadata": {},
     "output_type": "execute_result"
    }
   ],
   "source": [
    "def isVideoAd_data(df):\n",
    "    _list=['False','True']\n",
    "    #处理特殊的称呼，全处理成mr, mrs, miss, master\n",
    "    def replace_feature(x):\n",
    "        label=x['trafficSource.adwordsClickInfo.isVideoAd']\n",
    "        if label == 'False':\n",
    "            return 'False'\n",
    "#         elif label == 'True':\n",
    "#             return 'True'\n",
    "        else:\n",
    "            return 'others'\n",
    "    df['trafficSource.adwordsClickInfo.isVideoAd']=df.apply(replace_feature, axis=1)\n",
    "    return df\n",
    "train_fill['trafficSource.adwordsClickInfo.isVideoAd'] = train_fill['trafficSource.adwordsClickInfo.isVideoAd'].astype('str')\n",
    "train_fill = isVideoAd_data(train_fill)\n",
    "train_fill['trafficSource.adwordsClickInfo.isVideoAd'].value_counts()"
   ]
  },
  {
   "cell_type": "code",
   "execution_count": null,
   "metadata": {},
   "outputs": [
    {
     "data": {
      "text/plain": [
       "others    882293\n",
       "AW1        14244\n",
       "AW2         7070\n",
       "AW3           46\n",
       "Name: trafficSource.campaign, dtype: int64"
      ]
     },
     "execution_count": 133,
     "metadata": {},
     "output_type": "execute_result"
    }
   ],
   "source": [
    "def campaign_data(df):\n",
    "    _list=['AW - Dynamic Search Ads Whole Site','AW - Accessories','AW - Apparel']\n",
    "    #处理特殊的称呼，全处理成mr, mrs, miss, master\n",
    "    def replace_feature(x):\n",
    "        label=x['trafficSource.campaign']\n",
    "        if label == 'AW - Dynamic Search Ads Whole Site':\n",
    "            return 'AW1'\n",
    "        elif label == 'AW - Accessories':\n",
    "            return 'AW2'\n",
    "        elif label == 'AW - Apparel':\n",
    "            return 'AW3'\n",
    "        else:\n",
    "            return 'others'\n",
    "    df['trafficSource.campaign']=df.apply(replace_feature, axis=1)\n",
    "    return df\n",
    "train_fill = campaign_data(train_fill)\n",
    "train_fill['trafficSource.campaign'].value_counts()"
   ]
  },
  {
   "cell_type": "code",
   "execution_count": null,
   "metadata": {},
   "outputs": [],
   "source": [
    "# train_fill['trafficSource.adwordsClickInfo.slot'].value_counts()"
   ]
  },
  {
   "cell_type": "code",
   "execution_count": null,
   "metadata": {},
   "outputs": [
    {
     "data": {
      "text/plain": [
       "others    882193\n",
       "Top        20956\n",
       "RHS          504\n",
       "Name: trafficSource.adwordsClickInfo.slot, dtype: int64"
      ]
     },
     "execution_count": 135,
     "metadata": {},
     "output_type": "execute_result"
    }
   ],
   "source": [
    "def slot_data(df):\n",
    "    _list=['RHS','Top']\n",
    "    #处理特殊的称呼，全处理成mr, mrs, miss, master\n",
    "    def replace_feature(x):\n",
    "        label=x['trafficSource.adwordsClickInfo.slot']\n",
    "        if label == 'RHS':\n",
    "            return 'RHS'\n",
    "        elif label == 'Top':\n",
    "            return 'Top'\n",
    "        elif label == 'Google Display Network':\n",
    "            return 'Google Display Network'\n",
    "        else:\n",
    "            return 'others'\n",
    "    df['trafficSource.adwordsClickInfo.slot']=df.apply(replace_feature, axis=1)\n",
    "    return df\n",
    "train_fill = slot_data(train_fill)\n",
    "train_fill['trafficSource.adwordsClickInfo.slot'].value_counts()"
   ]
  },
  {
   "cell_type": "code",
   "execution_count": null,
   "metadata": {},
   "outputs": [
    {
     "data": {
      "text/plain": [
       "others    629648\n",
       "True      274005\n",
       "Name: trafficSource.isTrueDirect, dtype: int64"
      ]
     },
     "execution_count": 136,
     "metadata": {},
     "output_type": "execute_result"
    }
   ],
   "source": [
    "def isTrueDirect_data(df):\n",
    "    _list=['True']\n",
    "    #处理特殊的称呼，全处理成mr, mrs, miss, master\n",
    "    def replace_feature(x):\n",
    "        label=x['trafficSource.isTrueDirect']\n",
    "        if label == 'True':\n",
    "            return 'True'\n",
    "        else:\n",
    "            return 'others'\n",
    "    df['trafficSource.isTrueDirect']=df.apply(replace_feature, axis=1)\n",
    "    return df\n",
    "train_fill['trafficSource.isTrueDirect'] = train_fill['trafficSource.isTrueDirect'].astype('str')\n",
    "train_fill = isTrueDirect_data(train_fill)\n",
    "train_fill['trafficSource.isTrueDirect'].value_counts()"
   ]
  },
  {
   "cell_type": "code",
   "execution_count": null,
   "metadata": {},
   "outputs": [
    {
     "data": {
      "text/plain": [
       "others                  901653\n",
       "Google Merchandise        1648\n",
       "+Google +Merchandise       352\n",
       "Name: trafficSource.keyword, dtype: int64"
      ]
     },
     "execution_count": 137,
     "metadata": {},
     "output_type": "execute_result"
    }
   ],
   "source": [
    "def keyword_data(df):\n",
    "    _list=['Google Merchandise','+Google +Merchandise']\n",
    "    #处理特殊的称呼，全处理成mr, mrs, miss, master\n",
    "    def replace_feature(x):\n",
    "        label=x['trafficSource.keyword']\n",
    "        if label == 'Google Merchandise':\n",
    "            return 'Google Merchandise'\n",
    "        elif label == '+Google +Merchandise':\n",
    "            return '+Google +Merchandise'\n",
    "        else:\n",
    "            return 'others'\n",
    "    df['trafficSource.keyword']=df.apply(replace_feature, axis=1)\n",
    "    return df\n",
    "train_fill = keyword_data(train_fill)\n",
    "train_fill['trafficSource.keyword'].value_counts()"
   ]
  },
  {
   "cell_type": "code",
   "execution_count": null,
   "metadata": {},
   "outputs": [
    {
     "data": {
      "text/plain": [
       "organic     381561\n",
       "referral    330955\n",
       "others      159549\n",
       "cpc          25326\n",
       "cpm           6262\n",
       "Name: trafficSource.medium, dtype: int64"
      ]
     },
     "execution_count": 138,
     "metadata": {},
     "output_type": "execute_result"
    }
   ],
   "source": [
    "def medium_data(df):\n",
    "    _list=['organic','referral','cpc','cpm']\n",
    "    #处理特殊的称呼，全处理成mr, mrs, miss, master\n",
    "    def replace_feature(x):\n",
    "        label=x['trafficSource.medium']\n",
    "        if label == 'organic':\n",
    "            return 'organic'\n",
    "        elif label == 'referral':\n",
    "            return 'referral'\n",
    "        elif label == 'cpc':\n",
    "            return 'cpc'\n",
    "        elif label == 'cpm':\n",
    "            return 'cpm'\n",
    "        else:\n",
    "            return 'others'\n",
    "    df['trafficSource.medium']=df.apply(replace_feature, axis=1)\n",
    "    return df\n",
    "train_fill = medium_data(train_fill)\n",
    "train_fill['trafficSource.medium'].value_counts()"
   ]
  },
  {
   "cell_type": "code",
   "execution_count": null,
   "metadata": {},
   "outputs": [],
   "source": [
    "def referralPath_data(df):\n",
    "    _list=['/','/yt/about/','/mail/u/0/']\n",
    "    #处理特殊的称呼，全处理成mr, mrs, miss, master\n",
    "    def replace_feature(x):\n",
    "        label=x['trafficSource.referralPath']\n",
    "        if label == '/':\n",
    "            return '/'\n",
    "        elif label == '/yt/about/':\n",
    "            return '/yt/about/'\n",
    "        elif label == '/mail/u/0/':\n",
    "            return '/mail/u/0/'\n",
    "        else:\n",
    "            return 'others'\n",
    "    df['trafficSource.referralPath']=df.apply(replace_feature, axis=1)\n",
    "    return df\n",
    "train_fill = referralPath_data(train_fill)\n",
    "train_fill['trafficSource.referralPath'].value_counts()"
   ]
  },
  {
   "cell_type": "code",
   "execution_count": null,
   "metadata": {},
   "outputs": [],
   "source": [
    "def referralPath_data(df):\n",
    "    _list=['google','(direct)','youtube.com','mall.googleplex.com','dfa']\n",
    "    #处理特殊的称呼，全处理成mr, mrs, miss, master\n",
    "    def replace_feature(x):\n",
    "        label=x['trafficSource.source']\n",
    "        if label == 'google':\n",
    "            return 'google'\n",
    "        elif label == '(direct)':\n",
    "            return '(direct)'\n",
    "        elif label == 'youtube.com':\n",
    "            return 'youtube.com'\n",
    "        elif label == 'mall.googleplex.com':\n",
    "            return 'mall.googleplex.com'\n",
    "        elif label == 'dfa':\n",
    "            return 'dfa'\n",
    "        else:\n",
    "            return 'others'\n",
    "    df['trafficSource.source']=df.apply(replace_feature, axis=1)\n",
    "    return df\n",
    "train_fill = referralPath_data(train_fill)\n",
    "train_fill['trafficSource.source'].value_counts()"
   ]
  },
  {
   "cell_type": "code",
   "execution_count": null,
   "metadata": {},
   "outputs": [],
   "source": [
    "test_fill = chanGroup_data(train_fill)\n",
    "test_fill = browser_data(train_fill)\n",
    "test_fill = deviceCategory_data(train_fill)\n",
    "test_fill['device.isMobile'] = train_fill['device.isMobile'].astype(\"str\")\n",
    "test_fill = isMobile_data(train_fill)\n",
    "test_fill = operatingSystem_data(train_fill)\n",
    "test_fill = continent_data(train_fill)\n",
    "test_fill = metro_data(train_fill)\n",
    "test_fill = networkDomain_data(train_fill)\n",
    "test_fill = subContinent_data(train_fill)\n",
    "test_fill = region_data(train_fill)\n",
    "test_fill = country_data(train_fill)\n",
    "test_fill = city_data(train_fill)\n",
    "test_fill = adNetworkType_data(train_fill)\n",
    "test_fill['trafficSource.adwordsClickInfo.isVideoAd'] = train_fill['trafficSource.adwordsClickInfo.isVideoAd'].astype('str')\n",
    "test_fill = isVideoAd_data(train_fill)\n",
    "test_fill = campaign_data(train_fill)\n",
    "test_fill = slot_data(train_fill)\n",
    "test_fill['trafficSource.isTrueDirect'] = train_fill['trafficSource.isTrueDirect'].astype('str')\n",
    "test_fill = isTrueDirect_data(train_fill)\n",
    "test_fill = keyword_data(train_fill)\n",
    "test_fill = medium_data(train_fill)\n",
    "test_fill = referralPath_data(train_fill)\n",
    "test_fill = referralPath_data(train_fill)"
   ]
  },
  {
   "cell_type": "code",
   "execution_count": null,
   "metadata": {},
   "outputs": [],
   "source": []
  }
 ],
 "metadata": {
  "kernelspec": {
   "display_name": "tensorflow",
   "language": "python",
   "name": "tensorflow"
  },
  "language_info": {
   "codemirror_mode": {
    "name": "ipython",
    "version": 3
   },
   "file_extension": ".py",
   "mimetype": "text/x-python",
   "name": "python",
   "nbconvert_exporter": "python",
   "pygments_lexer": "ipython3",
   "version": "3.6.4"
  }
 },
 "nbformat": 4,
 "nbformat_minor": 2
}
