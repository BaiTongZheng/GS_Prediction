{
 "cells": [
  {
   "cell_type": "code",
   "execution_count": 1,
   "metadata": {},
   "outputs": [],
   "source": [
    "import pandas as pd\n",
    "import numpy as np\n",
    "import gc\n",
    "import time\n",
    "from pandas.core.common import SettingWithCopyWarning\n",
    "import warnings\n",
    "from pandas.io.json import json_normalize\n",
    "import json\n",
    "import os\n",
    "warnings.simplefilter('error', SettingWithCopyWarning)\n",
    "gc.enable()\n",
    "%matplotlib inline"
   ]
  },
  {
   "cell_type": "code",
   "execution_count": 2,
   "metadata": {},
   "outputs": [],
   "source": [
    "features = ['channelGrouping', 'date', 'fullVisitorId', 'visitId',\\\n",
    "       'visitNumber', 'visitStartTime', 'device_browser',\\\n",
    "       'device_deviceCategory', 'device_isMobile', 'device_operatingSystem',\\\n",
    "       'geoNetwork_city', 'geoNetwork_continent', 'geoNetwork_country',\\\n",
    "       'geoNetwork_metro', 'geoNetwork_networkDomain', 'geoNetwork_region',\\\n",
    "       'geoNetwork_subContinent', 'totals_bounces', 'totals_hits',\\\n",
    "       'totals_newVisits', 'totals_pageviews', 'totals_transactionRevenue',\\\n",
    "       'trafficSource_adContent', 'trafficSource_campaign',\\\n",
    "       'trafficSource_isTrueDirect', 'trafficSource_keyword',\\\n",
    "       'trafficSource_medium', 'trafficSource_referralPath',\\\n",
    "       'trafficSource_source','trafficSource_adwordsClickInfo.page',\\\n",
    "       'trafficSource_adwordsClickInfo.adNetworkType',\n",
    "       'trafficSource_adwordsClickInfo.isVideoAd',\n",
    "       'trafficSource_adwordsClickInfo.slot',\n",
    "           ]"
   ]
  },
  {
   "cell_type": "code",
   "execution_count": 3,
   "metadata": {},
   "outputs": [
    {
     "name": "stdout",
     "output_type": "stream",
     "text": [
      "Loaded train_v2.csv. Shape: (100000, 59)\n",
      "(100000, 33)\n",
      "Loaded train_v2.csv. Shape: (100000, 60)\n",
      "(200000, 33)\n",
      "Loaded train_v2.csv. Shape: (100000, 59)\n",
      "(300000, 33)\n",
      "Loaded train_v2.csv. Shape: (100000, 59)\n",
      "(400000, 33)\n",
      "Loaded train_v2.csv. Shape: (100000, 59)\n",
      "(500000, 33)\n",
      "Loaded train_v2.csv. Shape: (100000, 59)\n",
      "(600000, 33)\n",
      "Loaded train_v2.csv. Shape: (100000, 59)\n",
      "(700000, 33)\n",
      "Loaded train_v2.csv. Shape: (100000, 59)\n",
      "(800000, 33)\n",
      "Loaded train_v2.csv. Shape: (100000, 59)\n",
      "(900000, 33)\n",
      "Loaded train_v2.csv. Shape: (100000, 59)\n",
      "(1000000, 33)\n",
      "Loaded train_v2.csv. Shape: (100000, 59)\n",
      "(1100000, 33)\n",
      "Loaded train_v2.csv. Shape: (100000, 59)\n",
      "(1200000, 33)\n",
      "Loaded train_v2.csv. Shape: (100000, 59)\n",
      "(1300000, 33)\n",
      "Loaded train_v2.csv. Shape: (100000, 59)\n",
      "(1400000, 33)\n",
      "Loaded train_v2.csv. Shape: (100000, 59)\n",
      "(1500000, 33)\n",
      "Loaded train_v2.csv. Shape: (100000, 59)\n",
      "(1600000, 33)\n",
      "Loaded train_v2.csv. Shape: (100000, 59)\n",
      "(1700000, 33)\n",
      "Loaded train_v2.csv. Shape: (8337, 59)\n",
      "(1708337, 33)\n"
     ]
    },
    {
     "data": {
      "text/plain": [
       "(1708337, 33)"
      ]
     },
     "execution_count": 3,
     "metadata": {},
     "output_type": "execute_result"
    }
   ],
   "source": [
    "gc.enable()\n",
    "def load_df(csv_path='/home/baitong/pywork/RevenuePrediction/all (1)/train_v2.csv'):\n",
    "    JSON_COLUMNS = ['device', 'geoNetwork', 'totals', 'trafficSource']\n",
    "    ans = pd.DataFrame()\n",
    "    dfs = pd.read_csv(csv_path, sep=',',\n",
    "                     converters={column: json.loads for column in JSON_COLUMNS}, \n",
    "                     dtype={'fullVisitorId': 'str'}, # Important!!\n",
    "                    chunksize = 100000)\n",
    "    for df in dfs:\n",
    "        df.reset_index(drop = True,inplace = True)\n",
    "        for column in JSON_COLUMNS:\n",
    "            column_as_df = json_normalize(df[column])\n",
    "            column_as_df.columns = [f\"{column}_{subcolumn}\" for subcolumn in column_as_df.columns]\n",
    "            df = df.drop(column, axis=1).merge(column_as_df, right_index=True, left_index=True)\n",
    "\n",
    "        print(f\"Loaded {os.path.basename(csv_path)}. Shape: {df.shape}\")\n",
    "        use_df = df[features]\n",
    "        del df\n",
    "        gc.collect()\n",
    "        ans = pd.concat([ans, use_df], axis = 0).reset_index(drop = True)\n",
    "        print(ans.shape)\n",
    "    return ans\n",
    "\n",
    "train = load_df()\n",
    "train.shape"
   ]
  },
  {
   "cell_type": "code",
   "execution_count": 4,
   "metadata": {},
   "outputs": [],
   "source": [
    "path = '/home/baitong/pywork/RevenuePrediction/all (1)'"
   ]
  },
  {
   "cell_type": "code",
   "execution_count": 5,
   "metadata": {},
   "outputs": [
    {
     "name": "stdout",
     "output_type": "stream",
     "text": [
      "Loaded test_v2.csv. Shape: (100000, 59)\n",
      "(100000, 33)\n",
      "Loaded test_v2.csv. Shape: (100000, 59)\n",
      "(200000, 33)\n",
      "Loaded test_v2.csv. Shape: (100000, 59)\n",
      "(300000, 33)\n",
      "Loaded test_v2.csv. Shape: (100000, 59)\n",
      "(400000, 33)\n",
      "Loaded test_v2.csv. Shape: (1589, 59)\n",
      "(401589, 33)\n"
     ]
    }
   ],
   "source": [
    "test = load_df(\"/home/baitong/pywork/RevenuePrediction/all (1)/test_v2.csv\")"
   ]
  },
  {
   "cell_type": "code",
   "execution_count": 6,
   "metadata": {},
   "outputs": [
    {
     "data": {
      "text/html": [
       "<div>\n",
       "<style scoped>\n",
       "    .dataframe tbody tr th:only-of-type {\n",
       "        vertical-align: middle;\n",
       "    }\n",
       "\n",
       "    .dataframe tbody tr th {\n",
       "        vertical-align: top;\n",
       "    }\n",
       "\n",
       "    .dataframe thead th {\n",
       "        text-align: right;\n",
       "    }\n",
       "</style>\n",
       "<table border=\"1\" class=\"dataframe\">\n",
       "  <thead>\n",
       "    <tr style=\"text-align: right;\">\n",
       "      <th></th>\n",
       "      <th>channelGrouping</th>\n",
       "      <th>date</th>\n",
       "      <th>fullVisitorId</th>\n",
       "      <th>visitId</th>\n",
       "      <th>visitNumber</th>\n",
       "      <th>visitStartTime</th>\n",
       "      <th>device_browser</th>\n",
       "      <th>device_deviceCategory</th>\n",
       "      <th>device_isMobile</th>\n",
       "      <th>device_operatingSystem</th>\n",
       "      <th>...</th>\n",
       "      <th>trafficSource_campaign</th>\n",
       "      <th>trafficSource_isTrueDirect</th>\n",
       "      <th>trafficSource_keyword</th>\n",
       "      <th>trafficSource_medium</th>\n",
       "      <th>trafficSource_referralPath</th>\n",
       "      <th>trafficSource_source</th>\n",
       "      <th>trafficSource_adwordsClickInfo.page</th>\n",
       "      <th>trafficSource_adwordsClickInfo.adNetworkType</th>\n",
       "      <th>trafficSource_adwordsClickInfo.isVideoAd</th>\n",
       "      <th>trafficSource_adwordsClickInfo.slot</th>\n",
       "    </tr>\n",
       "  </thead>\n",
       "  <tbody>\n",
       "    <tr>\n",
       "      <th>0</th>\n",
       "      <td>Organic Search</td>\n",
       "      <td>20171016</td>\n",
       "      <td>3162355547410993243</td>\n",
       "      <td>1508198450</td>\n",
       "      <td>1</td>\n",
       "      <td>1508198450</td>\n",
       "      <td>Firefox</td>\n",
       "      <td>desktop</td>\n",
       "      <td>False</td>\n",
       "      <td>Windows</td>\n",
       "      <td>...</td>\n",
       "      <td>(not set)</td>\n",
       "      <td>NaN</td>\n",
       "      <td>water bottle</td>\n",
       "      <td>organic</td>\n",
       "      <td>NaN</td>\n",
       "      <td>google</td>\n",
       "      <td>NaN</td>\n",
       "      <td>NaN</td>\n",
       "      <td>NaN</td>\n",
       "      <td>NaN</td>\n",
       "    </tr>\n",
       "    <tr>\n",
       "      <th>1</th>\n",
       "      <td>Referral</td>\n",
       "      <td>20171016</td>\n",
       "      <td>8934116514970143966</td>\n",
       "      <td>1508176307</td>\n",
       "      <td>6</td>\n",
       "      <td>1508176307</td>\n",
       "      <td>Chrome</td>\n",
       "      <td>desktop</td>\n",
       "      <td>False</td>\n",
       "      <td>Chrome OS</td>\n",
       "      <td>...</td>\n",
       "      <td>(not set)</td>\n",
       "      <td>NaN</td>\n",
       "      <td>NaN</td>\n",
       "      <td>referral</td>\n",
       "      <td>/a/google.com/transportation/mtv-services/bike...</td>\n",
       "      <td>sites.google.com</td>\n",
       "      <td>NaN</td>\n",
       "      <td>NaN</td>\n",
       "      <td>NaN</td>\n",
       "      <td>NaN</td>\n",
       "    </tr>\n",
       "    <tr>\n",
       "      <th>2</th>\n",
       "      <td>Direct</td>\n",
       "      <td>20171016</td>\n",
       "      <td>7992466427990357681</td>\n",
       "      <td>1508201613</td>\n",
       "      <td>1</td>\n",
       "      <td>1508201613</td>\n",
       "      <td>Chrome</td>\n",
       "      <td>mobile</td>\n",
       "      <td>True</td>\n",
       "      <td>Android</td>\n",
       "      <td>...</td>\n",
       "      <td>(not set)</td>\n",
       "      <td>True</td>\n",
       "      <td>NaN</td>\n",
       "      <td>(none)</td>\n",
       "      <td>NaN</td>\n",
       "      <td>(direct)</td>\n",
       "      <td>NaN</td>\n",
       "      <td>NaN</td>\n",
       "      <td>NaN</td>\n",
       "      <td>NaN</td>\n",
       "    </tr>\n",
       "    <tr>\n",
       "      <th>3</th>\n",
       "      <td>Organic Search</td>\n",
       "      <td>20171016</td>\n",
       "      <td>9075655783635761930</td>\n",
       "      <td>1508169851</td>\n",
       "      <td>1</td>\n",
       "      <td>1508169851</td>\n",
       "      <td>Chrome</td>\n",
       "      <td>desktop</td>\n",
       "      <td>False</td>\n",
       "      <td>Windows</td>\n",
       "      <td>...</td>\n",
       "      <td>(not set)</td>\n",
       "      <td>NaN</td>\n",
       "      <td>(not provided)</td>\n",
       "      <td>organic</td>\n",
       "      <td>NaN</td>\n",
       "      <td>google</td>\n",
       "      <td>NaN</td>\n",
       "      <td>NaN</td>\n",
       "      <td>NaN</td>\n",
       "      <td>NaN</td>\n",
       "    </tr>\n",
       "    <tr>\n",
       "      <th>4</th>\n",
       "      <td>Organic Search</td>\n",
       "      <td>20171016</td>\n",
       "      <td>6960673291025684308</td>\n",
       "      <td>1508190552</td>\n",
       "      <td>1</td>\n",
       "      <td>1508190552</td>\n",
       "      <td>Chrome</td>\n",
       "      <td>desktop</td>\n",
       "      <td>False</td>\n",
       "      <td>Windows</td>\n",
       "      <td>...</td>\n",
       "      <td>(not set)</td>\n",
       "      <td>NaN</td>\n",
       "      <td>(not provided)</td>\n",
       "      <td>organic</td>\n",
       "      <td>NaN</td>\n",
       "      <td>google</td>\n",
       "      <td>NaN</td>\n",
       "      <td>NaN</td>\n",
       "      <td>NaN</td>\n",
       "      <td>NaN</td>\n",
       "    </tr>\n",
       "  </tbody>\n",
       "</table>\n",
       "<p>5 rows × 33 columns</p>\n",
       "</div>"
      ],
      "text/plain": [
       "  channelGrouping      date        fullVisitorId     visitId  visitNumber  \\\n",
       "0  Organic Search  20171016  3162355547410993243  1508198450            1   \n",
       "1        Referral  20171016  8934116514970143966  1508176307            6   \n",
       "2          Direct  20171016  7992466427990357681  1508201613            1   \n",
       "3  Organic Search  20171016  9075655783635761930  1508169851            1   \n",
       "4  Organic Search  20171016  6960673291025684308  1508190552            1   \n",
       "\n",
       "   visitStartTime device_browser device_deviceCategory  device_isMobile  \\\n",
       "0      1508198450        Firefox               desktop            False   \n",
       "1      1508176307         Chrome               desktop            False   \n",
       "2      1508201613         Chrome                mobile             True   \n",
       "3      1508169851         Chrome               desktop            False   \n",
       "4      1508190552         Chrome               desktop            False   \n",
       "\n",
       "  device_operatingSystem                 ...                  \\\n",
       "0                Windows                 ...                   \n",
       "1              Chrome OS                 ...                   \n",
       "2                Android                 ...                   \n",
       "3                Windows                 ...                   \n",
       "4                Windows                 ...                   \n",
       "\n",
       "  trafficSource_campaign trafficSource_isTrueDirect trafficSource_keyword  \\\n",
       "0              (not set)                        NaN          water bottle   \n",
       "1              (not set)                        NaN                   NaN   \n",
       "2              (not set)                       True                   NaN   \n",
       "3              (not set)                        NaN        (not provided)   \n",
       "4              (not set)                        NaN        (not provided)   \n",
       "\n",
       "  trafficSource_medium                         trafficSource_referralPath  \\\n",
       "0              organic                                                NaN   \n",
       "1             referral  /a/google.com/transportation/mtv-services/bike...   \n",
       "2               (none)                                                NaN   \n",
       "3              organic                                                NaN   \n",
       "4              organic                                                NaN   \n",
       "\n",
       "  trafficSource_source trafficSource_adwordsClickInfo.page  \\\n",
       "0               google                                 NaN   \n",
       "1     sites.google.com                                 NaN   \n",
       "2             (direct)                                 NaN   \n",
       "3               google                                 NaN   \n",
       "4               google                                 NaN   \n",
       "\n",
       "  trafficSource_adwordsClickInfo.adNetworkType  \\\n",
       "0                                          NaN   \n",
       "1                                          NaN   \n",
       "2                                          NaN   \n",
       "3                                          NaN   \n",
       "4                                          NaN   \n",
       "\n",
       "  trafficSource_adwordsClickInfo.isVideoAd trafficSource_adwordsClickInfo.slot  \n",
       "0                                      NaN                                 NaN  \n",
       "1                                      NaN                                 NaN  \n",
       "2                                      NaN                                 NaN  \n",
       "3                                      NaN                                 NaN  \n",
       "4                                      NaN                                 NaN  \n",
       "\n",
       "[5 rows x 33 columns]"
      ]
     },
     "execution_count": 6,
     "metadata": {},
     "output_type": "execute_result"
    }
   ],
   "source": [
    "train.to_csv(path +\"/train.csv\", index=False)\n",
    "test.to_csv(path+\"/test.csv\", index = False)\n",
    "train.head()"
   ]
  },
  {
   "cell_type": "code",
   "execution_count": 7,
   "metadata": {},
   "outputs": [
    {
     "data": {
      "text/html": [
       "<div>\n",
       "<style scoped>\n",
       "    .dataframe tbody tr th:only-of-type {\n",
       "        vertical-align: middle;\n",
       "    }\n",
       "\n",
       "    .dataframe tbody tr th {\n",
       "        vertical-align: top;\n",
       "    }\n",
       "\n",
       "    .dataframe thead th {\n",
       "        text-align: right;\n",
       "    }\n",
       "</style>\n",
       "<table border=\"1\" class=\"dataframe\">\n",
       "  <thead>\n",
       "    <tr style=\"text-align: right;\">\n",
       "      <th></th>\n",
       "      <th>channelGrouping</th>\n",
       "      <th>date</th>\n",
       "      <th>fullVisitorId</th>\n",
       "      <th>visitId</th>\n",
       "      <th>visitNumber</th>\n",
       "      <th>visitStartTime</th>\n",
       "      <th>device_browser</th>\n",
       "      <th>device_deviceCategory</th>\n",
       "      <th>device_isMobile</th>\n",
       "      <th>device_operatingSystem</th>\n",
       "      <th>...</th>\n",
       "      <th>trafficSource_campaign</th>\n",
       "      <th>trafficSource_isTrueDirect</th>\n",
       "      <th>trafficSource_keyword</th>\n",
       "      <th>trafficSource_medium</th>\n",
       "      <th>trafficSource_referralPath</th>\n",
       "      <th>trafficSource_source</th>\n",
       "      <th>trafficSource_adwordsClickInfo.page</th>\n",
       "      <th>trafficSource_adwordsClickInfo.adNetworkType</th>\n",
       "      <th>trafficSource_adwordsClickInfo.isVideoAd</th>\n",
       "      <th>trafficSource_adwordsClickInfo.slot</th>\n",
       "    </tr>\n",
       "  </thead>\n",
       "  <tbody>\n",
       "    <tr>\n",
       "      <th>0</th>\n",
       "      <td>Organic Search</td>\n",
       "      <td>20180511</td>\n",
       "      <td>7460955084541987166</td>\n",
       "      <td>1526099341</td>\n",
       "      <td>2</td>\n",
       "      <td>1526099341</td>\n",
       "      <td>Chrome</td>\n",
       "      <td>mobile</td>\n",
       "      <td>True</td>\n",
       "      <td>Android</td>\n",
       "      <td>...</td>\n",
       "      <td>(not set)</td>\n",
       "      <td>True</td>\n",
       "      <td>(not provided)</td>\n",
       "      <td>organic</td>\n",
       "      <td>(not set)</td>\n",
       "      <td>google</td>\n",
       "      <td>NaN</td>\n",
       "      <td>NaN</td>\n",
       "      <td>NaN</td>\n",
       "      <td>NaN</td>\n",
       "    </tr>\n",
       "    <tr>\n",
       "      <th>1</th>\n",
       "      <td>Direct</td>\n",
       "      <td>20180511</td>\n",
       "      <td>460252456180441002</td>\n",
       "      <td>1526064483</td>\n",
       "      <td>166</td>\n",
       "      <td>1526064483</td>\n",
       "      <td>Chrome</td>\n",
       "      <td>desktop</td>\n",
       "      <td>False</td>\n",
       "      <td>Macintosh</td>\n",
       "      <td>...</td>\n",
       "      <td>(not set)</td>\n",
       "      <td>True</td>\n",
       "      <td>(not set)</td>\n",
       "      <td>(none)</td>\n",
       "      <td>(not set)</td>\n",
       "      <td>(direct)</td>\n",
       "      <td>NaN</td>\n",
       "      <td>NaN</td>\n",
       "      <td>NaN</td>\n",
       "      <td>NaN</td>\n",
       "    </tr>\n",
       "    <tr>\n",
       "      <th>2</th>\n",
       "      <td>Organic Search</td>\n",
       "      <td>20180511</td>\n",
       "      <td>3461808543879602873</td>\n",
       "      <td>1526067157</td>\n",
       "      <td>2</td>\n",
       "      <td>1526067157</td>\n",
       "      <td>Chrome</td>\n",
       "      <td>desktop</td>\n",
       "      <td>False</td>\n",
       "      <td>Chrome OS</td>\n",
       "      <td>...</td>\n",
       "      <td>(not set)</td>\n",
       "      <td>True</td>\n",
       "      <td>(not provided)</td>\n",
       "      <td>organic</td>\n",
       "      <td>(not set)</td>\n",
       "      <td>google</td>\n",
       "      <td>NaN</td>\n",
       "      <td>NaN</td>\n",
       "      <td>NaN</td>\n",
       "      <td>NaN</td>\n",
       "    </tr>\n",
       "    <tr>\n",
       "      <th>3</th>\n",
       "      <td>Direct</td>\n",
       "      <td>20180511</td>\n",
       "      <td>975129477712150630</td>\n",
       "      <td>1526107551</td>\n",
       "      <td>4</td>\n",
       "      <td>1526107551</td>\n",
       "      <td>Chrome</td>\n",
       "      <td>mobile</td>\n",
       "      <td>True</td>\n",
       "      <td>iOS</td>\n",
       "      <td>...</td>\n",
       "      <td>(not set)</td>\n",
       "      <td>True</td>\n",
       "      <td>(not set)</td>\n",
       "      <td>(none)</td>\n",
       "      <td>(not set)</td>\n",
       "      <td>(direct)</td>\n",
       "      <td>NaN</td>\n",
       "      <td>NaN</td>\n",
       "      <td>NaN</td>\n",
       "      <td>NaN</td>\n",
       "    </tr>\n",
       "    <tr>\n",
       "      <th>4</th>\n",
       "      <td>Organic Search</td>\n",
       "      <td>20180511</td>\n",
       "      <td>8381672768065729990</td>\n",
       "      <td>1526060254</td>\n",
       "      <td>1</td>\n",
       "      <td>1526060254</td>\n",
       "      <td>Internet Explorer</td>\n",
       "      <td>tablet</td>\n",
       "      <td>True</td>\n",
       "      <td>Windows</td>\n",
       "      <td>...</td>\n",
       "      <td>(not set)</td>\n",
       "      <td>NaN</td>\n",
       "      <td>(not provided)</td>\n",
       "      <td>organic</td>\n",
       "      <td>(not set)</td>\n",
       "      <td>google</td>\n",
       "      <td>NaN</td>\n",
       "      <td>NaN</td>\n",
       "      <td>NaN</td>\n",
       "      <td>NaN</td>\n",
       "    </tr>\n",
       "  </tbody>\n",
       "</table>\n",
       "<p>5 rows × 33 columns</p>\n",
       "</div>"
      ],
      "text/plain": [
       "  channelGrouping      date        fullVisitorId     visitId  visitNumber  \\\n",
       "0  Organic Search  20180511  7460955084541987166  1526099341            2   \n",
       "1          Direct  20180511   460252456180441002  1526064483          166   \n",
       "2  Organic Search  20180511  3461808543879602873  1526067157            2   \n",
       "3          Direct  20180511   975129477712150630  1526107551            4   \n",
       "4  Organic Search  20180511  8381672768065729990  1526060254            1   \n",
       "\n",
       "   visitStartTime     device_browser device_deviceCategory  device_isMobile  \\\n",
       "0      1526099341             Chrome                mobile             True   \n",
       "1      1526064483             Chrome               desktop            False   \n",
       "2      1526067157             Chrome               desktop            False   \n",
       "3      1526107551             Chrome                mobile             True   \n",
       "4      1526060254  Internet Explorer                tablet             True   \n",
       "\n",
       "  device_operatingSystem                 ...                  \\\n",
       "0                Android                 ...                   \n",
       "1              Macintosh                 ...                   \n",
       "2              Chrome OS                 ...                   \n",
       "3                    iOS                 ...                   \n",
       "4                Windows                 ...                   \n",
       "\n",
       "  trafficSource_campaign trafficSource_isTrueDirect trafficSource_keyword  \\\n",
       "0              (not set)                       True        (not provided)   \n",
       "1              (not set)                       True             (not set)   \n",
       "2              (not set)                       True        (not provided)   \n",
       "3              (not set)                       True             (not set)   \n",
       "4              (not set)                        NaN        (not provided)   \n",
       "\n",
       "  trafficSource_medium trafficSource_referralPath trafficSource_source  \\\n",
       "0              organic                  (not set)               google   \n",
       "1               (none)                  (not set)             (direct)   \n",
       "2              organic                  (not set)               google   \n",
       "3               (none)                  (not set)             (direct)   \n",
       "4              organic                  (not set)               google   \n",
       "\n",
       "  trafficSource_adwordsClickInfo.page  \\\n",
       "0                                 NaN   \n",
       "1                                 NaN   \n",
       "2                                 NaN   \n",
       "3                                 NaN   \n",
       "4                                 NaN   \n",
       "\n",
       "  trafficSource_adwordsClickInfo.adNetworkType  \\\n",
       "0                                          NaN   \n",
       "1                                          NaN   \n",
       "2                                          NaN   \n",
       "3                                          NaN   \n",
       "4                                          NaN   \n",
       "\n",
       "  trafficSource_adwordsClickInfo.isVideoAd trafficSource_adwordsClickInfo.slot  \n",
       "0                                      NaN                                 NaN  \n",
       "1                                      NaN                                 NaN  \n",
       "2                                      NaN                                 NaN  \n",
       "3                                      NaN                                 NaN  \n",
       "4                                      NaN                                 NaN  \n",
       "\n",
       "[5 rows x 33 columns]"
      ]
     },
     "execution_count": 7,
     "metadata": {},
     "output_type": "execute_result"
    }
   ],
   "source": [
    "test.head()"
   ]
  },
  {
   "cell_type": "code",
   "execution_count": 8,
   "metadata": {},
   "outputs": [
    {
     "data": {
      "text/plain": [
       "((401589, 33), (1708337, 33))"
      ]
     },
     "execution_count": 8,
     "metadata": {},
     "output_type": "execute_result"
    }
   ],
   "source": [
    "test.shape,train.shape"
   ]
  },
  {
   "cell_type": "code",
   "execution_count": 9,
   "metadata": {},
   "outputs": [],
   "source": [
    "# test.totals_transactionRevenue.value_counts()"
   ]
  },
  {
   "cell_type": "code",
   "execution_count": 10,
   "metadata": {},
   "outputs": [],
   "source": []
  },
  {
   "cell_type": "code",
   "execution_count": null,
   "metadata": {},
   "outputs": [],
   "source": []
  },
  {
   "cell_type": "code",
   "execution_count": 11,
   "metadata": {},
   "outputs": [],
   "source": [
    "# print(\"Number of unique visitors in train set : \",train.fullVisitorId.nunique(), \" out of rows : \",train.shape[0])\n",
    "# print(\"Number of unique visitors in test set : \",test.fullVisitorId.nunique(), \" out of rows : \",test.shape[0])\n",
    "\n"
   ]
  },
  {
   "cell_type": "code",
   "execution_count": 12,
   "metadata": {},
   "outputs": [],
   "source": []
  },
  {
   "cell_type": "code",
   "execution_count": 13,
   "metadata": {},
   "outputs": [],
   "source": [
    "train['depth']=train['trafficSource_referralPath'][train['trafficSource_referralPath'].notnull()].apply(lambda x:x.count('/'))\n",
    "test['depth']=test['trafficSource_referralPath'][test['trafficSource_referralPath'].notnull()].apply(lambda x:x.count('/'))"
   ]
  },
  {
   "cell_type": "code",
   "execution_count": 14,
   "metadata": {},
   "outputs": [
    {
     "data": {
      "text/plain": [
       "Index(['channelGrouping', 'date', 'fullVisitorId', 'visitId', 'visitNumber',\n",
       "       'visitStartTime', 'device_browser', 'device_deviceCategory',\n",
       "       'device_isMobile', 'device_operatingSystem', 'geoNetwork_city',\n",
       "       'geoNetwork_continent', 'geoNetwork_country', 'geoNetwork_metro',\n",
       "       'geoNetwork_networkDomain', 'geoNetwork_region',\n",
       "       'geoNetwork_subContinent', 'totals_bounces', 'totals_hits',\n",
       "       'totals_newVisits', 'totals_pageviews', 'totals_transactionRevenue',\n",
       "       'trafficSource_adContent', 'trafficSource_campaign',\n",
       "       'trafficSource_isTrueDirect', 'trafficSource_keyword',\n",
       "       'trafficSource_medium', 'trafficSource_referralPath',\n",
       "       'trafficSource_source', 'trafficSource_adwordsClickInfo.page',\n",
       "       'trafficSource_adwordsClickInfo.adNetworkType',\n",
       "       'trafficSource_adwordsClickInfo.isVideoAd',\n",
       "       'trafficSource_adwordsClickInfo.slot', 'depth'],\n",
       "      dtype='object')"
      ]
     },
     "execution_count": 14,
     "metadata": {},
     "output_type": "execute_result"
    }
   ],
   "source": [
    "train.columns"
   ]
  },
  {
   "cell_type": "code",
   "execution_count": 15,
   "metadata": {},
   "outputs": [],
   "source": [
    "##将缺失值表示统一\n",
    "def replaceCatNa(df):\n",
    "    Nalist = ['(not set)','0','not available in demo dataset','unknown.unknown','(not provided)','(none)']\n",
    "    catlist = ['device_browser','device_operatingSystem','geoNetwork_city','geoNetwork_continent',\n",
    "              'geoNetwork_metro','geoNetwork_networkDomain','geoNetwork_region','geoNetwork_subContinent',\n",
    "              'trafficSource_campaign','trafficSource_keyword','trafficSource_medium']\n",
    "    for col in catlist:\n",
    "        df[col] = df[col].astype('str') \n",
    "        df[col] = df[col].apply(lambda x : np.nan if x in Nalist else x)\n",
    "    return df"
   ]
  },
  {
   "cell_type": "code",
   "execution_count": 16,
   "metadata": {},
   "outputs": [],
   "source": [
    "train = replaceCatNa(train)\n",
    "test = replaceCatNa(test)"
   ]
  },
  {
   "cell_type": "code",
   "execution_count": 17,
   "metadata": {},
   "outputs": [],
   "source": [
    "###将时间戳转换为标准时间表示\n",
    "train.visitStartTime = pd.to_datetime(train.visitStartTime, unit='s')\n",
    "train[\"date\"] = train.visitStartTime\n",
    "test.visitStartTime = pd.to_datetime(test.visitStartTime, unit='s')\n",
    "test[\"date\"] = test.visitStartTime"
   ]
  },
  {
   "cell_type": "code",
   "execution_count": 18,
   "metadata": {},
   "outputs": [],
   "source": [
    "for df in [train, test]:\n",
    "    df['weekday'] = df['date'].dt.dayofweek.astype(object)\n",
    "    df['time'] = df['date'].dt.second + df['date'].dt.minute*60 + df['date'].dt.hour*3600\n",
    "    df['month'] = df['date'].dt.month   # it must not be included in features during learning!\n",
    "    df['day'] = df['date'].dt.date       # it must not be included in features during learning!\n",
    "    df['hours'] = df['date'].dt.hour"
   ]
  },
  {
   "cell_type": "code",
   "execution_count": 19,
   "metadata": {},
   "outputs": [],
   "source": [
    "###增加特征 ：是否为双休日\n",
    "train['isWeekend'] = train['weekday'].apply(lambda x:1 if x>=5 else 0)\n",
    "test['isWeekend'] = test['weekday'].apply(lambda x:1 if x>=5 else 0)"
   ]
  },
  {
   "cell_type": "code",
   "execution_count": 20,
   "metadata": {},
   "outputs": [],
   "source": [
    "###填补totals.pageviews值\n",
    "predmis = train[train['totals_pageviews'].isnull()]['totals_hits'].values\n",
    "train.loc[(train['totals_pageviews'].isnull()),'totals_pageviews' ] = predmis\n",
    "\n",
    "predmis = test[test['totals_pageviews'].isnull()]['totals_hits'].values\n",
    "test.loc[(test['totals_pageviews'].isnull()),'totals_pageviews' ] = predmis"
   ]
  },
  {
   "cell_type": "code",
   "execution_count": 21,
   "metadata": {},
   "outputs": [],
   "source": [
    "####增加特征：浏览器是否为Chrome\n",
    "train['isChrome'] = train['device_browser'].apply(lambda x:1 if x=='Chrome' else 0)\n",
    "test['isChrome'] = test['device_browser'].apply(lambda x:1 if x=='Chrome' else 0)"
   ]
  },
  {
   "cell_type": "code",
   "execution_count": 22,
   "metadata": {},
   "outputs": [],
   "source": [
    "####增加特征：source是否为youtube ,mail.googleplex.com youtube.com\n",
    "train['trafficSource_source'].astype('str',inplace = True)\n",
    "test['trafficSource_source'].astype('str',inplace = True)\n",
    "train['s_ismall'] = train['trafficSource_source'].apply(lambda x:1 if x=='mall.googleplex.com' else 0)\n",
    "test['s_ismall'] = test['trafficSource_source'].apply(lambda x:1 if x=='mall.googleplex.com' else 0)\n",
    "\n",
    "train['s_isyoutube'] = train['trafficSource_source'].apply(lambda x:1 if x=='youtube.com' else 0)\n",
    "test['s_isyoutube'] = test['trafficSource_source'].apply(lambda x:1 if x=='youtube.com' else 0)"
   ]
  },
  {
   "cell_type": "code",
   "execution_count": 23,
   "metadata": {},
   "outputs": [],
   "source": [
    "##增加特征：是否为desktop\n",
    "train['d_isdesktop'] = train['device_deviceCategory'].apply(lambda x:1 if x=='desktop' else 0)\n",
    "test['d_isdesktop'] = test['device_deviceCategory'].apply(lambda x:1 if x=='desktop' else 0)\n",
    "\n",
    "train['d_Macintosh'] = train['device_operatingSystem'].apply(lambda x:1 if x=='Macintosh' else 0)\n",
    "test['d_Macintosh'] = test['device_operatingSystem'].apply(lambda x:1 if x=='Macintosh' else 0)\n",
    "\n",
    "train['d_Macintosh'] = train['device_operatingSystem'].apply(lambda x:1 if x=='Macintosh' else 0)\n",
    "test['d_Macintosh'] = test['device_operatingSystem'].apply(lambda x:1 if x=='Macintosh' else 0)\n",
    "\n",
    "train['d_Linux'] = train['device_operatingSystem'].apply(lambda x:1 if x=='Linux' else 0)\n",
    "test['d_Linux'] = test['device_operatingSystem'].apply(lambda x:1 if x=='Linux' else 0)\n",
    "\n",
    "train['d_iOS'] = train['device_operatingSystem'].apply(lambda x:1 if x=='iOS' else 0)\n",
    "test['d_iOS'] = test['device_operatingSystem'].apply(lambda x:1 if x=='iOS' else 0)\n",
    "\n",
    "train['d_Android'] = train['device_operatingSystem'].apply(lambda x:1 if x=='Android' else 0)\n",
    "test['d_Android'] = test['device_operatingSystem'].apply(lambda x:1 if x=='Android' else 0)\n",
    "\n",
    "train['d_Windows Phone'] = train['device_operatingSystem'].apply(lambda x:1 if x=='Windows Phone' else 0)\n",
    "test['d_Windows Phone'] = test['device_operatingSystem'].apply(lambda x:1 if x=='Windows Phone' else 0)"
   ]
  },
  {
   "cell_type": "code",
   "execution_count": 24,
   "metadata": {},
   "outputs": [],
   "source": [
    "train['channel_referral'] = train['channelGrouping'].apply(lambda x:1 if x=='Referral' else 0)\n",
    "train['channel_Social'] = train['channelGrouping'].apply(lambda x:1 if x=='Social' else 0)\n",
    "test['channel_referral'] = test['channelGrouping'].apply(lambda x:1 if x=='Referral' else 0)\n",
    "test['channel_Social'] = test['channelGrouping'].apply(lambda x:1 if x=='Social' else 0)"
   ]
  },
  {
   "cell_type": "code",
   "execution_count": 25,
   "metadata": {},
   "outputs": [],
   "source": [
    "def dealbrowser(s):\n",
    "    if s == \"Safari \"or s == \"Firefox\":\n",
    "        return \"mainstream\"\n",
    "    elif s == \"Chrome\":\n",
    "        return \"Chrome\"\n",
    "    else:\n",
    "        return \"others\"\n",
    "train['browser'] = train['device_browser'].apply(dealbrowser)"
   ]
  },
  {
   "cell_type": "code",
   "execution_count": 26,
   "metadata": {},
   "outputs": [],
   "source": [
    "##增加特征：是否为desktop\n",
    "train['m_referral'] = train['trafficSource_medium'].apply(lambda x:1 if x=='referral' else 0)\n",
    "test['m_referral'] = test['trafficSource_medium'].apply(lambda x:1 if x=='referral' else 0)"
   ]
  },
  {
   "cell_type": "code",
   "execution_count": 27,
   "metadata": {},
   "outputs": [],
   "source": [
    "train['single_visit'] = train['visitNumber'].apply(lambda x:0 if x!=1 else 1)\n",
    "test['single_visit'] = test['visitNumber'].apply(lambda x:0 if x!=1 else 1)\n",
    "\n",
    "train['totals_hits'] = train['totals_hits'].astype('float') \n",
    "test['totals_hits'] = test['totals_hits'].astype('float') \n",
    "train['totals_pageviews'] = train['totals_pageviews'].astype('float') \n",
    "test['totals_pageviews'] = test['totals_pageviews'].astype('float') \n",
    "train['hits_ratio'] = train['totals_hits']/train['totals_pageviews']\n",
    "test['hits_ratio'] = test['totals_hits']/test['totals_pageviews']"
   ]
  },
  {
   "cell_type": "code",
   "execution_count": 28,
   "metadata": {},
   "outputs": [],
   "source": [
    "def dealMissingData(df):\n",
    "    for c in df.columns:\n",
    "        num_missing = df[c].isnull().sum() \n",
    "        if num_missing != 0:\n",
    "            print(\"missing col is  \",c,'   missing num is',num_missing)\n",
    "    print('*'*20)\n",
    "    num_feature = [\"totals_bounces\",\"totals_newVisits\",'depth','trafficSource_adwordsClickInfo.page','totals_transactionRevenue']\n",
    "    cat_feature = ['trafficSource_adContent','trafficSource_adContent',\n",
    "                  'trafficSource_campaign','trafficSource_isTrueDirect',\n",
    "                  'trafficSource_keyword','trafficSource_referralPath',\n",
    "                  'device_browser','device_operatingSystem','geoNetwork_city',\n",
    "                  'geoNetwork_continent','geoNetwork_metro','geoNetwork_networkDomain',\n",
    "                  'geoNetwork_region','geoNetwork_subContinent','trafficSource_adwordsClickInfo.adNetworkType',\n",
    "                  'trafficSource_adwordsClickInfo.isVideoAd','trafficSource_medium','trafficSource_adwordsClickInfo.slot']\n",
    "    for col in num_feature:\n",
    "        df[col].fillna(0,inplace=True)\n",
    "    for col in cat_feature:\n",
    "        df[col].fillna(0,inplace=True)\n",
    "    for c in df.columns:\n",
    "        num_missing = df[c].isnull().sum() \n",
    "        if num_missing != 0:\n",
    "            print(\"now missing col is  \",c,'   missing num is',num_missing)\n",
    "    print('---------------done---------------')\n",
    "    return df"
   ]
  },
  {
   "cell_type": "code",
   "execution_count": 29,
   "metadata": {},
   "outputs": [
    {
     "name": "stdout",
     "output_type": "stream",
     "text": [
      "missing col is   device_browser    missing num is 19\n",
      "missing col is   device_operatingSystem    missing num is 11815\n",
      "missing col is   geoNetwork_city    missing num is 998826\n",
      "missing col is   geoNetwork_continent    missing num is 2517\n",
      "missing col is   geoNetwork_metro    missing num is 1319855\n",
      "missing col is   geoNetwork_networkDomain    missing num is 768845\n",
      "missing col is   geoNetwork_region    missing num is 982733\n",
      "missing col is   geoNetwork_subContinent    missing num is 2517\n",
      "missing col is   totals_bounces    missing num is 836759\n",
      "missing col is   totals_newVisits    missing num is 400907\n",
      "missing col is   totals_transactionRevenue    missing num is 1689823\n",
      "missing col is   trafficSource_adContent    missing num is 1643600\n",
      "missing col is   trafficSource_campaign    missing num is 1604526\n",
      "missing col is   trafficSource_isTrueDirect    missing num is 1173819\n",
      "missing col is   trafficSource_keyword    missing num is 568933\n",
      "missing col is   trafficSource_medium    missing num is 566091\n",
      "missing col is   trafficSource_referralPath    missing num is 1142073\n",
      "missing col is   trafficSource_adwordsClickInfo.page    missing num is 1633063\n",
      "missing col is   trafficSource_adwordsClickInfo.adNetworkType    missing num is 1633063\n",
      "missing col is   trafficSource_adwordsClickInfo.isVideoAd    missing num is 1633063\n",
      "missing col is   trafficSource_adwordsClickInfo.slot    missing num is 1633063\n",
      "missing col is   depth    missing num is 1142073\n",
      "********************\n",
      "---------------done---------------\n",
      "missing col is   device_operatingSystem    missing num is 4382\n",
      "missing col is   geoNetwork_city    missing num is 225093\n",
      "missing col is   geoNetwork_continent    missing num is 382\n",
      "missing col is   geoNetwork_metro    missing num is 296260\n",
      "missing col is   geoNetwork_networkDomain    missing num is 194927\n",
      "missing col is   geoNetwork_region    missing num is 218328\n",
      "missing col is   geoNetwork_subContinent    missing num is 382\n",
      "missing col is   totals_bounces    missing num is 218911\n",
      "missing col is   totals_newVisits    missing num is 115524\n",
      "missing col is   totals_transactionRevenue    missing num is 396995\n",
      "missing col is   trafficSource_campaign    missing num is 378933\n",
      "missing col is   trafficSource_isTrueDirect    missing num is 253180\n",
      "missing col is   trafficSource_keyword    missing num is 349304\n",
      "missing col is   trafficSource_medium    missing num is 111313\n",
      "missing col is   trafficSource_adwordsClickInfo.page    missing num is 390984\n",
      "missing col is   trafficSource_adwordsClickInfo.adNetworkType    missing num is 390984\n",
      "missing col is   trafficSource_adwordsClickInfo.isVideoAd    missing num is 390984\n",
      "missing col is   trafficSource_adwordsClickInfo.slot    missing num is 390984\n",
      "********************\n",
      "---------------done---------------\n"
     ]
    }
   ],
   "source": [
    "train = dealMissingData(train)\n",
    "test = dealMissingData(test)"
   ]
  },
  {
   "cell_type": "code",
   "execution_count": 30,
   "metadata": {},
   "outputs": [],
   "source": [
    "def clearRare(columnname, limit = 1000):\n",
    "    # you may search for rare categories in train, train&test, or just test\n",
    "    #vc = pd.concat([train[columnname], test[columnname]], sort=False).value_counts()\n",
    "    vc = test[columnname].value_counts()\n",
    "    \n",
    "    common = vc > limit\n",
    "    common = set(common.index[common].values)\n",
    "    print(\"Set\", sum(vc <= limit), columnname, \"categories to 'other';\", end=\" \")\n",
    "    \n",
    "    train.loc[train[columnname].map(lambda x: x not in common), columnname] = 'other'\n",
    "    test.loc[test[columnname].map(lambda x: x not in common), columnname] = 'other'\n",
    "    print(\"now there are\", train[columnname].nunique(), \"categories in train\")"
   ]
  },
  {
   "cell_type": "code",
   "execution_count": 31,
   "metadata": {},
   "outputs": [
    {
     "name": "stdout",
     "output_type": "stream",
     "text": [
      "Set 52 device_browser categories to 'other'; now there are 11 categories in train\n",
      "Set 15 device_operatingSystem categories to 'other'; now there are 8 categories in train\n",
      "Set 162 geoNetwork_country categories to 'other'; now there are 47 categories in train\n",
      "Set 461 geoNetwork_city categories to 'other'; now there are 42 categories in train\n",
      "Set 67 geoNetwork_metro categories to 'other'; now there are 15 categories in train\n",
      "Set 15910 geoNetwork_networkDomain categories to 'other'; now there are 24 categories in train\n",
      "Set 235 geoNetwork_region categories to 'other'; now there are 34 categories in train\n",
      "Set 8 geoNetwork_subContinent categories to 'other'; now there are 16 categories in train\n",
      "Set 25 trafficSource_adContent categories to 'other'; now there are 2 categories in train\n",
      "Set 19 trafficSource_campaign categories to 'other'; now there are 4 categories in train\n",
      "Set 672 trafficSource_keyword categories to 'other'; now there are 6 categories in train\n",
      "Set 0 trafficSource_medium categories to 'other'; now there are 6 categories in train\n",
      "Set 1745 trafficSource_referralPath categories to 'other'; now there are 9 categories in train\n",
      "Set 180 trafficSource_source categories to 'other'; now there are 12 categories in train\n"
     ]
    }
   ],
   "source": [
    "###数量过少的数据无参考价值，统一归为others\n",
    "clearRare(\"device_browser\")\n",
    "clearRare(\"device_operatingSystem\")\n",
    "clearRare(\"geoNetwork_country\")\n",
    "clearRare(\"geoNetwork_city\")\n",
    "clearRare(\"geoNetwork_metro\")\n",
    "clearRare(\"geoNetwork_networkDomain\")\n",
    "clearRare(\"geoNetwork_region\")\n",
    "clearRare(\"geoNetwork_subContinent\")\n",
    "clearRare(\"trafficSource_adContent\")\n",
    "clearRare(\"trafficSource_campaign\")\n",
    "clearRare(\"trafficSource_keyword\")\n",
    "clearRare(\"trafficSource_medium\")\n",
    "clearRare(\"trafficSource_referralPath\")\n",
    "clearRare(\"trafficSource_source\")"
   ]
  },
  {
   "cell_type": "code",
   "execution_count": 32,
   "metadata": {},
   "outputs": [],
   "source": [
    "train.set_index(\"visitStartTime\", inplace=True)\n",
    "test.set_index(\"visitStartTime\", inplace=True)\n",
    "train.sort_index(inplace=True)\n",
    "test.sort_index(inplace=True)"
   ]
  },
  {
   "cell_type": "code",
   "execution_count": 33,
   "metadata": {},
   "outputs": [
    {
     "name": "stderr",
     "output_type": "stream",
     "text": [
      "/home/baitong/tensorflow/lib/python3.6/site-packages/ipykernel_launcher.py:2: FutureWarning: Sorting because non-concatenation axis is not aligned. A future version\n",
      "of pandas will change to not sort by default.\n",
      "\n",
      "To accept the future behavior, pass 'sort=False'.\n",
      "\n",
      "To retain the current behavior and silence the warning, pass 'sort=True'.\n",
      "\n",
      "  \n"
     ]
    }
   ],
   "source": [
    "###增加上一次会话和下一次会话的时间间隔，时间间隔越短说明用户购买商品欲望更强烈\n",
    "df = pd.concat([train, test])\n",
    "df.sort_values(['fullVisitorId', 'date'], ascending=True, inplace=True)\n",
    "df['prev_session'] = (df['date'] - df[['fullVisitorId', 'date']].groupby('fullVisitorId')['date'].shift(1)).astype(np.int64) // 1e9 // 60 // 60\n",
    "df['next_session'] = (df['date'] - df[['fullVisitorId', 'date']].groupby('fullVisitorId')['date'].shift(-1)).astype(np.int64) // 1e9 // 60 // 60\n",
    "df.sort_index(inplace=True)\n",
    "\n",
    "train = df[:len(train)]\n",
    "test = df[len(train):]"
   ]
  },
  {
   "cell_type": "code",
   "execution_count": 34,
   "metadata": {},
   "outputs": [],
   "source": [
    "##将缺失的0 转换为字符串格式\n",
    "str_feature = ['trafficSource_adContent','trafficSource_campaign','trafficSource_isTrueDirect',\n",
    "              'trafficSource_keyword','trafficSource_referralPath',\n",
    "              'device_browser','device_operatingSystem','geoNetwork_city',\n",
    "              'geoNetwork_continent','geoNetwork_metro','geoNetwork_networkDomain',\n",
    "              'geoNetwork_region','geoNetwork_subContinent','trafficSource_adwordsClickInfo.adNetworkType',\n",
    "              'trafficSource_adwordsClickInfo.isVideoAd','trafficSource_medium','trafficSource_adwordsClickInfo.slot']\n",
    "for df in [train, test]:\n",
    "    for col in str_feature:\n",
    "        df[col] = df[col].astype('str')"
   ]
  },
  {
   "cell_type": "code",
   "execution_count": 35,
   "metadata": {},
   "outputs": [],
   "source": [
    "##组合特征\n",
    "for df in [train, test]:\n",
    "    df['source_country'] = df['trafficSource_source'] + '_' + df['geoNetwork_country']\n",
    "    df['campaign_medium'] = df['trafficSource_campaign'] + '_' + df['trafficSource_medium']\n",
    "    df['browser_category'] = df['device_browser'] + '_' + df['device_deviceCategory']\n",
    "    df['browser_os'] = df['device_browser'] + '_' + df['device_operatingSystem']"
   ]
  },
  {
   "cell_type": "code",
   "execution_count": 36,
   "metadata": {},
   "outputs": [],
   "source": [
    "##组合特征\n",
    "for df in [train, test]:\n",
    "    df['device_deviceCategory_channelGrouping'] = df['device_deviceCategory'] + \"_\" + df['channelGrouping']\n",
    "    df['channelGrouping_browser'] = df['device_browser'] + \"_\" + df['channelGrouping']\n",
    "    df['channelGrouping_OS'] = df['device_operatingSystem'] + \"_\" + df['channelGrouping']\n",
    "    \n",
    "    for i in ['geoNetwork_city', 'geoNetwork_continent', 'geoNetwork_country','geoNetwork_metro', 'geoNetwork_networkDomain', 'geoNetwork_region','geoNetwork_subContinent']:\n",
    "        for j in ['device_browser','device_deviceCategory', 'device_operatingSystem', 'trafficSource_source']:\n",
    "            df[i + \"_\" + j] = df[i] + \"_\" + df[j]\n",
    "    \n",
    "    df['content_source'] = df['trafficSource_adContent'].astype(str) + \"_\" + df['source_country']\n",
    "    df['medium_source'] = df['trafficSource_medium'] + \"_\" + df['source_country']"
   ]
  },
  {
   "cell_type": "code",
   "execution_count": 37,
   "metadata": {},
   "outputs": [],
   "source": [
    "##针对用户增加点击浏览量均值特征，以及访问人数最大值特征\n",
    "for feature in [\"totals_hits\", \"totals_pageviews\"]:\n",
    "    info = pd.concat([train, test], sort=False).groupby(\"fullVisitorId\")[feature].mean()\n",
    "    train[\"usermean_\" + feature] = train.fullVisitorId.map(info)\n",
    "    test[\"usermean_\" + feature] = test.fullVisitorId.map(info)\n",
    "    \n",
    "for feature in [\"visitNumber\"]:\n",
    "    info = pd.concat([train, test], sort=False).groupby(\"fullVisitorId\")[feature].max()\n",
    "    train[\"usermax_\" + feature] = train.fullVisitorId.map(info)\n",
    "    test[\"usermax_\" + feature] = test.fullVisitorId.map(info)"
   ]
  },
  {
   "cell_type": "code",
   "execution_count": 38,
   "metadata": {},
   "outputs": [
    {
     "name": "stdout",
     "output_type": "stream",
     "text": [
      "cat_cols num:  64\n",
      "cat_cols:  ['browser', 'channelGrouping', 'device_browser', 'device_deviceCategory', 'device_operatingSystem', 'geoNetwork_city', 'geoNetwork_continent', 'geoNetwork_country', 'geoNetwork_metro', 'geoNetwork_networkDomain', 'geoNetwork_region', 'geoNetwork_subContinent', 'totals_bounces', 'totals_newVisits', 'totals_transactionRevenue', 'trafficSource_adContent', 'trafficSource_adwordsClickInfo.adNetworkType', 'trafficSource_adwordsClickInfo.isVideoAd', 'trafficSource_adwordsClickInfo.page', 'trafficSource_adwordsClickInfo.slot', 'trafficSource_campaign', 'trafficSource_isTrueDirect', 'trafficSource_keyword', 'trafficSource_medium', 'trafficSource_referralPath', 'trafficSource_source', 'weekday', 'source_country', 'campaign_medium', 'browser_category', 'browser_os', 'device_deviceCategory_channelGrouping', 'channelGrouping_browser', 'channelGrouping_OS', 'geoNetwork_city_device_browser', 'geoNetwork_city_device_deviceCategory', 'geoNetwork_city_device_operatingSystem', 'geoNetwork_city_trafficSource_source', 'geoNetwork_continent_device_browser', 'geoNetwork_continent_device_deviceCategory', 'geoNetwork_continent_device_operatingSystem', 'geoNetwork_continent_trafficSource_source', 'geoNetwork_country_device_browser', 'geoNetwork_country_device_deviceCategory', 'geoNetwork_country_device_operatingSystem', 'geoNetwork_country_trafficSource_source', 'geoNetwork_metro_device_browser', 'geoNetwork_metro_device_deviceCategory', 'geoNetwork_metro_device_operatingSystem', 'geoNetwork_metro_trafficSource_source', 'geoNetwork_networkDomain_device_browser', 'geoNetwork_networkDomain_device_deviceCategory', 'geoNetwork_networkDomain_device_operatingSystem', 'geoNetwork_networkDomain_trafficSource_source', 'geoNetwork_region_device_browser', 'geoNetwork_region_device_deviceCategory', 'geoNetwork_region_device_operatingSystem', 'geoNetwork_region_trafficSource_source', 'geoNetwork_subContinent_device_browser', 'geoNetwork_subContinent_device_deviceCategory', 'geoNetwork_subContinent_device_operatingSystem', 'geoNetwork_subContinent_trafficSource_source', 'content_source', 'medium_source']\n",
      "real_cols num:  27\n",
      "real_cols:  ['channel_Social', 'channel_referral', 'd_Android', 'd_Linux', 'd_Macintosh', 'd_Windows Phone', 'd_iOS', 'd_isdesktop', 'depth', 'device_isMobile', 'hits_ratio', 'hours', 'isChrome', 'isWeekend', 'm_referral', 's_ismall', 's_isyoutube', 'single_visit', 'time', 'totals_hits', 'totals_pageviews', 'visitNumber', 'prev_session', 'next_session', 'usermean_totals_hits', 'usermean_totals_pageviews', 'usermax_visitNumber']\n"
     ]
    }
   ],
   "source": [
    "excluded = ['date', 'fullVisitorId', 'sessionId', 'visitId', 'visitStartTime', \n",
    "            'month', 'day','trafficSource_adwordsClickInfo.gclId']\n",
    "\n",
    "cat_cols = [f for f in train.columns if (train[f].dtype == 'object' and f not in excluded)]\n",
    "real_cols = [f for f in train.columns if (not f in cat_cols and f not in excluded)]\n",
    "print(\"cat_cols num: \",len(cat_cols))\n",
    "print(\"cat_cols: \",cat_cols)\n",
    "print(\"real_cols num: \",len(real_cols))\n",
    "print(\"real_cols: \",real_cols)"
   ]
  },
  {
   "cell_type": "code",
   "execution_count": 39,
   "metadata": {},
   "outputs": [],
   "source": [
    "from sklearn.preprocessing import LabelEncoder\n",
    "for col in cat_cols:\n",
    "    lbl = LabelEncoder()\n",
    "    lbl.fit(list(train[col].values.astype('str')) + list(test[col].values.astype('str')))\n",
    "    train[col] = lbl.transform(list(train[col].values.astype('str')))\n",
    "    test[col] = lbl.transform(list(test[col].values.astype('str')))"
   ]
  },
  {
   "cell_type": "code",
   "execution_count": 40,
   "metadata": {},
   "outputs": [],
   "source": [
    "train_features = real_cols + cat_cols "
   ]
  },
  {
   "cell_type": "code",
   "execution_count": 41,
   "metadata": {},
   "outputs": [],
   "source": [
    "# ##计算单个用户会话总数\n",
    "# train[\"sess_count\"]=1;\n",
    "# train_sess_num = train[['fullVisitorId', 'sess_count']].groupby('fullVisitorId').sum()\n",
    "# test[\"sess_count\"]=1;\n",
    "# test_sess_num = test[['fullVisitorId', 'sess_count']].groupby('fullVisitorId').sum()"
   ]
  },
  {
   "cell_type": "code",
   "execution_count": 42,
   "metadata": {},
   "outputs": [],
   "source": [
    "# ###将大于5次的会话数量限制为5 （大于5次数据过少）\n",
    "# train_sess_num['sess_count']=train_sess_num['sess_count'].apply(lambda x: 5 if x>5 else x)\n",
    "# test_sess_num['sess_count']=test_sess_num['sess_count'].apply(lambda x: 5 if x>5 else x)"
   ]
  },
  {
   "cell_type": "code",
   "execution_count": 43,
   "metadata": {},
   "outputs": [
    {
     "data": {
      "text/plain": [
       "1323730"
      ]
     },
     "execution_count": 43,
     "metadata": {},
     "output_type": "execute_result"
    }
   ],
   "source": [
    "len(train_sess_num)"
   ]
  },
  {
   "cell_type": "code",
   "execution_count": 44,
   "metadata": {},
   "outputs": [],
   "source": [
    "# ###采用众数合并类型特征\n",
    "# from scipy import stats\n",
    "# train_agg = train[train_features+['fullVisitorId']].groupby('fullVisitorId').agg(lambda x: stats.mode(x)[0][0])"
   ]
  },
  {
   "cell_type": "code",
   "execution_count": 45,
   "metadata": {},
   "outputs": [
    {
     "data": {
      "text/plain": [
       "1323730"
      ]
     },
     "execution_count": 45,
     "metadata": {},
     "output_type": "execute_result"
    }
   ],
   "source": [
    "# len(train_agg)"
   ]
  },
  {
   "cell_type": "code",
   "execution_count": 81,
   "metadata": {},
   "outputs": [
    {
     "name": "stderr",
     "output_type": "stream",
     "text": [
      "/home/baitong/tensorflow/lib/python3.6/site-packages/ipykernel_launcher.py:3: FutureWarning: Comparing Series of datetimes with 'datetime.date'.  Currently, the\n",
      "'datetime.date' is coerced to a datetime. In the future pandas will\n",
      "not coerce, and a TypeError will be raised. To retain the current\n",
      "behavior, convert the 'datetime.date' to a datetime with\n",
      "'pd.Timestamp'.\n",
      "  This is separate from the ipykernel package so we can avoid doing imports until\n",
      "/home/baitong/tensorflow/lib/python3.6/site-packages/ipykernel_launcher.py:4: FutureWarning: Comparing Series of datetimes with 'datetime.date'.  Currently, the\n",
      "'datetime.date' is coerced to a datetime. In the future pandas will\n",
      "not coerce, and a TypeError will be raised. To retain the current\n",
      "behavior, convert the 'datetime.date' to a datetime with\n",
      "'pd.Timestamp'.\n",
      "  after removing the cwd from sys.path.\n",
      "/home/baitong/tensorflow/lib/python3.6/site-packages/ipykernel_launcher.py:6: FutureWarning: Comparing Series of datetimes with 'datetime.date'.  Currently, the\n",
      "'datetime.date' is coerced to a datetime. In the future pandas will\n",
      "not coerce, and a TypeError will be raised. To retain the current\n",
      "behavior, convert the 'datetime.date' to a datetime with\n",
      "'pd.Timestamp'.\n",
      "  \n",
      "/home/baitong/tensorflow/lib/python3.6/site-packages/ipykernel_launcher.py:7: FutureWarning: Comparing Series of datetimes with 'datetime.date'.  Currently, the\n",
      "'datetime.date' is coerced to a datetime. In the future pandas will\n",
      "not coerce, and a TypeError will be raised. To retain the current\n",
      "behavior, convert the 'datetime.date' to a datetime with\n",
      "'pd.Timestamp'.\n",
      "  import sys\n"
     ]
    }
   ],
   "source": [
    "import datetime\n",
    "# train['date'] = train['date'].apply(lambda x: datetime.date(int(str(x)[:4]), int(str(x)[4:6]), int(str(x)[6:])))\n",
    "dev_df = train[train['date']<=datetime.date(2017,10,15)]\n",
    "dev_df = dev_df[dev_df['date']>=datetime.date(2017,5,1)]\n",
    "\n",
    "val_df = train[train['date']>=datetime.date(2017,12,1)]\n",
    "val_df = val_df[val_df['date']<=datetime.date(2018,1,31)]"
   ]
  },
  {
   "cell_type": "code",
   "execution_count": 82,
   "metadata": {},
   "outputs": [
    {
     "data": {
      "text/plain": [
       "(422964, 177561)"
      ]
     },
     "execution_count": 82,
     "metadata": {},
     "output_type": "execute_result"
    }
   ],
   "source": [
    "len(dev_df),len(val_df)"
   ]
  },
  {
   "cell_type": "code",
   "execution_count": 83,
   "metadata": {},
   "outputs": [
    {
     "name": "stdout",
     "output_type": "stream",
     "text": [
      "Number of unique visitors in dev_df set :  327994  out of rows :  422964\n",
      "Number of unique visitors in val_df set :  141776  out of rows :  177561\n"
     ]
    }
   ],
   "source": [
    "print(\"Number of unique visitors in dev_df set : \",dev_df.fullVisitorId.nunique(), \" out of rows : \",dev_df.shape[0])\n",
    "print(\"Number of unique visitors in val_df set : \",val_df.fullVisitorId.nunique(), \" out of rows : \",val_df.shape[0])"
   ]
  },
  {
   "cell_type": "code",
   "execution_count": 98,
   "metadata": {},
   "outputs": [],
   "source": [
    "val_df[\"isIdhavetest\"] = val_df['fullVisitorId'].isin(dev_df['fullVisitorId'])\n",
    "# val_df[\"isIdhavetest\"].value_counts()\n"
   ]
  },
  {
   "cell_type": "code",
   "execution_count": 85,
   "metadata": {},
   "outputs": [],
   "source": [
    "# dev_df[\"isIdhavetest\"] = dev_df['fullVisitorId'].isin(val_df['fullVisitorId'])\n",
    "# dev_df[\"isIdhavetest\"].value_counts()"
   ]
  },
  {
   "cell_type": "code",
   "execution_count": 99,
   "metadata": {},
   "outputs": [
    {
     "data": {
      "text/plain": [
       "5787"
      ]
     },
     "execution_count": 99,
     "metadata": {},
     "output_type": "execute_result"
    }
   ],
   "source": [
    "val_df = val_df[val_df[\"isIdhavetest\"]==True]\n",
    "len(val_df)"
   ]
  },
  {
   "cell_type": "code",
   "execution_count": 87,
   "metadata": {},
   "outputs": [],
   "source": [
    "##计算单个用户会话总数\n",
    "dev_df[\"sess_count\"]=1;\n",
    "train_sess_num = dev_df[['fullVisitorId', 'sess_count']].groupby('fullVisitorId').sum()\n",
    "# test[\"sess_count\"]=1;\n",
    "# test_sess_num = test[['fullVisitorId', 'sess_count']].groupby('fullVisitorId').sum()"
   ]
  },
  {
   "cell_type": "code",
   "execution_count": null,
   "metadata": {},
   "outputs": [],
   "source": []
  },
  {
   "cell_type": "code",
   "execution_count": 116,
   "metadata": {},
   "outputs": [],
   "source": [
    "# ###采用众数合并类型特征\n",
    "# %%time\n",
    "from scipy import stats\n",
    "dev_agg = dev_df[train_features+['fullVisitorId']].groupby('fullVisitorId').mean()"
   ]
  },
  {
   "cell_type": "code",
   "execution_count": 117,
   "metadata": {},
   "outputs": [
    {
     "data": {
      "text/plain": [
       "327994"
      ]
     },
     "execution_count": 117,
     "metadata": {},
     "output_type": "execute_result"
    }
   ],
   "source": [
    "len(dev_agg)"
   ]
  },
  {
   "cell_type": "code",
   "execution_count": 118,
   "metadata": {},
   "outputs": [],
   "source": [
    "train_fulldata = pd.concat([dev_agg,train_sess_num], axis=1).astype(float)"
   ]
  },
  {
   "cell_type": "code",
   "execution_count": 119,
   "metadata": {},
   "outputs": [
    {
     "data": {
      "text/plain": [
       "2432"
      ]
     },
     "execution_count": 119,
     "metadata": {},
     "output_type": "execute_result"
    }
   ],
   "source": [
    "val_agg = val_df[train_features+['fullVisitorId']].groupby('fullVisitorId').mean()\n",
    "len(val_agg)"
   ]
  },
  {
   "cell_type": "code",
   "execution_count": 128,
   "metadata": {},
   "outputs": [],
   "source": [
    "dev_agg.sort_index(inplace=True)\n",
    "val_agg.sort_index(inplace=True)"
   ]
  },
  {
   "cell_type": "code",
   "execution_count": 129,
   "metadata": {},
   "outputs": [
    {
     "data": {
      "text/plain": [
       "False    325562\n",
       "True       2432\n",
       "Name: isIdhavetest, dtype: int64"
      ]
     },
     "execution_count": 129,
     "metadata": {},
     "output_type": "execute_result"
    }
   ],
   "source": [
    "dev_agg[\"isIdhavetest\"]= dev_agg.index.isin(val_agg.index)\n",
    "dev_agg[\"isIdhavetest\"].value_counts()\n",
    "# dev_df.index\n"
   ]
  },
  {
   "cell_type": "code",
   "execution_count": 132,
   "metadata": {},
   "outputs": [],
   "source": [
    "dev_agg['target'] = 0\n",
    "tmp1 =pd.DataFrame()\n",
    "tmp2 = pd.DataFrame()\n",
    "tmp1['target'] = dev_agg['target'][dev_agg[\"isIdhavetest\"]==True] \n",
    "tmp2['target'] = dev_agg['target'][dev_agg[\"isIdhavetest\"]==False] \n",
    "tmp1['target'] = val_agg['totals_transactionRevenue']\n",
    "tmp2['target'] = 0"
   ]
  },
  {
   "cell_type": "code",
   "execution_count": 133,
   "metadata": {},
   "outputs": [
    {
     "data": {
      "text/plain": [
       "(2432, 325562)"
      ]
     },
     "execution_count": 133,
     "metadata": {},
     "output_type": "execute_result"
    }
   ],
   "source": [
    "len(tmp1),len(tmp2)"
   ]
  },
  {
   "cell_type": "code",
   "execution_count": 134,
   "metadata": {},
   "outputs": [
    {
     "data": {
      "text/plain": [
       "327994"
      ]
     },
     "execution_count": 134,
     "metadata": {},
     "output_type": "execute_result"
    }
   ],
   "source": [
    "tmp = pd.concat([tmp1, tmp2])\n",
    "len(tmp)"
   ]
  },
  {
   "cell_type": "code",
   "execution_count": 136,
   "metadata": {},
   "outputs": [],
   "source": [
    "tmp.sort_index(inplace=True)"
   ]
  },
  {
   "cell_type": "code",
   "execution_count": 142,
   "metadata": {},
   "outputs": [],
   "source": [
    "dev_agg['target'] = tmp['target']"
   ]
  },
  {
   "cell_type": "code",
   "execution_count": 144,
   "metadata": {},
   "outputs": [],
   "source": [
    "# dev_agg['target'].value_counts()"
   ]
  },
  {
   "cell_type": "code",
   "execution_count": null,
   "metadata": {},
   "outputs": [],
   "source": []
  }
 ],
 "metadata": {
  "kernelspec": {
   "display_name": "tensorflow",
   "language": "python",
   "name": "tensorflow"
  },
  "language_info": {
   "codemirror_mode": {
    "name": "ipython",
    "version": 3
   },
   "file_extension": ".py",
   "mimetype": "text/x-python",
   "name": "python",
   "nbconvert_exporter": "python",
   "pygments_lexer": "ipython3",
   "version": "3.6.4"
  }
 },
 "nbformat": 4,
 "nbformat_minor": 2
}
