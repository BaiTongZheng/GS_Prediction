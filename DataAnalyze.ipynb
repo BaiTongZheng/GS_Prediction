{
 "cells": [
  {
   "cell_type": "code",
   "execution_count": 1,
   "metadata": {},
   "outputs": [],
   "source": [
    "from pandas.io.json import json_normalize\n",
    "import pandas as pd\n",
    "import json\n",
    "import os\n",
    "import matplotlib.pyplot as plt\n",
    "import numpy as np\n",
    "import plotly.graph_objs as go\n",
    "from plotly import tools\n",
    "import plotly.plotly as py\n",
    "import sklearn.preprocessing as preprocessing\n",
    "def load_df(csv_path='/home/baitong/pywork/RevenuePrediction/all/train.csv', nrows=None):\n",
    "    JSON_COLUMNS = ['device', 'geoNetwork', 'totals', 'trafficSource']\n",
    "    \n",
    "    df = pd.read_csv(csv_path, \n",
    "                     converters={column: json.loads for column in JSON_COLUMNS}, \n",
    "                     dtype={'fullVisitorId': 'str'}, # Important!!\n",
    "                     nrows=nrows)\n",
    "#     print(df.head())\n",
    "    for column in JSON_COLUMNS:\n",
    "        column_as_df = json_normalize(df[column])\n",
    "        column_as_df.columns = [f\"{column}.{subcolumn}\" for subcolumn in column_as_df.columns]\n",
    "        df = df.drop(column, axis=1).merge(column_as_df, right_index=True, left_index=True)\n",
    "    print(f\"Loaded {os.path.basename(csv_path)}. Shape: {df.shape}\")\n",
    "    return df"
   ]
  },
  {
   "cell_type": "code",
   "execution_count": 2,
   "metadata": {},
   "outputs": [
    {
     "name": "stdout",
     "output_type": "stream",
     "text": [
      "Loaded train.csv. Shape: (903653, 55)\n",
      "Loaded test.csv. Shape: (804684, 53)\n",
      "CPU times: user 4min, sys: 4.38 s, total: 4min 4s\n",
      "Wall time: 4min 4s\n"
     ]
    }
   ],
   "source": [
    "%%time\n",
    "##读取数据\n",
    "train_df = load_df()\n",
    "test_df = load_df(\"/home/baitong/pywork/RevenuePrediction/all/test.csv\")"
   ]
  },
  {
   "cell_type": "code",
   "execution_count": 3,
   "metadata": {},
   "outputs": [
    {
     "data": {
      "text/plain": [
       "['socialEngagementType',\n",
       " 'device.browserSize',\n",
       " 'device.browserVersion',\n",
       " 'device.flashVersion',\n",
       " 'device.language',\n",
       " 'device.mobileDeviceBranding',\n",
       " 'device.mobileDeviceInfo',\n",
       " 'device.mobileDeviceMarketingName',\n",
       " 'device.mobileDeviceModel',\n",
       " 'device.mobileInputSelector',\n",
       " 'device.operatingSystemVersion',\n",
       " 'device.screenColors',\n",
       " 'device.screenResolution',\n",
       " 'geoNetwork.cityId',\n",
       " 'geoNetwork.latitude',\n",
       " 'geoNetwork.longitude',\n",
       " 'geoNetwork.networkLocation',\n",
       " 'totals.visits',\n",
       " 'trafficSource.adwordsClickInfo.criteriaParameters']"
      ]
     },
     "execution_count": 3,
     "metadata": {},
     "output_type": "execute_result"
    }
   ],
   "source": [
    "#转换数据为浮点数\n",
    "train_df[\"totals.transactionRevenue\"] = train_df[\"totals.transactionRevenue\"].astype('float')\n",
    "#获取不变的常量列，模型无法在常量数据计学到东西，数据与处理时需要drop\n",
    "const_cols = [c for c in train_df.columns if train_df[c].nunique(dropna=False)==1 ]\n",
    "# const_cols\n",
    "# train_df.groupby(['Sex'])['Survived'].count()"
   ]
  },
  {
   "cell_type": "code",
   "execution_count": 5,
   "metadata": {},
   "outputs": [
    {
     "name": "stdout",
     "output_type": "stream",
     "text": [
      "This is the format of your plot grid:\n",
      "[ (1,1) x1,y1 ]  [ (1,2) x2,y2 ]  [ (1,3) x3,y3 ]\n",
      "[ (2,1) x4,y4 ]  [ (2,2) x5,y5 ]  [ (2,3) x6,y6 ]\n",
      "[ (3,1) x7,y7 ]  [ (3,2) x8,y8 ]  [ (3,3) x9,y9 ]\n",
      "\n",
      "High five! You successfully sent some data to your account on plotly. View your plot in your browser at https://plot.ly/~BaiTong/0 or inside your plot.ly account where it is named 'device-plots'\n"
     ]
    },
    {
     "data": {
      "text/html": [
       "<iframe id=\"igraph\" scrolling=\"no\" style=\"border:none;\" seamless=\"seamless\" src=\"https://plot.ly/~BaiTong/0.embed\" height=\"1200px\" width=\"1200px\"></iframe>"
      ],
      "text/plain": [
       "<plotly.tools.PlotlyDisplay object>"
      ]
     },
     "execution_count": 5,
     "metadata": {},
     "output_type": "execute_result"
    }
   ],
   "source": [
    "def horizontal_bar_chart(cnt_srs, color):\n",
    "    trace = go.Bar(\n",
    "        y=cnt_srs.index[::-1],\n",
    "        x=cnt_srs.values[::-1],\n",
    "        showlegend=False,\n",
    "        orientation = 'h',\n",
    "        marker=dict(\n",
    "            color=color,\n",
    "        ),\n",
    "    )\n",
    "    return trace\n",
    "\n",
    "# Device Browser\n",
    "cnt_srs = train_df.groupby('device.browser')['totals.transactionRevenue'].agg(['size', 'count', 'mean'])\n",
    "cnt_srs.columns = [\"count\", \"count of non-zero revenue\", \"mean\"]\n",
    "cnt_srs = cnt_srs.sort_values(by=\"count\", ascending=False)\n",
    "trace1 = horizontal_bar_chart(cnt_srs[\"count\"].head(10), 'rgba(50, 171, 96, 0.6)')\n",
    "trace2 = horizontal_bar_chart(cnt_srs[\"count of non-zero revenue\"].head(10), 'rgba(50, 171, 96, 0.6)')\n",
    "trace3 = horizontal_bar_chart(cnt_srs[\"mean\"].head(10), 'rgba(50, 171, 96, 0.6)')\n",
    "\n",
    "# Device Category\n",
    "cnt_srs = train_df.groupby('device.deviceCategory')['totals.transactionRevenue'].agg(['size', 'count', 'mean'])\n",
    "cnt_srs.columns = [\"count\", \"count of non-zero revenue\", \"mean\"]\n",
    "cnt_srs = cnt_srs.sort_values(by=\"count\", ascending=False)\n",
    "trace4 = horizontal_bar_chart(cnt_srs[\"count\"].head(10), 'rgba(71, 58, 131, 0.8)')\n",
    "trace5 = horizontal_bar_chart(cnt_srs[\"count of non-zero revenue\"].head(10), 'rgba(71, 58, 131, 0.8)')\n",
    "trace6 = horizontal_bar_chart(cnt_srs[\"mean\"].head(10), 'rgba(71, 58, 131, 0.8)')\n",
    "\n",
    "# Operating system\n",
    "cnt_srs = train_df.groupby('device.operatingSystem')['totals.transactionRevenue'].agg(['size', 'count', 'mean'])\n",
    "cnt_srs.columns = [\"count\", \"count of non-zero revenue\", \"mean\"]\n",
    "cnt_srs = cnt_srs.sort_values(by=\"count\", ascending=False)\n",
    "trace7 = horizontal_bar_chart(cnt_srs[\"count\"].head(10), 'rgba(246, 78, 139, 0.6)')\n",
    "trace8 = horizontal_bar_chart(cnt_srs[\"count of non-zero revenue\"].head(10),'rgba(246, 78, 139, 0.6)')\n",
    "trace9 = horizontal_bar_chart(cnt_srs[\"mean\"].head(10),'rgba(246, 78, 139, 0.6)')\n",
    "\n",
    "# Creating two subplots\n",
    "fig = tools.make_subplots(rows=3, cols=3, vertical_spacing=0.04, \n",
    "                          subplot_titles=[\"Device Browser - Count\", \"Device Browser - Non-zero Revenue Count\", \"Device Browser - Mean Revenue\",\n",
    "                                          \"Device Category - Count\",  \"Device Category - Non-zero Revenue Count\", \"Device Category - Mean Revenue\", \n",
    "                                          \"Device OS - Count\", \"Device OS - Non-zero Revenue Count\", \"Device OS - Mean Revenue\"])\n",
    "\n",
    "fig.append_trace(trace1, 1, 1)\n",
    "fig.append_trace(trace2, 1, 2)\n",
    "fig.append_trace(trace3, 1, 3)\n",
    "fig.append_trace(trace4, 2, 1)\n",
    "fig.append_trace(trace5, 2, 2)\n",
    "fig.append_trace(trace6, 2, 3)\n",
    "fig.append_trace(trace7, 3, 1)\n",
    "fig.append_trace(trace8, 3, 2)\n",
    "fig.append_trace(trace9, 3, 3)\n",
    "\n",
    "fig['layout'].update(height=1200, width=1200, paper_bgcolor='rgb(233,233,233)', title=\"Device Plots\")\n",
    "py.iplot(fig, filename='device-plots')"
   ]
  },
  {
   "cell_type": "code",
   "execution_count": 6,
   "metadata": {},
   "outputs": [
    {
     "name": "stdout",
     "output_type": "stream",
     "text": [
      "This is the format of your plot grid:\n",
      "[ (1,1) x1,y1 ]\n",
      "[ (2,1) x2,y2 ]\n",
      "\n"
     ]
    },
    {
     "data": {
      "text/html": [
       "<iframe id=\"igraph\" scrolling=\"no\" style=\"border:none;\" seamless=\"seamless\" src=\"https://plot.ly/~BaiTong/2.embed\" height=\"800px\" width=\"800px\"></iframe>"
      ],
      "text/plain": [
       "<plotly.tools.PlotlyDisplay object>"
      ]
     },
     "execution_count": 6,
     "metadata": {},
     "output_type": "execute_result"
    }
   ],
   "source": [
    "import datetime\n",
    "\n",
    "def scatter_plot(cnt_srs, color):\n",
    "    trace = go.Scatter(\n",
    "        x=cnt_srs.index[::-1],\n",
    "        y=cnt_srs.values[::-1],\n",
    "        showlegend=False,\n",
    "        marker=dict(\n",
    "            color=color,\n",
    "        ),\n",
    "    )\n",
    "    return trace\n",
    "\n",
    "train_df['date'] = train_df['date'].apply(lambda x: datetime.date(int(str(x)[:4]), int(str(x)[4:6]), int(str(x)[6:])))\n",
    "cnt_srs = train_df.groupby('date')['totals.transactionRevenue'].agg(['size', 'count'])\n",
    "cnt_srs.columns = [\"count\", \"count of non-zero revenue\"]\n",
    "cnt_srs = cnt_srs.sort_index()\n",
    "#cnt_srs.index = cnt_srs.index.astype('str')\n",
    "trace1 = scatter_plot(cnt_srs[\"count\"], 'red')\n",
    "trace2 = scatter_plot(cnt_srs[\"count of non-zero revenue\"], 'blue')\n",
    "\n",
    "fig = tools.make_subplots(rows=2, cols=1, vertical_spacing=0.08,\n",
    "                          subplot_titles=[\"Date - Count\", \"Date - Non-zero Revenue count\"])\n",
    "fig.append_trace(trace1, 1, 1)\n",
    "fig.append_trace(trace2, 2, 1)\n",
    "fig['layout'].update(height=800, width=800, paper_bgcolor='rgb(233,233,233)', title=\"Date Plots\")\n",
    "py.iplot(fig, filename='date-plots')"
   ]
  },
  {
   "cell_type": "code",
   "execution_count": 8,
   "metadata": {},
   "outputs": [
    {
     "name": "stdout",
     "output_type": "stream",
     "text": [
      "This is the format of your plot grid:\n",
      "[ (1,1) x1,y1 ]  [ (1,2) x2,y2 ]  [ (1,3) x3,y3 ]\n",
      "[ (2,1) x4,y4 ]  [ (2,2) x5,y5 ]  [ (2,3) x6,y6 ]\n",
      "[ (3,1) x7,y7 ]  [ (3,2) x8,y8 ]  [ (3,3) x9,y9 ]\n",
      "\n"
     ]
    },
    {
     "data": {
      "text/html": [
       "<iframe id=\"igraph\" scrolling=\"no\" style=\"border:none;\" seamless=\"seamless\" src=\"https://plot.ly/~BaiTong/6.embed\" height=\"1500px\" width=\"1200px\"></iframe>"
      ],
      "text/plain": [
       "<plotly.tools.PlotlyDisplay object>"
      ]
     },
     "execution_count": 8,
     "metadata": {},
     "output_type": "execute_result"
    }
   ],
   "source": [
    "# Continent\n",
    "cnt_srs = train_df.groupby('geoNetwork.continent')['totals.transactionRevenue'].agg(['size', 'count', 'mean'])\n",
    "cnt_srs.columns = [\"count\", \"count of non-zero revenue\", \"mean\"]\n",
    "cnt_srs = cnt_srs.sort_values(by=\"count\", ascending=False)\n",
    "trace1 = horizontal_bar_chart(cnt_srs[\"count\"].head(10), 'rgba(58, 71, 80, 0.6)')\n",
    "trace2 = horizontal_bar_chart(cnt_srs[\"count of non-zero revenue\"].head(10), 'rgba(58, 71, 80, 0.6)')\n",
    "trace3 = horizontal_bar_chart(cnt_srs[\"mean\"].head(10), 'rgba(58, 71, 80, 0.6)')\n",
    "\n",
    "# Sub-continent\n",
    "cnt_srs = train_df.groupby('geoNetwork.subContinent')['totals.transactionRevenue'].agg(['size', 'count', 'mean'])\n",
    "cnt_srs.columns = [\"count\", \"count of non-zero revenue\", \"mean\"]\n",
    "cnt_srs = cnt_srs.sort_values(by=\"count\", ascending=False)\n",
    "trace4 = horizontal_bar_chart(cnt_srs[\"count\"], 'orange')\n",
    "trace5 = horizontal_bar_chart(cnt_srs[\"count of non-zero revenue\"], 'orange')\n",
    "trace6 = horizontal_bar_chart(cnt_srs[\"mean\"], 'orange')\n",
    "\n",
    "# Network domain\n",
    "cnt_srs = train_df.groupby('geoNetwork.networkDomain')['totals.transactionRevenue'].agg(['size', 'count', 'mean'])\n",
    "cnt_srs.columns = [\"count\", \"count of non-zero revenue\", \"mean\"]\n",
    "cnt_srs = cnt_srs.sort_values(by=\"count\", ascending=False)\n",
    "trace7 = horizontal_bar_chart(cnt_srs[\"count\"].head(10), 'blue')\n",
    "trace8 = horizontal_bar_chart(cnt_srs[\"count of non-zero revenue\"].head(10), 'blue')\n",
    "trace9 = horizontal_bar_chart(cnt_srs[\"mean\"].head(10), 'blue')\n",
    "\n",
    "# Creating two subplots\n",
    "fig = tools.make_subplots(rows=3, cols=3, vertical_spacing=0.08, horizontal_spacing=0.15, \n",
    "                          subplot_titles=[\"Continent - Count\", \"Continent - Non-zero Revenue Count\", \"Continent - Mean Revenue\",\n",
    "                                          \"Sub Continent - Count\",  \"Sub Continent - Non-zero Revenue Count\", \"Sub Continent - Mean Revenue\",\n",
    "                                          \"Network Domain - Count\", \"Network Domain - Non-zero Revenue Count\", \"Network Domain - Mean Revenue\"])\n",
    "\n",
    "fig.append_trace(trace1, 1, 1)\n",
    "fig.append_trace(trace2, 1, 2)\n",
    "fig.append_trace(trace3, 1, 3)\n",
    "fig.append_trace(trace4, 2, 1)\n",
    "fig.append_trace(trace5, 2, 2)\n",
    "fig.append_trace(trace6, 2, 3)\n",
    "fig.append_trace(trace7, 3, 1)\n",
    "fig.append_trace(trace8, 3, 2)\n",
    "fig.append_trace(trace9, 3, 3)\n",
    "\n",
    "fig['layout'].update(height=1500, width=1200, paper_bgcolor='rgb(233,233,233)', title=\"Geography Plots\")\n",
    "py.iplot(fig, filename='geo-plots')"
   ]
  },
  {
   "cell_type": "code",
   "execution_count": 9,
   "metadata": {},
   "outputs": [
    {
     "name": "stdout",
     "output_type": "stream",
     "text": [
      "This is the format of your plot grid:\n",
      "[ (1,1) x1,y1 ]  [ (1,2) x2,y2 ]  [ (1,3) x3,y3 ]\n",
      "[ (2,1) x4,y4 ]  [ (2,2) x5,y5 ]  [ (2,3) x6,y6 ]\n",
      "\n"
     ]
    },
    {
     "data": {
      "text/html": [
       "<iframe id=\"igraph\" scrolling=\"no\" style=\"border:none;\" seamless=\"seamless\" src=\"https://plot.ly/~BaiTong/8.embed\" height=\"1000px\" width=\"1200px\"></iframe>"
      ],
      "text/plain": [
       "<plotly.tools.PlotlyDisplay object>"
      ]
     },
     "execution_count": 9,
     "metadata": {},
     "output_type": "execute_result"
    }
   ],
   "source": [
    "# Continent\n",
    "cnt_srs = train_df.groupby('trafficSource.source')['totals.transactionRevenue'].agg(['size', 'count', 'mean'])\n",
    "cnt_srs.columns = [\"count\", \"count of non-zero revenue\", \"mean\"]\n",
    "cnt_srs = cnt_srs.sort_values(by=\"count\", ascending=False)\n",
    "trace1 = horizontal_bar_chart(cnt_srs[\"count\"].head(10), 'green')\n",
    "trace2 = horizontal_bar_chart(cnt_srs[\"count of non-zero revenue\"].head(10), 'green')\n",
    "trace3 = horizontal_bar_chart(cnt_srs[\"mean\"].head(10), 'green')\n",
    "\n",
    "# Sub-continent\n",
    "cnt_srs = train_df.groupby('trafficSource.medium')['totals.transactionRevenue'].agg(['size', 'count', 'mean'])\n",
    "cnt_srs.columns = [\"count\", \"count of non-zero revenue\", \"mean\"]\n",
    "cnt_srs = cnt_srs.sort_values(by=\"count\", ascending=False)\n",
    "trace4 = horizontal_bar_chart(cnt_srs[\"count\"], 'purple')\n",
    "trace5 = horizontal_bar_chart(cnt_srs[\"count of non-zero revenue\"], 'purple')\n",
    "trace6 = horizontal_bar_chart(cnt_srs[\"mean\"], 'purple')\n",
    "\n",
    "# Creating two subplots\n",
    "fig = tools.make_subplots(rows=2, cols=3, vertical_spacing=0.08, horizontal_spacing=0.15, \n",
    "                          subplot_titles=[\"Traffic Source - Count\", \"Traffic Source - Non-zero Revenue Count\", \"Traffic Source - Mean Revenue\",\n",
    "                                          \"Traffic Source Medium - Count\",  \"Traffic Source Medium - Non-zero Revenue Count\", \"Traffic Source Medium - Mean Revenue\"\n",
    "                                          ])\n",
    "\n",
    "fig.append_trace(trace1, 1, 1)\n",
    "fig.append_trace(trace2, 1, 2)\n",
    "fig.append_trace(trace3, 1, 3)\n",
    "fig.append_trace(trace4, 2, 1)\n",
    "fig.append_trace(trace5, 2, 2)\n",
    "fig.append_trace(trace6, 2, 3)\n",
    "\n",
    "fig['layout'].update(height=1000, width=1200, paper_bgcolor='rgb(233,233,233)', title=\"Traffic Source Plots\")\n",
    "py.iplot(fig, filename='traffic-source-plots')"
   ]
  },
  {
   "cell_type": "code",
   "execution_count": 10,
   "metadata": {},
   "outputs": [
    {
     "name": "stdout",
     "output_type": "stream",
     "text": [
      "Variables not in test but in train :  {'trafficSource.campaignCode', 'totals.transactionRevenue'}\n"
     ]
    }
   ],
   "source": [
    "#显示在训练集而不在测试集的列（显示无用特征）\n",
    "print(\"Variables not in test but in train : \", set(train_df.columns).difference(set(test_df.columns)))"
   ]
  },
  {
   "cell_type": "code",
   "execution_count": 11,
   "metadata": {},
   "outputs": [],
   "source": [
    "#去除无用列\n",
    "cols_to_drop = const_cols + ['sessionId']\n",
    "train_df = train_df.drop(cols_to_drop + [\"trafficSource.campaignCode\"], axis=1)\n",
    "test_df = test_df.drop(cols_to_drop, axis=1)"
   ]
  },
  {
   "cell_type": "code",
   "execution_count": 12,
   "metadata": {},
   "outputs": [
    {
     "name": "stdout",
     "output_type": "stream",
     "text": [
      "channelGrouping\n",
      "device.browser\n",
      "device.deviceCategory\n",
      "device.operatingSystem\n",
      "geoNetwork.city\n",
      "geoNetwork.continent\n",
      "geoNetwork.country\n",
      "geoNetwork.metro\n",
      "geoNetwork.networkDomain\n",
      "geoNetwork.region\n",
      "geoNetwork.subContinent\n",
      "trafficSource.adContent\n",
      "trafficSource.adwordsClickInfo.adNetworkType\n",
      "trafficSource.adwordsClickInfo.gclId\n",
      "trafficSource.adwordsClickInfo.page\n",
      "trafficSource.adwordsClickInfo.slot\n",
      "trafficSource.campaign\n",
      "trafficSource.keyword\n",
      "trafficSource.medium\n",
      "trafficSource.referralPath\n",
      "trafficSource.source\n",
      "trafficSource.adwordsClickInfo.isVideoAd\n",
      "trafficSource.isTrueDirect\n"
     ]
    }
   ],
   "source": [
    "### 填0、label encode 、分出验证集，训练集。还有测试集。\n",
    "# Impute 0 for missing target values\n",
    "train_df[\"totals.transactionRevenue\"].fillna(0, inplace=True)\n",
    "train_y = train_df[\"totals.transactionRevenue\"].values\n",
    "train_id = train_df[\"fullVisitorId\"].values\n",
    "test_id = test_df[\"fullVisitorId\"].values\n",
    "\n",
    "\n",
    "# label encode the categorical variables and convert the numerical variables to float\n",
    "cat_cols = [\"channelGrouping\", \"device.browser\", \n",
    "            \"device.deviceCategory\", \"device.operatingSystem\", \n",
    "            \"geoNetwork.city\", \"geoNetwork.continent\", \n",
    "            \"geoNetwork.country\", \"geoNetwork.metro\",\n",
    "            \"geoNetwork.networkDomain\", \"geoNetwork.region\", \n",
    "            \"geoNetwork.subContinent\", \"trafficSource.adContent\", \n",
    "            \"trafficSource.adwordsClickInfo.adNetworkType\", \n",
    "            \"trafficSource.adwordsClickInfo.gclId\", \n",
    "            \"trafficSource.adwordsClickInfo.page\", \n",
    "            \"trafficSource.adwordsClickInfo.slot\", \"trafficSource.campaign\",\n",
    "            \"trafficSource.keyword\", \"trafficSource.medium\", \n",
    "            \"trafficSource.referralPath\", \"trafficSource.source\",\n",
    "            'trafficSource.adwordsClickInfo.isVideoAd', 'trafficSource.isTrueDirect']\n",
    "\n",
    "for col in cat_cols:\n",
    "    print(col)\n",
    "    lbl = preprocessing.LabelEncoder()\n",
    "    lbl.fit(list(train_df[col].values.astype('str')) + list(test_df[col].values.astype('str')))\n",
    "    train_df[col] = lbl.transform(list(train_df[col].values.astype('str')))\n",
    "    test_df[col] = lbl.transform(list(test_df[col].values.astype('str')))\n",
    "\n",
    "\n",
    "num_cols = [\"totals.hits\", \"totals.pageviews\", \"visitNumber\", \"visitStartTime\", 'totals.bounces',  'totals.newVisits']\n",
    "for col in num_cols:\n",
    "    train_df[col] = train_df[col].astype(float)\n",
    "    test_df[col] = test_df[col].astype(float)\n",
    "\n",
    "# Split the train dataset into development and valid based on time \n",
    "dev_df = train_df[train_df['date']<=datetime.date(2017,5,31)]\n",
    "val_df = train_df[train_df['date']>datetime.date(2017,5,31)]\n",
    "dev_y = np.log1p(dev_df[\"totals.transactionRevenue\"].values)\n",
    "val_y = np.log1p(val_df[\"totals.transactionRevenue\"].values)\n",
    "\n",
    "dev_X = dev_df[cat_cols + num_cols] \n",
    "val_X = val_df[cat_cols + num_cols] \n",
    "test_X = test_df[cat_cols + num_cols] \n",
    "# print(num_cols+cat_cols)"
   ]
  },
  {
   "cell_type": "code",
   "execution_count": 13,
   "metadata": {},
   "outputs": [
    {
     "name": "stdout",
     "output_type": "stream",
     "text": [
      "<class 'pandas.core.frame.DataFrame'>\n",
      "Int64Index: 765707 entries, 0 to 903652\n",
      "Data columns (total 29 columns):\n",
      "channelGrouping                                 765707 non-null int64\n",
      "device.browser                                  765707 non-null int64\n",
      "device.deviceCategory                           765707 non-null int64\n",
      "device.operatingSystem                          765707 non-null int64\n",
      "geoNetwork.city                                 765707 non-null int64\n",
      "geoNetwork.continent                            765707 non-null int64\n",
      "geoNetwork.country                              765707 non-null int64\n",
      "geoNetwork.metro                                765707 non-null int64\n",
      "geoNetwork.networkDomain                        765707 non-null int64\n",
      "geoNetwork.region                               765707 non-null int64\n",
      "geoNetwork.subContinent                         765707 non-null int64\n",
      "trafficSource.adContent                         765707 non-null int64\n",
      "trafficSource.adwordsClickInfo.adNetworkType    765707 non-null int64\n",
      "trafficSource.adwordsClickInfo.gclId            765707 non-null int64\n",
      "trafficSource.adwordsClickInfo.page             765707 non-null int64\n",
      "trafficSource.adwordsClickInfo.slot             765707 non-null int64\n",
      "trafficSource.campaign                          765707 non-null int64\n",
      "trafficSource.keyword                           765707 non-null int64\n",
      "trafficSource.medium                            765707 non-null int64\n",
      "trafficSource.referralPath                      765707 non-null int64\n",
      "trafficSource.source                            765707 non-null int64\n",
      "trafficSource.adwordsClickInfo.isVideoAd        765707 non-null int64\n",
      "trafficSource.isTrueDirect                      765707 non-null int64\n",
      "totals.hits                                     765707 non-null float64\n",
      "totals.pageviews                                765630 non-null float64\n",
      "visitNumber                                     765707 non-null float64\n",
      "visitStartTime                                  765707 non-null float64\n",
      "totals.bounces                                  381281 non-null float64\n",
      "totals.newVisits                                598244 non-null float64\n",
      "dtypes: float64(6), int64(23)\n",
      "memory usage: 175.3 MB\n"
     ]
    }
   ],
   "source": [
    "dev_X.info()"
   ]
  },
  {
   "cell_type": "code",
   "execution_count": 14,
   "metadata": {},
   "outputs": [
    {
     "data": {
      "text/plain": [
       "1.0    381281\n",
       "Name: totals.bounces, dtype: int64"
      ]
     },
     "execution_count": 14,
     "metadata": {},
     "output_type": "execute_result"
    }
   ],
   "source": [
    "dev_X[\"totals.bounces\"].value_counts()"
   ]
  },
  {
   "cell_type": "code",
   "execution_count": 15,
   "metadata": {},
   "outputs": [
    {
     "data": {
      "text/plain": [
       "1.0    598244\n",
       "Name: totals.newVisits, dtype: int64"
      ]
     },
     "execution_count": 15,
     "metadata": {},
     "output_type": "execute_result"
    }
   ],
   "source": [
    "dev_X[\"totals.newVisits\"].value_counts()"
   ]
  },
  {
   "cell_type": "code",
   "execution_count": 32,
   "metadata": {},
   "outputs": [
    {
     "name": "stderr",
     "output_type": "stream",
     "text": [
      "/home/baitong/tensorflow/lib/python3.6/site-packages/pandas/core/generic.py:5434: SettingWithCopyWarning:\n",
      "\n",
      "\n",
      "A value is trying to be set on a copy of a slice from a DataFrame\n",
      "\n",
      "See the caveats in the documentation: http://pandas.pydata.org/pandas-docs/stable/indexing.html#indexing-view-versus-copy\n",
      "\n"
     ]
    },
    {
     "data": {
      "text/html": [
       "<div>\n",
       "<style scoped>\n",
       "    .dataframe tbody tr th:only-of-type {\n",
       "        vertical-align: middle;\n",
       "    }\n",
       "\n",
       "    .dataframe tbody tr th {\n",
       "        vertical-align: top;\n",
       "    }\n",
       "\n",
       "    .dataframe thead th {\n",
       "        text-align: right;\n",
       "    }\n",
       "</style>\n",
       "<table border=\"1\" class=\"dataframe\">\n",
       "  <thead>\n",
       "    <tr style=\"text-align: right;\">\n",
       "      <th></th>\n",
       "      <th>count</th>\n",
       "      <th>mean</th>\n",
       "      <th>std</th>\n",
       "      <th>min</th>\n",
       "      <th>25%</th>\n",
       "      <th>50%</th>\n",
       "      <th>75%</th>\n",
       "      <th>max</th>\n",
       "    </tr>\n",
       "    <tr>\n",
       "      <th>totals.bounces</th>\n",
       "      <th></th>\n",
       "      <th></th>\n",
       "      <th></th>\n",
       "      <th></th>\n",
       "      <th></th>\n",
       "      <th></th>\n",
       "      <th></th>\n",
       "      <th></th>\n",
       "    </tr>\n",
       "  </thead>\n",
       "  <tbody>\n",
       "    <tr>\n",
       "      <th>0.0</th>\n",
       "      <td>384426.0</td>\n",
       "      <td>3.344460e+06</td>\n",
       "      <td>7.510953e+07</td>\n",
       "      <td>0.0</td>\n",
       "      <td>0.0</td>\n",
       "      <td>0.0</td>\n",
       "      <td>0.0</td>\n",
       "      <td>2.312950e+10</td>\n",
       "    </tr>\n",
       "    <tr>\n",
       "      <th>1.0</th>\n",
       "      <td>381281.0</td>\n",
       "      <td>0.000000e+00</td>\n",
       "      <td>0.000000e+00</td>\n",
       "      <td>0.0</td>\n",
       "      <td>0.0</td>\n",
       "      <td>0.0</td>\n",
       "      <td>0.0</td>\n",
       "      <td>0.000000e+00</td>\n",
       "    </tr>\n",
       "  </tbody>\n",
       "</table>\n",
       "</div>"
      ],
      "text/plain": [
       "                   count          mean           std  min  25%  50%  75%  \\\n",
       "totals.bounces                                                             \n",
       "0.0             384426.0  3.344460e+06  7.510953e+07  0.0  0.0  0.0  0.0   \n",
       "1.0             381281.0  0.000000e+00  0.000000e+00  0.0  0.0  0.0  0.0   \n",
       "\n",
       "                         max  \n",
       "totals.bounces                \n",
       "0.0             2.312950e+10  \n",
       "1.0             0.000000e+00  "
      ]
     },
     "execution_count": 32,
     "metadata": {},
     "output_type": "execute_result"
    }
   ],
   "source": [
    "dev_df[\"totals.bounces\"].fillna(0, inplace=True)\n",
    "\n",
    "dev_df.groupby('totals.bounces')['totals.transactionRevenue'].describe()"
   ]
  },
  {
   "cell_type": "code",
   "execution_count": 34,
   "metadata": {},
   "outputs": [
    {
     "data": {
      "text/plain": [
       "totals.bounces  totals.transactionRevenue\n",
       "0.0             0.000000e+00                 374931\n",
       "                1.699000e+07                    229\n",
       "                3.359000e+07                    184\n",
       "                1.899000e+07                    165\n",
       "                4.479000e+07                    157\n",
       "                5.599000e+07                    110\n",
       "                1.999000e+07                    100\n",
       "                1.359000e+07                     98\n",
       "                1.919000e+07                     80\n",
       "                1.599000e+07                     76\n",
       "                5.999000e+07                     76\n",
       "                2.499000e+07                     73\n",
       "                1.519000e+07                     72\n",
       "                1.099000e+07                     67\n",
       "                2.718000e+07                     52\n",
       "                2.719000e+07                     49\n",
       "                7.999000e+07                     49\n",
       "                3.999000e+07                     47\n",
       "                3.398000e+07                     45\n",
       "                6.718000e+07                     44\n",
       "                2.199000e+07                     39\n",
       "                1.990000e+06                     38\n",
       "                1.759000e+07                     37\n",
       "                3.039000e+07                     37\n",
       "                3.199000e+07                     36\n",
       "                2.798000e+07                     34\n",
       "                3.598000e+07                     34\n",
       "                1.299000e+07                     33\n",
       "                3.038000e+07                     30\n",
       "                2.878000e+07                     28\n",
       "                                              ...  \n",
       "                2.399700e+09                      1\n",
       "                2.438870e+09                      1\n",
       "                2.485970e+09                      1\n",
       "                2.538480e+09                      1\n",
       "                2.545000e+09                      1\n",
       "                2.687400e+09                      1\n",
       "                2.733050e+09                      1\n",
       "                2.771110e+09                      1\n",
       "                2.870000e+09                      1\n",
       "                2.880450e+09                      1\n",
       "                3.022200e+09                      1\n",
       "                3.026100e+09                      1\n",
       "                3.171220e+09                      1\n",
       "                3.388800e+09                      1\n",
       "                3.670920e+09                      1\n",
       "                4.007080e+09                      1\n",
       "                4.085500e+09                      1\n",
       "                4.198500e+09                      1\n",
       "                4.272000e+09                      1\n",
       "                4.847600e+09                      1\n",
       "                5.601400e+09                      1\n",
       "                5.614440e+09                      1\n",
       "                6.826960e+09                      1\n",
       "                6.996500e+09                      1\n",
       "                8.248800e+09                      1\n",
       "                8.677830e+09                      1\n",
       "                1.602375e+10                      1\n",
       "                1.785550e+10                      1\n",
       "                2.312950e+10                      1\n",
       "1.0             0.000000e+00                 381281\n",
       "Name: totals.transactionRevenue, Length: 4506, dtype: int64"
      ]
     },
     "execution_count": 34,
     "metadata": {},
     "output_type": "execute_result"
    }
   ],
   "source": [
    "dev_df.groupby('totals.bounces')['totals.transactionRevenue'].value_counts()"
   ]
  },
  {
   "cell_type": "code",
   "execution_count": null,
   "metadata": {},
   "outputs": [],
   "source": []
  }
 ],
 "metadata": {
  "kernelspec": {
   "display_name": "tensorflow",
   "language": "python",
   "name": "tensorflow"
  },
  "language_info": {
   "codemirror_mode": {
    "name": "ipython",
    "version": 3
   },
   "file_extension": ".py",
   "mimetype": "text/x-python",
   "name": "python",
   "nbconvert_exporter": "python",
   "pygments_lexer": "ipython3",
   "version": "3.6.4"
  }
 },
 "nbformat": 4,
 "nbformat_minor": 2
}
